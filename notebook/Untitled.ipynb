{
 "cells": [
  {
   "cell_type": "code",
   "execution_count": 2,
   "id": "307fc1f5-79a6-4feb-af99-08e8dd832a0b",
   "metadata": {
    "tags": []
   },
   "outputs": [
    {
     "name": "stderr",
     "output_type": "stream",
     "text": [
      "/opt/conda/lib/python3.10/site-packages/scipy/__init__.py:146: UserWarning: A NumPy version >=1.16.5 and <1.23.0 is required for this version of SciPy (detected version 1.23.5\n",
      "  warnings.warn(f\"A NumPy version >={np_minversion} and <{np_maxversion}\"\n"
     ]
    }
   ],
   "source": [
    "import faiss\n",
    "import numpy as np\n",
    "import pandas as pd\n",
    "import torch\n",
    "import torch.nn.functional as F\n",
    "from datasets import load_dataset, load_from_disk\n",
    "from faiss import read_index, write_index\n",
    "from sentence_transformers import SentenceTransformer"
   ]
  },
  {
   "cell_type": "code",
   "execution_count": 3,
   "id": "b2e26dac-a8a5-44a8-98be-b854fb818871",
   "metadata": {
    "tags": []
   },
   "outputs": [],
   "source": [
    "paraphs_parsed_dataset = load_from_disk(\"../input/all-paraphs-parsed-expanded\")"
   ]
  },
  {
   "cell_type": "code",
   "execution_count": 4,
   "id": "d533a557-6c1e-433e-bf41-4cc97d9ccff2",
   "metadata": {
    "tags": []
   },
   "outputs": [],
   "source": [
    "df = pd.DataFrame(paraphs_parsed_dataset)"
   ]
  },
  {
   "cell_type": "code",
   "execution_count": 5,
   "id": "d5acf6b1-3295-492a-a8f1-d161aa634020",
   "metadata": {
    "tags": []
   },
   "outputs": [
    {
     "data": {
      "text/plain": [
       "(2101279, 3)"
      ]
     },
     "execution_count": 5,
     "metadata": {},
     "output_type": "execute_result"
    }
   ],
   "source": [
    "df.shape"
   ]
  },
  {
   "cell_type": "code",
   "execution_count": 7,
   "id": "2e9f7bd3-1b24-4dc3-ae0c-3aa5d3f0509a",
   "metadata": {
    "tags": []
   },
   "outputs": [],
   "source": [
    "df[\"length\"] = df[\"text\"].apply(lambda x: len(x.split()))"
   ]
  },
  {
   "cell_type": "code",
   "execution_count": 16,
   "id": "8bc610e6-a4b7-424b-8434-e9a0819f10b2",
   "metadata": {
    "tags": []
   },
   "outputs": [
    {
     "name": "stdout",
     "output_type": "stream",
     "text": [
      "INFO: Pandarallel will run on 12 workers.\n",
      "INFO: Pandarallel will use Memory file system to transfer data between the main process and workers.\n"
     ]
    },
    {
     "data": {
      "application/vnd.jupyter.widget-view+json": {
       "model_id": "6d83a1a829ea484cb5e71aa5289a077c",
       "version_major": 2,
       "version_minor": 0
      },
      "text/plain": [
       "VBox(children=(HBox(children=(IntProgress(value=0, description='0.00%', max=175107), Label(value='0 / 175107')…"
      ]
     },
     "metadata": {},
     "output_type": "display_data"
    }
   ],
   "source": [
    "import blingfire as bf\n",
    "from pandarallel import pandarallel\n",
    "\n",
    "pandarallel.initialize(progress_bar=True)\n",
    "\n",
    "\n",
    "def extract_chunk_by_sliding_window(text: str, window_size: int, sliding_size: int) -> list[str]:\n",
    "    \"\"\"\n",
    "    text のリストをsliding windowで結合する。window_size個のtextが含まれるまで結合し、sliding_size個ずつずらして結合する。\n",
    "    \"\"\"\n",
    "    _, sentence_offsets = bf.text_to_sentences_and_offsets(text)\n",
    "    text_list = []\n",
    "    for o in sentence_offsets:\n",
    "        if 3 < o[1] - o[0]:\n",
    "            text_list.append(text[o[0] : o[1]])\n",
    "\n",
    "    chunks = []\n",
    "    for i in range(0, len(text_list), sliding_size):\n",
    "        chunk = \" \".join(text_list[i : i + window_size])\n",
    "        chunks.append(chunk)\n",
    "    return chunks\n",
    "\n",
    "\n",
    "df[\"text\"] = df[\"text\"].parallel_apply(lambda x: extract_chunk_by_sliding_window(x, 4, 2))"
   ]
  },
  {
   "cell_type": "code",
   "execution_count": 17,
   "id": "7e5c4aa2-be8b-4f26-a196-6ba2887ce8cc",
   "metadata": {
    "tags": []
   },
   "outputs": [],
   "source": [
    "explode_df = df.explode([\"text\"]).reset_index(drop=True)"
   ]
  },
  {
   "cell_type": "code",
   "execution_count": 19,
   "id": "93175514-2288-4003-a022-74ec9e0d4f82",
   "metadata": {
    "tags": []
   },
   "outputs": [
    {
     "data": {
      "text/plain": [
       "<Axes: >"
      ]
     },
     "execution_count": 19,
     "metadata": {},
     "output_type": "execute_result"
    },
    {
     "data": {
      "image/png": "[encoded data removed]",
      "text/plain": [
       "<Figure size 640x480 with 1 Axes>"
      ]
     },
     "metadata": {},
     "output_type": "display_data"
    }
   ],
   "source": [
    "explode_df[\"length\"] = explode_df[\"text\"].apply(lambda x: len(x.split()))"
   ]
  },
  {
   "cell_type": "code",
   "execution_count": 23,
   "id": "1afc41f7-d314-4c09-a9e1-6eccb5044c8d",
   "metadata": {
    "tags": []
   },
   "outputs": [
    {
     "data": {
      "text/plain": [
       "<Axes: >"
      ]
     },
     "execution_count": 23,
     "metadata": {},
     "output_type": "execute_result"
    },
    {
     "data": {
      "image/png": "[encoded data removed]",
      "text/plain": [
       "<Figure size 640x480 with 1 Axes>"
      ]
     },
     "metadata": {},
     "output_type": "display_data"
    }
   ],
   "source": [
    "explode_df.loc[explode_df[\"length\"] < 400, \"length\"].hist(bins=20)"
   ]
  },
  {
   "cell_type": "code",
   "execution_count": 5,
   "id": "2b4666e1-a7bc-4462-b437-b5dd4090d80a",
   "metadata": {
    "tags": []
   },
   "outputs": [
    {
     "data": {
      "text/plain": [
       "id                                                        96\n",
       "prompt     Who proposed the concept of \"maximal accelerat...\n",
       "A                                                 Max Planck\n",
       "B                                                 Niels Bohr\n",
       "C                                      Eduardo R. Caianiello\n",
       "D                                              Hideki Yukawa\n",
       "E                                            Albert Einstein\n",
       "answer                                                     C\n",
       "context    Born reciprocity > Born reciprocity > However ...\n",
       "Name: 96, dtype: object"
      ]
     },
     "execution_count": 5,
     "metadata": {},
     "output_type": "execute_result"
    }
   ],
   "source": [
    "df = pd.read_csv(\"../preprocessed/332_tfidf/000/train.csv\")\n",
    "a2 = np.load(\"../output/350_1st_infer/tfidf/data2_pred.npy\")\n",
    "df.iloc[96]"
   ]
  },
  {
   "cell_type": "code",
   "execution_count": 6,
   "id": "d6f96619-a642-4c5c-aa4e-cd9109b88b63",
   "metadata": {
    "tags": []
   },
   "outputs": [
    {
     "data": {
      "text/plain": [
       "array([1.5772917e-05, 1.5759566e-05, 9.9985933e-01, 9.4334922e-05,\n",
       "       1.4752143e-05], dtype=float32)"
      ]
     },
     "execution_count": 6,
     "metadata": {},
     "output_type": "execute_result"
    }
   ],
   "source": [
    "a2[96]"
   ]
  },
  {
   "cell_type": "code",
   "execution_count": 4,
   "id": "24c7ba3d-dccd-4d94-8225-60d1aa90533e",
   "metadata": {
    "tags": []
   },
   "outputs": [
    {
     "data": {
      "text/plain": [
       "'Born reciprocity > Born reciprocity > However Born\\'s idea of a quantum metric operator was later taken up by Hideki Yukawa when developing his nonlocal quantum theory in the 1950s. In 1981, Eduardo R. Caianiello proposed a \"maximal acceleration\", similarly as there is a minimal length at Planck scale, and this concept of maximal acceleration has been expanded upon by others. It has also been suggested that Born reciprocity may be the underlying physical reason for the T-duality symmetry in string theory, and that Born reciprocity may be of relevance to developing a quantum geometry.Born chose the term \"reciprocity\" for the reason that in a crystal lattice, the motion of a particle can be described in p-space by means of the reciprocal lattice. Glossary of Lie groups and Lie algebras > M > maximal 1. For \"maximal compact subgroup\", see #compact. 2. For \"maximal torus\", see #torus. Laser > History > Laser In April 1957, Japanese engineer Jun-ichi Nishizawa proposed the concept of a \"semiconductor optical maser\" in a patent application. That that is is that that is not is not is that it it is > That that is is that that is not is not is that it it is > That that is is that that is. \"Not\" is not. Is that it? It is. That that is is that that is not. Is \"\\'not\\' is that\" it? It is. That that is is that that is not \"is not\". Is that it? It is. PHP syntax and semantics > Basic language constructs > Delimiters The PHP processor only parses code within its delimiters. Anything outside its delimiters is sent directly to the output and not parsed by PHP. The only open/close delimiters allowed by PSR-1 are \"<?php\" and \"?>\" or <?= and ?>. Professional wrestling > Industry conventions > Performance aspects I watch championship wrestling from Florida with wrestling commentator Gordon Solie. Is this all \"fake\"? If so, they deserve an Oscar. Psychosexual development > Criticisms > Feminist Some feminists criticize Freud\\'s psychosexual development theory as being sexist and phallocentric, arguing that it was overly informed by his own self-analysis. In response to the Freudian concept of penis envy in the development of the feminine Oedipus complex, the German Neo-Freudian psychoanalyst Karen Horney, counter-proposed that girls instead develop \"Power envy\" rather than penis envy. She also proposed the concept of \"womb and vagina envy\", the male\\'s envy of the female ability to bear children. Some contemporary theorists suggest, in addition to this, the envy of the woman\\'s perceived right to be the kind parent. Library 2.0 > Library 2.0 > Library 2.0 is a proposed concept for library services that facilitate user contributions and other features of Web 2.0, which includes online services such as OPAC systems. The concept is based on Radical Trust, and proponents suggest it will eventually replace traditional libraries. The term \"Library 2.0\" was coined by Michael Casey in 2006 on his blog Library Crunch. Cache prefetching > Methods of hardware prefetching > Stream buffers Stream buffers were developed based on the concept of \"one block lookahead (OBL) scheme\" proposed by Alan Jay Smith. '"
      ]
     },
     "execution_count": 4,
     "metadata": {},
     "output_type": "execute_result"
    }
   ],
   "source": [
    "df.iloc[96].context"
   ]
  },
  {
   "cell_type": "code",
   "execution_count": 3,
   "id": "d1b8c812-d129-4e09-b4bb-286c93889520",
   "metadata": {
    "tags": []
   },
   "outputs": [],
   "source": [
    "a1 = np.load(\"../test_predictions (2).npy\")\n",
    "a2 = np.load(\"../output/350_1st_infer/000/data2_pred.npy\")"
   ]
  },
  {
   "cell_type": "code",
   "execution_count": 5,
   "id": "bb4b204c-b717-415f-9b2b-791aefbfa091",
   "metadata": {
    "tags": []
   },
   "outputs": [
    {
     "data": {
      "text/plain": [
       "array([5.0899638e-05, 1.6020971e-05, 2.6945649e-05, 9.9956685e-01,\n",
       "       3.3927185e-04], dtype=float32)"
      ]
     },
     "execution_count": 5,
     "metadata": {},
     "output_type": "execute_result"
    }
   ],
   "source": [
    "a1[0, :10]"
   ]
  },
  {
   "cell_type": "code",
   "execution_count": 6,
   "id": "25dcbc90-4d3f-4274-993d-9b4ec79b0dfb",
   "metadata": {
    "tags": []
   },
   "outputs": [
    {
     "data": {
      "text/plain": [
       "array([5.0899591e-05, 1.6021109e-05, 2.6945854e-05, 9.9956685e-01,\n",
       "       3.3927124e-04], dtype=float32)"
      ]
     },
     "execution_count": 6,
     "metadata": {},
     "output_type": "execute_result"
    }
   ],
   "source": [
    "a2[0, :10]"
   ]
  },
  {
   "cell_type": "code",
   "execution_count": 6,
   "id": "256d1562-d2f9-4291-8fe0-aa41a1d1444c",
   "metadata": {
    "tags": []
   },
   "outputs": [],
   "source": [
    "df = pd.read_parquet(\"../preprocessed/201_embedding/000/l.parquet\")\n",
    "sentence_embeddings = np.load(\"../preprocessed/201_embedding/000/l.npy\").astype(np.float32, copy=False)"
   ]
  },
  {
   "cell_type": "code",
   "execution_count": 7,
   "id": "f173da12-5f99-4dc3-bc78-1ebc0f3bef37",
   "metadata": {
    "tags": []
   },
   "outputs": [],
   "source": [
    "drop_idx = df[\"section_text\"].str.startswith(\"Notes: &lt;\")\n",
    "sentence_embeddings = sentence_embeddings[~drop_idx]\n",
    "df = df[~drop_idx].reset_index(drop=True)"
   ]
  },
  {
   "cell_type": "code",
   "execution_count": 8,
   "id": "8b3a7b36-315e-44ea-89e4-6a2c647c9bdb",
   "metadata": {
    "tags": []
   },
   "outputs": [
    {
     "data": {
      "text/plain": [
       "((1401590, 2), (1401590, 384))"
      ]
     },
     "execution_count": 8,
     "metadata": {},
     "output_type": "execute_result"
    }
   ],
   "source": [
    "df.shape, sentence_embeddings.shape"
   ]
  },
  {
   "cell_type": "code",
   "execution_count": 9,
   "id": "1fe1c2d4-fdc4-4790-8f24-baa6da796ea2",
   "metadata": {
    "tags": []
   },
   "outputs": [
    {
     "data": {
      "text/html": [
       "<div>\n",
       "<style scoped>\n",
       "    .dataframe tbody tr th:only-of-type {\n",
       "        vertical-align: middle;\n",
       "    }\n",
       "\n",
       "    .dataframe tbody tr th {\n",
       "        vertical-align: top;\n",
       "    }\n",
       "\n",
       "    .dataframe thead th {\n",
       "        text-align: right;\n",
       "    }\n",
       "</style>\n",
       "<table border=\"1\" class=\"dataframe\">\n",
       "  <thead>\n",
       "    <tr style=\"text-align: right;\">\n",
       "      <th></th>\n",
       "      <th>id</th>\n",
       "      <th>section_text</th>\n",
       "    </tr>\n",
       "  </thead>\n",
       "  <tbody>\n",
       "    <tr>\n",
       "      <th>1374970</th>\n",
       "      <td>23473595</td>\n",
       "      <td>Light-year: Distance that light travels in one...</td>\n",
       "    </tr>\n",
       "    <tr>\n",
       "      <th>1374971</th>\n",
       "      <td>23473595</td>\n",
       "      <td>Definitions: As defined by the IAU, the light-...</td>\n",
       "    </tr>\n",
       "    <tr>\n",
       "      <th>1374972</th>\n",
       "      <td>23473595</td>\n",
       "      <td>Another value, , is the product of the J1900.0...</td>\n",
       "    </tr>\n",
       "    <tr>\n",
       "      <th>1374973</th>\n",
       "      <td>23473595</td>\n",
       "      <td>History: The light-year unit appeared a few ye...</td>\n",
       "    </tr>\n",
       "    <tr>\n",
       "      <th>1374974</th>\n",
       "      <td>23473595</td>\n",
       "      <td>In 1868 an English journal labelled the light-...</td>\n",
       "    </tr>\n",
       "    <tr>\n",
       "      <th>1374975</th>\n",
       "      <td>23473595</td>\n",
       "      <td>Usage of term: Distances expressed in light-ye...</td>\n",
       "    </tr>\n",
       "    <tr>\n",
       "      <th>1374976</th>\n",
       "      <td>23473595</td>\n",
       "      <td>Related units: Distances between objects withi...</td>\n",
       "    </tr>\n",
       "  </tbody>\n",
       "</table>\n",
       "</div>"
      ],
      "text/plain": [
       "               id                                       section_text\n",
       "1374970  23473595  Light-year: Distance that light travels in one...\n",
       "1374971  23473595  Definitions: As defined by the IAU, the light-...\n",
       "1374972  23473595  Another value, , is the product of the J1900.0...\n",
       "1374973  23473595  History: The light-year unit appeared a few ye...\n",
       "1374974  23473595  In 1868 an English journal labelled the light-...\n",
       "1374975  23473595  Usage of term: Distances expressed in light-ye...\n",
       "1374976  23473595  Related units: Distances between objects withi..."
      ]
     },
     "execution_count": 9,
     "metadata": {},
     "output_type": "execute_result"
    }
   ],
   "source": [
    "df[df[\"id\"] == \"23473595\"]"
   ]
  },
  {
   "cell_type": "code",
   "execution_count": 10,
   "id": "aeec0698-9fef-42eb-bab4-89576557f6c7",
   "metadata": {
    "tags": []
   },
   "outputs": [
    {
     "data": {
      "text/html": [
       "<div>\n",
       "<style scoped>\n",
       "    .dataframe tbody tr th:only-of-type {\n",
       "        vertical-align: middle;\n",
       "    }\n",
       "\n",
       "    .dataframe tbody tr th {\n",
       "        vertical-align: top;\n",
       "    }\n",
       "\n",
       "    .dataframe thead th {\n",
       "        text-align: right;\n",
       "    }\n",
       "</style>\n",
       "<table border=\"1\" class=\"dataframe\">\n",
       "  <thead>\n",
       "    <tr style=\"text-align: right;\">\n",
       "      <th></th>\n",
       "      <th>id</th>\n",
       "      <th>section_text</th>\n",
       "    </tr>\n",
       "  </thead>\n",
       "  <tbody>\n",
       "    <tr>\n",
       "      <th>1374970</th>\n",
       "      <td>23473595</td>\n",
       "      <td>Light-year: Distance that light travels in one...</td>\n",
       "    </tr>\n",
       "    <tr>\n",
       "      <th>1374971</th>\n",
       "      <td>23473595</td>\n",
       "      <td>Definitions: As defined by the IAU, the light-...</td>\n",
       "    </tr>\n",
       "    <tr>\n",
       "      <th>1374972</th>\n",
       "      <td>23473595</td>\n",
       "      <td>Another value, , is the product of the J1900.0...</td>\n",
       "    </tr>\n",
       "    <tr>\n",
       "      <th>1374973</th>\n",
       "      <td>23473595</td>\n",
       "      <td>History: The light-year unit appeared a few ye...</td>\n",
       "    </tr>\n",
       "    <tr>\n",
       "      <th>1374974</th>\n",
       "      <td>23473595</td>\n",
       "      <td>In 1868 an English journal labelled the light-...</td>\n",
       "    </tr>\n",
       "    <tr>\n",
       "      <th>...</th>\n",
       "      <td>...</td>\n",
       "      <td>...</td>\n",
       "    </tr>\n",
       "    <tr>\n",
       "      <th>1401585</th>\n",
       "      <td>24889426</td>\n",
       "      <td>Words taken directly from Latin and Ancient Gr...</td>\n",
       "    </tr>\n",
       "    <tr>\n",
       "      <th>1401586</th>\n",
       "      <td>24889426</td>\n",
       "      <td>List of English words with dual Old English/Ol...</td>\n",
       "    </tr>\n",
       "    <tr>\n",
       "      <th>1401587</th>\n",
       "      <td>24889718</td>\n",
       "      <td>Lefty (album): Lefty is the seventh solo studi...</td>\n",
       "    </tr>\n",
       "    <tr>\n",
       "      <th>1401588</th>\n",
       "      <td>24889826</td>\n",
       "      <td>List of United States federal courthouses in C...</td>\n",
       "    </tr>\n",
       "    <tr>\n",
       "      <th>1401589</th>\n",
       "      <td>24889840</td>\n",
       "      <td>Larry Howes: American politician\\nLarry Howes ...</td>\n",
       "    </tr>\n",
       "  </tbody>\n",
       "</table>\n",
       "<p>26620 rows × 2 columns</p>\n",
       "</div>"
      ],
      "text/plain": [
       "               id                                       section_text\n",
       "1374970  23473595  Light-year: Distance that light travels in one...\n",
       "1374971  23473595  Definitions: As defined by the IAU, the light-...\n",
       "1374972  23473595  Another value, , is the product of the J1900.0...\n",
       "1374973  23473595  History: The light-year unit appeared a few ye...\n",
       "1374974  23473595  In 1868 an English journal labelled the light-...\n",
       "...           ...                                                ...\n",
       "1401585  24889426  Words taken directly from Latin and Ancient Gr...\n",
       "1401586  24889426  List of English words with dual Old English/Ol...\n",
       "1401587  24889718  Lefty (album): Lefty is the seventh solo studi...\n",
       "1401588  24889826  List of United States federal courthouses in C...\n",
       "1401589  24889840  Larry Howes: American politician\\nLarry Howes ...\n",
       "\n",
       "[26620 rows x 2 columns]"
      ]
     },
     "execution_count": 10,
     "metadata": {},
     "output_type": "execute_result"
    }
   ],
   "source": [
    "df[1374970:]"
   ]
  },
  {
   "cell_type": "code",
   "execution_count": 11,
   "id": "47b12034-a007-45cb-9d4a-86df7130949f",
   "metadata": {
    "tags": []
   },
   "outputs": [],
   "source": [
    "train_df = pd.read_csv(\"../input/kaggle-llm-science-exam/train.csv\")\n",
    "\n",
    "train_df[\"answer_all\"] = train_df.apply(lambda x: \" \".join([x[\"A\"], x[\"B\"], x[\"C\"], x[\"D\"], x[\"E\"]]), axis=1)\n",
    "train_df[\"prompt_answer_stem\"] = train_df[\"prompt\"] + \" \" + train_df[\"answer_all\"]"
   ]
  },
  {
   "cell_type": "code",
   "execution_count": 13,
   "id": "4a754e72-f92c-4ec8-a970-5f5a56823d86",
   "metadata": {},
   "outputs": [
    {
     "data": {
      "text/plain": [
       "SentenceTransformer(\n",
       "  (0): Transformer({'max_seq_length': 386, 'do_lower_case': True}) with Transformer model: BertModel \n",
       "  (1): Pooling({'word_embedding_dimension': 384, 'pooling_mode_cls_token': True, 'pooling_mode_mean_tokens': False, 'pooling_mode_max_tokens': False, 'pooling_mode_mean_sqrt_len_tokens': False})\n",
       ")"
      ]
     },
     "execution_count": 13,
     "metadata": {},
     "output_type": "execute_result"
    }
   ],
   "source": [
    "smodel = SentenceTransformer(\"BAAI/bge-small-en\", device=\"cpu\")\n",
    "smodel.max_seq_length = 386\n",
    "smodel.half()"
   ]
  },
  {
   "cell_type": "code",
   "execution_count": 15,
   "id": "2b9bf235-2291-45b6-bb46-2f2d22e9643c",
   "metadata": {},
   "outputs": [
    {
     "data": {
      "application/vnd.jupyter.widget-view+json": {
       "model_id": "b8d01841694545dd9bc2cfa8588b9ef4",
       "version_major": 2,
       "version_minor": 0
      },
      "text/plain": [
       "Batches:   0%|          | 0/1 [00:00<?, ?it/s]"
      ]
     },
     "metadata": {},
     "output_type": "display_data"
    }
   ],
   "source": [
    "question_embeddings = smodel.encode(\n",
    "    [train_df.iloc[49].prompt_answer_stem],\n",
    "    batch_size=8,\n",
    "    device=\"cuda\",\n",
    "    show_progress_bar=True,\n",
    "    # convert_to_tensor=True,\n",
    "    normalize_embeddings=True,\n",
    ")\n",
    "\n",
    "\n",
    "num_include = 5\n",
    "\n",
    "prompt_index = faiss.index_factory(sentence_embeddings.shape[1], \"Flat\")\n",
    "prompt_index.add(sentence_embeddings[1374970:])\n",
    "ss, ii = prompt_index.search(question_embeddings.astype(\"float32\"), num_include)"
   ]
  },
  {
   "cell_type": "code",
   "execution_count": 16,
   "id": "82a62f3d-1355-40c2-9878-e3d35296ffd3",
   "metadata": {
    "tags": []
   },
   "outputs": [
    {
     "data": {
      "text/plain": [
       "array([[0.08308185, 0.13949133, 0.16772568, 0.1909834 , 0.19430317]],\n",
       "      dtype=float32)"
      ]
     },
     "execution_count": 16,
     "metadata": {},
     "output_type": "execute_result"
    }
   ],
   "source": [
    "ss"
   ]
  },
  {
   "cell_type": "code",
   "execution_count": 17,
   "id": "89e814a1-c3f1-4357-aace-8a5bffc69fe6",
   "metadata": {
    "tags": []
   },
   "outputs": [
    {
     "data": {
      "text/plain": [
       "array([[-7.9574585e-03, -2.4795532e-02,  2.7060509e-05, ...,\n",
       "        -9.7579956e-03, -2.5466919e-02,  5.9783936e-02],\n",
       "       [-6.9824219e-02,  3.4046173e-03, -2.3681641e-02, ...,\n",
       "        -9.3231201e-03,  2.1316528e-02,  5.8197021e-02],\n",
       "       [-7.4096680e-02, -7.6026917e-03,  4.8942566e-03, ...,\n",
       "        -2.3040771e-02,  5.7888031e-04,  4.5196533e-02],\n",
       "       ...,\n",
       "       [-3.2073975e-02, -1.2962341e-02,  3.4729004e-02, ...,\n",
       "        -7.0739746e-02,  2.6275635e-02,  6.4025879e-02],\n",
       "       [-2.2293091e-02, -3.6621094e-02,  1.4968872e-02, ...,\n",
       "        -4.3182373e-03,  3.8238525e-02,  6.6833496e-02],\n",
       "       [-5.4901123e-02, -6.7901611e-03, -1.9897461e-02, ...,\n",
       "        -3.8166046e-03,  1.5182495e-02,  7.9772949e-02]], dtype=float32)"
      ]
     },
     "execution_count": 17,
     "metadata": {},
     "output_type": "execute_result"
    }
   ],
   "source": [
    "sentence_embeddings[1374970:]"
   ]
  },
  {
   "cell_type": "code",
   "execution_count": 18,
   "id": "cd083807-94d0-4647-a7a4-acb102ac71d2",
   "metadata": {
    "tags": []
   },
   "outputs": [
    {
     "data": {
      "text/plain": [
       "'Light-year: Distance that light travels in one year\\nA light-year, alternatively spelled light year, is a large unit of length used to express astronomical distances and is equivalent to about 9.46\\xa0trillion kilometers (), or 5.88\\xa0trillion miles ().\\nAs defined by the International Astronomical Union (IAU), a light-year is the distance that light travels in a vacuum in one Julian year (365.25 days).\\nBecause it includes the time-measurement word \"year\", the term \"light-year\" is sometimes misinterpreted as a unit of time.\\nThe \"light-year\" is most often used when expressing distances to stars and other distances on a galactic scale, especially in non-specialist contexts and popular science publications.\\nThe unit most commonly used in professional astronomy is the parsec (symbol: pc, about 3.26 light-years) which derives from astrometry; it is the distance at which one astronomical unit (au) subtends an angle of one second of arc.'"
      ]
     },
     "execution_count": 18,
     "metadata": {},
     "output_type": "execute_result"
    }
   ],
   "source": [
    "df.iloc[1374970 + ii[0, 0]].section_text"
   ]
  },
  {
   "cell_type": "code",
   "execution_count": 44,
   "id": "a2331dba-e47d-4d2c-a214-d9fd79c7b7e0",
   "metadata": {
    "tags": []
   },
   "outputs": [
    {
     "data": {
      "text/plain": [
       "'Related units: Distances between objects within a star system tend to be small fractions of a light-year, and are usually expressed in astronomical units.\\nHowever, smaller units of length can similarly be formed usefully by multiplying units of time by the speed of light.\\nFor example, the light-second, useful in astronomy, telecommunications and relativistic physics, is exactly metres or &lt;templatestyles src=\"Fraction/styles.css\" /&gt;⁄ of a light-year.\\nUnits such as the light-minute, light-hour and light-day are sometimes used in popular science publications.\\nThe light-month, roughly one-twelfth of a light-year, is also used occasionally for approximate measures.\\nThe Hayden Planetarium specifies the light month more precisely as 30 days of light travel time.\\nLight travels approximately one foot in a nanosecond; the term \"light-foot\" is sometimes used as an informal measure of time.'"
      ]
     },
     "execution_count": 44,
     "metadata": {},
     "output_type": "execute_result"
    }
   ],
   "source": [
    "df.iloc[1374970 + ii[0, 1]].section_text"
   ]
  },
  {
   "cell_type": "code",
   "execution_count": null,
   "id": "06653a44-3dff-42ad-b72b-79626495798f",
   "metadata": {},
   "outputs": [],
   "source": []
  }
 ],
 "metadata": {
  "kernelspec": {
   "display_name": "Python [conda env:root] *",
   "language": "python",
   "name": "conda-root-py"
  },
  "language_info": {
   "codemirror_mode": {
    "name": "ipython",
    "version": 3
   },
   "file_extension": ".py",
   "mimetype": "text/x-python",
   "name": "python",
   "nbconvert_exporter": "python",
   "pygments_lexer": "ipython3",
   "version": "3.10.12"
  }
 },
 "nbformat": 4,
 "nbformat_minor": 5
}
