{
 "cells": [
  {
   "cell_type": "code",
   "execution_count": 94,
   "id": "307fc1f5-79a6-4feb-af99-08e8dd832a0b",
   "metadata": {
    "tags": []
   },
   "outputs": [],
   "source": [
    "import faiss\n",
    "import numpy as np\n",
    "import pandas as pd\n",
    "import seaborn as sns\n",
    "import torch\n",
    "import torch.nn.functional as F\n",
    "from datasets import load_dataset, load_from_disk\n",
    "from faiss import read_index, write_index\n",
    "from matplotlib import pyplot as plt\n",
    "from sentence_transformers import SentenceTransformer\n",
    "\n",
    "sns.set()\n",
    "%matplotlib inline"
   ]
  },
  {
   "cell_type": "code",
   "execution_count": 8,
   "id": "58f2ce2d-a069-4ec7-8f81-5510038e1861",
   "metadata": {
    "tags": []
   },
   "outputs": [],
   "source": [
    "import torch\n",
    "from torch import nn\n",
    "\n",
    "loss = nn.CrossEntropyLoss()\n",
    "input = torch.randn(3, 1)\n",
    "target = torch.randn(3, 1).softmax(dim=1)\n",
    "output = loss(input, target)"
   ]
  },
  {
   "cell_type": "code",
   "execution_count": 9,
   "id": "7a0342fc-daad-4ccd-9589-cd9e37e565ab",
   "metadata": {
    "tags": []
   },
   "outputs": [
    {
     "name": "stdout",
     "output_type": "stream",
     "text": [
      "tensor([[-2.7565],\n",
      "        [-0.9472],\n",
      "        [ 0.4171]])\n",
      "tensor([[1.],\n",
      "        [1.],\n",
      "        [1.]])\n",
      "tensor(-0.)\n"
     ]
    }
   ],
   "source": [
    "print(input)\n",
    "print(target)\n",
    "print(output)"
   ]
  },
  {
   "cell_type": "code",
   "execution_count": 183,
   "id": "a960fd7d-aaa7-4943-a575-048776e7248f",
   "metadata": {
    "tags": []
   },
   "outputs": [],
   "source": [
    "# https://www.kaggle.com/code/philippsinger/h2ogpt-perplexity-ranking\n",
    "def precision_at_k(r, k):\n",
    "    \"\"\"Precision at k\"\"\"\n",
    "    assert k <= len(r)\n",
    "    assert k != 0\n",
    "    return sum(int(x) for x in r[:k]) / k\n",
    "\n",
    "\n",
    "def map_k(true_items, predictions, K=3):\n",
    "    \"\"\"Score is mean average precision at 3\"\"\"\n",
    "    U = len(predictions)\n",
    "    map_at_k = 0.0\n",
    "    for u in range(U):\n",
    "        user_preds = predictions[u]\n",
    "        user_true = true_items[u]\n",
    "        user_results = [1 if item == user_true else 0 for item in user_preds]\n",
    "        for k in range(min(len(user_preds), K)):\n",
    "            map_at_k += precision_at_k(user_results, k + 1) * user_results[k]\n",
    "    return map_at_k / U\n",
    "\n",
    "\n",
    "def predictions_to_map_output(predictions):\n",
    "    sorted_answer_indices = np.argsort(-predictions)  # Sortting indices in descending order\n",
    "    top_answer_indices = sorted_answer_indices[:, :]  # Taking the first three indices for each row\n",
    "    top_answers = np.vectorize(index_to_option.get)(\n",
    "        top_answer_indices\n",
    "    )  # Transforming indices to options - i.e., 0 --> A\n",
    "    return np.apply_along_axis(lambda row: \" \".join(row), 1, top_answers)"
   ]
  },
  {
   "cell_type": "code",
   "execution_count": 184,
   "id": "327c2f86-400f-40ec-bfea-6d33ac1da041",
   "metadata": {
    "tags": []
   },
   "outputs": [],
   "source": [
    "df = pd.read_csv(\"../preprocessed/332_tfidf/000/data2.csv\")\n",
    "max_prob = np.load(\"../output/600_max/111/data2_pred.npy\")"
   ]
  },
  {
   "cell_type": "code",
   "execution_count": 185,
   "id": "ec77f176-2b7a-4098-b56e-1195796242fd",
   "metadata": {
    "tags": []
   },
   "outputs": [],
   "source": [
    "miss_id = [\n",
    "    13,\n",
    "    28,\n",
    "    39,\n",
    "    65,\n",
    "    201,\n",
    "    205,\n",
    "    207,\n",
    "    213,\n",
    "    217,\n",
    "    226,\n",
    "    228,\n",
    "    245,\n",
    "    251,\n",
    "    254,\n",
    "    258,\n",
    "    260,\n",
    "    262,\n",
    "    270,\n",
    "    278,\n",
    "    284,\n",
    "    286,\n",
    "    296,\n",
    "    308,\n",
    "    312,\n",
    "    314,\n",
    "    338,\n",
    "    347,\n",
    "    373,\n",
    "    389,\n",
    "    413,\n",
    "    417,\n",
    "    420,\n",
    "    422,\n",
    "    430,\n",
    "    438,\n",
    "    440,\n",
    "    444,\n",
    "    445,\n",
    "    454,\n",
    "    465,\n",
    "    467,\n",
    "    478,\n",
    "    486,\n",
    "    491,\n",
    "    494,\n",
    "    507,\n",
    "    508,\n",
    "    509,\n",
    "    515,\n",
    "    530,\n",
    "    531,\n",
    "    550,\n",
    "    569,\n",
    "    574,\n",
    "    586,\n",
    "    593,\n",
    "    612,\n",
    "    631,\n",
    "    641,\n",
    "    646,\n",
    "    647,\n",
    "    648,\n",
    "    656,\n",
    "    659,\n",
    "    666,\n",
    "    667,\n",
    "    668,\n",
    "    669,\n",
    "    670,\n",
    "    676,\n",
    "    677,\n",
    "    689,\n",
    "    690,\n",
    "    696,\n",
    "    698,\n",
    "    699,\n",
    "    705,\n",
    "    716,\n",
    "    735,\n",
    "    748,\n",
    "    771,\n",
    "    773,\n",
    "    779,\n",
    "    795,\n",
    "    802,\n",
    "    803,\n",
    "    804,\n",
    "    806,\n",
    "    828,\n",
    "    840,\n",
    "    841,\n",
    "    843,\n",
    "    854,\n",
    "    856,\n",
    "    860,\n",
    "    864,\n",
    "    874,\n",
    "    884,\n",
    "    905,\n",
    "    914,\n",
    "    916,\n",
    "    921,\n",
    "    928,\n",
    "    938,\n",
    "    950,\n",
    "    957,\n",
    "    961,\n",
    "    965,\n",
    "    971,\n",
    "    974,\n",
    "    975,\n",
    "    979,\n",
    "    981,\n",
    "    995,\n",
    "    1008,\n",
    "    1009,\n",
    "    1011,\n",
    "    1018,\n",
    "    1026,\n",
    "    1055,\n",
    "    1058,\n",
    "    1061,\n",
    "    1067,\n",
    "    1078,\n",
    "    1083,\n",
    "    1125,\n",
    "    1134,\n",
    "    1143,\n",
    "    1157,\n",
    "    1159,\n",
    "    1165,\n",
    "    1180,\n",
    "    1183,\n",
    "    1185,\n",
    "    1188,\n",
    "    1194,\n",
    "]\n",
    "df[\"missed\"] = False\n",
    "df.loc[miss_id, \"missed\"] = True"
   ]
  },
  {
   "cell_type": "code",
   "execution_count": 254,
   "id": "f33887f7-5669-4067-9486-6e362d9fb3e1",
   "metadata": {
    "tags": []
   },
   "outputs": [
    {
     "data": {
      "text/html": [
       "<div>\n",
       "<style scoped>\n",
       "    .dataframe tbody tr th:only-of-type {\n",
       "        vertical-align: middle;\n",
       "    }\n",
       "\n",
       "    .dataframe tbody tr th {\n",
       "        vertical-align: top;\n",
       "    }\n",
       "\n",
       "    .dataframe thead th {\n",
       "        text-align: right;\n",
       "    }\n",
       "</style>\n",
       "<table border=\"1\" class=\"dataframe\">\n",
       "  <thead>\n",
       "    <tr style=\"text-align: right;\">\n",
       "      <th></th>\n",
       "      <th>prompt</th>\n",
       "      <th>A</th>\n",
       "      <th>B</th>\n",
       "      <th>C</th>\n",
       "      <th>D</th>\n",
       "      <th>E</th>\n",
       "      <th>answer</th>\n",
       "      <th>context</th>\n",
       "      <th>missed</th>\n",
       "      <th>first_prob</th>\n",
       "      <th>...</th>\n",
       "      <th>third_prob</th>\n",
       "      <th>prob_diff</th>\n",
       "      <th>prob_diff23</th>\n",
       "      <th>first_option</th>\n",
       "      <th>second_option</th>\n",
       "      <th>third_option</th>\n",
       "      <th>answer_location</th>\n",
       "      <th>first_len</th>\n",
       "      <th>second_len</th>\n",
       "      <th>third_len</th>\n",
       "    </tr>\n",
       "  </thead>\n",
       "  <tbody>\n",
       "    <tr>\n",
       "      <th>13</th>\n",
       "      <td>What is the Roche limit?</td>\n",
       "      <td>The Roche limit is the distance at which tidal...</td>\n",
       "      <td>The Roche limit is the distance at which tidal...</td>\n",
       "      <td>The Roche limit is the distance at which tidal...</td>\n",
       "      <td>The Roche limit is the distance at which tidal...</td>\n",
       "      <td>The Roche limit is the distance at which tidal...</td>\n",
       "      <td>D</td>\n",
       "      <td>Roche limit &gt; Roche limit &gt; In celestial mecha...</td>\n",
       "      <td>True</td>\n",
       "      <td>0.947438</td>\n",
       "      <td>...</td>\n",
       "      <td>0.000206</td>\n",
       "      <td>0.113090</td>\n",
       "      <td>0.834142</td>\n",
       "      <td>E</td>\n",
       "      <td>D</td>\n",
       "      <td>C</td>\n",
       "      <td>second</td>\n",
       "      <td>302</td>\n",
       "      <td>183</td>\n",
       "      <td>160</td>\n",
       "    </tr>\n",
       "    <tr>\n",
       "      <th>28</th>\n",
       "      <td>What is the evidence for the existence of a su...</td>\n",
       "      <td>The Milky Way galaxy has a supermassive black ...</td>\n",
       "      <td>The Milky Way galaxy has a supermassive black ...</td>\n",
       "      <td>The Milky Way galaxy has a supermassive black ...</td>\n",
       "      <td>The Milky Way galaxy has a supermassive black ...</td>\n",
       "      <td>The star S2 follows an elliptical orbit with a...</td>\n",
       "      <td>E</td>\n",
       "      <td>Supermassive black hole &gt; Evidence &gt; From the ...</td>\n",
       "      <td>True</td>\n",
       "      <td>0.740287</td>\n",
       "      <td>...</td>\n",
       "      <td>0.088746</td>\n",
       "      <td>0.186392</td>\n",
       "      <td>0.465149</td>\n",
       "      <td>B</td>\n",
       "      <td>E</td>\n",
       "      <td>D</td>\n",
       "      <td>second</td>\n",
       "      <td>662</td>\n",
       "      <td>587</td>\n",
       "      <td>242</td>\n",
       "    </tr>\n",
       "    <tr>\n",
       "      <th>39</th>\n",
       "      <td>What is the synapstor or synapse transistor?</td>\n",
       "      <td>A device used to demonstrate a neuro-inspired ...</td>\n",
       "      <td>A device used to demonstrate a neuro-inspired ...</td>\n",
       "      <td>A device used to demonstrate a neuro-inspired ...</td>\n",
       "      <td>A device used to demonstrate a neuro-inspired ...</td>\n",
       "      <td>A device used to demonstrate a neuro-inspired ...</td>\n",
       "      <td>E</td>\n",
       "      <td>Memristor &gt; Implementations &gt; In July 2008, Er...</td>\n",
       "      <td>True</td>\n",
       "      <td>0.457426</td>\n",
       "      <td>...</td>\n",
       "      <td>0.259200</td>\n",
       "      <td>0.046802</td>\n",
       "      <td>0.151424</td>\n",
       "      <td>A</td>\n",
       "      <td>E</td>\n",
       "      <td>D</td>\n",
       "      <td>second</td>\n",
       "      <td>134</td>\n",
       "      <td>133</td>\n",
       "      <td>132</td>\n",
       "    </tr>\n",
       "    <tr>\n",
       "      <th>65</th>\n",
       "      <td>What is the relevant type of coherence for the...</td>\n",
       "      <td>Visibility</td>\n",
       "      <td>Coherence time</td>\n",
       "      <td>Spatial coherence</td>\n",
       "      <td>Coherence length</td>\n",
       "      <td>Diameter of the coherence area (Ac)</td>\n",
       "      <td>E</td>\n",
       "      <td>Coherence (physics) &gt; Spatial coherence &gt; In s...</td>\n",
       "      <td>True</td>\n",
       "      <td>0.999891</td>\n",
       "      <td>...</td>\n",
       "      <td>0.020956</td>\n",
       "      <td>0.751069</td>\n",
       "      <td>0.227865</td>\n",
       "      <td>C</td>\n",
       "      <td>E</td>\n",
       "      <td>B</td>\n",
       "      <td>second</td>\n",
       "      <td>17</td>\n",
       "      <td>35</td>\n",
       "      <td>14</td>\n",
       "    </tr>\n",
       "    <tr>\n",
       "      <th>201</th>\n",
       "      <td>What is the process of dissimilar friction sti...</td>\n",
       "      <td>Welding of different base metals using a rotat...</td>\n",
       "      <td>Melting of different base metals using a frict...</td>\n",
       "      <td>Melting and stirring together of different bas...</td>\n",
       "      <td>Joining different base metals using a friction...</td>\n",
       "      <td>Softening of different base metals using a fri...</td>\n",
       "      <td>D</td>\n",
       "      <td>Dissimilar friction stir welding &gt; Dissimilar ...</td>\n",
       "      <td>True</td>\n",
       "      <td>0.957765</td>\n",
       "      <td>...</td>\n",
       "      <td>0.031789</td>\n",
       "      <td>0.673573</td>\n",
       "      <td>0.252403</td>\n",
       "      <td>E</td>\n",
       "      <td>D</td>\n",
       "      <td>A</td>\n",
       "      <td>second</td>\n",
       "      <td>170</td>\n",
       "      <td>102</td>\n",
       "      <td>107</td>\n",
       "    </tr>\n",
       "    <tr>\n",
       "      <th>205</th>\n",
       "      <td>What is the versatile characteristic of pyrido...</td>\n",
       "      <td>PLP binds to substrates in a non-covalent mann...</td>\n",
       "      <td>PLP acts as a reducing agent in redox reaction...</td>\n",
       "      <td>PLP stabilizes different types of carbanionic ...</td>\n",
       "      <td>PLP exhibits strong binding affinity towards m...</td>\n",
       "      <td>PLP is able to carry out more than 140 enzymat...</td>\n",
       "      <td>C</td>\n",
       "      <td>Aromatic L-amino acid decarboxylase &gt; Mechanis...</td>\n",
       "      <td>True</td>\n",
       "      <td>0.991318</td>\n",
       "      <td>...</td>\n",
       "      <td>0.000407</td>\n",
       "      <td>0.883911</td>\n",
       "      <td>0.107001</td>\n",
       "      <td>E</td>\n",
       "      <td>C</td>\n",
       "      <td>B</td>\n",
       "      <td>second</td>\n",
       "      <td>121</td>\n",
       "      <td>118</td>\n",
       "      <td>94</td>\n",
       "    </tr>\n",
       "    <tr>\n",
       "      <th>207</th>\n",
       "      <td>What is the spectral type of Gliese 208?</td>\n",
       "      <td>M3</td>\n",
       "      <td>K4</td>\n",
       "      <td>K7</td>\n",
       "      <td>M0</td>\n",
       "      <td>M2</td>\n",
       "      <td>D</td>\n",
       "      <td>Gliese 208 &gt; Gliese 208 &gt; Gliese 208 (Gj 208) ...</td>\n",
       "      <td>True</td>\n",
       "      <td>0.919524</td>\n",
       "      <td>...</td>\n",
       "      <td>0.102329</td>\n",
       "      <td>0.273142</td>\n",
       "      <td>0.544053</td>\n",
       "      <td>C</td>\n",
       "      <td>D</td>\n",
       "      <td>A</td>\n",
       "      <td>second</td>\n",
       "      <td>2</td>\n",
       "      <td>2</td>\n",
       "      <td>2</td>\n",
       "    </tr>\n",
       "    <tr>\n",
       "      <th>213</th>\n",
       "      <td>What are salts and esters of caprylic acid kno...</td>\n",
       "      <td>Saturated fatty acid</td>\n",
       "      <td>Octanoates</td>\n",
       "      <td>Carboxylic acid</td>\n",
       "      <td>Octanoic acid</td>\n",
       "      <td>Caprylates</td>\n",
       "      <td>E</td>\n",
       "      <td>Caprylic acid &gt; Caprylic acid &gt; Caprylic acid ...</td>\n",
       "      <td>True</td>\n",
       "      <td>0.954763</td>\n",
       "      <td>...</td>\n",
       "      <td>0.000102</td>\n",
       "      <td>0.685142</td>\n",
       "      <td>0.269519</td>\n",
       "      <td>B</td>\n",
       "      <td>E</td>\n",
       "      <td>D</td>\n",
       "      <td>second</td>\n",
       "      <td>10</td>\n",
       "      <td>10</td>\n",
       "      <td>13</td>\n",
       "    </tr>\n",
       "    <tr>\n",
       "      <th>217</th>\n",
       "      <td>What is the main component of the lipopigments...</td>\n",
       "      <td>Nucleic acids</td>\n",
       "      <td>Proteins</td>\n",
       "      <td>Carbohydrates</td>\n",
       "      <td>Minerals</td>\n",
       "      <td>Lipids</td>\n",
       "      <td>B</td>\n",
       "      <td>Neuronal ceroid lipofuscinosis &gt; Neuronal cero...</td>\n",
       "      <td>True</td>\n",
       "      <td>0.981499</td>\n",
       "      <td>...</td>\n",
       "      <td>0.011301</td>\n",
       "      <td>0.677940</td>\n",
       "      <td>0.292258</td>\n",
       "      <td>E</td>\n",
       "      <td>B</td>\n",
       "      <td>A</td>\n",
       "      <td>second</td>\n",
       "      <td>6</td>\n",
       "      <td>8</td>\n",
       "      <td>13</td>\n",
       "    </tr>\n",
       "    <tr>\n",
       "      <th>226</th>\n",
       "      <td>What is the significance of aquaglyceroporins?</td>\n",
       "      <td>Aquaglyceroporins are proteins found exclusive...</td>\n",
       "      <td>Aquaglyceroporins are proteins that are widely...</td>\n",
       "      <td>Aquaglyceroporins are proteins that are predom...</td>\n",
       "      <td>Aquaglyceroporins are proteins that are unique...</td>\n",
       "      <td>Aquaglyceroporins are proteins that conduct wa...</td>\n",
       "      <td>E</td>\n",
       "      <td>Aquaglyceroporins &gt; Aquaglyceroporins &gt; Aquagl...</td>\n",
       "      <td>True</td>\n",
       "      <td>0.990507</td>\n",
       "      <td>...</td>\n",
       "      <td>0.031919</td>\n",
       "      <td>0.910541</td>\n",
       "      <td>0.048047</td>\n",
       "      <td>B</td>\n",
       "      <td>E</td>\n",
       "      <td>D</td>\n",
       "      <td>second</td>\n",
       "      <td>139</td>\n",
       "      <td>191</td>\n",
       "      <td>166</td>\n",
       "    </tr>\n",
       "  </tbody>\n",
       "</table>\n",
       "<p>10 rows × 21 columns</p>\n",
       "</div>"
      ],
      "text/plain": [
       "                                                prompt  \\\n",
       "13                            What is the Roche limit?   \n",
       "28   What is the evidence for the existence of a su...   \n",
       "39        What is the synapstor or synapse transistor?   \n",
       "65   What is the relevant type of coherence for the...   \n",
       "201  What is the process of dissimilar friction sti...   \n",
       "205  What is the versatile characteristic of pyrido...   \n",
       "207           What is the spectral type of Gliese 208?   \n",
       "213  What are salts and esters of caprylic acid kno...   \n",
       "217  What is the main component of the lipopigments...   \n",
       "226     What is the significance of aquaglyceroporins?   \n",
       "\n",
       "                                                     A  \\\n",
       "13   The Roche limit is the distance at which tidal...   \n",
       "28   The Milky Way galaxy has a supermassive black ...   \n",
       "39   A device used to demonstrate a neuro-inspired ...   \n",
       "65                                          Visibility   \n",
       "201  Welding of different base metals using a rotat...   \n",
       "205  PLP binds to substrates in a non-covalent mann...   \n",
       "207                                                 M3   \n",
       "213                               Saturated fatty acid   \n",
       "217                                      Nucleic acids   \n",
       "226  Aquaglyceroporins are proteins found exclusive...   \n",
       "\n",
       "                                                     B  \\\n",
       "13   The Roche limit is the distance at which tidal...   \n",
       "28   The Milky Way galaxy has a supermassive black ...   \n",
       "39   A device used to demonstrate a neuro-inspired ...   \n",
       "65                                      Coherence time   \n",
       "201  Melting of different base metals using a frict...   \n",
       "205  PLP acts as a reducing agent in redox reaction...   \n",
       "207                                                 K4   \n",
       "213                                         Octanoates   \n",
       "217                                           Proteins   \n",
       "226  Aquaglyceroporins are proteins that are widely...   \n",
       "\n",
       "                                                     C  \\\n",
       "13   The Roche limit is the distance at which tidal...   \n",
       "28   The Milky Way galaxy has a supermassive black ...   \n",
       "39   A device used to demonstrate a neuro-inspired ...   \n",
       "65                                   Spatial coherence   \n",
       "201  Melting and stirring together of different bas...   \n",
       "205  PLP stabilizes different types of carbanionic ...   \n",
       "207                                                 K7   \n",
       "213                                    Carboxylic acid   \n",
       "217                                      Carbohydrates   \n",
       "226  Aquaglyceroporins are proteins that are predom...   \n",
       "\n",
       "                                                     D  \\\n",
       "13   The Roche limit is the distance at which tidal...   \n",
       "28   The Milky Way galaxy has a supermassive black ...   \n",
       "39   A device used to demonstrate a neuro-inspired ...   \n",
       "65                                    Coherence length   \n",
       "201  Joining different base metals using a friction...   \n",
       "205  PLP exhibits strong binding affinity towards m...   \n",
       "207                                                 M0   \n",
       "213                                      Octanoic acid   \n",
       "217                                           Minerals   \n",
       "226  Aquaglyceroporins are proteins that are unique...   \n",
       "\n",
       "                                                     E answer  \\\n",
       "13   The Roche limit is the distance at which tidal...      D   \n",
       "28   The star S2 follows an elliptical orbit with a...      E   \n",
       "39   A device used to demonstrate a neuro-inspired ...      E   \n",
       "65                 Diameter of the coherence area (Ac)      E   \n",
       "201  Softening of different base metals using a fri...      D   \n",
       "205  PLP is able to carry out more than 140 enzymat...      C   \n",
       "207                                                 M2      D   \n",
       "213                                         Caprylates      E   \n",
       "217                                             Lipids      B   \n",
       "226  Aquaglyceroporins are proteins that conduct wa...      E   \n",
       "\n",
       "                                               context  missed  first_prob  \\\n",
       "13   Roche limit > Roche limit > In celestial mecha...    True    0.947438   \n",
       "28   Supermassive black hole > Evidence > From the ...    True    0.740287   \n",
       "39   Memristor > Implementations > In July 2008, Er...    True    0.457426   \n",
       "65   Coherence (physics) > Spatial coherence > In s...    True    0.999891   \n",
       "201  Dissimilar friction stir welding > Dissimilar ...    True    0.957765   \n",
       "205  Aromatic L-amino acid decarboxylase > Mechanis...    True    0.991318   \n",
       "207  Gliese 208 > Gliese 208 > Gliese 208 (Gj 208) ...    True    0.919524   \n",
       "213  Caprylic acid > Caprylic acid > Caprylic acid ...    True    0.954763   \n",
       "217  Neuronal ceroid lipofuscinosis > Neuronal cero...    True    0.981499   \n",
       "226  Aquaglyceroporins > Aquaglyceroporins > Aquagl...    True    0.990507   \n",
       "\n",
       "     ...  third_prob  prob_diff  prob_diff23  first_option second_option  \\\n",
       "13   ...    0.000206   0.113090     0.834142             E             D   \n",
       "28   ...    0.088746   0.186392     0.465149             B             E   \n",
       "39   ...    0.259200   0.046802     0.151424             A             E   \n",
       "65   ...    0.020956   0.751069     0.227865             C             E   \n",
       "201  ...    0.031789   0.673573     0.252403             E             D   \n",
       "205  ...    0.000407   0.883911     0.107001             E             C   \n",
       "207  ...    0.102329   0.273142     0.544053             C             D   \n",
       "213  ...    0.000102   0.685142     0.269519             B             E   \n",
       "217  ...    0.011301   0.677940     0.292258             E             B   \n",
       "226  ...    0.031919   0.910541     0.048047             B             E   \n",
       "\n",
       "    third_option answer_location first_len  second_len  third_len  \n",
       "13             C          second       302         183        160  \n",
       "28             D          second       662         587        242  \n",
       "39             D          second       134         133        132  \n",
       "65             B          second        17          35         14  \n",
       "201            A          second       170         102        107  \n",
       "205            B          second       121         118         94  \n",
       "207            A          second         2           2          2  \n",
       "213            D          second        10          10         13  \n",
       "217            A          second         6           8         13  \n",
       "226            D          second       139         191        166  \n",
       "\n",
       "[10 rows x 21 columns]"
      ]
     },
     "execution_count": 254,
     "metadata": {},
     "output_type": "execute_result"
    }
   ],
   "source": [
    "\"\"\"\n",
    "まずやりたいのは、secondに正解が来ているものがどれくらいあるのかを調べる必要がある\n",
    "\"\"\"\n",
    "\n",
    "first_prob = np.sort(max_prob)[:, -1]\n",
    "second_prob = np.sort(max_prob)[:, -2]\n",
    "third_prob = np.sort(max_prob)[:, -3]\n",
    "prob_diff = first_prob - second_prob\n",
    "df[\"first_prob\"] = first_prob\n",
    "df[\"second_prob\"] = second_prob\n",
    "df[\"third_prob\"] = third_prob\n",
    "df[\"prob_diff\"] = prob_diff\n",
    "df[\"prob_diff23\"] = second_prob - third_prob\n",
    "\n",
    "option_to_index = {option: idx for idx, option in enumerate(\"ABCDE\")}\n",
    "index_to_option = {v: k for k, v in option_to_index.items()}\n",
    "first_option = np.argsort(max_prob)[:, -1]\n",
    "df[\"first_option\"] = first_option\n",
    "df[\"first_option\"] = df[\"first_option\"].map(index_to_option)\n",
    "second_option = np.argsort(max_prob)[:, -2]\n",
    "df[\"second_option\"] = second_option\n",
    "df[\"second_option\"] = df[\"second_option\"].map(index_to_option)\n",
    "third_option = np.argsort(max_prob)[:, -3]\n",
    "df[\"third_option\"] = third_option\n",
    "df[\"third_option\"] = df[\"third_option\"].map(index_to_option)\n",
    "\n",
    "df[\"first_len\"] = 0\n",
    "df[\"second_len\"] = 0\n",
    "df[\"third_len\"] = 0\n",
    "for i, row in df.iterrows():\n",
    "    df.loc[i, \"first_len\"] = len(row[row[\"first_option\"]])\n",
    "    df.loc[i, \"second_len\"] = len(row[row[\"second_option\"]])\n",
    "    df.loc[i, \"third_len\"] = len(row[row[\"third_option\"]])\n",
    "\n",
    "# 正解がfirst, second, other のどれかを見る\n",
    "df[\"answer_location\"] = \"other\"\n",
    "df.loc[df[\"first_option\"] == df[\"answer\"], \"answer_location\"] = \"first\"\n",
    "df.loc[df[\"second_option\"] == df[\"answer\"], \"answer_location\"] = \"second\"\n",
    "df.loc[df[\"third_option\"] == df[\"answer\"], \"answer_location\"] = \"third\"\n",
    "\n",
    "df[df[\"missed\"]].head(10)"
   ]
  },
  {
   "cell_type": "code",
   "execution_count": 266,
   "id": "9c2a917f-c939-4de6-855d-38e042523f61",
   "metadata": {
    "tags": []
   },
   "outputs": [
    {
     "data": {
      "text/plain": [
       "<Axes: xlabel='prob_diff', ylabel='Count'>"
      ]
     },
     "execution_count": 266,
     "metadata": {},
     "output_type": "execute_result"
    },
    {
     "data": {
      "image/png": "[encoded data removed]",
      "text/plain": [
       "<Figure size 640x480 with 1 Axes>"
      ]
     },
     "metadata": {},
     "output_type": "display_data"
    }
   ],
   "source": [
    "condition = df[\"prob_diff\"] < 0.9\n",
    "\n",
    "tmp_df = df.loc[condition]\n",
    "sns.histplot(data=tmp_df, x=\"prob_diff\", hue=\"answer_location\", multiple=\"stack\", binwidth=0.05)"
   ]
  },
  {
   "cell_type": "code",
   "execution_count": 265,
   "id": "f86e4e3c-dda9-4a4f-8266-547b415e75ad",
   "metadata": {
    "tags": []
   },
   "outputs": [
    {
     "data": {
      "text/plain": [
       "<Axes: xlabel='prob_diff', ylabel='Count'>"
      ]
     },
     "execution_count": 265,
     "metadata": {},
     "output_type": "execute_result"
    },
    {
     "data": {
      "image/png": "[encoded data removed]",
      "text/plain": [
       "<Figure size 640x480 with 1 Axes>"
      ]
     },
     "metadata": {},
     "output_type": "display_data"
    }
   ],
   "source": [
    "condition = (\n",
    "    (df[\"first_len\"] - df[\"second_len\"] < -20)\n",
    "    & (0.05 <= df[\"prob_diff23\"])\n",
    "    & (0.0 < df[\"first_prob\"])\n",
    "    & (df[\"first_prob\"] < 0.99)\n",
    ")\n",
    "\n",
    "tmp_df = df.loc[condition]\n",
    "sns.histplot(data=tmp_df, x=\"prob_diff\", hue=\"answer_location\", multiple=\"stack\", binwidth=0.05)"
   ]
  },
  {
   "cell_type": "code",
   "execution_count": 214,
   "id": "9d1fd3cd-ae47-4be0-80f2-790ed6a94515",
   "metadata": {
    "tags": []
   },
   "outputs": [
    {
     "data": {
      "text/plain": [
       "0.9105555555555563"
      ]
     },
     "execution_count": 214,
     "metadata": {},
     "output_type": "execute_result"
    }
   ],
   "source": [
    "map_k(df[\"answer\"].to_numpy(), predictions_to_map_output(max_prob))"
   ]
  },
  {
   "cell_type": "code",
   "execution_count": 188,
   "id": "651d9884-61b4-4771-b9ae-e61cc64a0843",
   "metadata": {
    "tags": []
   },
   "outputs": [
    {
     "data": {
      "text/plain": [
       "0.9105555555555563"
      ]
     },
     "execution_count": 188,
     "metadata": {},
     "output_type": "execute_result"
    }
   ],
   "source": [
    "\"\"\"\n",
    "後処理に使えそうな特徴量を追加\n",
    "\"\"\"\n",
    "\n",
    "model = SentenceTransformer(\"intfloat/multilingual-e5-small\", device=\"cuda\")\n",
    "model.max_seq_length = \"512\"\n",
    "model.half()\n",
    "\n",
    "\n",
    "def get_sim(row: dict[str, str]) -> np.ndarray:\n",
    "    \"\"\"\n",
    "    tfidfを計算する\n",
    "    \"\"\"\n",
    "    # tfidfの計算\n",
    "    tfidf = TfidfVectorizer()\n",
    "    base_cols = [\"A\", \"B\", \"C\", \"D\", \"E\"]\n",
    "    fit_cols = base_cols + [\"prompt\"]\n",
    "    tfidf_vec = tfidf.fit([row[col] for col in fit_cols])\n",
    "    # base_cols と context の 類似度を計算\n",
    "    base_vec = tfidf_vec.transform([row[col] for col in base_cols])\n",
    "    context_vec = tfidf_vec.transform([row[\"context\"]])\n",
    "    sim = cosine_similarity(base_vec, context_vec)\n",
    "    return sim\n",
    "\n",
    "\n",
    "print(\"tfidfを計算\")\n",
    "tfidf_array = []\n",
    "for _, row in tqdm(df.iterrows(), total=len(df)):\n",
    "    tfidf_array.append(get_tfidf(row))\n",
    "tfidf_array = np.array(tfidf_array).squeeze()\n",
    "print(f\"tfidf_array:{tfidf_array.shape}\")"
   ]
  },
  {
   "cell_type": "code",
   "execution_count": 189,
   "id": "0fdcced6-8e6c-4964-afb6-368d4557baa7",
   "metadata": {
    "tags": []
   },
   "outputs": [
    {
     "name": "stdout",
     "output_type": "stream",
     "text": [
      "tfidfを計算\n"
     ]
    },
    {
     "data": {
      "application/vnd.jupyter.widget-view+json": {
       "model_id": "9012b06be133460fad0e91febd738ee2",
       "version_major": 2,
       "version_minor": 0
      },
      "text/plain": [
       "  0%|          | 0/1200 [00:00<?, ?it/s]"
      ]
     },
     "metadata": {},
     "output_type": "display_data"
    },
    {
     "name": "stdout",
     "output_type": "stream",
     "text": [
      "tfidf_array:(1200, 5)\n"
     ]
    }
   ],
   "source": [
    "\"\"\"\n",
    "後処理に使えそうな特徴量を追加\n",
    "\"\"\"\n",
    "\n",
    "\n",
    "from sklearn.feature_extraction.text import TfidfVectorizer\n",
    "from sklearn.metrics.pairwise import cosine_similarity\n",
    "from tqdm.auto import tqdm\n",
    "\n",
    "\n",
    "def get_tfidf(row: dict[str, str]) -> np.ndarray:\n",
    "    \"\"\"\n",
    "    tfidfを計算する\n",
    "    \"\"\"\n",
    "    # tfidfの計算\n",
    "    tfidf = TfidfVectorizer()\n",
    "    base_cols = [\"A\", \"B\", \"C\", \"D\", \"E\"]\n",
    "    fit_cols = base_cols + [\"context\", \"prompt\"]\n",
    "    tfidf_vec = tfidf.fit([row[col] for col in fit_cols])\n",
    "    # base_cols と context の 類似度を計算\n",
    "    base_vec = tfidf_vec.transform([row[col] for col in base_cols])\n",
    "    context_vec = tfidf_vec.transform([row[\"context\"]])\n",
    "    sim = cosine_similarity(base_vec, context_vec)\n",
    "    return sim\n",
    "\n",
    "\n",
    "print(\"tfidfを計算\")\n",
    "tfidf_array = []\n",
    "for _, row in tqdm(df.iterrows(), total=len(df)):\n",
    "    tfidf_array.append(get_tfidf(row))\n",
    "tfidf_array = np.array(tfidf_array).squeeze()\n",
    "print(f\"tfidf_array:{tfidf_array.shape}\")"
   ]
  },
  {
   "cell_type": "code",
   "execution_count": 213,
   "id": "7e8145fb-45b6-4240-bf85-725701ee64fe",
   "metadata": {
    "tags": []
   },
   "outputs": [
    {
     "data": {
      "text/plain": [
       "0.902500000000001"
      ]
     },
     "execution_count": 213,
     "metadata": {},
     "output_type": "execute_result"
    },
    {
     "data": {
      "image/png": "[encoded data removed]",
      "text/plain": [
       "<Figure size 640x480 with 1 Axes>"
      ]
     },
     "metadata": {},
     "output_type": "display_data"
    }
   ],
   "source": [
    "condition = (0.1 <= df[\"prob_diff23\"]) & (0.0 < df[\"first_prob\"]) & (df[\"first_prob\"] < 0.99) & (df[\"prob_diff\"] < 0.7)\n",
    "\n",
    "tmp_df = df.loc[condition]\n",
    "sns.histplot(data=tmp_df, x=\"prob_diff\", hue=\"answer_location\", multiple=\"stack\", binwidth=0.05)\n",
    "\n",
    "new_prob = max_prob.copy()\n",
    "new_prob[condition] = new_prob[condition] * tfidf_array[condition]\n",
    "map_k(df[\"answer\"].to_numpy(), predictions_to_map_output(new_prob))"
   ]
  },
  {
   "cell_type": "code",
   "execution_count": null,
   "id": "1f9a2933-e44e-4568-9bef-d75287a3200d",
   "metadata": {},
   "outputs": [],
   "source": [
    "new_prob"
   ]
  },
  {
   "cell_type": "code",
   "execution_count": null,
   "id": "50f757d7-ac2e-418e-8ba6-585c0d52b709",
   "metadata": {},
   "outputs": [],
   "source": []
  },
  {
   "cell_type": "code",
   "execution_count": null,
   "id": "57fb633a-f84d-4432-8fef-645038ca1fe6",
   "metadata": {},
   "outputs": [],
   "source": []
  },
  {
   "cell_type": "code",
   "execution_count": null,
   "id": "9c673459-e3b3-4fab-9a81-2ed9619c89a0",
   "metadata": {},
   "outputs": [],
   "source": []
  },
  {
   "cell_type": "code",
   "execution_count": 267,
   "id": "ca0d6edf-1667-4bbf-934d-b694a202fa4c",
   "metadata": {
    "tags": []
   },
   "outputs": [],
   "source": [
    "df = pd.read_csv(\"../preprocessed/332_tfidf/000/data2.csv\")\n",
    "a2 = np.load(\"../output/350_1st_infer/tfidf/data2_pred.npy\")\n",
    "max_prob = np.load(\"../output/600_max/111/data2_pred.npy\")"
   ]
  },
  {
   "cell_type": "code",
   "execution_count": 270,
   "id": "6a9180b9-27f8-43fd-9f26-effbb13b425b",
   "metadata": {
    "tags": []
   },
   "outputs": [
    {
     "name": "stdout",
     "output_type": "stream",
     "text": [
      "[0.01685394 0.04468321 0.6128799  0.3098685  0.01571451]\n",
      "[0.10232925 0.07728194 0.91952443 0.6463822  0.06445388]\n",
      "【Prompt】  What is the spectral type of Gliese 208?\n",
      "【Answer D】  M0\n",
      "【C】  K7\n",
      "【Context】  Gliese 208 > Gliese 208 > Gliese 208 (Gj 208) is a red dwarf star with an apparent magnitude of 8.9. It is 37 light years away in the constellation of Orion. It is an extremely wide binary with 2MASS J0536+1117, an M4 star 2.6 arcminutes away (at least 0.028 light years) The spectral type of Gj 208 has variously been described between K6 and M1. Two of the most recent observations give a statistically calculated spectral type of K7.9 or a more traditional classification of M0.0 Ve. It is a cool dwarf star and probably a spectroscopic binary.Calculations from 2010 suggest that this star passed as close as 1.537 parsecs (5.0 light-years) from the Sun about 500,000 years ago.GJ 208 is an RS Canum Venaticorum variable, close binary systems which show small amplitude brightness changes caused by chromospheric activity. Its visual magnitude varies by about a quarter magnitude with a period of 12.285 days. Gliese 693 > Gliese 693 > Gliese 693 is a red dwarf star and a flare star of spectral type M2 located in the constellation Pavo, 18.95 light-years from Earth. Stars and planetary systems in fiction > List of planetary systems in fiction > GK Persei (Nova Persei 1901) This nova figures in the plot of H. P. Lovecraft's short story \"Beyond the Wall of Sleep\". Gliese 581 (GJ 581, Wolf 562) Gliese 581d is a known (but unconfirmed) exoplanet that was the setting of the Doctor Who episode Smile. The planet was the site of one of humanity's earliest colonies following the evacuation of the Earth. Gliese 581 appeared in the eighth episode of the space opera Anime Star Blazers: Space Battleship Yamato 2199, where the Yamato found itself trapped between the star and a gas-based biological weapon. Wolfgang Herrndorf's novel Sand refers to Gliese 581d as the character Helen Gliese is assigned a bungalow with the number 581d in a Moroccan holiday resort. Gliese 687 (GJ 687) Revelation Space universe (2000–), novels and stories by Alastair Reynolds. The planet Haven, one of the Demarchist polities, orbits Gliese 687. Gliese 710 Gliese 710 is the name of a song in the 2022 King Gizzard & the Lizard Wizard album Ice, Death, Planets, Lungs, Mushrooms and Lava. Gliese 570 > Star system > The primary star of the system (component A) is an orange dwarf star that may just have over three fourths the mass of the Sun, about 77 percent of its radius, and only 15.6 percent of its visual luminosity. It has a separation of 190 astronomical units from the binary components B and C, moving in an eccentric orbit that takes at least 2130 years to complete. Gliese 570 A is spectral type K4V and emits X-rays. Radial velocities of the primary obtained in the course of an extrasolar planet search at Lick Observatory show a linear trend probably due to the orbital motion of the Gliese 570 BC system around the primary.A binary system in their own right, components B and C are both rather dim red dwarf stars that have less mass, radius, and luminosity than the Sun. Component B is spectral type M1V, component C is spectral type M3V, and both emit X-rays. HD 122563 > Spectral type > The spectral type of HD 122563 is one of characteristics which initially indicated its peculiarity. In the Bright Star Catalogue its spectral type is given as F8 IV, but its color index indicates a surface temperature much cooler than an F8 star should be. Because the spectral type of a star in the A to K star regime is judged by the relative strengths of the absorption lines of the metals relative to the hydrogen Balmer lines, the extreme metal deficiency results in weak metal lines and yields a spuriously early spectral type. If the spectral classification is performed including the metal deficiency, the result is a rather later type, G8:III: Fe-5. 1998 Titius > Physical characteristics > Spectral type Its spectral classification is that of a Xc-type asteroid in the SMASS taxonomy, a transitional spectral type between the two large main groups of metallic X-type and carbonaceous C-type asteroids. Both types are much darker than the stony S-type asteroids, which are also very common in the inner main-belt. In addition, Titius is also classified as a M-type asteroid by WISE. Gliese 876 e > Gliese 876 e > Gliese 876 e is an exoplanet orbiting the star Gliese 876 in the constellation of Aquarius. It is in a 1:2:4 Laplace resonance with the planets Gliese 876 c and Gliese 876 b: for each orbit of planet e, planet b completes two orbits and planet c completes four. This configuration is the second known example of a Laplace resonance after Jupiter's moons Io, Europa and Ganymede. Its orbit takes 124 days to complete. Gliese 649 b > Gliese 649 b > Gliese 649 b , or Gl 649 b is an extrasolar planet, orbiting the 10th magnitude M-type star Gliese 649, 10 parsecs from earth. This planet is a sub-Jupiter, massing 0.328 Jupiter mass and orbits at 1.135 AU. Gliese 486 > Nomenclature > The designation Gliese 486 comes from the Gliese Catalogue of Nearby Stars. This was the 486th star listed in the first edition of the catalogue. In August 2022, this planetary system was included among 20 systems to be named by the third NameExoWorlds project. The approved names, proposed by a team from Spain, were announced in June 2023. Gliese 486 is named Gar and its planet is named Su, after the Basque words for \"flame\" and \"fire\". \n"
     ]
    }
   ],
   "source": [
    "index = 207\n",
    "print(a2[index])\n",
    "print(max_prob[index])\n",
    "print(\"【Prompt】 \", df.iloc[index][\"prompt\"])\n",
    "answer = df.iloc[index][\"answer\"]\n",
    "print(f\"【Answer {answer}】 \", df.iloc[index][df.iloc[index][\"answer\"]])\n",
    "option_to_index = {option: idx for idx, option in enumerate(\"ABCDE\")}\n",
    "index_to_option = {v: k for k, v in option_to_index.items()}\n",
    "max_prob_option = index_to_option[np.argmax(a2[index])]\n",
    "print(f\"【{max_prob_option}】 \", df.iloc[index][max_prob_option])\n",
    "print(\"【Context】 \", df.iloc[index][\"context\"])"
   ]
  },
  {
   "cell_type": "code",
   "execution_count": null,
   "id": "b9ebbb3e-b4e2-4730-8d38-b3cd8777caf7",
   "metadata": {},
   "outputs": [],
   "source": []
  },
  {
   "cell_type": "code",
   "execution_count": null,
   "id": "2f2abd89-22bd-4ec3-a4de-8afad9625500",
   "metadata": {},
   "outputs": [],
   "source": []
  },
  {
   "cell_type": "code",
   "execution_count": 4,
   "id": "7d8c0345-1c73-48a0-948d-b626cc7f49e4",
   "metadata": {
    "tags": []
   },
   "outputs": [
    {
     "data": {
      "text/html": [
       "<div>\n",
       "<style scoped>\n",
       "    .dataframe tbody tr th:only-of-type {\n",
       "        vertical-align: middle;\n",
       "    }\n",
       "\n",
       "    .dataframe tbody tr th {\n",
       "        vertical-align: top;\n",
       "    }\n",
       "\n",
       "    .dataframe thead th {\n",
       "        text-align: right;\n",
       "    }\n",
       "</style>\n",
       "<table border=\"1\" class=\"dataframe\">\n",
       "  <thead>\n",
       "    <tr style=\"text-align: right;\">\n",
       "      <th></th>\n",
       "      <th>context</th>\n",
       "    </tr>\n",
       "  </thead>\n",
       "  <tbody>\n",
       "    <tr>\n",
       "      <th>0</th>\n",
       "      <td>Russell Epstein &gt; Russell Epstein &gt; Russell Ep...</td>\n",
       "    </tr>\n",
       "    <tr>\n",
       "      <th>1</th>\n",
       "      <td>Russell Epstein &gt; Education &gt; Epstein received...</td>\n",
       "    </tr>\n",
       "    <tr>\n",
       "      <th>2</th>\n",
       "      <td>Ambient device &gt; Ambient device &gt; Ambient devi...</td>\n",
       "    </tr>\n",
       "    <tr>\n",
       "      <th>3</th>\n",
       "      <td>Ambient device &gt; Purpose &gt; The purpose of ambi...</td>\n",
       "    </tr>\n",
       "    <tr>\n",
       "      <th>4</th>\n",
       "      <td>Ambient device &gt; History &gt; The concept of ambi...</td>\n",
       "    </tr>\n",
       "  </tbody>\n",
       "</table>\n",
       "</div>"
      ],
      "text/plain": [
       "                                             context\n",
       "0  Russell Epstein > Russell Epstein > Russell Ep...\n",
       "1  Russell Epstein > Education > Epstein received...\n",
       "2  Ambient device > Ambient device > Ambient devi...\n",
       "3  Ambient device > Purpose > The purpose of ambi...\n",
       "4  Ambient device > History > The concept of ambi..."
      ]
     },
     "execution_count": 4,
     "metadata": {},
     "output_type": "execute_result"
    }
   ],
   "source": [
    "df = pd.read_parquet(\"../dataset/llm-science-filter-index/500_index/all-paraphs-parsed-expanded.parquet\")\n",
    "\n",
    "df.head()"
   ]
  },
  {
   "cell_type": "code",
   "execution_count": 5,
   "id": "2875a079-1932-429f-9f45-afeed946dac0",
   "metadata": {
    "tags": []
   },
   "outputs": [],
   "source": [
    "df[\"length\"] = df.context.str.len()"
   ]
  },
  {
   "cell_type": "code",
   "execution_count": 9,
   "id": "cb7b8960-3ec1-4253-8688-29537813c96c",
   "metadata": {
    "tags": []
   },
   "outputs": [
    {
     "data": {
      "text/plain": [
       "<Axes: >"
      ]
     },
     "execution_count": 9,
     "metadata": {},
     "output_type": "execute_result"
    },
    {
     "data": {
      "image/png": "[encoded data removed]",
      "text/plain": [
       "<Figure size 640x480 with 1 Axes>"
      ]
     },
     "metadata": {},
     "output_type": "display_data"
    }
   ],
   "source": [
    "df.loc[df[\"length\"] < 10000, \"length\"].hist(bins=20)"
   ]
  },
  {
   "cell_type": "code",
   "execution_count": null,
   "id": "50570667-fabd-4d2b-a334-4ee949bd935e",
   "metadata": {},
   "outputs": [],
   "source": []
  },
  {
   "cell_type": "code",
   "execution_count": 25,
   "id": "aebb5e5b-375c-4a01-888d-c2d5bcacfebe",
   "metadata": {
    "tags": []
   },
   "outputs": [],
   "source": [
    "df = pd.read_csv(\"../preprocessed/332_tfidf/000/train.csv\")"
   ]
  },
  {
   "cell_type": "code",
   "execution_count": 64,
   "id": "f99ad244-895e-4a9e-b8e3-59a94d119a40",
   "metadata": {
    "tags": []
   },
   "outputs": [],
   "source": [
    "import re\n",
    "\n",
    "\n",
    "def clean_prompt_answer(i):\n",
    "    if \"What is\" in i.prompt:\n",
    "        answer = \"\"\n",
    "        answer = answer + i.prompt[7:-1] + \" \" + \"is that\" + \" \" + i.A\n",
    "        answer = answer + i.prompt[7:-1] + \" \" + \"is that\" + \" \" + i.B\n",
    "        answer = answer + i.prompt[7:-1] + \" \" + \"is that\" + \" \" + i.C\n",
    "        answer = answer + i.prompt[7:-1] + \" \" + \"is that\" + \" \" + i.D\n",
    "        answer = answer + i.prompt[7:-1] + \" \" + \"is that\" + \" \" + i.E\n",
    "    elif \"What was\" in i.prompt:\n",
    "        answer = \"\"\n",
    "        answer = answer + i.prompt[8:-1] + \" \" + \"was that\" + \" \" + i.A\n",
    "        answer = answer + i.prompt[8:-1] + \" \" + \"was that\" + \" \" + i.B\n",
    "        answer = answer + i.prompt[8:-1] + \" \" + \"was that\" + \" \" + i.C\n",
    "        answer = answer + i.prompt[8:-1] + \" \" + \"was that\" + \" \" + i.D\n",
    "        answer = answer + i.prompt[8:-1] + \" \" + \"was that\" + \" \" + i.E\n",
    "    elif \"What are\" in i.prompt:\n",
    "        answer = \"\"\n",
    "        answer = answer + i.prompt[8:-1] + \" \" + \"are that\" + \" \" + i.A\n",
    "        answer = answer + i.prompt[8:-1] + \" \" + \"are that\" + \" \" + i.B\n",
    "        answer = answer + i.prompt[8:-1] + \" \" + \"are that\" + \" \" + i.C\n",
    "        answer = answer + i.prompt[8:-1] + \" \" + \"are that\" + \" \" + i.D\n",
    "        answer = answer + i.prompt[8:-1] + \" \" + \"are that\" + \" \" + i.E\n",
    "    elif \"What were\" in i.prompt:\n",
    "        answer = \"\"\n",
    "        answer = answer + i.prompt[9:-1] + \" \" + \"were that\" + \" \" + i.A\n",
    "        answer = answer + i.prompt[9:-1] + \" \" + \"were that\" + \" \" + i.B\n",
    "        answer = answer + i.prompt[9:-1] + \" \" + \"were that\" + \" \" + i.C\n",
    "        answer = answer + i.prompt[9:-1] + \" \" + \"were that\" + \" \" + i.D\n",
    "        answer = answer + i.prompt[9:-1] + \" \" + \"were that\" + \" \" + i.E\n",
    "    elif \"Which of the following statements\" in i.prompt:\n",
    "        answer = \"\"\n",
    "        answer = i.prompt.replace(\"Which of the following statements \", \"This \") + \" \".join([i.A, i.B, i.C, i.D, i.E])\n",
    "        answer = answer.replace(\"?\", \". \")\n",
    "    elif \"Which of the following is\" in i.prompt:\n",
    "        answer = \"\"\n",
    "        answer = i.prompt.replace(\"Which of the following is \", \"This is \") + \" \".join([i.A, i.B, i.C, i.D, i.E])\n",
    "        answer = answer.replace(\"?\", \". \")\n",
    "    elif \"What did \" in i.prompt:\n",
    "        answer = \"\"\n",
    "        answer = i.prompt.replace(\"What did \", \"\") + \" \".join([i.A, i.B, i.C, i.D, i.E])\n",
    "        answer = answer.replace(\"?\", \". \")\n",
    "    elif \"How do \" in i.prompt:\n",
    "        answer = \"\"\n",
    "        answer = i.prompt.replace(\"How do \", \"\") + \" \".join([i.A, i.B, i.C, i.D, i.E])\n",
    "        answer = answer.replace(\"?\", \". \")\n",
    "    elif \"How did \" in i.prompt:\n",
    "        answer = \"\"\n",
    "        answer = i.prompt.replace(\"How did \", \"\") + \" \".join([i.A, i.B, i.C, i.D, i.E])\n",
    "        answer = answer.replace(\"?\", \". \")\n",
    "    else:\n",
    "        pattern = r\"Which (\\w+ \\w+ \\w+|\\w+ \\w+|\\w+) is\"\n",
    "        replacement = r\"This \\1 is\"\n",
    "        result = re.sub(pattern, replacement, i.prompt)\n",
    "        if result != i.prompt:\n",
    "            answer = result + \" \".join([i.A, i.B, i.C, i.D, i.E])\n",
    "            answer = answer.replace(\"?\", \". \")\n",
    "        else:\n",
    "            answer = i.prompt + \" \" + \" \".join([i.A, i.B, i.C, i.D, i.E])\n",
    "    return answer"
   ]
  },
  {
   "cell_type": "code",
   "execution_count": 65,
   "id": "89dc18a8-9749-4bfb-bfac-f274cbc783cf",
   "metadata": {
    "tags": []
   },
   "outputs": [
    {
     "data": {
      "text/plain": [
       "'This mathematical function is commonly used to characterize linear time-invariant systems. Trigonometric function Quadratic function Exponential function Logarithmic function Transfer function'"
      ]
     },
     "execution_count": 65,
     "metadata": {},
     "output_type": "execute_result"
    }
   ],
   "source": [
    "row = df.iloc[31]\n",
    "clean_prompt_answer(row)"
   ]
  },
  {
   "cell_type": "code",
   "execution_count": null,
   "id": "df9675fb-7b29-42b1-a000-5c382754e1cc",
   "metadata": {},
   "outputs": [],
   "source": []
  },
  {
   "cell_type": "code",
   "execution_count": 3,
   "id": "b2e26dac-a8a5-44a8-98be-b854fb818871",
   "metadata": {
    "tags": []
   },
   "outputs": [],
   "source": [
    "paraphs_parsed_dataset = load_from_disk(\"../input/all-paraphs-parsed-expanded\")"
   ]
  },
  {
   "cell_type": "code",
   "execution_count": 4,
   "id": "d533a557-6c1e-433e-bf41-4cc97d9ccff2",
   "metadata": {
    "tags": []
   },
   "outputs": [],
   "source": [
    "df = pd.DataFrame(paraphs_parsed_dataset)"
   ]
  },
  {
   "cell_type": "code",
   "execution_count": 5,
   "id": "d5acf6b1-3295-492a-a8f1-d161aa634020",
   "metadata": {
    "tags": []
   },
   "outputs": [
    {
     "data": {
      "text/plain": [
       "(2101279, 3)"
      ]
     },
     "execution_count": 5,
     "metadata": {},
     "output_type": "execute_result"
    }
   ],
   "source": [
    "df.shape"
   ]
  },
  {
   "cell_type": "code",
   "execution_count": 7,
   "id": "2e9f7bd3-1b24-4dc3-ae0c-3aa5d3f0509a",
   "metadata": {
    "tags": []
   },
   "outputs": [],
   "source": [
    "df[\"length\"] = df[\"text\"].apply(lambda x: len(x.split()))"
   ]
  },
  {
   "cell_type": "code",
   "execution_count": 16,
   "id": "8bc610e6-a4b7-424b-8434-e9a0819f10b2",
   "metadata": {
    "tags": []
   },
   "outputs": [
    {
     "name": "stdout",
     "output_type": "stream",
     "text": [
      "INFO: Pandarallel will run on 12 workers.\n",
      "INFO: Pandarallel will use Memory file system to transfer data between the main process and workers.\n"
     ]
    },
    {
     "data": {
      "application/vnd.jupyter.widget-view+json": {
       "model_id": "6d83a1a829ea484cb5e71aa5289a077c",
       "version_major": 2,
       "version_minor": 0
      },
      "text/plain": [
       "VBox(children=(HBox(children=(IntProgress(value=0, description='0.00%', max=175107), Label(value='0 / 175107')…"
      ]
     },
     "metadata": {},
     "output_type": "display_data"
    }
   ],
   "source": [
    "import blingfire as bf\n",
    "from pandarallel import pandarallel\n",
    "\n",
    "pandarallel.initialize(progress_bar=True)\n",
    "\n",
    "\n",
    "def extract_chunk_by_sliding_window(text: str, window_size: int, sliding_size: int) -> list[str]:\n",
    "    \"\"\"\n",
    "    text のリストをsliding windowで結合する。window_size個のtextが含まれるまで結合し、sliding_size個ずつずらして結合する。\n",
    "    \"\"\"\n",
    "    _, sentence_offsets = bf.text_to_sentences_and_offsets(text)\n",
    "    text_list = []\n",
    "    for o in sentence_offsets:\n",
    "        if 3 < o[1] - o[0]:\n",
    "            text_list.append(text[o[0] : o[1]])\n",
    "\n",
    "    chunks = []\n",
    "    for i in range(0, len(text_list), sliding_size):\n",
    "        chunk = \" \".join(text_list[i : i + window_size])\n",
    "        chunks.append(chunk)\n",
    "    return chunks\n",
    "\n",
    "\n",
    "df[\"text\"] = df[\"text\"].parallel_apply(lambda x: extract_chunk_by_sliding_window(x, 4, 2))"
   ]
  },
  {
   "cell_type": "code",
   "execution_count": 17,
   "id": "7e5c4aa2-be8b-4f26-a196-6ba2887ce8cc",
   "metadata": {
    "tags": []
   },
   "outputs": [],
   "source": [
    "explode_df = df.explode([\"text\"]).reset_index(drop=True)"
   ]
  },
  {
   "cell_type": "code",
   "execution_count": 19,
   "id": "93175514-2288-4003-a022-74ec9e0d4f82",
   "metadata": {
    "tags": []
   },
   "outputs": [
    {
     "data": {
      "text/plain": [
       "<Axes: >"
      ]
     },
     "execution_count": 19,
     "metadata": {},
     "output_type": "execute_result"
    },
    {
     "data": {
      "image/png": "[encoded data removed]",
      "text/plain": [
       "<Figure size 640x480 with 1 Axes>"
      ]
     },
     "metadata": {},
     "output_type": "display_data"
    }
   ],
   "source": [
    "explode_df[\"length\"] = explode_df[\"text\"].apply(lambda x: len(x.split()))"
   ]
  },
  {
   "cell_type": "code",
   "execution_count": 23,
   "id": "1afc41f7-d314-4c09-a9e1-6eccb5044c8d",
   "metadata": {
    "tags": []
   },
   "outputs": [
    {
     "data": {
      "text/plain": [
       "<Axes: >"
      ]
     },
     "execution_count": 23,
     "metadata": {},
     "output_type": "execute_result"
    },
    {
     "data": {
      "image/png": "[encoded data removed]",
      "text/plain": [
       "<Figure size 640x480 with 1 Axes>"
      ]
     },
     "metadata": {},
     "output_type": "display_data"
    }
   ],
   "source": [
    "explode_df.loc[explode_df[\"length\"] < 400, \"length\"].hist(bins=20)"
   ]
  },
  {
   "cell_type": "code",
   "execution_count": 5,
   "id": "2b4666e1-a7bc-4462-b437-b5dd4090d80a",
   "metadata": {
    "tags": []
   },
   "outputs": [
    {
     "data": {
      "text/plain": [
       "id                                                        96\n",
       "prompt     Who proposed the concept of \"maximal accelerat...\n",
       "A                                                 Max Planck\n",
       "B                                                 Niels Bohr\n",
       "C                                      Eduardo R. Caianiello\n",
       "D                                              Hideki Yukawa\n",
       "E                                            Albert Einstein\n",
       "answer                                                     C\n",
       "context    Born reciprocity > Born reciprocity > However ...\n",
       "Name: 96, dtype: object"
      ]
     },
     "execution_count": 5,
     "metadata": {},
     "output_type": "execute_result"
    }
   ],
   "source": [
    "df = pd.read_csv(\"../preprocessed/332_tfidf/000/train.csv\")\n",
    "a2 = np.load(\"../output/350_1st_infer/tfidf/data2_pred.npy\")\n",
    "df.iloc[96]"
   ]
  },
  {
   "cell_type": "code",
   "execution_count": 6,
   "id": "d6f96619-a642-4c5c-aa4e-cd9109b88b63",
   "metadata": {
    "tags": []
   },
   "outputs": [
    {
     "data": {
      "text/plain": [
       "array([1.5772917e-05, 1.5759566e-05, 9.9985933e-01, 9.4334922e-05,\n",
       "       1.4752143e-05], dtype=float32)"
      ]
     },
     "execution_count": 6,
     "metadata": {},
     "output_type": "execute_result"
    }
   ],
   "source": [
    "a2[96]"
   ]
  },
  {
   "cell_type": "code",
   "execution_count": 4,
   "id": "24c7ba3d-dccd-4d94-8225-60d1aa90533e",
   "metadata": {
    "tags": []
   },
   "outputs": [
    {
     "data": {
      "text/plain": [
       "'Born reciprocity > Born reciprocity > However Born\\'s idea of a quantum metric operator was later taken up by Hideki Yukawa when developing his nonlocal quantum theory in the 1950s. In 1981, Eduardo R. Caianiello proposed a \"maximal acceleration\", similarly as there is a minimal length at Planck scale, and this concept of maximal acceleration has been expanded upon by others. It has also been suggested that Born reciprocity may be the underlying physical reason for the T-duality symmetry in string theory, and that Born reciprocity may be of relevance to developing a quantum geometry.Born chose the term \"reciprocity\" for the reason that in a crystal lattice, the motion of a particle can be described in p-space by means of the reciprocal lattice. Glossary of Lie groups and Lie algebras > M > maximal 1. For \"maximal compact subgroup\", see #compact. 2. For \"maximal torus\", see #torus. Laser > History > Laser In April 1957, Japanese engineer Jun-ichi Nishizawa proposed the concept of a \"semiconductor optical maser\" in a patent application. That that is is that that is not is not is that it it is > That that is is that that is not is not is that it it is > That that is is that that is. \"Not\" is not. Is that it? It is. That that is is that that is not. Is \"\\'not\\' is that\" it? It is. That that is is that that is not \"is not\". Is that it? It is. PHP syntax and semantics > Basic language constructs > Delimiters The PHP processor only parses code within its delimiters. Anything outside its delimiters is sent directly to the output and not parsed by PHP. The only open/close delimiters allowed by PSR-1 are \"<?php\" and \"?>\" or <?= and ?>. Professional wrestling > Industry conventions > Performance aspects I watch championship wrestling from Florida with wrestling commentator Gordon Solie. Is this all \"fake\"? If so, they deserve an Oscar. Psychosexual development > Criticisms > Feminist Some feminists criticize Freud\\'s psychosexual development theory as being sexist and phallocentric, arguing that it was overly informed by his own self-analysis. In response to the Freudian concept of penis envy in the development of the feminine Oedipus complex, the German Neo-Freudian psychoanalyst Karen Horney, counter-proposed that girls instead develop \"Power envy\" rather than penis envy. She also proposed the concept of \"womb and vagina envy\", the male\\'s envy of the female ability to bear children. Some contemporary theorists suggest, in addition to this, the envy of the woman\\'s perceived right to be the kind parent. Library 2.0 > Library 2.0 > Library 2.0 is a proposed concept for library services that facilitate user contributions and other features of Web 2.0, which includes online services such as OPAC systems. The concept is based on Radical Trust, and proponents suggest it will eventually replace traditional libraries. The term \"Library 2.0\" was coined by Michael Casey in 2006 on his blog Library Crunch. Cache prefetching > Methods of hardware prefetching > Stream buffers Stream buffers were developed based on the concept of \"one block lookahead (OBL) scheme\" proposed by Alan Jay Smith. '"
      ]
     },
     "execution_count": 4,
     "metadata": {},
     "output_type": "execute_result"
    }
   ],
   "source": [
    "df.iloc[96].context"
   ]
  },
  {
   "cell_type": "code",
   "execution_count": 3,
   "id": "d1b8c812-d129-4e09-b4bb-286c93889520",
   "metadata": {
    "tags": []
   },
   "outputs": [],
   "source": [
    "a1 = np.load(\"../test_predictions (2).npy\")\n",
    "a2 = np.load(\"../output/350_1st_infer/000/data2_pred.npy\")"
   ]
  },
  {
   "cell_type": "code",
   "execution_count": 5,
   "id": "bb4b204c-b717-415f-9b2b-791aefbfa091",
   "metadata": {
    "tags": []
   },
   "outputs": [
    {
     "data": {
      "text/plain": [
       "array([5.0899638e-05, 1.6020971e-05, 2.6945649e-05, 9.9956685e-01,\n",
       "       3.3927185e-04], dtype=float32)"
      ]
     },
     "execution_count": 5,
     "metadata": {},
     "output_type": "execute_result"
    }
   ],
   "source": [
    "a1[0, :10]"
   ]
  },
  {
   "cell_type": "code",
   "execution_count": 6,
   "id": "25dcbc90-4d3f-4274-993d-9b4ec79b0dfb",
   "metadata": {
    "tags": []
   },
   "outputs": [
    {
     "data": {
      "text/plain": [
       "array([5.0899591e-05, 1.6021109e-05, 2.6945854e-05, 9.9956685e-01,\n",
       "       3.3927124e-04], dtype=float32)"
      ]
     },
     "execution_count": 6,
     "metadata": {},
     "output_type": "execute_result"
    }
   ],
   "source": [
    "a2[0, :10]"
   ]
  },
  {
   "cell_type": "code",
   "execution_count": 6,
   "id": "256d1562-d2f9-4291-8fe0-aa41a1d1444c",
   "metadata": {
    "tags": []
   },
   "outputs": [],
   "source": [
    "df = pd.read_parquet(\"../preprocessed/201_embedding/000/l.parquet\")\n",
    "sentence_embeddings = np.load(\"../preprocessed/201_embedding/000/l.npy\").astype(np.float32, copy=False)"
   ]
  },
  {
   "cell_type": "code",
   "execution_count": 7,
   "id": "f173da12-5f99-4dc3-bc78-1ebc0f3bef37",
   "metadata": {
    "tags": []
   },
   "outputs": [],
   "source": [
    "drop_idx = df[\"section_text\"].str.startswith(\"Notes: &lt;\")\n",
    "sentence_embeddings = sentence_embeddings[~drop_idx]\n",
    "df = df[~drop_idx].reset_index(drop=True)"
   ]
  },
  {
   "cell_type": "code",
   "execution_count": 8,
   "id": "8b3a7b36-315e-44ea-89e4-6a2c647c9bdb",
   "metadata": {
    "tags": []
   },
   "outputs": [
    {
     "data": {
      "text/plain": [
       "((1401590, 2), (1401590, 384))"
      ]
     },
     "execution_count": 8,
     "metadata": {},
     "output_type": "execute_result"
    }
   ],
   "source": [
    "df.shape, sentence_embeddings.shape"
   ]
  },
  {
   "cell_type": "code",
   "execution_count": 9,
   "id": "1fe1c2d4-fdc4-4790-8f24-baa6da796ea2",
   "metadata": {
    "tags": []
   },
   "outputs": [
    {
     "data": {
      "text/html": [
       "<div>\n",
       "<style scoped>\n",
       "    .dataframe tbody tr th:only-of-type {\n",
       "        vertical-align: middle;\n",
       "    }\n",
       "\n",
       "    .dataframe tbody tr th {\n",
       "        vertical-align: top;\n",
       "    }\n",
       "\n",
       "    .dataframe thead th {\n",
       "        text-align: right;\n",
       "    }\n",
       "</style>\n",
       "<table border=\"1\" class=\"dataframe\">\n",
       "  <thead>\n",
       "    <tr style=\"text-align: right;\">\n",
       "      <th></th>\n",
       "      <th>id</th>\n",
       "      <th>section_text</th>\n",
       "    </tr>\n",
       "  </thead>\n",
       "  <tbody>\n",
       "    <tr>\n",
       "      <th>1374970</th>\n",
       "      <td>23473595</td>\n",
       "      <td>Light-year: Distance that light travels in one...</td>\n",
       "    </tr>\n",
       "    <tr>\n",
       "      <th>1374971</th>\n",
       "      <td>23473595</td>\n",
       "      <td>Definitions: As defined by the IAU, the light-...</td>\n",
       "    </tr>\n",
       "    <tr>\n",
       "      <th>1374972</th>\n",
       "      <td>23473595</td>\n",
       "      <td>Another value, , is the product of the J1900.0...</td>\n",
       "    </tr>\n",
       "    <tr>\n",
       "      <th>1374973</th>\n",
       "      <td>23473595</td>\n",
       "      <td>History: The light-year unit appeared a few ye...</td>\n",
       "    </tr>\n",
       "    <tr>\n",
       "      <th>1374974</th>\n",
       "      <td>23473595</td>\n",
       "      <td>In 1868 an English journal labelled the light-...</td>\n",
       "    </tr>\n",
       "    <tr>\n",
       "      <th>1374975</th>\n",
       "      <td>23473595</td>\n",
       "      <td>Usage of term: Distances expressed in light-ye...</td>\n",
       "    </tr>\n",
       "    <tr>\n",
       "      <th>1374976</th>\n",
       "      <td>23473595</td>\n",
       "      <td>Related units: Distances between objects withi...</td>\n",
       "    </tr>\n",
       "  </tbody>\n",
       "</table>\n",
       "</div>"
      ],
      "text/plain": [
       "               id                                       section_text\n",
       "1374970  23473595  Light-year: Distance that light travels in one...\n",
       "1374971  23473595  Definitions: As defined by the IAU, the light-...\n",
       "1374972  23473595  Another value, , is the product of the J1900.0...\n",
       "1374973  23473595  History: The light-year unit appeared a few ye...\n",
       "1374974  23473595  In 1868 an English journal labelled the light-...\n",
       "1374975  23473595  Usage of term: Distances expressed in light-ye...\n",
       "1374976  23473595  Related units: Distances between objects withi..."
      ]
     },
     "execution_count": 9,
     "metadata": {},
     "output_type": "execute_result"
    }
   ],
   "source": [
    "df[df[\"id\"] == \"23473595\"]"
   ]
  },
  {
   "cell_type": "code",
   "execution_count": 10,
   "id": "aeec0698-9fef-42eb-bab4-89576557f6c7",
   "metadata": {
    "tags": []
   },
   "outputs": [
    {
     "data": {
      "text/html": [
       "<div>\n",
       "<style scoped>\n",
       "    .dataframe tbody tr th:only-of-type {\n",
       "        vertical-align: middle;\n",
       "    }\n",
       "\n",
       "    .dataframe tbody tr th {\n",
       "        vertical-align: top;\n",
       "    }\n",
       "\n",
       "    .dataframe thead th {\n",
       "        text-align: right;\n",
       "    }\n",
       "</style>\n",
       "<table border=\"1\" class=\"dataframe\">\n",
       "  <thead>\n",
       "    <tr style=\"text-align: right;\">\n",
       "      <th></th>\n",
       "      <th>id</th>\n",
       "      <th>section_text</th>\n",
       "    </tr>\n",
       "  </thead>\n",
       "  <tbody>\n",
       "    <tr>\n",
       "      <th>1374970</th>\n",
       "      <td>23473595</td>\n",
       "      <td>Light-year: Distance that light travels in one...</td>\n",
       "    </tr>\n",
       "    <tr>\n",
       "      <th>1374971</th>\n",
       "      <td>23473595</td>\n",
       "      <td>Definitions: As defined by the IAU, the light-...</td>\n",
       "    </tr>\n",
       "    <tr>\n",
       "      <th>1374972</th>\n",
       "      <td>23473595</td>\n",
       "      <td>Another value, , is the product of the J1900.0...</td>\n",
       "    </tr>\n",
       "    <tr>\n",
       "      <th>1374973</th>\n",
       "      <td>23473595</td>\n",
       "      <td>History: The light-year unit appeared a few ye...</td>\n",
       "    </tr>\n",
       "    <tr>\n",
       "      <th>1374974</th>\n",
       "      <td>23473595</td>\n",
       "      <td>In 1868 an English journal labelled the light-...</td>\n",
       "    </tr>\n",
       "    <tr>\n",
       "      <th>...</th>\n",
       "      <td>...</td>\n",
       "      <td>...</td>\n",
       "    </tr>\n",
       "    <tr>\n",
       "      <th>1401585</th>\n",
       "      <td>24889426</td>\n",
       "      <td>Words taken directly from Latin and Ancient Gr...</td>\n",
       "    </tr>\n",
       "    <tr>\n",
       "      <th>1401586</th>\n",
       "      <td>24889426</td>\n",
       "      <td>List of English words with dual Old English/Ol...</td>\n",
       "    </tr>\n",
       "    <tr>\n",
       "      <th>1401587</th>\n",
       "      <td>24889718</td>\n",
       "      <td>Lefty (album): Lefty is the seventh solo studi...</td>\n",
       "    </tr>\n",
       "    <tr>\n",
       "      <th>1401588</th>\n",
       "      <td>24889826</td>\n",
       "      <td>List of United States federal courthouses in C...</td>\n",
       "    </tr>\n",
       "    <tr>\n",
       "      <th>1401589</th>\n",
       "      <td>24889840</td>\n",
       "      <td>Larry Howes: American politician\\nLarry Howes ...</td>\n",
       "    </tr>\n",
       "  </tbody>\n",
       "</table>\n",
       "<p>26620 rows × 2 columns</p>\n",
       "</div>"
      ],
      "text/plain": [
       "               id                                       section_text\n",
       "1374970  23473595  Light-year: Distance that light travels in one...\n",
       "1374971  23473595  Definitions: As defined by the IAU, the light-...\n",
       "1374972  23473595  Another value, , is the product of the J1900.0...\n",
       "1374973  23473595  History: The light-year unit appeared a few ye...\n",
       "1374974  23473595  In 1868 an English journal labelled the light-...\n",
       "...           ...                                                ...\n",
       "1401585  24889426  Words taken directly from Latin and Ancient Gr...\n",
       "1401586  24889426  List of English words with dual Old English/Ol...\n",
       "1401587  24889718  Lefty (album): Lefty is the seventh solo studi...\n",
       "1401588  24889826  List of United States federal courthouses in C...\n",
       "1401589  24889840  Larry Howes: American politician\\nLarry Howes ...\n",
       "\n",
       "[26620 rows x 2 columns]"
      ]
     },
     "execution_count": 10,
     "metadata": {},
     "output_type": "execute_result"
    }
   ],
   "source": [
    "df[1374970:]"
   ]
  },
  {
   "cell_type": "code",
   "execution_count": 11,
   "id": "47b12034-a007-45cb-9d4a-86df7130949f",
   "metadata": {
    "tags": []
   },
   "outputs": [],
   "source": [
    "train_df = pd.read_csv(\"../input/kaggle-llm-science-exam/train.csv\")\n",
    "\n",
    "train_df[\"answer_all\"] = train_df.apply(lambda x: \" \".join([x[\"A\"], x[\"B\"], x[\"C\"], x[\"D\"], x[\"E\"]]), axis=1)\n",
    "train_df[\"prompt_answer_stem\"] = train_df[\"prompt\"] + \" \" + train_df[\"answer_all\"]"
   ]
  },
  {
   "cell_type": "code",
   "execution_count": 13,
   "id": "4a754e72-f92c-4ec8-a970-5f5a56823d86",
   "metadata": {},
   "outputs": [
    {
     "data": {
      "text/plain": [
       "SentenceTransformer(\n",
       "  (0): Transformer({'max_seq_length': 386, 'do_lower_case': True}) with Transformer model: BertModel \n",
       "  (1): Pooling({'word_embedding_dimension': 384, 'pooling_mode_cls_token': True, 'pooling_mode_mean_tokens': False, 'pooling_mode_max_tokens': False, 'pooling_mode_mean_sqrt_len_tokens': False})\n",
       ")"
      ]
     },
     "execution_count": 13,
     "metadata": {},
     "output_type": "execute_result"
    }
   ],
   "source": [
    "smodel = SentenceTransformer(\"BAAI/bge-small-en\", device=\"cpu\")\n",
    "smodel.max_seq_length = 386\n",
    "smodel.half()"
   ]
  },
  {
   "cell_type": "code",
   "execution_count": 15,
   "id": "2b9bf235-2291-45b6-bb46-2f2d22e9643c",
   "metadata": {},
   "outputs": [
    {
     "data": {
      "application/vnd.jupyter.widget-view+json": {
       "model_id": "b8d01841694545dd9bc2cfa8588b9ef4",
       "version_major": 2,
       "version_minor": 0
      },
      "text/plain": [
       "Batches:   0%|          | 0/1 [00:00<?, ?it/s]"
      ]
     },
     "metadata": {},
     "output_type": "display_data"
    }
   ],
   "source": [
    "question_embeddings = smodel.encode(\n",
    "    [train_df.iloc[49].prompt_answer_stem],\n",
    "    batch_size=8,\n",
    "    device=\"cuda\",\n",
    "    show_progress_bar=True,\n",
    "    # convert_to_tensor=True,\n",
    "    normalize_embeddings=True,\n",
    ")\n",
    "\n",
    "\n",
    "num_include = 5\n",
    "\n",
    "prompt_index = faiss.index_factory(sentence_embeddings.shape[1], \"Flat\")\n",
    "prompt_index.add(sentence_embeddings[1374970:])\n",
    "ss, ii = prompt_index.search(question_embeddings.astype(\"float32\"), num_include)"
   ]
  },
  {
   "cell_type": "code",
   "execution_count": 16,
   "id": "82a62f3d-1355-40c2-9878-e3d35296ffd3",
   "metadata": {
    "tags": []
   },
   "outputs": [
    {
     "data": {
      "text/plain": [
       "array([[0.08308185, 0.13949133, 0.16772568, 0.1909834 , 0.19430317]],\n",
       "      dtype=float32)"
      ]
     },
     "execution_count": 16,
     "metadata": {},
     "output_type": "execute_result"
    }
   ],
   "source": [
    "ss"
   ]
  },
  {
   "cell_type": "code",
   "execution_count": 17,
   "id": "89e814a1-c3f1-4357-aace-8a5bffc69fe6",
   "metadata": {
    "tags": []
   },
   "outputs": [
    {
     "data": {
      "text/plain": [
       "array([[-7.9574585e-03, -2.4795532e-02,  2.7060509e-05, ...,\n",
       "        -9.7579956e-03, -2.5466919e-02,  5.9783936e-02],\n",
       "       [-6.9824219e-02,  3.4046173e-03, -2.3681641e-02, ...,\n",
       "        -9.3231201e-03,  2.1316528e-02,  5.8197021e-02],\n",
       "       [-7.4096680e-02, -7.6026917e-03,  4.8942566e-03, ...,\n",
       "        -2.3040771e-02,  5.7888031e-04,  4.5196533e-02],\n",
       "       ...,\n",
       "       [-3.2073975e-02, -1.2962341e-02,  3.4729004e-02, ...,\n",
       "        -7.0739746e-02,  2.6275635e-02,  6.4025879e-02],\n",
       "       [-2.2293091e-02, -3.6621094e-02,  1.4968872e-02, ...,\n",
       "        -4.3182373e-03,  3.8238525e-02,  6.6833496e-02],\n",
       "       [-5.4901123e-02, -6.7901611e-03, -1.9897461e-02, ...,\n",
       "        -3.8166046e-03,  1.5182495e-02,  7.9772949e-02]], dtype=float32)"
      ]
     },
     "execution_count": 17,
     "metadata": {},
     "output_type": "execute_result"
    }
   ],
   "source": [
    "sentence_embeddings[1374970:]"
   ]
  },
  {
   "cell_type": "code",
   "execution_count": 18,
   "id": "cd083807-94d0-4647-a7a4-acb102ac71d2",
   "metadata": {
    "tags": []
   },
   "outputs": [
    {
     "data": {
      "text/plain": [
       "'Light-year: Distance that light travels in one year\\nA light-year, alternatively spelled light year, is a large unit of length used to express astronomical distances and is equivalent to about 9.46\\xa0trillion kilometers (), or 5.88\\xa0trillion miles ().\\nAs defined by the International Astronomical Union (IAU), a light-year is the distance that light travels in a vacuum in one Julian year (365.25 days).\\nBecause it includes the time-measurement word \"year\", the term \"light-year\" is sometimes misinterpreted as a unit of time.\\nThe \"light-year\" is most often used when expressing distances to stars and other distances on a galactic scale, especially in non-specialist contexts and popular science publications.\\nThe unit most commonly used in professional astronomy is the parsec (symbol: pc, about 3.26 light-years) which derives from astrometry; it is the distance at which one astronomical unit (au) subtends an angle of one second of arc.'"
      ]
     },
     "execution_count": 18,
     "metadata": {},
     "output_type": "execute_result"
    }
   ],
   "source": [
    "df.iloc[1374970 + ii[0, 0]].section_text"
   ]
  },
  {
   "cell_type": "code",
   "execution_count": 44,
   "id": "a2331dba-e47d-4d2c-a214-d9fd79c7b7e0",
   "metadata": {
    "tags": []
   },
   "outputs": [
    {
     "data": {
      "text/plain": [
       "'Related units: Distances between objects within a star system tend to be small fractions of a light-year, and are usually expressed in astronomical units.\\nHowever, smaller units of length can similarly be formed usefully by multiplying units of time by the speed of light.\\nFor example, the light-second, useful in astronomy, telecommunications and relativistic physics, is exactly metres or &lt;templatestyles src=\"Fraction/styles.css\" /&gt;⁄ of a light-year.\\nUnits such as the light-minute, light-hour and light-day are sometimes used in popular science publications.\\nThe light-month, roughly one-twelfth of a light-year, is also used occasionally for approximate measures.\\nThe Hayden Planetarium specifies the light month more precisely as 30 days of light travel time.\\nLight travels approximately one foot in a nanosecond; the term \"light-foot\" is sometimes used as an informal measure of time.'"
      ]
     },
     "execution_count": 44,
     "metadata": {},
     "output_type": "execute_result"
    }
   ],
   "source": [
    "df.iloc[1374970 + ii[0, 1]].section_text"
   ]
  },
  {
   "cell_type": "code",
   "execution_count": null,
   "id": "06653a44-3dff-42ad-b72b-79626495798f",
   "metadata": {},
   "outputs": [],
   "source": []
  }
 ],
 "metadata": {
  "kernelspec": {
   "display_name": "Python [conda env:root] *",
   "language": "python",
   "name": "conda-root-py"
  },
  "language_info": {
   "codemirror_mode": {
    "name": "ipython",
    "version": 3
   },
   "file_extension": ".py",
   "mimetype": "text/x-python",
   "name": "python",
   "nbconvert_exporter": "python",
   "pygments_lexer": "ipython3",
   "version": "3.10.12"
  }
 },
 "nbformat": 4,
 "nbformat_minor": 5
}
