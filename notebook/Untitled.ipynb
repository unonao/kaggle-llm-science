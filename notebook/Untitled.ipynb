{
 "cells": [
  {
   "cell_type": "code",
   "execution_count": 1,
   "id": "307fc1f5-79a6-4feb-af99-08e8dd832a0b",
   "metadata": {
    "tags": []
   },
   "outputs": [],
   "source": [
    "import torch\n",
    "import torch.nn.functional as F\n",
    "from transformers import AutoModel, AutoTokenizer"
   ]
  },
  {
   "cell_type": "code",
   "execution_count": 2,
   "id": "05abc23e-d5f4-4119-8d8f-7cb8d083c17e",
   "metadata": {
    "tags": []
   },
   "outputs": [
    {
     "data": {
      "application/vnd.jupyter.widget-view+json": {
       "model_id": "2d3604b8efc3472cb19ae7c3283a3760",
       "version_major": 2,
       "version_minor": 0
      },
      "text/plain": [
       "Downloading (…)okenizer_config.json:   0%|          | 0.00/350 [00:00<?, ?B/s]"
      ]
     },
     "metadata": {},
     "output_type": "display_data"
    },
    {
     "data": {
      "application/vnd.jupyter.widget-view+json": {
       "model_id": "c6686529e1204f6eb5432a3f208d17db",
       "version_major": 2,
       "version_minor": 0
      },
      "text/plain": [
       "Downloading (…)solve/main/vocab.txt:   0%|          | 0.00/232k [00:00<?, ?B/s]"
      ]
     },
     "metadata": {},
     "output_type": "display_data"
    },
    {
     "data": {
      "application/vnd.jupyter.widget-view+json": {
       "model_id": "ea02b01f332e41758576cc48916c58b0",
       "version_major": 2,
       "version_minor": 0
      },
      "text/plain": [
       "Downloading (…)/main/tokenizer.json:   0%|          | 0.00/466k [00:00<?, ?B/s]"
      ]
     },
     "metadata": {},
     "output_type": "display_data"
    },
    {
     "data": {
      "application/vnd.jupyter.widget-view+json": {
       "model_id": "c51298ec600b40eeac3d2e94d730358d",
       "version_major": 2,
       "version_minor": 0
      },
      "text/plain": [
       "Downloading (…)cial_tokens_map.json:   0%|          | 0.00/112 [00:00<?, ?B/s]"
      ]
     },
     "metadata": {},
     "output_type": "display_data"
    }
   ],
   "source": [
    "tokenizer = AutoTokenizer.from_pretrained(\"sentence-transformers/all-MiniLM-L6-v2\")"
   ]
  },
  {
   "cell_type": "code",
   "execution_count": 4,
   "id": "256d1562-d2f9-4291-8fe0-aa41a1d1444c",
   "metadata": {
    "tags": []
   },
   "outputs": [],
   "source": [
    "import pandas as pd\n",
    "\n",
    "df_valid = pd.read_csv(\"../preprocessed/002_gpu/000/train.csv\")"
   ]
  },
  {
   "cell_type": "code",
   "execution_count": 7,
   "id": "1fe1c2d4-fdc4-4790-8f24-baa6da796ea2",
   "metadata": {
    "tags": []
   },
   "outputs": [
    {
     "data": {
      "text/plain": [
       "'While almost all astrophysicists today reject MOND in favor of dark matter, a small number of researchers continue to enhance it, recently incorporating Brans–Dicke theories into treatments that attempt to account for cosmological observations. The results are consistent with MOND, and place limits on alternative explanations involving dark matter alone. The homogeneously distributed mass of the universe would result in a roughly scalar field that permeated the universe and would serve as a source for Newton\\'s gravitational constant; creating a theory of quantum gravity. === MOND === Modified Newtonian Dynamics (MOND) is a relatively modern proposal to explain the galaxy rotation problem based on a variation of Newton\\'s Second Law of Dynamics at low accelerations. Topics investigated include quintessence, Modified Newtonian Dynamics (MOND) and its relativistic generalization TeVeS, and warm dark matter. ==History== Modern physical cosmology as it is currently studied first emerged as a scientific discipline in the period after the Shapley–Curtis debate and discoveries by Edwin Hubble of a cosmic distance ladder when astronomers and physicists had to come to terms with a universe that was of a much larger scale than the previously assumed galactic size. MOND has had a considerable amount of success in predicting the rotation curves of low- surface-brightness galaxies, matching the baryonic Tully–Fisher relation, and the velocity dispersions of the small satellite galaxies of the Local Group. To account for the anomalous rotation curves of spiral galaxies, Milgrom proposed a modification of this force law in the form : F=\\\\mu \\\\left (\\\\frac{a}{a_0} \\\\right )ma, where \\\\mu(x) is an arbitrary function subject to the following conditions: :\\\\mu(x)= \\\\begin{cases} 1 & |x|\\\\gg 1 \\\\\\\\\\\\ x & |x|\\\\ll 1 \\\\end{cases} In this form, MOND is not a complete theory: for instance, it violates the law of momentum conservation. One of the most discussed is modified Newtonian dynamics (MOND), originally proposed by Mordehai Milgrom in 1983, which modifies the Newtonian force law at low accelerations to enhance the effective gravitational attraction. A study in August 2006 reported an observation of a pair of colliding galaxy clusters, the Bullet Cluster, whose behavior, it was reported, was not compatible with any current modified gravity theory. The theory will be directly testable using the world\\'s largest radio telescope, the Square Kilometre Array which should come online in 2022. === Relativistic MOND === The original theory of MOND by Milgrom was developed in 1983 as an alternative to \"dark matter\". Dark matter is believed to dominate the gravitational potential of galaxies and clusters of galaxies. '"
      ]
     },
     "execution_count": 7,
     "metadata": {},
     "output_type": "execute_result"
    }
   ],
   "source": []
  },
  {
   "cell_type": "code",
   "execution_count": 12,
   "id": "2e1fae0e-aba9-4134-bbcb-4763fefdf7d4",
   "metadata": {
    "tags": []
   },
   "outputs": [
    {
     "data": {
      "text/plain": [
       "'[CLS] in quantum mechanics, the wigner – weyl transform or weyl – wigner transform ( after hermann weyl and eugene wigner ) is the invertible mapping between functions in the quantum phase space formulation and hilbert space operators in the schrodinger picture. often the mapping from functions on phase space to operators is called the weyl transform or weyl quantization, whereas the inverse mapping, from operators to functions on phase space, is called the wigner transform. this mapping was originally devised by hermann weyl in 1927 in an attempt to map symmetrized classical phase space functions to operators, a procedure known as weyl quantization. [ 1 ] it is now understood that weyl quantization does not satisfy all the properties one would require for consistent quantization and therefore sometimes yields unphysical answers. on the other hand, some of the nice properties described below suggest that if one seeks a single consistent procedure mapping functions on the classical phase space to operators, the weyl quantization is the best option : a sort of normal coordinates of such maps. ( groenewold\\'s theorem asserts that no such map can have all the ideal properties one would desire. ) regardless, the weyl – wigner transform is a well - defined integral transform between the phase - space and operator representations, and yields insight into the workings of quantum mechanics. most importantly, the wigner quasi - probability distribution is the wigner transform of the quantum density matrix, and, conversely, the density matrix is the weyl transform of the wigner function. in contrast to weyl\\'s original intentions in seeking a consistent quantization scheme, this map merely amounts to a change of representation within quantum mechanics ; it need not connect \" classical \" with \" quantum \" quantities. for example, the phase - space function may depend explicitly on planck\\'s constant ħ, as [SEP]'"
      ]
     },
     "execution_count": 12,
     "metadata": {},
     "output_type": "execute_result"
    }
   ],
   "source": [
    "text = \"\"\"\n",
    "In quantum mechanics, the Wigner–Weyl transform or Weyl–Wigner transform (after Hermann Weyl and Eugene Wigner) is the invertible mapping between functions in the quantum phase space formulation and Hilbert space operators in the Schrödinger picture.\n",
    "\n",
    "Often the mapping from functions on phase space to operators is called the Weyl transform or Weyl quantization, whereas the inverse mapping, from operators to functions on phase space, is called the Wigner transform. This mapping was originally devised by Hermann Weyl in 1927 in an attempt to map symmetrized classical phase space functions to operators, a procedure known as Weyl quantization.[1] It is now understood that Weyl quantization does not satisfy all the properties one would require for consistent quantization and therefore sometimes yields unphysical answers. On the other hand, some of the nice properties described below suggest that if one seeks a single consistent procedure mapping functions on the classical phase space to operators, the Weyl quantization is the best option: a sort of normal coordinates of such maps. (Groenewold's theorem asserts that no such map can have all the ideal properties one would desire.)\n",
    "\n",
    "Regardless, the Weyl–Wigner transform is a well-defined integral transform between the phase-space and operator representations, and yields insight into the workings of quantum mechanics. Most importantly, the Wigner quasi-probability distribution is the Wigner transform of the quantum density matrix, and, conversely, the density matrix is the Weyl transform of the Wigner function.\n",
    "\n",
    "In contrast to Weyl's original intentions in seeking a consistent quantization scheme, this map merely amounts to a change of representation within quantum mechanics; it need not connect \"classical\" with \"quantum\" quantities. For example, the phase-space function may depend explicitly on Planck's constant ħ, as it does in some familiar cases involving angular momentum. This invertible representation change then allows one to express quantum mechanics in phase space, as was appreciated in the 1940s by Hilbrand J. Groenewold[2] and José Enrique Moyal.[3][4]\n",
    "\n",
    "\"\"\"\n",
    "\n",
    "encoded_input = tokenizer(text, truncation=True, max_length=384)\n",
    "tokenizer.decode(encoded_input[\"input_ids\"])"
   ]
  },
  {
   "cell_type": "code",
   "execution_count": 13,
   "id": "26192775-24ef-42f2-961d-6e205d56de42",
   "metadata": {
    "tags": []
   },
   "outputs": [
    {
     "data": {
      "text/plain": [
       "'\\nIn quantum mechanics, the Wigner–Weyl transform or Weyl–Wigner transform (after Hermann Weyl and Eugene Wigner) is the invertible mapping between functions in the quantum phase space formulation and Hilbert space operators in the Schrödinger picture.\\n\\nOften the mapping from functions on phase space to operators is called the Weyl transform or Weyl quantization, whereas the inverse mapping, from operators to functions on phase space, is called the Wigner transform. This mapping was originally devised by Hermann Weyl in 1927 in an attempt to map symmetrized classical phase space functions to operators, a procedure known as Weyl quantization.[1] It is now understood that Weyl quantization does not satisfy all the properties one would require for consistent quantization and therefore sometimes yields unphysical answers. On the other hand, some of the nice properties described below suggest that if one seeks a single consistent procedure mapping functions on the classical phase space to operators, the Weyl quantization is the best option: a sort of normal coordinates of such maps. (Groenewold\\'s theorem asserts that no such map can have all the ideal properties one would desire.)\\n\\nRegardless, the Weyl–Wigner transform is a well-defined integral transform between the phase-space and operator representations, and yields insight into the workings of quantum mechanics. Most importantly, the Wigner quasi-probability distribution is the Wigner transform of the quantum density matrix, and, conversely, the density matrix is the Weyl transform of the Wigner function.\\n\\nIn contrast to Weyl\\'s original intentions in seeking a consistent quantization scheme, this map merely amounts to a change of representation within quantum mechanics; it need not connect \"classical\" with \"quantum\" quantities. For example, the phase-space function may depend explicitly on Planck\\'s constant ħ, as it does in some familiar cases involving angular momentum. This invertible representation change then allows one to express quantum mechanics in phase space, as was appreciated in the 1940s by Hilbrand J. Groenewold[2] and José Enrique Moyal.[3][4]\\n\\n'"
      ]
     },
     "execution_count": 13,
     "metadata": {},
     "output_type": "execute_result"
    }
   ],
   "source": [
    "\" \".join(text.split(\" \")[:384])"
   ]
  },
  {
   "cell_type": "code",
   "execution_count": null,
   "id": "f173da12-5f99-4dc3-bc78-1ebc0f3bef37",
   "metadata": {},
   "outputs": [],
   "source": []
  }
 ],
 "metadata": {
  "kernelspec": {
   "display_name": "Python 3 (ipykernel)",
   "language": "python",
   "name": "python3"
  },
  "language_info": {
   "codemirror_mode": {
    "name": "ipython",
    "version": 3
   },
   "file_extension": ".py",
   "mimetype": "text/x-python",
   "name": "python",
   "nbconvert_exporter": "python",
   "pygments_lexer": "ipython3",
   "version": "3.10.12"
  }
 },
 "nbformat": 4,
 "nbformat_minor": 5
}
