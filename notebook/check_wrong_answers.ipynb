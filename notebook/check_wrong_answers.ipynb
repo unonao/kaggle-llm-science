{
 "cells": [
  {
   "cell_type": "code",
   "execution_count": 1,
   "id": "f2b496e1-e088-4472-841c-099e357b13cd",
   "metadata": {
    "tags": []
   },
   "outputs": [
    {
     "name": "stderr",
     "output_type": "stream",
     "text": [
      "/opt/conda/lib/python3.10/site-packages/scipy/__init__.py:146: UserWarning: A NumPy version >=1.16.5 and <1.23.0 is required for this version of SciPy (detected version 1.23.5\n",
      "  warnings.warn(f\"A NumPy version >={np_minversion} and <{np_maxversion}\"\n"
     ]
    }
   ],
   "source": [
    "import ctypes\n",
    "import gc\n",
    "\n",
    "import torch\n",
    "\n",
    "libc = ctypes.CDLL(\"libc.so.6\")\n",
    "\n",
    "from dataclasses import dataclass\n",
    "from typing import Optional, Union\n",
    "\n",
    "import numpy as np\n",
    "import pandas as pd\n",
    "import torch\n",
    "from datasets import Dataset\n",
    "from torch.utils.data import DataLoader\n",
    "from transformers import AutoModel, AutoModelForMultipleChoice, AutoTokenizer, Trainer, TrainingArguments\n",
    "from transformers.tokenization_utils_base import PaddingStrategy, PreTrainedTokenizerBase"
   ]
  },
  {
   "cell_type": "code",
   "execution_count": 2,
   "id": "f9511145-d885-4dcd-9ba0-9f2f5a684f8c",
   "metadata": {
    "tags": []
   },
   "outputs": [],
   "source": [
    "# https://www.kaggle.com/code/philippsinger/h2ogpt-perplexity-ranking\n",
    "def precision_at_k(r, k):\n",
    "    \"\"\"Precision at k\"\"\"\n",
    "    assert k <= len(r)\n",
    "    assert k != 0\n",
    "    return sum(int(x) for x in r[:k]) / k\n",
    "\n",
    "\n",
    "def map_k(true_items, predictions, K=3):\n",
    "    \"\"\"Score is mean average precision at 3\"\"\"\n",
    "    U = len(predictions)\n",
    "    map_at_k = 0.0\n",
    "    for u in range(U):\n",
    "        user_preds = predictions[u]\n",
    "        user_true = true_items[u]\n",
    "        user_results = [1 if item == user_true else 0 for item in user_preds]\n",
    "        for k in range(min(len(user_preds), K)):\n",
    "            map_at_k += precision_at_k(user_results, k + 1) * user_results[k]\n",
    "    return map_at_k / U\n",
    "\n",
    "\n",
    "import numpy as np\n",
    "\n",
    "\n",
    "def predictions_to_map_output(predictions):\n",
    "    sorted_answer_indices = np.argsort(-predictions)  # Sortting indices in descending order\n",
    "    top_answer_indices = sorted_answer_indices[:, :]  # Taking the first three indices for each row\n",
    "    top_answers = np.vectorize(index_to_option.get)(\n",
    "        top_answer_indices\n",
    "    )  # Transforming indices to options - i.e., 0 --> A\n",
    "    return np.apply_along_axis(lambda row: \" \".join(row), 1, top_answers)\n",
    "\n",
    "\n",
    "@dataclass\n",
    "class DataCollatorForMultipleChoice:\n",
    "    tokenizer: PreTrainedTokenizerBase\n",
    "    padding: Union[bool, str, PaddingStrategy] = True\n",
    "    max_length: Optional[int] = None\n",
    "    pad_to_multiple_of: Optional[int] = None\n",
    "\n",
    "    def __call__(self, features):\n",
    "        label_name = \"label\" if \"label\" in features[0].keys() else \"labels\"\n",
    "        labels = [feature.pop(label_name) for feature in features]\n",
    "        batch_size = len(features)\n",
    "        num_choices = len(features[0][\"input_ids\"])\n",
    "        flattened_features = [\n",
    "            [{k: v[i] for k, v in feature.items()} for i in range(num_choices)] for feature in features\n",
    "        ]\n",
    "        flattened_features = sum(flattened_features, [])\n",
    "\n",
    "        batch = self.tokenizer.pad(\n",
    "            flattened_features,\n",
    "            padding=self.padding,\n",
    "            max_length=self.max_length,\n",
    "            pad_to_multiple_of=self.pad_to_multiple_of,\n",
    "            return_tensors=\"pt\",\n",
    "        )\n",
    "        batch = {k: v.view(batch_size, num_choices, -1) for k, v in batch.items()}\n",
    "        batch[\"labels\"] = torch.tensor(labels, dtype=torch.int64)\n",
    "        return batch"
   ]
  },
  {
   "cell_type": "code",
   "execution_count": 3,
   "id": "43585f9c-d1fc-4af0-8004-12f90c515373",
   "metadata": {
    "tags": []
   },
   "outputs": [
    {
     "data": {
      "application/vnd.jupyter.widget-view+json": {
       "model_id": "d85997be077d473dbf0ca32b986e4f18",
       "version_major": 2,
       "version_minor": 0
      },
      "text/plain": [
       "Map:   0%|          | 0/1200 [00:00<?, ? examples/s]"
      ]
     },
     "metadata": {},
     "output_type": "display_data"
    }
   ],
   "source": [
    "df_valid = pd.read_csv(\"../preprocessed/000_base/000/train.csv\")\n",
    "\n",
    "model_dict = {\"path\": \"../output/005_retrieval/001/checkpoint-39563\", \"mode\": \"005\"}\n",
    "\n",
    "all_preds = []\n",
    "all_labels = []\n",
    "tokenizer = AutoTokenizer.from_pretrained(model_dict[\"path\"])\n",
    "\n",
    "test_df = pd.concat(\n",
    "    [\n",
    "        pd.read_csv(\"../preprocessed/000_base/000/train.csv\"),\n",
    "        pd.read_csv(\"../preprocessed/000_base/000/6000_all_categories_questions.csv\").head(500),\n",
    "        pd.read_csv(\"../preprocessed/000_base/000/6000_wiki_en_sci_questions.csv\").head(500),\n",
    "    ]\n",
    ").reset_index(drop=True)\n",
    "test_df[\"id\"] = test_df.index\n",
    "\n",
    "option_to_index = {option: idx for idx, option in enumerate(\"ABCDE\")}\n",
    "index_to_option = {v: k for k, v in option_to_index.items()}\n",
    "\n",
    "if model_dict[\"mode\"] == \"002\":\n",
    "\n",
    "    def preprocess(example):\n",
    "        first_sentence = [example[\"prompt\"]] * 5\n",
    "        second_sentences = [example[option] for option in \"ABCDE\"]\n",
    "        tokenized_example = tokenizer(first_sentence, second_sentences, truncation=False)\n",
    "        tokenized_example[\"label\"] = option_to_index[example[\"answer\"]]\n",
    "        return tokenized_example\n",
    "\n",
    "    tokenized_test_dataset = Dataset.from_pandas(test_df.drop(columns=[\"id\"])).map(\n",
    "        preprocess, remove_columns=[\"context\", \"prompt\", \"A\", \"B\", \"C\", \"D\", \"E\", \"answer\"]\n",
    "    )\n",
    "\n",
    "elif model_dict[\"mode\"] == \"003\":\n",
    "    test_df[\"prompt\"] = test_df[\"context\"].str.slice(0, 800) + \" #### \" + test_df[\"prompt\"]\n",
    "\n",
    "    def preprocess(example):\n",
    "        first_sentence = [example[\"prompt\"]] * 5\n",
    "        second_sentences = [example[option] for option in \"ABCDE\"]\n",
    "        tokenized_example = tokenizer(first_sentence, second_sentences, truncation=False)\n",
    "        tokenized_example[\"label\"] = option_to_index[example[\"answer\"]]\n",
    "        return tokenized_example\n",
    "\n",
    "    tokenized_test_dataset = Dataset.from_pandas(test_df.drop(columns=[\"id\"])).map(\n",
    "        preprocess, remove_columns=[\"context\", \"prompt\", \"A\", \"B\", \"C\", \"D\", \"E\", \"answer\"]\n",
    "    )\n",
    "\n",
    "elif model_dict[\"mode\"] == \"004\":\n",
    "    test_df[\"prompt\"] = test_df[\"prompt\"] + \" ## \" + test_df[\"context\"]\n",
    "\n",
    "    def preprocess(example):\n",
    "        first_sentence = [example[\"prompt\"]] * 5\n",
    "        second_sentences = [example[option] for option in \"ABCDE\"]\n",
    "        tokenized_example = tokenizer(first_sentence, second_sentences, truncation=True, max_length=384)\n",
    "        tokenized_example[\"label\"] = option_to_index[example[\"answer\"]]\n",
    "        return tokenized_example\n",
    "\n",
    "    tokenized_test_dataset = Dataset.from_pandas(test_df.drop(columns=[\"id\"])).map(\n",
    "        preprocess, remove_columns=[\"context\", \"prompt\", \"A\", \"B\", \"C\", \"D\", \"E\", \"answer\"]\n",
    "    )\n",
    "\n",
    "elif model_dict[\"mode\"] == \"005\":\n",
    "    test_df[\"prompt\"] = (\n",
    "        test_df[\"context\"].apply(lambda x: \" \".join(x.split()[:100])) + f\"... [SEP] \" + test_df[\"prompt\"]\n",
    "    )\n",
    "\n",
    "    def preprocess(example):\n",
    "        first_sentence = [example[\"prompt\"]] * 5\n",
    "        second_sentences = [example[option] for option in \"ABCDE\"]\n",
    "        tokenized_example = tokenizer(first_sentence, second_sentences, truncation=False)\n",
    "        tokenized_example[\"label\"] = option_to_index[example[\"answer\"]]\n",
    "        return tokenized_example\n",
    "\n",
    "    tokenized_test_dataset = Dataset.from_pandas(test_df.drop(columns=[\"id\"])).map(\n",
    "        preprocess, remove_columns=[\"context\", \"prompt\", \"A\", \"B\", \"C\", \"D\", \"E\", \"answer\"]\n",
    "    )"
   ]
  },
  {
   "cell_type": "code",
   "execution_count": 4,
   "id": "e91d1ef5-213a-4dc5-ac05-25c1650b1043",
   "metadata": {
    "tags": []
   },
   "outputs": [
    {
     "name": "stderr",
     "output_type": "stream",
     "text": [
      "You're using a DebertaV2TokenizerFast tokenizer. Please note that with a fast tokenizer, using the `__call__` method is faster than using a method to encode the text followed by a call to the `pad` method to get a padded encoding.\n"
     ]
    },
    {
     "name": "stdout",
     "output_type": "stream",
     "text": [
      "{'path': '../output/005_retrieval/001/checkpoint-39563', 'mode': '005'}\n",
      "{'old_map@3': 0.8683333333333336, 'new_map@3': 0.8152777777777804}\n"
     ]
    }
   ],
   "source": [
    "data_collator = DataCollatorForMultipleChoice(tokenizer=tokenizer)\n",
    "test_dataloader = DataLoader(\n",
    "    tokenized_test_dataset,\n",
    "    1,\n",
    "    shuffle=False,\n",
    "    collate_fn=data_collator,\n",
    ")\n",
    "\n",
    "model = AutoModelForMultipleChoice.from_pretrained(model_dict[\"path\"]).cuda()\n",
    "model.eval()\n",
    "preds = []\n",
    "labels = []\n",
    "for batch in test_dataloader:\n",
    "    for k in batch.keys():\n",
    "        batch[k] = batch[k].cuda()\n",
    "    with torch.no_grad():\n",
    "        outputs = model(**batch)\n",
    "    labels.append(batch[\"labels\"].cpu().detach())\n",
    "    preds.append(outputs.logits.cpu().detach())\n",
    "\n",
    "preds = torch.cat(preds)\n",
    "labels = torch.cat(labels)\n",
    "\n",
    "result_dict = {\n",
    "    \"old_map@3\": map_k(df_valid[\"answer\"].to_numpy(), predictions_to_map_output(preds[: len(df_valid), :])),\n",
    "    \"new_map@3\": map_k(test_df[\"answer\"].to_numpy(), predictions_to_map_output(preds)),\n",
    "}\n",
    "\n",
    "print(model_dict)\n",
    "print(result_dict)\n",
    "del model\n",
    "_ = gc.collect()\n",
    "libc.malloc_trim(0)\n",
    "torch.cuda.empty_cache()"
   ]
  },
  {
   "cell_type": "code",
   "execution_count": 17,
   "id": "15ccfc59-b9af-42e8-8323-0898b1b9ab84",
   "metadata": {
    "tags": []
   },
   "outputs": [],
   "source": [
    "def predictions_to_map_output_top(predictions):\n",
    "    sorted_answer_indices = np.argsort(-predictions)  # Sortting indices in descending order\n",
    "    top_answer_indices = sorted_answer_indices[:, :]  # Taking the first three indices for each row\n",
    "    top_answers = np.vectorize(index_to_option.get)(\n",
    "        top_answer_indices\n",
    "    )  # Transforming indices to options - i.e., 0 --> A\n",
    "    return np.apply_along_axis(lambda row: \" \".join(row[0]), 1, top_answers)\n",
    "\n",
    "\n",
    "valid_preds = predictions_to_map_output_top(preds[: len(df_valid), :])\n",
    "df_valid[\"preds\"] = valid_preds"
   ]
  },
  {
   "cell_type": "code",
   "execution_count": 20,
   "id": "79cc53d5-48d6-495c-be6c-e8dcee532340",
   "metadata": {
    "tags": []
   },
   "outputs": [
    {
     "data": {
      "text/html": [
       "<div>\n",
       "<style scoped>\n",
       "    .dataframe tbody tr th:only-of-type {\n",
       "        vertical-align: middle;\n",
       "    }\n",
       "\n",
       "    .dataframe tbody tr th {\n",
       "        vertical-align: top;\n",
       "    }\n",
       "\n",
       "    .dataframe thead th {\n",
       "        text-align: right;\n",
       "    }\n",
       "</style>\n",
       "<table border=\"1\" class=\"dataframe\">\n",
       "  <thead>\n",
       "    <tr style=\"text-align: right;\">\n",
       "      <th></th>\n",
       "      <th>id</th>\n",
       "      <th>prompt</th>\n",
       "      <th>A</th>\n",
       "      <th>B</th>\n",
       "      <th>C</th>\n",
       "      <th>D</th>\n",
       "      <th>E</th>\n",
       "      <th>answer</th>\n",
       "      <th>context</th>\n",
       "      <th>preds</th>\n",
       "    </tr>\n",
       "  </thead>\n",
       "  <tbody>\n",
       "    <tr>\n",
       "      <th>0</th>\n",
       "      <td>0</td>\n",
       "      <td>Which of the following statements accurately d...</td>\n",
       "      <td>MOND is a theory that reduces the observed mis...</td>\n",
       "      <td>MOND is a theory that increases the discrepanc...</td>\n",
       "      <td>MOND is a theory that explains the missing bar...</td>\n",
       "      <td>MOND is a theory that reduces the discrepancy ...</td>\n",
       "      <td>MOND is a theory that eliminates the observed ...</td>\n",
       "      <td>D</td>\n",
       "      <td>The presence of a clustered thick disk-like co...</td>\n",
       "      <td>D</td>\n",
       "    </tr>\n",
       "    <tr>\n",
       "      <th>1</th>\n",
       "      <td>1</td>\n",
       "      <td>Which of the following is an accurate definiti...</td>\n",
       "      <td>Dynamic scaling refers to the evolution of sel...</td>\n",
       "      <td>Dynamic scaling refers to the non-evolution of...</td>\n",
       "      <td>Dynamic scaling refers to the evolution of sel...</td>\n",
       "      <td>Dynamic scaling refers to the non-evolution of...</td>\n",
       "      <td>Dynamic scaling refers to the evolution of sel...</td>\n",
       "      <td>A</td>\n",
       "      <td>Many of these systems evolve in a self-similar...</td>\n",
       "      <td>A</td>\n",
       "    </tr>\n",
       "    <tr>\n",
       "      <th>2</th>\n",
       "      <td>2</td>\n",
       "      <td>Which of the following statements accurately d...</td>\n",
       "      <td>The triskeles symbol was reconstructed as a fe...</td>\n",
       "      <td>The triskeles symbol is a representation of th...</td>\n",
       "      <td>The triskeles symbol is a representation of a ...</td>\n",
       "      <td>The triskeles symbol represents three interloc...</td>\n",
       "      <td>The triskeles symbol is a representation of th...</td>\n",
       "      <td>A</td>\n",
       "      <td>It is possible that this usage is related with...</td>\n",
       "      <td>A</td>\n",
       "    </tr>\n",
       "    <tr>\n",
       "      <th>3</th>\n",
       "      <td>3</td>\n",
       "      <td>What is the significance of regularization in ...</td>\n",
       "      <td>Regularizing the mass-energy of an electron wi...</td>\n",
       "      <td>Regularizing the mass-energy of an electron wi...</td>\n",
       "      <td>Regularizing the mass-energy of an electron wi...</td>\n",
       "      <td>Regularizing the mass-energy of an electron wi...</td>\n",
       "      <td>Regularizing the mass-energy of an electron wi...</td>\n",
       "      <td>C</td>\n",
       "      <td>Renormalization is distinct from regularizatio...</td>\n",
       "      <td>C</td>\n",
       "    </tr>\n",
       "    <tr>\n",
       "      <th>4</th>\n",
       "      <td>4</td>\n",
       "      <td>Which of the following statements accurately d...</td>\n",
       "      <td>The angular spacing of features in the diffrac...</td>\n",
       "      <td>The angular spacing of features in the diffrac...</td>\n",
       "      <td>The angular spacing of features in the diffrac...</td>\n",
       "      <td>The angular spacing of features in the diffrac...</td>\n",
       "      <td>The angular spacing of features in the diffrac...</td>\n",
       "      <td>D</td>\n",
       "      <td>Several qualitative observations can be made o...</td>\n",
       "      <td>D</td>\n",
       "    </tr>\n",
       "  </tbody>\n",
       "</table>\n",
       "</div>"
      ],
      "text/plain": [
       "   id                                             prompt  \\\n",
       "0   0  Which of the following statements accurately d...   \n",
       "1   1  Which of the following is an accurate definiti...   \n",
       "2   2  Which of the following statements accurately d...   \n",
       "3   3  What is the significance of regularization in ...   \n",
       "4   4  Which of the following statements accurately d...   \n",
       "\n",
       "                                                   A  \\\n",
       "0  MOND is a theory that reduces the observed mis...   \n",
       "1  Dynamic scaling refers to the evolution of sel...   \n",
       "2  The triskeles symbol was reconstructed as a fe...   \n",
       "3  Regularizing the mass-energy of an electron wi...   \n",
       "4  The angular spacing of features in the diffrac...   \n",
       "\n",
       "                                                   B  \\\n",
       "0  MOND is a theory that increases the discrepanc...   \n",
       "1  Dynamic scaling refers to the non-evolution of...   \n",
       "2  The triskeles symbol is a representation of th...   \n",
       "3  Regularizing the mass-energy of an electron wi...   \n",
       "4  The angular spacing of features in the diffrac...   \n",
       "\n",
       "                                                   C  \\\n",
       "0  MOND is a theory that explains the missing bar...   \n",
       "1  Dynamic scaling refers to the evolution of sel...   \n",
       "2  The triskeles symbol is a representation of a ...   \n",
       "3  Regularizing the mass-energy of an electron wi...   \n",
       "4  The angular spacing of features in the diffrac...   \n",
       "\n",
       "                                                   D  \\\n",
       "0  MOND is a theory that reduces the discrepancy ...   \n",
       "1  Dynamic scaling refers to the non-evolution of...   \n",
       "2  The triskeles symbol represents three interloc...   \n",
       "3  Regularizing the mass-energy of an electron wi...   \n",
       "4  The angular spacing of features in the diffrac...   \n",
       "\n",
       "                                                   E answer  \\\n",
       "0  MOND is a theory that eliminates the observed ...      D   \n",
       "1  Dynamic scaling refers to the evolution of sel...      A   \n",
       "2  The triskeles symbol is a representation of th...      A   \n",
       "3  Regularizing the mass-energy of an electron wi...      C   \n",
       "4  The angular spacing of features in the diffrac...      D   \n",
       "\n",
       "                                             context preds  \n",
       "0  The presence of a clustered thick disk-like co...     D  \n",
       "1  Many of these systems evolve in a self-similar...     A  \n",
       "2  It is possible that this usage is related with...     A  \n",
       "3  Renormalization is distinct from regularizatio...     C  \n",
       "4  Several qualitative observations can be made o...     D  "
      ]
     },
     "execution_count": 20,
     "metadata": {},
     "output_type": "execute_result"
    }
   ],
   "source": [
    "df_valid.head()"
   ]
  },
  {
   "cell_type": "code",
   "execution_count": 39,
   "id": "4797eb0c-52bb-468e-93c4-c933b2ab9fa8",
   "metadata": {
    "tags": []
   },
   "outputs": [],
   "source": [
    "wrong_df = df_valid.query(\"answer != preds\").reset_index(drop=True)\n",
    "df_valid[\"input\"] = df_valid[\"context\"].apply(lambda x: \" \".join(x.split()[:100])) + f\"... [SEP] \" + df_valid[\"prompt\"]\n",
    "\n",
    "\n",
    "def print_wrong(index):\n",
    "    for col, row in zip(df_valid.columns, wrong_df.iloc[index]):\n",
    "        print(f\"【{col}】:\", row)"
   ]
  },
  {
   "cell_type": "code",
   "execution_count": 40,
   "id": "3082cedd-19c6-4b96-8858-b5587cb2893a",
   "metadata": {
    "tags": []
   },
   "outputs": [
    {
     "name": "stdout",
     "output_type": "stream",
     "text": [
      "【id】: 13\n",
      "【prompt】: What is the Roche limit?\n",
      "【A】: The Roche limit is the distance at which tidal effects would cause an object to rotate since the forces exerted by two massive bodies produce a torque on a third object.\n",
      "【B】: The Roche limit is the distance at which tidal effects would cause an object to unite since differential force from a planet results in parts becoming attracted to one another.\n",
      "【C】: The Roche limit is the distance at which tidal effects would cause a planet to disintegrate since differential force from an object overcomes the planet's core.\n",
      "【D】: The Roche limit is the distance at which tidal effects would cause an object to disintegrate since differential force from a planet overcomes the attraction of the parts between them.\n",
      "【E】: The Roche limit is the distance at which tidal effects would cause an object to break apart due to differential force from the planet overcoming the attraction of the parts of the object for one another, which depends on the object's density and composition, as well as the mass and size of the planet.\n",
      "【answer】: D\n",
      "【context】: In celestial mechanics, the Roche limit, also called Roche radius, is the distance from a celestial body within which a second celestial body, held together only by its own force of gravity, will disintegrate because the first body's tidal forces exceed the second body's self-gravitation. But note that, as defined above, the Roche limit refers to a body held together solely by the gravitational forces which cause otherwise unconnected particles to coalesce, thus forming the body in question. The Roche limit for a rigid spherical satellite is the distance, d, from the primary at which the gravitational force on a test mass at the surface of the object is exactly equal to the tidal force pulling the mass away from the object:see calculation in Frank H. Shu, The Physical Universe: an Introduction to Astronomy, p. 431, University Science Books (1982), . : d = R_M\\left(2 \\frac {\\rho_M} {\\rho_m} \\right)^{\\frac{1}{3}} where R_M is the radius of the primary, \\rho_M is the density of the primary, and \\rho_m is the density of the satellite. The Roche limit is also usually calculated for the case of a circular orbit, although it is straightforward to modify the calculation to apply to the case (for example) of a body passing the primary on a parabolic or hyperbolic trajectory. === Rigid satellites === The rigid-body Roche limit is a simplified calculation for a spherical satellite. Since, within the Roche limit, tidal forces overwhelm the gravitational forces that might otherwise hold the satellite together, no satellite can gravitationally coalesce out of smaller particles within that limit. \n",
      "【preds】: E\n",
      "【input】: In celestial mechanics, the Roche limit, also called Roche radius, is the distance from a celestial body within which a second celestial body, held together only by its own force of gravity, will disintegrate because the first body's tidal forces exceed the second body's self-gravitation. But note that, as defined above, the Roche limit refers to a body held together solely by the gravitational forces which cause otherwise unconnected particles to coalesce, thus forming the body in question. The Roche limit for a rigid spherical satellite is the distance, d, from the primary at which the gravitational force on a... [SEP] What is the Roche limit?\n"
     ]
    }
   ],
   "source": [
    "\"\"\"\n",
    "ミスの原因？：質問同士がだいぶ近いので、区別が難しい\n",
    "\"\"\"\n",
    "print_wrong(0)"
   ]
  },
  {
   "cell_type": "code",
   "execution_count": 41,
   "id": "68c89737-9cdd-4f9e-a5aa-73db44876751",
   "metadata": {
    "tags": []
   },
   "outputs": [
    {
     "name": "stdout",
     "output_type": "stream",
     "text": [
      "【id】: 17\n",
      "【prompt】: What is the butterfly effect?\n",
      "【A】: The butterfly effect is a physical cause that occurs when a massive sphere is caused to roll down a slope starting from a point of unstable equilibrium, and its velocity is assumed to be caused by the force of gravity accelerating it.\n",
      "【B】: The butterfly effect is a distributed causality that opens up the opportunity to understand the relationship between necessary and sufficient conditions in classical (Newtonian) physics.\n",
      "【C】: The butterfly effect is a proportionality between the cause and the effect of a physical phenomenon in classical (Newtonian) physics.\n",
      "【D】: The butterfly effect is a small push that is needed to set a massive sphere into motion when it is caused to roll down a slope starting from a point of unstable equilibrium.\n",
      "【E】: The butterfly effect is a phenomenon that highlights the difference between the application of the notion of causality in physics and a more general use of causality as represented by Mackie's INUS conditions.\n",
      "【answer】: E\n",
      "【context】: The butterfly effect describes a phenomenon in chaos theory whereby a minor change in circumstances can cause a large change in outcome. In chaos theory, the butterfly effect is the sensitive dependence on initial conditions in which a small change in one state of a deterministic nonlinear system can result in large differences in a later state. Whereas the classical butterfly effect considers the effect of a small change in the position and/or velocity of an object in a given Hamiltonian system, the quantum butterfly effect considers the effect of a small change in the Hamiltonian system with a given initial position and velocity. He noted that the butterfly effect is derived from the metaphorical example of the details of a tornado (the exact time of formation, the exact path taken) being influenced by minor perturbations such as a distant butterfly flapping its wings several weeks earlier. The butterfly effect concept has since been used outside the context of weather science as a broad term for any situation where a small change is supposed to be the cause of larger consequences. ==History== In The Vocation of Man (1800), Johann Gottlieb Fichte says \"you could not remove a single grain of sand from its place without thereby ... changing something throughout all parts of the immeasurable whole\". \n",
      "【preds】: D\n",
      "【input】: The butterfly effect describes a phenomenon in chaos theory whereby a minor change in circumstances can cause a large change in outcome. In chaos theory, the butterfly effect is the sensitive dependence on initial conditions in which a small change in one state of a deterministic nonlinear system can result in large differences in a later state. Whereas the classical butterfly effect considers the effect of a small change in the position and/or velocity of an object in a given Hamiltonian system, the quantum butterfly effect considers the effect of a small change in the Hamiltonian system with a given... [SEP] What is the butterfly effect?\n"
     ]
    }
   ],
   "source": [
    "\"\"\"\n",
    "ミスの原因？\n",
    "\n",
    "- hitしたwikipediaが違う\n",
    " - 正解：https://en.wikipedia.org/wiki/Causality_(physics)\n",
    " - 間違い：butterfly effect\n",
    "\n",
    "\n",
    "タイトルと１行目からでは分からない内容を抽出しているので、現状のretrieval の方法ではカバーするのが難しい\n",
    "\"\"\"\n",
    "print_wrong(1)"
   ]
  },
  {
   "cell_type": "code",
   "execution_count": 44,
   "id": "0838303f-5f03-4011-9590-1c987044d544",
   "metadata": {
    "tags": []
   },
   "outputs": [
    {
     "name": "stdout",
     "output_type": "stream",
     "text": [
      "【id】: 18\n",
      "【prompt】: What is the 'reactive Leidenfrost effect' observed in non-volatile materials?\n",
      "【A】: The 'reactive Leidenfrost effect' is a phenomenon where solid particles float above hot surfaces and move erratically, observed in non-volatile materials.\n",
      "【B】: The 'reactive Leidenfrost effect' is a phenomenon where solid particles float above hot surfaces and move erratically, observed in volatile materials.\n",
      "【C】: The 'reactive Leidenfrost effect' is a phenomenon where solid particles sink into hot surfaces and move slowly, observed in non-volatile materials.\n",
      "【D】: The 'reactive Leidenfrost effect' is a phenomenon where solid particles float above cold surfaces and move erratically, observed in non-volatile materials.\n",
      "【E】: The 'reactive Leidenfrost effect' is a phenomenon where solid particles sink into cold surfaces and move slowly, observed in non-volatile materials.\n",
      "【answer】: A\n",
      "【context】: The new phenomenon of a 'reactive Leidenfrost (RL) effect' was characterized by a dimensionless quantity, (φRL= τconv/τrxn), which relates the time constant of solid particle heat transfer to the time constant of particle reaction, with the reactive Leidenfrost effect occurring for 10−1< φRL< 10+1. The Leidenfrost temperatures for glycerol and common alcohols are significantly smaller because of their lower surface tension values (density and viscosity differences are also contributing factors.) == Reactive Leidenfrost effect == thumb|Reactive Leidenfrost effect of cellulose on silica, Non-volatile materials were discovered in 2015 to also exhibit a 'reactive Leidenfrost effect', whereby solid particles were observed to float above hot surfaces and skitter around erratically. When the temperature exceeds the Leidenfrost point, the Leidenfrost effect appears. The temperature of the solid surface beyond which the liquid undergoes the Leidenfrost phenomenon is termed the Leidenfrost temperature. The Leidenfrost effect has also been used as a means to promote chemical change of various organic liquids through their conversion by thermal decomposition into various products. \n",
      "【preds】: C\n",
      "【input】: The new phenomenon of a 'reactive Leidenfrost (RL) effect' was characterized by a dimensionless quantity, (φRL= τconv/τrxn), which relates the time constant of solid particle heat transfer to the time constant of particle reaction, with the reactive Leidenfrost effect occurring for 10−1< φRL< 10+1. The Leidenfrost temperatures for glycerol and common alcohols are significantly smaller because of their lower surface tension values (density and viscosity differences are also contributing factors.) == Reactive Leidenfrost effect == thumb|Reactive Leidenfrost effect of cellulose on silica, Non-volatile materials were discovered in 2015 to also exhibit a 'reactive Leidenfrost effect', whereby solid particles were observed... [SEP] What is the 'reactive Leidenfrost effect' observed in non-volatile materials?\n"
     ]
    }
   ],
   "source": [
    "\"\"\"\n",
    "ミスの原因？\n",
    "\n",
    "\n",
    "- 抽出はできているが優先順位が低いのでcutされる\n",
    "  - >  == Reactive Leidenfrost effect == thumb|Reactive Leidenfrost effect of cellulose on silica, Non-volatile materials were discovered in 2015 to also exhibit a 'reactive Leidenfrost effect', whereby solid particles were observed to float above hot surfaces and skitter around erratically. \n",
    "→各選択肢との類似度を取ればcutされずに上位に入りそう\n",
    "\"\"\"\n",
    "print_wrong(2)"
   ]
  },
  {
   "cell_type": "code",
   "execution_count": 45,
   "id": "46fb57e9-2a93-4a0b-9aaf-efc11538c778",
   "metadata": {
    "tags": []
   },
   "outputs": [
    {
     "name": "stdout",
     "output_type": "stream",
     "text": [
      "【id】: 28\n",
      "【prompt】: What is the evidence for the existence of a supermassive black hole at the center of the Milky Way galaxy?\n",
      "【A】: The Milky Way galaxy has a supermassive black hole at its center because of the bright flare activity observed near Sagittarius A*. The radius of the central object must be less than 17 light-hours, because otherwise S2 would collide with it. Observations of the star S14 indicate that the radius is no more than 6.25 light-hours, about the diameter of Uranus' orbit. No known astronomical object other than a black hole can contain 4.0 million M☉ in this volume of space.\n",
      "【B】: The Milky Way galaxy has a supermassive black hole at its center because the star S14 follows an elliptical orbit with a period of 15.2 years and a pericenter of 17 light-hours from the center of the central object. From the motion of star S14, the object's mass can be estimated as 4.0 million M☉, or about 7.96×1036 kg. The radius of the central object must be less than 17 light-hours, because otherwise S14 would collide with it. Observations of the star S2 indicate that the radius is no more than 6.25 light-hours, about the diameter of Uranus' orbit. No known astronomical object other than a black hole can contain 4.0 million M☉ in this volume of space.\n",
      "【C】: The Milky Way galaxy has a supermassive black hole at its center because of the bright flare activity observed near Sagittarius A*. The radius of the central object must be less than 6.25 light-hours, about the diameter of Uranus' orbit. Observations of the star S2 indicate that the radius is no more than 17 light-hours, because otherwise S2 would collide with it. No known astronomical object other than a black hole can contain 4.0 million M☉ in this volume of space.\n",
      "【D】: The Milky Way galaxy has a supermassive black hole at its center because it is the only explanation for the bright flare activity observed near Sagittarius A* at a separation of six to ten times the gravitational radius of the candidate SMBH.\n",
      "【E】: The star S2 follows an elliptical orbit with a period of 15.2 years and a pericenter of 17 light-hours from the center of the central object. From the motion of star S2, the object's mass can be estimated as 4.0 million M☉, or about 7.96×1036 kg. The radius of the central object must be less than 17 light-hours, because otherwise S2 would collide with it. Observations of the star S14 indicate that the radius is no more than 6.25 light-hours, about the diameter of Uranus' orbit. No known astronomical object other than a black hole can contain 4.0 million M☉ in this volume of space.\n",
      "【answer】: E\n",
      "【context】: Professor Andrea Ghez et al. suggested in 2014 that G2 is not a gas cloud but rather a pair of binary stars that had been orbiting the black hole in tandem and merged into an extremely large star. ==See also== * * List of nearest known black holes ==Notes== ==References== * * * * * * * * ==Further reading== * * * * * * * * * * ==External links== * UCLA Galactic Center Group – latest results retrieved 8/12/2009 * Is there a Supermassive Black Hole at the Center of the Milky Way? (arXiv preprint) * 2004 paper deducing mass of central black hole from orbits of 7 stars (arXiv preprint) * ESO video clip of orbiting star (533 KB MPEG Video) * The Proper Motion of Sgr A* and the Mass of Sgr A* (PDF) * NRAO article regarding VLBI radio imaging of Sgr A* * Peering into a Black Hole, 2015 New York Times video * Image of supermassive black hole Sagittarius A* (2022), Harvard Center for Astrophysics * (NSF; 12 May 2022) Category:Articles containing video clips Category:Astronomical objects discovered in 1974 Category:Astronomical radio sources Category:Supermassive black holes Category:Galactic Center From examining the Keplerian orbit of S2, they determined the mass of Sagittarius A* to be solar masses, confined in a volume with a radius no more than 17 light-hours ().Ghez et al. (2003) \"The First Measurement of Spectral Lines in a Short-Period Star Bound to the Galaxy's Central Black Hole: A Paradox of Youth\" Astrophysical Journal 586 L127 Later observations of the star S14 showed the mass of the object to be about 4.1 million solar masses within a volume with radius no larger than 6.25 light- hours (). Based on mass and increasingly precise radius limits, astronomers concluded that Sagittarius A* must be the Milky Way's central supermassive black hole. The stellar orbits in the Galactic Center show that the central mass concentration of four million solar masses must be a black hole, beyond any reasonable doubt.\"O'Neill 2008 On January 5, 2015, NASA reported observing an X-ray flare 400 times brighter than usual, a record-breaker, from Sgr A*. The comparatively small mass of this supermassive black hole, along with the low luminosity of the radio and infrared emission lines, imply that the Milky Way is not a Seyfert galaxy. \n",
      "【preds】: B\n",
      "【input】: Professor Andrea Ghez et al. suggested in 2014 that G2 is not a gas cloud but rather a pair of binary stars that had been orbiting the black hole in tandem and merged into an extremely large star. ==See also== * * List of nearest known black holes ==Notes== ==References== * * * * * * * * ==Further reading== * * * * * * * * * * ==External links== * UCLA Galactic Center Group – latest results retrieved 8/12/2009 * Is there a Supermassive Black Hole at the Center of the Milky Way? (arXiv preprint) * 2004... [SEP] What is the evidence for the existence of a supermassive black hole at the center of the Milky Way galaxy?\n"
     ]
    }
   ],
   "source": [
    "\"\"\"\n",
    "ミスの原因？\n",
    "\n",
    "hit はしているがうまく抽出できていない\n",
    "- 必要なS2に関する情報をhttps://en.wikipedia.org/wiki/Supermassive_black_hole　から取得できていない\n",
    "- Referencesなどの不要なものが上位に入ってしまっている\n",
    "→各選択肢との類似度を取ればcutされずに上位に入りそう\n",
    "\"\"\"\n",
    "print_wrong(3)"
   ]
  },
  {
   "cell_type": "code",
   "execution_count": 46,
   "id": "4f937a2a-0a7f-40e4-a91b-0c6053e1216a",
   "metadata": {
    "tags": []
   },
   "outputs": [
    {
     "name": "stdout",
     "output_type": "stream",
     "text": [
      "【id】: 35\n",
      "【prompt】: What was the aim of the Gravity Probe B (GP-B) mission?\n",
      "【A】: To prove that pressure contributes equally to spacetime curvature as does mass-energy.\n",
      "【B】: To measure spacetime curvature near Earth, with particular emphasis on gravitomagnetism.\n",
      "【C】: To measure the distribution of Fe and Al on the Moon's surface.\n",
      "【D】: To confirm the relatively large geodetic effect due to simple spacetime curvature, and is also known as de Sitter precession.\n",
      "【E】: To measure the discrepancy between active and passive mass to about 10−12.\n",
      "【answer】: B\n",
      "【context】: Gravity Probe B (GP-B) was a satellite-based experiment to test two unverified predictions of general relativity: the geodetic effect and frame-dragging. In a public press and media event at NASA Headquarters, GP-B Principal Investigator, Francis Everitt presented the final results of Gravity Probe B. ;19 November 2015 : Publication of GP-B Special Volume (Volume #32, Issue #22) in the peer-reviewed journal, Classical and Quantum Gravity. Final science results were reported in 2011. ==Experimental setup== thumb The Gravity Probe B experiment comprised four London moment gyroscopes and a reference telescope sighted on IM Pegasi, a binary star in the constellation Pegasus. Gravity Probe may refer to: * Gravity Probe A * Gravity Probe B de:Gravity Probe Gravity Probe B was expected to measure this effect to an accuracy of one part in 10,000, the most stringent check on general relativistic predictions to date. \n",
      "【preds】: D\n",
      "【input】: Gravity Probe B (GP-B) was a satellite-based experiment to test two unverified predictions of general relativity: the geodetic effect and frame-dragging. In a public press and media event at NASA Headquarters, GP-B Principal Investigator, Francis Everitt presented the final results of Gravity Probe B. ;19 November 2015 : Publication of GP-B Special Volume (Volume #32, Issue #22) in the peer-reviewed journal, Classical and Quantum Gravity. Final science results were reported in 2011. ==Experimental setup== thumb The Gravity Probe B experiment comprised four London moment gyroscopes and a reference telescope sighted on IM Pegasi, a binary star in the constellation Pegasus.... [SEP] What was the aim of the Gravity Probe B (GP-B) mission?\n"
     ]
    }
   ],
   "source": [
    "\"\"\"\n",
    "ミスの原因？\n",
    "\n",
    "- hitしたwikipediaが違う\n",
    " - 不正解：https://en.wikipedia.org/wiki/Gravity_Probe_B\n",
    " - 正解：https://en.wikipedia.org/wiki/Spacetime\n",
    "\"\"\"\n",
    "print_wrong(4)"
   ]
  },
  {
   "cell_type": "code",
   "execution_count": 47,
   "id": "5dac9962-266d-487a-84fd-bd3881a7116b",
   "metadata": {
    "tags": []
   },
   "outputs": [
    {
     "name": "stdout",
     "output_type": "stream",
     "text": [
      "【id】: 39\n",
      "【prompt】: What is the synapstor or synapse transistor?\n",
      "【A】: A device used to demonstrate a neuro-inspired circuit that shows short-term potentiation for learning and inactivity-based forgetting.\n",
      "【B】: A device used to demonstrate a neuro-inspired circuit that shows long-term potentiation for learning and activity-based forgetting.\n",
      "【C】: A device used to demonstrate a neuro-inspired circuit that shows short-term depression for learning and inactivity-based forgetting.\n",
      "【D】: A device used to demonstrate a neuro-inspired circuit that shows short-term potentiation for learning and activity-based forgetting.\n",
      "【E】: A device used to demonstrate a neuro-inspired circuit that shows long-term potentiation for learning and inactivity-based forgetting.\n",
      "【answer】: E\n",
      "【context】: A synaptic transistor is an electrical device that can learn in ways similar to a neural synapse. The input and output of the synaptic transistor are continuous analog values, rather than digital on-off signals. A network of such devices can learn particular responses to \"sensory inputs\", with those responses being learned through experience rather than explicitly programmed. ==References== Category:Transistor types Category:Artificial neural networks While the physical structure of the device has the potential to learn from history, it contains no way to bias the transistor to control the memory effect. Synapse is a peer-reviewed scientific journal of neuroscience published in New York City by Wiley-Liss to address basic science topics on synaptic function and structure. \n",
      "【preds】: A\n",
      "【input】: A synaptic transistor is an electrical device that can learn in ways similar to a neural synapse. The input and output of the synaptic transistor are continuous analog values, rather than digital on-off signals. A network of such devices can learn particular responses to \"sensory inputs\", with those responses being learned through experience rather than explicitly programmed. ==References== Category:Transistor types Category:Artificial neural networks While the physical structure of the device has the potential to learn from history, it contains no way to bias the transistor to control the memory effect. Synapse is a peer-reviewed scientific journal of neuroscience published in... [SEP] What is the synapstor or synapse transistor?\n"
     ]
    }
   ],
   "source": [
    "\"\"\"\n",
    "ミスの原因？\n",
    "\n",
    "- hitしたwikipediaが違う\n",
    " - 不正解：https://en.wikipedia.org/wiki/Synaptic_transistor\n",
    " - 正解：https://en.wikipedia.org/wiki/Memristor\n",
    "\"\"\"\n",
    "print_wrong(5)"
   ]
  },
  {
   "cell_type": "code",
   "execution_count": 48,
   "id": "ada3cad3-ffdd-40c1-a4ad-3b97331cbd97",
   "metadata": {
    "tags": []
   },
   "outputs": [
    {
     "name": "stdout",
     "output_type": "stream",
     "text": [
      "【id】: 41\n",
      "【prompt】: What is the proper distance for a redshift of 8.2?\n",
      "【A】: The proper distance for a redshift of 8.2 is about 6.2 Gpc, or about 24 billion light-years.\n",
      "【B】: The proper distance for a redshift of 8.2 is about 7.2 Gpc, or about 26 billion light-years.\n",
      "【C】: The proper distance for a redshift of 8.2 is about 9.2 Gpc, or about 30 billion light-years.\n",
      "【D】: The proper distance for a redshift of 8.2 is about 8.2 Gpc, or about 28 billion light-years.\n",
      "【E】: The proper distance for a redshift of 8.2 is about 10.2 Gpc, or about 32 billion light-years.\n",
      "【answer】: C\n",
      "【context】: __NOTOC__ MACS0647-JD is a galaxy with a redshift of about z = 10.7, equivalent to a light travel distance of 13.26 billion light-years (4 billion parsecs). Using Hubble's law, the redshift can be used to estimate the distance of an object from Earth. Photometric redshifts were originally determined by calculating the expected observed data from a known emission spectrum at a range of redshifts. In the absence of sufficient telescope time to determine a spectroscopic redshift for each object, the technique of photometric redshifts provides a method to determine an at least qualitative characterization of a redshift. A photometric redshift is an estimate for the recession velocity of an astronomical object such as a galaxy or quasar, made without measuring its spectrum. \n",
      "【preds】: E\n",
      "【input】: __NOTOC__ MACS0647-JD is a galaxy with a redshift of about z = 10.7, equivalent to a light travel distance of 13.26 billion light-years (4 billion parsecs). Using Hubble's law, the redshift can be used to estimate the distance of an object from Earth. Photometric redshifts were originally determined by calculating the expected observed data from a known emission spectrum at a range of redshifts. In the absence of sufficient telescope time to determine a spectroscopic redshift for each object, the technique of photometric redshifts provides a method to determine an at least qualitative characterization of a redshift. A photometric redshift... [SEP] What is the proper distance for a redshift of 8.2?\n"
     ]
    }
   ],
   "source": [
    "\"\"\"\n",
    "ミスの原因？\n",
    "\n",
    "- hitしたwikipediaが違う\n",
    " - 不正解: https://en.wikipedia.org/wiki/MACS0647-JD\n",
    " - 正解：https://en.wikipedia.org/wiki/Observable_universe\n",
    "\"\"\"\n",
    "print_wrong(6)"
   ]
  },
  {
   "cell_type": "code",
   "execution_count": 49,
   "id": "199220cf-227d-49b4-8c9c-bef2d5cdabcc",
   "metadata": {
    "tags": []
   },
   "outputs": [
    {
     "name": "stdout",
     "output_type": "stream",
     "text": [
      "【id】: 53\n",
      "【prompt】: What did Newton adopt after his correspondence with Hooke in 1679-1680?\n",
      "【A】: The language of inward or centripetal force.\n",
      "【B】: The language of gravitational force.\n",
      "【C】: The language of outward or centrifugal force.\n",
      "【D】: The language of tangential and radial displacements.\n",
      "【E】: The language of electromagnetic force.\n",
      "【answer】: A\n",
      "【context】: Newton and Hooke had brief exchanges in 1679–80, when Hooke, appointed to manage the Royal Society's correspondence, opened up a correspondence intended to elicit contributions from Newton to Royal Society transactions, which had the effect of stimulating Newton to work out a proof that the elliptical form of planetary orbits would result from a centripetal force inversely proportional to the square of the radius vector. Newton was well-versed in both classics and modern languages. In the , Newton formulated the laws of motion and universal gravitation that formed the dominant scientific viewpoint for centuries until it was superseded by the theory of relativity. A draft letter regarding the matter is included in Newton's personal first edition of Philosophiæ Naturalis Principia Mathematica, which he must have been amending at the time. This followed stimulation by a brief exchange of letters in 1679–80 with Hooke, who had been appointed to manage the Royal Society's correspondence, and who opened a correspondence intended to elicit contributions from Newton to Royal Society transactions. \n",
      "【preds】: D\n",
      "【input】: Newton and Hooke had brief exchanges in 1679–80, when Hooke, appointed to manage the Royal Society's correspondence, opened up a correspondence intended to elicit contributions from Newton to Royal Society transactions, which had the effect of stimulating Newton to work out a proof that the elliptical form of planetary orbits would result from a centripetal force inversely proportional to the square of the radius vector. Newton was well-versed in both classics and modern languages. In the , Newton formulated the laws of motion and universal gravitation that formed the dominant scientific viewpoint for centuries until it was superseded by the... [SEP] What did Newton adopt after his correspondence with Hooke in 1679-1680?\n"
     ]
    }
   ],
   "source": [
    "\"\"\"\n",
    "ミスの原因？\n",
    "\n",
    "- hitしたwikipediaが違う\n",
    "    - 不正解：https://en.wikipedia.org/wiki/Isaac_Newton\n",
    "    - 正解：https://en.wikipedia.org/wiki/Newton%27s_law_of_universal_gravitation\n",
    "\"\"\"\n",
    "print_wrong(7)"
   ]
  },
  {
   "cell_type": "code",
   "execution_count": null,
   "id": "2796f6db-fd2b-48c9-83b9-7b37c28c9678",
   "metadata": {},
   "outputs": [],
   "source": []
  }
 ],
 "metadata": {
  "kernelspec": {
   "display_name": "Python 3 (ipykernel)",
   "language": "python",
   "name": "python3"
  },
  "language_info": {
   "codemirror_mode": {
    "name": "ipython",
    "version": 3
   },
   "file_extension": ".py",
   "mimetype": "text/x-python",
   "name": "python",
   "nbconvert_exporter": "python",
   "pygments_lexer": "ipython3",
   "version": "3.10.12"
  }
 },
 "nbformat": 4,
 "nbformat_minor": 5
}
