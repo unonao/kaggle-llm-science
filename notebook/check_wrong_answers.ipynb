{
 "cells": [
  {
   "cell_type": "code",
   "execution_count": 1,
   "id": "f2b496e1-e088-4472-841c-099e357b13cd",
   "metadata": {
    "tags": []
   },
   "outputs": [
    {
     "name": "stderr",
     "output_type": "stream",
     "text": [
      "/opt/conda/lib/python3.10/site-packages/scipy/__init__.py:146: UserWarning: A NumPy version >=1.16.5 and <1.23.0 is required for this version of SciPy (detected version 1.23.5\n",
      "  warnings.warn(f\"A NumPy version >={np_minversion} and <{np_maxversion}\"\n"
     ]
    }
   ],
   "source": [
    "import ctypes\n",
    "import gc\n",
    "\n",
    "import torch\n",
    "\n",
    "libc = ctypes.CDLL(\"libc.so.6\")\n",
    "\n",
    "from dataclasses import dataclass\n",
    "from typing import Optional, Union\n",
    "\n",
    "import numpy as np\n",
    "import pandas as pd\n",
    "import torch\n",
    "from datasets import Dataset\n",
    "from torch.utils.data import DataLoader\n",
    "from transformers import AutoModel, AutoModelForMultipleChoice, AutoTokenizer, Trainer, TrainingArguments\n",
    "from transformers.tokenization_utils_base import PaddingStrategy, PreTrainedTokenizerBase"
   ]
  },
  {
   "cell_type": "code",
   "execution_count": 2,
   "id": "f9511145-d885-4dcd-9ba0-9f2f5a684f8c",
   "metadata": {
    "tags": []
   },
   "outputs": [],
   "source": [
    "# https://www.kaggle.com/code/philippsinger/h2ogpt-perplexity-ranking\n",
    "def precision_at_k(r, k):\n",
    "    \"\"\"Precision at k\"\"\"\n",
    "    assert k <= len(r)\n",
    "    assert k != 0\n",
    "    return sum(int(x) for x in r[:k]) / k\n",
    "\n",
    "\n",
    "def map_k(true_items, predictions, K=3):\n",
    "    \"\"\"Score is mean average precision at 3\"\"\"\n",
    "    U = len(predictions)\n",
    "    map_at_k = 0.0\n",
    "    for u in range(U):\n",
    "        user_preds = predictions[u]\n",
    "        user_true = true_items[u]\n",
    "        user_results = [1 if item == user_true else 0 for item in user_preds]\n",
    "        for k in range(min(len(user_preds), K)):\n",
    "            map_at_k += precision_at_k(user_results, k + 1) * user_results[k]\n",
    "    return map_at_k / U\n",
    "\n",
    "\n",
    "import numpy as np\n",
    "\n",
    "\n",
    "def predictions_to_map_output(predictions):\n",
    "    sorted_answer_indices = np.argsort(-predictions)  # Sortting indices in descending order\n",
    "    top_answer_indices = sorted_answer_indices[:, :]  # Taking the first three indices for each row\n",
    "    top_answers = np.vectorize(index_to_option.get)(\n",
    "        top_answer_indices\n",
    "    )  # Transforming indices to options - i.e., 0 --> A\n",
    "    return np.apply_along_axis(lambda row: \" \".join(row), 1, top_answers)\n",
    "\n",
    "\n",
    "@dataclass\n",
    "class DataCollatorForMultipleChoice:\n",
    "    tokenizer: PreTrainedTokenizerBase\n",
    "    padding: Union[bool, str, PaddingStrategy] = True\n",
    "    max_length: Optional[int] = None\n",
    "    pad_to_multiple_of: Optional[int] = None\n",
    "\n",
    "    def __call__(self, features):\n",
    "        label_name = \"label\" if \"label\" in features[0].keys() else \"labels\"\n",
    "        labels = [feature.pop(label_name) for feature in features]\n",
    "        batch_size = len(features)\n",
    "        num_choices = len(features[0][\"input_ids\"])\n",
    "        flattened_features = [\n",
    "            [{k: v[i] for k, v in feature.items()} for i in range(num_choices)] for feature in features\n",
    "        ]\n",
    "        flattened_features = sum(flattened_features, [])\n",
    "\n",
    "        batch = self.tokenizer.pad(\n",
    "            flattened_features,\n",
    "            padding=self.padding,\n",
    "            max_length=self.max_length,\n",
    "            pad_to_multiple_of=self.pad_to_multiple_of,\n",
    "            return_tensors=\"pt\",\n",
    "        )\n",
    "        batch = {k: v.view(batch_size, num_choices, -1) for k, v in batch.items()}\n",
    "        batch[\"labels\"] = torch.tensor(labels, dtype=torch.int64)\n",
    "        return batch"
   ]
  },
  {
   "cell_type": "code",
   "execution_count": 3,
   "id": "43585f9c-d1fc-4af0-8004-12f90c515373",
   "metadata": {
    "tags": []
   },
   "outputs": [
    {
     "data": {
      "application/vnd.jupyter.widget-view+json": {
       "model_id": "c9a8d714bfe94fa79d21aeccf3820d46",
       "version_major": 2,
       "version_minor": 0
      },
      "text/plain": [
       "Map:   0%|          | 0/2200 [00:00<?, ? examples/s]"
      ]
     },
     "metadata": {},
     "output_type": "display_data"
    }
   ],
   "source": [
    "df_valid = pd.read_csv(\"../preprocessed/002_gpu/000/train.csv\")\n",
    "\n",
    "model_dict = {\"path\": \"../llm-science-models/007_validation/001/checkpoint-79127\", \"mode\": \"007\"}\n",
    "\n",
    "all_preds = []\n",
    "all_labels = []\n",
    "tokenizer = AutoTokenizer.from_pretrained(model_dict[\"path\"])\n",
    "\n",
    "test_df = pd.concat(\n",
    "    [\n",
    "        pd.read_csv(\"../preprocessed/002_gpu/000/train.csv\"),\n",
    "        pd.read_csv(\"../preprocessed/002_gpu/000/6000_wiki_en_sci_questions.csv\").head(2000),\n",
    "    ]\n",
    ").reset_index(drop=True)\n",
    "test_df[\"id\"] = test_df.index\n",
    "\n",
    "option_to_index = {option: idx for idx, option in enumerate(\"ABCDE\")}\n",
    "index_to_option = {v: k for k, v in option_to_index.items()}\n",
    "\n",
    "if model_dict[\"mode\"] == \"002\":\n",
    "\n",
    "    def preprocess(example):\n",
    "        first_sentence = [example[\"prompt\"]] * 5\n",
    "        second_sentences = [example[option] for option in \"ABCDE\"]\n",
    "        tokenized_example = tokenizer(first_sentence, second_sentences, truncation=False)\n",
    "        tokenized_example[\"label\"] = option_to_index[example[\"answer\"]]\n",
    "        return tokenized_example\n",
    "\n",
    "    tokenized_test_dataset = Dataset.from_pandas(test_df.drop(columns=[\"id\"])).map(\n",
    "        preprocess, remove_columns=[\"context\", \"prompt\", \"A\", \"B\", \"C\", \"D\", \"E\", \"answer\"]\n",
    "    )\n",
    "\n",
    "elif model_dict[\"mode\"] == \"003\":\n",
    "    test_df[\"prompt\"] = test_df[\"context\"].str.slice(0, 800) + \" #### \" + test_df[\"prompt\"]\n",
    "\n",
    "    def preprocess(example):\n",
    "        first_sentence = [example[\"prompt\"]] * 5\n",
    "        second_sentences = [example[option] for option in \"ABCDE\"]\n",
    "        tokenized_example = tokenizer(first_sentence, second_sentences, truncation=False)\n",
    "        tokenized_example[\"label\"] = option_to_index[example[\"answer\"]]\n",
    "        return tokenized_example\n",
    "\n",
    "    tokenized_test_dataset = Dataset.from_pandas(test_df.drop(columns=[\"id\"])).map(\n",
    "        preprocess, remove_columns=[\"context\", \"prompt\", \"A\", \"B\", \"C\", \"D\", \"E\", \"answer\"]\n",
    "    )\n",
    "\n",
    "elif model_dict[\"mode\"] == \"004\":\n",
    "    test_df[\"prompt\"] = test_df[\"prompt\"] + \" ## \" + test_df[\"context\"]\n",
    "\n",
    "    def preprocess(example):\n",
    "        first_sentence = [example[\"prompt\"]] * 5\n",
    "        second_sentences = [example[option] for option in \"ABCDE\"]\n",
    "        tokenized_example = tokenizer(first_sentence, second_sentences, truncation=True, max_length=384)\n",
    "        tokenized_example[\"label\"] = option_to_index[example[\"answer\"]]\n",
    "        return tokenized_example\n",
    "\n",
    "    tokenized_test_dataset = Dataset.from_pandas(test_df.drop(columns=[\"id\"])).map(\n",
    "        preprocess, remove_columns=[\"context\", \"prompt\", \"A\", \"B\", \"C\", \"D\", \"E\", \"answer\"]\n",
    "    )\n",
    "\n",
    "elif model_dict[\"mode\"] == \"005\":\n",
    "    test_df[\"prompt\"] = (\n",
    "        test_df[\"context\"].apply(lambda x: \" \".join(x.split()[:100])) + f\"... [SEP] \" + test_df[\"prompt\"]\n",
    "    )\n",
    "\n",
    "    def preprocess(example):\n",
    "        first_sentence = [example[\"prompt\"]] * 5\n",
    "        second_sentences = [example[option] for option in \"ABCDE\"]\n",
    "        tokenized_example = tokenizer(first_sentence, second_sentences, truncation=False)\n",
    "        tokenized_example[\"label\"] = option_to_index[example[\"answer\"]]\n",
    "        return tokenized_example\n",
    "\n",
    "    tokenized_test_dataset = Dataset.from_pandas(test_df.drop(columns=[\"id\"])).map(\n",
    "        preprocess, remove_columns=[\"context\", \"prompt\", \"A\", \"B\", \"C\", \"D\", \"E\", \"answer\"]\n",
    "    )\n",
    "\n",
    "elif model_dict[\"mode\"] == \"007\":\n",
    "    test_df[\"prompt\"] = (\n",
    "        test_df[\"context\"].apply(lambda x: \" \".join(x.split()[:70])) + f\"... [SEP] \" + test_df[\"prompt\"]\n",
    "    )\n",
    "\n",
    "    def preprocess(example):\n",
    "        first_sentence = [example[\"prompt\"]] * 5\n",
    "        second_sentences = [example[option] for option in \"ABCDE\"]\n",
    "        tokenized_example = tokenizer(first_sentence, second_sentences, truncation=False)\n",
    "        tokenized_example[\"label\"] = option_to_index[example[\"answer\"]]\n",
    "        return tokenized_example\n",
    "\n",
    "    tokenized_test_dataset = Dataset.from_pandas(test_df.drop(columns=[\"id\"])).map(\n",
    "        preprocess, remove_columns=[\"context\", \"prompt\", \"A\", \"B\", \"C\", \"D\", \"E\", \"answer\"]\n",
    "    )"
   ]
  },
  {
   "cell_type": "code",
   "execution_count": 7,
   "id": "e91d1ef5-213a-4dc5-ac05-25c1650b1043",
   "metadata": {
    "tags": []
   },
   "outputs": [
    {
     "data": {
      "application/vnd.jupyter.widget-view+json": {
       "model_id": "b4c36a08d86a43eb8ce2c65bcbde8b4e",
       "version_major": 2,
       "version_minor": 0
      },
      "text/plain": [
       "  0%|          | 0/2200 [00:00<?, ?it/s]"
      ]
     },
     "metadata": {},
     "output_type": "display_data"
    },
    {
     "name": "stdout",
     "output_type": "stream",
     "text": [
      "{'path': '../llm-science-models/007_validation/001/checkpoint-79127', 'mode': '007'}\n",
      "{'best_map@3': 0.871666666666667, 'new_map@3': 0.7862121212121177}\n"
     ]
    }
   ],
   "source": [
    "from tqdm.auto import tqdm\n",
    "\n",
    "data_collator = DataCollatorForMultipleChoice(tokenizer=tokenizer)\n",
    "test_dataloader = DataLoader(\n",
    "    tokenized_test_dataset,\n",
    "    1,\n",
    "    shuffle=False,\n",
    "    collate_fn=data_collator,\n",
    ")\n",
    "\n",
    "model = AutoModelForMultipleChoice.from_pretrained(model_dict[\"path\"]).cuda()\n",
    "model.eval()\n",
    "preds = []\n",
    "labels = []\n",
    "for batch in tqdm(test_dataloader):\n",
    "    for k in batch.keys():\n",
    "        batch[k] = batch[k].cuda()\n",
    "    with torch.no_grad():\n",
    "        outputs = model(**batch)\n",
    "    labels.append(batch[\"labels\"].cpu().detach())\n",
    "    preds.append(outputs.logits.cpu().detach())\n",
    "\n",
    "preds = torch.cat(preds)\n",
    "labels = torch.cat(labels)\n",
    "\n",
    "result_dict = {\n",
    "    \"best_map@3\": map_k(df_valid[\"answer\"].to_numpy(), predictions_to_map_output(preds[: len(df_valid), :])),\n",
    "    \"new_map@3\": map_k(test_df[\"answer\"].to_numpy(), predictions_to_map_output(preds)),\n",
    "}\n",
    "\n",
    "print(model_dict)\n",
    "print(result_dict)\n",
    "del model\n",
    "_ = gc.collect()\n",
    "libc.malloc_trim(0)\n",
    "torch.cuda.empty_cache()"
   ]
  },
  {
   "cell_type": "code",
   "execution_count": 23,
   "id": "15ccfc59-b9af-42e8-8323-0898b1b9ab84",
   "metadata": {
    "tags": []
   },
   "outputs": [],
   "source": [
    "def predictions_to_map_output_top(predictions):\n",
    "    sorted_answer_indices = np.argsort(-predictions)  # Sortting indices in descending order\n",
    "    top_answer_indices = sorted_answer_indices[:, :]  # Taking the first three indices for each row\n",
    "    top_answers = np.vectorize(index_to_option.get)(\n",
    "        top_answer_indices\n",
    "    )  # Transforming indices to options - i.e., 0 --> A\n",
    "    return np.apply_along_axis(lambda row: \" \".join(row[0]), 1, top_answers)\n",
    "\n",
    "\n",
    "valid_preds = predictions_to_map_output_top(preds[: len(test_df), :])\n",
    "test_df[\"preds\"] = valid_preds"
   ]
  },
  {
   "cell_type": "code",
   "execution_count": 24,
   "id": "79cc53d5-48d6-495c-be6c-e8dcee532340",
   "metadata": {
    "tags": []
   },
   "outputs": [
    {
     "data": {
      "text/html": [
       "<div>\n",
       "<style scoped>\n",
       "    .dataframe tbody tr th:only-of-type {\n",
       "        vertical-align: middle;\n",
       "    }\n",
       "\n",
       "    .dataframe tbody tr th {\n",
       "        vertical-align: top;\n",
       "    }\n",
       "\n",
       "    .dataframe thead th {\n",
       "        text-align: right;\n",
       "    }\n",
       "</style>\n",
       "<table border=\"1\" class=\"dataframe\">\n",
       "  <thead>\n",
       "    <tr style=\"text-align: right;\">\n",
       "      <th></th>\n",
       "      <th>id</th>\n",
       "      <th>prompt</th>\n",
       "      <th>A</th>\n",
       "      <th>B</th>\n",
       "      <th>C</th>\n",
       "      <th>D</th>\n",
       "      <th>E</th>\n",
       "      <th>answer</th>\n",
       "      <th>context</th>\n",
       "      <th>preds</th>\n",
       "    </tr>\n",
       "  </thead>\n",
       "  <tbody>\n",
       "    <tr>\n",
       "      <th>0</th>\n",
       "      <td>0</td>\n",
       "      <td>While almost all astrophysicists today reject ...</td>\n",
       "      <td>MOND is a theory that reduces the observed mis...</td>\n",
       "      <td>MOND is a theory that increases the discrepanc...</td>\n",
       "      <td>MOND is a theory that explains the missing bar...</td>\n",
       "      <td>MOND is a theory that reduces the discrepancy ...</td>\n",
       "      <td>MOND is a theory that eliminates the observed ...</td>\n",
       "      <td>D</td>\n",
       "      <td>While almost all astrophysicists today reject ...</td>\n",
       "      <td>D</td>\n",
       "    </tr>\n",
       "    <tr>\n",
       "      <th>1</th>\n",
       "      <td>1</td>\n",
       "      <td>Many of these systems evolve in a self-similar...</td>\n",
       "      <td>Dynamic scaling refers to the evolution of sel...</td>\n",
       "      <td>Dynamic scaling refers to the non-evolution of...</td>\n",
       "      <td>Dynamic scaling refers to the evolution of sel...</td>\n",
       "      <td>Dynamic scaling refers to the non-evolution of...</td>\n",
       "      <td>Dynamic scaling refers to the evolution of sel...</td>\n",
       "      <td>A</td>\n",
       "      <td>Many of these systems evolve in a self-similar...</td>\n",
       "      <td>A</td>\n",
       "    </tr>\n",
       "    <tr>\n",
       "      <th>2</th>\n",
       "      <td>2</td>\n",
       "      <td>It is possible that this usage is related with...</td>\n",
       "      <td>The triskeles symbol was reconstructed as a fe...</td>\n",
       "      <td>The triskeles symbol is a representation of th...</td>\n",
       "      <td>The triskeles symbol is a representation of a ...</td>\n",
       "      <td>The triskeles symbol represents three interloc...</td>\n",
       "      <td>The triskeles symbol is a representation of th...</td>\n",
       "      <td>A</td>\n",
       "      <td>It is possible that this usage is related with...</td>\n",
       "      <td>D</td>\n",
       "    </tr>\n",
       "    <tr>\n",
       "      <th>3</th>\n",
       "      <td>3</td>\n",
       "      <td>Renormalization is distinct from regularizatio...</td>\n",
       "      <td>Regularizing the mass-energy of an electron wi...</td>\n",
       "      <td>Regularizing the mass-energy of an electron wi...</td>\n",
       "      <td>Regularizing the mass-energy of an electron wi...</td>\n",
       "      <td>Regularizing the mass-energy of an electron wi...</td>\n",
       "      <td>Regularizing the mass-energy of an electron wi...</td>\n",
       "      <td>C</td>\n",
       "      <td>Renormalization is distinct from regularizatio...</td>\n",
       "      <td>C</td>\n",
       "    </tr>\n",
       "    <tr>\n",
       "      <th>4</th>\n",
       "      <td>4</td>\n",
       "      <td>Several qualitative observations can be made o...</td>\n",
       "      <td>The angular spacing of features in the diffrac...</td>\n",
       "      <td>The angular spacing of features in the diffrac...</td>\n",
       "      <td>The angular spacing of features in the diffrac...</td>\n",
       "      <td>The angular spacing of features in the diffrac...</td>\n",
       "      <td>The angular spacing of features in the diffrac...</td>\n",
       "      <td>D</td>\n",
       "      <td>Several qualitative observations can be made o...</td>\n",
       "      <td>D</td>\n",
       "    </tr>\n",
       "  </tbody>\n",
       "</table>\n",
       "</div>"
      ],
      "text/plain": [
       "   id                                             prompt  \\\n",
       "0   0  While almost all astrophysicists today reject ...   \n",
       "1   1  Many of these systems evolve in a self-similar...   \n",
       "2   2  It is possible that this usage is related with...   \n",
       "3   3  Renormalization is distinct from regularizatio...   \n",
       "4   4  Several qualitative observations can be made o...   \n",
       "\n",
       "                                                   A  \\\n",
       "0  MOND is a theory that reduces the observed mis...   \n",
       "1  Dynamic scaling refers to the evolution of sel...   \n",
       "2  The triskeles symbol was reconstructed as a fe...   \n",
       "3  Regularizing the mass-energy of an electron wi...   \n",
       "4  The angular spacing of features in the diffrac...   \n",
       "\n",
       "                                                   B  \\\n",
       "0  MOND is a theory that increases the discrepanc...   \n",
       "1  Dynamic scaling refers to the non-evolution of...   \n",
       "2  The triskeles symbol is a representation of th...   \n",
       "3  Regularizing the mass-energy of an electron wi...   \n",
       "4  The angular spacing of features in the diffrac...   \n",
       "\n",
       "                                                   C  \\\n",
       "0  MOND is a theory that explains the missing bar...   \n",
       "1  Dynamic scaling refers to the evolution of sel...   \n",
       "2  The triskeles symbol is a representation of a ...   \n",
       "3  Regularizing the mass-energy of an electron wi...   \n",
       "4  The angular spacing of features in the diffrac...   \n",
       "\n",
       "                                                   D  \\\n",
       "0  MOND is a theory that reduces the discrepancy ...   \n",
       "1  Dynamic scaling refers to the non-evolution of...   \n",
       "2  The triskeles symbol represents three interloc...   \n",
       "3  Regularizing the mass-energy of an electron wi...   \n",
       "4  The angular spacing of features in the diffrac...   \n",
       "\n",
       "                                                   E answer  \\\n",
       "0  MOND is a theory that eliminates the observed ...      D   \n",
       "1  Dynamic scaling refers to the evolution of sel...      A   \n",
       "2  The triskeles symbol is a representation of th...      A   \n",
       "3  Regularizing the mass-energy of an electron wi...      C   \n",
       "4  The angular spacing of features in the diffrac...      D   \n",
       "\n",
       "                                             context preds  \n",
       "0  While almost all astrophysicists today reject ...     D  \n",
       "1  Many of these systems evolve in a self-similar...     A  \n",
       "2  It is possible that this usage is related with...     D  \n",
       "3  Renormalization is distinct from regularizatio...     C  \n",
       "4  Several qualitative observations can be made o...     D  "
      ]
     },
     "execution_count": 24,
     "metadata": {},
     "output_type": "execute_result"
    }
   ],
   "source": [
    "test_df.head()"
   ]
  },
  {
   "cell_type": "code",
   "execution_count": 25,
   "id": "4797eb0c-52bb-468e-93c4-c933b2ab9fa8",
   "metadata": {
    "tags": []
   },
   "outputs": [],
   "source": [
    "wrong_df = test_df.query(\"answer != preds\").reset_index(drop=True)\n",
    "test_df[\"input\"] = test_df[\"context\"].apply(lambda x: \" \".join(x.split()[:70])) + f\"... [SEP] \" + test_df[\"prompt\"]\n",
    "\n",
    "\n",
    "def print_wrong(index):\n",
    "    for col, row in zip(test_df.columns, wrong_df.iloc[index]):\n",
    "        print(f\"【{col}】:\", row)"
   ]
  },
  {
   "cell_type": "code",
   "execution_count": null,
   "id": "504fd3e2-fb96-40c7-b548-94d7e07e5033",
   "metadata": {
    "tags": []
   },
   "outputs": [],
   "source": []
  },
  {
   "cell_type": "code",
   "execution_count": 26,
   "id": "3082cedd-19c6-4b96-8858-b5587cb2893a",
   "metadata": {
    "tags": []
   },
   "outputs": [
    {
     "name": "stdout",
     "output_type": "stream",
     "text": [
      "【id】: 2\n",
      "【prompt】: It is possible that this usage is related with the Greek name of the island of Sicily, Trinacria (Τρινακρία \"having three headlands\").Liddell and Scott’s Greek-English Lexicon (A Lexicon Abridged from), Oxford, 1944, p.27, Cassell's Latin Dictionary, Marchant, J.R.V, & Charles, Joseph F., (Eds.), Revised Edition, 1928 The Sicilian triskeles is shown with the head of Medusa at the center.Matthews, Jeff (2005) Symbols of Naples The ancient symbol has been re-introduced... [SEP] Which of the following statements accurately describes the origin and significance of the triskeles symbol?\n",
      "【A】: The triskeles symbol was reconstructed as a feminine divine triad by the rulers of Syracuse, and later adopted as an emblem. Its usage may also be related to the Greek name of Sicily, Trinacria, which means \"having three headlands.\" The head of Medusa at the center of the Sicilian triskeles represents the three headlands.\n",
      "【B】: The triskeles symbol is a representation of three interlinked spirals, which was adopted as an emblem by the rulers of Syracuse. Its usage in modern flags of Sicily has its origins in the ancient Greek name for the island, Trinacria, which means \"Sicily with three corners.\" The head of Medusa at the center is a representation of the island's rich cultural heritage.\n",
      "【C】: The triskeles symbol is a representation of a triple goddess, reconstructed by the rulers of Syracuse, who adopted it as an emblem. Its significance lies in the fact that it represents the Greek name for Sicily, Trinacria, which contains the element \"tria,\" meaning three. The head of Medusa at the center of the Sicilian triskeles represents the three headlands.\n",
      "【D】: The triskeles symbol represents three interlocked spiral arms, which became an emblem for the rulers of Syracuse. Its usage in modern flags of Sicily is due to the island's rich cultural heritage, which dates back to ancient times. The head of Medusa at the center represents the lasting influence of Greek mythology on Sicilian culture.\n",
      "【E】: The triskeles symbol is a representation of the Greek goddess Hecate, reconstructed by the rulers of Syracuse. Its adoption as an emblem was due to its cultural significance, as it represented the ancient Greek name for Sicily, Trinacria. The head of Medusa at the center of the Sicilian triskeles represents the island's central location in the Mediterranean.\n",
      "【answer】: A\n",
      "【context】: It is possible that this usage is related with the Greek name of the island of Sicily, Trinacria (Τρινακρία \"having three headlands\").Liddell and Scott’s Greek-English Lexicon (A Lexicon Abridged from), Oxford, 1944, p.27, Cassell's Latin Dictionary, Marchant, J.R.V, & Charles, Joseph F., (Eds.), Revised Edition, 1928 The Sicilian triskeles is shown with the head of Medusa at the center.Matthews, Jeff (2005) Symbols of Naples The ancient symbol has been re-introduced in modern flags of Sicily since 1848. An early flag of Sicily, proposed in 1848, included the Sicilian triskeles or \"Trinacria symbol\". The symbol is anciently closely associated with Sicily, well known as a tri-cornered island, and is attested there in proto-heraldry as early as the 7th century BC.Wilson (2000) pp. 35, 51, 56. The most ancient name for Sicily, then a Greek province was Trinacria,Cassell's Latin Dictionary, Marchant, J.R.V, & Charles, Joseph F., (Eds.), Revised Edition, 1928 meaning in Greek three-cornered, triquetra, referring to the triangular shape of the island.\"Sicilian Culture: The Folklore, Legends & Traditions: Trinacria.\" However, that device is dissimilar to the Manx triskeles, and the nearly 300-year gap between its use and the appearance of the Manx triskeles suggests that there is no connection between the symbols. ===Sicilian connection=== The appearance on the Isle of Man of the Triskeles in the last third of the 13th century may well be connected with the regime change on the Isle in 1265, from Crovan to Scots kings. The triskeles was adopted as emblem by the rulers of Syracuse. The oldest find of a triskeles in Sicily is a vase dated to 700 BCE, for which researchers assume a Minoan-Mycenaean origin. ===Roman period and Late Antiquity=== Late examples of the triple spiral symbols are found in Iron Age Europe, e.g. carved in rock in Castro Culture settlement in Galicia, Asturias and Northern Portugal. In the Hellenistic period, the symbol becomes associated with the island of Sicily, appearing on coins minted under Dionysius I of Syracuse beginning in BCE.Arthur Bernard Cook, Zeus: a study in ancient religion, Volume 3, Part 2 (1940), p. 1074. The actual triskeles symbol of three human legs is found especially in Greek antiquity, beginning in archaic pottery and continued in coinage of the classical period. Also p. 134: [On CRs] \"Using Celtic symbols such as triskeles and spirals\" Other uses of triskelion-like emblems include the logo for the Trisquel Linux distribution and the seal of the United States Department of Transportation. \n",
      "【preds】: D\n"
     ]
    }
   ],
   "source": [
    "\"\"\"\n",
    "抽出は完璧にできているが予測ミス\n",
    "\"\"\"\n",
    "print_wrong(0)"
   ]
  },
  {
   "cell_type": "code",
   "execution_count": 12,
   "id": "3ed8998d-ba4d-4591-8988-4157234dd08a",
   "metadata": {
    "tags": []
   },
   "outputs": [
    {
     "name": "stdout",
     "output_type": "stream",
     "text": [
      "【id】: 11\n",
      "【prompt】: What is the relationship between the Wigner function and the density matrix operator?\n",
      "【A】: The Wigner function W(x, p) is the Wigner transform of the density matrix operator ρ̂, and the trace of an operator with the density matrix Wigner-transforms to the equivalent phase-space integral overlap of g(x,p) with the Wigner function.\n",
      "【B】: The Wigner function W(x, p) is a source function used for the density matrix operator ρ̂ and the product of these two functions creates the phase space wave function g(x, p).\n",
      "【C】: The Wigner function W(x, p) is the derivative of the density matrix operator ρ̂ with respect to the phase space coordinate.\n",
      "【D】: The Wigner function W(x, p) represents the Hamiltonian H(x,p) of the density matrix operator ρ̂, while the Moyal bracket {{⋅, ⋅}} represents the Poisson bracket in the phase space.\n",
      "【E】: The Wigner function W(x, p) is the time derivative of the density matrix operator ρ̂ with respect to the phase space coordinate.\n",
      "【answer】: A\n",
      "【context】: Under the Wigner map, the density matrix transforms into the equivalent Wigner function, : W(x,p) \\,\\ \\stackrel{\\mathrm{def}}{=}\\ \\, \\frac{1}{\\pi\\hbar} \\int_{-\\infty}^\\infty \\psi^*(x + y) \\psi(x - y) e^{2ipy/\\hbar} \\,dy. The equation for the time evolution of the Wigner function, known as Moyal equation, is then the Wigner- transform of the above von Neumann equation, :\\frac{\\partial W(x, p, t)}{\\partial t} = -\\\\{\\\\{W(x, p, t), H(x, p)\\\\}\\\\}, where H(x,p) is the Hamiltonian, and \\\\{\\\\{\\cdot,\\cdot\\\\}\\\\} is the Moyal bracket, the transform of the quantum commutator. For a more general Hamiltonian, if G(t) is the wavefunction propagator over some interval, then the time evolution of the density matrix over that same interval is given by : \\rho(t) = G(t) \\rho(0) G(t)^\\dagger. == Wigner functions and classical analogies == The density matrix operator may also be realized in phase space. Therefore, the Wigner function tells us (roughly) how the spectral density changes in time. == Time-frequency analysis example == Here are some examples illustrating how the WDF is used in time- frequency analysis. ===Constant input signal=== When the input signal is constant, its time-frequency distribution is a horizontal line along the time axis. In the limit of vanishing Planck's constant \\hbar, W(x,p,t) reduces to the classical Liouville probability density function in phase space. == Example applications == Density matrices are a basic tool of quantum mechanics, and appear at least occasionally in almost any type of quantum- mechanical calculation. So for a single (mean- zero) time series, the Wigner function is simply given by : W_x(t,f)=\\int_{-\\infty}^{\\infty}x\\left(t + \\frac{\\tau}{2}\\right) \\, x^*\\left(t - \\frac{\\tau}{2}\\right) \\, e^{-2\\pi i\\tau f}\\,d\\tau . However, no particular significance should be attached to that, since it is possible to write the general form so that the kernel of any distribution is one, in which case the kernel of the Wigner distribution function (WDF) would be something else. ==Characteristic function formulation== The characteristic function is the double Fourier transform of the distribution. The Wigner function W_x(t,f) is then given by first expressing the autocorrelation function in terms of the average time t = (t_1+t_2)/2 and time lag \\tau = t_1 - t_2, and then Fourier transforming the lag. The motivation for the Wigner function is that it reduces to the spectral density function at all times t for stationary processes, yet it is fully equivalent to the non- stationary autocorrelation function. The Wigner distribution function (WDF) is used in signal processing as a transform in time-frequency analysis. \n",
      "【preds】: B\n"
     ]
    }
   ],
   "source": [
    "\"\"\"\n",
    "hit していない。phase-space などの用語がセクションの後半にあるのでうまくいっていないと考えられる。よって、しっかりと文書全体を分割すればうまく認識できるようになる可能性が高いと考えられる\n",
    "正解：https://en.wikipedia.org/wiki/Wigner%E2%80%93Weyl_transform\n",
    "\"\"\"\n",
    "\n",
    "print_wrong(1)"
   ]
  },
  {
   "cell_type": "code",
   "execution_count": 13,
   "id": "af3365fa-f3a2-4998-9bb1-d2d3a98be795",
   "metadata": {
    "tags": []
   },
   "outputs": [
    {
     "name": "stdout",
     "output_type": "stream",
     "text": [
      "【id】: 13\n",
      "【prompt】: What is the Roche limit?\n",
      "【A】: The Roche limit is the distance at which tidal effects would cause an object to rotate since the forces exerted by two massive bodies produce a torque on a third object.\n",
      "【B】: The Roche limit is the distance at which tidal effects would cause an object to unite since differential force from a planet results in parts becoming attracted to one another.\n",
      "【C】: The Roche limit is the distance at which tidal effects would cause a planet to disintegrate since differential force from an object overcomes the planet's core.\n",
      "【D】: The Roche limit is the distance at which tidal effects would cause an object to disintegrate since differential force from a planet overcomes the attraction of the parts between them.\n",
      "【E】: The Roche limit is the distance at which tidal effects would cause an object to break apart due to differential force from the planet overcoming the attraction of the parts of the object for one another, which depends on the object's density and composition, as well as the mass and size of the planet.\n",
      "【answer】: D\n",
      "【context】: The Roche limit is the distance from a planet at which tidal effects would cause an object to disintegrate because the differential force of gravity from the planet overcomes the attraction of the parts of the object for one another. In celestial mechanics, the Roche limit, also called Roche radius, is the distance from a celestial body within which a second celestial body, held together only by its own force of gravity, will disintegrate because the first body's tidal forces exceed the second body's self-gravitation. It is also different from the Roche limit, which is the distance at which an object held together only by gravity begins to break up due to tidal forces. But note that, as defined above, the Roche limit refers to a body held together solely by the gravitational forces which cause otherwise unconnected particles to coalesce, thus forming the body in question. The Roche limit for a rigid spherical satellite is the distance, d, from the primary at which the gravitational force on a test mass at the surface of the object is exactly equal to the tidal force pulling the mass away from the object:see calculation in Frank H. Shu, The Physical Universe: an Introduction to Astronomy, p. 431, University Science Books (1982), . : d = R_M\\left(2 \\frac {\\rho_M} {\\rho_m} \\right)^{\\frac{1}{3}} where R_M is the radius of the primary, \\rho_M is the density of the primary, and \\rho_m is the density of the satellite. The Roche limit is also usually calculated for the case of a circular orbit, although it is straightforward to modify the calculation to apply to the case (for example) of a body passing the primary on a parabolic or hyperbolic trajectory. === Rigid satellites === The rigid-body Roche limit is a simplified calculation for a spherical satellite. Since, within the Roche limit, tidal forces overwhelm the gravitational forces that might otherwise hold the satellite together, no satellite can gravitationally coalesce out of smaller particles within that limit. Inside the Roche limit, orbiting material disperses and forms rings, whereas outside the limit, material tends to coalesce. The term is named after Édouard Roche (, ), the French astronomer who first calculated this theoretical limit in 1848. == Explanation == The Roche limit typically applies to a satellite's disintegrating due to tidal forces induced by its primary, the body around which it orbits. The Roche radius depends on the radius of the first body and on the ratio of the bodies' densities. \n",
      "【preds】: E\n"
     ]
    }
   ],
   "source": [
    "\"\"\"\n",
    "単純に予測ミス。完璧にhit はできているが、うまく予測ができていない\n",
    "\"\"\"\n",
    "\n",
    "print_wrong(2)"
   ]
  },
  {
   "cell_type": "code",
   "execution_count": 14,
   "id": "1aa55cab-d623-46bb-9cc7-428e3156a5b8",
   "metadata": {
    "tags": []
   },
   "outputs": [
    {
     "name": "stdout",
     "output_type": "stream",
     "text": [
      "【id】: 18\n",
      "【prompt】: What is the 'reactive Leidenfrost effect' observed in non-volatile materials?\n",
      "【A】: The 'reactive Leidenfrost effect' is a phenomenon where solid particles float above hot surfaces and move erratically, observed in non-volatile materials.\n",
      "【B】: The 'reactive Leidenfrost effect' is a phenomenon where solid particles float above hot surfaces and move erratically, observed in volatile materials.\n",
      "【C】: The 'reactive Leidenfrost effect' is a phenomenon where solid particles sink into hot surfaces and move slowly, observed in non-volatile materials.\n",
      "【D】: The 'reactive Leidenfrost effect' is a phenomenon where solid particles float above cold surfaces and move erratically, observed in non-volatile materials.\n",
      "【E】: The 'reactive Leidenfrost effect' is a phenomenon where solid particles sink into cold surfaces and move slowly, observed in non-volatile materials.\n",
      "【answer】: A\n",
      "【context】: The new phenomenon of a 'reactive Leidenfrost (RL) effect' was characterized by a dimensionless quantity, (φRL= τconv/τrxn), which relates the time constant of solid particle heat transfer to the time constant of particle reaction, with the reactive Leidenfrost effect occurring for 10−1< φRL< 10+1. The Leidenfrost temperatures for glycerol and common alcohols are significantly smaller because of their lower surface tension values (density and viscosity differences are also contributing factors.) == Reactive Leidenfrost effect == thumb|Reactive Leidenfrost effect of cellulose on silica, Non-volatile materials were discovered in 2015 to also exhibit a 'reactive Leidenfrost effect', whereby solid particles were observed to float above hot surfaces and skitter around erratically. When the temperature exceeds the Leidenfrost point, the Leidenfrost effect appears. The temperature of the solid surface beyond which the liquid undergoes the Leidenfrost phenomenon is termed the Leidenfrost temperature. The Leidenfrost effect has also been used as a means to promote chemical change of various organic liquids through their conversion by thermal decomposition into various products. Conversely, the inverse Leidenfrost effect lets drops of relatively warm liquid levitate on a bath of liquid nitrogen. == Leidenfrost point == thumb|A water droplet experiencing Leidenfrost effect on a hot stove plate The Leidenfrost point signifies the onset of stable film boiling. Droplets of different liquids with different boiling temperatures will also exhibit a Leidenfrost effect with respect to each other and repel each other. \"Leidenfrost effect\". Leidenfrost effect occurs after transition boiling. Leidenfrost died in Duisburg. ==Leidenfrost effect== thumb|Leidenfrost droplet The effect Leidenfrost described is a phenomenon in which a liquid, in near contact with a mass significantly hotter than its boiling point, produces an insulating vapor layer which keeps that liquid from boiling rapidly. \n",
      "【preds】: C\n"
     ]
    }
   ],
   "source": [
    "\"\"\"\n",
    "hit はできているが、上位に来ていない。否定と肯定が入り交じる質問だと一気に抽出するのが難しい？\n",
    "\"\"\"\n",
    "\n",
    "print_wrong(3)"
   ]
  },
  {
   "cell_type": "code",
   "execution_count": 15,
   "id": "440fa885-b214-43a7-a6a0-fa6d9482050b",
   "metadata": {
    "tags": []
   },
   "outputs": [
    {
     "name": "stdout",
     "output_type": "stream",
     "text": [
      "【id】: 28\n",
      "【prompt】: What is the evidence for the existence of a supermassive black hole at the center of the Milky Way galaxy?\n",
      "【A】: The Milky Way galaxy has a supermassive black hole at its center because of the bright flare activity observed near Sagittarius A*. The radius of the central object must be less than 17 light-hours, because otherwise S2 would collide with it. Observations of the star S14 indicate that the radius is no more than 6.25 light-hours, about the diameter of Uranus' orbit. No known astronomical object other than a black hole can contain 4.0 million M☉ in this volume of space.\n",
      "【B】: The Milky Way galaxy has a supermassive black hole at its center because the star S14 follows an elliptical orbit with a period of 15.2 years and a pericenter of 17 light-hours from the center of the central object. From the motion of star S14, the object's mass can be estimated as 4.0 million M☉, or about 7.96×1036 kg. The radius of the central object must be less than 17 light-hours, because otherwise S14 would collide with it. Observations of the star S2 indicate that the radius is no more than 6.25 light-hours, about the diameter of Uranus' orbit. No known astronomical object other than a black hole can contain 4.0 million M☉ in this volume of space.\n",
      "【C】: The Milky Way galaxy has a supermassive black hole at its center because of the bright flare activity observed near Sagittarius A*. The radius of the central object must be less than 6.25 light-hours, about the diameter of Uranus' orbit. Observations of the star S2 indicate that the radius is no more than 17 light-hours, because otherwise S2 would collide with it. No known astronomical object other than a black hole can contain 4.0 million M☉ in this volume of space.\n",
      "【D】: The Milky Way galaxy has a supermassive black hole at its center because it is the only explanation for the bright flare activity observed near Sagittarius A* at a separation of six to ten times the gravitational radius of the candidate SMBH.\n",
      "【E】: The star S2 follows an elliptical orbit with a period of 15.2 years and a pericenter of 17 light-hours from the center of the central object. From the motion of star S2, the object's mass can be estimated as 4.0 million M☉, or about 7.96×1036 kg. The radius of the central object must be less than 17 light-hours, because otherwise S2 would collide with it. Observations of the star S14 indicate that the radius is no more than 6.25 light-hours, about the diameter of Uranus' orbit. No known astronomical object other than a black hole can contain 4.0 million M☉ in this volume of space.\n",
      "【answer】: E\n",
      "【context】: In February 2021, astronomers released, for the first time, a very high-resolution image of 25,000 active supermassive black holes, covering four percent of the Northern celestial hemisphere, based on ultra-low radio wavelengths, as detected by the Low-Frequency Array (LOFAR) in Europe. ==See also== * * * * * * * * ==Notes== ==References== ==Further reading== * * * * * * ==External links== * Black Holes: Gravity's Relentless Pull Interactive multimedia Web site about the physics and astronomy of black holes from the Space Telescope Science Institute * Images of supermassive black holes * NASA images of supermassive black holes * <!---[https://web.archive.org/web/20160613034320/http://www.einstein- online.info/spotlights/milkyway_bh/?set_language=en The black hole at the heart of the Milky Way * ESO video clip of stars orbiting a galactic black hole * Star Orbiting Massive Milky Way Centre Approaches to within 17 Light- Hours ESO, October 21, 2002 * Images, Animations, and New Results from the UCLA Galactic Center Group * Washington Post article on Supermassive black holes * Video (2:46) – Simulation of stars orbiting Milky Way's central massive black hole * Video (2:13) – Simulation reveals supermassive black holes (NASA, October 2, 2018) * \\+ Category:Concepts in astronomy Category:Galaxies Category:Articles containing video clips Observational evidence indicates that almost every large galaxy has a supermassive black hole at its center. Observations of the star S14 indicate that the radius is no more than 6.25 light-hours, about the diameter of Uranus' orbit. The largest supermassive black hole in the Milky Way's vicinity appears to be that of Messier 87 (i.e., M87*), at a mass of at a distance of 48.92 million light-years. The technique of reverberation mapping uses variability of these lines to measure the mass and perhaps the spin of the black hole that powers active galaxies. === In the Milky Way === Evidence indicates that the Milky Way galaxy has a supermassive black hole at its center, 26,000 light-years from the Solar System, in a region called Sagittarius A* because: * The star S2 follows an elliptical orbit with a period of 15.2 years and a pericenter (closest distance) of 17 light-hours ( or 120 AU) from the center of the central object. Nevertheless, it is commonly accepted that the center of nearly every galaxy contains a supermassive black hole. Although most galaxies with no supermassive black holes are very small, dwarf galaxies, one discovery remains mysterious: The supergiant elliptical cD galaxy A2261-BCG has not been found to contain an active supermassive black hole of at least , despite the galaxy being one of the largest galaxies known; over six times the size and one thousand times the mass of the Milky Way. Two supermassive black holes have been directly imaged by the Event Horizon Telescope: the black hole in the giant elliptical galaxy Messier 87 and the black hole at the Milky Way’s center. ==Description== Supermassive black holes are classically defined as black holes with a mass above 100,000 () solar masses (); some have masses of . The unusual event may have been caused by the breaking apart of an asteroid falling into the black hole or by the entanglement of magnetic field lines within gas flowing into Sagittarius A*, according to astronomers. === Outside the Milky Way === Unambiguous dynamical evidence for supermassive black holes exists only for a handful of galaxies; these include the Milky Way, the Local Group galaxies M31 and M32, and a few galaxies beyond the Local Group, such as NGC 4395. Subsequent long-term observation will allow this assumption to be confirmed if the emission from the jet decays at the expected rate for mass accretion onto a SMBH. == Individual studies == The nearby Andromeda Galaxy, 2.5 million light-years away, contains a central black hole, significantly larger than the Milky Way's. \n",
      "【preds】: B\n"
     ]
    }
   ],
   "source": [
    "\"\"\"\n",
    "hit はできているが、上位にきていない。==See also== * * * * * * * * ==Notes== ==References==に邪魔されている\n",
    "\"\"\"\n",
    "\n",
    "print_wrong(4)"
   ]
  },
  {
   "cell_type": "code",
   "execution_count": 16,
   "id": "c876a32a-f898-418d-a8a0-f654bf2f7681",
   "metadata": {
    "tags": []
   },
   "outputs": [
    {
     "name": "stdout",
     "output_type": "stream",
     "text": [
      "【id】: 34\n",
      "【prompt】: What is the Penrose process?\n",
      "【A】: The Penrose process is a mechanism through which objects can emerge from the ergosphere with less energy than they entered with, taking energy from the rotational energy of the black hole and speeding up its rotation.\n",
      "【B】: The Penrose process is a mechanism through which objects can emerge from the ergosphere with the same energy as they entered with, taking energy from the rotational energy of the black hole and maintaining its rotation.\n",
      "【C】: The Penrose process is a mechanism through which objects can emerge from the ergosphere with more energy than they entered with, taking extra energy from the rotational energy of the black hole and slowing down its rotation.\n",
      "【D】: The Penrose process is a mechanism through which objects can emerge from the event horizon with less energy than they entered with, taking energy from the rotational energy of the black hole and speeding up its rotation.\n",
      "【E】: The Penrose process is a mechanism through which objects can emerge from the event horizon with more energy than they entered with, taking extra energy from the rotational energy of the black hole and slowing down its rotation.\n",
      "【answer】: C\n",
      "【context】: In theoretical physics, the Penrose transform, introduced by , is a complex analogue of the Radon transform that relates massless fields on spacetime, or more precisely the space of solutions to massless field equations to sheaf cohomology groups on complex projective space. The Penrose transform operates in two stages. A Penrose drain is a soft, flexible rubber tube used as a surgical drain, to prevent the buildup of fluid in a surgical site. The Penrose transform is a major component of classical twistor theory. ==Overview== Abstractly, the Penrose transform operates on a double fibration of a space Y, over two spaces X and Z :Z\\xleftarrow{\\eta} Y \\xrightarrow{\\tau} X. In podiatry, a Penrose drain is often used as a tourniquet during a hallux nail avulsion procedure or ingrown toenail extraction. The Penrose drain is named after American gynecologist Charles Bingham Penrose (1862–1925). ==Common uses== A Penrose drain removes fluid from a wound area. The oven is used to heat the part while also rotating the part to form it as desired. Six Penrose drains were left and the edges of the surgical wound were closed with staples. In the case of the classical Penrose transform, the resulting differential equations are precisely the massless field equations for a given spin. ==Example== The classical example is given as follows *The \"twistor space\" Z is complex projective 3-space CP3, which is also the Grassmannian Gr1(C4) of lines in 4-dimensional complex space. First, one pulls back the sheaf cohomology groups Hr(Z,F) to the sheaf cohomology Hr(Y,η−1F) on Y; in many cases where the Penrose transform is of interest, this pullback turns out to be an isomorphism. \n",
      "【preds】: E\n"
     ]
    }
   ],
   "source": [
    "\"\"\"\n",
    "hit できていなさそう。Penrose processではなくPenrose transformを拾ってしまっている。文書の後半にあるのでうまくいっていないと考えられる\n",
    "正解：https://en.wikipedia.org/wiki/Penrose_process\n",
    "\"\"\"\n",
    "print_wrong(5)"
   ]
  },
  {
   "cell_type": "code",
   "execution_count": 20,
   "id": "af03ac68-78c2-4ae5-b0ef-be8f28f71557",
   "metadata": {
    "tags": []
   },
   "outputs": [
    {
     "name": "stdout",
     "output_type": "stream",
     "text": [
      "【id】: 35\n",
      "【prompt】: What was the aim of the Gravity Probe B (GP-B) mission?\n",
      "【A】: To prove that pressure contributes equally to spacetime curvature as does mass-energy.\n",
      "【B】: To measure spacetime curvature near Earth, with particular emphasis on gravitomagnetism.\n",
      "【C】: To measure the distribution of Fe and Al on the Moon's surface.\n",
      "【D】: To confirm the relatively large geodetic effect due to simple spacetime curvature, and is also known as de Sitter precession.\n",
      "【E】: To measure the discrepancy between active and passive mass to about 10−12.\n",
      "【answer】: B\n",
      "【context】: Gravity Probe B (GP-B) was a satellite-based experiment to test two unverified predictions of general relativity: the geodetic effect and frame-dragging. In a public press and media event at NASA Headquarters, GP-B Principal Investigator, Francis Everitt presented the final results of Gravity Probe B. ;19 November 2015 : Publication of GP-B Special Volume (Volume #32, Issue #22) in the peer-reviewed journal, Classical and Quantum Gravity. Final science results were reported in 2011. ==Experimental setup== thumb The Gravity Probe B experiment comprised four London moment gyroscopes and a reference telescope sighted on IM Pegasi, a binary star in the constellation Pegasus. Gravity Probe B was expected to measure this effect to an accuracy of one part in 10,000, the most stringent check on general relativistic predictions to date. The Gravity Probe B mission timeline describes the events during the flight of Gravity Probe B, the science phase of its experimental campaign, and the analysis of the recorded data. ==Mission progress== * April 20, 2004 thumb|Launch of Gravity Probe B ** Launch of GP-B from Vandenberg AFB and successful insertion into polar orbit. Mission scientists viewed it as the second relativity experiment in space, following the successful launch of Gravity Probe A (GP-A) in 1976. Gravity Probe B marks the first time that Stanford University has been in control of the development and operations of a space satellite funded by NASA. The prospects for further experimental measurement of frame-dragging after GP-B were commented on in the journal Europhysics Letters. ==See also== * Frame-dragging * Gravity Probe A * Gravitomagnetism * Modified Newtonian dynamics * Tests of general relativity * Timeline of gravitational physics and relativity ==References== ==External links== * Gravity Probe B web site at NASA * Gravity Probe B Web site at Stanford * Graphic explanation of how Gravity Probe B works * NASA GP-B launch site * NASA article on the technologies used in Gravity Probe B * * General Relativistic Frame Dragging * Layman's article on the project progress * IOP Classical and Quantum Gravity, Volume #32, Issue #22, Special Focus Issue on Gravity Probe B * Gravity Probe B Collection, The University of Alabama in Huntsville Archives and Special Collections Category:Tests of general relativity Category:Physics experiments Category:Satellites orbiting Earth Category:Spacecraft launched in 2004 Category:Spacecraft launched by Delta II rockets The mission plans were to test two unverified predictions of general relativity: the geodetic effect and frame-dragging. (Source: Gravity Probe B web site ) * Spring 2008 ** Mission update Increasing the Precision of the Results : \"In reality, GP-B experienced six major or significant anomalies during the 353-day science data collection period, and these anomalies caused the experimental data set to be divided into seven major segments, with a total of 307 days of \"good\" science data when all seven segments are combined. \n",
      "【preds】: D\n"
     ]
    }
   ],
   "source": [
    "\"\"\"\n",
    "- hitしたwikipediaが違う\n",
    " - 不正解：https://en.wikipedia.org/wiki/Gravity_Probe_B\n",
    " - 正解：https://en.wikipedia.org/wiki/Spacetime\n",
    "\"\"\"\n",
    "\n",
    "print_wrong(6)"
   ]
  },
  {
   "cell_type": "code",
   "execution_count": 27,
   "id": "dfa29b5a-b77a-4cab-b7a0-abd6a18b1657",
   "metadata": {
    "tags": []
   },
   "outputs": [
    {
     "name": "stdout",
     "output_type": "stream",
     "text": [
      "【id】: 454\n",
      "【prompt】: In chemical terms, this is called a redox reaction because first the color of the wine deepens after fermentation through oxidation, and then the color begins to brown after bottling through reduction. Oxidation and reduction in red wines can lead to a particularly undesirable brick red color in red wines (or an \"orangey\" color in white wines). It is altered with wine aging by reactions between different active molecules present... [SEP] What is the chemical reaction that occurs in red wines, leading to a brick red color?\n",
      "【A】: The chemical reaction that occurs in red wines, leading to a brick red color, is called browning.\n",
      "【B】: The chemical reaction that occurs in red wines, leading to a brick red color, is called a redox reaction.\n",
      "【C】: The chemical reaction that occurs in red wines, leading to a brick red color, is fermentation.\n",
      "【D】: The chemical reaction that occurs in red wines, leading to a brick red color, is oxidation.\n",
      "【E】: The chemical reaction that occurs in red wines, leading to a brick red color, is reduction.\n",
      "【answer】: D\n",
      "【context】: In chemical terms, this is called a redox reaction because first the color of the wine deepens after fermentation through oxidation, and then the color begins to brown after bottling through reduction. Oxidation and reduction in red wines can lead to a particularly undesirable brick red color in red wines (or an \"orangey\" color in white wines). It is altered with wine aging by reactions between different active molecules present in the wine, these reactions generally giving rise to a browning of the wine, leading from red to a more tawny color. Red wine is made from red (or black) grapes, but its red colour is bestowed by a process called maceration, whereby the skin is left in contact with the juice during fermentation. Red wine is made from the must (pulp) of red or black grapes and fermentation occurs together with the grape skins, which give the wine its color. Red wines are produced by destemming and crushing the grapes into a tank and leaving the skins in contact with the juice throughout the fermentation (maceration). The next process in the making of red wine is malo-lactic conversion, a bacterial process which converts \"crisp, green apple\" malic acid to \"soft, creamy\" lactic acid, softening the taste of the wine. The lower pH reduces the effect of browning and yields better colors, particularly in red wines. == Significance of color == thumb|Swedish wine expert Bengt Frithiofsson tasting Chinese red wine The color of a red wine will have many variables that influence it besides its exposure to oxygen that pertain to other viticultural aspects such as different growing climates, cultivars, and production methods. The color depends on the presence of acids in the wine. For red winemaking, stems of the grapes are usually removed before fermentation since the stems have a relatively high tannin content; in addition to tannin they can also give the wine a vegetal aroma (due to extraction of 3-isobutyl-2-methoxypyrazine which has an aroma reminiscent of green bell peppers). \n",
      "【preds】: B\n"
     ]
    }
   ],
   "source": [
    "\"\"\"\n",
    "単純に正解が2つありそうな気がする\n",
    "\"\"\"\n",
    "print_wrong(100)"
   ]
  },
  {
   "cell_type": "code",
   "execution_count": 28,
   "id": "5932d124-fe80-4f88-958e-8b9430259e07",
   "metadata": {
    "tags": []
   },
   "outputs": [
    {
     "name": "stdout",
     "output_type": "stream",
     "text": [
      "【id】: 457\n",
      "【prompt】: The sheet bend is the classic bend. == Misuse of reef knot as a bend == The common reef knot (square knot) is sometimes mistakenly tied as a bend. It is important to choose the appropriate bend knot for the specific task at hand, as some bend knots may be stronger or more secure than others. For this reason, the reef knot is insecure as a bend and as such... [SEP] What is the strongest bend knot among eight different bends studied using climbing rope?\n",
      "【A】: The sheet bend\n",
      "【B】: The butterfly bend\n",
      "【C】: The overhand bend\n",
      "【D】: The figure-eight bend\n",
      "【E】: The common reef knot (square knot)\n",
      "【answer】: B\n",
      "【context】: The sheet bend is the classic bend. == Misuse of reef knot as a bend == The common reef knot (square knot) is sometimes mistakenly tied as a bend. It is important to choose the appropriate bend knot for the specific task at hand, as some bend knots may be stronger or more secure than others. For this reason, the reef knot is insecure as a bend and as such is not listed as one. ==Types of bends== Knot Description Image Adjustable bend A bend that can be easily lengthened or shortened. Some common types of bend knots include the double fisherman's knot, the double overhand knot, and the double figure-eight knot. A bend is a knot used to join two lengths of rope. It is more secure than the heaving line bend or sheet bend due to the woven figure-eight knot \"rackings\". 100px Reever Knot A secure and compact bend. 100px Sheet bend A common bend for joining lines of different diameters. 100px Shroud knot A multi-strand bend used to join two ends of laid (or twisted) rope together. 100px Simple Simon under 100px Single carrick bend 100px Surgeon's knot A bend commonly employed in small-stuff. Its most common application is in slings used in rock climbing. 100px Blood knot A low-profile bend most usefully employed for joining sections of monofilament nylon line while maintaining a high portion of the line's inherent strength. 100px Butterfly bend (Alpine butterfly bend) A bend analogue of the butterfly loop. 100px Carrick bend A bend that is particularly appropriate for very heavy rope or cable that is too large and stiff to be easily formed into other common bends. 100px Fisherman's knot Double fisherman's knot Triple fisherman's knot A symmetrical bend tied with two overhand knots around the standing end of the other line. When used as a bend rather than a binding knot, the reef knot will capsize under sufficient tension. Bend knots are important because they allow two ropes to be securely joined together, enabling the combined ropes to support weight or transmit force. A variation of the fisherman's knot consisting of triple overhands. 100px 100px 100px Flemish bend A bend based on the figure-eight knot. 100px Harness bend A bend that can be pulled taut before securing. 100px Heaving line bend A bend suitable for tying smaller lines to larger lines, such as in attaching playing strings to the thick silk eyes of the anchorage knot. 100px Hunter's bend A bend consisting of two interlocking overhand knots. 100px Nail knot A bend used in fly fishing to join lines of different diameters. \n",
      "【preds】: A\n"
     ]
    }
   ],
   "source": [
    "\"\"\"\n",
    "単純に正解が2つありそうな気がする\n",
    "\"\"\"\n",
    "print_wrong(101)"
   ]
  },
  {
   "cell_type": "code",
   "execution_count": 29,
   "id": "89a147aa-d19a-4d6e-9b08-2d89aa248a82",
   "metadata": {
    "tags": []
   },
   "outputs": [
    {
     "data": {
      "text/html": [
       "<div>\n",
       "<style scoped>\n",
       "    .dataframe tbody tr th:only-of-type {\n",
       "        vertical-align: middle;\n",
       "    }\n",
       "\n",
       "    .dataframe tbody tr th {\n",
       "        vertical-align: top;\n",
       "    }\n",
       "\n",
       "    .dataframe thead th {\n",
       "        text-align: right;\n",
       "    }\n",
       "</style>\n",
       "<table border=\"1\" class=\"dataframe\">\n",
       "  <thead>\n",
       "    <tr style=\"text-align: right;\">\n",
       "      <th></th>\n",
       "      <th>prompt</th>\n",
       "      <th>A</th>\n",
       "      <th>B</th>\n",
       "      <th>C</th>\n",
       "      <th>D</th>\n",
       "      <th>E</th>\n",
       "      <th>answer</th>\n",
       "      <th>context</th>\n",
       "    </tr>\n",
       "  </thead>\n",
       "  <tbody>\n",
       "    <tr>\n",
       "      <th>0</th>\n",
       "      <td>What is needed for a fax demodulator to interc...</td>\n",
       "      <td>A fax demodulator requires direct physical con...</td>\n",
       "      <td>A fax demodulator requires a network connectio...</td>\n",
       "      <td>A fax demodulator requires access to a satelli...</td>\n",
       "      <td>A fax demodulator requires listening in on a t...</td>\n",
       "      <td>A fax demodulator requires a wireless connecti...</td>\n",
       "      <td>D</td>\n",
       "      <td>A fax demodulator is a device used to intercep...</td>\n",
       "    </tr>\n",
       "    <tr>\n",
       "      <th>1</th>\n",
       "      <td>What is the process of dissimilar friction sti...</td>\n",
       "      <td>Welding of different base metals using a rotat...</td>\n",
       "      <td>Melting of different base metals using a frict...</td>\n",
       "      <td>Melting and stirring together of different bas...</td>\n",
       "      <td>Joining different base metals using a friction...</td>\n",
       "      <td>Softening of different base metals using a fri...</td>\n",
       "      <td>D</td>\n",
       "      <td>DFSW is based on a frictional heat generated b...</td>\n",
       "    </tr>\n",
       "    <tr>\n",
       "      <th>2</th>\n",
       "      <td>How can lacceroic acid be obtained as a crysta...</td>\n",
       "      <td>Lacceroic acid can be obtained by the action o...</td>\n",
       "      <td>Lacceroic acid can be obtained by oxidation of...</td>\n",
       "      <td>Lacceroic acid cannot be obtained as a crystal...</td>\n",
       "      <td>Lacceroic acid can be derived by saponificatio...</td>\n",
       "      <td>Lacceroic acid can be isolated from stick lac ...</td>\n",
       "      <td>A</td>\n",
       "      <td>It can also be isolated from stick lac wax, fr...</td>\n",
       "    </tr>\n",
       "    <tr>\n",
       "      <th>3</th>\n",
       "      <td>What is High Blast Explosive (HBX) primarily u...</td>\n",
       "      <td>HBX is an explosive used in the construction o...</td>\n",
       "      <td>HBX is an explosive used in the mining industr...</td>\n",
       "      <td>HBX is an explosive used in fireworks and pyro...</td>\n",
       "      <td>HBX is an explosive used in the manufacturing ...</td>\n",
       "      <td>HBX is an explosive used in military applicati...</td>\n",
       "      <td>E</td>\n",
       "      <td>High Blast Explosive, or HBX, is an explosive ...</td>\n",
       "    </tr>\n",
       "    <tr>\n",
       "      <th>4</th>\n",
       "      <td>What is the function of the KCNG1 gene in humans?</td>\n",
       "      <td>Modulating epithelial electrolyte transport an...</td>\n",
       "      <td>Facilitating smooth muscle contraction and cel...</td>\n",
       "      <td>Regulating neurotransmitter release and heart ...</td>\n",
       "      <td>Controlling insulin secretion and neuronal exc...</td>\n",
       "      <td>Encoding a member of the potassium channel, vo...</td>\n",
       "      <td>E</td>\n",
       "      <td>Potassium voltage-gated channel subfamily F me...</td>\n",
       "    </tr>\n",
       "  </tbody>\n",
       "</table>\n",
       "</div>"
      ],
      "text/plain": [
       "                                              prompt  \\\n",
       "0  What is needed for a fax demodulator to interc...   \n",
       "1  What is the process of dissimilar friction sti...   \n",
       "2  How can lacceroic acid be obtained as a crysta...   \n",
       "3  What is High Blast Explosive (HBX) primarily u...   \n",
       "4  What is the function of the KCNG1 gene in humans?   \n",
       "\n",
       "                                                   A  \\\n",
       "0  A fax demodulator requires direct physical con...   \n",
       "1  Welding of different base metals using a rotat...   \n",
       "2  Lacceroic acid can be obtained by the action o...   \n",
       "3  HBX is an explosive used in the construction o...   \n",
       "4  Modulating epithelial electrolyte transport an...   \n",
       "\n",
       "                                                   B  \\\n",
       "0  A fax demodulator requires a network connectio...   \n",
       "1  Melting of different base metals using a frict...   \n",
       "2  Lacceroic acid can be obtained by oxidation of...   \n",
       "3  HBX is an explosive used in the mining industr...   \n",
       "4  Facilitating smooth muscle contraction and cel...   \n",
       "\n",
       "                                                   C  \\\n",
       "0  A fax demodulator requires access to a satelli...   \n",
       "1  Melting and stirring together of different bas...   \n",
       "2  Lacceroic acid cannot be obtained as a crystal...   \n",
       "3  HBX is an explosive used in fireworks and pyro...   \n",
       "4  Regulating neurotransmitter release and heart ...   \n",
       "\n",
       "                                                   D  \\\n",
       "0  A fax demodulator requires listening in on a t...   \n",
       "1  Joining different base metals using a friction...   \n",
       "2  Lacceroic acid can be derived by saponificatio...   \n",
       "3  HBX is an explosive used in the manufacturing ...   \n",
       "4  Controlling insulin secretion and neuronal exc...   \n",
       "\n",
       "                                                   E answer  \\\n",
       "0  A fax demodulator requires a wireless connecti...      D   \n",
       "1  Softening of different base metals using a fri...      D   \n",
       "2  Lacceroic acid can be isolated from stick lac ...      A   \n",
       "3  HBX is an explosive used in military applicati...      E   \n",
       "4  Encoding a member of the potassium channel, vo...      E   \n",
       "\n",
       "                                             context  \n",
       "0  A fax demodulator is a device used to intercep...  \n",
       "1  DFSW is based on a frictional heat generated b...  \n",
       "2  It can also be isolated from stick lac wax, fr...  \n",
       "3  High Blast Explosive, or HBX, is an explosive ...  \n",
       "4  Potassium voltage-gated channel subfamily F me...  "
      ]
     },
     "execution_count": 29,
     "metadata": {},
     "output_type": "execute_result"
    }
   ],
   "source": [
    "df = pd.read_csv(\"../preprocessed/002_gpu/000/6000_wiki_en_sci_questions.csv\").head(2000)\n",
    "df.head()"
   ]
  },
  {
   "cell_type": "code",
   "execution_count": null,
   "id": "5066ef28-547e-4258-9b45-af25b4d027ce",
   "metadata": {},
   "outputs": [],
   "source": []
  },
  {
   "cell_type": "markdown",
   "id": "8636bfa1-11b1-4f62-9064-e2843657abe8",
   "metadata": {},
   "source": [
    "## 005?くらいのやつ"
   ]
  },
  {
   "cell_type": "code",
   "execution_count": 41,
   "id": "68c89737-9cdd-4f9e-a5aa-73db44876751",
   "metadata": {
    "tags": []
   },
   "outputs": [
    {
     "name": "stdout",
     "output_type": "stream",
     "text": [
      "【id】: 17\n",
      "【prompt】: What is the butterfly effect?\n",
      "【A】: The butterfly effect is a physical cause that occurs when a massive sphere is caused to roll down a slope starting from a point of unstable equilibrium, and its velocity is assumed to be caused by the force of gravity accelerating it.\n",
      "【B】: The butterfly effect is a distributed causality that opens up the opportunity to understand the relationship between necessary and sufficient conditions in classical (Newtonian) physics.\n",
      "【C】: The butterfly effect is a proportionality between the cause and the effect of a physical phenomenon in classical (Newtonian) physics.\n",
      "【D】: The butterfly effect is a small push that is needed to set a massive sphere into motion when it is caused to roll down a slope starting from a point of unstable equilibrium.\n",
      "【E】: The butterfly effect is a phenomenon that highlights the difference between the application of the notion of causality in physics and a more general use of causality as represented by Mackie's INUS conditions.\n",
      "【answer】: E\n",
      "【context】: The butterfly effect describes a phenomenon in chaos theory whereby a minor change in circumstances can cause a large change in outcome. In chaos theory, the butterfly effect is the sensitive dependence on initial conditions in which a small change in one state of a deterministic nonlinear system can result in large differences in a later state. Whereas the classical butterfly effect considers the effect of a small change in the position and/or velocity of an object in a given Hamiltonian system, the quantum butterfly effect considers the effect of a small change in the Hamiltonian system with a given initial position and velocity. He noted that the butterfly effect is derived from the metaphorical example of the details of a tornado (the exact time of formation, the exact path taken) being influenced by minor perturbations such as a distant butterfly flapping its wings several weeks earlier. The butterfly effect concept has since been used outside the context of weather science as a broad term for any situation where a small change is supposed to be the cause of larger consequences. ==History== In The Vocation of Man (1800), Johann Gottlieb Fichte says \"you could not remove a single grain of sand from its place without thereby ... changing something throughout all parts of the immeasurable whole\". \n",
      "【preds】: D\n",
      "【input】: The butterfly effect describes a phenomenon in chaos theory whereby a minor change in circumstances can cause a large change in outcome. In chaos theory, the butterfly effect is the sensitive dependence on initial conditions in which a small change in one state of a deterministic nonlinear system can result in large differences in a later state. Whereas the classical butterfly effect considers the effect of a small change in the position and/or velocity of an object in a given Hamiltonian system, the quantum butterfly effect considers the effect of a small change in the Hamiltonian system with a given... [SEP] What is the butterfly effect?\n"
     ]
    }
   ],
   "source": [
    "\"\"\"\n",
    "ミスの原因？\n",
    "\n",
    "- hitしたwikipediaが違う\n",
    " - 正解：https://en.wikipedia.org/wiki/Causality_(physics)\n",
    " - 間違い：butterfly effect\n",
    "\n",
    "\n",
    "タイトルと１行目からでは分からない内容を抽出しているので、現状のretrieval の方法ではカバーするのが難しい\n",
    "\"\"\"\n",
    "print_wrong(1)"
   ]
  },
  {
   "cell_type": "code",
   "execution_count": 44,
   "id": "0838303f-5f03-4011-9590-1c987044d544",
   "metadata": {
    "tags": []
   },
   "outputs": [
    {
     "name": "stdout",
     "output_type": "stream",
     "text": [
      "【id】: 18\n",
      "【prompt】: What is the 'reactive Leidenfrost effect' observed in non-volatile materials?\n",
      "【A】: The 'reactive Leidenfrost effect' is a phenomenon where solid particles float above hot surfaces and move erratically, observed in non-volatile materials.\n",
      "【B】: The 'reactive Leidenfrost effect' is a phenomenon where solid particles float above hot surfaces and move erratically, observed in volatile materials.\n",
      "【C】: The 'reactive Leidenfrost effect' is a phenomenon where solid particles sink into hot surfaces and move slowly, observed in non-volatile materials.\n",
      "【D】: The 'reactive Leidenfrost effect' is a phenomenon where solid particles float above cold surfaces and move erratically, observed in non-volatile materials.\n",
      "【E】: The 'reactive Leidenfrost effect' is a phenomenon where solid particles sink into cold surfaces and move slowly, observed in non-volatile materials.\n",
      "【answer】: A\n",
      "【context】: The new phenomenon of a 'reactive Leidenfrost (RL) effect' was characterized by a dimensionless quantity, (φRL= τconv/τrxn), which relates the time constant of solid particle heat transfer to the time constant of particle reaction, with the reactive Leidenfrost effect occurring for 10−1< φRL< 10+1. The Leidenfrost temperatures for glycerol and common alcohols are significantly smaller because of their lower surface tension values (density and viscosity differences are also contributing factors.) == Reactive Leidenfrost effect == thumb|Reactive Leidenfrost effect of cellulose on silica, Non-volatile materials were discovered in 2015 to also exhibit a 'reactive Leidenfrost effect', whereby solid particles were observed to float above hot surfaces and skitter around erratically. When the temperature exceeds the Leidenfrost point, the Leidenfrost effect appears. The temperature of the solid surface beyond which the liquid undergoes the Leidenfrost phenomenon is termed the Leidenfrost temperature. The Leidenfrost effect has also been used as a means to promote chemical change of various organic liquids through their conversion by thermal decomposition into various products. \n",
      "【preds】: C\n",
      "【input】: The new phenomenon of a 'reactive Leidenfrost (RL) effect' was characterized by a dimensionless quantity, (φRL= τconv/τrxn), which relates the time constant of solid particle heat transfer to the time constant of particle reaction, with the reactive Leidenfrost effect occurring for 10−1< φRL< 10+1. The Leidenfrost temperatures for glycerol and common alcohols are significantly smaller because of their lower surface tension values (density and viscosity differences are also contributing factors.) == Reactive Leidenfrost effect == thumb|Reactive Leidenfrost effect of cellulose on silica, Non-volatile materials were discovered in 2015 to also exhibit a 'reactive Leidenfrost effect', whereby solid particles were observed... [SEP] What is the 'reactive Leidenfrost effect' observed in non-volatile materials?\n"
     ]
    }
   ],
   "source": [
    "\"\"\"\n",
    "ミスの原因？\n",
    "\n",
    "\n",
    "- 抽出はできているが優先順位が低いのでcutされる\n",
    "  - >  == Reactive Leidenfrost effect == thumb|Reactive Leidenfrost effect of cellulose on silica, Non-volatile materials were discovered in 2015 to also exhibit a 'reactive Leidenfrost effect', whereby solid particles were observed to float above hot surfaces and skitter around erratically. \n",
    "→各選択肢との類似度を取ればcutされずに上位に入りそう\n",
    "\"\"\"\n",
    "print_wrong(2)"
   ]
  },
  {
   "cell_type": "code",
   "execution_count": 45,
   "id": "46fb57e9-2a93-4a0b-9aaf-efc11538c778",
   "metadata": {
    "tags": []
   },
   "outputs": [
    {
     "name": "stdout",
     "output_type": "stream",
     "text": [
      "【id】: 28\n",
      "【prompt】: What is the evidence for the existence of a supermassive black hole at the center of the Milky Way galaxy?\n",
      "【A】: The Milky Way galaxy has a supermassive black hole at its center because of the bright flare activity observed near Sagittarius A*. The radius of the central object must be less than 17 light-hours, because otherwise S2 would collide with it. Observations of the star S14 indicate that the radius is no more than 6.25 light-hours, about the diameter of Uranus' orbit. No known astronomical object other than a black hole can contain 4.0 million M☉ in this volume of space.\n",
      "【B】: The Milky Way galaxy has a supermassive black hole at its center because the star S14 follows an elliptical orbit with a period of 15.2 years and a pericenter of 17 light-hours from the center of the central object. From the motion of star S14, the object's mass can be estimated as 4.0 million M☉, or about 7.96×1036 kg. The radius of the central object must be less than 17 light-hours, because otherwise S14 would collide with it. Observations of the star S2 indicate that the radius is no more than 6.25 light-hours, about the diameter of Uranus' orbit. No known astronomical object other than a black hole can contain 4.0 million M☉ in this volume of space.\n",
      "【C】: The Milky Way galaxy has a supermassive black hole at its center because of the bright flare activity observed near Sagittarius A*. The radius of the central object must be less than 6.25 light-hours, about the diameter of Uranus' orbit. Observations of the star S2 indicate that the radius is no more than 17 light-hours, because otherwise S2 would collide with it. No known astronomical object other than a black hole can contain 4.0 million M☉ in this volume of space.\n",
      "【D】: The Milky Way galaxy has a supermassive black hole at its center because it is the only explanation for the bright flare activity observed near Sagittarius A* at a separation of six to ten times the gravitational radius of the candidate SMBH.\n",
      "【E】: The star S2 follows an elliptical orbit with a period of 15.2 years and a pericenter of 17 light-hours from the center of the central object. From the motion of star S2, the object's mass can be estimated as 4.0 million M☉, or about 7.96×1036 kg. The radius of the central object must be less than 17 light-hours, because otherwise S2 would collide with it. Observations of the star S14 indicate that the radius is no more than 6.25 light-hours, about the diameter of Uranus' orbit. No known astronomical object other than a black hole can contain 4.0 million M☉ in this volume of space.\n",
      "【answer】: E\n",
      "【context】: Professor Andrea Ghez et al. suggested in 2014 that G2 is not a gas cloud but rather a pair of binary stars that had been orbiting the black hole in tandem and merged into an extremely large star. ==See also== * * List of nearest known black holes ==Notes== ==References== * * * * * * * * ==Further reading== * * * * * * * * * * ==External links== * UCLA Galactic Center Group – latest results retrieved 8/12/2009 * Is there a Supermassive Black Hole at the Center of the Milky Way? (arXiv preprint) * 2004 paper deducing mass of central black hole from orbits of 7 stars (arXiv preprint) * ESO video clip of orbiting star (533 KB MPEG Video) * The Proper Motion of Sgr A* and the Mass of Sgr A* (PDF) * NRAO article regarding VLBI radio imaging of Sgr A* * Peering into a Black Hole, 2015 New York Times video * Image of supermassive black hole Sagittarius A* (2022), Harvard Center for Astrophysics * (NSF; 12 May 2022) Category:Articles containing video clips Category:Astronomical objects discovered in 1974 Category:Astronomical radio sources Category:Supermassive black holes Category:Galactic Center From examining the Keplerian orbit of S2, they determined the mass of Sagittarius A* to be solar masses, confined in a volume with a radius no more than 17 light-hours ().Ghez et al. (2003) \"The First Measurement of Spectral Lines in a Short-Period Star Bound to the Galaxy's Central Black Hole: A Paradox of Youth\" Astrophysical Journal 586 L127 Later observations of the star S14 showed the mass of the object to be about 4.1 million solar masses within a volume with radius no larger than 6.25 light- hours (). Based on mass and increasingly precise radius limits, astronomers concluded that Sagittarius A* must be the Milky Way's central supermassive black hole. The stellar orbits in the Galactic Center show that the central mass concentration of four million solar masses must be a black hole, beyond any reasonable doubt.\"O'Neill 2008 On January 5, 2015, NASA reported observing an X-ray flare 400 times brighter than usual, a record-breaker, from Sgr A*. The comparatively small mass of this supermassive black hole, along with the low luminosity of the radio and infrared emission lines, imply that the Milky Way is not a Seyfert galaxy. \n",
      "【preds】: B\n",
      "【input】: Professor Andrea Ghez et al. suggested in 2014 that G2 is not a gas cloud but rather a pair of binary stars that had been orbiting the black hole in tandem and merged into an extremely large star. ==See also== * * List of nearest known black holes ==Notes== ==References== * * * * * * * * ==Further reading== * * * * * * * * * * ==External links== * UCLA Galactic Center Group – latest results retrieved 8/12/2009 * Is there a Supermassive Black Hole at the Center of the Milky Way? (arXiv preprint) * 2004... [SEP] What is the evidence for the existence of a supermassive black hole at the center of the Milky Way galaxy?\n"
     ]
    }
   ],
   "source": [
    "\"\"\"\n",
    "ミスの原因？\n",
    "\n",
    "hit はしているがうまく抽出できていない\n",
    "- 必要なS2に関する情報をhttps://en.wikipedia.org/wiki/Supermassive_black_hole　から取得できていない\n",
    "- Referencesなどの不要なものが上位に入ってしまっている\n",
    "→各選択肢との類似度を取ればcutされずに上位に入りそう\n",
    "\"\"\"\n",
    "print_wrong(3)"
   ]
  },
  {
   "cell_type": "code",
   "execution_count": 46,
   "id": "4f937a2a-0a7f-40e4-a91b-0c6053e1216a",
   "metadata": {
    "tags": []
   },
   "outputs": [
    {
     "name": "stdout",
     "output_type": "stream",
     "text": [
      "【id】: 35\n",
      "【prompt】: What was the aim of the Gravity Probe B (GP-B) mission?\n",
      "【A】: To prove that pressure contributes equally to spacetime curvature as does mass-energy.\n",
      "【B】: To measure spacetime curvature near Earth, with particular emphasis on gravitomagnetism.\n",
      "【C】: To measure the distribution of Fe and Al on the Moon's surface.\n",
      "【D】: To confirm the relatively large geodetic effect due to simple spacetime curvature, and is also known as de Sitter precession.\n",
      "【E】: To measure the discrepancy between active and passive mass to about 10−12.\n",
      "【answer】: B\n",
      "【context】: Gravity Probe B (GP-B) was a satellite-based experiment to test two unverified predictions of general relativity: the geodetic effect and frame-dragging. In a public press and media event at NASA Headquarters, GP-B Principal Investigator, Francis Everitt presented the final results of Gravity Probe B. ;19 November 2015 : Publication of GP-B Special Volume (Volume #32, Issue #22) in the peer-reviewed journal, Classical and Quantum Gravity. Final science results were reported in 2011. ==Experimental setup== thumb The Gravity Probe B experiment comprised four London moment gyroscopes and a reference telescope sighted on IM Pegasi, a binary star in the constellation Pegasus. Gravity Probe may refer to: * Gravity Probe A * Gravity Probe B de:Gravity Probe Gravity Probe B was expected to measure this effect to an accuracy of one part in 10,000, the most stringent check on general relativistic predictions to date. \n",
      "【preds】: D\n",
      "【input】: Gravity Probe B (GP-B) was a satellite-based experiment to test two unverified predictions of general relativity: the geodetic effect and frame-dragging. In a public press and media event at NASA Headquarters, GP-B Principal Investigator, Francis Everitt presented the final results of Gravity Probe B. ;19 November 2015 : Publication of GP-B Special Volume (Volume #32, Issue #22) in the peer-reviewed journal, Classical and Quantum Gravity. Final science results were reported in 2011. ==Experimental setup== thumb The Gravity Probe B experiment comprised four London moment gyroscopes and a reference telescope sighted on IM Pegasi, a binary star in the constellation Pegasus.... [SEP] What was the aim of the Gravity Probe B (GP-B) mission?\n"
     ]
    }
   ],
   "source": [
    "\"\"\"\n",
    "ミスの原因？\n",
    "\n",
    "- hitしたwikipediaが違う\n",
    " - 不正解：https://en.wikipedia.org/wiki/Gravity_Probe_B\n",
    " - 正解：https://en.wikipedia.org/wiki/Spacetime\n",
    "\"\"\"\n",
    "print_wrong(4)"
   ]
  },
  {
   "cell_type": "code",
   "execution_count": 47,
   "id": "5dac9962-266d-487a-84fd-bd3881a7116b",
   "metadata": {
    "tags": []
   },
   "outputs": [
    {
     "name": "stdout",
     "output_type": "stream",
     "text": [
      "【id】: 39\n",
      "【prompt】: What is the synapstor or synapse transistor?\n",
      "【A】: A device used to demonstrate a neuro-inspired circuit that shows short-term potentiation for learning and inactivity-based forgetting.\n",
      "【B】: A device used to demonstrate a neuro-inspired circuit that shows long-term potentiation for learning and activity-based forgetting.\n",
      "【C】: A device used to demonstrate a neuro-inspired circuit that shows short-term depression for learning and inactivity-based forgetting.\n",
      "【D】: A device used to demonstrate a neuro-inspired circuit that shows short-term potentiation for learning and activity-based forgetting.\n",
      "【E】: A device used to demonstrate a neuro-inspired circuit that shows long-term potentiation for learning and inactivity-based forgetting.\n",
      "【answer】: E\n",
      "【context】: A synaptic transistor is an electrical device that can learn in ways similar to a neural synapse. The input and output of the synaptic transistor are continuous analog values, rather than digital on-off signals. A network of such devices can learn particular responses to \"sensory inputs\", with those responses being learned through experience rather than explicitly programmed. ==References== Category:Transistor types Category:Artificial neural networks While the physical structure of the device has the potential to learn from history, it contains no way to bias the transistor to control the memory effect. Synapse is a peer-reviewed scientific journal of neuroscience published in New York City by Wiley-Liss to address basic science topics on synaptic function and structure. \n",
      "【preds】: A\n",
      "【input】: A synaptic transistor is an electrical device that can learn in ways similar to a neural synapse. The input and output of the synaptic transistor are continuous analog values, rather than digital on-off signals. A network of such devices can learn particular responses to \"sensory inputs\", with those responses being learned through experience rather than explicitly programmed. ==References== Category:Transistor types Category:Artificial neural networks While the physical structure of the device has the potential to learn from history, it contains no way to bias the transistor to control the memory effect. Synapse is a peer-reviewed scientific journal of neuroscience published in... [SEP] What is the synapstor or synapse transistor?\n"
     ]
    }
   ],
   "source": [
    "\"\"\"\n",
    "ミスの原因？\n",
    "\n",
    "- hitしたwikipediaが違う\n",
    " - 不正解：https://en.wikipedia.org/wiki/Synaptic_transistor\n",
    " - 正解：https://en.wikipedia.org/wiki/Memristor\n",
    "\"\"\"\n",
    "print_wrong(5)"
   ]
  },
  {
   "cell_type": "code",
   "execution_count": 48,
   "id": "ada3cad3-ffdd-40c1-a4ad-3b97331cbd97",
   "metadata": {
    "tags": []
   },
   "outputs": [
    {
     "name": "stdout",
     "output_type": "stream",
     "text": [
      "【id】: 41\n",
      "【prompt】: What is the proper distance for a redshift of 8.2?\n",
      "【A】: The proper distance for a redshift of 8.2 is about 6.2 Gpc, or about 24 billion light-years.\n",
      "【B】: The proper distance for a redshift of 8.2 is about 7.2 Gpc, or about 26 billion light-years.\n",
      "【C】: The proper distance for a redshift of 8.2 is about 9.2 Gpc, or about 30 billion light-years.\n",
      "【D】: The proper distance for a redshift of 8.2 is about 8.2 Gpc, or about 28 billion light-years.\n",
      "【E】: The proper distance for a redshift of 8.2 is about 10.2 Gpc, or about 32 billion light-years.\n",
      "【answer】: C\n",
      "【context】: __NOTOC__ MACS0647-JD is a galaxy with a redshift of about z = 10.7, equivalent to a light travel distance of 13.26 billion light-years (4 billion parsecs). Using Hubble's law, the redshift can be used to estimate the distance of an object from Earth. Photometric redshifts were originally determined by calculating the expected observed data from a known emission spectrum at a range of redshifts. In the absence of sufficient telescope time to determine a spectroscopic redshift for each object, the technique of photometric redshifts provides a method to determine an at least qualitative characterization of a redshift. A photometric redshift is an estimate for the recession velocity of an astronomical object such as a galaxy or quasar, made without measuring its spectrum. \n",
      "【preds】: E\n",
      "【input】: __NOTOC__ MACS0647-JD is a galaxy with a redshift of about z = 10.7, equivalent to a light travel distance of 13.26 billion light-years (4 billion parsecs). Using Hubble's law, the redshift can be used to estimate the distance of an object from Earth. Photometric redshifts were originally determined by calculating the expected observed data from a known emission spectrum at a range of redshifts. In the absence of sufficient telescope time to determine a spectroscopic redshift for each object, the technique of photometric redshifts provides a method to determine an at least qualitative characterization of a redshift. A photometric redshift... [SEP] What is the proper distance for a redshift of 8.2?\n"
     ]
    }
   ],
   "source": [
    "\"\"\"\n",
    "ミスの原因？\n",
    "\n",
    "- hitしたwikipediaが違う\n",
    " - 不正解: https://en.wikipedia.org/wiki/MACS0647-JD\n",
    " - 正解：https://en.wikipedia.org/wiki/Observable_universe\n",
    "\"\"\"\n",
    "print_wrong(6)"
   ]
  },
  {
   "cell_type": "code",
   "execution_count": 49,
   "id": "199220cf-227d-49b4-8c9c-bef2d5cdabcc",
   "metadata": {
    "tags": []
   },
   "outputs": [
    {
     "name": "stdout",
     "output_type": "stream",
     "text": [
      "【id】: 53\n",
      "【prompt】: What did Newton adopt after his correspondence with Hooke in 1679-1680?\n",
      "【A】: The language of inward or centripetal force.\n",
      "【B】: The language of gravitational force.\n",
      "【C】: The language of outward or centrifugal force.\n",
      "【D】: The language of tangential and radial displacements.\n",
      "【E】: The language of electromagnetic force.\n",
      "【answer】: A\n",
      "【context】: Newton and Hooke had brief exchanges in 1679–80, when Hooke, appointed to manage the Royal Society's correspondence, opened up a correspondence intended to elicit contributions from Newton to Royal Society transactions, which had the effect of stimulating Newton to work out a proof that the elliptical form of planetary orbits would result from a centripetal force inversely proportional to the square of the radius vector. Newton was well-versed in both classics and modern languages. In the , Newton formulated the laws of motion and universal gravitation that formed the dominant scientific viewpoint for centuries until it was superseded by the theory of relativity. A draft letter regarding the matter is included in Newton's personal first edition of Philosophiæ Naturalis Principia Mathematica, which he must have been amending at the time. This followed stimulation by a brief exchange of letters in 1679–80 with Hooke, who had been appointed to manage the Royal Society's correspondence, and who opened a correspondence intended to elicit contributions from Newton to Royal Society transactions. \n",
      "【preds】: D\n",
      "【input】: Newton and Hooke had brief exchanges in 1679–80, when Hooke, appointed to manage the Royal Society's correspondence, opened up a correspondence intended to elicit contributions from Newton to Royal Society transactions, which had the effect of stimulating Newton to work out a proof that the elliptical form of planetary orbits would result from a centripetal force inversely proportional to the square of the radius vector. Newton was well-versed in both classics and modern languages. In the , Newton formulated the laws of motion and universal gravitation that formed the dominant scientific viewpoint for centuries until it was superseded by the... [SEP] What did Newton adopt after his correspondence with Hooke in 1679-1680?\n"
     ]
    }
   ],
   "source": [
    "\"\"\"\n",
    "ミスの原因？\n",
    "\n",
    "- hitしたwikipediaが違う\n",
    "    - 不正解：https://en.wikipedia.org/wiki/Isaac_Newton\n",
    "    - 正解：https://en.wikipedia.org/wiki/Newton%27s_law_of_universal_gravitation\n",
    "\"\"\"\n",
    "print_wrong(7)"
   ]
  },
  {
   "cell_type": "code",
   "execution_count": null,
   "id": "2796f6db-fd2b-48c9-83b9-7b37c28c9678",
   "metadata": {},
   "outputs": [],
   "source": []
  }
 ],
 "metadata": {
  "kernelspec": {
   "display_name": "Python 3 (ipykernel)",
   "language": "python",
   "name": "python3"
  },
  "language_info": {
   "codemirror_mode": {
    "name": "ipython",
    "version": 3
   },
   "file_extension": ".py",
   "mimetype": "text/x-python",
   "name": "python",
   "nbconvert_exporter": "python",
   "pygments_lexer": "ipython3",
   "version": "3.10.12"
  }
 },
 "nbformat": 4,
 "nbformat_minor": 5
}
