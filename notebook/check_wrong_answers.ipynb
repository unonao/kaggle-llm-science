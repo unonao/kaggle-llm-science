{
 "cells": [
  {
   "cell_type": "code",
   "execution_count": 1,
   "id": "f2b496e1-e088-4472-841c-099e357b13cd",
   "metadata": {
    "tags": []
   },
   "outputs": [
    {
     "name": "stderr",
     "output_type": "stream",
     "text": [
      "/opt/conda/lib/python3.10/site-packages/scipy/__init__.py:146: UserWarning: A NumPy version >=1.16.5 and <1.23.0 is required for this version of SciPy (detected version 1.23.5\n",
      "  warnings.warn(f\"A NumPy version >={np_minversion} and <{np_maxversion}\"\n"
     ]
    }
   ],
   "source": [
    "import ctypes\n",
    "import gc\n",
    "\n",
    "import torch\n",
    "\n",
    "libc = ctypes.CDLL(\"libc.so.6\")\n",
    "\n",
    "from dataclasses import dataclass\n",
    "from typing import Optional, Union\n",
    "\n",
    "import numpy as np\n",
    "import pandas as pd\n",
    "import torch\n",
    "from datasets import Dataset\n",
    "from torch.utils.data import DataLoader\n",
    "from transformers import AutoModel, AutoModelForMultipleChoice, AutoTokenizer, Trainer, TrainingArguments\n",
    "from transformers.tokenization_utils_base import PaddingStrategy, PreTrainedTokenizerBase"
   ]
  },
  {
   "cell_type": "code",
   "execution_count": 2,
   "id": "ad8b1437-ce27-4563-9fe8-7fb09e7bb761",
   "metadata": {
    "tags": []
   },
   "outputs": [],
   "source": [
    "import blingfire as bf\n",
    "import faiss\n",
    "from faiss import read_index, write_index\n",
    "from sentence_transformers import SentenceTransformer"
   ]
  },
  {
   "cell_type": "code",
   "execution_count": 3,
   "id": "f9511145-d885-4dcd-9ba0-9f2f5a684f8c",
   "metadata": {
    "tags": []
   },
   "outputs": [],
   "source": [
    "# https://www.kaggle.com/code/philippsinger/h2ogpt-perplexity-ranking\n",
    "def precision_at_k(r, k):\n",
    "    \"\"\"Precision at k\"\"\"\n",
    "    assert k <= len(r)\n",
    "    assert k != 0\n",
    "    return sum(int(x) for x in r[:k]) / k\n",
    "\n",
    "\n",
    "def map_k(true_items, predictions, K=3):\n",
    "    \"\"\"Score is mean average precision at 3\"\"\"\n",
    "    U = len(predictions)\n",
    "    map_at_k = 0.0\n",
    "    for u in range(U):\n",
    "        user_preds = predictions[u]\n",
    "        user_true = true_items[u]\n",
    "        user_results = [1 if item == user_true else 0 for item in user_preds]\n",
    "        for k in range(min(len(user_preds), K)):\n",
    "            map_at_k += precision_at_k(user_results, k + 1) * user_results[k]\n",
    "    return map_at_k / U\n",
    "\n",
    "\n",
    "import numpy as np\n",
    "\n",
    "\n",
    "def predictions_to_map_output(predictions):\n",
    "    sorted_answer_indices = np.argsort(-predictions)  # Sortting indices in descending order\n",
    "    top_answer_indices = sorted_answer_indices[:, :]  # Taking the first three indices for each row\n",
    "    top_answers = np.vectorize(index_to_option.get)(\n",
    "        top_answer_indices\n",
    "    )  # Transforming indices to options - i.e., 0 --> A\n",
    "    return np.apply_along_axis(lambda row: \" \".join(row), 1, top_answers)\n",
    "\n",
    "\n",
    "@dataclass\n",
    "class DataCollatorForMultipleChoice:\n",
    "    tokenizer: PreTrainedTokenizerBase\n",
    "    padding: Union[bool, str, PaddingStrategy] = True\n",
    "    max_length: Optional[int] = None\n",
    "    pad_to_multiple_of: Optional[int] = None\n",
    "\n",
    "    def __call__(self, features):\n",
    "        label_name = \"label\" if \"label\" in features[0].keys() else \"labels\"\n",
    "        labels = [feature.pop(label_name) for feature in features]\n",
    "        batch_size = len(features)\n",
    "        num_choices = len(features[0][\"input_ids\"])\n",
    "        flattened_features = [\n",
    "            [{k: v[i] for k, v in feature.items()} for i in range(num_choices)] for feature in features\n",
    "        ]\n",
    "        flattened_features = sum(flattened_features, [])\n",
    "\n",
    "        batch = self.tokenizer.pad(\n",
    "            flattened_features,\n",
    "            padding=self.padding,\n",
    "            max_length=self.max_length,\n",
    "            pad_to_multiple_of=self.pad_to_multiple_of,\n",
    "            return_tensors=\"pt\",\n",
    "        )\n",
    "        batch = {k: v.view(batch_size, num_choices, -1) for k, v in batch.items()}\n",
    "        batch[\"labels\"] = torch.tensor(labels, dtype=torch.int64)\n",
    "        return batch"
   ]
  },
  {
   "cell_type": "code",
   "execution_count": 4,
   "id": "43585f9c-d1fc-4af0-8004-12f90c515373",
   "metadata": {
    "tags": []
   },
   "outputs": [
    {
     "data": {
      "application/vnd.jupyter.widget-view+json": {
       "model_id": "c9f29b7aebae4e7bb12a9dbd2adcf402",
       "version_major": 2,
       "version_minor": 0
      },
      "text/plain": [
       "Map:   0%|          | 0/400 [00:00<?, ? examples/s]"
      ]
     },
     "metadata": {},
     "output_type": "display_data"
    }
   ],
   "source": [
    "df_valid = pd.read_csv(\"../preprocessed/002_gpu/003/train.csv\")\n",
    "\n",
    "model_dict = {\"path\": \"../output/007_validation/006/checkpoint-47476\", \"mode\": \"007\"}\n",
    "\n",
    "all_preds = []\n",
    "all_labels = []\n",
    "tokenizer = AutoTokenizer.from_pretrained(model_dict[\"path\"])\n",
    "\n",
    "test_df = pd.concat(\n",
    "    [\n",
    "        pd.read_csv(\"../preprocessed/002_gpu/003/train.csv\"),\n",
    "        pd.read_csv(\"../preprocessed/002_gpu/003/6000_wiki_en_sci_questions.csv\").head(200),  # 2000\n",
    "    ]\n",
    ").reset_index(drop=True)\n",
    "test_df[\"id\"] = test_df.index\n",
    "\n",
    "option_to_index = {option: idx for idx, option in enumerate(\"ABCDE\")}\n",
    "index_to_option = {v: k for k, v in option_to_index.items()}\n",
    "\n",
    "if model_dict[\"mode\"] == \"002\":\n",
    "\n",
    "    def preprocess(example):\n",
    "        first_sentence = [example[\"prompt\"]] * 5\n",
    "        second_sentences = [example[option] for option in \"ABCDE\"]\n",
    "        tokenized_example = tokenizer(first_sentence, second_sentences, truncation=False)\n",
    "        tokenized_example[\"label\"] = option_to_index[example[\"answer\"]]\n",
    "        return tokenized_example\n",
    "\n",
    "    tokenized_test_dataset = Dataset.from_pandas(test_df.drop(columns=[\"id\"])).map(\n",
    "        preprocess, remove_columns=[\"context\", \"prompt\", \"A\", \"B\", \"C\", \"D\", \"E\", \"answer\"]\n",
    "    )\n",
    "\n",
    "elif model_dict[\"mode\"] == \"003\":\n",
    "    test_df[\"prompt\"] = test_df[\"context\"].str.slice(0, 800) + \" #### \" + test_df[\"prompt\"]\n",
    "\n",
    "    def preprocess(example):\n",
    "        first_sentence = [example[\"prompt\"]] * 5\n",
    "        second_sentences = [example[option] for option in \"ABCDE\"]\n",
    "        tokenized_example = tokenizer(first_sentence, second_sentences, truncation=False)\n",
    "        tokenized_example[\"label\"] = option_to_index[example[\"answer\"]]\n",
    "        return tokenized_example\n",
    "\n",
    "    tokenized_test_dataset = Dataset.from_pandas(test_df.drop(columns=[\"id\"])).map(\n",
    "        preprocess, remove_columns=[\"context\", \"prompt\", \"A\", \"B\", \"C\", \"D\", \"E\", \"answer\"]\n",
    "    )\n",
    "\n",
    "elif model_dict[\"mode\"] == \"004\":\n",
    "    test_df[\"prompt\"] = test_df[\"prompt\"] + \" ## \" + test_df[\"context\"]\n",
    "\n",
    "    def preprocess(example):\n",
    "        first_sentence = [example[\"prompt\"]] * 5\n",
    "        second_sentences = [example[option] for option in \"ABCDE\"]\n",
    "        tokenized_example = tokenizer(first_sentence, second_sentences, truncation=True, max_length=384)\n",
    "        tokenized_example[\"label\"] = option_to_index[example[\"answer\"]]\n",
    "        return tokenized_example\n",
    "\n",
    "    tokenized_test_dataset = Dataset.from_pandas(test_df.drop(columns=[\"id\"])).map(\n",
    "        preprocess, remove_columns=[\"context\", \"prompt\", \"A\", \"B\", \"C\", \"D\", \"E\", \"answer\"]\n",
    "    )\n",
    "\n",
    "elif model_dict[\"mode\"] == \"005\":\n",
    "    test_df[\"prompt\"] = (\n",
    "        test_df[\"context\"].apply(lambda x: \" \".join(x.split()[:100])) + f\"... [SEP] \" + test_df[\"prompt\"]\n",
    "    )\n",
    "\n",
    "    def preprocess(example):\n",
    "        first_sentence = [example[\"prompt\"]] * 5\n",
    "        second_sentences = [example[option] for option in \"ABCDE\"]\n",
    "        tokenized_example = tokenizer(first_sentence, second_sentences, truncation=False)\n",
    "        tokenized_example[\"label\"] = option_to_index[example[\"answer\"]]\n",
    "        return tokenized_example\n",
    "\n",
    "    tokenized_test_dataset = Dataset.from_pandas(test_df.drop(columns=[\"id\"])).map(\n",
    "        preprocess, remove_columns=[\"context\", \"prompt\", \"A\", \"B\", \"C\", \"D\", \"E\", \"answer\"]\n",
    "    )\n",
    "\n",
    "elif model_dict[\"mode\"] == \"007\":\n",
    "    test_df[\"prompt\"] = (\n",
    "        test_df[\"context\"].apply(lambda x: \" \".join(x.split()[:250])) + f\"... [SEP] \" + test_df[\"prompt\"]\n",
    "    )\n",
    "\n",
    "    def preprocess(example):\n",
    "        first_sentence = [example[\"prompt\"]] * 5\n",
    "        second_sentences = [example[option] for option in \"ABCDE\"]\n",
    "        tokenized_example = tokenizer(first_sentence, second_sentences, truncation=False)\n",
    "        tokenized_example[\"label\"] = option_to_index[example[\"answer\"]]\n",
    "        return tokenized_example\n",
    "\n",
    "    tokenized_test_dataset = Dataset.from_pandas(test_df.drop(columns=[\"id\"])).map(\n",
    "        preprocess, remove_columns=[\"context\", \"prompt\", \"A\", \"B\", \"C\", \"D\", \"E\", \"answer\"]\n",
    "    )"
   ]
  },
  {
   "cell_type": "code",
   "execution_count": 5,
   "id": "e91d1ef5-213a-4dc5-ac05-25c1650b1043",
   "metadata": {
    "tags": []
   },
   "outputs": [
    {
     "data": {
      "application/vnd.jupyter.widget-view+json": {
       "model_id": "70ba8c00888143dbbfe997604deb9cfa",
       "version_major": 2,
       "version_minor": 0
      },
      "text/plain": [
       "  0%|          | 0/400 [00:00<?, ?it/s]"
      ]
     },
     "metadata": {},
     "output_type": "display_data"
    },
    {
     "name": "stderr",
     "output_type": "stream",
     "text": [
      "You're using a DebertaV2TokenizerFast tokenizer. Please note that with a fast tokenizer, using the `__call__` method is faster than using a method to encode the text followed by a call to the `pad` method to get a padded encoding.\n"
     ]
    },
    {
     "name": "stdout",
     "output_type": "stream",
     "text": [
      "{'path': '../output/007_validation/006/checkpoint-47476', 'mode': '007'}\n",
      "{'best_map@3': 0.9083333333333334, 'new_map@3': 0.8766666666666666}\n"
     ]
    }
   ],
   "source": [
    "from tqdm.auto import tqdm\n",
    "\n",
    "data_collator = DataCollatorForMultipleChoice(tokenizer=tokenizer)\n",
    "test_dataloader = DataLoader(\n",
    "    tokenized_test_dataset,\n",
    "    1,\n",
    "    shuffle=False,\n",
    "    collate_fn=data_collator,\n",
    ")\n",
    "\n",
    "model = AutoModelForMultipleChoice.from_pretrained(model_dict[\"path\"]).cuda()\n",
    "model.eval()\n",
    "preds = []\n",
    "labels = []\n",
    "for batch in tqdm(test_dataloader):\n",
    "    for k in batch.keys():\n",
    "        batch[k] = batch[k].cuda()\n",
    "    with torch.no_grad():\n",
    "        outputs = model(**batch)\n",
    "    labels.append(batch[\"labels\"].cpu().detach())\n",
    "    preds.append(outputs.logits.cpu().detach())\n",
    "\n",
    "preds = torch.cat(preds)\n",
    "labels = torch.cat(labels)\n",
    "\n",
    "result_dict = {\n",
    "    \"best_map@3\": map_k(df_valid[\"answer\"].to_numpy(), predictions_to_map_output(preds[: len(df_valid), :])),\n",
    "    \"new_map@3\": map_k(test_df[\"answer\"].to_numpy(), predictions_to_map_output(preds)),\n",
    "}\n",
    "\n",
    "print(model_dict)\n",
    "print(result_dict)\n",
    "del model\n",
    "_ = gc.collect()\n",
    "libc.malloc_trim(0)\n",
    "torch.cuda.empty_cache()"
   ]
  },
  {
   "cell_type": "code",
   "execution_count": 7,
   "id": "15ccfc59-b9af-42e8-8323-0898b1b9ab84",
   "metadata": {
    "tags": []
   },
   "outputs": [],
   "source": [
    "def predictions_to_map_output_top(predictions):\n",
    "    sorted_answer_indices = np.argsort(-predictions)  # Sortting indices in descending order\n",
    "    top_answer_indices = sorted_answer_indices[:, :]  # Taking the first three indices for each row\n",
    "    top_answers = np.vectorize(index_to_option.get)(\n",
    "        top_answer_indices\n",
    "    )  # Transforming indices to options - i.e., 0 --> A\n",
    "    return np.apply_along_axis(lambda row: \" \".join(row[0]), 1, top_answers)\n",
    "\n",
    "\n",
    "valid_preds = predictions_to_map_output_top(preds[: len(test_df), :])\n",
    "test_df[\"preds\"] = valid_preds"
   ]
  },
  {
   "cell_type": "code",
   "execution_count": 8,
   "id": "79cc53d5-48d6-495c-be6c-e8dcee532340",
   "metadata": {
    "tags": []
   },
   "outputs": [
    {
     "data": {
      "text/html": [
       "<div>\n",
       "<style scoped>\n",
       "    .dataframe tbody tr th:only-of-type {\n",
       "        vertical-align: middle;\n",
       "    }\n",
       "\n",
       "    .dataframe tbody tr th {\n",
       "        vertical-align: top;\n",
       "    }\n",
       "\n",
       "    .dataframe thead th {\n",
       "        text-align: right;\n",
       "    }\n",
       "</style>\n",
       "<table border=\"1\" class=\"dataframe\">\n",
       "  <thead>\n",
       "    <tr style=\"text-align: right;\">\n",
       "      <th></th>\n",
       "      <th>id</th>\n",
       "      <th>prompt</th>\n",
       "      <th>A</th>\n",
       "      <th>B</th>\n",
       "      <th>C</th>\n",
       "      <th>D</th>\n",
       "      <th>E</th>\n",
       "      <th>answer</th>\n",
       "      <th>context</th>\n",
       "      <th>preds</th>\n",
       "    </tr>\n",
       "  </thead>\n",
       "  <tbody>\n",
       "    <tr>\n",
       "      <th>0</th>\n",
       "      <td>0</td>\n",
       "      <td>While almost all astrophysicists today reject ...</td>\n",
       "      <td>MOND is a theory that reduces the observed mis...</td>\n",
       "      <td>MOND is a theory that increases the discrepanc...</td>\n",
       "      <td>MOND is a theory that explains the missing bar...</td>\n",
       "      <td>MOND is a theory that reduces the discrepancy ...</td>\n",
       "      <td>MOND is a theory that eliminates the observed ...</td>\n",
       "      <td>D</td>\n",
       "      <td>While almost all astrophysicists today reject ...</td>\n",
       "      <td>D</td>\n",
       "    </tr>\n",
       "    <tr>\n",
       "      <th>1</th>\n",
       "      <td>1</td>\n",
       "      <td>Many of these systems evolve in a self-similar...</td>\n",
       "      <td>Dynamic scaling refers to the evolution of sel...</td>\n",
       "      <td>Dynamic scaling refers to the non-evolution of...</td>\n",
       "      <td>Dynamic scaling refers to the evolution of sel...</td>\n",
       "      <td>Dynamic scaling refers to the non-evolution of...</td>\n",
       "      <td>Dynamic scaling refers to the evolution of sel...</td>\n",
       "      <td>A</td>\n",
       "      <td>Many of these systems evolve in a self-similar...</td>\n",
       "      <td>A</td>\n",
       "    </tr>\n",
       "    <tr>\n",
       "      <th>2</th>\n",
       "      <td>2</td>\n",
       "      <td>It is possible that this usage is related with...</td>\n",
       "      <td>The triskeles symbol was reconstructed as a fe...</td>\n",
       "      <td>The triskeles symbol is a representation of th...</td>\n",
       "      <td>The triskeles symbol is a representation of a ...</td>\n",
       "      <td>The triskeles symbol represents three interloc...</td>\n",
       "      <td>The triskeles symbol is a representation of th...</td>\n",
       "      <td>A</td>\n",
       "      <td>It is possible that this usage is related with...</td>\n",
       "      <td>D</td>\n",
       "    </tr>\n",
       "    <tr>\n",
       "      <th>3</th>\n",
       "      <td>3</td>\n",
       "      <td>Renormalization is distinct from regularizatio...</td>\n",
       "      <td>Regularizing the mass-energy of an electron wi...</td>\n",
       "      <td>Regularizing the mass-energy of an electron wi...</td>\n",
       "      <td>Regularizing the mass-energy of an electron wi...</td>\n",
       "      <td>Regularizing the mass-energy of an electron wi...</td>\n",
       "      <td>Regularizing the mass-energy of an electron wi...</td>\n",
       "      <td>C</td>\n",
       "      <td>Renormalization is distinct from regularizatio...</td>\n",
       "      <td>C</td>\n",
       "    </tr>\n",
       "    <tr>\n",
       "      <th>4</th>\n",
       "      <td>4</td>\n",
       "      <td>Several qualitative observations can be made o...</td>\n",
       "      <td>The angular spacing of features in the diffrac...</td>\n",
       "      <td>The angular spacing of features in the diffrac...</td>\n",
       "      <td>The angular spacing of features in the diffrac...</td>\n",
       "      <td>The angular spacing of features in the diffrac...</td>\n",
       "      <td>The angular spacing of features in the diffrac...</td>\n",
       "      <td>D</td>\n",
       "      <td>Several qualitative observations can be made o...</td>\n",
       "      <td>D</td>\n",
       "    </tr>\n",
       "  </tbody>\n",
       "</table>\n",
       "</div>"
      ],
      "text/plain": [
       "   id                                             prompt  \\\n",
       "0   0  While almost all astrophysicists today reject ...   \n",
       "1   1  Many of these systems evolve in a self-similar...   \n",
       "2   2  It is possible that this usage is related with...   \n",
       "3   3  Renormalization is distinct from regularizatio...   \n",
       "4   4  Several qualitative observations can be made o...   \n",
       "\n",
       "                                                   A  \\\n",
       "0  MOND is a theory that reduces the observed mis...   \n",
       "1  Dynamic scaling refers to the evolution of sel...   \n",
       "2  The triskeles symbol was reconstructed as a fe...   \n",
       "3  Regularizing the mass-energy of an electron wi...   \n",
       "4  The angular spacing of features in the diffrac...   \n",
       "\n",
       "                                                   B  \\\n",
       "0  MOND is a theory that increases the discrepanc...   \n",
       "1  Dynamic scaling refers to the non-evolution of...   \n",
       "2  The triskeles symbol is a representation of th...   \n",
       "3  Regularizing the mass-energy of an electron wi...   \n",
       "4  The angular spacing of features in the diffrac...   \n",
       "\n",
       "                                                   C  \\\n",
       "0  MOND is a theory that explains the missing bar...   \n",
       "1  Dynamic scaling refers to the evolution of sel...   \n",
       "2  The triskeles symbol is a representation of a ...   \n",
       "3  Regularizing the mass-energy of an electron wi...   \n",
       "4  The angular spacing of features in the diffrac...   \n",
       "\n",
       "                                                   D  \\\n",
       "0  MOND is a theory that reduces the discrepancy ...   \n",
       "1  Dynamic scaling refers to the non-evolution of...   \n",
       "2  The triskeles symbol represents three interloc...   \n",
       "3  Regularizing the mass-energy of an electron wi...   \n",
       "4  The angular spacing of features in the diffrac...   \n",
       "\n",
       "                                                   E answer  \\\n",
       "0  MOND is a theory that eliminates the observed ...      D   \n",
       "1  Dynamic scaling refers to the evolution of sel...      A   \n",
       "2  The triskeles symbol is a representation of th...      A   \n",
       "3  Regularizing the mass-energy of an electron wi...      C   \n",
       "4  The angular spacing of features in the diffrac...      D   \n",
       "\n",
       "                                             context preds  \n",
       "0  While almost all astrophysicists today reject ...     D  \n",
       "1  Many of these systems evolve in a self-similar...     A  \n",
       "2  It is possible that this usage is related with...     D  \n",
       "3  Renormalization is distinct from regularizatio...     C  \n",
       "4  Several qualitative observations can be made o...     D  "
      ]
     },
     "execution_count": 8,
     "metadata": {},
     "output_type": "execute_result"
    }
   ],
   "source": [
    "test_df.head()"
   ]
  },
  {
   "cell_type": "markdown",
   "id": "199ed7f1-cbaf-49c6-b5ef-905cd786f856",
   "metadata": {
    "tags": []
   },
   "source": [
    "## ミスのチェック"
   ]
  },
  {
   "cell_type": "code",
   "execution_count": null,
   "id": "a32a3220-78b1-47b0-b8c0-6000d17b14c1",
   "metadata": {},
   "outputs": [],
   "source": []
  },
  {
   "cell_type": "code",
   "execution_count": 9,
   "id": "4797eb0c-52bb-468e-93c4-c933b2ab9fa8",
   "metadata": {
    "tags": []
   },
   "outputs": [],
   "source": [
    "wrong_df = test_df.query(\"answer != preds\").reset_index(drop=True)\n",
    "test_df[\"input\"] = test_df[\"context\"].apply(lambda x: \" \".join(x.split()[:70])) + f\"... [SEP] \" + test_df[\"prompt\"]\n",
    "\n",
    "\n",
    "def print_wrong(index):\n",
    "    for col, row in zip(test_df.columns, wrong_df.iloc[index]):\n",
    "        if col == \"input\":\n",
    "            encoded_input = tokenizer(row)\n",
    "            # print(f\"【{col}】:\", tokenizer.decode(encoded_input[\"input_ids\"]))\n",
    "        else:\n",
    "            print(f\"【{col}】:\", row)"
   ]
  },
  {
   "cell_type": "code",
   "execution_count": 10,
   "id": "3082cedd-19c6-4b96-8858-b5587cb2893a",
   "metadata": {
    "tags": []
   },
   "outputs": [
    {
     "name": "stdout",
     "output_type": "stream",
     "text": [
      "【id】: 2\n",
      "【prompt】: It is possible that this usage is related with the Greek name of the island of Sicily, Trinacria (Τρινακρία \"having three headlands\").Liddell and Scott’s Greek-English Lexicon (A Lexicon Abridged from), Oxford, 1944, p.27, Cassell's Latin Dictionary, Marchant, J.R.V, & Charles, Joseph F., (Eds.), Revised Edition, 1928 The Sicilian triskeles is shown with the head of Medusa at the center.Matthews, Jeff (2005) Symbols of Naples The ancient symbol has been re-introduced in modern flags of Sicily since 1848. An early flag of Sicily, proposed in 1848, included the Sicilian triskeles or \"Trinacria symbol\". It has been suggested that its origin lies in Sicily, an island which has been associated with the triskelion since ancient times. The triskeles was adopted as emblem by the rulers of Syracuse. The oldest find of a triskeles in Sicily is a vase dated to 700 BCE, for which researchers assume a Minoan-Mycenaean origin. ===Roman period and Late Antiquity=== Late examples of the triple spiral symbols are found in Iron Age Europe, e.g. carved in rock in Castro Culture settlement in Galicia, Asturias and Northern Portugal. The symbol is closely related to the triskele, a symbol of three-fold rotational symmetry, which occurs on artefacts of the same period. In the Hellenistic period, the symbol becomes associated with the island of Sicily, appearing on coins minted under Dionysius I of Syracuse beginning in BCE.Arthur Bernard Cook, Zeus: a study in ancient religion, Volume 3, Part 2 (1940), p. 1074. The actual triskeles symbol of three human legs is... [SEP] Which of the following statements accurately describes the origin and significance of the triskeles symbol?\n",
      "【A】: The triskeles symbol was reconstructed as a feminine divine triad by the rulers of Syracuse, and later adopted as an emblem. Its usage may also be related to the Greek name of Sicily, Trinacria, which means \"having three headlands.\" The head of Medusa at the center of the Sicilian triskeles represents the three headlands.\n",
      "【B】: The triskeles symbol is a representation of three interlinked spirals, which was adopted as an emblem by the rulers of Syracuse. Its usage in modern flags of Sicily has its origins in the ancient Greek name for the island, Trinacria, which means \"Sicily with three corners.\" The head of Medusa at the center is a representation of the island's rich cultural heritage.\n",
      "【C】: The triskeles symbol is a representation of a triple goddess, reconstructed by the rulers of Syracuse, who adopted it as an emblem. Its significance lies in the fact that it represents the Greek name for Sicily, Trinacria, which contains the element \"tria,\" meaning three. The head of Medusa at the center of the Sicilian triskeles represents the three headlands.\n",
      "【D】: The triskeles symbol represents three interlocked spiral arms, which became an emblem for the rulers of Syracuse. Its usage in modern flags of Sicily is due to the island's rich cultural heritage, which dates back to ancient times. The head of Medusa at the center represents the lasting influence of Greek mythology on Sicilian culture.\n",
      "【E】: The triskeles symbol is a representation of the Greek goddess Hecate, reconstructed by the rulers of Syracuse. Its adoption as an emblem was due to its cultural significance, as it represented the ancient Greek name for Sicily, Trinacria. The head of Medusa at the center of the Sicilian triskeles represents the island's central location in the Mediterranean.\n",
      "【answer】: A\n",
      "【context】: It is possible that this usage is related with the Greek name of the island of Sicily, Trinacria (Τρινακρία \"having three headlands\").Liddell and Scott’s Greek-English Lexicon (A Lexicon Abridged from), Oxford, 1944, p.27, Cassell's Latin Dictionary, Marchant, J.R.V, & Charles, Joseph F., (Eds.), Revised Edition, 1928 The Sicilian triskeles is shown with the head of Medusa at the center.Matthews, Jeff (2005) Symbols of Naples The ancient symbol has been re-introduced in modern flags of Sicily since 1848. An early flag of Sicily, proposed in 1848, included the Sicilian triskeles or \"Trinacria symbol\". It has been suggested that its origin lies in Sicily, an island which has been associated with the triskelion since ancient times. The triskeles was adopted as emblem by the rulers of Syracuse. The oldest find of a triskeles in Sicily is a vase dated to 700 BCE, for which researchers assume a Minoan-Mycenaean origin. ===Roman period and Late Antiquity=== Late examples of the triple spiral symbols are found in Iron Age Europe, e.g. carved in rock in Castro Culture settlement in Galicia, Asturias and Northern Portugal. The symbol is closely related to the triskele, a symbol of three-fold rotational symmetry, which occurs on artefacts of the same period. In the Hellenistic period, the symbol becomes associated with the island of Sicily, appearing on coins minted under Dionysius I of Syracuse beginning in BCE.Arthur Bernard Cook, Zeus: a study in ancient religion, Volume 3, Part 2 (1940), p. 1074. The actual triskeles symbol of three human legs is found especially in Greek antiquity, beginning in archaic pottery and continued in coinage of the classical period. Also p. 134: [On CRs] \"Using Celtic symbols such as triskeles and spirals\" Other uses of triskelion-like emblems include the logo for the Trisquel Linux distribution and the seal of the United States Department of Transportation. The triskelion was a motif in the art of the Iron age Celtic La Tène culture. ===Classical Antiquity=== The triskeles proper, composed of three human legs, is younger than the triple spiral, found in decorations on Greek pottery especially as a design shown on hoplite shields, and later also minted on Greek and Anatolian coinage. Airavella, Allariz, Galicia File:Torque de Santa Tegra 1.JPG|Triskelion and spirals on a Galician torc terminal. ===Medieval=== File:Triskel-triskele-triquetre-triscel VAN DEN HENDE ALAIN CC-BY-SA-40 0718 PDP BG 007.jpg|Triskèle Saint-Marcellin (in Isère / France) File:Triskel_et_Biskel_-_Saint_Antoine_l_Abbaye_- _Alain_Van_den_Hende_17071627_Licence_CC40.jpg|On the front of Abbatial church of Saint-Antoine-l'Abbaye with 2 groups of 2 triskelions and 1 biskel (in Isère / France) File:Triskele karja church.jpg|Mural depicting a triskelion on the ceiling of Karja church in Saaremaa, Estonia ===Modern=== File:Flag of the Isle of Mann.svg|Flag of the Isle of Man File:Sicilian Flag.svg|Flag of Sicily, with the triskeles-and-Gorgoneion symbol File:Flag of Ust-Orda Buryat Autonomous Okrug.svg|Flag of Ust-Orda Buryat Okrug File:Flag of Ingushetia.svg|Flag of Ingushetia File:27. The symbol appears in the island's official flag and official coat of arms, as well as its currency. The spiral triskele is one of the primary symbols of Celtic Reconstructionist Paganism, used to represent a variety of triplicities in cosmology and theology; it is also a favored symbol due to its association with the god Manannán mac Lir.Bonewits, Isaac (2006) Bonewits's Essential Guide to Druidism. The three legs (triskeles) symbol is rarely found as a charge in late medieval heraldry, notably as the arms of the King of Mann (Armorial Wijnbergen, ), and as canting arms in the city seal of the Bavarian city of Füssen (dated 1317). ==Modern usage== The triskeles was included in the design of the Army Gold Medal awarded to British Army majors and above who had taken a key part in the Battle of Maida (1806).Charles Norton Elvin, A Dictionary of Heraldry (1889), p. 126. The independentist Massimo Cirano, belonging to the \"Archimedes Section\" of the MIS presented himself in April 2019, with his symbol and list, to the administrative authorities of the municipality of Bagheria obtaining 1160 votes == Symbols == * The Sicilian Independence Movement had the Trinacria as its symbol. It later appears in heraldry, and, other than in the flag of Sicily, came to be used in the flag of the Isle of Man (known as ny tree cassyn \"the three legs\").Adopted in 1932, the flag of the Isle of Man is derived from the arms of the King of Mann recorded in the 13th century. thumb|Neolithic triple spiral symbol A triskelion or triskeles is an ancient motif consisting of a triple spiral exhibiting rotational symmetry or other patterns in triplicate that emanate from a common center. Later versions of Sicilian flags have retained the emblem, including the one officially adopted in 2000. Greek (triskelḗs) means \"three-legged\".τρισκελής, Henry George Liddell, Robert Scott, A Greek-English Lexicon, on Perseus Digital Library; from τρι- (tri-), \"three times\" (τρι- , Henry George Liddell, Robert Scott, A Greek-English Lexicon, on Perseus Digital Library) and \"σκέλος\" (skelos), \"leg (σκέλος, Henry George Liddell, Robert Scott, A Greek–English Lexicon, on Perseus Digital Library) While the Greek adjective \"three-legged [e.g. of a table]\" is ancient, use of the term for the symbol is modern, introduced in 1835 by Honoré Théodoric d'Albert de Luynes as French ,Honore-Theodoric-Paul-Joseph d'Albert de Luynes, Etudes numismatiques sur quelques types relatifs au culte d'Hecate (1835), 83f. and adopted in the spelling triskeles following Otto Olshausen (1886).Johannes Maringer, \"Das Triskeles in der vor- und frühgeschichtlichen Kunst\", Anthropos 74.3/4 (1979), pp. 566-576 The form triskelion (as it were Greek Classical Greek does not have , but the form \"small tripod\" is on record as the diminutive of \"three-pronged\". In Ireland before the 5th century, in Celtic Christianity the symbol took on new meaning, as a symbol of the Trinity (Father, Son, and Holy Spirit). ==Medieval use== The triple spiral design is found as a decorative element in Gothic architecture. \n",
      "【preds】: D\n"
     ]
    }
   ],
   "source": [
    "\"\"\"\n",
    "retrieve は完璧だが不正解\n",
    "\"\"\"\n",
    "print_wrong(0)"
   ]
  },
  {
   "cell_type": "code",
   "execution_count": 11,
   "id": "fb26b517-b751-451f-9505-7d6a214962d0",
   "metadata": {
    "tags": []
   },
   "outputs": [
    {
     "name": "stdout",
     "output_type": "stream",
     "text": [
      "(Τρινακρία \"having three headlands\").Liddell and Scott’s\n",
      "[CLS] ( Τ ρι να κ ρί α \" having three headland s \" ) . Li d dell and Scott ’ s [SEP]\n",
      "having three headlands\n",
      "[CLS] having three headland s [SEP]\n"
     ]
    }
   ],
   "source": [
    "def print_each_token(text, tokenizer=tokenizer):\n",
    "    encoded_input = tokenizer(text)\n",
    "    result = []\n",
    "    for idx in encoded_input[\"input_ids\"]:\n",
    "        result.append(tokenizer.decode([idx]))\n",
    "    print(text)\n",
    "    print(\" \".join(result))\n",
    "\n",
    "\n",
    "print_each_token('(Τρινακρία \"having three headlands\").Liddell and Scott’s')\n",
    "print_each_token(\"having three headlands\")"
   ]
  },
  {
   "cell_type": "code",
   "execution_count": 12,
   "id": "3ed8998d-ba4d-4591-8988-4157234dd08a",
   "metadata": {
    "tags": []
   },
   "outputs": [
    {
     "name": "stdout",
     "output_type": "stream",
     "text": [
      "【id】: 8\n",
      "【prompt】: While such phenomena are sometimes referred to as \"redshifts\" and \"blueshifts\", in astrophysics light-matter interactions that result in energy shifts in the radiation field are generally referred to as \"reddening\" rather than \"redshifting\" which, as a term, is normally reserved for the effects discussed above. In physics, a redshift is an increase in the wavelength, and corresponding decrease in the frequency and photon energy, of electromagnetic radiation (such as light). The opposite change, a decrease in wavelength and simultaneous increase in frequency and energy, is known as a negative redshift, or blueshift. A red shift can be observed when part of the energy of the photon is transferred to the interacting matter, where it adds to its internal energy in a process called Stokes Raman scattering. For example, Doppler effect blueshifts () are associated with objects approaching (moving closer to) the observer with the light shifting to greater energies. This phenomenon is distinct from redshifting because the spectroscopic lines are not shifted to other wavelengths in reddened objects and there is an additional dimming and distortion associated with the phenomenon due to photons being scattered in and out of the line of sight. ==Blueshift== The opposite of a redshift is a blueshift. A blueshift is any decrease in wavelength (increase in energy), with a corresponding increase in frequency, of an electromagnetic wave. Other physical processes exist that can lead to a shift in the frequency of electromagnetic radiation, including scattering and optical effects; however, the resulting changes are distinguishable from... [SEP] What is the term used in astrophysics to describe light-matter interactions resulting in energy shifts in the radiation field?\n",
      "【A】: Blueshifting\n",
      "【B】: Redshifting\n",
      "【C】: Reddening\n",
      "【D】: Whitening\n",
      "【E】: Yellowing\n",
      "【answer】: C\n",
      "【context】: While such phenomena are sometimes referred to as \"redshifts\" and \"blueshifts\", in astrophysics light-matter interactions that result in energy shifts in the radiation field are generally referred to as \"reddening\" rather than \"redshifting\" which, as a term, is normally reserved for the effects discussed above. In physics, a redshift is an increase in the wavelength, and corresponding decrease in the frequency and photon energy, of electromagnetic radiation (such as light). The opposite change, a decrease in wavelength and simultaneous increase in frequency and energy, is known as a negative redshift, or blueshift. A red shift can be observed when part of the energy of the photon is transferred to the interacting matter, where it adds to its internal energy in a process called Stokes Raman scattering. For example, Doppler effect blueshifts () are associated with objects approaching (moving closer to) the observer with the light shifting to greater energies. This phenomenon is distinct from redshifting because the spectroscopic lines are not shifted to other wavelengths in reddened objects and there is an additional dimming and distortion associated with the phenomenon due to photons being scattered in and out of the line of sight. ==Blueshift== The opposite of a redshift is a blueshift. A blueshift is any decrease in wavelength (increase in energy), with a corresponding increase in frequency, of an electromagnetic wave. Other physical processes exist that can lead to a shift in the frequency of electromagnetic radiation, including scattering and optical effects; however, the resulting changes are distinguishable from (astronomical) redshift and are not generally referred to as such (see section on physical optics and radiative transfer). ==History== The history of the subject began with the development in the 19th century of classical wave mechanics and the exploration of phenomena associated with the Doppler effect. Redshift (and blueshift) may be characterized by the relative difference between the observed and emitted wavelengths (or frequency) of an object. The blue shift can be observed when internal energy of the matter is transferred to the photon; this process is called anti-Stokes Raman scattering. In such cases, the shifts correspond to a physical energy transfer to matter or other photons rather than being by a transformation between reference frames. Examples of strong redshifting are a gamma ray perceived as an X-ray, or initially visible light perceived as radio waves. This is known as the gravitational redshift or Einstein Shift. Conversely, Doppler effect redshifts () are associated with objects receding (moving away) from the observer with the light shifting to lower energies. In visible light, this shifts a color towards the blue end of the spectrum. === Doppler blueshift === thumb|Doppler redshift and blueshift Doppler blueshift is caused by movement of a source towards the observer. In this scattering process, the incident photon interacts with matter (gas, liquid, and solid) and the frequency of the photon is shifted towards red or blue. In interstellar astronomy, visible spectra can appear redder due to scattering processes in a phenomenon referred to as interstellar reddening—similarly Rayleigh scattering causes the atmospheric reddening of the Sun seen in the sunrise or sunset and causes the rest of the sky to have a blue color. The term applies to any decrease in wavelength and increase in frequency caused by relative motion, even outside the visible spectrum. Likewise, gravitational blueshifts are associated with light emitted from a source residing within a weaker gravitational field as observed from within a stronger gravitational field, while gravitational redshifting implies the opposite conditions. == Redshift formulae == In general relativity one can derive several important special-case formulae for redshift in certain special spacetime geometries, as summarized in the following table. These types of galaxies are called \"blue outliers\". ===Cosmological blueshift=== In a hypothetical universe undergoing a runaway Big Crunch contraction, a cosmological blueshift would be observed, with galaxies further away being increasingly blueshifted—the exact opposite of the actually observed cosmological redshift in the present expanding universe. ==See also== * Cosmic crystallography * Gravitational potential * Relativistic Doppler effect ==References== ==Sources== ===Articles=== * Odenwald, S. & Fienberg, RT. 1993; \"Galaxy Redshifts Reconsidered\" in Sky & Telescope Feb. 2003; pp31–35 (This article is useful further reading in distinguishing between the 3 types of redshift and their causes.) \n",
      "【preds】: A\n"
     ]
    }
   ],
   "source": [
    "\"\"\"\n",
    "retrieve は完璧だが不正解\n",
    "正解：https://en.wikipedia.org/wiki/Wigner%E2%80%93Weyl_transform\n",
    "\"\"\"\n",
    "\n",
    "print_wrong(1)"
   ]
  },
  {
   "cell_type": "code",
   "execution_count": 13,
   "id": "719e8a15-0b39-4ae2-94cc-d735843cdef2",
   "metadata": {
    "tags": []
   },
   "outputs": [
    {
     "name": "stdout",
     "output_type": "stream",
     "text": [
      "referred to as \"reddening\"\n",
      "[CLS] referred to as \" re dden ing \" [SEP]\n",
      "referred to as  reddening \n",
      "[CLS] referred to as red den ing [SEP]\n",
      "reddening\n",
      "[CLS] red den ing [SEP]\n",
      "Reddening\n",
      "[CLS] Red den ing [SEP]\n"
     ]
    }
   ],
   "source": [
    "print_each_token('referred to as \"reddening\"')\n",
    "print_each_token(\"referred to as  reddening \")\n",
    "print_each_token(\"reddening\")\n",
    "print_each_token(\"Reddening\")"
   ]
  },
  {
   "cell_type": "code",
   "execution_count": 14,
   "id": "af3365fa-f3a2-4998-9bb1-d2d3a98be795",
   "metadata": {
    "tags": []
   },
   "outputs": [
    {
     "name": "stdout",
     "output_type": "stream",
     "text": [
      "【id】: 13\n",
      "【prompt】: The Roche limit is the distance from a planet at which tidal effects would cause an object to disintegrate because the differential force of gravity from the planet overcomes the attraction of the parts of the object for one another. In celestial mechanics, the Roche limit, also called Roche radius, is the distance from a celestial body within which a second celestial body, held together only by its own force of gravity, will disintegrate because the first body's tidal forces exceed the second body's self-gravitation. It is also different from the Roche limit, which is the distance at which an object held together only by gravity begins to break up due to tidal forces. But note that, as defined above, the Roche limit refers to a body held together solely by the gravitational forces which cause otherwise unconnected particles to coalesce, thus forming the body in question. The Roche Division should not be confused with the Roche limit which is the distance at which a large object is so close to a planet (such as Saturn) that the planet's tidal forces will pull it apart. The Roche limit for a rigid spherical satellite is the distance, d, from the primary at which the gravitational force on a test mass at the surface of the object is exactly equal to the tidal force pulling the mass away from the object:see calculation in Frank H. Shu, The Physical Universe: an Introduction to Astronomy, p. 431, University Science Books (1982), . : d... [SEP] What is the Roche limit?\n",
      "【A】: The Roche limit is the distance at which tidal effects would cause an object to rotate since the forces exerted by two massive bodies produce a torque on a third object.\n",
      "【B】: The Roche limit is the distance at which tidal effects would cause an object to unite since differential force from a planet results in parts becoming attracted to one another.\n",
      "【C】: The Roche limit is the distance at which tidal effects would cause a planet to disintegrate since differential force from an object overcomes the planet's core.\n",
      "【D】: The Roche limit is the distance at which tidal effects would cause an object to disintegrate since differential force from a planet overcomes the attraction of the parts between them.\n",
      "【E】: The Roche limit is the distance at which tidal effects would cause an object to break apart due to differential force from the planet overcoming the attraction of the parts of the object for one another, which depends on the object's density and composition, as well as the mass and size of the planet.\n",
      "【answer】: D\n",
      "【context】: The Roche limit is the distance from a planet at which tidal effects would cause an object to disintegrate because the differential force of gravity from the planet overcomes the attraction of the parts of the object for one another. In celestial mechanics, the Roche limit, also called Roche radius, is the distance from a celestial body within which a second celestial body, held together only by its own force of gravity, will disintegrate because the first body's tidal forces exceed the second body's self-gravitation. It is also different from the Roche limit, which is the distance at which an object held together only by gravity begins to break up due to tidal forces. But note that, as defined above, the Roche limit refers to a body held together solely by the gravitational forces which cause otherwise unconnected particles to coalesce, thus forming the body in question. The Roche Division should not be confused with the Roche limit which is the distance at which a large object is so close to a planet (such as Saturn) that the planet's tidal forces will pull it apart. The Roche limit for a rigid spherical satellite is the distance, d, from the primary at which the gravitational force on a test mass at the surface of the object is exactly equal to the tidal force pulling the mass away from the object:see calculation in Frank H. Shu, The Physical Universe: an Introduction to Astronomy, p. 431, University Science Books (1982), . : d = R_M\\left(2 \\frac {\\rho_M} {\\rho_m} \\right)^{\\frac{1}{3}} where R_M is the radius of the primary, \\rho_M is the density of the primary, and \\rho_m is the density of the satellite. The Roche limit is also usually calculated for the case of a circular orbit, although it is straightforward to modify the calculation to apply to the case (for example) of a body passing the primary on a parabolic or hyperbolic trajectory. === Rigid satellites === The rigid-body Roche limit is a simplified calculation for a spherical satellite. Since, within the Roche limit, tidal forces overwhelm the gravitational forces that might otherwise hold the satellite together, no satellite can gravitationally coalesce out of smaller particles within that limit. Inside the Roche limit, orbiting material disperses and forms rings, whereas outside the limit, material tends to coalesce. The term is named after Édouard Roche (, ), the French astronomer who first calculated this theoretical limit in 1848. == Explanation == The Roche limit typically applies to a satellite's disintegrating due to tidal forces induced by its primary, the body around which it orbits. The Roche radius depends on the radius of the first body and on the ratio of the bodies' densities. The Roche lobe, Roche limit, and Roche sphere are named after the French astronomer Édouard Roche. ==Definition== In a binary system with a circular orbit, it is often useful to describe the system in a coordinate system that rotates along with the objects. Roche himself derived the following approximate solution for the Roche limit: : d \\approx 2.44R\\left( \\frac {\\rho_M} {\\rho_m} \\right)^{1/3} However, a better approximation that takes into account the primary's oblateness and the satellite's mass is: : d \\approx 2.423 R\\left( \\frac {\\rho_M} {\\rho_m} \\right)^{1/3} \\left( \\frac{(1+\\frac{m}{3M})+\\frac{c}{3R}(1+\\frac{m}{M})}{1-c/R} \\right)^{1/3} where c/R is the oblateness of the primary. Some real satellites, both natural and artificial, can orbit within their Roche limits because they are held together by forces other than gravitation. * Roche Limit Description from NASA Category:Gravity Category:Space science Category:Tidal forces Category:Planetary rings Category:Equations of astronomy This is the orbital distance inside of which loose material (e.g. regolith) on the surface of the satellite closest to the primary would be pulled away, and likewise material on the side opposite the primary will also go away from, rather than toward, the satellite. === Fluid satellites === A more accurate approach for calculating the Roche limit takes the deformation of the satellite into account. The Roche limit is not the only factor that causes comets to break apart. The Roche lobe is different from the Roche sphere, which approximates the gravitational sphere of influence of one astronomical body in the face of perturbations from a more massive body around which it orbits. Lying at the outer edge of the main ring system, the Roche Division is in fact close to Saturn's Roche limit, which is why the rings have been unable to accrete into a moon. In astronomy, the Roche lobe is the region around a star in a binary system within which orbiting material is gravitationally bound to that star. \n",
      "【preds】: E\n"
     ]
    }
   ],
   "source": [
    "\"\"\"\n",
    "retrieve は完璧だが不正解\n",
    "\"\"\"\n",
    "\n",
    "print_wrong(2)"
   ]
  },
  {
   "cell_type": "code",
   "execution_count": 15,
   "id": "1aa55cab-d623-46bb-9cc7-428e3156a5b8",
   "metadata": {
    "tags": []
   },
   "outputs": [
    {
     "name": "stdout",
     "output_type": "stream",
     "text": [
      "【id】: 28\n",
      "【prompt】: In February 2021, astronomers released, for the first time, a very high-resolution image of 25,000 active supermassive black holes, covering four percent of the Northern celestial hemisphere, based on ultra-low radio wavelengths, as detected by the Low-Frequency Array (LOFAR) in Europe. ==See also== * * * * * * * * ==Notes== ==References== ==Further reading== * * * * * * ==External links== * Black Holes: Gravity's Relentless Pull Interactive multimedia Web site about the physics and astronomy of black holes from the Space Telescope Science Institute * Images of supermassive black holes * NASA images of supermassive black holes * <!---[https://web.archive.org/web/20160613034320/http://www.einstein- online.info/spotlights/milkyway_bh/?set_language=en The black hole at the heart of the Milky Way * ESO video clip of stars orbiting a galactic black hole * Star Orbiting Massive Milky Way Centre Approaches to within 17 Light- Hours ESO, October 21, 2002 * Images, Animations, and New Results from the UCLA Galactic Center Group * Washington Post article on Supermassive black holes * Video (2:46) – Simulation of stars orbiting Milky Way's central massive black hole * Video (2:13) – Simulation reveals supermassive black holes (NASA, October 2, 2018) * \\+ Category:Concepts in astronomy Category:Galaxies Category:Articles containing video clips The Milky Way's central black hole, known as Sagittarius A*, has a mass four million times greater than the Sun. Observational evidence indicates that almost every large galaxy has a supermassive black hole at its center. Observations of the star S14 indicate that the radius is no more than 6.25 light-hours, about... [SEP] What is the evidence for the existence of a supermassive black hole at the center of the Milky Way galaxy?\n",
      "【A】: The Milky Way galaxy has a supermassive black hole at its center because of the bright flare activity observed near Sagittarius A*. The radius of the central object must be less than 17 light-hours, because otherwise S2 would collide with it. Observations of the star S14 indicate that the radius is no more than 6.25 light-hours, about the diameter of Uranus' orbit. No known astronomical object other than a black hole can contain 4.0 million M☉ in this volume of space.\n",
      "【B】: The Milky Way galaxy has a supermassive black hole at its center because the star S14 follows an elliptical orbit with a period of 15.2 years and a pericenter of 17 light-hours from the center of the central object. From the motion of star S14, the object's mass can be estimated as 4.0 million M☉, or about 7.96×1036 kg. The radius of the central object must be less than 17 light-hours, because otherwise S14 would collide with it. Observations of the star S2 indicate that the radius is no more than 6.25 light-hours, about the diameter of Uranus' orbit. No known astronomical object other than a black hole can contain 4.0 million M☉ in this volume of space.\n",
      "【C】: The Milky Way galaxy has a supermassive black hole at its center because of the bright flare activity observed near Sagittarius A*. The radius of the central object must be less than 6.25 light-hours, about the diameter of Uranus' orbit. Observations of the star S2 indicate that the radius is no more than 17 light-hours, because otherwise S2 would collide with it. No known astronomical object other than a black hole can contain 4.0 million M☉ in this volume of space.\n",
      "【D】: The Milky Way galaxy has a supermassive black hole at its center because it is the only explanation for the bright flare activity observed near Sagittarius A* at a separation of six to ten times the gravitational radius of the candidate SMBH.\n",
      "【E】: The star S2 follows an elliptical orbit with a period of 15.2 years and a pericenter of 17 light-hours from the center of the central object. From the motion of star S2, the object's mass can be estimated as 4.0 million M☉, or about 7.96×1036 kg. The radius of the central object must be less than 17 light-hours, because otherwise S2 would collide with it. Observations of the star S14 indicate that the radius is no more than 6.25 light-hours, about the diameter of Uranus' orbit. No known astronomical object other than a black hole can contain 4.0 million M☉ in this volume of space.\n",
      "【answer】: E\n",
      "【context】: In February 2021, astronomers released, for the first time, a very high-resolution image of 25,000 active supermassive black holes, covering four percent of the Northern celestial hemisphere, based on ultra-low radio wavelengths, as detected by the Low-Frequency Array (LOFAR) in Europe. ==See also== * * * * * * * * ==Notes== ==References== ==Further reading== * * * * * * ==External links== * Black Holes: Gravity's Relentless Pull Interactive multimedia Web site about the physics and astronomy of black holes from the Space Telescope Science Institute * Images of supermassive black holes * NASA images of supermassive black holes * <!---[https://web.archive.org/web/20160613034320/http://www.einstein- online.info/spotlights/milkyway_bh/?set_language=en The black hole at the heart of the Milky Way * ESO video clip of stars orbiting a galactic black hole * Star Orbiting Massive Milky Way Centre Approaches to within 17 Light- Hours ESO, October 21, 2002 * Images, Animations, and New Results from the UCLA Galactic Center Group * Washington Post article on Supermassive black holes * Video (2:46) – Simulation of stars orbiting Milky Way's central massive black hole * Video (2:13) – Simulation reveals supermassive black holes (NASA, October 2, 2018) * \\+ Category:Concepts in astronomy Category:Galaxies Category:Articles containing video clips The Milky Way's central black hole, known as Sagittarius A*, has a mass four million times greater than the Sun. Observational evidence indicates that almost every large galaxy has a supermassive black hole at its center. Observations of the star S14 indicate that the radius is no more than 6.25 light-hours, about the diameter of Uranus' orbit. The largest supermassive black hole in the Milky Way's vicinity appears to be that of Messier 87 (i.e., M87*), at a mass of at a distance of 48.92 million light-years. The technique of reverberation mapping uses variability of these lines to measure the mass and perhaps the spin of the black hole that powers active galaxies. === In the Milky Way === Evidence indicates that the Milky Way galaxy has a supermassive black hole at its center, 26,000 light-years from the Solar System, in a region called Sagittarius A* because: * The star S2 follows an elliptical orbit with a period of 15.2 years and a pericenter (closest distance) of 17 light-hours ( or 120 AU) from the center of the central object. Nevertheless, it is commonly accepted that the center of nearly every galaxy contains a supermassive black hole. Nevertheless, it is commonly accepted that the center of nearly every galaxy contains a supermassive black hole. Although most galaxies with no supermassive black holes are very small, dwarf galaxies, one discovery remains mysterious: The supergiant elliptical cD galaxy A2261-BCG has not been found to contain an active supermassive black hole of at least , despite the galaxy being one of the largest galaxies known; over six times the size and one thousand times the mass of the Milky Way. A super-massive black hole, of more than 4 million solar masses, is located in the center of our own Milky Way galaxy. It was discovered in November 1940. ===Central black hole=== Research suggests the presence of a supermassive black hole in the center of this galaxy with a mass estimated to be 5 million times that of the Sun, which is slightly heavier than Sagittarius A*. ===Distance estimates=== At least two techniques have been used to measure distances to Sculptor in the past ten years. Because the Galactic Center where Sgr A* is located, is one hundred times closer than M31 where the next nearest supermassive black hole (M31*) is, it is one of the best demonstrated cases for a supermassive black hole. Two supermassive black holes have been directly imaged by the Event Horizon Telescope: the black hole in the giant elliptical galaxy Messier 87 and the black hole at the Milky Way’s center. ==Description== Supermassive black holes are classically defined as black holes with a mass above 100,000 () solar masses (); some have masses of . The unusual event may have been caused by the breaking apart of an asteroid falling into the black hole or by the entanglement of magnetic field lines within gas flowing into Sagittarius A*, according to astronomers. === Outside the Milky Way === Unambiguous dynamical evidence for supermassive black holes exists only for a handful of galaxies; these include the Milky Way, the Local Group galaxies M31 and M32, and a few galaxies beyond the Local Group, such as NGC 4395. Subsequent long-term observation will allow this assumption to be confirmed if the emission from the jet decays at the expected rate for mass accretion onto a SMBH. == Individual studies == The nearby Andromeda Galaxy, 2.5 million light-years away, contains a central black hole, significantly larger than the Milky Way's. The supergiant elliptical galaxy NGC 4889, at a distance of 336 million light-years away in the Coma Berenices constellation, contains a black hole measured to be . File:NASA-HubbleLegacyFieldZoomOut-20190502.webm| Hubble Legacy Field (50-second video) == See also == * Dark galaxy * Galactic orientation * Galaxy formation and evolution * Illustris project * List of galaxies * List of nearest galaxies * List of largest galaxies * Luminous infrared galaxy * Outline of galaxies * Supermassive black hole * Timeline of knowledge about galaxies, clusters of galaxies, and large-scale structure * UniverseMachine == Notes == == References == === Sources === * == Bibliography == * * * * * * * * * * * * * == External links == * NASA/IPAC Extragalactic Database (NED) (NED-Distances) * * An Atlas of The Universe * Galaxies – Information and amateur observations * The Oldest Galaxy Yet Found * Galaxy classification project, harnessing the power of the internet and the human brain * How many galaxies are in our universe? * 3-D Video (01:46) – Over a Million Galaxies of Billions of Stars each – BerkeleyLab/animated. In September 2014, data from different X-ray telescopes have shown that the extremely small, dense, ultracompact dwarf galaxy M60-UCD1 hosts a 20 million solar mass black hole at its center, accounting for more than 10% of the total mass of the galaxy. The vast majority of its component stars are very old. ==Black hole== In 1992 John Kormendy of the University of Hawaii and Douglas Richstone of the University of Michigan announced what was observed to be a supermassive black hole in the galaxy.Kormendy, J. and Richstone, D. \"Evidence for a supermassive black hole in NGC 3115\", Astrophysical Journal, Part 1, vol. 393, no. 2, July 10, 1992, p. 559-578. In all other galaxies observed to date, the rms velocities are flat, or even falling, toward the center, making it impossible to state with certainty that a supermassive black hole is present. \n",
      "【preds】: B\n"
     ]
    }
   ],
   "source": [
    "\"\"\"\n",
    "hit はできているが優先度が低い\n",
    "\"\"\"\n",
    "\n",
    "print_wrong(3)"
   ]
  },
  {
   "cell_type": "code",
   "execution_count": 16,
   "id": "56a9fca2-3871-43d8-b6a6-9af3aaf1f7bd",
   "metadata": {
    "tags": []
   },
   "outputs": [
    {
     "name": "stdout",
     "output_type": "stream",
     "text": [
      "The Milky Way galaxy has a supermassive black hole at its center because of the bright flare activity observed near Sagittarius A*. The radius of the central object must be less than 17 light-hours, because otherwise S2 would collide with it. Observations of the star S14 indicate that the radius is no more than 6.25 light-hours, about the diameter of Uranus' orbit. No known astronomical object other than a black hole can contain 4.0 million M☉ in this volume of space.\n",
      "[CLS] the milky way galaxy has a super ##mas ##sive black hole at its center because of the bright flare activity observed near sa ##git ##tar ##ius a * . the radius of the central object must be less than 17 light - hours , because otherwise s ##2 would col ##lide with it . observations of the star s ##14 indicate that the radius is no more than 6 . 25 light - hours , about the diameter of ur ##anus ' orbit . no known astronomical object other than a black hole can contain 4 . 0 million m ##☉ in this volume of space . [SEP]\n"
     ]
    }
   ],
   "source": [
    "from transformers import AutoModel, AutoTokenizer\n",
    "\n",
    "stokenizer = AutoTokenizer.from_pretrained(\"sentence-transformers/all-MiniLM-L6-v2\")\n",
    "\n",
    "text = \"The Milky Way galaxy has a supermassive black hole at its center because of the bright flare activity observed near Sagittarius A*. The radius of the central object must be less than 17 light-hours, because otherwise S2 would collide with it. Observations of the star S14 indicate that the radius is no more than 6.25 light-hours, about the diameter of Uranus' orbit. No known astronomical object other than a black hole can contain 4.0 million M☉ in this volume of space.\"\n",
    "print_each_token(text, stokenizer)"
   ]
  },
  {
   "cell_type": "code",
   "execution_count": null,
   "id": "27b41557-0ef5-4701-ab6d-716e717ef6b2",
   "metadata": {},
   "outputs": [],
   "source": []
  },
  {
   "cell_type": "code",
   "execution_count": 17,
   "id": "440fa885-b214-43a7-a6a0-fa6d9482050b",
   "metadata": {
    "tags": []
   },
   "outputs": [
    {
     "name": "stdout",
     "output_type": "stream",
     "text": [
      "【id】: 34\n",
      "【prompt】: The Penrose process (also called Penrose mechanism) is theorised by Sir Roger Penrose as a means whereby energy can be extracted from a rotating black hole.R. Penrose and R. M. Floyd, \"Extraction of Rotational Energy from a Black Hole\", Nature Physical Science 229, 177 (1971).Misner, Thorne, and Wheeler, Gravitation, Freeman and Company, 1973. The process takes advantage of the ergosphere – a region of spacetime around the black hole dragged by its rotation faster than the speed of light, meaning that from the point of an outside observer any matter inside is forced to move in the direction of the rotation of the black hole. thumb|upright=1.2|Trajectories of bodies in a Penrose process. However, this is not a reverse of the Penrose process, as both increase the entropy of the black hole by throwing material into it. == See also == * * * High Life, a 2018 science- fiction film that includes a mission to harness the process * == References == == Further reading == * * Category:Black holes Category:Energy sources Category:Hypothetical technology This process of removing energy from a rotating black hole was proposed by the mathematician Roger Penrose in 1969 and is called the Penrose process. Penrose mechanism exploits that by diving into the ergosphere, dumping an object that was given negative energy, and returning with more energy than before. The energy is taken from the rotation of the black hole, so there is a limit on how much energy one can extract by Penrose process and... [SEP] What is the Penrose process?\n",
      "【A】: The Penrose process is a mechanism through which objects can emerge from the ergosphere with less energy than they entered with, taking energy from the rotational energy of the black hole and speeding up its rotation.\n",
      "【B】: The Penrose process is a mechanism through which objects can emerge from the ergosphere with the same energy as they entered with, taking energy from the rotational energy of the black hole and maintaining its rotation.\n",
      "【C】: The Penrose process is a mechanism through which objects can emerge from the ergosphere with more energy than they entered with, taking extra energy from the rotational energy of the black hole and slowing down its rotation.\n",
      "【D】: The Penrose process is a mechanism through which objects can emerge from the event horizon with less energy than they entered with, taking energy from the rotational energy of the black hole and speeding up its rotation.\n",
      "【E】: The Penrose process is a mechanism through which objects can emerge from the event horizon with more energy than they entered with, taking extra energy from the rotational energy of the black hole and slowing down its rotation.\n",
      "【answer】: C\n",
      "【context】: The Penrose process (also called Penrose mechanism) is theorised by Sir Roger Penrose as a means whereby energy can be extracted from a rotating black hole.R. Penrose and R. M. Floyd, \"Extraction of Rotational Energy from a Black Hole\", Nature Physical Science 229, 177 (1971).Misner, Thorne, and Wheeler, Gravitation, Freeman and Company, 1973. The process takes advantage of the ergosphere – a region of spacetime around the black hole dragged by its rotation faster than the speed of light, meaning that from the point of an outside observer any matter inside is forced to move in the direction of the rotation of the black hole. thumb|upright=1.2|Trajectories of bodies in a Penrose process. However, this is not a reverse of the Penrose process, as both increase the entropy of the black hole by throwing material into it. == See also == * * * High Life, a 2018 science- fiction film that includes a mission to harness the process * == References == == Further reading == * * Category:Black holes Category:Energy sources Category:Hypothetical technology This process of removing energy from a rotating black hole was proposed by the mathematician Roger Penrose in 1969 and is called the Penrose process. Penrose mechanism exploits that by diving into the ergosphere, dumping an object that was given negative energy, and returning with more energy than before. The energy is taken from the rotation of the black hole, so there is a limit on how much energy one can extract by Penrose process and similar strategies (for an uncharged black hole no more than 29% of its original mass;Carroll, Spacetime and Geometry pg. 271 larger efficiencies are possible for charged rotating black holes). == Details of the ergosphere == The outer surface of the ergosphere is the surface at which light that moves in the direction opposite to the rotation of the black hole remains at a fixed angular coordinate, according to an external observer. Results from computer models show that the Penrose process is capable of producing the high-energy particles that are observed being emitted from quasars and other active galactic nuclei. ==Ergosphere size== The size of the ergosphere, the distance between the ergosurface and the event horizon, is not necessarily proportional to the radius of the event horizon, but rather to the black hole's gravity and its angular momentum. The maximum amount of energy gain possible for a single particle decay via the original (or classical) Penrose process is 20.7% of its mass in the case of an uncharged black hole (assuming the best case of maximal rotation of the black hole). In this way, rotational energy is extracted from the black hole, resulting in the black hole being spun down to a lower rotational speed. The maximum amount of energy (per mass of the thrown in object) is extracted if the black hole is rotating at the maximal rate, the object just grazes the event horizon and decays into forwards and backwards moving packets of light (the first escapes the black hole, the second falls inside). In an adjunct process, a black hole can be spun up (its rotational speed increased) by sending in particles that do not split up, but instead give their entire angular momentum to the black hole. An object can gain energy by entering the black hole's rotation and then escaping from it, thus taking some of the black hole's energy with it (making the maneuver similar to the exploitation of the Oberth effect around \"normal\" space objects). A Penrose drain is a soft, flexible rubber tube used as a surgical drain, to prevent the buildup of fluid in a surgical site. As the mass of the black hole or its rotation speed increases, the size of the ergosphere increases as well. ==References== ==Further reading== * * * ==External links== * Black Hole Thermodynamics * The Gravitomagnetic Field and Penrose Processes * A Rotating Black Hole Category:Black holes Category:Galaxies Category:Theory of relativity As this energy is removed, the black hole loses angular momentum, and thus the limit of zero rotation is approached as spacetime dragging is reduced. That allows matter to have negative energy inside of the ergosphere as long as it moves counter the black hole's rotation fast enough (or, from outside perspective, resists being dragged along to a sufficient degree). In podiatry, a Penrose drain is often used as a tourniquet during a hallux nail avulsion procedure or ingrown toenail extraction. A black hole with modest angular momentum has an ergosphere with a shape approximated by an oblate spheroid, while faster spins produce a more pumpkin-shaped ergosphere. The propellant, being slowed, falls (thin gray line) to the event horizon of the black hole (black disk). The Penrose drain is named after American gynecologist Charles Bingham Penrose (1862–1925). ==Common uses== A Penrose drain removes fluid from a wound area. \n",
      "【preds】: E\n"
     ]
    }
   ],
   "source": [
    "\"\"\"\n",
    "\"\"\"\n",
    "\n",
    "print_wrong(4)"
   ]
  },
  {
   "cell_type": "code",
   "execution_count": null,
   "id": "5dfc39b9-cc08-4de2-a92e-382c01906ce8",
   "metadata": {
    "tags": []
   },
   "outputs": [],
   "source": []
  },
  {
   "cell_type": "code",
   "execution_count": null,
   "id": "751d8d70-756d-48ff-b4e7-06b1f4aa886b",
   "metadata": {},
   "outputs": [],
   "source": []
  },
  {
   "cell_type": "code",
   "execution_count": 18,
   "id": "c876a32a-f898-418d-a8a0-f654bf2f7681",
   "metadata": {
    "tags": []
   },
   "outputs": [
    {
     "name": "stdout",
     "output_type": "stream",
     "text": [
      "【id】: 35\n",
      "【prompt】: Gravity Probe B (GP-B) was a satellite-based experiment to test two unverified predictions of general relativity: the geodetic effect and frame-dragging. In a public press and media event at NASA Headquarters, GP-B Principal Investigator, Francis Everitt presented the final results of Gravity Probe B. ;19 November 2015 : Publication of GP-B Special Volume (Volume #32, Issue #22) in the peer-reviewed journal, Classical and Quantum Gravity. Final science results were reported in 2011. ==Experimental setup== thumb The Gravity Probe B experiment comprised four London moment gyroscopes and a reference telescope sighted on IM Pegasi, a binary star in the constellation Pegasus. Gravity Probe B was expected to measure this effect to an accuracy of one part in 10,000, the most stringent check on general relativistic predictions to date. The Gravity Probe B mission timeline describes the events during the flight of Gravity Probe B, the science phase of its experimental campaign, and the analysis of the recorded data. ==Mission progress== * April 20, 2004 thumb|Launch of Gravity Probe B ** Launch of GP-B from Vandenberg AFB and successful insertion into polar orbit. Mission scientists viewed it as the second relativity experiment in space, following the successful launch of Gravity Probe A (GP-A) in 1976. Springer, Berlin, pp. 52–82, 2001. was a satellite-based mission by a Stanford group and NASA, used to experimentally measure another gravitomagnetic effect, the Schiff precession of a gyroscope,Pugh, G. E., Proposal for a Satellite Test of the Coriolis Prediction of General Relativity, WSEG, Research Memorandum No. 11,... [SEP] What was the aim of the Gravity Probe B (GP-B) mission?\n",
      "【A】: To prove that pressure contributes equally to spacetime curvature as does mass-energy.\n",
      "【B】: To measure spacetime curvature near Earth, with particular emphasis on gravitomagnetism.\n",
      "【C】: To measure the distribution of Fe and Al on the Moon's surface.\n",
      "【D】: To confirm the relatively large geodetic effect due to simple spacetime curvature, and is also known as de Sitter precession.\n",
      "【E】: To measure the discrepancy between active and passive mass to about 10−12.\n",
      "【answer】: B\n",
      "【context】: Gravity Probe B (GP-B) was a satellite-based experiment to test two unverified predictions of general relativity: the geodetic effect and frame-dragging. In a public press and media event at NASA Headquarters, GP-B Principal Investigator, Francis Everitt presented the final results of Gravity Probe B. ;19 November 2015 : Publication of GP-B Special Volume (Volume #32, Issue #22) in the peer-reviewed journal, Classical and Quantum Gravity. Final science results were reported in 2011. ==Experimental setup== thumb The Gravity Probe B experiment comprised four London moment gyroscopes and a reference telescope sighted on IM Pegasi, a binary star in the constellation Pegasus. Gravity Probe B was expected to measure this effect to an accuracy of one part in 10,000, the most stringent check on general relativistic predictions to date. The Gravity Probe B mission timeline describes the events during the flight of Gravity Probe B, the science phase of its experimental campaign, and the analysis of the recorded data. ==Mission progress== * April 20, 2004 thumb|Launch of Gravity Probe B ** Launch of GP-B from Vandenberg AFB and successful insertion into polar orbit. Mission scientists viewed it as the second relativity experiment in space, following the successful launch of Gravity Probe A (GP-A) in 1976. Springer, Berlin, pp. 52–82, 2001. was a satellite-based mission by a Stanford group and NASA, used to experimentally measure another gravitomagnetic effect, the Schiff precession of a gyroscope,Pugh, G. E., Proposal for a Satellite Test of the Coriolis Prediction of General Relativity, WSEG, Research Memorandum No. 11, 1959. Gravity Probe B marks the first time that Stanford University has been in control of the development and operations of a space satellite funded by NASA. The prospects for further experimental measurement of frame-dragging after GP-B were commented on in the journal Europhysics Letters. ==See also== * Frame-dragging * Gravity Probe A * Gravitomagnetism * Modified Newtonian dynamics * Tests of general relativity * Timeline of gravitational physics and relativity ==References== ==External links== * Gravity Probe B web site at NASA * Gravity Probe B Web site at Stanford * Graphic explanation of how Gravity Probe B works * NASA GP-B launch site * NASA article on the technologies used in Gravity Probe B * * General Relativistic Frame Dragging * Layman's article on the project progress * IOP Classical and Quantum Gravity, Volume #32, Issue #22, Special Focus Issue on Gravity Probe B * Gravity Probe B Collection, The University of Alabama in Huntsville Archives and Special Collections Category:Tests of general relativity Category:Physics experiments Category:Satellites orbiting Earth Category:Spacecraft launched in 2004 Category:Spacecraft launched by Delta II rockets The mission plans were to test two unverified predictions of general relativity: the geodetic effect and frame-dragging. Report of the 2008 Senior Review of the Astrophysics Division Operating Missions, NASAGravity Probe B scores 'F' in NASA review, Jeff Hecht, New Scientist – Space, May 20, 2008 On May 4, 2011, the Stanford-based analysis group and NASA announced the final report, and in it the data from GP-B demonstrated the frame-dragging effect with an error of about 19 percent, and Einstein's predicted value was at the center of the confidence interval. (Source: Gravity Probe B web site ) * Spring 2008 ** Mission update Increasing the Precision of the Results : \"In reality, GP-B experienced six major or significant anomalies during the 353-day science data collection period, and these anomalies caused the experimental data set to be divided into seven major segments, with a total of 307 days of \"good\" science data when all seven segments are combined. In 2008 the Senior Review Report of the NASA Astrophysics Division Operating Missions stated that it was unlikely that Gravity Probe B team will be able to reduce the errors to the level necessary to produce a convincing test of currently untested aspects of General Relativity (including frame- dragging). The spacecraft's primary instrumentation was a highly sensitive gravity gradiometer consisting of three pairs of accelerometers which measured gravitational gradients along three orthogonal axes. World Scientific, Singapore, pp. 439–468, 2003.Everitt, C. W. F., et al., Gravity Probe B: Countdown to Launch. Francis Everitt gave a plenary talk at the meeting of the American Physical Society announcing initial results: \"The data from the GP-B gyroscopes clearly confirm Einstein's predicted geodetic effect to a precision of better than 1 percent. Francis Everitt gave a plenary talk at the meeting of the American Physical Society announcing initial results: \"The data from the GP-B gyroscopes clearly confirm Einstein's predicted geodetic effect to a precision of better than 1 percent. The first preliminary results released in April 2007 pointed towards an accuracy ofMuhlfelder, B., Mac Keiser, G., and Turneaure, J., Gravity Probe B Experiment Error, poster L1.00027 presented at the American Physical Society (APS) meeting in Jacksonville, Florida, on 14–17 April 2007, 2007. 256–128%, with the hope of reaching about 13% in December 2007. In an article published in the journal Physical Review Letters in 2011, the authors reported analysis of the data from all four gyroscopes results in a geodetic drift rate of and a frame-dragging drift rate of , in good agreement with the general relativity predictions of and , respectively. ==Overview== Gravity Probe B was a relativity gyroscope experiment funded by NASA. Because future interpretations of the data by scientists outside GPB may differ from the official results, it may take several more years for all of the data received by GPB to be completely understood. ==See also== * Frame- dragging * Geodetic effect * Gravity Probe B * Tests of general relativity * Timeline of gravitational physics and relativity ==References== Category:Spaceflight timelines \n",
      "【preds】: D\n"
     ]
    }
   ],
   "source": [
    "\"\"\"\n",
    "- hitしたwikipediaが違う\n",
    " - 不正解：https://en.wikipedia.org/wiki/Gravity_Probe_B\n",
    " - 正解：https://en.wikipedia.org/wiki/Spacetime\n",
    "\"\"\"\n",
    "print_wrong(5)"
   ]
  },
  {
   "cell_type": "code",
   "execution_count": null,
   "id": "4581a7ce-83b6-480c-9627-0db7b9c03207",
   "metadata": {},
   "outputs": [],
   "source": []
  },
  {
   "cell_type": "code",
   "execution_count": 19,
   "id": "af03ac68-78c2-4ae5-b0ef-be8f28f71557",
   "metadata": {
    "tags": []
   },
   "outputs": [
    {
     "name": "stdout",
     "output_type": "stream",
     "text": [
      "【id】: 39\n",
      "【prompt】: A synaptic transistor is an electrical device that can learn in ways similar to a neural synapse. The transistor is designed to mimic the feature of the human synapse known as plasticity, or the variation of the speed and strength of the signal going from neuron to neuron. IEEE Trans. Electron Dev. and these organic synapstors were used to demonstrate an associative memory, which can be trained to present a pavlovian response.Pavlov's Dog Associative Learning Demonstrated on Synaptic- like Organic Transistors. A compact model was developed,Functional Model of a Nanoparticle-Organic Memory Transistor for Use as a Spiking Synapse. In effect, the gatekeeper neuron acts as the transistor of a gated synapse by modulating the transmission of the signal between the pre-synaptic and post-synaptic neurons. Neural Computations A recent report showed that these organic synapse- transistors (synapstor) are working at 1 volt and with a plasticity typical response time in the range 100-200 ms.Low voltage and time constant organic synapse-transistor. The recent creation of this novel transistor gives prospects to better recreation of certain types of human cognitive processes, such as recognition and image processing.New transistors mimic human brain's synapses, When the NOMFET is used in a neuromorphic circuit it is able to replicate the functionality of plasticity that previously required groups of several transistors to emulate and thus continue to decrease the size of the processor that would be attempting to utilize the computational advantages of a pseudo-synaptic operation. This device (memristor-like) mimics short-term plasticity (STP) An organic- nanoparticle transistor... [SEP] What is the synapstor or synapse transistor?\n",
      "【A】: A device used to demonstrate a neuro-inspired circuit that shows short-term potentiation for learning and inactivity-based forgetting.\n",
      "【B】: A device used to demonstrate a neuro-inspired circuit that shows long-term potentiation for learning and activity-based forgetting.\n",
      "【C】: A device used to demonstrate a neuro-inspired circuit that shows short-term depression for learning and inactivity-based forgetting.\n",
      "【D】: A device used to demonstrate a neuro-inspired circuit that shows short-term potentiation for learning and activity-based forgetting.\n",
      "【E】: A device used to demonstrate a neuro-inspired circuit that shows long-term potentiation for learning and inactivity-based forgetting.\n",
      "【answer】: E\n",
      "【context】: A synaptic transistor is an electrical device that can learn in ways similar to a neural synapse. The transistor is designed to mimic the feature of the human synapse known as plasticity, or the variation of the speed and strength of the signal going from neuron to neuron. IEEE Trans. Electron Dev. and these organic synapstors were used to demonstrate an associative memory, which can be trained to present a pavlovian response.Pavlov's Dog Associative Learning Demonstrated on Synaptic- like Organic Transistors. A compact model was developed,Functional Model of a Nanoparticle-Organic Memory Transistor for Use as a Spiking Synapse. In effect, the gatekeeper neuron acts as the transistor of a gated synapse by modulating the transmission of the signal between the pre-synaptic and post-synaptic neurons. Neural Computations A recent report showed that these organic synapse- transistors (synapstor) are working at 1 volt and with a plasticity typical response time in the range 100-200 ms.Low voltage and time constant organic synapse-transistor. The recent creation of this novel transistor gives prospects to better recreation of certain types of human cognitive processes, such as recognition and image processing.New transistors mimic human brain's synapses, When the NOMFET is used in a neuromorphic circuit it is able to replicate the functionality of plasticity that previously required groups of several transistors to emulate and thus continue to decrease the size of the processor that would be attempting to utilize the computational advantages of a pseudo-synaptic operation. This device (memristor-like) mimics short-term plasticity (STP) An organic- nanoparticle transistor behaving as a biological spiking synapse. This device uses charge trapping/detrapping in an array of gold nanoparticles (NPs) at the SiO2/pentacene interface to design a SYNAPSTOR (synapse transistor) mimicking the dynamic plasticity of a biological synapse. DARPA's SyNAPSE project has funded IBM Research and HP Labs, in collaboration with the Boston University Department of Cognitive and Neural Systems (CNS), to develop neuromorphic architectures which may be based on memristive systems. ===Protonic artificial synapses=== In 2022, researchers reported the development of nanoscale brain- inspired artificial synapses, using the ion proton (), for 'analog deep learning'. ==See also== *AI accelerator *Brain simulation *Neuromorphic engineering *Optical neural network *Quantum neural network == References == == External links == *Information on DARPA's SyNAPSE project 2009 Category:Artificial neural networks Organic Electronics The device also works in contact with an electrolyte (EGOS : electrolyte gated organic synapstor) and can be interfaced with biologic neurons. Created by Peltarion, Synapse allows data mining, statistical analysis, visualization, preprocessing, design and training of neural networks and adaptive systems and the deployment of them. It includes a sort of gatekeeper neuron, which has the ability to influence transmission of information to selected targets independently of the parts of the synapse upon which it exerts its action (see also neuromodulation). *Chemical synapse *Gap junction *Synaptic plasticity *Long-term potentiation ====Neurotransmitter==== Neurotransmitter - endogenous chemical that relays, amplifies, and modulates signals between neurons and other cells to which they are synaptically connected. Mater. and temporal correlation plasticity (STDP, spike-timing dependent plasticity),A memristive nanoparticle/organic hybrid synapstor for neuro-inspired computing. The input and output of the synaptic transistor are continuous analog values, rather than digital on-off signals. More generally the term is applicable to other artificial neural networks in which a memristor or other electrically adjustable resistance material is used to emulate a neural synapse. ==Types of physical neural networks== ===ADALINE=== In the 1960s Bernard Widrow and Ted Hoff developed ADALINE (Adaptive Linear Neuron) which used electrochemical cells called memistors (memory resistors) to emulate synapses of an artificial neuron. A network of such devices can learn particular responses to \"sensory inputs\", with those responses being learned through experience rather than explicitly programmed. ==References== Category:Transistor types Category:Artificial neural networks While the physical structure of the device has the potential to learn from history, it contains no way to bias the transistor to control the memory effect. In addition, a transistor can serve to amplify an existing current in a circuit. \n",
      "【preds】: A\n"
     ]
    }
   ],
   "source": [
    "\"\"\"\n",
    "- hitしたwikipediaが違う\n",
    " - 不正解：https://en.wikipedia.org/wiki/Synaptic_transistor\n",
    " - 正解：https://en.wikipedia.org/wiki/Memristor\n",
    "\"\"\"\n",
    "\n",
    "print_wrong(6)"
   ]
  },
  {
   "cell_type": "code",
   "execution_count": null,
   "id": "744da9fb-481d-468d-b937-d31edb3ab9f0",
   "metadata": {},
   "outputs": [],
   "source": []
  },
  {
   "cell_type": "code",
   "execution_count": 20,
   "id": "3dea1505-d794-412c-875b-afb26cc1fd6a",
   "metadata": {
    "tags": []
   },
   "outputs": [
    {
     "name": "stdout",
     "output_type": "stream",
     "text": [
      "【id】: 49\n",
      "【prompt】: Unit Definition Equivalent distance in Example Unit Definition m Example km miles light-second Average distance from the Earth to the Moon is about 1.282 light-seconds light-minute 60 light-seconds Average distance from the Earth to the Sun is 8.317 light-minutes light-hour 60 light- minutes = light-seconds The Perihelion of Saturn's orbit is about 1.25 light-hours light-day 24 light-hours = light-seconds Voyager 1 is currently 0.9 light-days from the Sun light-week 7 light-days = light-seconds The Oort cloud is thought to extend between 41 and 82 light- weeks out from the Sun light-month 30 light-days = light-seconds light-year 365.25 light-days = light-seconds Proxima Centauri is the nearest star to the Sun, about 4.24 light years away ==See also== * 100 megametres * Geometrized unit system * Light-year == References == Category:Units of length Category:Units of measurement in astronomy It is usually quoted as \"light-time for unit distance\" in tables of astronomical constants, and its currently accepted value is s.. The more commonly used light-year is also currently defined to be equal to precisely , since the definition of a year is based on a Julian year (not the Gregorian year) of exactly 365.25 days, each of exactly SI seconds.IAU Recommendations concerning Units == Use in telecommunications == Communications signals on Earth rarely travel at precisely the speed of light in free space. More specifically in the case of Sun and Earth the numbers reduce to Mtotal ~ 1, a ~ 1 and T ~ 1. ==Time== ===Light- distance=== George Gamow discussed measurements... [SEP] What is a light-year?\n",
      "【A】: A unit of time used to express astronomical distances that is equivalent to the time that an object moving at the speed of light in vacuum would take to travel in one Julian year: approximately 9.46 trillion seconds (9.46×1012 s) or 5.88 trillion minutes (5.88×1012 min).\n",
      "【B】: A unit of length used to express astronomical distances that is equivalent to the distance that an object moving at the speed of light in vacuum would travel in one Julian year: approximately 9.46 trillion kilometres (9.46×1012 km) or 5.88 trillion miles (5.88×1012 mi).\n",
      "【C】: A unit of temperature used to express astronomical distances that is equivalent to the temperature of an object moving at the speed of light in vacuum in one Julian year: approximately 9.46 trillion Kelvin (9.46×1012 K) or 5.88 trillion Celsius (5.88×1012 °.\n",
      "【D】: A unit of energy used to express astronomical distances that is equivalent to the energy of an object moving at the speed of light in vacuum in one Julian year: approximately 9.46 trillion joules (9.46×1012 J) or 5.88 trillion watt-hours (5.88×1012 Wh).\n",
      "【E】: A unit of mass used to express astronomical distances that is equivalent to the mass of an object moving at the speed of light in vacuum in one Julian year: approximately 9.46 trillion kilograms (9.46×1012 kg) or 5.88 trillion pounds (5.88×1012 lb).\n",
      "【answer】: B\n",
      "【context】: Unit Definition Equivalent distance in Example Unit Definition m Example km miles light-second Average distance from the Earth to the Moon is about 1.282 light-seconds light-minute 60 light-seconds Average distance from the Earth to the Sun is 8.317 light-minutes light-hour 60 light- minutes = light-seconds The Perihelion of Saturn's orbit is about 1.25 light-hours light-day 24 light-hours = light-seconds Voyager 1 is currently 0.9 light-days from the Sun light-week 7 light-days = light-seconds The Oort cloud is thought to extend between 41 and 82 light- weeks out from the Sun light-month 30 light-days = light-seconds light-year 365.25 light-days = light-seconds Proxima Centauri is the nearest star to the Sun, about 4.24 light years away ==See also== * 100 megametres * Geometrized unit system * Light-year == References == Category:Units of length Category:Units of measurement in astronomy It is usually quoted as \"light-time for unit distance\" in tables of astronomical constants, and its currently accepted value is s.. The more commonly used light-year is also currently defined to be equal to precisely , since the definition of a year is based on a Julian year (not the Gregorian year) of exactly 365.25 days, each of exactly SI seconds.IAU Recommendations concerning Units == Use in telecommunications == Communications signals on Earth rarely travel at precisely the speed of light in free space. More specifically in the case of Sun and Earth the numbers reduce to Mtotal ~ 1, a ~ 1 and T ~ 1. ==Time== ===Light- distance=== George Gamow discussed measurements of time such as the \"light- mile\" and \"light-foot\", the time taken for light to travel the specified unit distance, defined by \"reversing the procedure\" used in defining a light-year. It is defined as the distance that light travels in free space in one second, and is equal to exactly 299 792 458 metres (approximately 983 571 055 ft). The value of the astronomical unit (roughly the distance between Earth and the Sun) in light-seconds is a fundamental measurement for the calculation of modern ephemerides (tables of planetary positions). * The average distance between Earth and the Sun (the astronomical unit) is 499.0 light-seconds. In astronomy, the Julian year is a unit of time defined as 365.25 days of exactly 86,400 seconds (SI base unit), totaling exactly 31,557,600 seconds in the Julian astronomical year. This unit of measure is convenient because a supernova typically releases about one foe of observable energy in a very short period of time (which can be measured in seconds). ==Other metric-compatible scales== ===Power: Ton of refrigeration=== The rate at which heat is removed by melting of ice in 24 hours is called a ton of refrigeration, or even a ton of cooling. For example: * A light-minute is 60 light-seconds, and so the average distance between Earth and the Sun is 8.317 light-minutes. By convention, the Julian year is used in the computation of the distance covered by a light-year. This distance is equal to about 15.8 light-years, 149.6 Pm, or 4.8 parsecs, and is about twice the distance from Earth to the star Sirius. ===Cubit=== The cubit is, among others, a unit used in the Bible for measuring the size of Noah's Ark and of the Ark of the Covenant. It was popularized in information technology as a unit of distance by Grace Hopper as the distance which a photon could travel in one billionth of a second (roughly 30 cm or one foot): \"The speed of light is one foot per nanosecond.\" A little less than 400 lunar distances make up an astronomical unit. ===Siriometer=== The siriometer is an obsolete astronomical measure equal to one million astronomical units, i.e., one million times the average distance between the Sun and Earth. The answer will also be delayed with a quarter of a second and this is clearly noticeable during interviews or discussions on TV when sent over satellite. ==Use in astronomy== The light-second is a convenient unit for measuring distances in the inner Solar System, since it corresponds very closely to the radiometric data used to determine them. For example, in 2004, US energy consumption was about 100 Q/year, while demand worldwide was about 400 Q/year. ===Foe=== A foe is a unit of energy equal to joules (≈9.478 BTU) that was coined by physicist Gerry Brown of Stony Brook University. The light-second is a unit of length useful in astronomy, telecommunications and relativistic physics. * The diameter of the Sun is about 4.643 light-seconds. In the Unified Code for Units of Measure (but not according to the International Union of Pure and Applied Physics or the International Union of Geological Sciences, see below), the symbol a (without subscript) always refers to the Julian year, aj, of exactly seconds. :365.25 d × s = 1 a = 1 aj = Ms The SI multiplier prefixes may be applied to it to form \"ka\", \"Ma\", etc. === Sidereal, tropical, and anomalistic years === Each of these three years can be loosely called an astronomical year. This is the normal meaning of the unit \"year\" used in various scientific contexts. \n",
      "【preds】: A\n"
     ]
    }
   ],
   "source": [
    "\"\"\"\n",
    "document の hit ができていない\n",
    "- 不正解：https://en.wikipedia.org/wiki/Light-second\n",
    "- 正解：https://en.wikipedia.org/wiki/Light-year\n",
    "\"\"\"\n",
    "print_wrong(7)"
   ]
  },
  {
   "cell_type": "code",
   "execution_count": 21,
   "id": "c1f5e1db-8921-4094-9d5e-da3a4c7c5077",
   "metadata": {
    "tags": []
   },
   "outputs": [
    {
     "name": "stdout",
     "output_type": "stream",
     "text": [
      "【id】: 52\n",
      "【prompt】: Resistivity refers to the resistance to conduction of electric currents and affects the rate of corrosion of metal and concrete structures which are buried in soil. The resistance (R) of an object is defined as the ratio of voltage across it (V) to current through it (I), while the conductance (G) is the inverse: :R = {V\\over I}, \\qquad G = {I\\over V} = \\frac{1}{R} For a wide variety of materials and conditions, V and I are directly proportional to each other, and therefore R and G are constants (although they will depend on the size and shape of the object, the material it is made of, and other factors like temperature or strain). The SI unit of electrical resistance is the ohm (Ω), while electrical conductance is measured in siemens (S). ====Characteristics==== The resistance of an object depends in large part on the material it is made of—objects made of electrical insulators like rubber tend to have very high resistance and low conductivity, while objects made of electrical conductors like metals tend to have very low resistance and high conductivity. However, resistance and conductance are extensive rather than bulk properties, meaning that they also depend on the size and shape of an object. A resist, used in many areas of manufacturing and art, is something that is added to parts of an object to create a pattern by protecting these parts from being affected by a subsequent stage in the process.OED, \"Resist\", 3. This material dependence is quantified by... [SEP] What is resistivity?\n",
      "【A】: Resistivity is an extrinsic property of a material that describes how difficult it is to make electrical current flow through it. It is measured in ohms and is dependent on the material's shape and size.\n",
      "【B】: Resistivity is a measure of the resistance of a material to electrical current flow. It is measured in ohm-meters and is dependent on the material's shape and size.\n",
      "【C】: Resistivity is an intrinsic property of a material that describes how difficult it is to make electrical current flow through it. It is measured in ohm-meters and is independent of the material's shape and size.\n",
      "【D】: Resistivity is a measure of the electrical current that can flow through a material. It is measured in ohms and is dependent on the material's shape and size.\n",
      "【E】: Resistivity is a measure of the electrical current that can flow through a material. It is measured in ohm-meters and is independent of the material's shape and size.\n",
      "【answer】: C\n",
      "【context】: Resistivity refers to the resistance to conduction of electric currents and affects the rate of corrosion of metal and concrete structures which are buried in soil. The resistance (R) of an object is defined as the ratio of voltage across it (V) to current through it (I), while the conductance (G) is the inverse: :R = {V\\over I}, \\qquad G = {I\\over V} = \\frac{1}{R} For a wide variety of materials and conditions, V and I are directly proportional to each other, and therefore R and G are constants (although they will depend on the size and shape of the object, the material it is made of, and other factors like temperature or strain). The SI unit of electrical resistance is the ohm (Ω), while electrical conductance is measured in siemens (S). ====Characteristics==== The resistance of an object depends in large part on the material it is made of—objects made of electrical insulators like rubber tend to have very high resistance and low conductivity, while objects made of electrical conductors like metals tend to have very low resistance and high conductivity. However, resistance and conductance are extensive rather than bulk properties, meaning that they also depend on the size and shape of an object. A resist, used in many areas of manufacturing and art, is something that is added to parts of an object to create a pattern by protecting these parts from being affected by a subsequent stage in the process.OED, \"Resist\", 3. This material dependence is quantified by resistivity or conductivity. These parameters are independent of current and voltage of any of the sending or receiving ends. ===Series resistance=== ====Definition==== The electrical resistance of an object is property of a substance due to which it restricts the flow of electric current due to a potential difference in its two ends.A Textbook of Electrical Technology, Theraja, ,SChand & co. Aerobic conditions produce uniform or gradual colour changes, while reducing environments (anaerobic) result in rapid colour flow with complex, mottled patterns and points of colour concentration. ==Resistivity== Soil resistivity is a measure of a soil's ability to retard the conduction of an electric current. Admittance is defined as :Y \\equiv \\frac{1}{Z} \\, where :Y is the admittance, measured in siemens :Z is the impedance, measured in ohms ====Characteristics==== Resistance is a measure of the opposition of a circuit to the flow of a steady current, while impedance takes into account not only the resistance but also dynamic effects (known as reactance). For example, a wire's resistance is higher if it is long and thin, and lower if it is short and thick. The electrical resistivity of soil can affect the rate of corrosion of metallic structures in contact with the soil. Resistance elements are elements that dissipate energy. Resister may refer to: *somebody who resists, like a war, tax, or draft resister *Resister (album), an album by The Decline *Resister (song), a song by Japanese singer ASCA == See also == *Resistor, a common electronic component Likewise, admittance is not only a measure of the ease with which a steady current can flow but also the dynamic effects of the material's susceptance to polarization: :Y = G + j B \\, where *Y is the admittance, measured in siemens. Electrical resistance shares some conceptual parallels with the notion of mechanical friction. Soil resistivity values typically range from about 1 to 100000 Ω·m, extreme values being for saline soils and dry soils overlaying cristalline rocks, respectively. ==See also== * Soil liquefaction * Soil matrix ==References== ==Bibliography== * * * ** ** ** ** ** ** ** ** ** ** ** ** ** ** ** ** ** ** ** ** ** Category:Soil The quantity being measured can be the voltage, the current in a circuit, or a field vector such as electric field strength or flux density. This proportionality is called Ohm's law, and materials that satisfy it are called ohmic materials. All objects show some resistance, except for superconductors, which have a resistance of zero. Often the resist is then removed. \n",
      "【preds】: B\n"
     ]
    }
   ],
   "source": [
    "\"\"\"\n",
    "hit できていない\n",
    "- 不正解：https://en.wikipedia.org/wiki/Physical_properties_of_soil\n",
    "- 正解；https://en.wikipedia.org/wiki/Electrical_resistivity_and_conductivity\n",
    "\"\"\"\n",
    "print_wrong(8)"
   ]
  },
  {
   "cell_type": "code",
   "execution_count": 22,
   "id": "e8b195b2-6c2f-461a-857a-46217e7cf22a",
   "metadata": {
    "tags": []
   },
   "outputs": [
    {
     "name": "stdout",
     "output_type": "stream",
     "text": [
      "【id】: 65\n",
      "【prompt】: The coherence encountered in most optical experiments, including the classic Young's double slit experiment and Mach–Zehnder interferometer, is first order coherence. Young's double slit experiment demonstrates the dependence of interference on coherence, specifically on the first-order correlation. The interferometric visibility gives a practical way to measure the coherence of two waves (or one wave with itself). This experiment is equivalent to the Mach–Zehnder interferometer with the caveat that Young's double slit experiment is concerned with spatial coherence, while the Mach–Zehnder interferometer relies on temporal coherence. The chief benefit of coherence scanning interferometry is that systems can be designed that do not suffer from the 2 pi ambiguity of coherent interferometry, and as seen in Fig. 18, which scans a 180μm x 140μm x 10μm volume, it is well suited to profiling steps and rough surfaces. The theory of partial coherence was awoken in the 1930s due to work by Pieter Hendrik van Cittert and Frits Zernike. ==Topics in coherence theory== * Visibility * Mutual coherence function * Degree of coherence * Self coherence function * Coherence function * Low frequency fluctuations * General interference law * Van Cittert–Zernike theorem * Michelson stellar interferometer * Correlation interferometry * Hanbury–Brown and Twiss effect * Phase-contrast microscope * Pseudothermal light * Englert–Greenberger duality relation * Coherence Collapse ==See also== * Nonclassical light * Optical coherence tomography ==References== * Eugene Hecht and Alfred Zajac, Optics, (1974) Addison-Wesley Publishing, Reading, Massachusetts . Correlation interferometry uses coherences of fourth-order and higher to perform stellar measurements. Such... [SEP] What is the relevant type of coherence for the Young's double-slit interferometer?\n",
      "【A】: Visibility\n",
      "【B】: Coherence time\n",
      "【C】: Spatial coherence\n",
      "【D】: Coherence length\n",
      "【E】: Diameter of the coherence area (Ac)\n",
      "【answer】: E\n",
      "【context】: The coherence encountered in most optical experiments, including the classic Young's double slit experiment and Mach–Zehnder interferometer, is first order coherence. Young's double slit experiment demonstrates the dependence of interference on coherence, specifically on the first-order correlation. The interferometric visibility gives a practical way to measure the coherence of two waves (or one wave with itself). This experiment is equivalent to the Mach–Zehnder interferometer with the caveat that Young's double slit experiment is concerned with spatial coherence, while the Mach–Zehnder interferometer relies on temporal coherence. The chief benefit of coherence scanning interferometry is that systems can be designed that do not suffer from the 2 pi ambiguity of coherent interferometry, and as seen in Fig. 18, which scans a 180μm x 140μm x 10μm volume, it is well suited to profiling steps and rough surfaces. The theory of partial coherence was awoken in the 1930s due to work by Pieter Hendrik van Cittert and Frits Zernike. ==Topics in coherence theory== * Visibility * Mutual coherence function * Degree of coherence * Self coherence function * Coherence function * Low frequency fluctuations * General interference law * Van Cittert–Zernike theorem * Michelson stellar interferometer * Correlation interferometry * Hanbury–Brown and Twiss effect * Phase-contrast microscope * Pseudothermal light * Englert–Greenberger duality relation * Coherence Collapse ==See also== * Nonclassical light * Optical coherence tomography ==References== * Eugene Hecht and Alfred Zajac, Optics, (1974) Addison-Wesley Publishing, Reading, Massachusetts . Correlation interferometry uses coherences of fourth-order and higher to perform stellar measurements. Such a distinction is not captured by the classical description on wave interference. == Mathematical properties of coherence functions == For the purposes of standard optical experiments, coherence is just first-order coherence and higher-order coherences are generally ignored. Higher order coherence extends the concept of coherence -- the ability of waves to interfere -- to quantum optics and coincidence experiments. In physics, coherence theory is the study of optical effects arising from partially coherent light and radio sources. Many aspects of modern coherence theory are studied in quantum optics. Common-path interferometers have proven useful in a wide variety of applications including optical coherence tomography, digital holography, and the measurement of phase delays. Nevertheless, the second-order coherence for an average over fringes of complementary interferometer outputs of a coherent state is only 0.5 (even though g^{(2)} = 1 for each output). As coherence is the ability to interfere visibility and coherence are linked: :|\\gamma^{(1)}(x_1,x_2)| = 1 means highest contrast, complete coherence :0 < |\\gamma^{(1)}(x_1,x_2)| < 1 means partial fringe visibility, partial coherence :|\\gamma^{(1)}(x_1,x_2)| = 0 means no contrast, complete incoherence. ==== Quantum description ==== Classically, the electric field at a position \\mathbf{r}, is the sum of electric field components from at the two pinholes \\mathbf{r}_1 and \\mathbf{r}_2 earlier times t_1, t_2 respectably i.e. E^+(\\mathbf{r},t) = E^+(\\mathbf{r_1},t_1) + E^+(\\mathbf{r}_2,t_2). Recent advances have striven to combine the nanometer phase retrieval of coherent interferometry with the ranging capability of low-coherence interferometry. It is useful for quantifying the coherence between two electric fields, as measured in a Michelson or other linear optical interferometer. Hanbury Brown and Twiss used this result to compute the first order coherence from their measurement of the second order coherence. Consequently, coherent states have all orders of coherences as being non-zero. == See also == * Degree of coherence * Hanbury Brown and Twiss effect * Double-slit experiment * Young's interference experiment * Mach–Zehnder interferometer == References == Category:Quantum optics Twyman–Green interferometer set up as a white light scanner In coherence scanning interferometry,P. de Groot, J., \"Interference Microscopy for Surface Structure Analysis,\" in Handbook of Optical Metrology, edited by T. Yoshizawa, chapt.31, pp. 791-828, (CRC Press, 2015). interference is only achieved when the path length delays of the interferometer are matched within the coherence time of the light source. Amplitude interferometry is used for the determination of lengths, surface irregularities and indexes of refraction; intensity interferometry, besides presenting in certain cases technical advantages (like stability) as compared with amplitude interferometry, allows also the determination of quantum coherence of sources. \n",
      "【preds】: C\n"
     ]
    }
   ],
   "source": [
    "\"\"\"\n",
    "- 不正解：https://en.wikipedia.org/wiki/Higher_order_coherence\n",
    "- 正解：https://en.wikipedia.org/wiki/Coherence_(physics)\n",
    "\"\"\"\n",
    "print_wrong(9)"
   ]
  },
  {
   "cell_type": "code",
   "execution_count": null,
   "id": "1b50f1e6-d08d-49b5-b48f-c8454e236db9",
   "metadata": {},
   "outputs": [],
   "source": []
  },
  {
   "cell_type": "code",
   "execution_count": 23,
   "id": "ca51fc4e-5dbb-4e3d-864c-4374593ec10f",
   "metadata": {
    "tags": []
   },
   "outputs": [
    {
     "name": "stdout",
     "output_type": "stream",
     "text": [
      "【id】: 70\n",
      "【prompt】: Ning Li and Douglas Torr, of the University of Alabama in Huntsville proposed how a time dependent magnetic field could cause the spins of the lattice ions in a superconductor to generate detectable gravitomagnetic and gravitoelectric fields in a series of papers published between 1991 and 1993. This experiment measured the magnetic fields of four superconducting gyroscopes to determine their spin axes. It is characterized by the Meissner effect, the complete ejection of magnetic field lines from the interior of the superconductor during its transitions into the superconducting state. Many studies have attempted to reproduce Podkletnov's experiment, always to negative results.Woods, C., Cooke, S., Helme, J., and Caldwell, C., \"Gravity Modification by High Temperature Superconductors,\" Joint Propulsion Conference, AIAA 2001–3363, (2001).Hathaway, G., Cleveland, B., and Bao, Y., \"Gravity Modification Experiment using a Rotating Superconducting Disc and Radio Frequency Fields,\" Physica C, 385, 488–500, (2003).Tajmar, M., and de Matos, C.J., \"Gravitomagnetic Field of a Rotating Superconductor and of a Rotating Superfluid,\" Physica C, 385(4), 551–554, (2003). Near a so-called upper critical magnetic field, the problem of a superconductor in an external field is equivalent to the problem of vortex state in a rotating superfluid, discussed by Lars Onsager and Richard Feynman. ===Flux pinning=== thumb|Position memory due to vortex pinning in a high temperature superconductor In the vortex state, a phenomenon known as flux pinning becomes possible. He claimed that by rapidly rotating a disk of such material, the nuclear spin became aligned, and as a result created a \"gravitomagnetic\" field in... [SEP] What is the effect generated by a spinning superconductor?\n",
      "【A】: An electric field, precisely aligned with the spin axis.\n",
      "【B】: A magnetic field, randomly aligned with the spin axis.\n",
      "【C】: A magnetic field, precisely aligned with the spin axis.\n",
      "【D】: A gravitational field, randomly aligned with the spin axis.\n",
      "【E】: A gravitational field, precisely aligned with the spin axis.\n",
      "【answer】: C\n",
      "【context】: Ning Li and Douglas Torr, of the University of Alabama in Huntsville proposed how a time dependent magnetic field could cause the spins of the lattice ions in a superconductor to generate detectable gravitomagnetic and gravitoelectric fields in a series of papers published between 1991 and 1993. This experiment measured the magnetic fields of four superconducting gyroscopes to determine their spin axes. It is characterized by the Meissner effect, the complete ejection of magnetic field lines from the interior of the superconductor during its transitions into the superconducting state. Many studies have attempted to reproduce Podkletnov's experiment, always to negative results.Woods, C., Cooke, S., Helme, J., and Caldwell, C., \"Gravity Modification by High Temperature Superconductors,\" Joint Propulsion Conference, AIAA 2001–3363, (2001).Hathaway, G., Cleveland, B., and Bao, Y., \"Gravity Modification Experiment using a Rotating Superconducting Disc and Radio Frequency Fields,\" Physica C, 385, 488–500, (2003).Tajmar, M., and de Matos, C.J., \"Gravitomagnetic Field of a Rotating Superconductor and of a Rotating Superfluid,\" Physica C, 385(4), 551–554, (2003). Near a so-called upper critical magnetic field, the problem of a superconductor in an external field is equivalent to the problem of vortex state in a rotating superfluid, discussed by Lars Onsager and Richard Feynman. ===Flux pinning=== thumb|Position memory due to vortex pinning in a high temperature superconductor In the vortex state, a phenomenon known as flux pinning becomes possible. He claimed that by rapidly rotating a disk of such material, the nuclear spin became aligned, and as a result created a \"gravitomagnetic\" field in a fashion similar to the magnetic field created by the Barnett effect. If a superconductor is cooled in a field, the field can be trapped, which can allow the superconductor to be suspended over a magnet, with the potential for a frictionless joint or bearing. This pinning is what holds the superconductor in place thereby allowing it to levitate. The results were strongly supported by Monte Carlo computer simulations. === Meissner effect === When a superconductor is placed in a weak external magnetic field H, and cooled below its transition temperature, the magnetic field is ejected. Most pure elemental superconductors, except niobium and carbon nanotubes, are Type I, while almost all impure and compound superconductors are Type II. === London moment === Conversely, a spinning superconductor generates a magnetic field, precisely aligned with the spin axis. When such a superconductor (now without any holes) is placed in a magnetic field with the strength between the first critical field and the second critical field , the field partially penetrates into the superconductor in a form of Abrikosov vortices. The situation is different in a superconductor. In 2021 elected as a Fellow of the American Physical Society(APS). == Memberships and awards == * Fellow of the American Physical Society(APS) * Winner of Megagrant from Russian government (2013) “Topological quantum phenomena in superconducting structures” * Coordinator of the project “SPINTECH” which received funding from the European Union's Horizon 2020 research and innovation programme under grant agreement No 810144 (2018 – 2022) * Outstanding referee APS Journals (2014) and Europhysics Letters (2015) * Advisory Board member of the journal “Superconducting Science and Technology” == Selected publications == * V.V.Ryazanov, A.V.Veretennikov, V.A.Oboznov, A.Y.Rusanov, A.A.Golubov, and J.Aarts. October 2003) * Superconducting Magnetic Levitation (MagLev) on a Magnetic Track Ithaca College Physics demonstration of the Meissner effect and flux pinning. At higher magnetic fields (above Hc1 and below Hc2) the superconductor allows magnetic flux to enter in quantized packets surrounded by a superconducting current vortex (see Quantum vortex). One component will form vortices bunched together while the second component will produce supercurrent flowing on the surface of vortex clusters in a way similar to how electrons flow on the exterior of type-I superconductors. ‘Coupling of two superconductors through a ferromagnet: Evidence for a pi-junction’. Since 2014 a number of world-class scientific results were obtained within this project in the field of topological quantum phenomena in the contacts of superconductors with semiconductor and ferromagnetic nanowires and thin films From 2018 an EU partner of the project SPINTECH, which is supported by the EU Horizon 2020 program. The screening currents circulate in the -vicinity of the core and screen the rest of the superconductor from the magnetic field in the core. Due to the Meissner effect, the magnetic induction inside the superconductor is zero. \n",
      "【preds】: E\n"
     ]
    }
   ],
   "source": [
    "print_wrong(10)"
   ]
  },
  {
   "cell_type": "code",
   "execution_count": null,
   "id": "62c2b008-438d-4646-9f9b-c372803662b8",
   "metadata": {},
   "outputs": [],
   "source": []
  },
  {
   "cell_type": "code",
   "execution_count": 24,
   "id": "abe105bd-5feb-4666-b948-b98b83fd9a45",
   "metadata": {
    "tags": []
   },
   "outputs": [
    {
     "name": "stdout",
     "output_type": "stream",
     "text": [
      "【id】: 72\n",
      "【prompt】: A gas pycnometer, the gas-based manifestation of a pycnometer, compares the change in pressure caused by a measured change in a closed volume containing a reference (usually a steel sphere of known volume) with the change in pressure caused by the sample under the same conditions. A gas pycnometer is a laboratory device used for measuring the density—or, more accurately, the volume—of solids, be they regularly shaped, porous or non-porous, monolithic, powdered, granular or in some way comminuted, employing some method of gas displacement and the volume:pressure relationship known as Boyle's Law. The simplest type of gas pycnometer (due to its relative lack of moving parts) consists of two chambers, one (with a removable gas-tight lid) to hold the sample and a second chamber of fixed, known (via calibration) internal volume – referred to as the reference volume or added volume. A gas pycnometer is also sometimes referred to as a helium pycnometer. ==Types of gas pycnometer== ===Gas expansion pycnometer=== Gas expansion pycnometer is also known as constant volume gas pycnometer. A pycnometer is usually made of glass, with a close-fitting ground glass stopper with a capillary tube through it, so that air bubbles may escape from the apparatus. The volume measured in a gas pycnometer is that amount of three-dimensional space which is inaccessible to the gas used, i.e. that volume within the sample chamber from which the gas is excluded. Pyknometer is to be found in older texts, and is used interchangeably with pycnometer in British English. This... [SEP] What is a pycnometer?\n",
      "【A】: A device used to measure the density of a gas.\n",
      "【B】: A device used to measure the mass of a liquid.\n",
      "【C】: A device used to measure the volume of a gas.\n",
      "【D】: A device used to determine the density of a liquid.\n",
      "【E】: A device used to determine the volume of a liquid.\n",
      "【answer】: D\n",
      "【context】: A gas pycnometer, the gas-based manifestation of a pycnometer, compares the change in pressure caused by a measured change in a closed volume containing a reference (usually a steel sphere of known volume) with the change in pressure caused by the sample under the same conditions. A gas pycnometer is a laboratory device used for measuring the density—or, more accurately, the volume—of solids, be they regularly shaped, porous or non-porous, monolithic, powdered, granular or in some way comminuted, employing some method of gas displacement and the volume:pressure relationship known as Boyle's Law. The simplest type of gas pycnometer (due to its relative lack of moving parts) consists of two chambers, one (with a removable gas-tight lid) to hold the sample and a second chamber of fixed, known (via calibration) internal volume – referred to as the reference volume or added volume. A gas pycnometer is also sometimes referred to as a helium pycnometer. ==Types of gas pycnometer== ===Gas expansion pycnometer=== Gas expansion pycnometer is also known as constant volume gas pycnometer. A pycnometer is usually made of glass, with a close-fitting ground glass stopper with a capillary tube through it, so that air bubbles may escape from the apparatus. The volume measured in a gas pycnometer is that amount of three-dimensional space which is inaccessible to the gas used, i.e. that volume within the sample chamber from which the gas is excluded. Pyknometer is to be found in older texts, and is used interchangeably with pycnometer in British English. This shows that, for small Δx, changes in displacement are approximately proportional to changes in relative density. ===Pycnometer=== thumb|upright|An empty glass pycnometer and stopper thumb|upright|A filled pycnometer A pycnometer (from ), also called pyknometer or specific gravity bottle, is a device used to determine the density of a liquid. In practice the sample may occupy either chamber, that is gas pycnometers can be constructed such that the sample chamber is pressurized first, or such that it is the reference chamber that starts at the higher pressure. When a pycnometer is filled to a specific, but not necessarily accurately known volume, V and is placed upon a balance, it will exert a force F_\\mathrm{b} = g\\left(m_\\mathrm{b} - \\rho_\\mathrm{a}\\frac{m_\\mathrm{b}}{\\rho_\\mathrm{b}}\\right), where mb is the mass of the bottle and g the gravitational acceleration at the location at which the measurements are being made. ρa is the density of the air at the ambient pressure and ρb is the density of the material of which the bottle is made (usually glass) so that the second term is the mass of air displaced by the glass of the bottle whose weight, by Archimedes Principle must be subtracted. The difference in change of pressure represents the volume of the sample as compared to the reference sphere, and is usually used for solid particulates that may dissolve in the liquid medium of the pycnometer design described above, or for porous materials into which the liquid would not fully penetrate. The pycnometer is then filled with a liquid of known density, in which the powder is completely insoluble. A person is enclosed in a small space when the measurement is taken. ===Pneumotachometer=== This spirometer measures the flow rate of gases by detecting pressure differences across fine mesh. Derivation of the \"working equation\" and a schematic illustration of such a gas expansion pycnometer is given by Lowell et al..S. Lowell, J.E. Shields, M.A. Thomas and M. Thommes \"Characterization of Porous Solids and Powders: Surface Area, Pore Size and Density\", Springer (originally by Kluwer Academic Publishers), 2004 p. 327 ===Variable volume pycnometer=== Variable volume pycnometer (or gas comparison pycnometer) consists of either a single or two variable volume chambers. The pycnometer is used in ISO standard: ISO 1183-1:2004, ISO 1014–1985 and ASTM standard: ASTM D854. A pyranometer () is a type of actinometer used for measuring solar irradiance on a planar surface and it is designed to measure the solar radiation flux density (W/m2) from the hemisphere above within a wavelength range 0.3 μm to 3 μm. Various design parameters have been analyzed by Tamari.S. Tamari (2004) Meas. Sci. Technol. 15 549–558 \"Optimum design of the constant- volume gas pycnometer for determining the volume of solid particles\" The working equation of a gas pycnometer wherein the sample chamber is pressurized first is as follows: ::V_{s} = V_{c} + \\frac{ V_{r}} {1-\\frac{P_{1}}{P_{2}}} where Vs is the sample volume, Vc is the volume of the empty sample chamber (known from a prior calibration step), Vr is the volume of the reference volume (again known from a prior calibration step), P1 is the first pressure (i.e. in the sample chamber only) and P2 is the second (lower) pressure after expansion of the gas into the combined volumes of sample chamber and reference chamber. The powder is added to the pycnometer, which is then weighed, giving the weight of the powder sample. *An extreme example of the gas displacement principle for volume measurement is described in (Lindberg, 1993) wherein a chamber large enough to hold a flatbed truck is used to measure the volume of a load of timber. ==See also== *Pycnometer ==References== ==External links== *ASTM International, formerly known as the American Society for Testing and Materials. There are various types of spirometers that use a number of different methods for measurement (pressure transducers, ultrasonic, water gauge). ==Pulmonary function tests== A spirometer is the main piece of equipment used for basic Pulmonary Function Tests (PFTs). \n",
      "【preds】: C\n"
     ]
    }
   ],
   "source": [
    "print_wrong(11)"
   ]
  },
  {
   "cell_type": "code",
   "execution_count": null,
   "id": "109478c0-d7b8-4c00-ad38-1be633414e27",
   "metadata": {},
   "outputs": [],
   "source": []
  },
  {
   "cell_type": "code",
   "execution_count": 25,
   "id": "f648429a-a945-419c-ac78-61069d0258c0",
   "metadata": {
    "tags": []
   },
   "outputs": [
    {
     "name": "stdout",
     "output_type": "stream",
     "text": [
      "【id】: 96\n",
      "【prompt】: However, Einstein was convinced that a valid theory of gravity would necessarily have to include the relativity of inertia: == Inertial induction == In 1953, in order to express Mach's Principle in quantitative terms, the Cambridge University physicist Dennis W. Sciama proposed the addition of an acceleration dependent term to the Newtonian gravitation equation. The writing in which Einstein found inspiration was Mach's book The Science of Mechanics (1883, tr. 1893), where the philosopher criticized Newton's idea of absolute space, in particular the argument that Newton gave sustaining the existence of an advantaged reference system: what is commonly called \"Newton's bucket argument\". Einstein brought the principle into mainstream physics while working on general relativity. Indeed, it was Einstein who first coined the phrase Mach's principle. In the context of Born rigidity, Max Born (1909) subsequently coined the term \"hyperbolic motion\" () for the case of constant magnitude of four- acceleration, then provided a detailed description for charged particles in hyperbolic motion, and introduced the corresponding \"hyperbolically accelerated reference system\" (). Einstein, before completing his development of the general theory of relativity, found an effect which he interpreted as being evidence of Mach's principle. In theoretical physics, particularly in discussions of gravitation theories, Mach's principle (or Mach's conjectureHans Christian Von Bayer, The Fermi Solution: Essays on Science, Courier Dover Publications (2001), , page 79.) is the name given by Einstein to an imprecise hypothesis often credited to the physicist and philosopher Ernst Mach. The mathematical physicist and historian of science Clifford... [SEP] Who proposed the concept of \"maximal acceleration\"?\n",
      "【A】: Max Planck\n",
      "【B】: Niels Bohr\n",
      "【C】: Eduardo R. Caianiello\n",
      "【D】: Hideki Yukawa\n",
      "【E】: Albert Einstein\n",
      "【answer】: C\n",
      "【context】: However, Einstein was convinced that a valid theory of gravity would necessarily have to include the relativity of inertia: == Inertial induction == In 1953, in order to express Mach's Principle in quantitative terms, the Cambridge University physicist Dennis W. Sciama proposed the addition of an acceleration dependent term to the Newtonian gravitation equation. The writing in which Einstein found inspiration was Mach's book The Science of Mechanics (1883, tr. 1893), where the philosopher criticized Newton's idea of absolute space, in particular the argument that Newton gave sustaining the existence of an advantaged reference system: what is commonly called \"Newton's bucket argument\". Einstein brought the principle into mainstream physics while working on general relativity. Indeed, it was Einstein who first coined the phrase Mach's principle. In the context of Born rigidity, Max Born (1909) subsequently coined the term \"hyperbolic motion\" () for the case of constant magnitude of four- acceleration, then provided a detailed description for charged particles in hyperbolic motion, and introduced the corresponding \"hyperbolically accelerated reference system\" (). Einstein, before completing his development of the general theory of relativity, found an effect which he interpreted as being evidence of Mach's principle. In theoretical physics, particularly in discussions of gravitation theories, Mach's principle (or Mach's conjectureHans Christian Von Bayer, The Fermi Solution: Essays on Science, Courier Dover Publications (2001), , page 79.) is the name given by Einstein to an imprecise hypothesis often credited to the physicist and philosopher Ernst Mach. The mathematical physicist and historian of science Clifford Truesdell, wrote:Clifford Truesdell, Essays in The History of Mechanics, (Springer-Verlag, New York, 1968), p. 30 The theorem is a special case of the more general kinematics equations for uniform acceleration. ==See also== * Science in the Middle Ages * Scholasticism ==Notes== == Further reading == * Sylla, Edith (1982) \"The Oxford Calculators\", in Kretzmann, Kenny & Pinborg (edd.), The Cambridge History of Later Medieval Philosophy. After Mach, the book Absolute or Relative Motion? (1896) by Benedict Friedlaender and his brother Immanuel contained ideas similar to Mach's principle. == Einstein's use of the principle == There is a fundamental issue in relativity theory: if all motion is relative, how can we measure the inertia of a body? Mach's concept was a guiding factor in Einstein's development of the general theory of relativity. Category:Theory of relativity Category:Special relativity Category:General relativity Category:Acceleration German engineer Hermann Oberth independently derived the equation about 1920 as he studied the feasibility of space travel. See also Galeriu (2015) or Gourgoulhon (2013), and Acceleration (special relativity)#History. ==Worldline== The proper acceleration \\alpha of a particle is defined as the acceleration that a particle \"feels\" as it accelerates from one inertial reference frame to another. The designer must compromise between sensitivity and the maximum acceleration that can be measured. ==Applications== ===Engineering=== Accelerometers can be used to measure vehicle acceleration. Various ideas, including Gilles Deleuze and Félix Guattari's idea of deterritorialization, Jean Baudrillard's proposals for \"fatal strategies\", and aspects of the theoretical systems and processes developed by English philosopher and later Dark Enlightenment commentator Nick Land, are crucial influences on accelerationism, which aims to analyze and subsequently promote the social, economic, cultural, and libidinal forces that constitute the process of acceleration. * Mach10: Overall rigid rotations and translations of a system are unobservable. == See also == * * * * * * * * * == References == ==Further reading== * * This textbook, among other writings by Sciama, helped revive interest in Mach's principle. * * ==External links== * Ernst Mach, The Science of Mechanics (tr. 1893) at Archive.org * \"Mach's Principle\" (1995) from Einstein Studies vol. 6 (13MB PDF) * (originally published in Italian as Gasco E. \"Il contributo di mach sull'origine dell'inerzia.\" Acceleration is quantified in the SI unit metres per second per second (m/s2), in the cgs unit gal (Gal), or popularly in terms of standard gravity (g). Einstein was so satisfied with this manifestation of Mach's principle that he wrote a letter to Mach expressing this: The Lense–Thirring effect certainly satisfies the very basic and broad notion that \"matter there influences inertia here\". Modern relativists see the imprints of Mach's principle in the initial-value problem. Out of Xenofeminism grew a strand of accelerationist thought labeled \"gender accelerationism,\" asserting that the destruction of the patriarchy and the gender binary is not just a preferred future, but an outright inevitability of capitalism's acceleration. === Left- wing accelerationism === Left-wing accelerationism, commonly referred to as \"L/Acc\", is often attributed to Mark Fisher, a prior CCRU member and mentor for Srnicek and Williams. \n",
      "【preds】: D\n"
     ]
    }
   ],
   "source": [
    "\"\"\"\n",
    "正解：https://en.wikipedia.org/wiki/Born_reciprocity#:~:text=In%201981%2C%20Eduardo%20R.,been%20expanded%20upon%20by%20others.\n",
    "\"\"\"\n",
    "\n",
    "print_wrong(12)"
   ]
  },
  {
   "cell_type": "code",
   "execution_count": null,
   "id": "e89a6038-0486-448e-85ed-eab5a63d3da9",
   "metadata": {},
   "outputs": [],
   "source": []
  },
  {
   "cell_type": "markdown",
   "id": "aaa8f10b-83f2-4b62-bb30-2a346e663e33",
   "metadata": {},
   "source": [
    "## retrieve のチェック"
   ]
  },
  {
   "cell_type": "code",
   "execution_count": null,
   "id": "8ea20284-31e5-4c3f-86f8-0c3b987ecaac",
   "metadata": {},
   "outputs": [],
   "source": [
    "smodel = SentenceTransformer(\"all-MiniLM-L6-v2\", device=\"cuda\")\n",
    "smodel.max_seq_length = 386\n",
    "smodel = smodel.half()"
   ]
  },
  {
   "cell_type": "markdown",
   "id": "da85e9ad-74fe-4808-a8f2-578167336a15",
   "metadata": {
    "jp-MarkdownHeadingCollapsed": true,
    "tags": []
   },
   "source": [
    "### ドキュメント候補の取得"
   ]
  },
  {
   "cell_type": "code",
   "execution_count": 26,
   "id": "0a9ab33a-4ffc-47e3-a3de-2ce0c21dc40c",
   "metadata": {
    "tags": []
   },
   "outputs": [],
   "source": [
    "all_df = pd.read_parquet(\"../preprocessed/102_sentence_details/000/all.parquet\")"
   ]
  },
  {
   "cell_type": "code",
   "execution_count": 27,
   "id": "29b3238f-0bb6-4496-8f23-745ddcba1543",
   "metadata": {
    "tags": []
   },
   "outputs": [
    {
     "data": {
      "text/html": [
       "<div>\n",
       "<style scoped>\n",
       "    .dataframe tbody tr th:only-of-type {\n",
       "        vertical-align: middle;\n",
       "    }\n",
       "\n",
       "    .dataframe tbody tr th {\n",
       "        vertical-align: top;\n",
       "    }\n",
       "\n",
       "    .dataframe thead th {\n",
       "        text-align: right;\n",
       "    }\n",
       "</style>\n",
       "<table border=\"1\" class=\"dataframe\">\n",
       "  <thead>\n",
       "    <tr style=\"text-align: right;\">\n",
       "      <th></th>\n",
       "      <th>id</th>\n",
       "      <th>file</th>\n",
       "    </tr>\n",
       "  </thead>\n",
       "  <tbody>\n",
       "    <tr>\n",
       "      <th>0</th>\n",
       "      <td>49495844</td>\n",
       "      <td>a.parquet</td>\n",
       "    </tr>\n",
       "    <tr>\n",
       "      <th>1</th>\n",
       "      <td>3579086</td>\n",
       "      <td>a.parquet</td>\n",
       "    </tr>\n",
       "    <tr>\n",
       "      <th>2</th>\n",
       "      <td>3579086</td>\n",
       "      <td>a.parquet</td>\n",
       "    </tr>\n",
       "    <tr>\n",
       "      <th>3</th>\n",
       "      <td>3579086</td>\n",
       "      <td>a.parquet</td>\n",
       "    </tr>\n",
       "    <tr>\n",
       "      <th>4</th>\n",
       "      <td>3579086</td>\n",
       "      <td>a.parquet</td>\n",
       "    </tr>\n",
       "  </tbody>\n",
       "</table>\n",
       "</div>"
      ],
      "text/plain": [
       "         id       file\n",
       "0  49495844  a.parquet\n",
       "1   3579086  a.parquet\n",
       "2   3579086  a.parquet\n",
       "3   3579086  a.parquet\n",
       "4   3579086  a.parquet"
      ]
     },
     "execution_count": 27,
     "metadata": {},
     "output_type": "execute_result"
    }
   ],
   "source": [
    "all_df.head()"
   ]
  },
  {
   "cell_type": "code",
   "execution_count": 28,
   "id": "1c0bb162-78f6-4e5f-9d67-d394abf85589",
   "metadata": {
    "tags": []
   },
   "outputs": [
    {
     "data": {
      "text/html": [
       "<div>\n",
       "<style scoped>\n",
       "    .dataframe tbody tr th:only-of-type {\n",
       "        vertical-align: middle;\n",
       "    }\n",
       "\n",
       "    .dataframe tbody tr th {\n",
       "        vertical-align: top;\n",
       "    }\n",
       "\n",
       "    .dataframe thead th {\n",
       "        text-align: right;\n",
       "    }\n",
       "</style>\n",
       "<table border=\"1\" class=\"dataframe\">\n",
       "  <thead>\n",
       "    <tr style=\"text-align: right;\">\n",
       "      <th></th>\n",
       "      <th>id</th>\n",
       "      <th>prompt</th>\n",
       "      <th>A</th>\n",
       "      <th>B</th>\n",
       "      <th>C</th>\n",
       "      <th>D</th>\n",
       "      <th>E</th>\n",
       "      <th>answer</th>\n",
       "      <th>context</th>\n",
       "      <th>answer_all</th>\n",
       "      <th>prompt_answer_stem</th>\n",
       "    </tr>\n",
       "  </thead>\n",
       "  <tbody>\n",
       "    <tr>\n",
       "      <th>0</th>\n",
       "      <td>0</td>\n",
       "      <td>Which of the following statements accurately d...</td>\n",
       "      <td>MOND is a theory that reduces the observed mis...</td>\n",
       "      <td>MOND is a theory that increases the discrepanc...</td>\n",
       "      <td>MOND is a theory that explains the missing bar...</td>\n",
       "      <td>MOND is a theory that reduces the discrepancy ...</td>\n",
       "      <td>MOND is a theory that eliminates the observed ...</td>\n",
       "      <td>D</td>\n",
       "      <td>While almost all astrophysicists today reject ...</td>\n",
       "      <td>MOND is a theory that reduces the observed mis...</td>\n",
       "      <td>Which of the following statements accurately d...</td>\n",
       "    </tr>\n",
       "    <tr>\n",
       "      <th>1</th>\n",
       "      <td>1</td>\n",
       "      <td>Which of the following is an accurate definiti...</td>\n",
       "      <td>Dynamic scaling refers to the evolution of sel...</td>\n",
       "      <td>Dynamic scaling refers to the non-evolution of...</td>\n",
       "      <td>Dynamic scaling refers to the evolution of sel...</td>\n",
       "      <td>Dynamic scaling refers to the non-evolution of...</td>\n",
       "      <td>Dynamic scaling refers to the evolution of sel...</td>\n",
       "      <td>A</td>\n",
       "      <td>Many of these systems evolve in a self-similar...</td>\n",
       "      <td>Dynamic scaling refers to the evolution of sel...</td>\n",
       "      <td>Which of the following is an accurate definiti...</td>\n",
       "    </tr>\n",
       "    <tr>\n",
       "      <th>2</th>\n",
       "      <td>2</td>\n",
       "      <td>Which of the following statements accurately d...</td>\n",
       "      <td>The triskeles symbol was reconstructed as a fe...</td>\n",
       "      <td>The triskeles symbol is a representation of th...</td>\n",
       "      <td>The triskeles symbol is a representation of a ...</td>\n",
       "      <td>The triskeles symbol represents three interloc...</td>\n",
       "      <td>The triskeles symbol is a representation of th...</td>\n",
       "      <td>A</td>\n",
       "      <td>It is possible that this usage is related with...</td>\n",
       "      <td>The triskeles symbol was reconstructed as a fe...</td>\n",
       "      <td>Which of the following statements accurately d...</td>\n",
       "    </tr>\n",
       "    <tr>\n",
       "      <th>3</th>\n",
       "      <td>3</td>\n",
       "      <td>What is the significance of regularization in ...</td>\n",
       "      <td>Regularizing the mass-energy of an electron wi...</td>\n",
       "      <td>Regularizing the mass-energy of an electron wi...</td>\n",
       "      <td>Regularizing the mass-energy of an electron wi...</td>\n",
       "      <td>Regularizing the mass-energy of an electron wi...</td>\n",
       "      <td>Regularizing the mass-energy of an electron wi...</td>\n",
       "      <td>C</td>\n",
       "      <td>Renormalization is distinct from regularizatio...</td>\n",
       "      <td>Regularizing the mass-energy of an electron wi...</td>\n",
       "      <td>What is the significance of regularization in ...</td>\n",
       "    </tr>\n",
       "    <tr>\n",
       "      <th>4</th>\n",
       "      <td>4</td>\n",
       "      <td>Which of the following statements accurately d...</td>\n",
       "      <td>The angular spacing of features in the diffrac...</td>\n",
       "      <td>The angular spacing of features in the diffrac...</td>\n",
       "      <td>The angular spacing of features in the diffrac...</td>\n",
       "      <td>The angular spacing of features in the diffrac...</td>\n",
       "      <td>The angular spacing of features in the diffrac...</td>\n",
       "      <td>D</td>\n",
       "      <td>Several qualitative observations can be made o...</td>\n",
       "      <td>The angular spacing of features in the diffrac...</td>\n",
       "      <td>Which of the following statements accurately d...</td>\n",
       "    </tr>\n",
       "  </tbody>\n",
       "</table>\n",
       "</div>"
      ],
      "text/plain": [
       "   id                                             prompt  \\\n",
       "0   0  Which of the following statements accurately d...   \n",
       "1   1  Which of the following is an accurate definiti...   \n",
       "2   2  Which of the following statements accurately d...   \n",
       "3   3  What is the significance of regularization in ...   \n",
       "4   4  Which of the following statements accurately d...   \n",
       "\n",
       "                                                   A  \\\n",
       "0  MOND is a theory that reduces the observed mis...   \n",
       "1  Dynamic scaling refers to the evolution of sel...   \n",
       "2  The triskeles symbol was reconstructed as a fe...   \n",
       "3  Regularizing the mass-energy of an electron wi...   \n",
       "4  The angular spacing of features in the diffrac...   \n",
       "\n",
       "                                                   B  \\\n",
       "0  MOND is a theory that increases the discrepanc...   \n",
       "1  Dynamic scaling refers to the non-evolution of...   \n",
       "2  The triskeles symbol is a representation of th...   \n",
       "3  Regularizing the mass-energy of an electron wi...   \n",
       "4  The angular spacing of features in the diffrac...   \n",
       "\n",
       "                                                   C  \\\n",
       "0  MOND is a theory that explains the missing bar...   \n",
       "1  Dynamic scaling refers to the evolution of sel...   \n",
       "2  The triskeles symbol is a representation of a ...   \n",
       "3  Regularizing the mass-energy of an electron wi...   \n",
       "4  The angular spacing of features in the diffrac...   \n",
       "\n",
       "                                                   D  \\\n",
       "0  MOND is a theory that reduces the discrepancy ...   \n",
       "1  Dynamic scaling refers to the non-evolution of...   \n",
       "2  The triskeles symbol represents three interloc...   \n",
       "3  Regularizing the mass-energy of an electron wi...   \n",
       "4  The angular spacing of features in the diffrac...   \n",
       "\n",
       "                                                   E answer  \\\n",
       "0  MOND is a theory that eliminates the observed ...      D   \n",
       "1  Dynamic scaling refers to the evolution of sel...      A   \n",
       "2  The triskeles symbol is a representation of th...      A   \n",
       "3  Regularizing the mass-energy of an electron wi...      C   \n",
       "4  The angular spacing of features in the diffrac...      D   \n",
       "\n",
       "                                             context  \\\n",
       "0  While almost all astrophysicists today reject ...   \n",
       "1  Many of these systems evolve in a self-similar...   \n",
       "2  It is possible that this usage is related with...   \n",
       "3  Renormalization is distinct from regularizatio...   \n",
       "4  Several qualitative observations can be made o...   \n",
       "\n",
       "                                          answer_all  \\\n",
       "0  MOND is a theory that reduces the observed mis...   \n",
       "1  Dynamic scaling refers to the evolution of sel...   \n",
       "2  The triskeles symbol was reconstructed as a fe...   \n",
       "3  Regularizing the mass-energy of an electron wi...   \n",
       "4  The angular spacing of features in the diffrac...   \n",
       "\n",
       "                                  prompt_answer_stem  \n",
       "0  Which of the following statements accurately d...  \n",
       "1  Which of the following is an accurate definiti...  \n",
       "2  Which of the following statements accurately d...  \n",
       "3  What is the significance of regularization in ...  \n",
       "4  Which of the following statements accurately d...  "
      ]
     },
     "execution_count": 28,
     "metadata": {},
     "output_type": "execute_result"
    }
   ],
   "source": [
    "df = pd.read_csv(\"../preprocessed/002_gpu/003/train.csv\")\n",
    "df[\"answer_all\"] = df.apply(lambda x: \" \".join([x[\"A\"], x[\"B\"], x[\"C\"], x[\"D\"], x[\"E\"]]), axis=1)\n",
    "df[\"prompt_answer_stem\"] = df[\"prompt\"] + \" \" + df[\"answer_all\"]\n",
    "df.head()"
   ]
  },
  {
   "cell_type": "code",
   "execution_count": 29,
   "id": "520e0037-b249-49a6-bf8d-e64b6131542b",
   "metadata": {
    "tags": []
   },
   "outputs": [
    {
     "data": {
      "text/plain": [
       "\"What was the aim of the Gravity Probe B (GP-B) mission? To prove that pressure contributes equally to spacetime curvature as does mass-energy. To measure spacetime curvature near Earth, with particular emphasis on gravitomagnetism. To measure the distribution of Fe and Al on the Moon's surface. To confirm the relatively large geodetic effect due to simple spacetime curvature, and is also known as de Sitter precession. To measure the discrepancy between active and passive mass to about 10−12.\""
      ]
     },
     "execution_count": 29,
     "metadata": {},
     "output_type": "execute_result"
    }
   ],
   "source": [
    "df.iloc[35].prompt_answer_stem"
   ]
  },
  {
   "cell_type": "code",
   "execution_count": 30,
   "id": "5066ef28-547e-4258-9b45-af25b4d027ce",
   "metadata": {
    "tags": []
   },
   "outputs": [],
   "source": [
    "index_path = \"../preprocessed/102_sentence_details/000/ivfpq_100_64_8.index\"\n",
    "sentence_index = read_index(index_path)  # index 読み込み"
   ]
  },
  {
   "cell_type": "markdown",
   "id": "e2047cc1-7ca9-4eed-a8a4-3465d7522c62",
   "metadata": {
    "jp-MarkdownHeadingCollapsed": true,
    "tags": []
   },
   "source": [
    "#### id:35"
   ]
  },
  {
   "cell_type": "code",
   "execution_count": 33,
   "id": "59ce6507-1496-4d8a-bf6f-f76157025a69",
   "metadata": {
    "tags": []
   },
   "outputs": [
    {
     "data": {
      "application/vnd.jupyter.widget-view+json": {
       "model_id": "ccee26daf035405087d9b1f01228a107",
       "version_major": 2,
       "version_minor": 0
      },
      "text/plain": [
       "Batches:   0%|          | 0/1 [00:00<?, ?it/s]"
      ]
     },
     "metadata": {},
     "output_type": "display_data"
    },
    {
     "data": {
      "text/plain": [
       "(array([[0.66306055, 0.75334704, 0.79065216, 0.8074268 , 0.8325209 ,\n",
       "         0.8396863 , 0.84900326, 0.8545032 , 0.85537136, 0.862408  ,\n",
       "         0.8745032 , 0.87702626, 0.8776181 , 0.8788476 , 0.8793816 ,\n",
       "         0.88369614, 0.88645774, 0.8890206 , 0.8922587 , 0.89465016]],\n",
       "       dtype=float32),\n",
       " array([[ 8888877, 25021550,  7842669, 23985600, 26156094,  8888879,\n",
       "         15855304,  8888886,  1337339, 26994400, 26974958, 17763718,\n",
       "          8888890,  8888338, 10675594, 24528497, 15123012, 27012441,\n",
       "          7624194,  8344393]]))"
      ]
     },
     "execution_count": 33,
     "metadata": {},
     "output_type": "execute_result"
    }
   ],
   "source": [
    "# answer も含める場合\n",
    "idx = 35\n",
    "sentence_index.nprobe = 10\n",
    "\n",
    "smodel = SentenceTransformer(\"all-MiniLM-L6-v2\", device=\"cuda\")\n",
    "smodel.max_seq_length = 386\n",
    "smodel = smodel.half()\n",
    "prompt_embeddings = smodel.encode(\n",
    "    [df.iloc[idx].prompt_answer_stem],\n",
    "    batch_size=8,\n",
    "    device=\"cuda\",\n",
    "    show_progress_bar=True,\n",
    "    # convert_to_tensor=True,\n",
    "    normalize_embeddings=True,\n",
    ")\n",
    "# prompt_embeddings = prompt_embeddings.detach().cpu().numpy()\n",
    "search_score, search_index = sentence_index.search(prompt_embeddings, 20)\n",
    "search_score, search_index"
   ]
  },
  {
   "cell_type": "code",
   "execution_count": 34,
   "id": "8091236e-29ad-4cc9-9289-b6f319d4e21b",
   "metadata": {
    "tags": []
   },
   "outputs": [
    {
     "name": "stdout",
     "output_type": "stream",
     "text": [
      "id          28758\n",
      "file    s.parquet\n",
      "Name: 25021550, dtype: object\n"
     ]
    },
    {
     "data": {
      "text/html": [
       "<div>\n",
       "<style scoped>\n",
       "    .dataframe tbody tr th:only-of-type {\n",
       "        vertical-align: middle;\n",
       "    }\n",
       "\n",
       "    .dataframe tbody tr th {\n",
       "        vertical-align: top;\n",
       "    }\n",
       "\n",
       "    .dataframe thead th {\n",
       "        text-align: right;\n",
       "    }\n",
       "</style>\n",
       "<table border=\"1\" class=\"dataframe\">\n",
       "  <thead>\n",
       "    <tr style=\"text-align: right;\">\n",
       "      <th></th>\n",
       "      <th>id</th>\n",
       "      <th>title</th>\n",
       "      <th>text</th>\n",
       "      <th>categories</th>\n",
       "    </tr>\n",
       "  </thead>\n",
       "  <tbody>\n",
       "    <tr>\n",
       "      <th>326272</th>\n",
       "      <td>28758</td>\n",
       "      <td>Spacetime</td>\n",
       "      <td>In physics, spacetime is a mathematical model ...</td>\n",
       "      <td>[Concepts in physics, Theoretical physics, The...</td>\n",
       "    </tr>\n",
       "  </tbody>\n",
       "</table>\n",
       "</div>"
      ],
      "text/plain": [
       "           id      title                                               text  \\\n",
       "326272  28758  Spacetime  In physics, spacetime is a mathematical model ...   \n",
       "\n",
       "                                               categories  \n",
       "326272  [Concepts in physics, Theoretical physics, The...  "
      ]
     },
     "execution_count": 34,
     "metadata": {},
     "output_type": "execute_result"
    }
   ],
   "source": [
    "row_id = 25021550\n",
    "print(all_df.iloc[row_id])\n",
    "file_df = pd.read_parquet(f\"../input/wikipedia-20230701/{all_df.iloc[row_id].file}\")\n",
    "file_df[file_df[\"id\"] == all_df.iloc[row_id].id]"
   ]
  },
  {
   "cell_type": "code",
   "execution_count": 36,
   "id": "3fa8774c-a357-4756-98de-27aa905f75a0",
   "metadata": {
    "tags": []
   },
   "outputs": [
    {
     "data": {
      "application/vnd.jupyter.widget-view+json": {
       "model_id": "644d192b876a48868376351a1d45b3be",
       "version_major": 2,
       "version_minor": 0
      },
      "text/plain": [
       "Batches:   0%|          | 0/1 [00:00<?, ?it/s]"
      ]
     },
     "metadata": {},
     "output_type": "display_data"
    },
    {
     "data": {
      "text/plain": [
       "(array([[0.7878667 , 0.8294137 , 0.8301118 , 0.8629383 , 0.8669293 ,\n",
       "         0.8794828 , 0.8952486 , 0.90531075, 0.90820307, 0.9099476 ]],\n",
       "       dtype=float32),\n",
       " array([[ 8888877,  7842669,  8888886,  8888881,  8888885, 26994400,\n",
       "          8888765,  8888890, 26994401,  7710460]]))"
      ]
     },
     "execution_count": 36,
     "metadata": {},
     "output_type": "execute_result"
    }
   ],
   "source": [
    "sentence_index.nprobe = 10\n",
    "\n",
    "\n",
    "prompt_embeddings = smodel.encode(\n",
    "    [df.iloc[35].prompt],\n",
    "    batch_size=8,\n",
    "    device=\"cuda\",\n",
    "    show_progress_bar=True,\n",
    "    # convert_to_tensor=True,\n",
    "    normalize_embeddings=True,\n",
    ")\n",
    "# prompt_embeddings = prompt_embeddings.detach().cpu().numpy()\n",
    "search_score, search_index = sentence_index.search(prompt_embeddings, 10)\n",
    "search_score, search_index"
   ]
  },
  {
   "cell_type": "markdown",
   "id": "bf4c2a2d-e080-400a-99c6-00a29b37b636",
   "metadata": {
    "jp-MarkdownHeadingCollapsed": true,
    "tags": []
   },
   "source": [
    "#### id 49"
   ]
  },
  {
   "cell_type": "code",
   "execution_count": 38,
   "id": "c94c7c52-f6ee-4487-85f8-75f29b4123a8",
   "metadata": {
    "tags": []
   },
   "outputs": [
    {
     "data": {
      "application/vnd.jupyter.widget-view+json": {
       "model_id": "7e7462949e9c469eb4e338c894d88914",
       "version_major": 2,
       "version_minor": 0
      },
      "text/plain": [
       "Batches:   0%|          | 0/1 [00:00<?, ?it/s]"
      ]
     },
     "metadata": {},
     "output_type": "display_data"
    },
    {
     "data": {
      "text/plain": [
       "(array([[0.712788  , 0.7207524 , 0.73808515, 0.75057006, 0.75323325,\n",
       "         0.7535617 , 0.75887865, 0.7613823 , 0.7614457 , 0.7880337 ,\n",
       "         0.788491  , 0.79881144, 0.808414  , 0.8136295 , 0.81395   ,\n",
       "         0.81738585, 0.8180226 , 0.8190703 , 0.82230335, 0.8299021 ]],\n",
       "       dtype=float32),\n",
       " array([[21793105,  2176217, 16209442,  1669014,  1669013, 17341760,\n",
       "         13425171, 26783936, 20721124,  9380425, 21678838,  7259319,\n",
       "          1669031, 16205895,  6658020, 19872399, 10099319, 24580459,\n",
       "         27728427, 20436721]]))"
      ]
     },
     "execution_count": 38,
     "metadata": {},
     "output_type": "execute_result"
    }
   ],
   "source": [
    "# answer も含める場合\n",
    "idx = 49\n",
    "\n",
    "sentence_index.nprobe = 10\n",
    "\n",
    "prompt_embeddings = smodel.encode(\n",
    "    [df.iloc[idx].prompt_answer_stem],\n",
    "    batch_size=8,\n",
    "    device=\"cuda\",\n",
    "    show_progress_bar=True,\n",
    "    # convert_to_tensor=True,\n",
    "    normalize_embeddings=True,\n",
    ")\n",
    "# prompt_embeddings = prompt_embeddings.detach().cpu().numpy()\n",
    "search_score, search_index = sentence_index.search(prompt_embeddings, 20)\n",
    "search_score, search_index"
   ]
  },
  {
   "cell_type": "code",
   "execution_count": 39,
   "id": "7daa8d44-7c8f-447a-840c-003446b84c08",
   "metadata": {
    "tags": []
   },
   "outputs": [
    {
     "name": "stdout",
     "output_type": "stream",
     "text": [
      "id         178713\n",
      "file    l.parquet\n",
      "Name: 13425171, dtype: object\n"
     ]
    },
    {
     "data": {
      "text/html": [
       "<div>\n",
       "<style scoped>\n",
       "    .dataframe tbody tr th:only-of-type {\n",
       "        vertical-align: middle;\n",
       "    }\n",
       "\n",
       "    .dataframe tbody tr th {\n",
       "        vertical-align: top;\n",
       "    }\n",
       "\n",
       "    .dataframe thead th {\n",
       "        text-align: right;\n",
       "    }\n",
       "</style>\n",
       "<table border=\"1\" class=\"dataframe\">\n",
       "  <thead>\n",
       "    <tr style=\"text-align: right;\">\n",
       "      <th></th>\n",
       "      <th>id</th>\n",
       "      <th>title</th>\n",
       "      <th>text</th>\n",
       "      <th>categories</th>\n",
       "    </tr>\n",
       "  </thead>\n",
       "  <tbody>\n",
       "    <tr>\n",
       "      <th>130594</th>\n",
       "      <td>178713</td>\n",
       "      <td>Light-second</td>\n",
       "      <td>The light-second is a unit of length useful in...</td>\n",
       "      <td>[Units of length, Units of measurement in astr...</td>\n",
       "    </tr>\n",
       "  </tbody>\n",
       "</table>\n",
       "</div>"
      ],
      "text/plain": [
       "            id         title  \\\n",
       "130594  178713  Light-second   \n",
       "\n",
       "                                                     text  \\\n",
       "130594  The light-second is a unit of length useful in...   \n",
       "\n",
       "                                               categories  \n",
       "130594  [Units of length, Units of measurement in astr...  "
      ]
     },
     "execution_count": 39,
     "metadata": {},
     "output_type": "execute_result"
    }
   ],
   "source": [
    "# 不正解\n",
    "row_id = 13425171\n",
    "print(all_df.iloc[row_id])\n",
    "file_df = pd.read_parquet(f\"../input/wikipedia-20230701/{all_df.iloc[row_id].file}\")\n",
    "file_df[file_df[\"id\"] == all_df.iloc[row_id].id]"
   ]
  },
  {
   "cell_type": "code",
   "execution_count": 40,
   "id": "cf025227-7cd5-4be0-8a8b-4fa55705929a",
   "metadata": {
    "tags": []
   },
   "outputs": [
    {
     "data": {
      "text/html": [
       "<div>\n",
       "<style scoped>\n",
       "    .dataframe tbody tr th:only-of-type {\n",
       "        vertical-align: middle;\n",
       "    }\n",
       "\n",
       "    .dataframe tbody tr th {\n",
       "        vertical-align: top;\n",
       "    }\n",
       "\n",
       "    .dataframe thead th {\n",
       "        text-align: right;\n",
       "    }\n",
       "</style>\n",
       "<table border=\"1\" class=\"dataframe\">\n",
       "  <thead>\n",
       "    <tr style=\"text-align: right;\">\n",
       "      <th></th>\n",
       "      <th>id</th>\n",
       "      <th>title</th>\n",
       "      <th>text</th>\n",
       "      <th>categories</th>\n",
       "    </tr>\n",
       "  </thead>\n",
       "  <tbody>\n",
       "  </tbody>\n",
       "</table>\n",
       "</div>"
      ],
      "text/plain": [
       "Empty DataFrame\n",
       "Columns: [id, title, text, categories]\n",
       "Index: []"
      ]
     },
     "execution_count": 40,
     "metadata": {},
     "output_type": "execute_result"
    }
   ],
   "source": [
    "file_df[file_df[\"title\"].str.contains(\"Light-year\")]"
   ]
  },
  {
   "cell_type": "code",
   "execution_count": 41,
   "id": "f58d235d-7d9e-411c-b19a-224adc3f1877",
   "metadata": {
    "tags": []
   },
   "outputs": [
    {
     "data": {
      "text/html": [
       "<div>\n",
       "<style scoped>\n",
       "    .dataframe tbody tr th:only-of-type {\n",
       "        vertical-align: middle;\n",
       "    }\n",
       "\n",
       "    .dataframe tbody tr th {\n",
       "        vertical-align: top;\n",
       "    }\n",
       "\n",
       "    .dataframe thead th {\n",
       "        text-align: right;\n",
       "    }\n",
       "</style>\n",
       "<table border=\"1\" class=\"dataframe\">\n",
       "  <thead>\n",
       "    <tr style=\"text-align: right;\">\n",
       "      <th></th>\n",
       "      <th>id</th>\n",
       "      <th>file</th>\n",
       "    </tr>\n",
       "  </thead>\n",
       "  <tbody>\n",
       "  </tbody>\n",
       "</table>\n",
       "</div>"
      ],
      "text/plain": [
       "Empty DataFrame\n",
       "Columns: [id, file]\n",
       "Index: []"
      ]
     },
     "execution_count": 41,
     "metadata": {},
     "output_type": "execute_result"
    }
   ],
   "source": [
    "# 含まれていない\n",
    "# https://en.wikipedia.org/w/index.php?title=Light-year&action=info\n",
    "all_df[all_df[\"id\"] == \"23473595\"]"
   ]
  },
  {
   "cell_type": "markdown",
   "id": "aa072574-bb35-4e19-a036-c88ce65f0ec2",
   "metadata": {
    "jp-MarkdownHeadingCollapsed": true,
    "tags": []
   },
   "source": [
    "#### id52"
   ]
  },
  {
   "cell_type": "code",
   "execution_count": 43,
   "id": "369ac67e-4d69-4101-8dd2-aabfc045f858",
   "metadata": {
    "tags": []
   },
   "outputs": [
    {
     "data": {
      "application/vnd.jupyter.widget-view+json": {
       "model_id": "4c3c4fb0b831456391a96a308ff41d4b",
       "version_major": 2,
       "version_minor": 0
      },
      "text/plain": [
       "Batches:   0%|          | 0/1 [00:00<?, ?it/s]"
      ]
     },
     "metadata": {},
     "output_type": "display_data"
    },
    {
     "data": {
      "text/plain": [
       "(array([[0.5912847 , 0.6261332 , 0.71793985, 0.72031945, 0.7344239 ,\n",
       "         0.74571604, 0.7522569 , 0.77276134, 0.7784686 , 0.7818648 ,\n",
       "         0.7829955 , 0.78772324, 0.7908109 , 0.79602337, 0.8035359 ,\n",
       "         0.8140356 , 0.8199215 , 0.8229825 , 0.82347393, 0.8304806 ]],\n",
       "       dtype=float32),\n",
       " array([[21465521, 21679312, 21465522,  7699985, 22854255,  6730010,\n",
       "         22854174,  6717287, 20501546,  6719231,  6719713,  6719232,\n",
       "         28584633, 27963806, 22854984, 28275088,  4906466, 14247367,\n",
       "         22854240, 20501556]]))"
      ]
     },
     "execution_count": 43,
     "metadata": {},
     "output_type": "execute_result"
    }
   ],
   "source": [
    "# answer も含める場合\n",
    "idx = 52\n",
    "\n",
    "sentence_index.nprobe = 10\n",
    "prompt_embeddings = smodel.encode(\n",
    "    [df.iloc[idx].prompt_answer_stem],\n",
    "    batch_size=8,\n",
    "    device=\"cuda\",\n",
    "    show_progress_bar=True,\n",
    "    # convert_to_tensor=True,\n",
    "    normalize_embeddings=True,\n",
    ")\n",
    "# prompt_embeddings = prompt_embeddings.detach().cpu().numpy()\n",
    "search_score, search_index = sentence_index.search(prompt_embeddings, 20)\n",
    "search_score, search_index"
   ]
  },
  {
   "cell_type": "code",
   "execution_count": 44,
   "id": "b4086283-583a-48b1-9b7c-53c8d305db82",
   "metadata": {
    "tags": []
   },
   "outputs": [],
   "source": [
    "file_df = pd.read_parquet(f\"../input/wikipedia-20230701/e.parquet\")"
   ]
  },
  {
   "cell_type": "code",
   "execution_count": 45,
   "id": "003f853a-08cc-47ca-bef0-b6a2a142b049",
   "metadata": {
    "tags": []
   },
   "outputs": [
    {
     "data": {
      "text/html": [
       "<div>\n",
       "<style scoped>\n",
       "    .dataframe tbody tr th:only-of-type {\n",
       "        vertical-align: middle;\n",
       "    }\n",
       "\n",
       "    .dataframe tbody tr th {\n",
       "        vertical-align: top;\n",
       "    }\n",
       "\n",
       "    .dataframe thead th {\n",
       "        text-align: right;\n",
       "    }\n",
       "</style>\n",
       "<table border=\"1\" class=\"dataframe\">\n",
       "  <thead>\n",
       "    <tr style=\"text-align: right;\">\n",
       "      <th></th>\n",
       "      <th>id</th>\n",
       "      <th>title</th>\n",
       "      <th>text</th>\n",
       "      <th>categories</th>\n",
       "    </tr>\n",
       "  </thead>\n",
       "  <tbody>\n",
       "    <tr>\n",
       "      <th>72455</th>\n",
       "      <td>28205882</td>\n",
       "      <td>Electrical resistivity measurement of concrete</td>\n",
       "      <td>Concrete electrical resistivity can be obtaine...</td>\n",
       "      <td>[Concrete, Impedance measurements]</td>\n",
       "    </tr>\n",
       "    <tr>\n",
       "      <th>72456</th>\n",
       "      <td>3625483</td>\n",
       "      <td>Electrical resistivity tomography</td>\n",
       "      <td>thumb|2D resistivity inversion of ERT data thu...</td>\n",
       "      <td>[Geophysical imaging, Inverse problems, Impeda...</td>\n",
       "    </tr>\n",
       "  </tbody>\n",
       "</table>\n",
       "</div>"
      ],
      "text/plain": [
       "             id                                           title  \\\n",
       "72455  28205882  Electrical resistivity measurement of concrete   \n",
       "72456   3625483               Electrical resistivity tomography   \n",
       "\n",
       "                                                    text  \\\n",
       "72455  Concrete electrical resistivity can be obtaine...   \n",
       "72456  thumb|2D resistivity inversion of ERT data thu...   \n",
       "\n",
       "                                              categories  \n",
       "72455                 [Concrete, Impedance measurements]  \n",
       "72456  [Geophysical imaging, Inverse problems, Impeda...  "
      ]
     },
     "execution_count": 45,
     "metadata": {},
     "output_type": "execute_result"
    }
   ],
   "source": [
    "file_df[file_df[\"title\"].str.contains(\"Electrical resistivity\")]"
   ]
  },
  {
   "cell_type": "code",
   "execution_count": 46,
   "id": "5a5877fb-80d7-402f-a321-ec479f61c705",
   "metadata": {
    "tags": []
   },
   "outputs": [
    {
     "data": {
      "application/vnd.jupyter.widget-view+json": {
       "model_id": "ee5b4aa54d5045f28eb51f87be4a4dc0",
       "version_major": 2,
       "version_minor": 0
      },
      "text/plain": [
       "Batches:   0%|          | 0/1 [00:00<?, ?it/s]"
      ]
     },
     "metadata": {},
     "output_type": "display_data"
    },
    {
     "data": {
      "text/plain": [
       "(array([[0.5747607 , 0.62398666, 0.6531236 , 0.69509405, 0.75609064,\n",
       "         0.7599351 , 0.7737852 , 0.7831699 , 0.7901595 , 0.79393417,\n",
       "         0.8020921 , 0.80468166, 0.80734813, 0.8141816 , 0.8166397 ,\n",
       "         0.82229686, 0.82948357, 0.8394228 , 0.8448426 , 0.8565721 ]],\n",
       "       dtype=float32),\n",
       " array([[21679312, 22854240, 22854174, 21465521,  3868828,  2900037,\n",
       "         29140107, 22854785, 16931119, 22854255, 28584633,  7753013,\n",
       "         22854982,  7699985,  6719713, 22854214,  6719232, 20501546,\n",
       "          1540973, 19063710]]))"
      ]
     },
     "execution_count": 46,
     "metadata": {},
     "output_type": "execute_result"
    }
   ],
   "source": [
    "sentence_index.nprobe = 10\n",
    "prompt_embeddings = smodel.encode(\n",
    "    [df.iloc[idx].prompt],\n",
    "    batch_size=8,\n",
    "    device=\"cuda\",\n",
    "    show_progress_bar=True,\n",
    "    # convert_to_tensor=True,\n",
    "    normalize_embeddings=True,\n",
    ")\n",
    "# prompt_embeddings = prompt_embeddings.detach().cpu().numpy()\n",
    "search_score, search_index = sentence_index.search(prompt_embeddings, 20)\n",
    "search_score, search_index"
   ]
  },
  {
   "cell_type": "code",
   "execution_count": 47,
   "id": "78845ddb-1535-491d-ab04-a06cfd5a3a3a",
   "metadata": {
    "tags": []
   },
   "outputs": [
    {
     "name": "stdout",
     "output_type": "stream",
     "text": [
      "id           9550\n",
      "file    e.parquet\n",
      "Name: 6719713, dtype: object\n"
     ]
    },
    {
     "data": {
      "text/html": [
       "<div>\n",
       "<style scoped>\n",
       "    .dataframe tbody tr th:only-of-type {\n",
       "        vertical-align: middle;\n",
       "    }\n",
       "\n",
       "    .dataframe tbody tr th {\n",
       "        vertical-align: top;\n",
       "    }\n",
       "\n",
       "    .dataframe thead th {\n",
       "        text-align: right;\n",
       "    }\n",
       "</style>\n",
       "<table border=\"1\" class=\"dataframe\">\n",
       "  <thead>\n",
       "    <tr style=\"text-align: right;\">\n",
       "      <th></th>\n",
       "      <th>id</th>\n",
       "      <th>title</th>\n",
       "      <th>text</th>\n",
       "      <th>categories</th>\n",
       "    </tr>\n",
       "  </thead>\n",
       "  <tbody>\n",
       "    <tr>\n",
       "      <th>72499</th>\n",
       "      <td>9550</td>\n",
       "      <td>Electricity</td>\n",
       "      <td>Electricity is the set of physical phenomena a...</td>\n",
       "      <td>[]</td>\n",
       "    </tr>\n",
       "  </tbody>\n",
       "</table>\n",
       "</div>"
      ],
      "text/plain": [
       "         id        title                                               text  \\\n",
       "72499  9550  Electricity  Electricity is the set of physical phenomena a...   \n",
       "\n",
       "      categories  \n",
       "72499         []  "
      ]
     },
     "execution_count": 47,
     "metadata": {},
     "output_type": "execute_result"
    }
   ],
   "source": [
    "row_id = 6719713\n",
    "print(all_df.iloc[row_id])\n",
    "file_df[file_df[\"id\"] == all_df.iloc[row_id].id]"
   ]
  },
  {
   "cell_type": "code",
   "execution_count": 48,
   "id": "5af0147c-e07d-42c3-86eb-1e58692b146c",
   "metadata": {
    "tags": []
   },
   "outputs": [
    {
     "data": {
      "text/html": [
       "<div>\n",
       "<style scoped>\n",
       "    .dataframe tbody tr th:only-of-type {\n",
       "        vertical-align: middle;\n",
       "    }\n",
       "\n",
       "    .dataframe tbody tr th {\n",
       "        vertical-align: top;\n",
       "    }\n",
       "\n",
       "    .dataframe thead th {\n",
       "        text-align: right;\n",
       "    }\n",
       "</style>\n",
       "<table border=\"1\" class=\"dataframe\">\n",
       "  <thead>\n",
       "    <tr style=\"text-align: right;\">\n",
       "      <th></th>\n",
       "      <th>id</th>\n",
       "      <th>file</th>\n",
       "    </tr>\n",
       "  </thead>\n",
       "  <tbody>\n",
       "  </tbody>\n",
       "</table>\n",
       "</div>"
      ],
      "text/plain": [
       "Empty DataFrame\n",
       "Columns: [id, file]\n",
       "Index: []"
      ]
     },
     "execution_count": 48,
     "metadata": {},
     "output_type": "execute_result"
    }
   ],
   "source": [
    "# 含まれていない　https://en.wikipedia.org/w/index.php?title=Electrical_resistivity_and_conductivity&action=info\n",
    "all_df[all_df[\"id\"] == \"61580\"]"
   ]
  },
  {
   "cell_type": "code",
   "execution_count": null,
   "id": "57f1a8a8-9db2-4bee-9150-71f8dd0f5f92",
   "metadata": {},
   "outputs": [],
   "source": []
  },
  {
   "cell_type": "markdown",
   "id": "1cfcbfbd-4159-42b6-b132-d16a49ba092d",
   "metadata": {
    "jp-MarkdownHeadingCollapsed": true,
    "tags": []
   },
   "source": [
    "#### id:65"
   ]
  },
  {
   "cell_type": "code",
   "execution_count": 49,
   "id": "c42abf16-7845-481a-bd67-92f8b6de9932",
   "metadata": {
    "tags": []
   },
   "outputs": [
    {
     "data": {
      "application/vnd.jupyter.widget-view+json": {
       "model_id": "7df2e690178b4c9ca7df3a877382831b",
       "version_major": 2,
       "version_minor": 0
      },
      "text/plain": [
       "Batches:   0%|          | 0/1 [00:00<?, ?it/s]"
      ]
     },
     "metadata": {},
     "output_type": "display_data"
    },
    {
     "data": {
      "text/plain": [
       "(array([[0.66265875, 0.70874953, 0.7234033 , 0.74069417, 0.7741275 ,\n",
       "         0.7742683 , 0.780319  , 0.78573036, 0.78830934, 0.7885235 ,\n",
       "         0.8090006 , 0.8111434 , 0.8143849 , 0.82143414, 0.8238852 ,\n",
       "         0.8292051 , 0.8485422 , 0.85400474, 0.85409874, 0.8563406 ]],\n",
       "       dtype=float32),\n",
       " array([[ 4638886,  9708866, 28709280,  4638880, 10610001,  5692950,\n",
       "          4638885,  9708876, 10305303,  4745051,  9708869, 20694899,\n",
       "         28709282, 25618442,  4638989, 22364488, 10610029, 27960320,\n",
       "         28709286,  2948657]]))"
      ]
     },
     "execution_count": 49,
     "metadata": {},
     "output_type": "execute_result"
    }
   ],
   "source": [
    "# answer も含める場合\n",
    "idx = 65\n",
    "\n",
    "sentence_index.nprobe = 10\n",
    "prompt_embeddings = smodel.encode(\n",
    "    [df.iloc[idx].prompt_answer_stem],\n",
    "    batch_size=8,\n",
    "    device=\"cuda\",\n",
    "    show_progress_bar=True,\n",
    "    # convert_to_tensor=True,\n",
    "    normalize_embeddings=True,\n",
    ")\n",
    "# prompt_embeddings = prompt_embeddings.detach().cpu().numpy()\n",
    "search_score, search_index = sentence_index.search(prompt_embeddings, 20)\n",
    "search_score, search_index"
   ]
  },
  {
   "cell_type": "code",
   "execution_count": 50,
   "id": "a00f9586-86ac-4bcf-819d-98d6595dd0a3",
   "metadata": {
    "tags": []
   },
   "outputs": [
    {
     "data": {
      "application/vnd.jupyter.widget-view+json": {
       "model_id": "98f4f51e6aef4b01ada8072df59b33c1",
       "version_major": 2,
       "version_minor": 0
      },
      "text/plain": [
       "Batches:   0%|          | 0/1 [00:00<?, ?it/s]"
      ]
     },
     "metadata": {},
     "output_type": "display_data"
    },
    {
     "data": {
      "text/plain": [
       "(array([[0.6600527 , 0.68630296, 0.6867917 , 0.7384731 , 0.75806123,\n",
       "         0.7703807 , 0.77907646, 0.7915026 , 0.79507077, 0.7964417 ,\n",
       "         0.7970445 , 0.79819703, 0.7998413 , 0.8006329 , 0.8019266 ,\n",
       "         0.8019775 , 0.8061156 , 0.81213206, 0.82345235, 0.8261176 ]],\n",
       "       dtype=float32),\n",
       " array([[ 9708866,  4745051,  4638886,  9708876,  9708869,  5692950,\n",
       "         10305303, 10610005,  2948657, 10610001, 20694770, 28709282,\n",
       "         20694899,  4638880, 17093942,  4638989, 22364488,  4638885,\n",
       "         10609891, 13074685]]))"
      ]
     },
     "execution_count": 50,
     "metadata": {},
     "output_type": "execute_result"
    }
   ],
   "source": [
    "sentence_index.nprobe = 10\n",
    "prompt_embeddings = smodel.encode(\n",
    "    [df.iloc[idx].prompt],\n",
    "    batch_size=8,\n",
    "    device=\"cuda\",\n",
    "    show_progress_bar=True,\n",
    "    # convert_to_tensor=True,\n",
    "    normalize_embeddings=True,\n",
    ")\n",
    "# prompt_embeddings = prompt_embeddings.detach().cpu().numpy()\n",
    "search_score, search_index = sentence_index.search(prompt_embeddings, 20)\n",
    "search_score, search_index"
   ]
  },
  {
   "cell_type": "code",
   "execution_count": 51,
   "id": "d888fe22-e4ef-4a98-94a3-7360dfa84b64",
   "metadata": {
    "tags": []
   },
   "outputs": [],
   "source": [
    "file_df = pd.read_parquet(f\"../input/wikipedia-20230701/c.parquet\")"
   ]
  },
  {
   "cell_type": "code",
   "execution_count": 52,
   "id": "d32b2a0d-8d62-46fb-a758-53d728207f98",
   "metadata": {
    "tags": []
   },
   "outputs": [
    {
     "name": "stdout",
     "output_type": "stream",
     "text": [
      "id        7985327\n",
      "file    c.parquet\n",
      "Name: 4638886, dtype: object\n"
     ]
    }
   ],
   "source": [
    "row_id = 4638886\n",
    "print(all_df.iloc[row_id])"
   ]
  },
  {
   "cell_type": "code",
   "execution_count": 53,
   "id": "32ee8313-d447-4549-a402-0899cc45f604",
   "metadata": {
    "tags": []
   },
   "outputs": [
    {
     "data": {
      "text/html": [
       "<div>\n",
       "<style scoped>\n",
       "    .dataframe tbody tr th:only-of-type {\n",
       "        vertical-align: middle;\n",
       "    }\n",
       "\n",
       "    .dataframe tbody tr th {\n",
       "        vertical-align: top;\n",
       "    }\n",
       "\n",
       "    .dataframe thead th {\n",
       "        text-align: right;\n",
       "    }\n",
       "</style>\n",
       "<table border=\"1\" class=\"dataframe\">\n",
       "  <thead>\n",
       "    <tr style=\"text-align: right;\">\n",
       "      <th></th>\n",
       "      <th>id</th>\n",
       "      <th>title</th>\n",
       "      <th>text</th>\n",
       "      <th>categories</th>\n",
       "    </tr>\n",
       "  </thead>\n",
       "  <tbody>\n",
       "    <tr>\n",
       "      <th>287979</th>\n",
       "      <td>7985327</td>\n",
       "      <td>Coherence theory (optics)</td>\n",
       "      <td>In physics, coherence theory is the study of o...</td>\n",
       "      <td>[Interferometry, Physical optics]</td>\n",
       "    </tr>\n",
       "  </tbody>\n",
       "</table>\n",
       "</div>"
      ],
      "text/plain": [
       "             id                      title  \\\n",
       "287979  7985327  Coherence theory (optics)   \n",
       "\n",
       "                                                     text  \\\n",
       "287979  In physics, coherence theory is the study of o...   \n",
       "\n",
       "                               categories  \n",
       "287979  [Interferometry, Physical optics]  "
      ]
     },
     "execution_count": 53,
     "metadata": {},
     "output_type": "execute_result"
    }
   ],
   "source": [
    "file_df[file_df[\"id\"] == all_df.iloc[row_id].id]"
   ]
  },
  {
   "cell_type": "code",
   "execution_count": 54,
   "id": "3edebadb-fdae-415a-9fe7-6106acf50fc0",
   "metadata": {
    "tags": []
   },
   "outputs": [
    {
     "data": {
      "text/html": [
       "<div>\n",
       "<style scoped>\n",
       "    .dataframe tbody tr th:only-of-type {\n",
       "        vertical-align: middle;\n",
       "    }\n",
       "\n",
       "    .dataframe tbody tr th {\n",
       "        vertical-align: top;\n",
       "    }\n",
       "\n",
       "    .dataframe thead th {\n",
       "        text-align: right;\n",
       "    }\n",
       "</style>\n",
       "<table border=\"1\" class=\"dataframe\">\n",
       "  <thead>\n",
       "    <tr style=\"text-align: right;\">\n",
       "      <th></th>\n",
       "      <th>id</th>\n",
       "      <th>file</th>\n",
       "    </tr>\n",
       "  </thead>\n",
       "  <tbody>\n",
       "  </tbody>\n",
       "</table>\n",
       "</div>"
      ],
      "text/plain": [
       "Empty DataFrame\n",
       "Columns: [id, file]\n",
       "Index: []"
      ]
     },
     "execution_count": 54,
     "metadata": {},
     "output_type": "execute_result"
    }
   ],
   "source": [
    "all_df[all_df[\"id\"] == \"240011\"]"
   ]
  },
  {
   "cell_type": "markdown",
   "id": "148d925e-78b2-48de-b8a3-962a18602179",
   "metadata": {},
   "source": [
    "### similarity のチェック\n",
    "hitはしているが、優先度が高くない理由を確かめる。必要に応じて別モデルの類似度のほうが良いのかもチェックする"
   ]
  },
  {
   "cell_type": "code",
   "execution_count": 55,
   "id": "49ef1751-eedf-454d-ae2a-59f156913980",
   "metadata": {
    "tags": []
   },
   "outputs": [],
   "source": [
    "df = pd.read_csv(\"../preprocessed/002_gpu/003/train.csv\")\n",
    "df[\"answer_all\"] = df.apply(lambda x: \" \".join([x[\"A\"], x[\"B\"], x[\"C\"], x[\"D\"], x[\"E\"]]), axis=1)\n",
    "df[\"prompt_answer_stem\"] = df[\"prompt\"] + \" \" + df[\"answer_all\"]"
   ]
  },
  {
   "cell_type": "markdown",
   "id": "d18febcf-2b85-4568-b5a8-b28a41591ef5",
   "metadata": {
    "jp-MarkdownHeadingCollapsed": true,
    "tags": []
   },
   "source": [
    "#### id: 28\n",
    "https://en.wikipedia.org/wiki/Supermassive_black_hole#:~:text=In%20February%202021%2C%20astronomers%20released,Array%20(LOFAR)%20in%20Europe.\n",
    "\n",
    "page: 215706"
   ]
  },
  {
   "cell_type": "code",
   "execution_count": 56,
   "id": "0be35b2e-90f4-4dbd-a25f-88cf5d15e7ad",
   "metadata": {
    "tags": []
   },
   "outputs": [
    {
     "name": "stdout",
     "output_type": "stream",
     "text": [
      "What is the evidence for the existence of a supermassive black hole at the center of the Milky Way galaxy? The Milky Way galaxy has a supermassive black hole at its center because of the bright flare activity observed near Sagittarius A*. The radius of the central object must be less than 17 light-hours, because otherwise S2 would collide with it. Observations of the star S14 indicate that the radius is no more than 6.25 light-hours, about the diameter of Uranus' orbit. No known astronomical object other than a black hole can contain 4.0 million M☉ in this volume of space. The Milky Way galaxy has a supermassive black hole at its center because the star S14 follows an elliptical orbit with a period of 15.2 years and a pericenter of 17 light-hours from the center of the central object. From the motion of star S14, the object's mass can be estimated as 4.0 million M☉, or about 7.96×1036 kg. The radius of the central object must be less than 17 light-hours, because otherwise S14 would collide with it. Observations of the star S2 indicate that the radius is no more than 6.25 light-hours, about the diameter of Uranus' orbit. No known astronomical object other than a black hole can contain 4.0 million M☉ in this volume of space. The Milky Way galaxy has a supermassive black hole at its center because of the bright flare activity observed near Sagittarius A*. The radius of the central object must be less than 6.25 light-hours, about the diameter of Uranus' orbit. Observations of the star S2 indicate that the radius is no more than 17 light-hours, because otherwise S2 would collide with it. No known astronomical object other than a black hole can contain 4.0 million M☉ in this volume of space. The Milky Way galaxy has a supermassive black hole at its center because it is the only explanation for the bright flare activity observed near Sagittarius A* at a separation of six to ten times the gravitational radius of the candidate SMBH. The star S2 follows an elliptical orbit with a period of 15.2 years and a pericenter of 17 light-hours from the center of the central object. From the motion of star S2, the object's mass can be estimated as 4.0 million M☉, or about 7.96×1036 kg. The radius of the central object must be less than 17 light-hours, because otherwise S2 would collide with it. Observations of the star S14 indicate that the radius is no more than 6.25 light-hours, about the diameter of Uranus' orbit. No known astronomical object other than a black hole can contain 4.0 million M☉ in this volume of space.\n"
     ]
    }
   ],
   "source": [
    "index = 28\n",
    "page_id = \"215706\"\n",
    "print(df.iloc[index].prompt_answer_stem)"
   ]
  },
  {
   "cell_type": "code",
   "execution_count": 57,
   "id": "0524de6b-fda9-43b0-a705-bb2cb3cc83e5",
   "metadata": {
    "tags": []
   },
   "outputs": [
    {
     "data": {
      "text/plain": [
       "457253    A supermassive black hole (SMBH or sometimes S...\n",
       "Name: text, dtype: object"
      ]
     },
     "execution_count": 57,
     "metadata": {},
     "output_type": "execute_result"
    }
   ],
   "source": [
    "file_df = pd.read_parquet(f\"../input/wikipedia-20230701/s.parquet\")\n",
    "file_df[file_df[\"id\"] == page_id].text"
   ]
  },
  {
   "cell_type": "code",
   "execution_count": 64,
   "id": "ad2a0caf-807e-4fdc-95bd-799d2542130b",
   "metadata": {
    "tags": []
   },
   "outputs": [],
   "source": [
    "import re\n",
    "\n",
    "document = file_df[file_df[\"id\"] == page_id].iloc[0].text\n",
    "\n",
    "# 不要と思われる部分は削除する\n",
    "document = document.split(\"==See also==\")[0]\n",
    "document = document.split(\"== See also ==\")[0]\n",
    "document = document.split(\"==References==\")[0]\n",
    "document = document.split(\"== References ==\")[0]\n",
    "document = document.split(\"==Further reading==\")[0]\n",
    "document = document.split(\"== Further reading ==\")[0]\n",
    "document = document.split(\"==External links==\")[0]\n",
    "document = document.split(\"== External links ==\")[0]\n",
    "\n",
    "# 見出し部分を : に置換\n",
    "pattern = r\"={2,}\\s?(.*?)\\s?={2,}\"\n",
    "document = re.sub(pattern, r\"\\1 :\", document)\n",
    "\n",
    "document_sentences = []\n",
    "_, sentence_offsets = bf.text_to_sentences_and_offsets(document)\n",
    "for o in sentence_offsets:\n",
    "    if o[1] - o[0] > 3:\n",
    "        sentence = document[o[0] : o[1]]\n",
    "        abs_offsets = (o[0], o[1])\n",
    "        row = {}\n",
    "        document_sentences.append(sentence)"
   ]
  },
  {
   "cell_type": "code",
   "execution_count": 65,
   "id": "d4813d33-2c87-4bdb-8b1b-f1f7e51a7b69",
   "metadata": {
    "tags": []
   },
   "outputs": [
    {
     "name": "stdout",
     "output_type": "stream",
     "text": [
      "A supermassive black hole (SMBH or sometimes SBH) is the largest type of black hole, with its mass being on the order of hundreds of thousands, or millions to billions of times the mass of the Sun ().\n"
     ]
    }
   ],
   "source": [
    "wrong_sentence = document_sentences[0]\n",
    "print(wrong_sentence)"
   ]
  },
  {
   "cell_type": "code",
   "execution_count": 66,
   "id": "8850ad29-61dc-440d-bab4-62111a2400d8",
   "metadata": {
    "tags": []
   },
   "outputs": [
    {
     "data": {
      "application/vnd.jupyter.widget-view+json": {
       "model_id": "8fa11f15a69841d6afec8aaf75368f01",
       "version_major": 2,
       "version_minor": 0
      },
      "text/plain": [
       "Batches:   0%|          | 0/1 [00:00<?, ?it/s]"
      ]
     },
     "metadata": {},
     "output_type": "display_data"
    },
    {
     "data": {
      "application/vnd.jupyter.widget-view+json": {
       "model_id": "a164dcd263914b81a022428dbc5e5821",
       "version_major": 2,
       "version_minor": 0
      },
      "text/plain": [
       "Batches:   0%|          | 0/24 [00:00<?, ?it/s]"
      ]
     },
     "metadata": {},
     "output_type": "display_data"
    },
    {
     "name": "stdout",
     "output_type": "stream",
     "text": [
      "0.4537541 In the Milky Way : Evidence indicates that the Milky Way galaxy has a supermassive black hole at its center, 26,000 light-years from the Solar System, in a region called Sagittarius A* because: * The star S2 follows an elliptical orbit with a period of 15.2 years and a pericenter (closest distance) of 17 light-hours ( or 120 AU) from the center of the central object.\n",
      "0.65130067 Observational evidence indicates that almost every large galaxy has a supermassive black hole at its center.\n",
      "0.663813 Individual studies : The nearby Andromeda Galaxy, 2.5 million light-years away, contains a central black hole, significantly larger than the Milky Way's.\n",
      "0.67229897 Observations of the star S14 indicate that the radius is no more than 6.25 light-hours, about the diameter of Uranus' orbit.\n",
      "0.67305374 The largest supermassive black hole in the Milky Way's vicinity appears to be that of Messier 87 (i.e., M87*), at a mass of at a distance of 48.92 million light-years.\n"
     ]
    }
   ],
   "source": [
    "\"\"\"\n",
    "埋め込みを作って、類似度を計算し、上位からスコアとテキストを5件表示する\n",
    "\"\"\"\n",
    "\n",
    "text = df.iloc[index].prompt_answer_stem\n",
    "\n",
    "smodel = SentenceTransformer(\"all-MiniLM-L6-v2\", device=\"cuda\")\n",
    "smodel.max_seq_length = 386\n",
    "smodel = smodel.half()\n",
    "\n",
    "question_embeddings = smodel.encode(\n",
    "    [text],\n",
    "    batch_size=8,\n",
    "    device=\"cuda\",\n",
    "    show_progress_bar=True,\n",
    "    # convert_to_tensor=True,\n",
    "    normalize_embeddings=True,\n",
    ")\n",
    "\n",
    "document_embeddings = smodel.encode(\n",
    "    document_sentences,\n",
    "    batch_size=8,\n",
    "    device=\"cuda\",\n",
    "    show_progress_bar=True,\n",
    "    # convert_to_tensor=True,\n",
    "    normalize_embeddings=True,\n",
    ")\n",
    "\n",
    "num_include = 5\n",
    "\n",
    "prompt_index = faiss.index_factory(document_embeddings.shape[1], \"Flat\")\n",
    "prompt_index.add(document_embeddings)\n",
    "ss, ii = prompt_index.search(question_embeddings, num_include)\n",
    "\n",
    "for i in range(num_include):\n",
    "    print(ss[0, i], document_sentences[ii[0, i]])"
   ]
  },
  {
   "cell_type": "markdown",
   "id": "566d25d4-3451-4b51-85d7-439b02a0b34b",
   "metadata": {
    "tags": []
   },
   "source": [
    "#### id 70"
   ]
  },
  {
   "cell_type": "code",
   "execution_count": 72,
   "id": "ef50362c-79b7-4c8b-81ec-c5d8663e9e7a",
   "metadata": {
    "tags": []
   },
   "outputs": [
    {
     "name": "stdout",
     "output_type": "stream",
     "text": [
      "A magnetic field, precisely aligned with the spin axis.\n",
      "What is the effect generated by a spinning superconductor?\n"
     ]
    }
   ],
   "source": [
    "index = 70\n",
    "page_id = \"26884\"  # https://en.wikipedia.org/w/index.php?title=Superconductivity&action=info\n",
    "print(df.iloc[index][df.iloc[index].answer])\n",
    "print(df.iloc[index].prompt)"
   ]
  },
  {
   "cell_type": "code",
   "execution_count": 73,
   "id": "0529c509-15be-48fe-b356-8e1594cc6882",
   "metadata": {
    "tags": []
   },
   "outputs": [
    {
     "data": {
      "text/plain": [
       "456377    thumb|Video of the Meissner effect in a high-t...\n",
       "Name: text, dtype: object"
      ]
     },
     "execution_count": 73,
     "metadata": {},
     "output_type": "execute_result"
    }
   ],
   "source": [
    "# file_df = pd.read_parquet(f\"../input/wikipedia-20230701/s.parquet\")\n",
    "file_df[file_df[\"id\"] == page_id].text"
   ]
  },
  {
   "cell_type": "code",
   "execution_count": 79,
   "id": "9f28046a-0b49-48e6-886b-e14cfc0e4ca3",
   "metadata": {
    "tags": []
   },
   "outputs": [],
   "source": [
    "import re\n",
    "\n",
    "document = file_df[file_df[\"id\"] == page_id].iloc[0].text\n",
    "\n",
    "# 不要と思われる部分は削除する\n",
    "document = document.split(\"==See also==\")[0]\n",
    "document = document.split(\"== See also ==\")[0]\n",
    "document = document.split(\"==References==\")[0]\n",
    "document = document.split(\"== References ==\")[0]\n",
    "document = document.split(\"==Further reading==\")[0]\n",
    "document = document.split(\"== Further reading ==\")[0]\n",
    "document = document.split(\"==External links==\")[0]\n",
    "document = document.split(\"== External links ==\")[0]\n",
    "\n",
    "# 見出し部分を : に置換\n",
    "pattern = r\"={2,}\\s?(.*?)\\s?={2,}\"\n",
    "document = re.sub(pattern, r\"\\1 :\", document)\n",
    "\n",
    "document_sentences = []\n",
    "_, sentence_offsets = bf.text_to_sentences_and_offsets(document)\n",
    "for o in sentence_offsets:\n",
    "    if o[1] - o[0] > 3:\n",
    "        sentence = document[o[0] : o[1]]\n",
    "        abs_offsets = (o[0], o[1])\n",
    "        row = {}\n",
    "        document_sentences.append(sentence)"
   ]
  },
  {
   "cell_type": "code",
   "execution_count": 80,
   "id": "5ccc2761-cba9-4c04-9c8b-bf48eb454e20",
   "metadata": {
    "tags": []
   },
   "outputs": [
    {
     "data": {
      "application/vnd.jupyter.widget-view+json": {
       "model_id": "317e8d97085347c7b71c5669178f6099",
       "version_major": 2,
       "version_minor": 0
      },
      "text/plain": [
       "Batches:   0%|          | 0/1 [00:00<?, ?it/s]"
      ]
     },
     "metadata": {},
     "output_type": "display_data"
    },
    {
     "data": {
      "application/vnd.jupyter.widget-view+json": {
       "model_id": "979ec178a1f94281afdd0e82fda10c5d",
       "version_major": 2,
       "version_minor": 0
      },
      "text/plain": [
       "Batches:   0%|          | 0/26 [00:00<?, ?it/s]"
      ]
     },
     "metadata": {},
     "output_type": "display_data"
    },
    {
     "name": "stdout",
     "output_type": "stream",
     "text": [
      "0.41832596 London moment : Conversely, a spinning superconductor generates a magnetic field, precisely aligned with the spin axis.\n",
      "0.82812345 This experiment measured the magnetic fields of four superconducting gyroscopes to determine their spin axes.\n",
      "0.838499 It is characterized by the Meissner effect, the complete ejection of magnetic field lines from the interior of the superconductor during its transitions into the superconducting state.\n",
      "0.9291841 The situation is different in a superconductor.\n",
      "0.93931603 Meissner effect : When a superconductor is placed in a weak external magnetic field H, and cooled below its transition temperature, the magnetic field is ejected.\n",
      "0.9738614 This is because the Gibbs free energy of the superconducting phase increases quadratically with the magnetic field while the free energy of the normal phase is roughly independent of the magnetic field.\n",
      "0.9791089 A superconductor with little or no magnetic field within it is said to be in the Meissner state.\n",
      "0.98354465 thumb|Video of the Meissner effect in a high-temperature superconductor (black pellet) with a NdFeB magnet (metallic) thumb|A high-temperature superconductor levitating above a magnet Superconductivity is a set of physical properties observed in certain materials where electrical resistance vanishes and magnetic flux fields are expelled from the material.\n",
      "0.9936387 It has been experimentally demonstrated that, as a consequence, when the magnetic field is increased beyond the critical field, the resulting phase transition leads to a decrease in the temperature of the superconducting material.\n",
      "1.0098852 By using the London equation, one can obtain the dependence of the magnetic field inside the superconductor on the distance to the surface.\n"
     ]
    }
   ],
   "source": [
    "\"\"\"\n",
    "埋め込みを作って、類似度を計算し、上位からスコアとテキストを5件表示する\n",
    "\"\"\"\n",
    "\n",
    "text = df.iloc[index].prompt_answer_stem\n",
    "\n",
    "smodel = SentenceTransformer(\"all-MiniLM-L6-v2\", device=\"cuda\")\n",
    "smodel.max_seq_length = 386\n",
    "smodel = smodel.half()\n",
    "\n",
    "question_embeddings = smodel.encode(\n",
    "    [text],\n",
    "    batch_size=8,\n",
    "    device=\"cuda\",\n",
    "    show_progress_bar=True,\n",
    "    # convert_to_tensor=True,\n",
    "    normalize_embeddings=True,\n",
    ")\n",
    "\n",
    "document_embeddings = smodel.encode(\n",
    "    document_sentences,\n",
    "    batch_size=8,\n",
    "    device=\"cuda\",\n",
    "    show_progress_bar=True,\n",
    "    # convert_to_tensor=True,\n",
    "    normalize_embeddings=True,\n",
    ")\n",
    "\n",
    "num_include = 10\n",
    "\n",
    "prompt_index = faiss.index_factory(document_embeddings.shape[1], \"Flat\")\n",
    "prompt_index.add(document_embeddings)\n",
    "ss, ii = prompt_index.search(question_embeddings, num_include)\n",
    "\n",
    "for i in range(num_include):\n",
    "    print(ss[0, i], document_sentences[ii[0, i]])"
   ]
  },
  {
   "cell_type": "markdown",
   "id": "8ee19496-b8c0-42d5-8ac4-1d4a8239c524",
   "metadata": {},
   "source": [
    "#### id:72"
   ]
  },
  {
   "cell_type": "code",
   "execution_count": 81,
   "id": "d8030633-00c2-4572-936b-cd14e77e0978",
   "metadata": {
    "tags": []
   },
   "outputs": [
    {
     "name": "stdout",
     "output_type": "stream",
     "text": [
      "A device used to determine the density of a liquid.\n",
      "What is a pycnometer?\n"
     ]
    }
   ],
   "source": [
    "index = 72\n",
    "page_id = \"37379\"  # https://en.wikipedia.org/wiki/Relative_density\n",
    "print(df.iloc[index][df.iloc[index].answer])\n",
    "print(df.iloc[index].prompt)"
   ]
  },
  {
   "cell_type": "code",
   "execution_count": 82,
   "id": "63a621db-6c23-41d3-9624-fd54d8eb5937",
   "metadata": {
    "tags": []
   },
   "outputs": [
    {
     "data": {
      "text/plain": [
       "82277    {\\rho_\\mathrm{H_2O}} }} Relative density, or s...\n",
       "Name: text, dtype: object"
      ]
     },
     "execution_count": 82,
     "metadata": {},
     "output_type": "execute_result"
    }
   ],
   "source": [
    "file_df = pd.read_parquet(f\"../input/wikipedia-20230701/r.parquet\")\n",
    "file_df[file_df[\"id\"] == page_id].text"
   ]
  },
  {
   "cell_type": "code",
   "execution_count": 85,
   "id": "a60611e7-0438-4c5c-a435-371dd0c073e8",
   "metadata": {
    "tags": []
   },
   "outputs": [],
   "source": [
    "import re\n",
    "\n",
    "document = file_df[file_df[\"id\"] == page_id].iloc[0].text\n",
    "\n",
    "# 不要と思われる部分は削除する\n",
    "document = document.split(\"==See also==\")[0]\n",
    "document = document.split(\"== See also ==\")[0]\n",
    "document = document.split(\"==References==\")[0]\n",
    "document = document.split(\"== References ==\")[0]\n",
    "document = document.split(\"==Further reading==\")[0]\n",
    "document = document.split(\"== Further reading ==\")[0]\n",
    "document = document.split(\"==External links==\")[0]\n",
    "document = document.split(\"== External links ==\")[0]\n",
    "\n",
    "# 見出し部分を : に置換\n",
    "pattern = r\"={2,}\\s?(.*?)\\s?={2,}\"\n",
    "document = re.sub(pattern, r\"\\1 :\", document)\n",
    "\n",
    "document_sentences = []\n",
    "_, sentence_offsets = bf.text_to_sentences_and_offsets(document)\n",
    "for o in sentence_offsets:\n",
    "    if o[1] - o[0] > 3:\n",
    "        sentence = document[o[0] : o[1]]\n",
    "        abs_offsets = (o[0], o[1])\n",
    "        row = {}\n",
    "        document_sentences.append(sentence)"
   ]
  },
  {
   "cell_type": "code",
   "execution_count": 86,
   "id": "ba8dbef5-c6c9-4eff-9bfd-229fd1101957",
   "metadata": {
    "tags": []
   },
   "outputs": [
    {
     "data": {
      "application/vnd.jupyter.widget-view+json": {
       "model_id": "c70a7808a6c041989429a5bd8119d59e",
       "version_major": 2,
       "version_minor": 0
      },
      "text/plain": [
       "Batches:   0%|          | 0/1 [00:00<?, ?it/s]"
      ]
     },
     "metadata": {},
     "output_type": "display_data"
    },
    {
     "data": {
      "application/vnd.jupyter.widget-view+json": {
       "model_id": "eaafc7eae9b74fc78e87236c81b8b93e",
       "version_major": 2,
       "version_minor": 0
      },
      "text/plain": [
       "Batches:   0%|          | 0/21 [00:00<?, ?it/s]"
      ]
     },
     "metadata": {},
     "output_type": "display_data"
    },
    {
     "name": "stdout",
     "output_type": "stream",
     "text": [
      "0.3426491 A gas pycnometer, the gas-based manifestation of a pycnometer, compares the change in pressure caused by a measured change in a closed volume containing a reference (usually a steel sphere of known volume) with the change in pressure caused by the sample under the same conditions.\n",
      "0.50191444 A pycnometer is usually made of glass, with a close-fitting ground glass stopper with a capillary tube through it, so that air bubbles may escape from the apparatus.\n",
      "0.6370988 This shows that, for small Δx, changes in displacement are approximately proportional to changes in relative density. ===Pycnometer=== thumb|upright|An empty glass pycnometer and stopper thumb|upright|A filled pycnometer A pycnometer (from ), also called pyknometer or specific gravity bottle, is a device used to determine the density of a liquid.\n",
      "0.772531 When a pycnometer is filled to a specific, but not necessarily accurately known volume, V and is placed upon a balance, it will exert a force F_\\mathrm{b} = g\\left(m_\\mathrm{b} - \\rho_\\mathrm{a}\\frac{m_\\mathrm{b}}{\\rho_\\mathrm{b}}\\right), where mb is the mass of the bottle and g the gravitational acceleration at the location at which the measurements are being made. ρa is the density of the air at the ambient pressure and ρb is the density of the material of which the bottle is made (usually glass) so that the second term is the mass of air displaced by the glass of the bottle whose weight, by Archimedes Principle must be subtracted.\n",
      "0.7825608 The difference in change of pressure represents the volume of the sample as compared to the reference sphere, and is usually used for solid particulates that may dissolve in the liquid medium of the pycnometer design described above, or for porous materials into which the liquid would not fully penetrate.\n",
      "0.8165711 The pycnometer is then filled with a liquid of known density, in which the powder is completely insoluble.\n",
      "0.90674925 The pycnometer is used in ISO standard: ISO 1183-1:2004, ISO 1014–1985 and ASTM standard: ASTM D854.\n",
      "0.9407495 The powder is added to the pycnometer, which is then weighed, giving the weight of the powder sample.\n",
      "1.098768 The particle density of a powder, to which the usual method of weighing cannot be applied, can also be determined with a pycnometer.\n",
      "1.1398998 Nor does RDA depend on the actual volume of the pycnometer.\n"
     ]
    }
   ],
   "source": [
    "\"\"\"\n",
    "埋め込みを作って、類似度を計算し、上位からスコアとテキストを5件表示する\n",
    "\"\"\"\n",
    "\n",
    "text = df.iloc[index].prompt_answer_stem\n",
    "\n",
    "smodel = SentenceTransformer(\"all-MiniLM-L6-v2\", device=\"cuda\")\n",
    "smodel.max_seq_length = 386\n",
    "smodel = smodel.half()\n",
    "\n",
    "question_embeddings = smodel.encode(\n",
    "    [text],\n",
    "    batch_size=8,\n",
    "    device=\"cuda\",\n",
    "    show_progress_bar=True,\n",
    "    # convert_to_tensor=True,\n",
    "    normalize_embeddings=True,\n",
    ")\n",
    "\n",
    "document_embeddings = smodel.encode(\n",
    "    document_sentences,\n",
    "    batch_size=8,\n",
    "    device=\"cuda\",\n",
    "    show_progress_bar=True,\n",
    "    # convert_to_tensor=True,\n",
    "    normalize_embeddings=True,\n",
    ")\n",
    "\n",
    "num_include = 10\n",
    "\n",
    "prompt_index = faiss.index_factory(document_embeddings.shape[1], \"Flat\")\n",
    "prompt_index.add(document_embeddings)\n",
    "ss, ii = prompt_index.search(question_embeddings, num_include)\n",
    "\n",
    "for i in range(num_include):\n",
    "    print(ss[0, i], document_sentences[ii[0, i]])"
   ]
  },
  {
   "cell_type": "code",
   "execution_count": null,
   "id": "94d1ce6f-72da-4af6-ac4d-ce5e213c2822",
   "metadata": {},
   "outputs": [],
   "source": []
  },
  {
   "cell_type": "code",
   "execution_count": 89,
   "id": "4e5df378-9e0d-4431-9aee-cdbe5f09916e",
   "metadata": {
    "tags": []
   },
   "outputs": [
    {
     "data": {
      "text/plain": [
       "'0.6370988 This shows that, for small Δx, changes in displacement are approximately proportional to changes in relative density. ===Pycnometer=== filled pycnometer A pycnometer (from ), also called pyknometer or specific gravity bottle, is a device used to determine the density of a liquid.'"
      ]
     },
     "execution_count": 89,
     "metadata": {},
     "output_type": "execute_result"
    }
   ],
   "source": [
    "text = \"0.6370988 This shows that, for small Δx, changes in displacement are approximately proportional to changes in relative density. ===Pycnometer=== thumb|upright|An empty glass pycnometer and stopper thumb|upright|A filled pycnometer A pycnometer (from ), also called pyknometer or specific gravity bottle, is a device used to determine the density of a liquid.\"\n",
    "pattern = r\" thumb\\|([^A-Z]+)([A-Z])([^A-Z]+)([A-Z])\"\n",
    "\n",
    "# 正規表現パターンにマッチする部分を削除\n",
    "text_without_sentences = re.sub(pattern, r\"\", text)\n",
    "text_without_sentences"
   ]
  },
  {
   "cell_type": "code",
   "execution_count": 90,
   "id": "0e2d6f62-544f-46e7-b2d4-c05f822f194c",
   "metadata": {
    "tags": []
   },
   "outputs": [
    {
     "data": {
      "text/html": [
       "<div>\n",
       "<style scoped>\n",
       "    .dataframe tbody tr th:only-of-type {\n",
       "        vertical-align: middle;\n",
       "    }\n",
       "\n",
       "    .dataframe tbody tr th {\n",
       "        vertical-align: top;\n",
       "    }\n",
       "\n",
       "    .dataframe thead th {\n",
       "        text-align: right;\n",
       "    }\n",
       "</style>\n",
       "<table border=\"1\" class=\"dataframe\">\n",
       "  <thead>\n",
       "    <tr style=\"text-align: right;\">\n",
       "      <th></th>\n",
       "      <th>id</th>\n",
       "      <th>file</th>\n",
       "    </tr>\n",
       "  </thead>\n",
       "  <tbody>\n",
       "  </tbody>\n",
       "</table>\n",
       "</div>"
      ],
      "text/plain": [
       "Empty DataFrame\n",
       "Columns: [id, file]\n",
       "Index: []"
      ]
     },
     "execution_count": 90,
     "metadata": {},
     "output_type": "execute_result"
    }
   ],
   "source": []
  },
  {
   "cell_type": "markdown",
   "id": "8636bfa1-11b1-4f62-9064-e2843657abe8",
   "metadata": {
    "jp-MarkdownHeadingCollapsed": true,
    "tags": []
   },
   "source": [
    "## 005?くらいのやつ"
   ]
  },
  {
   "cell_type": "code",
   "execution_count": 41,
   "id": "68c89737-9cdd-4f9e-a5aa-73db44876751",
   "metadata": {
    "tags": []
   },
   "outputs": [
    {
     "name": "stdout",
     "output_type": "stream",
     "text": [
      "【id】: 17\n",
      "【prompt】: What is the butterfly effect?\n",
      "【A】: The butterfly effect is a physical cause that occurs when a massive sphere is caused to roll down a slope starting from a point of unstable equilibrium, and its velocity is assumed to be caused by the force of gravity accelerating it.\n",
      "【B】: The butterfly effect is a distributed causality that opens up the opportunity to understand the relationship between necessary and sufficient conditions in classical (Newtonian) physics.\n",
      "【C】: The butterfly effect is a proportionality between the cause and the effect of a physical phenomenon in classical (Newtonian) physics.\n",
      "【D】: The butterfly effect is a small push that is needed to set a massive sphere into motion when it is caused to roll down a slope starting from a point of unstable equilibrium.\n",
      "【E】: The butterfly effect is a phenomenon that highlights the difference between the application of the notion of causality in physics and a more general use of causality as represented by Mackie's INUS conditions.\n",
      "【answer】: E\n",
      "【context】: The butterfly effect describes a phenomenon in chaos theory whereby a minor change in circumstances can cause a large change in outcome. In chaos theory, the butterfly effect is the sensitive dependence on initial conditions in which a small change in one state of a deterministic nonlinear system can result in large differences in a later state. Whereas the classical butterfly effect considers the effect of a small change in the position and/or velocity of an object in a given Hamiltonian system, the quantum butterfly effect considers the effect of a small change in the Hamiltonian system with a given initial position and velocity. He noted that the butterfly effect is derived from the metaphorical example of the details of a tornado (the exact time of formation, the exact path taken) being influenced by minor perturbations such as a distant butterfly flapping its wings several weeks earlier. The butterfly effect concept has since been used outside the context of weather science as a broad term for any situation where a small change is supposed to be the cause of larger consequences. ==History== In The Vocation of Man (1800), Johann Gottlieb Fichte says \"you could not remove a single grain of sand from its place without thereby ... changing something throughout all parts of the immeasurable whole\". \n",
      "【preds】: D\n",
      "【input】: The butterfly effect describes a phenomenon in chaos theory whereby a minor change in circumstances can cause a large change in outcome. In chaos theory, the butterfly effect is the sensitive dependence on initial conditions in which a small change in one state of a deterministic nonlinear system can result in large differences in a later state. Whereas the classical butterfly effect considers the effect of a small change in the position and/or velocity of an object in a given Hamiltonian system, the quantum butterfly effect considers the effect of a small change in the Hamiltonian system with a given... [SEP] What is the butterfly effect?\n"
     ]
    }
   ],
   "source": [
    "\"\"\"\n",
    "ミスの原因？\n",
    "\n",
    "- hitしたwikipediaが違う\n",
    " - 正解：https://en.wikipedia.org/wiki/Causality_(physics)\n",
    " - 間違い：butterfly effect\n",
    "\n",
    "\n",
    "タイトルと１行目からでは分からない内容を抽出しているので、現状のretrieval の方法ではカバーするのが難しい\n",
    "\"\"\"\n",
    "print_wrong(1)"
   ]
  },
  {
   "cell_type": "code",
   "execution_count": 44,
   "id": "0838303f-5f03-4011-9590-1c987044d544",
   "metadata": {
    "tags": []
   },
   "outputs": [
    {
     "name": "stdout",
     "output_type": "stream",
     "text": [
      "【id】: 18\n",
      "【prompt】: What is the 'reactive Leidenfrost effect' observed in non-volatile materials?\n",
      "【A】: The 'reactive Leidenfrost effect' is a phenomenon where solid particles float above hot surfaces and move erratically, observed in non-volatile materials.\n",
      "【B】: The 'reactive Leidenfrost effect' is a phenomenon where solid particles float above hot surfaces and move erratically, observed in volatile materials.\n",
      "【C】: The 'reactive Leidenfrost effect' is a phenomenon where solid particles sink into hot surfaces and move slowly, observed in non-volatile materials.\n",
      "【D】: The 'reactive Leidenfrost effect' is a phenomenon where solid particles float above cold surfaces and move erratically, observed in non-volatile materials.\n",
      "【E】: The 'reactive Leidenfrost effect' is a phenomenon where solid particles sink into cold surfaces and move slowly, observed in non-volatile materials.\n",
      "【answer】: A\n",
      "【context】: The new phenomenon of a 'reactive Leidenfrost (RL) effect' was characterized by a dimensionless quantity, (φRL= τconv/τrxn), which relates the time constant of solid particle heat transfer to the time constant of particle reaction, with the reactive Leidenfrost effect occurring for 10−1< φRL< 10+1. The Leidenfrost temperatures for glycerol and common alcohols are significantly smaller because of their lower surface tension values (density and viscosity differences are also contributing factors.) == Reactive Leidenfrost effect == thumb|Reactive Leidenfrost effect of cellulose on silica, Non-volatile materials were discovered in 2015 to also exhibit a 'reactive Leidenfrost effect', whereby solid particles were observed to float above hot surfaces and skitter around erratically. When the temperature exceeds the Leidenfrost point, the Leidenfrost effect appears. The temperature of the solid surface beyond which the liquid undergoes the Leidenfrost phenomenon is termed the Leidenfrost temperature. The Leidenfrost effect has also been used as a means to promote chemical change of various organic liquids through their conversion by thermal decomposition into various products. \n",
      "【preds】: C\n",
      "【input】: The new phenomenon of a 'reactive Leidenfrost (RL) effect' was characterized by a dimensionless quantity, (φRL= τconv/τrxn), which relates the time constant of solid particle heat transfer to the time constant of particle reaction, with the reactive Leidenfrost effect occurring for 10−1< φRL< 10+1. The Leidenfrost temperatures for glycerol and common alcohols are significantly smaller because of their lower surface tension values (density and viscosity differences are also contributing factors.) == Reactive Leidenfrost effect == thumb|Reactive Leidenfrost effect of cellulose on silica, Non-volatile materials were discovered in 2015 to also exhibit a 'reactive Leidenfrost effect', whereby solid particles were observed... [SEP] What is the 'reactive Leidenfrost effect' observed in non-volatile materials?\n"
     ]
    }
   ],
   "source": [
    "\"\"\"\n",
    "ミスの原因？\n",
    "\n",
    "\n",
    "- 抽出はできているが優先順位が低いのでcutされる\n",
    "  - >  == Reactive Leidenfrost effect == thumb|Reactive Leidenfrost effect of cellulose on silica, Non-volatile materials were discovered in 2015 to also exhibit a 'reactive Leidenfrost effect', whereby solid particles were observed to float above hot surfaces and skitter around erratically. \n",
    "→各選択肢との類似度を取ればcutされずに上位に入りそう\n",
    "\"\"\"\n",
    "print_wrong(2)"
   ]
  },
  {
   "cell_type": "code",
   "execution_count": 45,
   "id": "46fb57e9-2a93-4a0b-9aaf-efc11538c778",
   "metadata": {
    "tags": []
   },
   "outputs": [
    {
     "name": "stdout",
     "output_type": "stream",
     "text": [
      "【id】: 28\n",
      "【prompt】: What is the evidence for the existence of a supermassive black hole at the center of the Milky Way galaxy?\n",
      "【A】: The Milky Way galaxy has a supermassive black hole at its center because of the bright flare activity observed near Sagittarius A*. The radius of the central object must be less than 17 light-hours, because otherwise S2 would collide with it. Observations of the star S14 indicate that the radius is no more than 6.25 light-hours, about the diameter of Uranus' orbit. No known astronomical object other than a black hole can contain 4.0 million M☉ in this volume of space.\n",
      "【B】: The Milky Way galaxy has a supermassive black hole at its center because the star S14 follows an elliptical orbit with a period of 15.2 years and a pericenter of 17 light-hours from the center of the central object. From the motion of star S14, the object's mass can be estimated as 4.0 million M☉, or about 7.96×1036 kg. The radius of the central object must be less than 17 light-hours, because otherwise S14 would collide with it. Observations of the star S2 indicate that the radius is no more than 6.25 light-hours, about the diameter of Uranus' orbit. No known astronomical object other than a black hole can contain 4.0 million M☉ in this volume of space.\n",
      "【C】: The Milky Way galaxy has a supermassive black hole at its center because of the bright flare activity observed near Sagittarius A*. The radius of the central object must be less than 6.25 light-hours, about the diameter of Uranus' orbit. Observations of the star S2 indicate that the radius is no more than 17 light-hours, because otherwise S2 would collide with it. No known astronomical object other than a black hole can contain 4.0 million M☉ in this volume of space.\n",
      "【D】: The Milky Way galaxy has a supermassive black hole at its center because it is the only explanation for the bright flare activity observed near Sagittarius A* at a separation of six to ten times the gravitational radius of the candidate SMBH.\n",
      "【E】: The star S2 follows an elliptical orbit with a period of 15.2 years and a pericenter of 17 light-hours from the center of the central object. From the motion of star S2, the object's mass can be estimated as 4.0 million M☉, or about 7.96×1036 kg. The radius of the central object must be less than 17 light-hours, because otherwise S2 would collide with it. Observations of the star S14 indicate that the radius is no more than 6.25 light-hours, about the diameter of Uranus' orbit. No known astronomical object other than a black hole can contain 4.0 million M☉ in this volume of space.\n",
      "【answer】: E\n",
      "【context】: Professor Andrea Ghez et al. suggested in 2014 that G2 is not a gas cloud but rather a pair of binary stars that had been orbiting the black hole in tandem and merged into an extremely large star. ==See also== * * List of nearest known black holes ==Notes== ==References== * * * * * * * * ==Further reading== * * * * * * * * * * ==External links== * UCLA Galactic Center Group – latest results retrieved 8/12/2009 * Is there a Supermassive Black Hole at the Center of the Milky Way? (arXiv preprint) * 2004 paper deducing mass of central black hole from orbits of 7 stars (arXiv preprint) * ESO video clip of orbiting star (533 KB MPEG Video) * The Proper Motion of Sgr A* and the Mass of Sgr A* (PDF) * NRAO article regarding VLBI radio imaging of Sgr A* * Peering into a Black Hole, 2015 New York Times video * Image of supermassive black hole Sagittarius A* (2022), Harvard Center for Astrophysics * (NSF; 12 May 2022) Category:Articles containing video clips Category:Astronomical objects discovered in 1974 Category:Astronomical radio sources Category:Supermassive black holes Category:Galactic Center From examining the Keplerian orbit of S2, they determined the mass of Sagittarius A* to be solar masses, confined in a volume with a radius no more than 17 light-hours ().Ghez et al. (2003) \"The First Measurement of Spectral Lines in a Short-Period Star Bound to the Galaxy's Central Black Hole: A Paradox of Youth\" Astrophysical Journal 586 L127 Later observations of the star S14 showed the mass of the object to be about 4.1 million solar masses within a volume with radius no larger than 6.25 light- hours (). Based on mass and increasingly precise radius limits, astronomers concluded that Sagittarius A* must be the Milky Way's central supermassive black hole. The stellar orbits in the Galactic Center show that the central mass concentration of four million solar masses must be a black hole, beyond any reasonable doubt.\"O'Neill 2008 On January 5, 2015, NASA reported observing an X-ray flare 400 times brighter than usual, a record-breaker, from Sgr A*. The comparatively small mass of this supermassive black hole, along with the low luminosity of the radio and infrared emission lines, imply that the Milky Way is not a Seyfert galaxy. \n",
      "【preds】: B\n",
      "【input】: Professor Andrea Ghez et al. suggested in 2014 that G2 is not a gas cloud but rather a pair of binary stars that had been orbiting the black hole in tandem and merged into an extremely large star. ==See also== * * List of nearest known black holes ==Notes== ==References== * * * * * * * * ==Further reading== * * * * * * * * * * ==External links== * UCLA Galactic Center Group – latest results retrieved 8/12/2009 * Is there a Supermassive Black Hole at the Center of the Milky Way? (arXiv preprint) * 2004... [SEP] What is the evidence for the existence of a supermassive black hole at the center of the Milky Way galaxy?\n"
     ]
    }
   ],
   "source": [
    "\"\"\"\n",
    "ミスの原因？\n",
    "\n",
    "hit はしているがうまく抽出できていない\n",
    "- 必要なS2に関する情報をhttps://en.wikipedia.org/wiki/Supermassive_black_hole　から取得できていない\n",
    "- Referencesなどの不要なものが上位に入ってしまっている\n",
    "→各選択肢との類似度を取ればcutされずに上位に入りそう\n",
    "\"\"\"\n",
    "print_wrong(3)"
   ]
  },
  {
   "cell_type": "code",
   "execution_count": 46,
   "id": "4f937a2a-0a7f-40e4-a91b-0c6053e1216a",
   "metadata": {
    "tags": []
   },
   "outputs": [
    {
     "name": "stdout",
     "output_type": "stream",
     "text": [
      "【id】: 35\n",
      "【prompt】: What was the aim of the Gravity Probe B (GP-B) mission?\n",
      "【A】: To prove that pressure contributes equally to spacetime curvature as does mass-energy.\n",
      "【B】: To measure spacetime curvature near Earth, with particular emphasis on gravitomagnetism.\n",
      "【C】: To measure the distribution of Fe and Al on the Moon's surface.\n",
      "【D】: To confirm the relatively large geodetic effect due to simple spacetime curvature, and is also known as de Sitter precession.\n",
      "【E】: To measure the discrepancy between active and passive mass to about 10−12.\n",
      "【answer】: B\n",
      "【context】: Gravity Probe B (GP-B) was a satellite-based experiment to test two unverified predictions of general relativity: the geodetic effect and frame-dragging. In a public press and media event at NASA Headquarters, GP-B Principal Investigator, Francis Everitt presented the final results of Gravity Probe B. ;19 November 2015 : Publication of GP-B Special Volume (Volume #32, Issue #22) in the peer-reviewed journal, Classical and Quantum Gravity. Final science results were reported in 2011. ==Experimental setup== thumb The Gravity Probe B experiment comprised four London moment gyroscopes and a reference telescope sighted on IM Pegasi, a binary star in the constellation Pegasus. Gravity Probe may refer to: * Gravity Probe A * Gravity Probe B de:Gravity Probe Gravity Probe B was expected to measure this effect to an accuracy of one part in 10,000, the most stringent check on general relativistic predictions to date. \n",
      "【preds】: D\n",
      "【input】: Gravity Probe B (GP-B) was a satellite-based experiment to test two unverified predictions of general relativity: the geodetic effect and frame-dragging. In a public press and media event at NASA Headquarters, GP-B Principal Investigator, Francis Everitt presented the final results of Gravity Probe B. ;19 November 2015 : Publication of GP-B Special Volume (Volume #32, Issue #22) in the peer-reviewed journal, Classical and Quantum Gravity. Final science results were reported in 2011. ==Experimental setup== thumb The Gravity Probe B experiment comprised four London moment gyroscopes and a reference telescope sighted on IM Pegasi, a binary star in the constellation Pegasus.... [SEP] What was the aim of the Gravity Probe B (GP-B) mission?\n"
     ]
    }
   ],
   "source": [
    "\"\"\"\n",
    "ミスの原因？\n",
    "\n",
    "- hitしたwikipediaが違う\n",
    " - 不正解：https://en.wikipedia.org/wiki/Gravity_Probe_B\n",
    " - 正解：https://en.wikipedia.org/wiki/Spacetime\n",
    "\"\"\"\n",
    "print_wrong(4)"
   ]
  },
  {
   "cell_type": "code",
   "execution_count": 47,
   "id": "5dac9962-266d-487a-84fd-bd3881a7116b",
   "metadata": {
    "tags": []
   },
   "outputs": [
    {
     "name": "stdout",
     "output_type": "stream",
     "text": [
      "【id】: 39\n",
      "【prompt】: What is the synapstor or synapse transistor?\n",
      "【A】: A device used to demonstrate a neuro-inspired circuit that shows short-term potentiation for learning and inactivity-based forgetting.\n",
      "【B】: A device used to demonstrate a neuro-inspired circuit that shows long-term potentiation for learning and activity-based forgetting.\n",
      "【C】: A device used to demonstrate a neuro-inspired circuit that shows short-term depression for learning and inactivity-based forgetting.\n",
      "【D】: A device used to demonstrate a neuro-inspired circuit that shows short-term potentiation for learning and activity-based forgetting.\n",
      "【E】: A device used to demonstrate a neuro-inspired circuit that shows long-term potentiation for learning and inactivity-based forgetting.\n",
      "【answer】: E\n",
      "【context】: A synaptic transistor is an electrical device that can learn in ways similar to a neural synapse. The input and output of the synaptic transistor are continuous analog values, rather than digital on-off signals. A network of such devices can learn particular responses to \"sensory inputs\", with those responses being learned through experience rather than explicitly programmed. ==References== Category:Transistor types Category:Artificial neural networks While the physical structure of the device has the potential to learn from history, it contains no way to bias the transistor to control the memory effect. Synapse is a peer-reviewed scientific journal of neuroscience published in New York City by Wiley-Liss to address basic science topics on synaptic function and structure. \n",
      "【preds】: A\n",
      "【input】: A synaptic transistor is an electrical device that can learn in ways similar to a neural synapse. The input and output of the synaptic transistor are continuous analog values, rather than digital on-off signals. A network of such devices can learn particular responses to \"sensory inputs\", with those responses being learned through experience rather than explicitly programmed. ==References== Category:Transistor types Category:Artificial neural networks While the physical structure of the device has the potential to learn from history, it contains no way to bias the transistor to control the memory effect. Synapse is a peer-reviewed scientific journal of neuroscience published in... [SEP] What is the synapstor or synapse transistor?\n"
     ]
    }
   ],
   "source": [
    "\"\"\"\n",
    "ミスの原因？\n",
    "\n",
    "- hitしたwikipediaが違う\n",
    " - 不正解：https://en.wikipedia.org/wiki/Synaptic_transistor\n",
    " - 正解：https://en.wikipedia.org/wiki/Memristor\n",
    "\"\"\"\n",
    "print_wrong(5)"
   ]
  },
  {
   "cell_type": "code",
   "execution_count": 48,
   "id": "ada3cad3-ffdd-40c1-a4ad-3b97331cbd97",
   "metadata": {
    "tags": []
   },
   "outputs": [
    {
     "name": "stdout",
     "output_type": "stream",
     "text": [
      "【id】: 41\n",
      "【prompt】: What is the proper distance for a redshift of 8.2?\n",
      "【A】: The proper distance for a redshift of 8.2 is about 6.2 Gpc, or about 24 billion light-years.\n",
      "【B】: The proper distance for a redshift of 8.2 is about 7.2 Gpc, or about 26 billion light-years.\n",
      "【C】: The proper distance for a redshift of 8.2 is about 9.2 Gpc, or about 30 billion light-years.\n",
      "【D】: The proper distance for a redshift of 8.2 is about 8.2 Gpc, or about 28 billion light-years.\n",
      "【E】: The proper distance for a redshift of 8.2 is about 10.2 Gpc, or about 32 billion light-years.\n",
      "【answer】: C\n",
      "【context】: __NOTOC__ MACS0647-JD is a galaxy with a redshift of about z = 10.7, equivalent to a light travel distance of 13.26 billion light-years (4 billion parsecs). Using Hubble's law, the redshift can be used to estimate the distance of an object from Earth. Photometric redshifts were originally determined by calculating the expected observed data from a known emission spectrum at a range of redshifts. In the absence of sufficient telescope time to determine a spectroscopic redshift for each object, the technique of photometric redshifts provides a method to determine an at least qualitative characterization of a redshift. A photometric redshift is an estimate for the recession velocity of an astronomical object such as a galaxy or quasar, made without measuring its spectrum. \n",
      "【preds】: E\n",
      "【input】: __NOTOC__ MACS0647-JD is a galaxy with a redshift of about z = 10.7, equivalent to a light travel distance of 13.26 billion light-years (4 billion parsecs). Using Hubble's law, the redshift can be used to estimate the distance of an object from Earth. Photometric redshifts were originally determined by calculating the expected observed data from a known emission spectrum at a range of redshifts. In the absence of sufficient telescope time to determine a spectroscopic redshift for each object, the technique of photometric redshifts provides a method to determine an at least qualitative characterization of a redshift. A photometric redshift... [SEP] What is the proper distance for a redshift of 8.2?\n"
     ]
    }
   ],
   "source": [
    "\"\"\"\n",
    "ミスの原因？\n",
    "\n",
    "- hitしたwikipediaが違う\n",
    " - 不正解: https://en.wikipedia.org/wiki/MACS0647-JD\n",
    " - 正解：https://en.wikipedia.org/wiki/Observable_universe\n",
    "\"\"\"\n",
    "print_wrong(6)"
   ]
  },
  {
   "cell_type": "code",
   "execution_count": 49,
   "id": "199220cf-227d-49b4-8c9c-bef2d5cdabcc",
   "metadata": {
    "tags": []
   },
   "outputs": [
    {
     "name": "stdout",
     "output_type": "stream",
     "text": [
      "【id】: 53\n",
      "【prompt】: What did Newton adopt after his correspondence with Hooke in 1679-1680?\n",
      "【A】: The language of inward or centripetal force.\n",
      "【B】: The language of gravitational force.\n",
      "【C】: The language of outward or centrifugal force.\n",
      "【D】: The language of tangential and radial displacements.\n",
      "【E】: The language of electromagnetic force.\n",
      "【answer】: A\n",
      "【context】: Newton and Hooke had brief exchanges in 1679–80, when Hooke, appointed to manage the Royal Society's correspondence, opened up a correspondence intended to elicit contributions from Newton to Royal Society transactions, which had the effect of stimulating Newton to work out a proof that the elliptical form of planetary orbits would result from a centripetal force inversely proportional to the square of the radius vector. Newton was well-versed in both classics and modern languages. In the , Newton formulated the laws of motion and universal gravitation that formed the dominant scientific viewpoint for centuries until it was superseded by the theory of relativity. A draft letter regarding the matter is included in Newton's personal first edition of Philosophiæ Naturalis Principia Mathematica, which he must have been amending at the time. This followed stimulation by a brief exchange of letters in 1679–80 with Hooke, who had been appointed to manage the Royal Society's correspondence, and who opened a correspondence intended to elicit contributions from Newton to Royal Society transactions. \n",
      "【preds】: D\n",
      "【input】: Newton and Hooke had brief exchanges in 1679–80, when Hooke, appointed to manage the Royal Society's correspondence, opened up a correspondence intended to elicit contributions from Newton to Royal Society transactions, which had the effect of stimulating Newton to work out a proof that the elliptical form of planetary orbits would result from a centripetal force inversely proportional to the square of the radius vector. Newton was well-versed in both classics and modern languages. In the , Newton formulated the laws of motion and universal gravitation that formed the dominant scientific viewpoint for centuries until it was superseded by the... [SEP] What did Newton adopt after his correspondence with Hooke in 1679-1680?\n"
     ]
    }
   ],
   "source": [
    "\"\"\"\n",
    "ミスの原因？\n",
    "\n",
    "- hitしたwikipediaが違う\n",
    "    - 不正解：https://en.wikipedia.org/wiki/Isaac_Newton\n",
    "    - 正解：https://en.wikipedia.org/wiki/Newton%27s_law_of_universal_gravitation\n",
    "\"\"\"\n",
    "print_wrong(7)"
   ]
  },
  {
   "cell_type": "code",
   "execution_count": null,
   "id": "2796f6db-fd2b-48c9-83b9-7b37c28c9678",
   "metadata": {},
   "outputs": [],
   "source": []
  }
 ],
 "metadata": {
  "kernelspec": {
   "display_name": "Python [conda env:root] *",
   "language": "python",
   "name": "conda-root-py"
  },
  "language_info": {
   "codemirror_mode": {
    "name": "ipython",
    "version": 3
   },
   "file_extension": ".py",
   "mimetype": "text/x-python",
   "name": "python",
   "nbconvert_exporter": "python",
   "pygments_lexer": "ipython3",
   "version": "3.10.12"
  }
 },
 "nbformat": 4,
 "nbformat_minor": 5
}
