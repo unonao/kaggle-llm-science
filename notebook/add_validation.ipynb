{
 "cells": [
  {
   "cell_type": "markdown",
   "id": "c4fc651c-6534-4f89-8096-16c97aec868b",
   "metadata": {},
   "source": [
    "## localとpublicが相関しなくなってきたので、validationを増やして相関するかどうかをチェックしてみる"
   ]
  },
  {
   "cell_type": "code",
   "execution_count": 1,
   "id": "e2c110b4-a150-4fce-b463-dbcd15608fe6",
   "metadata": {
    "tags": []
   },
   "outputs": [],
   "source": [
    "import ctypes\n",
    "import gc\n",
    "\n",
    "import torch\n",
    "\n",
    "libc = ctypes.CDLL(\"libc.so.6\")\n",
    "\n",
    "from dataclasses import dataclass\n",
    "from typing import Optional, Union\n",
    "\n",
    "import numpy as np\n",
    "import pandas as pd\n",
    "import torch\n",
    "from datasets import Dataset\n",
    "from torch.utils.data import DataLoader\n",
    "from transformers import AutoModel, AutoModelForMultipleChoice, AutoTokenizer, Trainer, TrainingArguments\n",
    "from transformers.tokenization_utils_base import PaddingStrategy, PreTrainedTokenizerBase"
   ]
  },
  {
   "cell_type": "code",
   "execution_count": 3,
   "id": "04f3b834-e6d4-4474-8521-32736dfab095",
   "metadata": {
    "tags": []
   },
   "outputs": [],
   "source": [
    "# https://www.kaggle.com/code/philippsinger/h2ogpt-perplexity-ranking\n",
    "def precision_at_k(r, k):\n",
    "    \"\"\"Precision at k\"\"\"\n",
    "    assert k <= len(r)\n",
    "    assert k != 0\n",
    "    return sum(int(x) for x in r[:k]) / k\n",
    "\n",
    "\n",
    "def map_k(true_items, predictions, K=3):\n",
    "    \"\"\"Score is mean average precision at 3\"\"\"\n",
    "    U = len(predictions)\n",
    "    map_at_k = 0.0\n",
    "    for u in range(U):\n",
    "        user_preds = predictions[u]\n",
    "        user_true = true_items[u]\n",
    "        user_results = [1 if item == user_true else 0 for item in user_preds]\n",
    "        for k in range(min(len(user_preds), K)):\n",
    "            map_at_k += precision_at_k(user_results, k + 1) * user_results[k]\n",
    "    return map_at_k / U\n",
    "\n",
    "\n",
    "import numpy as np\n",
    "\n",
    "\n",
    "def predictions_to_map_output(predictions):\n",
    "    sorted_answer_indices = np.argsort(-predictions)  # Sortting indices in descending order\n",
    "    top_answer_indices = sorted_answer_indices[:, :]  # Taking the first three indices for each row\n",
    "    top_answers = np.vectorize(index_to_option.get)(\n",
    "        top_answer_indices\n",
    "    )  # Transforming indices to options - i.e., 0 --> A\n",
    "    return np.apply_along_axis(lambda row: \" \".join(row), 1, top_answers)\n",
    "\n",
    "\n",
    "@dataclass\n",
    "class DataCollatorForMultipleChoice:\n",
    "    tokenizer: PreTrainedTokenizerBase\n",
    "    padding: Union[bool, str, PaddingStrategy] = True\n",
    "    max_length: Optional[int] = None\n",
    "    pad_to_multiple_of: Optional[int] = None\n",
    "\n",
    "    def __call__(self, features):\n",
    "        label_name = \"label\" if \"label\" in features[0].keys() else \"labels\"\n",
    "        labels = [feature.pop(label_name) for feature in features]\n",
    "        batch_size = len(features)\n",
    "        num_choices = len(features[0][\"input_ids\"])\n",
    "        flattened_features = [\n",
    "            [{k: v[i] for k, v in feature.items()} for i in range(num_choices)] for feature in features\n",
    "        ]\n",
    "        flattened_features = sum(flattened_features, [])\n",
    "\n",
    "        batch = self.tokenizer.pad(\n",
    "            flattened_features,\n",
    "            padding=self.padding,\n",
    "            max_length=self.max_length,\n",
    "            pad_to_multiple_of=self.pad_to_multiple_of,\n",
    "            return_tensors=\"pt\",\n",
    "        )\n",
    "        batch = {k: v.view(batch_size, num_choices, -1) for k, v in batch.items()}\n",
    "        batch[\"labels\"] = torch.tensor(labels, dtype=torch.int64)\n",
    "        return batch"
   ]
  },
  {
   "cell_type": "code",
   "execution_count": 4,
   "id": "7fb0f1a0-dd9a-49ee-a91e-eafd765dfc76",
   "metadata": {
    "tags": []
   },
   "outputs": [],
   "source": [
    "df_valid = pd.read_csv(\"../preprocessed/000_base/000/train.csv\")\n",
    "\n",
    "models = [\n",
    "    {\"path\": \"../output/005_retrieval/001/checkpoint-39563\", \"mode\": \"005\"},\n",
    "    {\"path\": \"../output/005_retrieval/000/checkpoint-14625\", \"mode\": \"005\"},\n",
    "    {\"path\": \"../output/004_retrieval_truncate/001/checkpoint-41100\", \"mode\": \"004\"},\n",
    "    {\"path\": \"../output/004_retrieval_truncate/000/checkpoint-21125\", \"mode\": \"004\"},\n",
    "    {\"path\": \"../output/003_retrieval/000/checkpoint-16250\", \"mode\": \"003\"},\n",
    "    {\"path\": \"../output/002_additional_datas/002/checkpoint-54804\", \"mode\": \"002\"},\n",
    "    {\"path\": \"../output/002_additional_datas/001/checkpoint-43840\", \"mode\": \"002\"},\n",
    "    {\"path\": \"../output/002_additional_datas/000/checkpoint-36550\", \"mode\": \"002\"},\n",
    "    {\"path\": \"../output/001_additional_data/004/checkpoint-6504\", \"mode\": \"002\"},\n",
    "]"
   ]
  },
  {
   "cell_type": "code",
   "execution_count": 5,
   "id": "9cfea0b0-3e3d-4237-befa-9b5aa1e95939",
   "metadata": {
    "tags": []
   },
   "outputs": [],
   "source": [
    "torch.cuda.empty_cache()"
   ]
  },
  {
   "cell_type": "code",
   "execution_count": 7,
   "id": "0ea4b843-460a-4e8f-a2eb-48dbf734a44c",
   "metadata": {
    "tags": []
   },
   "outputs": [
    {
     "data": {
      "application/vnd.jupyter.widget-view+json": {
       "model_id": "f9b62d8a81fc4f638b9e1d6ab6935606",
       "version_major": 2,
       "version_minor": 0
      },
      "text/plain": [
       "Map:   0%|          | 0/1200 [00:00<?, ? examples/s]"
      ]
     },
     "metadata": {},
     "output_type": "display_data"
    },
    {
     "name": "stderr",
     "output_type": "stream",
     "text": [
      "You're using a DebertaV2TokenizerFast tokenizer. Please note that with a fast tokenizer, using the `__call__` method is faster than using a method to encode the text followed by a call to the `pad` method to get a padded encoding.\n"
     ]
    },
    {
     "name": "stdout",
     "output_type": "stream",
     "text": [
      "{'path': '../output/005_retrieval/001/checkpoint-39563', 'mode': '005'}\n",
      "{'old_map@3': 0.8683333333333336, 'new_map@3': 0.8152777777777804}\n"
     ]
    },
    {
     "data": {
      "application/vnd.jupyter.widget-view+json": {
       "model_id": "573b4ea85faa4d2dbbdc9347f7d3b672",
       "version_major": 2,
       "version_minor": 0
      },
      "text/plain": [
       "Map:   0%|          | 0/1200 [00:00<?, ? examples/s]"
      ]
     },
     "metadata": {},
     "output_type": "display_data"
    },
    {
     "name": "stderr",
     "output_type": "stream",
     "text": [
      "You're using a DebertaV2TokenizerFast tokenizer. Please note that with a fast tokenizer, using the `__call__` method is faster than using a method to encode the text followed by a call to the `pad` method to get a padded encoding.\n"
     ]
    },
    {
     "name": "stdout",
     "output_type": "stream",
     "text": [
      "{'path': '../output/005_retrieval/000/checkpoint-14625', 'mode': '005'}\n",
      "{'old_map@3': 0.7049999999999998, 'new_map@3': 0.6580555555555573}\n"
     ]
    },
    {
     "data": {
      "application/vnd.jupyter.widget-view+json": {
       "model_id": "b749a1264eab4ea49ab9e7f1afc84760",
       "version_major": 2,
       "version_minor": 0
      },
      "text/plain": [
       "Map:   0%|          | 0/1200 [00:00<?, ? examples/s]"
      ]
     },
     "metadata": {},
     "output_type": "display_data"
    },
    {
     "name": "stderr",
     "output_type": "stream",
     "text": [
      "You're using a DebertaV2TokenizerFast tokenizer. Please note that with a fast tokenizer, using the `__call__` method is faster than using a method to encode the text followed by a call to the `pad` method to get a padded encoding.\n"
     ]
    },
    {
     "name": "stdout",
     "output_type": "stream",
     "text": [
      "{'path': '../output/004_retrieval_truncate/001/checkpoint-41100', 'mode': '004'}\n",
      "{'old_map@3': 0.8516666666666669, 'new_map@3': 0.8125000000000023}\n"
     ]
    },
    {
     "data": {
      "application/vnd.jupyter.widget-view+json": {
       "model_id": "0f7f8f3abb7f4a429e691f4d54b4fa13",
       "version_major": 2,
       "version_minor": 0
      },
      "text/plain": [
       "Map:   0%|          | 0/1200 [00:00<?, ? examples/s]"
      ]
     },
     "metadata": {},
     "output_type": "display_data"
    },
    {
     "name": "stderr",
     "output_type": "stream",
     "text": [
      "You're using a DebertaV2TokenizerFast tokenizer. Please note that with a fast tokenizer, using the `__call__` method is faster than using a method to encode the text followed by a call to the `pad` method to get a padded encoding.\n"
     ]
    },
    {
     "name": "stdout",
     "output_type": "stream",
     "text": [
      "{'path': '../output/004_retrieval_truncate/000/checkpoint-21125', 'mode': '004'}\n",
      "{'old_map@3': 0.7433333333333332, 'new_map@3': 0.6461111111111124}\n"
     ]
    },
    {
     "data": {
      "application/vnd.jupyter.widget-view+json": {
       "model_id": "7303e1f08f5e43e1b0a9f5c54116aec8",
       "version_major": 2,
       "version_minor": 0
      },
      "text/plain": [
       "Map:   0%|          | 0/1200 [00:00<?, ? examples/s]"
      ]
     },
     "metadata": {},
     "output_type": "display_data"
    },
    {
     "name": "stderr",
     "output_type": "stream",
     "text": [
      "You're using a DebertaV2TokenizerFast tokenizer. Please note that with a fast tokenizer, using the `__call__` method is faster than using a method to encode the text followed by a call to the `pad` method to get a padded encoding.\n"
     ]
    },
    {
     "name": "stdout",
     "output_type": "stream",
     "text": [
      "{'path': '../output/003_retrieval/000/checkpoint-16250', 'mode': '003'}\n",
      "{'old_map@3': 0.7166666666666666, 'new_map@3': 0.6611111111111124}\n"
     ]
    },
    {
     "data": {
      "application/vnd.jupyter.widget-view+json": {
       "model_id": "a6ce37eb8e6d46e9a630fbeb87056fb1",
       "version_major": 2,
       "version_minor": 0
      },
      "text/plain": [
       "Map:   0%|          | 0/1200 [00:00<?, ? examples/s]"
      ]
     },
     "metadata": {},
     "output_type": "display_data"
    },
    {
     "name": "stderr",
     "output_type": "stream",
     "text": [
      "You're using a DebertaV2TokenizerFast tokenizer. Please note that with a fast tokenizer, using the `__call__` method is faster than using a method to encode the text followed by a call to the `pad` method to get a padded encoding.\n"
     ]
    },
    {
     "name": "stdout",
     "output_type": "stream",
     "text": [
      "{'path': '../output/002_additional_datas/002/checkpoint-54804', 'mode': '002'}\n",
      "{'old_map@3': 0.8183333333333335, 'new_map@3': 0.7552777777777812}\n"
     ]
    },
    {
     "data": {
      "application/vnd.jupyter.widget-view+json": {
       "model_id": "b88f68e8718b49dc8f6d3125d50b2ccc",
       "version_major": 2,
       "version_minor": 0
      },
      "text/plain": [
       "Map:   0%|          | 0/1200 [00:00<?, ? examples/s]"
      ]
     },
     "metadata": {},
     "output_type": "display_data"
    },
    {
     "name": "stderr",
     "output_type": "stream",
     "text": [
      "You're using a DebertaV2TokenizerFast tokenizer. Please note that with a fast tokenizer, using the `__call__` method is faster than using a method to encode the text followed by a call to the `pad` method to get a padded encoding.\n"
     ]
    },
    {
     "name": "stdout",
     "output_type": "stream",
     "text": [
      "{'path': '../output/002_additional_datas/001/checkpoint-43840', 'mode': '002'}\n",
      "{'old_map@3': 0.7250000000000001, 'new_map@3': 0.7186111111111146}\n"
     ]
    },
    {
     "data": {
      "application/vnd.jupyter.widget-view+json": {
       "model_id": "ba7443f93d874a7598d02c29ae24edb3",
       "version_major": 2,
       "version_minor": 0
      },
      "text/plain": [
       "Map:   0%|          | 0/1200 [00:00<?, ? examples/s]"
      ]
     },
     "metadata": {},
     "output_type": "display_data"
    },
    {
     "name": "stderr",
     "output_type": "stream",
     "text": [
      "You're using a DebertaV2TokenizerFast tokenizer. Please note that with a fast tokenizer, using the `__call__` method is faster than using a method to encode the text followed by a call to the `pad` method to get a padded encoding.\n"
     ]
    },
    {
     "name": "stdout",
     "output_type": "stream",
     "text": [
      "{'path': '../output/002_additional_datas/000/checkpoint-36550', 'mode': '002'}\n",
      "{'old_map@3': 0.7049999999999998, 'new_map@3': 0.7375000000000037}\n"
     ]
    },
    {
     "data": {
      "application/vnd.jupyter.widget-view+json": {
       "model_id": "f1813c90b6524402a6a1587fd5b80ab5",
       "version_major": 2,
       "version_minor": 0
      },
      "text/plain": [
       "Map:   0%|          | 0/1200 [00:00<?, ? examples/s]"
      ]
     },
     "metadata": {},
     "output_type": "display_data"
    },
    {
     "name": "stderr",
     "output_type": "stream",
     "text": [
      "You're using a DebertaV2TokenizerFast tokenizer. Please note that with a fast tokenizer, using the `__call__` method is faster than using a method to encode the text followed by a call to the `pad` method to get a padded encoding.\n"
     ]
    },
    {
     "name": "stdout",
     "output_type": "stream",
     "text": [
      "{'path': '../output/001_additional_data/004/checkpoint-6504', 'mode': '002'}\n",
      "{'old_map@3': 0.6499999999999995, 'new_map@3': 0.533888888888889}\n"
     ]
    }
   ],
   "source": [
    "all_preds = []\n",
    "all_labels = []\n",
    "for model_dict in models:\n",
    "    tokenizer = AutoTokenizer.from_pretrained(model_dict[\"path\"])\n",
    "\n",
    "    test_df = pd.concat(\n",
    "        [\n",
    "            pd.read_csv(\"../preprocessed/000_base/000/train.csv\"),\n",
    "            pd.read_csv(\"../preprocessed/000_base/000/6000_all_categories_questions.csv\").head(500),\n",
    "            pd.read_csv(\"../preprocessed/000_base/000/6000_wiki_en_sci_questions.csv\").head(500),\n",
    "        ]\n",
    "    ).reset_index(drop=True)\n",
    "    test_df[\"id\"] = test_df.index\n",
    "\n",
    "    option_to_index = {option: idx for idx, option in enumerate(\"ABCDE\")}\n",
    "    index_to_option = {v: k for k, v in option_to_index.items()}\n",
    "\n",
    "    if model_dict[\"mode\"] == \"002\":\n",
    "\n",
    "        def preprocess(example):\n",
    "            first_sentence = [example[\"prompt\"]] * 5\n",
    "            second_sentences = [example[option] for option in \"ABCDE\"]\n",
    "            tokenized_example = tokenizer(first_sentence, second_sentences, truncation=False)\n",
    "            tokenized_example[\"label\"] = option_to_index[example[\"answer\"]]\n",
    "            return tokenized_example\n",
    "\n",
    "        tokenized_test_dataset = Dataset.from_pandas(test_df.drop(columns=[\"id\"])).map(\n",
    "            preprocess, remove_columns=[\"context\", \"prompt\", \"A\", \"B\", \"C\", \"D\", \"E\", \"answer\"]\n",
    "        )\n",
    "\n",
    "    elif model_dict[\"mode\"] == \"003\":\n",
    "        test_df[\"prompt\"] = test_df[\"context\"].str.slice(0, 800) + \" #### \" + test_df[\"prompt\"]\n",
    "\n",
    "        def preprocess(example):\n",
    "            first_sentence = [example[\"prompt\"]] * 5\n",
    "            second_sentences = [example[option] for option in \"ABCDE\"]\n",
    "            tokenized_example = tokenizer(first_sentence, second_sentences, truncation=False)\n",
    "            tokenized_example[\"label\"] = option_to_index[example[\"answer\"]]\n",
    "            return tokenized_example\n",
    "\n",
    "        tokenized_test_dataset = Dataset.from_pandas(test_df.drop(columns=[\"id\"])).map(\n",
    "            preprocess, remove_columns=[\"context\", \"prompt\", \"A\", \"B\", \"C\", \"D\", \"E\", \"answer\"]\n",
    "        )\n",
    "\n",
    "    elif model_dict[\"mode\"] == \"004\":\n",
    "        test_df[\"prompt\"] = test_df[\"prompt\"] + \" ## \" + test_df[\"context\"]\n",
    "\n",
    "        def preprocess(example):\n",
    "            first_sentence = [example[\"prompt\"]] * 5\n",
    "            second_sentences = [example[option] for option in \"ABCDE\"]\n",
    "            tokenized_example = tokenizer(first_sentence, second_sentences, truncation=True, max_length=384)\n",
    "            tokenized_example[\"label\"] = option_to_index[example[\"answer\"]]\n",
    "            return tokenized_example\n",
    "\n",
    "        tokenized_test_dataset = Dataset.from_pandas(test_df.drop(columns=[\"id\"])).map(\n",
    "            preprocess, remove_columns=[\"context\", \"prompt\", \"A\", \"B\", \"C\", \"D\", \"E\", \"answer\"]\n",
    "        )\n",
    "\n",
    "    elif model_dict[\"mode\"] == \"005\":\n",
    "        test_df[\"prompt\"] = (\n",
    "            test_df[\"context\"].apply(lambda x: \" \".join(x.split()[:100])) + f\"... [SEP] \" + test_df[\"prompt\"]\n",
    "        )\n",
    "\n",
    "        def preprocess(example):\n",
    "            first_sentence = [example[\"prompt\"]] * 5\n",
    "            second_sentences = [example[option] for option in \"ABCDE\"]\n",
    "            tokenized_example = tokenizer(first_sentence, second_sentences, truncation=False)\n",
    "            tokenized_example[\"label\"] = option_to_index[example[\"answer\"]]\n",
    "            return tokenized_example\n",
    "\n",
    "        tokenized_test_dataset = Dataset.from_pandas(test_df.drop(columns=[\"id\"])).map(\n",
    "            preprocess, remove_columns=[\"context\", \"prompt\", \"A\", \"B\", \"C\", \"D\", \"E\", \"answer\"]\n",
    "        )\n",
    "\n",
    "    data_collator = DataCollatorForMultipleChoice(tokenizer=tokenizer)\n",
    "    test_dataloader = DataLoader(\n",
    "        tokenized_test_dataset,\n",
    "        1,\n",
    "        shuffle=False,\n",
    "        collate_fn=data_collator,\n",
    "    )\n",
    "\n",
    "    model = AutoModelForMultipleChoice.from_pretrained(model_dict[\"path\"]).cuda()\n",
    "    model.eval()\n",
    "    preds = []\n",
    "    labels = []\n",
    "    for batch in test_dataloader:\n",
    "        for k in batch.keys():\n",
    "            batch[k] = batch[k].cuda()\n",
    "        with torch.no_grad():\n",
    "            outputs = model(**batch)\n",
    "        labels.append(batch[\"labels\"].cpu().detach())\n",
    "        preds.append(outputs.logits.cpu().detach())\n",
    "\n",
    "    preds = torch.cat(preds)\n",
    "    labels = torch.cat(labels)\n",
    "\n",
    "    result_dict = {\n",
    "        \"old_map@3\": map_k(df_valid[\"answer\"].to_numpy(), predictions_to_map_output(preds[: len(df_valid), :])),\n",
    "        \"new_map@3\": map_k(test_df[\"answer\"].to_numpy(), predictions_to_map_output(preds)),\n",
    "    }\n",
    "\n",
    "    print(model_dict)\n",
    "    print(result_dict)\n",
    "    del model\n",
    "    _ = gc.collect()\n",
    "    libc.malloc_trim(0)\n",
    "    torch.cuda.empty_cache()"
   ]
  },
  {
   "cell_type": "code",
   "execution_count": 10,
   "id": "2df7553d-905a-48b4-b15d-fc14d1d0fc85",
   "metadata": {
    "tags": []
   },
   "outputs": [
    {
     "data": {
      "application/vnd.jupyter.widget-view+json": {
       "model_id": "2d8a742d57d34a9e97017486abfa05ba",
       "version_major": 2,
       "version_minor": 0
      },
      "text/plain": [
       "Map:   0%|          | 0/800 [00:00<?, ? examples/s]"
      ]
     },
     "metadata": {},
     "output_type": "display_data"
    },
    {
     "name": "stderr",
     "output_type": "stream",
     "text": [
      "You're using a DebertaV2TokenizerFast tokenizer. Please note that with a fast tokenizer, using the `__call__` method is faster than using a method to encode the text followed by a call to the `pad` method to get a padded encoding.\n"
     ]
    },
    {
     "name": "stdout",
     "output_type": "stream",
     "text": [
      "{'path': '../output/005_retrieval/001/checkpoint-39563', 'mode': '005'}\n",
      "{'old_map@3': 0.8683333333333336, 'new_map@3': 0.8229166666666677}\n"
     ]
    },
    {
     "data": {
      "application/vnd.jupyter.widget-view+json": {
       "model_id": "f820292bae444c529f057e872450f3ea",
       "version_major": 2,
       "version_minor": 0
      },
      "text/plain": [
       "Map:   0%|          | 0/800 [00:00<?, ? examples/s]"
      ]
     },
     "metadata": {},
     "output_type": "display_data"
    },
    {
     "name": "stderr",
     "output_type": "stream",
     "text": [
      "You're using a DebertaV2TokenizerFast tokenizer. Please note that with a fast tokenizer, using the `__call__` method is faster than using a method to encode the text followed by a call to the `pad` method to get a padded encoding.\n"
     ]
    },
    {
     "name": "stdout",
     "output_type": "stream",
     "text": [
      "{'path': '../output/005_retrieval/000/checkpoint-14625', 'mode': '005'}\n",
      "{'old_map@3': 0.7049999999999998, 'new_map@3': 0.6795833333333325}\n"
     ]
    },
    {
     "data": {
      "application/vnd.jupyter.widget-view+json": {
       "model_id": "c8184a51a2384b07befeb67ddb5aa684",
       "version_major": 2,
       "version_minor": 0
      },
      "text/plain": [
       "Map:   0%|          | 0/800 [00:00<?, ? examples/s]"
      ]
     },
     "metadata": {},
     "output_type": "display_data"
    },
    {
     "name": "stderr",
     "output_type": "stream",
     "text": [
      "You're using a DebertaV2TokenizerFast tokenizer. Please note that with a fast tokenizer, using the `__call__` method is faster than using a method to encode the text followed by a call to the `pad` method to get a padded encoding.\n"
     ]
    },
    {
     "name": "stdout",
     "output_type": "stream",
     "text": [
      "{'path': '../output/004_retrieval_truncate/001/checkpoint-41100', 'mode': '004'}\n",
      "{'old_map@3': 0.8516666666666669, 'new_map@3': 0.8141666666666668}\n"
     ]
    },
    {
     "data": {
      "application/vnd.jupyter.widget-view+json": {
       "model_id": "7b90e10189b946f9856a98d9ebdf25d7",
       "version_major": 2,
       "version_minor": 0
      },
      "text/plain": [
       "Map:   0%|          | 0/800 [00:00<?, ? examples/s]"
      ]
     },
     "metadata": {},
     "output_type": "display_data"
    },
    {
     "name": "stderr",
     "output_type": "stream",
     "text": [
      "You're using a DebertaV2TokenizerFast tokenizer. Please note that with a fast tokenizer, using the `__call__` method is faster than using a method to encode the text followed by a call to the `pad` method to get a padded encoding.\n"
     ]
    },
    {
     "name": "stdout",
     "output_type": "stream",
     "text": [
      "{'path': '../output/004_retrieval_truncate/000/checkpoint-21125', 'mode': '004'}\n",
      "{'old_map@3': 0.7433333333333332, 'new_map@3': 0.6762499999999991}\n"
     ]
    },
    {
     "data": {
      "application/vnd.jupyter.widget-view+json": {
       "model_id": "2184183455fd4d5b8bf1d5a99d7d8d39",
       "version_major": 2,
       "version_minor": 0
      },
      "text/plain": [
       "Map:   0%|          | 0/800 [00:00<?, ? examples/s]"
      ]
     },
     "metadata": {},
     "output_type": "display_data"
    },
    {
     "name": "stderr",
     "output_type": "stream",
     "text": [
      "You're using a DebertaV2TokenizerFast tokenizer. Please note that with a fast tokenizer, using the `__call__` method is faster than using a method to encode the text followed by a call to the `pad` method to get a padded encoding.\n"
     ]
    },
    {
     "name": "stdout",
     "output_type": "stream",
     "text": [
      "{'path': '../output/003_retrieval/000/checkpoint-16250', 'mode': '003'}\n",
      "{'old_map@3': 0.7166666666666666, 'new_map@3': 0.6866666666666663}\n"
     ]
    },
    {
     "data": {
      "application/vnd.jupyter.widget-view+json": {
       "model_id": "b0c823f12db14f5687bb0457b1641d1b",
       "version_major": 2,
       "version_minor": 0
      },
      "text/plain": [
       "Map:   0%|          | 0/800 [00:00<?, ? examples/s]"
      ]
     },
     "metadata": {},
     "output_type": "display_data"
    },
    {
     "name": "stderr",
     "output_type": "stream",
     "text": [
      "You're using a DebertaV2TokenizerFast tokenizer. Please note that with a fast tokenizer, using the `__call__` method is faster than using a method to encode the text followed by a call to the `pad` method to get a padded encoding.\n"
     ]
    },
    {
     "name": "stdout",
     "output_type": "stream",
     "text": [
      "{'path': '../output/002_additional_datas/002/checkpoint-54804', 'mode': '002'}\n",
      "{'old_map@3': 0.8183333333333335, 'new_map@3': 0.7504166666666664}\n"
     ]
    },
    {
     "data": {
      "application/vnd.jupyter.widget-view+json": {
       "model_id": "4a7445efd80e42c8ac89e66a356cacbb",
       "version_major": 2,
       "version_minor": 0
      },
      "text/plain": [
       "Map:   0%|          | 0/800 [00:00<?, ? examples/s]"
      ]
     },
     "metadata": {},
     "output_type": "display_data"
    },
    {
     "name": "stderr",
     "output_type": "stream",
     "text": [
      "You're using a DebertaV2TokenizerFast tokenizer. Please note that with a fast tokenizer, using the `__call__` method is faster than using a method to encode the text followed by a call to the `pad` method to get a padded encoding.\n"
     ]
    },
    {
     "name": "stdout",
     "output_type": "stream",
     "text": [
      "{'path': '../output/002_additional_datas/001/checkpoint-43840', 'mode': '002'}\n",
      "{'old_map@3': 0.7250000000000001, 'new_map@3': 0.6766666666666658}\n"
     ]
    },
    {
     "data": {
      "application/vnd.jupyter.widget-view+json": {
       "model_id": "d54a4ba737894bf5a5ee56642bea96d7",
       "version_major": 2,
       "version_minor": 0
      },
      "text/plain": [
       "Map:   0%|          | 0/800 [00:00<?, ? examples/s]"
      ]
     },
     "metadata": {},
     "output_type": "display_data"
    },
    {
     "name": "stderr",
     "output_type": "stream",
     "text": [
      "You're using a DebertaV2TokenizerFast tokenizer. Please note that with a fast tokenizer, using the `__call__` method is faster than using a method to encode the text followed by a call to the `pad` method to get a padded encoding.\n"
     ]
    },
    {
     "name": "stdout",
     "output_type": "stream",
     "text": [
      "{'path': '../output/002_additional_datas/000/checkpoint-36550', 'mode': '002'}\n",
      "{'old_map@3': 0.7049999999999998, 'new_map@3': 0.6824999999999989}\n"
     ]
    },
    {
     "data": {
      "application/vnd.jupyter.widget-view+json": {
       "model_id": "985f17721d024238b7f5176268dd1676",
       "version_major": 2,
       "version_minor": 0
      },
      "text/plain": [
       "Map:   0%|          | 0/800 [00:00<?, ? examples/s]"
      ]
     },
     "metadata": {},
     "output_type": "display_data"
    },
    {
     "name": "stderr",
     "output_type": "stream",
     "text": [
      "You're using a DebertaV2TokenizerFast tokenizer. Please note that with a fast tokenizer, using the `__call__` method is faster than using a method to encode the text followed by a call to the `pad` method to get a padded encoding.\n"
     ]
    },
    {
     "name": "stdout",
     "output_type": "stream",
     "text": [
      "{'path': '../output/001_additional_data/004/checkpoint-6504', 'mode': '002'}\n",
      "{'old_map@3': 0.6499999999999995, 'new_map@3': 0.5520833333333318}\n"
     ]
    }
   ],
   "source": [
    "all_preds = []\n",
    "all_labels = []\n",
    "for model_dict in models:\n",
    "    tokenizer = AutoTokenizer.from_pretrained(model_dict[\"path\"])\n",
    "\n",
    "    test_df = pd.concat(\n",
    "        [\n",
    "            pd.read_csv(\"../preprocessed/000_base/000/train.csv\"),\n",
    "            pd.read_csv(\"../preprocessed/000_base/000/6000_all_categories_questions.csv\").head(200),\n",
    "            pd.read_csv(\"../preprocessed/000_base/000/6000_wiki_en_sci_questions.csv\").head(400),\n",
    "        ]\n",
    "    ).reset_index(drop=True)\n",
    "    test_df[\"id\"] = test_df.index\n",
    "\n",
    "    option_to_index = {option: idx for idx, option in enumerate(\"ABCDE\")}\n",
    "    index_to_option = {v: k for k, v in option_to_index.items()}\n",
    "\n",
    "    if model_dict[\"mode\"] == \"002\":\n",
    "\n",
    "        def preprocess(example):\n",
    "            first_sentence = [example[\"prompt\"]] * 5\n",
    "            second_sentences = [example[option] for option in \"ABCDE\"]\n",
    "            tokenized_example = tokenizer(first_sentence, second_sentences, truncation=False)\n",
    "            tokenized_example[\"label\"] = option_to_index[example[\"answer\"]]\n",
    "            return tokenized_example\n",
    "\n",
    "        tokenized_test_dataset = Dataset.from_pandas(test_df.drop(columns=[\"id\"])).map(\n",
    "            preprocess, remove_columns=[\"context\", \"prompt\", \"A\", \"B\", \"C\", \"D\", \"E\", \"answer\"]\n",
    "        )\n",
    "\n",
    "    elif model_dict[\"mode\"] == \"003\":\n",
    "        test_df[\"prompt\"] = test_df[\"context\"].str.slice(0, 800) + \" #### \" + test_df[\"prompt\"]\n",
    "\n",
    "        def preprocess(example):\n",
    "            first_sentence = [example[\"prompt\"]] * 5\n",
    "            second_sentences = [example[option] for option in \"ABCDE\"]\n",
    "            tokenized_example = tokenizer(first_sentence, second_sentences, truncation=False)\n",
    "            tokenized_example[\"label\"] = option_to_index[example[\"answer\"]]\n",
    "            return tokenized_example\n",
    "\n",
    "        tokenized_test_dataset = Dataset.from_pandas(test_df.drop(columns=[\"id\"])).map(\n",
    "            preprocess, remove_columns=[\"context\", \"prompt\", \"A\", \"B\", \"C\", \"D\", \"E\", \"answer\"]\n",
    "        )\n",
    "\n",
    "    elif model_dict[\"mode\"] == \"004\":\n",
    "        test_df[\"prompt\"] = test_df[\"prompt\"] + \" ## \" + test_df[\"context\"]\n",
    "\n",
    "        def preprocess(example):\n",
    "            first_sentence = [example[\"prompt\"]] * 5\n",
    "            second_sentences = [example[option] for option in \"ABCDE\"]\n",
    "            tokenized_example = tokenizer(first_sentence, second_sentences, truncation=True, max_length=384)\n",
    "            tokenized_example[\"label\"] = option_to_index[example[\"answer\"]]\n",
    "            return tokenized_example\n",
    "\n",
    "        tokenized_test_dataset = Dataset.from_pandas(test_df.drop(columns=[\"id\"])).map(\n",
    "            preprocess, remove_columns=[\"context\", \"prompt\", \"A\", \"B\", \"C\", \"D\", \"E\", \"answer\"]\n",
    "        )\n",
    "\n",
    "    elif model_dict[\"mode\"] == \"005\":\n",
    "        test_df[\"prompt\"] = (\n",
    "            test_df[\"context\"].apply(lambda x: \" \".join(x.split()[:100])) + f\"... [SEP] \" + test_df[\"prompt\"]\n",
    "        )\n",
    "\n",
    "        def preprocess(example):\n",
    "            first_sentence = [example[\"prompt\"]] * 5\n",
    "            second_sentences = [example[option] for option in \"ABCDE\"]\n",
    "            tokenized_example = tokenizer(first_sentence, second_sentences, truncation=False)\n",
    "            tokenized_example[\"label\"] = option_to_index[example[\"answer\"]]\n",
    "            return tokenized_example\n",
    "\n",
    "        tokenized_test_dataset = Dataset.from_pandas(test_df.drop(columns=[\"id\"])).map(\n",
    "            preprocess, remove_columns=[\"context\", \"prompt\", \"A\", \"B\", \"C\", \"D\", \"E\", \"answer\"]\n",
    "        )\n",
    "\n",
    "    data_collator = DataCollatorForMultipleChoice(tokenizer=tokenizer)\n",
    "    test_dataloader = DataLoader(\n",
    "        tokenized_test_dataset,\n",
    "        1,\n",
    "        shuffle=False,\n",
    "        collate_fn=data_collator,\n",
    "    )\n",
    "\n",
    "    model = AutoModelForMultipleChoice.from_pretrained(model_dict[\"path\"]).cuda()\n",
    "    model.eval()\n",
    "    preds = []\n",
    "    labels = []\n",
    "    for batch in test_dataloader:\n",
    "        for k in batch.keys():\n",
    "            batch[k] = batch[k].cuda()\n",
    "        with torch.no_grad():\n",
    "            outputs = model(**batch)\n",
    "        labels.append(batch[\"labels\"].cpu().detach())\n",
    "        preds.append(outputs.logits.cpu().detach())\n",
    "\n",
    "    preds = torch.cat(preds)\n",
    "    labels = torch.cat(labels)\n",
    "\n",
    "    result_dict = {\n",
    "        \"old_map@3\": map_k(df_valid[\"answer\"].to_numpy(), predictions_to_map_output(preds[: len(df_valid), :])),\n",
    "        \"new_map@3\": map_k(test_df[\"answer\"].to_numpy(), predictions_to_map_output(preds)),\n",
    "    }\n",
    "\n",
    "    print(model_dict)\n",
    "    print(result_dict)\n",
    "    del model\n",
    "    _ = gc.collect()\n",
    "    libc.malloc_trim(0)\n",
    "    torch.cuda.empty_cache()"
   ]
  },
  {
   "cell_type": "code",
   "execution_count": null,
   "id": "9b524c0b-76d9-4fa5-b46c-027842cb16ed",
   "metadata": {},
   "outputs": [],
   "source": []
  }
 ],
 "metadata": {
  "kernelspec": {
   "display_name": "Python 3 (ipykernel)",
   "language": "python",
   "name": "python3"
  },
  "language_info": {
   "codemirror_mode": {
    "name": "ipython",
    "version": 3
   },
   "file_extension": ".py",
   "mimetype": "text/x-python",
   "name": "python",
   "nbconvert_exporter": "python",
   "pygments_lexer": "ipython3",
   "version": "3.10.12"
  }
 },
 "nbformat": 4,
 "nbformat_minor": 5
}
