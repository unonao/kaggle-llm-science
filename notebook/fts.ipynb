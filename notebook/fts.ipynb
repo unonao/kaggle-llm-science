{
 "cells": [
  {
   "cell_type": "code",
   "execution_count": 7,
   "id": "c3fb65c5-ae7f-468e-bdfe-ff45ad055f52",
   "metadata": {
    "tags": []
   },
   "outputs": [],
   "source": [
    "import os\n",
    "import sqlite3\n",
    "\n",
    "import numpy as np\n",
    "import pandas as pd\n",
    "from datasets import load_dataset, load_from_disk"
   ]
  },
  {
   "cell_type": "code",
   "execution_count": 12,
   "id": "57bf6cb1-1962-48ad-9680-6cd605d5377e",
   "metadata": {
    "tags": []
   },
   "outputs": [
    {
     "data": {
      "text/plain": [
       "Int64Index([  32,   39,   65,   68,   96,  120,  124,  135,  147,  178,\n",
       "            ...\n",
       "            1148, 1157, 1159, 1165, 1180, 1182, 1183, 1185, 1188, 1194],\n",
       "           dtype='int64', length=202)"
      ]
     },
     "execution_count": 12,
     "metadata": {},
     "output_type": "execute_result"
    }
   ],
   "source": [
    "df = pd.read_csv(\"../preprocessed/331_retrieve_b/b_bge_10_4_3/data2.csv\")\n",
    "preds = np.load(\"../output/350_1st_infer/b_bge_10_4_3/data2_pred.npy\")\n",
    "\n",
    "\n",
    "option_to_index = {option: idx for idx, option in enumerate(\"ABCDE\")}\n",
    "index_to_option = {v: k for k, v in option_to_index.items()}\n",
    "\n",
    "\n",
    "def predictions_to_map_output_top(predictions):\n",
    "    sorted_answer_indices = np.argsort(-predictions)  # Sortting indices in descending order\n",
    "    top_answer_indices = sorted_answer_indices[:, :]  # Taking the first three indices for each row\n",
    "    top_answers = np.vectorize(index_to_option.get)(\n",
    "        top_answer_indices\n",
    "    )  # Transforming indices to options - i.e., 0 --> A\n",
    "    return np.apply_along_axis(lambda row: \" \".join(row[0]), 1, top_answers)\n",
    "\n",
    "\n",
    "valid_preds = predictions_to_map_output_top(preds[: len(df), :])\n",
    "df[\"preds\"] = valid_preds\n",
    "\n",
    "df[df[\"preds\"] != df[\"answer\"]].index"
   ]
  },
  {
   "cell_type": "code",
   "execution_count": null,
   "id": "7dc38b27-11dc-4ef2-b812-90cb0d871a08",
   "metadata": {},
   "outputs": [],
   "source": []
  },
  {
   "cell_type": "code",
   "execution_count": 2,
   "id": "11aeaa2b-aec0-4145-9769-beaaac386ca8",
   "metadata": {
    "tags": []
   },
   "outputs": [
    {
     "data": {
      "application/vnd.jupyter.widget-view+json": {
       "model_id": "e28a779a348a46e5afb19438258cb33d",
       "version_major": 2,
       "version_minor": 0
      },
      "text/plain": [
       "Map (num_proc=2):   0%|          | 0/2101279 [00:00<?, ? examples/s]"
      ]
     },
     "metadata": {},
     "output_type": "display_data"
    }
   ],
   "source": [
    "paraphs_parsed_dataset = load_from_disk(\"../input/all-paraphs-parsed-expanded\")\n",
    "modified_texts = paraphs_parsed_dataset.map(\n",
    "    lambda example: {\n",
    "        \"temp_text\": f\"{example['title']} {example['section']} {example['text']}\".replace(\"\\n\", \" \").replace(\"'\", \"\")\n",
    "    },\n",
    "    num_proc=2,\n",
    ")[\"temp_text\"]\n",
    "\n",
    "wiki_df = pd.DataFrame({\"text\": modified_texts})"
   ]
  },
  {
   "cell_type": "code",
   "execution_count": 4,
   "id": "dbe6c777-c25e-42c8-8812-b4acbfdbe880",
   "metadata": {
    "tags": []
   },
   "outputs": [
    {
     "data": {
      "text/plain": [
       "'Russell Epstein Russell Epstein Russell Epstein is a professor of psychology at the University of Pennsylvania, who studies neural mechanisms underlying visual scene perception, event perception, object recognition, and spatial navigation in humans. His lab studies the role of the Parahippocampal and retrosplenial cortices in determining how people orient themselves relative to their surroundings.'"
      ]
     },
     "execution_count": 4,
     "metadata": {},
     "output_type": "execute_result"
    }
   ],
   "source": [
    "modified_texts[0]"
   ]
  },
  {
   "cell_type": "code",
   "execution_count": 15,
   "id": "da669b5b-94ee-43b2-9d77-79b45c1bcf58",
   "metadata": {
    "tags": []
   },
   "outputs": [
    {
     "name": "stdout",
     "output_type": "stream",
     "text": [
      "CPU times: user 2.3 ms, sys: 254 µs, total: 2.55 ms\n",
      "Wall time: 1.23 ms\n"
     ]
    },
    {
     "data": {
      "text/plain": [
       "<sqlite3.Cursor at 0x7f5714878240>"
      ]
     },
     "execution_count": 15,
     "metadata": {},
     "output_type": "execute_result"
    }
   ],
   "source": [
    "%%time\n",
    "file_path = \":memory:\"\n",
    "\n",
    "if os.path.exists(file_path):\n",
    "    # ファイルを削除\n",
    "    os.remove(file_path)\n",
    "db = sqlite3.connect(file_path)\n",
    "cur = db.cursor()\n",
    "cur.execute('create virtual table imdb using fts5(text, tokenize=\"porter unicode61\");')  # UNINDEXED"
   ]
  },
  {
   "cell_type": "code",
   "execution_count": 18,
   "id": "7b6227e2-a937-4a19-867b-f2edaef7e65c",
   "metadata": {
    "tags": []
   },
   "outputs": [
    {
     "name": "stdout",
     "output_type": "stream",
     "text": [
      "CPU times: user 1min 57s, sys: 1.32 s, total: 1min 58s\n",
      "Wall time: 1min 58s\n"
     ]
    }
   ],
   "source": [
    "%%time\n",
    "cur.executemany(\n",
    "    \"insert into imdb (text) values (?);\",\n",
    "    wiki_df[[\"text\"]].to_records(index=False),\n",
    ")\n",
    "db.commit()"
   ]
  },
  {
   "cell_type": "code",
   "execution_count": 19,
   "id": "98df4be7-fbcd-4a4f-9145-7cc9357e903b",
   "metadata": {
    "tags": []
   },
   "outputs": [],
   "source": [
    "index = 0\n",
    "text = (\n",
    "    df.iloc[index].prompt\n",
    "    + \" \"\n",
    "    + df.iloc[index].A\n",
    "    + \" \"\n",
    "    + df.iloc[index].B\n",
    "    + \" \"\n",
    "    + df.iloc[index].C\n",
    "    + \" \"\n",
    "    + df.iloc[index].D\n",
    "    + \" \"\n",
    "    + df.iloc[index].E\n",
    ")\n",
    "text = re.sub(r\"[^a-zA-Z0-9]\", \" \", text)\n",
    "filtered_words = [word for word in text.split() if word.lower() not in stop_words]"
   ]
  },
  {
   "cell_type": "code",
   "execution_count": 21,
   "id": "c0ef7cbc-0011-45d1-9513-7050799fa22f",
   "metadata": {
    "tags": []
   },
   "outputs": [
    {
     "name": "stdout",
     "output_type": "stream",
     "text": [
      "Which of the following statements accurately describes the impact of Modified Newtonian Dynamics  MOND  on the observed  missing baryonic mass  discrepancy in galaxy clusters  MOND is a theory that reduces the observed missing baryonic mass in galaxy clusters by postulating the existence of a new form of matter called  fuzzy dark matter   MOND is a theory that increases the discrepancy between the observed missing baryonic mass in galaxy clusters and the measured velocity dispersions from a factor of around 10 to a factor of about 20  MOND is a theory that explains the missing baryonic mass in galaxy clusters that was previously considered dark matter by demonstrating that the mass is in the form of neutrinos and axions  MOND is a theory that reduces the discrepancy between the observed missing baryonic mass in galaxy clusters and the measured velocity dispersions from a factor of around 10 to a factor of about 2  MOND is a theory that eliminates the observed missing baryonic mass in galaxy clusters by imposing a new mathematical formulation of gravity that does not require the existence of dark matter \n",
      "\n",
      "following OR statements OR accurately OR describes OR impact OR Modified OR Newtonian OR Dynamics OR MOND OR observed OR missing OR baryonic OR mass OR discrepancy OR galaxy OR clusters OR MOND OR theory OR reduces OR observed OR missing OR baryonic OR mass OR galaxy OR clusters OR postulating OR existence OR new OR form OR matter OR called OR fuzzy OR dark OR matter OR MOND OR theory OR increases OR discrepancy OR observed OR missing OR baryonic OR mass OR galaxy OR clusters OR measured OR velocity OR dispersions OR factor OR around OR 10 OR factor OR 20 OR MOND OR theory OR explains OR missing OR baryonic OR mass OR galaxy OR clusters OR previously OR considered OR dark OR matter OR demonstrating OR mass OR form OR neutrinos OR axions OR MOND OR theory OR reduces OR discrepancy OR observed OR missing OR baryonic OR mass OR galaxy OR clusters OR measured OR velocity OR dispersions OR factor OR around OR 10 OR factor OR 2 OR MOND OR theory OR eliminates OR observed OR missing OR baryonic OR mass OR galaxy OR clusters OR imposing OR new OR mathematical OR formulation OR gravity OR require OR existence OR dark OR matter\n",
      "CPU times: user 8.78 s, sys: 276 ms, total: 9.05 s\n",
      "Wall time: 9.06 s\n"
     ]
    },
    {
     "data": {
      "text/plain": [
       "[('Modified Newtonian dynamics Modified Newtonian dynamics MOND is an example of a class of theories known as modified gravity, and is an alternative to the hypothesis that the dynamics of galaxies are determined by massive, invisible dark matter halos. Since Milgroms original proposal, proponents of MOND have claimed to successfully predict a variety of galactic phenomena that they state are difficult to understand as consequences of dark matter.Though MOND explains the anomalously great rotational velocities of galaxies at their perimeters, it does not fully explain the velocity dispersions of individual galaxies within galaxy clusters. MOND reduces the discrepancy between the velocity dispersions and clusters observed missing baryonic mass from a factor of around 10 to a factor of about 2. However, the residual discrepancy cannot be accounted for by MOND, requiring that other explanations close the gap such as the presence of as-yet undetected missing baryonic matter.The accurate measurement of the speed of gravitational waves compared to the speed of light in 2017 ruled out a certain class of modified gravity theories but concluded that other MOND theories that dispense with the need for dark matter remained viable. Two years later, theories put forth by Constantinos Skordis and Tom Zlosnik were consistent with gravitational waves that always travel at the speed of light. Later still in 2021, Skordis and Zlosnik developed a subclass of their theory called \"RMOND\", for \"relativistic MOND\", which had \"been shown to reproduce in great detail the main observations in cosmology, including the cosmic-microwave-background power spectrum, and the matter structure power spectrum.\" ',\n",
       "  -456.0857636471279)]"
      ]
     },
     "execution_count": 21,
     "metadata": {},
     "output_type": "execute_result"
    }
   ],
   "source": [
    "%%time\n",
    "\n",
    "q = \" OR \".join(filtered_words)\n",
    "\n",
    "res = cur.execute(\n",
    "    f\"\"\"select text, rank\n",
    "                      from imdb\n",
    "                      where text MATCH \"{q}\"\n",
    "                      ORDER BY rank\n",
    "                      limit 1\"\"\",\n",
    ").fetchall()\n",
    "\n",
    "print(text)\n",
    "print()\n",
    "print(q)\n",
    "\n",
    "res"
   ]
  },
  {
   "cell_type": "code",
   "execution_count": null,
   "id": "db09abcd-6bf5-42fb-8618-ea3cb149d110",
   "metadata": {},
   "outputs": [],
   "source": []
  },
  {
   "cell_type": "code",
   "execution_count": null,
   "id": "19ffd47f-9ffc-404e-9523-b9531c236242",
   "metadata": {},
   "outputs": [],
   "source": []
  },
  {
   "cell_type": "code",
   "execution_count": null,
   "id": "57d5274c-4bfb-49d8-beb0-4d4c18df63fe",
   "metadata": {},
   "outputs": [],
   "source": []
  },
  {
   "cell_type": "code",
   "execution_count": null,
   "id": "b18a6424-358e-4ee2-bacf-2acef5758ee6",
   "metadata": {},
   "outputs": [],
   "source": []
  },
  {
   "cell_type": "code",
   "execution_count": null,
   "id": "125d1135-4e94-4dec-93d4-5b9ae4012b76",
   "metadata": {},
   "outputs": [],
   "source": []
  },
  {
   "cell_type": "code",
   "execution_count": 2,
   "id": "3dc3e4be-6e0b-4dd3-bb0c-a97b296d9aca",
   "metadata": {
    "tags": []
   },
   "outputs": [],
   "source": []
  },
  {
   "cell_type": "code",
   "execution_count": 3,
   "id": "ee618965-6dd8-44ce-9208-ab9f068ce361",
   "metadata": {
    "tags": []
   },
   "outputs": [],
   "source": []
  },
  {
   "cell_type": "code",
   "execution_count": 4,
   "id": "3d41744e-3df3-4eb1-bcb1-fa1fc3f0d882",
   "metadata": {
    "tags": []
   },
   "outputs": [
    {
     "data": {
      "text/plain": [
       "Int64Index([  32,   39,   65,   68,   96,  120,  124,  135,  147,  178,\n",
       "            ...\n",
       "            1148, 1157, 1159, 1165, 1180, 1182, 1183, 1185, 1188, 1194],\n",
       "           dtype='int64', length=202)"
      ]
     },
     "execution_count": 4,
     "metadata": {},
     "output_type": "execute_result"
    }
   ],
   "source": []
  },
  {
   "cell_type": "code",
   "execution_count": 7,
   "id": "379297d2-678b-4fb5-b115-6a867ef8a8e7",
   "metadata": {
    "tags": []
   },
   "outputs": [
    {
     "name": "stdout",
     "output_type": "stream",
     "text": [
      "[0.63688767 0.05020387 0.2634867  0.01801323 0.03140848]\n"
     ]
    },
    {
     "data": {
      "text/plain": [
       "prompt            What structures form the root of the penis?\n",
       "A           The diverging corpora cavernosa, covered by th...\n",
       "B           The diverging corpora cavernosa, covered by th...\n",
       "C           The diverging crura, covered by the Ischiocave...\n",
       "D           The diverging crura, covered by the Bulbospong...\n",
       "E           The diverging corpora cavernosa, covered by th...\n",
       "answer                                                      C\n",
       "context     Root of penis > Each crus is covered by the is...\n",
       "sim_max                                               0.19204\n",
       "sim_min                                              0.108913\n",
       "sim_mean                                             0.174435\n",
       "sim_std                                              0.022915\n",
       "sim_num                                                    12\n",
       "preds                                                       A\n",
       "Name: 1148, dtype: object"
      ]
     },
     "execution_count": 7,
     "metadata": {},
     "output_type": "execute_result"
    }
   ],
   "source": [
    "index = 1148\n",
    "print(preds[index])\n",
    "df.iloc[index]"
   ]
  },
  {
   "cell_type": "code",
   "execution_count": 8,
   "id": "f1b0fd57-b61c-41e6-89b1-fdcf6c20abab",
   "metadata": {
    "tags": []
   },
   "outputs": [
    {
     "name": "stdout",
     "output_type": "stream",
     "text": [
      "What structures form the root of the penis?\n",
      "\n",
      "The diverging crura, covered by the Ischiocavernosus muscle, and the median urethral bulb surrounded by the Bulbospongiosus.\n",
      "\n",
      "Root of penis > Each crus is covered by the ischiocavernosus muscle which helps maintain an erection by contracting to force blood from the crura into the corpora cavernosa. The bulb is surrounded by the bulbospongiosus muscle which contracts to help empty the urethra of any residual semen and urine. It also helps maintain the erection by increasing the pressure in the bulb. During orgasm, the muscles surrounding the root contract involuntarily pushing the semen towards the urinary meatus. Root of penis > During arousal, the root and the corpora cavernosa engorge with blood and become rigid (erection). Meanwhile, the corpus spongiosum remains pliable making the urethra a viable channel for semen during ejaculation. There are four muscles associated with the root of the penis; a pair of ischiocavernosus and a pair of bulbospondiosus muscles. Each crus is covered by the ischiocavernosus muscle which helps maintain an erection by contracting to force blood from the crura into the corpora cavernosa. Root of penis > It continues as a long cylindrical body on the ventral aspect of the shaft called corpus spongiosum. The left and right crura are located laterally on the two sides of the bulb and are attached to the ischiopubic arch. They continue into the dorsal aspect of the shaft forming the two corpora cavernosa that are separated by the septum of the penis. During arousal, the root and the corpora cavernosa engorge with blood and become rigid (erection). Bulbospongiosus muscle > The latter fibers are best seen by dividing the muscle longitudinally, and reflecting it from the surface of the corpus cavernosum urethra. In males it contributes to erection, the contractions of orgasm and ejaculation. In females it contributes to clitoral erection and the contractions of orgasm, and closes the vagina. This muscle serves to empty the canal of the urethra, after the bladder has expelled its contents; during the greater part of the act of micturition its fibers are relaxed, and it only comes into action at the end of the process. Crus of penis > The two crura of penis (one crus on each side) constitute the root of penis along with the bulb of penis. The two crura flank the bulb - one to each side of the bulb. Each crus is attached at the angle between the perineal membrane and ischiopubic ramus. The deep artery of the penis enters the anterior portion of the crus. Bulb of vestibule > This puts pressure on nearby structures that include the corpus cavernosum of clitoris and crus of clitoris, inducing pleasure. The blood inside the bulb's erectile tissue is released to the circulatory system by the spasms of orgasm, but if orgasm does not occur, the blood will exit the bulbs over several hours. The sub-areas of the clitoris—areas include clitoral glans, body, crura. The vestibular bulbs and corpora cavernosa are also shown. Bulbospongiosus muscle > In females, it covers the vestibular bulb. In both sexes, it is innervated by the deep or muscular branch of the perineal nerve, which is a branch of the pudendal nerve. In males, the bulbospongiosus is located in the middle line of the perineum, in front of the anus. It consists of two symmetrical parts, united along the median line by a tendinous perineal raphe. Clitoris > Although several texts state that they surround the vaginal opening, Ginger et al. state that this does not appear to be the case and tunica albuginea does not envelop the erectile tissue of the bulbs. In Yang et al.'s assessment of the bulbs' anatomy, they conclude that the bulbs arch over the distal urethra, outlining what might be appropriately called the 'bulbar urethra' in women. The clitoris and penis generally have the same anatomical structure, although the distal portion (or opening) of the urethra is absent in the clitoris of humans and most other animals. The idea that males have clitorises was suggested in 1987 by researcher Josephine Lowndes Sevely theorized that the male corpora cavernosa (a pair of sponge-like regions of erectile tissue that contain most of the blood in the penis during penile erection) are the true counterpart of the clitoris. Bulbospongiosus muscle > The bulbospongiosus muscle (in older texts bulbocavernosus and, for female muscle, constrictor cunni) is one of the superficial muscles of the perineum. It has a slightly different origin, insertion and function in males and females. In males, it covers the bulb of the penis. In females, it covers the vestibular bulb. Root of penis > During orgasm, the muscles surrounding the root contract involuntarily pushing the semen towards the urinary meatus. Each erectile tissue has fascial coverings, or bands of connective tissue, which surround and support them. The root of the penis lies in the perineum between the perineal membrane, or inferior fascia of the urogenital diaphragm, and the fascia of Colles, the deeper layer of the superficial perineal fascia. In addition to being attached to the fasciæ and the pubic ramus, the root is bound to the front of the pubic symphysis by the fundiform and suspensory ligaments. Bulbospongiosus muscle > This muscle serves to empty the canal of the urethra, after the bladder has expelled its contents; during the greater part of the act of micturition its fibers are relaxed, and it only comes into action at the end of the process. The middle fibers are supposed by Krause to assist in the erection of the corpus spongiosum, by compressing the erectile tissue of the bulb. The anterior fibers also contribute to the erection of the penis by compressing the deep dorsal vein of the penis as they are inserted into, and continuous with, the fascia of the penis. Coronal section of anterior part of the male pelvis, through the pubic arch. Bulbospongiosus muscle > It consists of two symmetrical parts, united along the median line by a tendinous perineal raphe. It arises from the central tendinous point of the perineum and from the median perineal raphe in front. In females, there is no union, nor a tendinous perineal raphe; the parts are disjoint primarily and arise from the same central tendinous point of the perineum, which is the tendon that is formed at the point where the bulbospongiosus muscle, superficial transverse perineal muscle, and external anal sphincter muscle converge to form this major supportive structure of vagina and other organs, and from the clitoris in front. The latter fibers are best seen by dividing the muscle longitudinally, and reflecting it from the surface of the corpus cavernosum urethra. \n"
     ]
    }
   ],
   "source": [
    "print(df.iloc[index].prompt)\n",
    "print()\n",
    "print(df.iloc[index][df.iloc[index].answer])\n",
    "print()\n",
    "print(df.iloc[index].context)"
   ]
  },
  {
   "cell_type": "code",
   "execution_count": null,
   "id": "4271555a-95a1-4482-b1ca-6ddbb92b26c0",
   "metadata": {
    "tags": []
   },
   "outputs": [],
   "source": []
  },
  {
   "cell_type": "code",
   "execution_count": null,
   "id": "6124c11f-9430-4228-84f6-a50127a0d145",
   "metadata": {
    "tags": []
   },
   "outputs": [],
   "source": []
  },
  {
   "cell_type": "code",
   "execution_count": null,
   "id": "d32b9680-d279-4e38-9884-5f93806fb81c",
   "metadata": {},
   "outputs": [],
   "source": []
  },
  {
   "cell_type": "code",
   "execution_count": null,
   "id": "0bc2e026-897b-4c8a-9424-3e3a4c49aad9",
   "metadata": {},
   "outputs": [],
   "source": []
  },
  {
   "cell_type": "code",
   "execution_count": 50,
   "id": "bedf86e8-96cb-4a87-871c-49c56229af2f",
   "metadata": {
    "tags": []
   },
   "outputs": [
    {
     "data": {
      "text/html": [
       "<div>\n",
       "<style scoped>\n",
       "    .dataframe tbody tr th:only-of-type {\n",
       "        vertical-align: middle;\n",
       "    }\n",
       "\n",
       "    .dataframe tbody tr th {\n",
       "        vertical-align: top;\n",
       "    }\n",
       "\n",
       "    .dataframe thead th {\n",
       "        text-align: right;\n",
       "    }\n",
       "</style>\n",
       "<table border=\"1\" class=\"dataframe\">\n",
       "  <thead>\n",
       "    <tr style=\"text-align: right;\">\n",
       "      <th></th>\n",
       "      <th>id</th>\n",
       "      <th>title</th>\n",
       "      <th>text</th>\n",
       "    </tr>\n",
       "  </thead>\n",
       "  <tbody>\n",
       "    <tr>\n",
       "      <th>0</th>\n",
       "      <td>59737009</td>\n",
       "      <td>Biodiversity Monitoring Switzerland</td>\n",
       "      <td>The Biodiversity Monitoring Switzerland (BDM) ...</td>\n",
       "    </tr>\n",
       "    <tr>\n",
       "      <th>1</th>\n",
       "      <td>59737081</td>\n",
       "      <td>Bigoudène</td>\n",
       "      <td>In Breton tradition, a coiffe bigoudène is a w...</td>\n",
       "    </tr>\n",
       "    <tr>\n",
       "      <th>2</th>\n",
       "      <td>59737128</td>\n",
       "      <td>Barnabas Bala</td>\n",
       "      <td>Barnabas Yusuf Bala (20 December 1956 – 11 Jul...</td>\n",
       "    </tr>\n",
       "    <tr>\n",
       "      <th>3</th>\n",
       "      <td>59739888</td>\n",
       "      <td>Bagdah</td>\n",
       "      <td>Bagdah or Bagdaha may refer to: Bagdah (commun...</td>\n",
       "    </tr>\n",
       "    <tr>\n",
       "      <th>4</th>\n",
       "      <td>59739916</td>\n",
       "      <td>Big John Hamilton</td>\n",
       "      <td>Big John Hamilton may refer to: Big John Hamil...</td>\n",
       "    </tr>\n",
       "    <tr>\n",
       "      <th>...</th>\n",
       "      <td>...</td>\n",
       "      <td>...</td>\n",
       "      <td>...</td>\n",
       "    </tr>\n",
       "    <tr>\n",
       "      <th>351878</th>\n",
       "      <td>30045543</td>\n",
       "      <td>Bill Reeder</td>\n",
       "      <td>William Edgar Reeder (February 20, 1922 – Marc...</td>\n",
       "    </tr>\n",
       "    <tr>\n",
       "      <th>351879</th>\n",
       "      <td>3004563</td>\n",
       "      <td>Black River Public School (Holland, Michigan)</td>\n",
       "      <td>Black River Public School is a public college ...</td>\n",
       "    </tr>\n",
       "    <tr>\n",
       "      <th>351880</th>\n",
       "      <td>30045661</td>\n",
       "      <td>Breg pri Konjicah</td>\n",
       "      <td>Breg pri Konjicah (pronounced [ˈbɾeːk pɾi kɔˈn...</td>\n",
       "    </tr>\n",
       "    <tr>\n",
       "      <th>351881</th>\n",
       "      <td>30045729</td>\n",
       "      <td>Brezje pri Ločah</td>\n",
       "      <td>Brezje pri Ločah (pronounced [ˈbreːzjɛ pɾi ˈlo...</td>\n",
       "    </tr>\n",
       "    <tr>\n",
       "      <th>351882</th>\n",
       "      <td>30045865</td>\n",
       "      <td>Board of Intermediate and Secondary Education,...</td>\n",
       "      <td>Board of Intermediate and Secondary Education,...</td>\n",
       "    </tr>\n",
       "  </tbody>\n",
       "</table>\n",
       "<p>351883 rows × 3 columns</p>\n",
       "</div>"
      ],
      "text/plain": [
       "              id                                              title  \\\n",
       "0       59737009                Biodiversity Monitoring Switzerland   \n",
       "1       59737081                                          Bigoudène   \n",
       "2       59737128                                      Barnabas Bala   \n",
       "3       59739888                                             Bagdah   \n",
       "4       59739916                                  Big John Hamilton   \n",
       "...          ...                                                ...   \n",
       "351878  30045543                                        Bill Reeder   \n",
       "351879   3004563      Black River Public School (Holland, Michigan)   \n",
       "351880  30045661                                  Breg pri Konjicah   \n",
       "351881  30045729                                   Brezje pri Ločah   \n",
       "351882  30045865  Board of Intermediate and Secondary Education,...   \n",
       "\n",
       "                                                     text  \n",
       "0       The Biodiversity Monitoring Switzerland (BDM) ...  \n",
       "1       In Breton tradition, a coiffe bigoudène is a w...  \n",
       "2       Barnabas Yusuf Bala (20 December 1956 – 11 Jul...  \n",
       "3       Bagdah or Bagdaha may refer to: Bagdah (commun...  \n",
       "4       Big John Hamilton may refer to: Big John Hamil...  \n",
       "...                                                   ...  \n",
       "351878  William Edgar Reeder (February 20, 1922 – Marc...  \n",
       "351879  Black River Public School is a public college ...  \n",
       "351880  Breg pri Konjicah (pronounced [ˈbɾeːk pɾi kɔˈn...  \n",
       "351881  Brezje pri Ločah (pronounced [ˈbreːzjɛ pɾi ˈlo...  \n",
       "351882  Board of Intermediate and Secondary Education,...  \n",
       "\n",
       "[351883 rows x 3 columns]"
      ]
     },
     "execution_count": 50,
     "metadata": {},
     "output_type": "execute_result"
    }
   ],
   "source": [
    "df = pd.read_parquet(\"../input/llm-science-wikipedia-data-b/b.parquet\")\n",
    "df"
   ]
  },
  {
   "cell_type": "code",
   "execution_count": 52,
   "id": "1956b7f2-1c29-47fc-bddf-9bdf79c7d723",
   "metadata": {
    "tags": []
   },
   "outputs": [
    {
     "name": "stdout",
     "output_type": "stream",
     "text": [
      "INFO: Pandarallel will run on 4 workers.\n",
      "INFO: Pandarallel will use Memory file system to transfer data between the main process and workers.\n"
     ]
    },
    {
     "data": {
      "application/vnd.jupyter.widget-view+json": {
       "model_id": "eabfa74df880400c8f89bcf506d5d0a4",
       "version_major": 2,
       "version_minor": 0
      },
      "text/plain": [
       "VBox(children=(HBox(children=(IntProgress(value=0, description='0.00%', max=87971), Label(value='0 / 87971')))…"
      ]
     },
     "metadata": {},
     "output_type": "display_data"
    },
    {
     "data": {
      "text/html": [
       "<div>\n",
       "<style scoped>\n",
       "    .dataframe tbody tr th:only-of-type {\n",
       "        vertical-align: middle;\n",
       "    }\n",
       "\n",
       "    .dataframe tbody tr th {\n",
       "        vertical-align: top;\n",
       "    }\n",
       "\n",
       "    .dataframe thead th {\n",
       "        text-align: right;\n",
       "    }\n",
       "</style>\n",
       "<table border=\"1\" class=\"dataframe\">\n",
       "  <thead>\n",
       "    <tr style=\"text-align: right;\">\n",
       "      <th></th>\n",
       "      <th>id</th>\n",
       "      <th>title</th>\n",
       "      <th>text</th>\n",
       "    </tr>\n",
       "  </thead>\n",
       "  <tbody>\n",
       "    <tr>\n",
       "      <th>0</th>\n",
       "      <td>59737009</td>\n",
       "      <td>Biodiversity Monitoring Switzerland</td>\n",
       "      <td>Biodiversity Monitoring Switzerland &gt; The Biod...</td>\n",
       "    </tr>\n",
       "    <tr>\n",
       "      <th>1</th>\n",
       "      <td>59737009</td>\n",
       "      <td>Biodiversity Monitoring Switzerland</td>\n",
       "      <td>Biodiversity Monitoring Switzerland &gt; Biodiver...</td>\n",
       "    </tr>\n",
       "    <tr>\n",
       "      <th>2</th>\n",
       "      <td>59737009</td>\n",
       "      <td>Biodiversity Monitoring Switzerland</td>\n",
       "      <td>Biodiversity Monitoring Switzerland &gt; Together...</td>\n",
       "    </tr>\n",
       "    <tr>\n",
       "      <th>3</th>\n",
       "      <td>59737009</td>\n",
       "      <td>Biodiversity Monitoring Switzerland</td>\n",
       "      <td>Biodiversity Monitoring Switzerland &gt; The Biod...</td>\n",
       "    </tr>\n",
       "    <tr>\n",
       "      <th>4</th>\n",
       "      <td>59737009</td>\n",
       "      <td>Biodiversity Monitoring Switzerland</td>\n",
       "      <td>Biodiversity Monitoring Switzerland &gt; Data on ...</td>\n",
       "    </tr>\n",
       "    <tr>\n",
       "      <th>...</th>\n",
       "      <td>...</td>\n",
       "      <td>...</td>\n",
       "      <td>...</td>\n",
       "    </tr>\n",
       "    <tr>\n",
       "      <th>5380129</th>\n",
       "      <td>30045865</td>\n",
       "      <td>Board of Intermediate and Secondary Education,...</td>\n",
       "      <td>Board of Intermediate and Secondary Education,...</td>\n",
       "    </tr>\n",
       "    <tr>\n",
       "      <th>5380130</th>\n",
       "      <td>30045865</td>\n",
       "      <td>Board of Intermediate and Secondary Education,...</td>\n",
       "      <td>Board of Intermediate and Secondary Education,...</td>\n",
       "    </tr>\n",
       "    <tr>\n",
       "      <th>5380131</th>\n",
       "      <td>30045865</td>\n",
       "      <td>Board of Intermediate and Secondary Education,...</td>\n",
       "      <td>Board of Intermediate and Secondary Education,...</td>\n",
       "    </tr>\n",
       "    <tr>\n",
       "      <th>5380132</th>\n",
       "      <td>30045865</td>\n",
       "      <td>Board of Intermediate and Secondary Education,...</td>\n",
       "      <td>Board of Intermediate and Secondary Education,...</td>\n",
       "    </tr>\n",
       "    <tr>\n",
       "      <th>5380133</th>\n",
       "      <td>30045865</td>\n",
       "      <td>Board of Intermediate and Secondary Education,...</td>\n",
       "      <td>Board of Intermediate and Secondary Education,...</td>\n",
       "    </tr>\n",
       "  </tbody>\n",
       "</table>\n",
       "<p>5380134 rows × 3 columns</p>\n",
       "</div>"
      ],
      "text/plain": [
       "               id                                              title  \\\n",
       "0        59737009                Biodiversity Monitoring Switzerland   \n",
       "1        59737009                Biodiversity Monitoring Switzerland   \n",
       "2        59737009                Biodiversity Monitoring Switzerland   \n",
       "3        59737009                Biodiversity Monitoring Switzerland   \n",
       "4        59737009                Biodiversity Monitoring Switzerland   \n",
       "...           ...                                                ...   \n",
       "5380129  30045865  Board of Intermediate and Secondary Education,...   \n",
       "5380130  30045865  Board of Intermediate and Secondary Education,...   \n",
       "5380131  30045865  Board of Intermediate and Secondary Education,...   \n",
       "5380132  30045865  Board of Intermediate and Secondary Education,...   \n",
       "5380133  30045865  Board of Intermediate and Secondary Education,...   \n",
       "\n",
       "                                                      text  \n",
       "0        Biodiversity Monitoring Switzerland > The Biod...  \n",
       "1        Biodiversity Monitoring Switzerland > Biodiver...  \n",
       "2        Biodiversity Monitoring Switzerland > Together...  \n",
       "3        Biodiversity Monitoring Switzerland > The Biod...  \n",
       "4        Biodiversity Monitoring Switzerland > Data on ...  \n",
       "...                                                    ...  \n",
       "5380129  Board of Intermediate and Secondary Education,...  \n",
       "5380130  Board of Intermediate and Secondary Education,...  \n",
       "5380131  Board of Intermediate and Secondary Education,...  \n",
       "5380132  Board of Intermediate and Secondary Education,...  \n",
       "5380133  Board of Intermediate and Secondary Education,...  \n",
       "\n",
       "[5380134 rows x 3 columns]"
      ]
     },
     "execution_count": 52,
     "metadata": {},
     "output_type": "execute_result"
    }
   ],
   "source": [
    "window_size = 4\n",
    "sliding_size = 3\n",
    "filter_len = 3\n",
    "filter_len_max = 1000\n",
    "import blingfire as bf\n",
    "from pandarallel import pandarallel\n",
    "from tqdm.auto import tqdm\n",
    "\n",
    "pandarallel.initialize(progress_bar=True)\n",
    "\n",
    "\n",
    "def extract_chunk_by_sliding_window(text_list: list[str], window_size: int, sliding_size: int) -> list[str]:\n",
    "    \"\"\"\n",
    "    text のリストをsliding windowで結合する。window_size個のtextが含まれるまで結合し、sliding_size個ずつずらして結合する。\n",
    "    \"\"\"\n",
    "    chunks = []\n",
    "    for i in range(0, len(text_list), sliding_size):\n",
    "        chunk = \" \".join(text_list[i : i + window_size])\n",
    "        chunks.append(chunk)\n",
    "    return chunks\n",
    "\n",
    "\n",
    "def split_sentences(text):\n",
    "    document = text.replace(\"\\n\", \" \")\n",
    "    _, sentence_offsets = bf.text_to_sentences_and_offsets(document)\n",
    "    section_sentences = []\n",
    "    for o in sentence_offsets:\n",
    "        if filter_len < o[1] - o[0] and o[1] - o[0] < filter_len_max:\n",
    "            section_sentences.append(document[o[0] : o[1]])\n",
    "    chunks = extract_chunk_by_sliding_window(section_sentences, window_size, sliding_size)\n",
    "    return chunks\n",
    "\n",
    "\n",
    "df[\"text\"] = df[\"text\"].parallel_apply(split_sentences)\n",
    "df = df.explode([\"text\"]).reset_index(drop=True)\n",
    "df[\"text\"] = df[\"title\"] + \" > \" + df[\"text\"]\n",
    "df"
   ]
  },
  {
   "cell_type": "code",
   "execution_count": 36,
   "id": "a4ff3f6d-ddb3-4357-a2ed-cd9fe4abc8eb",
   "metadata": {
    "tags": []
   },
   "outputs": [
    {
     "data": {
      "text/plain": [
       "'\\nimport re\\n\\nimport nltk\\nfrom nltk.corpus import stopwords\\nfrom nltk.stem import SnowballStemmer\\n\\nstemmer = SnowballStemmer(\"english\")  # 使用言語に応じて変更\\nstop_words = set(stopwords.words(\"english\"))  # 使用言語に応じて変更\\n\\n\\ndef clean_text_for_fts(text):\\n    text = re.sub(r\"[^a-zA-Z0-9]\", \" \", text)\\n    text = \" \".join([i.strip().lower() for i in text.split()])\\n    filtered_words = [stemmer.stem(word) for word in text.split() if word not in stop_words]\\n    return text\\n\\n\\ndf[\"clean_title\"] = df[\"title\"].apply(clean_text_for_fts)\\ndf[\"clean_text\"] = df[\"text\"].apply(clean_text_for_fts)\\ndf\\n'"
      ]
     },
     "execution_count": 36,
     "metadata": {},
     "output_type": "execute_result"
    }
   ],
   "source": [
    "\"\"\"\n",
    "import re\n",
    "\n",
    "import nltk\n",
    "from nltk.corpus import stopwords\n",
    "from nltk.stem import SnowballStemmer\n",
    "\n",
    "stemmer = SnowballStemmer(\"english\")  # 使用言語に応じて変更\n",
    "stop_words = set(stopwords.words(\"english\"))  # 使用言語に応じて変更\n",
    "\n",
    "\n",
    "def clean_text_for_fts(text):\n",
    "    text = re.sub(r\"[^a-zA-Z0-9]\", \" \", text)\n",
    "    text = \" \".join([i.strip().lower() for i in text.split()])\n",
    "    filtered_words = [stemmer.stem(word) for word in text.split() if word not in stop_words]\n",
    "    return text\n",
    "\n",
    "\n",
    "df[\"clean_title\"] = df[\"title\"].apply(clean_text_for_fts)\n",
    "df[\"clean_text\"] = df[\"text\"].apply(clean_text_for_fts)\n",
    "df\n",
    "\"\"\""
   ]
  },
  {
   "cell_type": "code",
   "execution_count": 5,
   "id": "597fd890-5787-4a9b-932f-d9c27ddd59be",
   "metadata": {
    "tags": []
   },
   "outputs": [
    {
     "name": "stdout",
     "output_type": "stream",
     "text": [
      "CPU times: user 5.15 ms, sys: 109 ms, total: 114 ms\n",
      "Wall time: 146 ms\n"
     ]
    },
    {
     "data": {
      "text/plain": [
       "<sqlite3.Cursor at 0x7f57aecd9bc0>"
      ]
     },
     "execution_count": 5,
     "metadata": {},
     "output_type": "execute_result"
    }
   ],
   "source": [
    "%%time\n",
    "import os\n",
    "\n",
    "file_path = \"tutorial.db\"\n",
    "\n",
    "if os.path.exists(file_path):\n",
    "    # ファイルを削除\n",
    "    os.remove(file_path)\n",
    "db = sqlite3.connect(file_path)\n",
    "cur = db.cursor()\n",
    "cur.execute('create virtual table imdb using fts5(text , title UNINDEXED, tokenize=\"porter unicode61\");')  # UNINDEXED"
   ]
  },
  {
   "cell_type": "code",
   "execution_count": 53,
   "id": "d0ccfca3-e670-4191-b726-a946d9fa2205",
   "metadata": {
    "tags": []
   },
   "outputs": [
    {
     "name": "stdout",
     "output_type": "stream",
     "text": [
      "CPU times: user 3min 57s, sys: 25.3 s, total: 4min 23s\n",
      "Wall time: 4min 26s\n"
     ]
    }
   ],
   "source": [
    "%%time\n",
    "cur.executemany(\n",
    "    \"insert into imdb (text) values (?,?);\",\n",
    "    df[[\"text\", \"title\"]].to_records(index=False),\n",
    ")\n",
    "db.commit()"
   ]
  },
  {
   "cell_type": "code",
   "execution_count": 70,
   "id": "f8d17d9c-5ef2-4c11-a9ec-8a609a8e26b1",
   "metadata": {
    "tags": []
   },
   "outputs": [],
   "source": [
    "res = cur.execute(\n",
    "    f\"\"\"INSERT INTO imdb(imdb) VALUES('optimize');\"\"\",\n",
    ")\n",
    "db.commit()"
   ]
  },
  {
   "cell_type": "code",
   "execution_count": 11,
   "id": "128b1875-9f14-4823-8a39-11348a20ffef",
   "metadata": {
    "tags": []
   },
   "outputs": [
    {
     "name": "stderr",
     "output_type": "stream",
     "text": [
      "/opt/conda/lib/python3.10/site-packages/scipy/__init__.py:146: UserWarning: A NumPy version >=1.16.5 and <1.23.0 is required for this version of SciPy (detected version 1.23.5\n",
      "  warnings.warn(f\"A NumPy version >={np_minversion} and <{np_maxversion}\"\n"
     ]
    }
   ],
   "source": [
    "import re\n",
    "\n",
    "from nltk.corpus import stopwords\n",
    "\n",
    "stop_words = set(stopwords.words(\"english\"))  # 使用言語に応じて変更"
   ]
  },
  {
   "cell_type": "code",
   "execution_count": null,
   "id": "1a32294b-4900-4d55-be33-f1e5a2ca2977",
   "metadata": {},
   "outputs": [],
   "source": [
    "file_path = \"tutorial.db\"\n",
    "db = sqlite3.connect(file_path)\n",
    "cur = db.cursor()"
   ]
  },
  {
   "cell_type": "code",
   "execution_count": 35,
   "id": "0060f965-4da2-4a5c-aa31-00767f502b34",
   "metadata": {
    "tags": []
   },
   "outputs": [],
   "source": [
    "res = cur.execute(\n",
    "    f\"\"\"CREATE VIRTUAL TABLE ft1_r USING fts5vocab('imdb', 'row');\"\"\",\n",
    ")\n",
    "db.commit()"
   ]
  },
  {
   "cell_type": "code",
   "execution_count": 57,
   "id": "a45abfd1-9a98-4cdd-9905-ddfe386f657e",
   "metadata": {
    "tags": []
   },
   "outputs": [
    {
     "name": "stdout",
     "output_type": "stream",
     "text": [
      "CPU times: user 181 ms, sys: 0 ns, total: 181 ms\n",
      "Wall time: 179 ms\n"
     ]
    },
    {
     "data": {
      "text/plain": [
       "[('called', 'text', 1, 1),\n",
       " ('considered', 'text', 1, 1),\n",
       " ('mathematical', 'text', 4, 6),\n",
       " ('around', 'title', 285, 285)]"
      ]
     },
     "execution_count": 57,
     "metadata": {},
     "output_type": "execute_result"
    }
   ],
   "source": [
    "%%time\n",
    "\n",
    "\n",
    "index = 0\n",
    "text = (\n",
    "    df.iloc[index].prompt\n",
    "    + \" \"\n",
    "    + df.iloc[index].A\n",
    "    + \" \"\n",
    "    + df.iloc[index].B\n",
    "    + \" \"\n",
    "    + df.iloc[index].C\n",
    "    + \" \"\n",
    "    + df.iloc[index].D\n",
    "    + \" \"\n",
    "    + df.iloc[index].E\n",
    ")\n",
    "text = re.sub(r\"[^a-zA-Z0-9]\", \" \", text)\n",
    "filtered_words = [word for word in text.split() if word.lower() not in stop_words]\n",
    "\n",
    "\n",
    "res = cur.execute(\n",
    "    f\"\"\"SELECT * FROM ft1_v WHERE term IN ({','.join(['?']*len(filtered_words))}) AND cnt < 1000 ORDER BY cnt\"\"\",\n",
    "    filtered_words,\n",
    ").fetchall()\n",
    "\n",
    "res"
   ]
  },
  {
   "cell_type": "code",
   "execution_count": 58,
   "id": "481575d8-2b43-4be1-b732-6bc2e4bdbe10",
   "metadata": {
    "tags": []
   },
   "outputs": [
    {
     "name": "stdout",
     "output_type": "stream",
     "text": [
      "Which of the following statements accurately describes the impact of Modified Newtonian Dynamics  MOND  on the observed  missing baryonic mass  discrepancy in galaxy clusters  MOND is a theory that reduces the observed missing baryonic mass in galaxy clusters by postulating the existence of a new form of matter called  fuzzy dark matter   MOND is a theory that increases the discrepancy between the observed missing baryonic mass in galaxy clusters and the measured velocity dispersions from a factor of around 10 to a factor of about 20  MOND is a theory that explains the missing baryonic mass in galaxy clusters that was previously considered dark matter by demonstrating that the mass is in the form of neutrinos and axions  MOND is a theory that reduces the discrepancy between the observed missing baryonic mass in galaxy clusters and the measured velocity dispersions from a factor of around 10 to a factor of about 2  MOND is a theory that eliminates the observed missing baryonic mass in galaxy clusters by imposing a new mathematical formulation of gravity that does not require the existence of dark matter \n",
      "\n",
      "called OR considered OR mathematical OR around\n",
      "CPU times: user 1.05 s, sys: 83.9 ms, total: 1.13 s\n",
      "Wall time: 1.13 s\n"
     ]
    },
    {
     "data": {
      "text/plain": [
       "[(\"European Girls' Mathematical Olympiad > The European Girls' Mathematical Olympiad (EGMO) is a mathematical olympiad for girls which started in 2012, and is held in April each year. It was inspired by the China Girls Mathematical Olympiad (CGMO). Although the competition is held in Europe, it is open to female participants from all over the world, and is considered the most prestigious mathematics competition for girls. In recent years, participants from around 55 countries have been invited to the competition.\",\n",
       "  -17.294626741001327),\n",
       " ('Bhāskara II > Bhāskara and his works represent a significant contribution to mathematical and astronomical knowledge in the 12th century. He has been called the greatest mathematician of medieval India. His main work Siddhānta-Śiromaṇi, (Sanskrit for Crown of Treatises) is divided into four parts called Līlāvatī, Bījagaṇita, Grahagaṇita and Golādhyāya, which are also sometimes considered four independent works. These four sections deal with arithmetic, algebra, mathematics of the planets, and spheres respectively.',\n",
       "  -16.327708148602554),\n",
       " ('Brane > Mathematically, branes can be represented within categories, and are studied in pure mathematics for insight into homological mirror symmetry and noncommutative geometry. A point particle can be viewed as a brane of dimension zero, while a string can be viewed as a brane of dimension one. In addition to point particles and strings, it is possible to consider higher-dimensional branes. A p-dimensional brane is generally called p-brane.',\n",
       "  -15.146604024107951),\n",
       " ('Beryl May Dent > In Aubin, David; Goldstein, Catherine (eds.). The War of Guns and Mathematics: Mathematical Practices and Communities in France and Its Western Allies around World War I. History of Mathematics. Providence: American Mathematical Society. ISBN 978-1-4704-1469-6.',\n",
       "  -14.90186578800226),\n",
       " (\"Euclidean space > Euclidean space is the fundamental space of geometry, intended to represent physical space. Originally, that is, in Euclid's Elements, it was the three-dimensional space of Euclidean geometry, but in modern mathematics there are Euclidean spaces of any positive integer dimension n, which are called Euclidean n-spaces when one wants to specify their dimension. For n equal to one or two, they are commonly called respectively Euclidean lines and Euclidean planes. The qualifier Euclidean is used to distinguish Euclidean spaces from other spaces that were later considered in physics and modern mathematics.\",\n",
       "  -14.633279523516919)]"
      ]
     },
     "execution_count": 58,
     "metadata": {},
     "output_type": "execute_result"
    }
   ],
   "source": [
    "%%time\n",
    "\n",
    "q = \" OR \".join([row[0] for row in res])\n",
    "\n",
    "res = cur.execute(\n",
    "    f\"\"\"select text, rank\n",
    "                      from imdb\n",
    "                      where text MATCH \"{q }\"\n",
    "                      ORDER BY rank\n",
    "                      limit 5\"\"\",\n",
    ").fetchall()\n",
    "\n",
    "print(text)\n",
    "print()\n",
    "print(q)\n",
    "\n",
    "res"
   ]
  },
  {
   "cell_type": "code",
   "execution_count": 82,
   "id": "a80968c2-cdd8-4130-a2eb-d4b7efa932ee",
   "metadata": {
    "tags": []
   },
   "outputs": [
    {
     "data": {
      "text/plain": [
       "'Which of the following statements accurately describes the dimension of an object in a CW complex?The dimension of an object in a CW complex is the largest n for which the n-skeleton is nontrivial, where the empty set is considered to have dimension -1 and the boundary of a discrete set of points is the empty set.'"
      ]
     },
     "execution_count": 82,
     "metadata": {},
     "output_type": "execute_result"
    }
   ],
   "source": [
    "index = 6\n",
    "df.iloc[index].prompt + df.iloc[index].A"
   ]
  },
  {
   "cell_type": "code",
   "execution_count": 84,
   "id": "2e8b98f4-45a7-4127-bf3e-d9a9b9c53007",
   "metadata": {
    "tags": []
   },
   "outputs": [
    {
     "data": {
      "text/plain": [
       "id                                                          6\n",
       "prompt      Which of the following statements accurately d...\n",
       "A           The dimension of an object in a CW complex is ...\n",
       "B           The dimension of an object in a CW complex is ...\n",
       "C           The dimension of an object in a CW complex is ...\n",
       "D           The dimension of an object in a CW complex is ...\n",
       "E           The dimension of an object in a CW complex dep...\n",
       "answer                                                      A\n",
       "context     Dimension > Moreover, the boundary of a discre...\n",
       "sim_max                                              0.227938\n",
       "sim_min                                               0.12335\n",
       "sim_mean                                             0.203713\n",
       "sim_std                                              0.027361\n",
       "sim_num                                                    11\n",
       "preds                                                       A\n",
       "Name: 6, dtype: object"
      ]
     },
     "execution_count": 84,
     "metadata": {},
     "output_type": "execute_result"
    }
   ],
   "source": [
    "df.iloc[index]"
   ]
  },
  {
   "cell_type": "code",
   "execution_count": null,
   "id": "65f9d248-589e-444a-9cc3-d631d4d5178d",
   "metadata": {},
   "outputs": [],
   "source": []
  }
 ],
 "metadata": {
  "kernelspec": {
   "display_name": "Python 3 (ipykernel)",
   "language": "python",
   "name": "python3"
  },
  "language_info": {
   "codemirror_mode": {
    "name": "ipython",
    "version": 3
   },
   "file_extension": ".py",
   "mimetype": "text/x-python",
   "name": "python",
   "nbconvert_exporter": "python",
   "pygments_lexer": "ipython3",
   "version": "3.10.12"
  }
 },
 "nbformat": 4,
 "nbformat_minor": 5
}
