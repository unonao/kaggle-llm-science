{
 "cells": [
  {
   "cell_type": "code",
   "execution_count": 1,
   "id": "c3fb65c5-ae7f-468e-bdfe-ff45ad055f52",
   "metadata": {
    "tags": []
   },
   "outputs": [
    {
     "name": "stderr",
     "output_type": "stream",
     "text": [
      "/opt/conda/lib/python3.10/site-packages/scipy/__init__.py:146: UserWarning: A NumPy version >=1.16.5 and <1.23.0 is required for this version of SciPy (detected version 1.23.5\n",
      "  warnings.warn(f\"A NumPy version >={np_minversion} and <{np_maxversion}\"\n"
     ]
    },
    {
     "name": "stdout",
     "output_type": "stream",
     "text": [
      "179\n",
      "378\n"
     ]
    }
   ],
   "source": [
    "import os\n",
    "import re\n",
    "import sqlite3\n",
    "\n",
    "import numpy as np\n",
    "import pandas as pd\n",
    "from datasets import load_dataset, load_from_disk\n",
    "from nltk.corpus import stopwords\n",
    "from sklearn.feature_extraction import text\n",
    "from sklearn.feature_extraction.text import CountVectorizer, TfidfVectorizer\n",
    "\n",
    "stop_words = list(stopwords.words(\"english\"))\n",
    "print(len(stop_words))\n",
    "stop_words2 = text.ENGLISH_STOP_WORDS\n",
    "stop_words = list(stop_words2.union(stop_words))\n",
    "\n",
    "print(len(stop_words))"
   ]
  },
  {
   "cell_type": "code",
   "execution_count": 24,
   "id": "d562f0b3-240f-4eb0-9663-47d8a6b3eab7",
   "metadata": {
    "tags": []
   },
   "outputs": [],
   "source": [
    "# 読み込み\n",
    "df = pd.read_csv(\"../preprocessed/334_tfidf_gpu/000/data2.csv\")\n",
    "file_path = \"../dataset/llm-science-fts-split/fts4.db\"\n",
    "db = sqlite3.connect(file_path)\n",
    "cur = db.cursor()"
   ]
  },
  {
   "cell_type": "code",
   "execution_count": 25,
   "id": "75cc7bb0-a3b7-4965-9bac-f31c4595e4e8",
   "metadata": {
    "tags": []
   },
   "outputs": [],
   "source": [
    "cur.execute(\"PRAGMA synchronous = OFF\")\n",
    "cur.execute(\"PRAGMA journal_mode = OFF\")\n",
    "cur.execute(\"PRAGMA locking_mode = EXCLUSIVE\")\n",
    "cur.execute(\"PRAGMA count_changes = OFF\")\n",
    "\"\"\"\n",
    "PRAGMA temp_store = MEMORY;\n",
    "PRAGMA PAGE_SIZE = 4096;\n",
    "PRAGMA default_cache_size=700000; \n",
    "PRAGMA cache_size=700000;\n",
    "\"\"\"\n",
    "db.commit()"
   ]
  },
  {
   "cell_type": "code",
   "execution_count": 26,
   "id": "8f1da2cd-6b96-4105-aa11-9b66c96d2d38",
   "metadata": {
    "tags": []
   },
   "outputs": [
    {
     "data": {
      "text/html": [
       "<div>\n",
       "<style scoped>\n",
       "    .dataframe tbody tr th:only-of-type {\n",
       "        vertical-align: middle;\n",
       "    }\n",
       "\n",
       "    .dataframe tbody tr th {\n",
       "        vertical-align: top;\n",
       "    }\n",
       "\n",
       "    .dataframe thead th {\n",
       "        text-align: right;\n",
       "    }\n",
       "</style>\n",
       "<table border=\"1\" class=\"dataframe\">\n",
       "  <thead>\n",
       "    <tr style=\"text-align: right;\">\n",
       "      <th></th>\n",
       "      <th>prompt</th>\n",
       "      <th>A</th>\n",
       "      <th>B</th>\n",
       "      <th>C</th>\n",
       "      <th>D</th>\n",
       "      <th>E</th>\n",
       "      <th>answer</th>\n",
       "      <th>context</th>\n",
       "      <th>a_len</th>\n",
       "    </tr>\n",
       "  </thead>\n",
       "  <tbody>\n",
       "    <tr>\n",
       "      <th>8</th>\n",
       "      <td>What is the term used in astrophysics to descr...</td>\n",
       "      <td>Blueshifting</td>\n",
       "      <td>Redshifting</td>\n",
       "      <td>Reddening</td>\n",
       "      <td>Whitening</td>\n",
       "      <td>Yellowing</td>\n",
       "      <td>C</td>\n",
       "      <td>Redshift &gt; Effects from physical optics or rad...</td>\n",
       "      <td>1</td>\n",
       "    </tr>\n",
       "    <tr>\n",
       "      <th>24</th>\n",
       "      <td>What is the decay energy for the free neutron ...</td>\n",
       "      <td>0.013343 MeV</td>\n",
       "      <td>0.013 MeV</td>\n",
       "      <td>1,000 MeV</td>\n",
       "      <td>0.782 MeV</td>\n",
       "      <td>0.782343 MeV</td>\n",
       "      <td>E</td>\n",
       "      <td>Yttrium-90 &gt; Decay &gt; 90Y undergoes β− decay to...</td>\n",
       "      <td>2</td>\n",
       "    </tr>\n",
       "    <tr>\n",
       "      <th>31</th>\n",
       "      <td>Which mathematical function is commonly used t...</td>\n",
       "      <td>Trigonometric function</td>\n",
       "      <td>Quadratic function</td>\n",
       "      <td>Exponential function</td>\n",
       "      <td>Logarithmic function</td>\n",
       "      <td>Transfer function</td>\n",
       "      <td>E</td>\n",
       "      <td>C1orf167 &gt; Function &gt; At this time the functio...</td>\n",
       "      <td>2</td>\n",
       "    </tr>\n",
       "    <tr>\n",
       "      <th>42</th>\n",
       "      <td>Who was the first to determine the velocity of...</td>\n",
       "      <td>Fraunhofer</td>\n",
       "      <td>William Huggins</td>\n",
       "      <td>Hippolyte Fizeau</td>\n",
       "      <td>Vogel and Scheiner</td>\n",
       "      <td>None of the above</td>\n",
       "      <td>B</td>\n",
       "      <td>Redshift &gt; History &gt; The history of the subjec...</td>\n",
       "      <td>1</td>\n",
       "    </tr>\n",
       "    <tr>\n",
       "      <th>51</th>\n",
       "      <td>What is the term used to describe the conducti...</td>\n",
       "      <td>Intrinsic semiconductors</td>\n",
       "      <td>Electrical impedance tomography</td>\n",
       "      <td>Quantum conduction</td>\n",
       "      <td>Carrier mobility</td>\n",
       "      <td>Variable range hopping</td>\n",
       "      <td>E</td>\n",
       "      <td>Electrical resistivity and conductivity &gt; Temp...</td>\n",
       "      <td>2</td>\n",
       "    </tr>\n",
       "    <tr>\n",
       "      <th>...</th>\n",
       "      <td>...</td>\n",
       "      <td>...</td>\n",
       "      <td>...</td>\n",
       "      <td>...</td>\n",
       "      <td>...</td>\n",
       "      <td>...</td>\n",
       "      <td>...</td>\n",
       "      <td>...</td>\n",
       "      <td>...</td>\n",
       "    </tr>\n",
       "    <tr>\n",
       "      <th>1174</th>\n",
       "      <td>What is the approximate number of main galaxie...</td>\n",
       "      <td>About 100</td>\n",
       "      <td>About 10</td>\n",
       "      <td>About 200</td>\n",
       "      <td>About 73</td>\n",
       "      <td>About 50</td>\n",
       "      <td>D</td>\n",
       "      <td>Eridanus II &gt; Stellar properties &gt; The cluster...</td>\n",
       "      <td>2</td>\n",
       "    </tr>\n",
       "    <tr>\n",
       "      <th>1184</th>\n",
       "      <td>What is the suborder classification of the fam...</td>\n",
       "      <td>Karl U</td>\n",
       "      <td>Tectarioideae</td>\n",
       "      <td>Tectaria</td>\n",
       "      <td>Polypodiaceae sensu lato</td>\n",
       "      <td>Polypodiineae</td>\n",
       "      <td>E</td>\n",
       "      <td>Fluocinolone acetonide &gt; Classification &gt; Fluo...</td>\n",
       "      <td>2</td>\n",
       "    </tr>\n",
       "    <tr>\n",
       "      <th>1188</th>\n",
       "      <td>What should be the appropriate heating tempera...</td>\n",
       "      <td>90°C</td>\n",
       "      <td>130°C</td>\n",
       "      <td>75°C</td>\n",
       "      <td>150°C</td>\n",
       "      <td>110°C</td>\n",
       "      <td>C</td>\n",
       "      <td>Soy candle &gt; Soy wax &gt; Soy wax is made by the ...</td>\n",
       "      <td>1</td>\n",
       "    </tr>\n",
       "    <tr>\n",
       "      <th>1192</th>\n",
       "      <td>In what year did Crayola formulate the color c...</td>\n",
       "      <td>1903</td>\n",
       "      <td>1590</td>\n",
       "      <td>1594</td>\n",
       "      <td>1850</td>\n",
       "      <td>1900</td>\n",
       "      <td>A</td>\n",
       "      <td>Copper (color) &gt; Variations of copper &gt; Pale c...</td>\n",
       "      <td>1</td>\n",
       "    </tr>\n",
       "    <tr>\n",
       "      <th>1195</th>\n",
       "      <td>What is the systematic name of the enzyme clas...</td>\n",
       "      <td>Medium-chain acyl-CoA hydrolase</td>\n",
       "      <td>Medium-chain hydrolase</td>\n",
       "      <td>Medium-chain acyl coenzyme A hydrolase</td>\n",
       "      <td>Medium-chain acyl-thioester hydrolase</td>\n",
       "      <td>ADP-dependent-medium-chain-acyl-CoA hydrolase</td>\n",
       "      <td>E</td>\n",
       "      <td>ADP-dependent medium-chain-acyl-CoA hydrolase ...</td>\n",
       "      <td>3</td>\n",
       "    </tr>\n",
       "  </tbody>\n",
       "</table>\n",
       "<p>184 rows × 9 columns</p>\n",
       "</div>"
      ],
      "text/plain": [
       "                                                 prompt  \\\n",
       "8     What is the term used in astrophysics to descr...   \n",
       "24    What is the decay energy for the free neutron ...   \n",
       "31    Which mathematical function is commonly used t...   \n",
       "42    Who was the first to determine the velocity of...   \n",
       "51    What is the term used to describe the conducti...   \n",
       "...                                                 ...   \n",
       "1174  What is the approximate number of main galaxie...   \n",
       "1184  What is the suborder classification of the fam...   \n",
       "1188  What should be the appropriate heating tempera...   \n",
       "1192  In what year did Crayola formulate the color c...   \n",
       "1195  What is the systematic name of the enzyme clas...   \n",
       "\n",
       "                                    A                                B  \\\n",
       "8                        Blueshifting                      Redshifting   \n",
       "24                       0.013343 MeV                        0.013 MeV   \n",
       "31             Trigonometric function               Quadratic function   \n",
       "42                         Fraunhofer                  William Huggins   \n",
       "51           Intrinsic semiconductors  Electrical impedance tomography   \n",
       "...                               ...                              ...   \n",
       "1174                        About 100                         About 10   \n",
       "1184                           Karl U                    Tectarioideae   \n",
       "1188                             90°C                            130°C   \n",
       "1192                             1903                             1590   \n",
       "1195  Medium-chain acyl-CoA hydrolase           Medium-chain hydrolase   \n",
       "\n",
       "                                           C  \\\n",
       "8                                  Reddening   \n",
       "24                                 1,000 MeV   \n",
       "31                      Exponential function   \n",
       "42                          Hippolyte Fizeau   \n",
       "51                        Quantum conduction   \n",
       "...                                      ...   \n",
       "1174                               About 200   \n",
       "1184                                Tectaria   \n",
       "1188                                    75°C   \n",
       "1192                                    1594   \n",
       "1195  Medium-chain acyl coenzyme A hydrolase   \n",
       "\n",
       "                                          D  \\\n",
       "8                                 Whitening   \n",
       "24                                0.782 MeV   \n",
       "31                     Logarithmic function   \n",
       "42                       Vogel and Scheiner   \n",
       "51                         Carrier mobility   \n",
       "...                                     ...   \n",
       "1174                               About 73   \n",
       "1184               Polypodiaceae sensu lato   \n",
       "1188                                  150°C   \n",
       "1192                                   1850   \n",
       "1195  Medium-chain acyl-thioester hydrolase   \n",
       "\n",
       "                                                  E answer  \\\n",
       "8                                         Yellowing      C   \n",
       "24                                     0.782343 MeV      E   \n",
       "31                                Transfer function      E   \n",
       "42                                None of the above      B   \n",
       "51                           Variable range hopping      E   \n",
       "...                                             ...    ...   \n",
       "1174                                       About 50      D   \n",
       "1184                                  Polypodiineae      E   \n",
       "1188                                          110°C      C   \n",
       "1192                                           1900      A   \n",
       "1195  ADP-dependent-medium-chain-acyl-CoA hydrolase      E   \n",
       "\n",
       "                                                context  a_len  \n",
       "8     Redshift > Effects from physical optics or rad...      1  \n",
       "24    Yttrium-90 > Decay > 90Y undergoes β− decay to...      2  \n",
       "31    C1orf167 > Function > At this time the functio...      2  \n",
       "42    Redshift > History > The history of the subjec...      1  \n",
       "51    Electrical resistivity and conductivity > Temp...      2  \n",
       "...                                                 ...    ...  \n",
       "1174  Eridanus II > Stellar properties > The cluster...      2  \n",
       "1184  Fluocinolone acetonide > Classification > Fluo...      2  \n",
       "1188  Soy candle > Soy wax > Soy wax is made by the ...      1  \n",
       "1192  Copper (color) > Variations of copper > Pale c...      1  \n",
       "1195  ADP-dependent medium-chain-acyl-CoA hydrolase ...      3  \n",
       "\n",
       "[184 rows x 9 columns]"
      ]
     },
     "execution_count": 26,
     "metadata": {},
     "output_type": "execute_result"
    }
   ],
   "source": [
    "df[\"a_len\"] = df[\"A\"].apply(lambda x: len(x.split()))\n",
    "tmp_df = df[df[\"a_len\"] <= 3]\n",
    "tmp_df"
   ]
  },
  {
   "cell_type": "code",
   "execution_count": 36,
   "id": "9e425520-6f8c-4fef-8a8c-4ee3b5e27789",
   "metadata": {
    "tags": []
   },
   "outputs": [
    {
     "name": "stdout",
     "output_type": "stream",
     "text": [
      "【Prompt】  Which mathematical function is commonly used to characterize linear time-invariant systems?\n",
      "【Answer E】  Transfer function\n",
      "(characterize AND Trigonometric AND function) OR (commonly AND Trigonometric AND function) OR (function AND Trigonometric AND function) OR (invariant AND Trigonometric AND function) OR (characterize AND Quadratic AND function) OR (commonly AND Quadratic AND function) OR (function AND Quadratic AND function) OR (invariant AND Quadratic AND function) OR (characterize AND Exponential AND function) OR (commonly AND Exponential AND function) OR (function AND Exponential AND function) OR (invariant AND Exponential AND function) OR (characterize AND Logarithmic AND function) OR (commonly AND Logarithmic AND function) OR (function AND Logarithmic AND function) OR (invariant AND Logarithmic AND function) OR (characterize AND Transfer AND function) OR (commonly AND Transfer AND function) OR (function AND Transfer AND function) OR (invariant AND Transfer AND function) OR (characterize AND linear) OR (commonly AND used) OR (function AND commonly) OR (invariant AND systems) OR (linear AND time)\n",
      "CPU times: user 1.01 s, sys: 56.4 ms, total: 1.06 s\n",
      "Wall time: 1.06 s\n"
     ]
    },
    {
     "data": {
      "text/plain": [
       "[(\"Species discovery curve > In ecology, the species discovery curve (also known as a species accumulation curve or collector's curve) is a graph recording the cumulative number of species of living things recorded in a particular environment as a function of the cumulative effort expended searching for them (usually measured in person-hours). It is related to, but not identical with, the species-area curve. The species discovery curve will necessarily be increasing, and will normally be negatively accelerated (that is, its rate of increase will slow down). Plotting the curve gives a way of estimating the number of additional species that will be discovered with further effort. This is usually done by fitting some kind of functional form to the curve, either by eye or by using non-linear regression techniques. Commonly used functional forms include the logarithmic function and the negative exponential function. The advantage of the negative exponential function is that it tends to an asymptote which equals the number of species that would be discovered if infinite effort is expended. However, some theoretical approaches imply that the logarithmic curve may be more appropriate,[citation needed] implying that though species discovery will slow down with increasing effort, it will never entirely cease, so there is no asymptote, and if infinite effort was expended, an infinite number of species would be discovered.[citation needed] \",\n",
       "  -103.97865685801932),\n",
       " ('Trigonometric functions > A positive integer appearing as a superscript after the symbol of the function denotes exponentiation, not function composition. For example sin 2 \\u2061 x {\\\\displaystyle \\\\sin ^{2}x} and sin 2 \\u2061 ( x ) {\\\\displaystyle \\\\sin ^{2}(x)} denote sin \\u2061 ( x ) ⋅ sin \\u2061 ( x ) , {\\\\displaystyle \\\\sin(x)\\\\cdot \\\\sin(x),} not sin \\u2061 ( sin \\u2061 x ) . {\\\\displaystyle \\\\sin(\\\\sin x).} This differs from the (historically later) general functional notation in which f 2 ( x ) = ( f ∘ f ) ( x ) = f ( f ( x ) ) . {\\\\displaystyle f^{2}(x)=(f\\\\circ f)(x)=f(f(x)).} However, the exponent − 1 {\\\\displaystyle {-1}} is commonly used to denote the inverse function, not the reciprocal. For example sin − 1 \\u2061 x {\\\\displaystyle \\\\sin ^{-1}x} and sin − 1 \\u2061 ( x ) {\\\\displaystyle \\\\sin ^{-1}(x)} denote the inverse trigonometric function alternatively written arcsin \\u2061 x : {\\\\displaystyle \\\\arcsin x\\\\colon } The equation θ = sin − 1 \\u2061 x {\\\\displaystyle \\\\theta =\\\\sin ^{-1}x} implies sin \\u2061 θ = x , {\\\\displaystyle \\\\sin \\\\theta =x,} not θ ⋅ sin \\u2061 x = 1. {\\\\displaystyle \\\\theta \\\\cdot \\\\sin x=1.} In this case, the superscript could be considered as denoting a composed or iterated function, but negative superscripts other than − 1 {\\\\displaystyle {-1}} are not in common use. If the acute angle θ is given, then any right triangles that have an angle of θ are similar to each other. This means that the ratio of any two side lengths depends only on θ.',\n",
       "  -101.0113082263997),\n",
       " ('Special functions > Special functions are particular mathematical functions that have more or less established names and notations due to their importance in mathematical analysis, functional analysis, geometry, physics, or other applications. The term is defined by consensus, and thus lacks a general formal definition, but the list of mathematical functions contains functions that are commonly accepted as special. Many special functions appear as solutions of differential equations or integrals of elementary functions. Therefore, tables of integrals usually include descriptions of special functions, and tables of special functions include most important integrals; at least, the integral representation of special functions. Because symmetries of differential equations are essential to both physics and mathematics, the theory of special functions is closely related to the theory of Lie groups and Lie algebras, as well as certain topics in mathematical physics. Symbolic computation engines usually recognize the majority of special functions. Functions with established international notations are the sine ( sin {\\\\displaystyle \\\\sin } ), cosine ( cos {\\\\displaystyle \\\\cos } ), exponential function ( exp {\\\\displaystyle \\\\exp } ), and error function ( erf {\\\\displaystyle \\\\operatorname {erf} } or erfc {\\\\displaystyle \\\\operatorname {erfc} } ). Some special functions have several notations: The natural logarithm may be denoted ln {\\\\displaystyle \\\\ln } , log {\\\\displaystyle \\\\log } , log e {\\\\displaystyle \\\\log _{e}} , or Log {\\\\displaystyle \\\\operatorname {Log} } depending on the context.',\n",
       "  -98.19577574043223),\n",
       " (\"Tennessee Governor's Academy for Math and Science > The Tennessee Governor's Academy for Mathematics and Science, commonly Tennessee Governor's Academy or TGA, was a residential high school located in Knoxville, Tennessee on the campus of The Tennessee School for the Deaf (TSD). It was founded in 2007 by Governor Phil Bredesen as part of an effort to provide challenges for students across the academic spectrum. Its inaugural class consisted of 24 high school juniors from throughout the state. The academy was closed on May 31, 2011, due to lack of state funding. Pre-Calculus served as the introductory mathematics class at TGA for those who had not taken the course elsewhere or those who are not prepared to take Calculus upon arrival at TGA. The course was similar in content to the Math 130 course offered at the University of Tennessee at Knoxville. Generally speaking, the course content serves to prepare juniors to take Calculus during the Spring semester of the junior year. Content includes a review of algebraic, logarithmic, exponential, and trigonometric functions.\",\n",
       "  -95.86351463786761),\n",
       " (\"Transfer function > For example, the transfer function of an electronic filter is the voltage amplitude at the output as a function of the frequency of a constant amplitude sine wave applied to the input. For optical imaging devices, the optical transfer function is the Fourier transform of the point spread function (hence a function of spatial frequency). Transfer functions are commonly used in the analysis of systems such as single-input single-output filters in the fields of signal processing, communication theory, and control theory. The term is often used exclusively to refer to linear time-invariant (LTI) systems. Most real systems have non-linear input/output characteristics, but many systems, when operated within nominal parameters (not over-driven) have behavior close enough to linear that LTI system theory is an acceptable representation of the input/output behavior. The descriptions below are given in terms of a complex variable, s = σ + j ⋅ ω {\\\\displaystyle s=\\\\sigma +j\\\\cdot \\\\omega } , which bears a brief explanation. In many applications, it is sufficient to set σ = 0 {\\\\displaystyle \\\\sigma =0} (thus s = j ⋅ ω {\\\\displaystyle s=j\\\\cdot \\\\omega } ), which reduces the Laplace transforms with complex arguments to Fourier transforms with real argument ω. This is common in applications primarily interested in the LTI system's steady-state response (often the case in signal processing and communication theory), not the fleeting turn-on and turn-off transient response or stability issues.\",\n",
       "  -93.74309260009612),\n",
       " (\"Tennessee Governor's Academy for Math and Science > Content includes a review of algebraic, logarithmic, exponential, and trigonometric functions. The calculus course was designed by professors at the University of Tennessee at Knoxville and based on Math 141 for the first semester and Math 142 for the second semester of the TGA calculus course. Mathematics for the Life Sciences, commonly MLS, was designed by professors at the University of Tennessee at Knoxville and based on Math 151. MLS provided an introduction to a variety of mathematical topics of use in analyzing problems arising in the biological sciences. Also designed by university professors, this course was modeled on Physics 135, an introduction to Physics for Math and Physical Science Majors at the university. The course was calculus-based, but because most students entering TGA had no prior knowledge of calculus, began with topics for which the calculus is either unnecessary, not required by the curriculum set by the state, or easily taught around. At TGA, the Humanities course was designed to fulfill the requirements for the curriculum of the State of Tennessee for American History and English III. The students at the Tennessee Governor's Academy lived in cottages on the Tennessee School for the Deaf campus.\",\n",
       "  -93.40932220585762),\n",
       " (\"Trigonometric functions > Kantabutra, Vitit, On hardware for computing exponential and trigonometric functions, IEEE Trans. Computers 45 (3), 328–339 (1996). Maor, Eli, Trigonometric Delights, Princeton Univ. Press. (1998). Reprint edition (2002): ISBN 0-691-09541-8. Needham, Tristan, Preface to Visual Complex Analysis. Oxford University Press, (1999). ISBN 0-19-853446-9. Nielsen, Kaj L. (1966), Logarithmic and Trigonometric Tables to Five Places (2nd ed.), New York: Barnes & Noble, LCCN 61-9103 O'Connor, J. J., and E. F. Robertson, Trigonometric functions, MacTutor History of Mathematics archive. (1996).\",\n",
       "  -80.06037307114411),\n",
       " (\"Transcendental curve > This applies not just to sinusoidal curves, therefore; but to large classes of curves showing oscillations. The term is originally attributed to Leibniz. Cycloid Trigonometric functions Logarithmic and exponential functions Archimedes' spiral Logarithmic spiral Catenary Tricomplex cosexponential Newman, JA, The Universal Encyclopedia of Mathematics, Pan Reference Books, 1976, ISBN 0-330-24396-9, Transcendental curves.\",\n",
       "  -78.88162375533449),\n",
       " (\"Trigonometric functions > From this, it can be deduced that cos \\u2061 z = ∏ n = 1 ∞ ( 1 − z 2 ( n − 1 / 2 ) 2 π 2 ) , z ∈ C . {\\\\displaystyle \\\\cos z=\\\\prod _{n=1}^{\\\\infty }\\\\left(1-{\\\\frac {z^{2}}{(n-1/2)^{2}\\\\pi ^{2}}}\\\\right),\\\\quad z\\\\in \\\\mathbb {C} .} Euler's formula relates sine and cosine to the exponential function: e i x = cos \\u2061 x + i sin \\u2061 x . {\\\\displaystyle e^{ix}=\\\\cos x+i\\\\sin x.} This formula is commonly considered for real values of x, but it remains true for all complex values. Proof: Let f 1 ( x ) = cos \\u2061 x + i sin \\u2061 x , {\\\\displaystyle f_{1}(x)=\\\\cos x+i\\\\sin x,} and f 2 ( x ) = e i x . {\\\\displaystyle f_{2}(x)=e^{ix}.} One has d f j ( x ) / d x = i f j ( x ) {\\\\displaystyle df_{j}(x)/dx=if_{j}(x)} for j = 1, 2. The quotient rule implies thus that d / d x ( f 1 ( x ) / f 2 ( x ) ) = 0 {\\\\displaystyle d/dx\\\\,(f_{1}(x)/f_{2}(x))=0} . Therefore, f 1 ( x ) / f 2 ( x ) {\\\\displaystyle f_{1}(x)/f_{2}(x)} is a constant function, which equals 1, as f 1 ( 0 ) = f 2 ( 0 ) = 1. {\\\\displaystyle f_{1}(0)=f_{2}(0)=1.} This proves the formula.\",\n",
       "  -77.69624212081227),\n",
       " (\"Stretched exponential function > If the integrated distribution is a stretched exponential, the normalized probability density function is given by[citation needed] p ( τ ∣ λ , β ) d τ = λ Γ ( 1 + β − 1 ) e − ( τ λ ) β d τ {\\\\displaystyle p(\\\\tau \\\\mid \\\\lambda ,\\\\beta )~d\\\\tau ={\\\\frac {\\\\lambda }{\\\\Gamma (1+\\\\beta ^{-1})}}~e^{-(\\\\tau \\\\lambda )^{\\\\beta }}~d\\\\tau } Note that confusingly some authors have been known to use the name stretched exponential to refer to the Weibull distribution. A modified stretched exponential function f β ( t ) = e − t β ( t ) {\\\\displaystyle f_{\\\\beta }(t)=e^{-t^{\\\\beta (t)}}} with a slowly t-dependent exponent β has been used for biological survival curves. In wireless communications, a scaled version of the stretched exponential function has been shown to appear in the Laplace Transform for the interference power I {\\\\displaystyle I} when the transmitters' locations are modeled as a 2D Poisson Point Process with no exclusion region around the receiver. The Laplace Transform can be written for arbitrary fading distribution as follows: L I ( s ) = exp \\u2061 ( − π λ E [ g 2 η ] Γ ( 1 − 2 η ) s 2 η ) = exp \\u2061 ( − t s β ) {\\\\displaystyle L_{I}(s)=\\\\exp \\\\left(-\\\\pi \\\\lambda \\\\mathbb {E} {\\\\left[g^{\\\\frac {2}{\\\\eta }}\\\\right]}\\\\Gamma {\\\\left(1-{\\\\frac {2}{\\\\eta }}\\\\right)}s^{\\\\frac {2}{\\\\eta }}\\\\right)=\\\\exp \\\\left(-ts^{\\\\beta }\\\\right)} where g {\\\\displaystyle g} is the power of the fading, η {\\\\displaystyle \\\\eta } is the path loss exponent, λ {\\\\displaystyle \\\\lambda } is the density of the 2D Poisson Point Process, Γ ( ⋅ ) {\\\\displaystyle \\\\Gamma (\\\\cdot )} is the Gamma function, and E [ x ] {\\\\displaystyle \\\\mathbb {E} [x]} is the expectation of the variable x {\\\\displaystyle x} .[citation needed]  The same reference also shows how to obtain the inverse Laplace Transform for the stretched exponential exp \\u2061 ( − s β ) {\\\\displaystyle \\\\exp \\\\left(-s^{\\\\beta }\\\\right)} for higher order integer β = β q β b {\\\\displaystyle \\\\beta =\\\\beta _{q}\\\\beta _{b}} from lower order integers β a {\\\\displaystyle \\\\beta _{a}} and β b {\\\\displaystyle \\\\beta _{b}} .[citation needed]  The stretched exponential has been used to characterize Internet media accessing patterns, such as YouTube and other stable streaming media sites. The commonly agreed power-law accessing patterns of Web workloads mainly reflect text-based content Web workloads, such as daily updated news sites.[citation needed]  Kohlrausch, R. (1854).\",\n",
       "  -77.51931798229678)]"
      ]
     },
     "execution_count": 36,
     "metadata": {},
     "output_type": "execute_result"
    }
   ],
   "source": [
    "%%time\n",
    "\n",
    "index = 2\n",
    "text = (\n",
    "    tmp_df.iloc[index].prompt\n",
    "    + \" \"\n",
    "    + tmp_df.iloc[index].A\n",
    "    + \" \"\n",
    "    + tmp_df.iloc[index].B\n",
    "    + \" \"\n",
    "    + tmp_df.iloc[index].C\n",
    "    + \" \"\n",
    "    + tmp_df.iloc[index].D\n",
    "    + \" \"\n",
    "    + tmp_df.iloc[index].E\n",
    ")\n",
    "\n",
    "print(\"【Prompt】 \", tmp_df.iloc[index][\"prompt\"])\n",
    "answer = tmp_df.iloc[index][\"answer\"]\n",
    "print(f\"【Answer {answer}】 \", tmp_df.iloc[index][tmp_df.iloc[index][\"answer\"]])\n",
    "\n",
    "if tmp_df.iloc[index][\"a_len\"] <= 3:\n",
    "    vectorizer = CountVectorizer(analyzer=\"word\", ngram_range=(1, 1), stop_words=stop_words, max_features=4)\n",
    "    vectorizer.fit([tmp_df.iloc[index].prompt])\n",
    "    prompt_features = list(vectorizer.get_feature_names_out())\n",
    "    features = []\n",
    "    for option in \"ABCDE\":\n",
    "        for word in prompt_features:\n",
    "            text = re.sub(r\"[^a-zA-Z0-9]\", \" \", tmp_df.iloc[index][option])\n",
    "            features.append(f\"{word} {text}\")\n",
    "    vectorizer = CountVectorizer(analyzer=\"word\", ngram_range=(2, 2), stop_words=stop_words, max_features=5)\n",
    "    vectorizer.fit([tmp_df.iloc[index].prompt])\n",
    "    features += list(vectorizer.get_feature_names_out())\n",
    "\n",
    "    q = \" OR \".join([\"(\" + \" AND \".join(text.split()) + \")\" for text in features])\n",
    "else:\n",
    "    vectorizer = CountVectorizer(analyzer=\"word\", ngram_range=(2, 2), stop_words=stop_words, max_features=20)\n",
    "    tfidf_matrix = vectorizer.fit_transform([text])\n",
    "    features = list(vectorizer.get_feature_names_out())\n",
    "    q = \" OR \".join([\"(\" + \" AND \".join(text.split()) + \")\" for text in features])\n",
    "\n",
    "print(q)\n",
    "\n",
    "\n",
    "res = cur.execute(\n",
    "    f\"\"\"select text, rank\n",
    "      from imdb\n",
    "      where text MATCH \"{q}\"\n",
    "      ORDER BY rank\n",
    "      limit 10\"\"\",\n",
    ").fetchall()\n",
    "\n",
    "\n",
    "res"
   ]
  },
  {
   "cell_type": "code",
   "execution_count": null,
   "id": "779969fb-fdb1-47aa-aaab-9a651a4988c0",
   "metadata": {},
   "outputs": [],
   "source": []
  },
  {
   "cell_type": "code",
   "execution_count": 8,
   "id": "c6eef8c3-21cc-47d2-90f4-b0d446e39f99",
   "metadata": {
    "tags": []
   },
   "outputs": [
    {
     "name": "stdout",
     "output_type": "stream",
     "text": [
      "【Prompt】  What is the approximate distance of NGC 7129 from Earth?\n",
      "【Answer D】  3.3 light years\n",
      "(300 AND kilometers) OR (300 AND miles) OR (33 AND light) OR (330 AND light) OR (7129 AND earth) OR (approximate AND distance) OR (distance AND ngc) OR (earth AND 33) OR (kilometers AND light) OR (light AND years) OR (miles AND 300) OR (ngc AND 7129) OR (years AND 300) OR (years AND 330)\n",
      "CPU times: user 906 ms, sys: 52.7 ms, total: 959 ms\n",
      "Wall time: 956 ms\n"
     ]
    },
    {
     "data": {
      "text/plain": [
       "[('NGC 3007 > NGC 3007 is an edge-on, magnitude 13.4, lenticular galaxy in the constellation of Sextans, discovered by Édouard Stephan on March 16, 1855. It is about 115 thousand light years across, and with a recessional velocity of 6,520 kilometers per second, is at a distance of over 300 million light-years from the Sun. Results for object NGC 3007 (NGC 3007). NASA/IPAC Extragalactic Database. California Institute of Technology. Retrieved 2021-02-14. Search specification: NGC 3007. HyperLeda. Université Claude Bernard Lyon 1.',\n",
       "  -61.299159859111015),\n",
       " (\"Leo (constellation) > R Leonis, 330 light-years from Earth, has a period of 310 days and a diameter of 450 solar diameters. The star Wolf 359 (CN Leonis), one of the nearest stars to Earth at 7.8 light-years away, is in Leo. Wolf 359 is a red dwarf of magnitude 13.5; it periodically brightens by one magnitude or less because it is a flare star. Gliese 436, a faint star in Leo about 33 light-years away from the Sun, is orbited by a transiting Neptune-mass extrasolar planet. The carbon star CW Leo (IRC +10216) is the brightest star in the night sky at the infrared N-band (10 μm wavelength). The star SDSS J102915+172927 (Caffau's star) is a population II star in the galactic halo seen in Leo. It is about 13 billion years old, making it one of the oldest stars in the Galaxy. It has the lowest metallicity of any known star.\",\n",
       "  -49.25312337075532),\n",
       " (\"NGC 512 > It has a recessional velocity of approximately 4810 kilometers per second. The distance of NGC 512 from the Solar System can be estimated using Hubble's law, which puts the object at roughly 220 million light-years from the Sun. List of NGC objects (1–1000) NGC 512. Retrieved 2017-12-09. Revised NGC Data for NGC 512. spider.seds.org. Retrieved 2017-10-05. Your NED Search Results. ned.ipac.caltech.edu. Retrieved 2017-10-05. An object's distance from Earth can be determined using Hubble's law: v=Ho is Hubble's constant (70±5 (km/s)/Mpc). The relative uncertainty Δd/d divided by the distance is equal to the sum of the relative uncertainties of the velocity and v=Ho New General Catalog Objects: NGC 500 - 549. cseligman.com. Retrieved 2017-10-16. astronomy-mall.com/Adventures.In.Deep.Space/NGC%201-7840%20complete.htm.\",\n",
       "  -46.3641843434913),\n",
       " (\"NGC 513 > One supernova has been observed in NGC 513: SN 2023jpp (type Ia, mag. 17.6). The galaxy has an apparent size of 0.9 × 0.6 arcmins and a recessional velocity of approximately 5807 kilometers per second. The redshift of 0.01956 allows an estimate of the galaxy's distance using Hubble's law, which puts the object at roughly 260 million light-years from the Sun. List of NGC objects (1–1000) NGC 513. Retrieved 2017-12-09. Revised NGC Data for NGC 513. spider.seds.org. Retrieved 2017-10-05. Your NED Search Results. ned.ipac.caltech.edu. Retrieved 2017-10-05. An object's distance from Earth can be determined using Hubble's law: v=Ho is Hubble's constant (70±5 (km/s)/Mpc).\",\n",
       "  -45.92746326324673),\n",
       " (\"NGC 301 > NGC 301 is a spiral galaxy located approximately 204 million light-years from the Solar System in the constellation Cetus. It was discovered in 1886 by Frank Muller. List of NGC objects (1–1000) NASA/IPAC Extragalactic Database. Results for NGC 0301. Retrieved September 2, 2016. An object's distance from Earth can be determined using Hubble's law: v=Ho is Hubble's constant (70±5 (km/s)/Mpc). The relative uncertainty Δd/d divided by the distance is equal to the sum of the relative uncertainties of the velocity and v=Ho New General Catalog Objects: NGC 300 - 349. Cseligman.\",\n",
       "  -45.13914258789912),\n",
       " ('NGC 2336 > NGC 2336 is a barred spiral galaxy located in the constellation Camelopardalis. It is located at a distance of circa 100 million light years from Earth, which, given its apparent dimensions, means that NGC 2336 is about 200,000 light years across. It was discovered by Wilhelm Tempel in 1876. NGC 2336 is a barred spiral galaxy, featuring a small optical bar. At least 8 spiral arms, with numerous HII regions, emanate from the ring-like structure around the bar. This ring has a radius of approximately 34 arcseconds, which corresponds to 5.3 kpc at the distance of NGC 2336. In the large arms of the galaxy have been observed 28 HII regions that may host young massive star clusters, and for two of them the nebular emission comprises most of the flux. Three of these HII areas have ages calculated to be 100 to 300 million years and have sizes between 300 and 600 parsecs.',\n",
       "  -45.081231184790255),\n",
       " ('Macha crater > Macha (Russian: Мача) is a field of five meteorite craters located 685 kilometers (425 miles) northeast of Yakutsk in the Sakha Republic in Siberia, Russia, ranging from 60 to 300 m (200 to 980 ft) in diameter. The two largest craters form the pear-shaped Abram Lake while the remaining three are located to the north. They have been very well preserved. The craters are the result of the fall of possible iron meteorites at approximately 5300 BCE (Holocene), which would give them an age of about 7,300 years. List of impact craters on Earth Macha. Earth Impact Database. Planetary and Space Science Centre University of New Brunswick Fredericton. Retrieved 2009-08-15.',\n",
       "  -43.58356563603167),\n",
       " ('NGC 7129 > NGC 7129 is a reflection nebula located 3,300 light years away in the constellation Cepheus. A young open cluster is responsible for illuminating the surrounding nebula. A recent survey indicates the cluster contains more than 130 stars less than 1 million years old.[citation needed]  NGC 7129 is located just half a degree from nearby cluster NGC 7142. The nebula is rosebud-shaped; the young stars have blown a large, oddly shaped bubble in the molecular cloud that once surrounded them at their birth. The rosy pink color comes from glowing dust grains on the surface of the bubble being heated by the intense light from the young stars within. The ultra-violet and visible light produced by the young stars is absorbed by the surrounding dust grains. They are heated by this process and release the energy at longer infrared wavelengths as photographed by the Spitzer Space Telescope.',\n",
       "  -43.30187079061053),\n",
       " ('List of sled dog races > The Hudson Bay Quest is a 211-mile wilderness race run every March from Churchill, Manitoba to Gillam, Manitoba (reversed annually). Trail terrain will range from lakes, rivers, tundra and snow roads. Possible snow storms or ground blizzards may stop your progression for up to 36 hours. There is possibility of encountering severe weather conditions. Past races have had temperatures of +2 – 5 C with rain to -30 C with 40 kilometer winds equalling -45 C. Klondike Dog Derby - Annual 40-mille race around Lake Minnetonka in Excelsior, Minnesota Klondike 300 — Annual 300-mile race starting in Big Lake, Alaska. Knik 200 Joe Redington Sr. Memorial Sled Dog Race — Annual 200-mile race starting in Knik, Alaska Kuskokwim 300 — Annual 300-mile race on the Kuskokwim River in Alaska. Nome-Council 200 — Annual 200-mile race from Nome to Council and back in Alaska. This race takes place in March and is an Iditarod Qualifier.',\n",
       "  -43.23802508958869),\n",
       " ('NGC 4026 > NGC 4026 is an edge-on lenticular galaxy in the constellation Ursa Major. It is located at a distance of circa 50 million light years from Earth, which, given its apparent dimensions, means that NGC 4026 is about 80,000 light years across. It was discovered by William Herschel on April 12, 1789. The galaxy hosts a supermassive black hole with estimated mass 108.33±0.109 (166-275 million) M☉. NGC 4026 belongs to M109 Group, the largest subgroup of galaxies with the Ursa Major Cluster. In the vicinity of NGC 4026 lie some low surface brightness spiral galaxies, UGC 6917 (42 arcminutes from NGC 4026), UGC 6922 (26 arcminutes from NGC 4026) and UGC 6956 (10 arcminutes from NGC 4026). NGC 4026 appears disturbed in HI imaging, with a filament extending southward. The mass of HI in NGC 4026 is below 0.71 × 108 M⊙.',\n",
       "  -43.01764189991975)]"
      ]
     },
     "execution_count": 8,
     "metadata": {},
     "output_type": "execute_result"
    }
   ],
   "source": [
    "%%time\n",
    "\n",
    "index = 509\n",
    "text = (\n",
    "    df.iloc[index].prompt\n",
    "    + \" \"\n",
    "    + df.iloc[index].A\n",
    "    + \" \"\n",
    "    + df.iloc[index].B\n",
    "    + \" \"\n",
    "    + df.iloc[index].C\n",
    "    + \" \"\n",
    "    + df.iloc[index].D\n",
    "    + \" \"\n",
    "    + df.iloc[index].E\n",
    ")\n",
    "\n",
    "print(\"【Prompt】 \", df.iloc[index][\"prompt\"])\n",
    "answer = df.iloc[index][\"answer\"]\n",
    "print(f\"【Answer {answer}】 \", df.iloc[index][df.iloc[index][\"answer\"]])\n",
    "vectorizer = CountVectorizer(analyzer=\"word\", ngram_range=(2, 2), stop_words=stop_words, max_features=20)\n",
    "tfidf_matrix = vectorizer.fit_transform([text])\n",
    "features = list(vectorizer.get_feature_names_out())\n",
    "q = \" OR \".join([\"(\" + \" AND \".join(text.split()) + \")\" for text in features])\n",
    "print(q)\n",
    "\n",
    "\n",
    "res = cur.execute(\n",
    "    f\"\"\"select text, rank\n",
    "      from imdb\n",
    "      where text MATCH \"{q}\"\n",
    "      ORDER BY rank\n",
    "      limit 10\"\"\",\n",
    ").fetchall()\n",
    "\n",
    "\n",
    "res"
   ]
  },
  {
   "cell_type": "code",
   "execution_count": 9,
   "id": "1c8e8724-cba5-4d6f-9f29-e86cfd9ae1df",
   "metadata": {
    "tags": []
   },
   "outputs": [
    {
     "name": "stdout",
     "output_type": "stream",
     "text": [
      "prompt     What is the approximate distance of NGC 7129 f...\n",
      "A                                             33 light years\n",
      "B                                                3,300 miles\n",
      "C                                           3,300 kilometers\n",
      "D                                            3.3 light years\n",
      "E                                            330 light years\n",
      "answer                                                     D\n",
      "context    NGC 2623 > Environment > NGC 2623 is located i...\n",
      "Name: 509, dtype: object\n",
      "['300' '33' '330' '7129' 'approximate' 'distance' 'earth' 'kilometers'\n",
      " 'light' 'miles' 'ngc' 'years']\n",
      "300 OR 33 OR 330 OR 7129 OR approximate OR distance OR earth OR kilometers OR light OR miles OR ngc OR years\n",
      "CPU times: user 4.14 s, sys: 95.8 ms, total: 4.24 s\n",
      "Wall time: 4.24 s\n"
     ]
    },
    {
     "data": {
      "text/plain": [
       "[('NGC 5395 > Dust lanes can be seen throughout the galaxy. NGC 5394 is the smaller barred spiral galaxy interacting with larger spiral galaxy, NGC 5395. NGC 5394 has an oval disk, with a diameter of around 90 thousand light years across. It is also located at a distance of 160 million light-years across but receding away from the Earth at a distance of 3448 kilometers (2142.4 miles) per second. Most of the gas is concentrated at the center of the galaxy, however, two out of the three spiral arms show no sign of ongoing star formation. NGC 5395 is a Seyfert 2 galaxy. One supernova has been detected in NGC 5395, Type Ic supernova SN 2000cr. It was discovered on June 25.90 and 25.94 (UTC) at magnitude 17.0 lying northeast of the nucleus.',\n",
       "  -40.910921330796604),\n",
       " ('NGC 7129 > NGC 7129 is a reflection nebula located 3,300 light years away in the constellation Cepheus. A young open cluster is responsible for illuminating the surrounding nebula. A recent survey indicates the cluster contains more than 130 stars less than 1 million years old.[citation needed]  NGC 7129 is located just half a degree from nearby cluster NGC 7142. The nebula is rosebud-shaped; the young stars have blown a large, oddly shaped bubble in the molecular cloud that once surrounded them at their birth. The rosy pink color comes from glowing dust grains on the surface of the bubble being heated by the intense light from the young stars within. The ultra-violet and visible light produced by the young stars is absorbed by the surrounding dust grains. They are heated by this process and release the energy at longer infrared wavelengths as photographed by the Spitzer Space Telescope.',\n",
       "  -40.82736975382734),\n",
       " (\"NGC 301 > NGC 301 is a spiral galaxy located approximately 204 million light-years from the Solar System in the constellation Cetus. It was discovered in 1886 by Frank Muller. List of NGC objects (1–1000) NASA/IPAC Extragalactic Database. Results for NGC 0301. Retrieved September 2, 2016. An object's distance from Earth can be determined using Hubble's law: v=Ho is Hubble's constant (70±5 (km/s)/Mpc). The relative uncertainty Δd/d divided by the distance is equal to the sum of the relative uncertainties of the velocity and v=Ho New General Catalog Objects: NGC 300 - 349. Cseligman.\",\n",
       "  -40.8221307317997),\n",
       " ('NGC 2336 > NGC 2336 is a barred spiral galaxy located in the constellation Camelopardalis. It is located at a distance of circa 100 million light years from Earth, which, given its apparent dimensions, means that NGC 2336 is about 200,000 light years across. It was discovered by Wilhelm Tempel in 1876. NGC 2336 is a barred spiral galaxy, featuring a small optical bar. At least 8 spiral arms, with numerous HII regions, emanate from the ring-like structure around the bar. This ring has a radius of approximately 34 arcseconds, which corresponds to 5.3 kpc at the distance of NGC 2336. In the large arms of the galaxy have been observed 28 HII regions that may host young massive star clusters, and for two of them the nebular emission comprises most of the flux. Three of these HII areas have ages calculated to be 100 to 300 million years and have sizes between 300 and 600 parsecs.',\n",
       "  -39.98888091942687),\n",
       " ('NGC 3007 > NGC 3007 is an edge-on, magnitude 13.4, lenticular galaxy in the constellation of Sextans, discovered by Édouard Stephan on March 16, 1855. It is about 115 thousand light years across, and with a recessional velocity of 6,520 kilometers per second, is at a distance of over 300 million light-years from the Sun. Results for object NGC 3007 (NGC 3007). NASA/IPAC Extragalactic Database. California Institute of Technology. Retrieved 2021-02-14. Search specification: NGC 3007. HyperLeda. Université Claude Bernard Lyon 1.',\n",
       "  -39.82392183446432),\n",
       " (\"NGC 513 > One supernova has been observed in NGC 513: SN 2023jpp (type Ia, mag. 17.6). The galaxy has an apparent size of 0.9 × 0.6 arcmins and a recessional velocity of approximately 5807 kilometers per second. The redshift of 0.01956 allows an estimate of the galaxy's distance using Hubble's law, which puts the object at roughly 260 million light-years from the Sun. List of NGC objects (1–1000) NGC 513. Retrieved 2017-12-09. Revised NGC Data for NGC 513. spider.seds.org. Retrieved 2017-10-05. Your NED Search Results. ned.ipac.caltech.edu. Retrieved 2017-10-05. An object's distance from Earth can be determined using Hubble's law: v=Ho is Hubble's constant (70±5 (km/s)/Mpc).\",\n",
       "  -39.77487899269968),\n",
       " (\"NGC 512 > It has a recessional velocity of approximately 4810 kilometers per second. The distance of NGC 512 from the Solar System can be estimated using Hubble's law, which puts the object at roughly 220 million light-years from the Sun. List of NGC objects (1–1000) NGC 512. Retrieved 2017-12-09. Revised NGC Data for NGC 512. spider.seds.org. Retrieved 2017-10-05. Your NED Search Results. ned.ipac.caltech.edu. Retrieved 2017-10-05. An object's distance from Earth can be determined using Hubble's law: v=Ho is Hubble's constant (70±5 (km/s)/Mpc). The relative uncertainty Δd/d divided by the distance is equal to the sum of the relative uncertainties of the velocity and v=Ho New General Catalog Objects: NGC 500 - 549. cseligman.com. Retrieved 2017-10-16. astronomy-mall.com/Adventures.In.Deep.Space/NGC%201-7840%20complete.htm.\",\n",
       "  -39.41656864975341),\n",
       " ('NGC 5395 > NGC 5395 is an interacting spiral galaxy located at a distance of 160 million light years, but receding away from the Earth at 3511 kilometers (2181.6 miles) per second, in the constellation Canes Venatici. It was discovered by William Herschel on May 16, 1787. NGC 5395 and NGC 5394 are included in the Atlas of Peculiar Galaxies as Arp 84 in the category Spiral galaxies with large high surface brightness companions. NGC 5395 is the larger spiral galaxy interacting with smaller barred spiral galaxy, NGC 5394. NGC 5395 is nearly face-on, with a diameter of around 140,000 light-years across. NGC 5395 has a bright central region and is distorted due to the interaction with NGC 5394. The larger of the two rings around the galaxy forms a ring off the center of the galaxy. Dust lanes can be seen throughout the galaxy.',\n",
       "  -38.900196570360905),\n",
       " ('NGC 1058 > NGC 1058 is a Seyfert Type 2 galaxy in the NGC 1023 Group, located in the Perseus constellation. It is approximately 27.4 million light years from Earth and has an apparent magnitude of 11.82. It is receding from Earth at 518 kilometers per second (322 mi/s), and at 629 kilometers per second (391 mi/s) relative to the Milky Way. Three supernovae have been observed in NGC 1058: SN 1961V (Type IIP, mag. 12.2), SN 1969L (type II, mag. 12.8), and SN 2007gr (type Ib/c, mag. 13.8). SIMBAD query result: NGC 1058 -- Seyfert 2 Galaxy. Centre de Données astronomiques de Strasbourg. Retrieved 2008-05-01. NGC 1058 -- Seyfert 2 Galaxy.',\n",
       "  -38.268293377535656),\n",
       " ('NGC 1560 > NGC 1560, also known as IC 2062, is an 11th-magnitude spiral galaxy, in the IC 342/Maffei Group. It was discovered by Wilhelm Tempel on August 1, 1883. The galaxy has a negative radial velocity of -35 km/second. NGC1560 is close enough to the Earth that its distance must be derived directly (not using redshift). Karachentsev et al. (2003) report a distance of 3.45 Mpc (11.2 million light years), while Madore (1993) give 2.5 Mpc (8.1 Mly) using the brightest stars method. Currently, the most accurate estimate is approximately 8 to 12 million light years. At this distance, it is relatively close to Earth, but not part of the Local Group. This galaxy is approximately 35 thousand light years wide, determined by its apparent size of 11.6 by 1.9 arcminutes.',\n",
       "  -37.939963146335195)]"
      ]
     },
     "execution_count": 9,
     "metadata": {},
     "output_type": "execute_result"
    }
   ],
   "source": [
    "%%time\n",
    "\n",
    "index = 509\n",
    "text = (\n",
    "    df.iloc[index].prompt\n",
    "    + \" \"\n",
    "    + df.iloc[index].A\n",
    "    + \" \"\n",
    "    + df.iloc[index].B\n",
    "    + \" \"\n",
    "    + df.iloc[index].C\n",
    "    + \" \"\n",
    "    + df.iloc[index].D\n",
    "    + \" \"\n",
    "    + df.iloc[index].E\n",
    ")\n",
    "print(df.iloc[index])\n",
    "vectorizer = TfidfVectorizer(stop_words=stop_words, max_features=20)\n",
    "tfidf_matrix = vectorizer.fit_transform([text])\n",
    "features = vectorizer.get_feature_names_out()\n",
    "print(features)\n",
    "\n",
    "q = \" OR \".join(features)\n",
    "\n",
    "res = cur.execute(\n",
    "    f\"\"\"select text, rank\n",
    "      from imdb\n",
    "      where text MATCH \"{q}\"\n",
    "      ORDER BY rank\n",
    "      limit 10\"\"\",\n",
    ").fetchall()\n",
    "\n",
    "print(q)\n",
    "\n",
    "res"
   ]
  },
  {
   "cell_type": "code",
   "execution_count": null,
   "id": "d0692dd8-477f-4e45-856d-96ac4b778b95",
   "metadata": {},
   "outputs": [],
   "source": []
  },
  {
   "cell_type": "code",
   "execution_count": null,
   "id": "52f23964-f81c-41c6-a75e-ae175b93dae4",
   "metadata": {},
   "outputs": [],
   "source": []
  },
  {
   "cell_type": "code",
   "execution_count": null,
   "id": "85122bc4-a456-4467-b8aa-e3c2d3a95b89",
   "metadata": {},
   "outputs": [],
   "source": []
  },
  {
   "cell_type": "code",
   "execution_count": null,
   "id": "d610c1ee-e17d-4714-9035-66029d6f028e",
   "metadata": {},
   "outputs": [],
   "source": []
  },
  {
   "cell_type": "code",
   "execution_count": 3,
   "id": "71f939e7-290a-4d4e-88a0-bfff7a646458",
   "metadata": {
    "tags": []
   },
   "outputs": [],
   "source": [
    "wiki_df = pd.read_parquet(\"../input/llm-science-wikipedia-data-b/n.parquet\")"
   ]
  },
  {
   "cell_type": "code",
   "execution_count": 4,
   "id": "d2f3d106-856a-4b68-bd1e-4697bf5b0250",
   "metadata": {
    "tags": []
   },
   "outputs": [
    {
     "data": {
      "text/html": [
       "<div>\n",
       "<style scoped>\n",
       "    .dataframe tbody tr th:only-of-type {\n",
       "        vertical-align: middle;\n",
       "    }\n",
       "\n",
       "    .dataframe tbody tr th {\n",
       "        vertical-align: top;\n",
       "    }\n",
       "\n",
       "    .dataframe thead th {\n",
       "        text-align: right;\n",
       "    }\n",
       "</style>\n",
       "<table border=\"1\" class=\"dataframe\">\n",
       "  <thead>\n",
       "    <tr style=\"text-align: right;\">\n",
       "      <th></th>\n",
       "      <th>id</th>\n",
       "      <th>title</th>\n",
       "      <th>text</th>\n",
       "    </tr>\n",
       "  </thead>\n",
       "  <tbody>\n",
       "    <tr>\n",
       "      <th>0</th>\n",
       "      <td>59737058</td>\n",
       "      <td>Novi Radio Bihać</td>\n",
       "      <td>Novi Radio Bihać or Novi Radio is a Bosnian lo...</td>\n",
       "    </tr>\n",
       "    <tr>\n",
       "      <th>1</th>\n",
       "      <td>59739362</td>\n",
       "      <td>Nathan Bastian</td>\n",
       "      <td>Nathan Bastian (born December 6, 1997) is a Ca...</td>\n",
       "    </tr>\n",
       "    <tr>\n",
       "      <th>2</th>\n",
       "      <td>5973939</td>\n",
       "      <td>NATO (disambiguation)</td>\n",
       "      <td>Look up NATO, Nato, nato, or nǟtõ in Wiktionar...</td>\n",
       "    </tr>\n",
       "    <tr>\n",
       "      <th>3</th>\n",
       "      <td>59739520</td>\n",
       "      <td>Nykøbing Falster Idrætspark</td>\n",
       "      <td>Nykøbing Falster Idrætspark is a football stad...</td>\n",
       "    </tr>\n",
       "    <tr>\n",
       "      <th>4</th>\n",
       "      <td>59739655</td>\n",
       "      <td>Nikolai Dimitrievich Dabić</td>\n",
       "      <td>Nikolai Dimitrievich Dabić (also spelled Dabit...</td>\n",
       "    </tr>\n",
       "  </tbody>\n",
       "</table>\n",
       "</div>"
      ],
      "text/plain": [
       "         id                        title  \\\n",
       "0  59737058             Novi Radio Bihać   \n",
       "1  59739362               Nathan Bastian   \n",
       "2   5973939        NATO (disambiguation)   \n",
       "3  59739520  Nykøbing Falster Idrætspark   \n",
       "4  59739655   Nikolai Dimitrievich Dabić   \n",
       "\n",
       "                                                text  \n",
       "0  Novi Radio Bihać or Novi Radio is a Bosnian lo...  \n",
       "1  Nathan Bastian (born December 6, 1997) is a Ca...  \n",
       "2  Look up NATO, Nato, nato, or nǟtõ in Wiktionar...  \n",
       "3  Nykøbing Falster Idrætspark is a football stad...  \n",
       "4  Nikolai Dimitrievich Dabić (also spelled Dabit...  "
      ]
     },
     "execution_count": 4,
     "metadata": {},
     "output_type": "execute_result"
    }
   ],
   "source": [
    "wiki_df.head()"
   ]
  },
  {
   "cell_type": "code",
   "execution_count": 5,
   "id": "6bfa0dfe-fa02-4464-b7c0-790d8af3234c",
   "metadata": {
    "tags": []
   },
   "outputs": [
    {
     "name": "stdout",
     "output_type": "stream",
     "text": [
      "CPU times: user 2.21 ms, sys: 702 µs, total: 2.91 ms\n",
      "Wall time: 1.41 ms\n"
     ]
    },
    {
     "data": {
      "text/plain": [
       "<sqlite3.Cursor at 0x7f9a793987c0>"
      ]
     },
     "execution_count": 5,
     "metadata": {},
     "output_type": "execute_result"
    }
   ],
   "source": [
    "%%time\n",
    "file_path = \":memory:\"\n",
    "\n",
    "if os.path.exists(file_path):\n",
    "    # ファイルを削除\n",
    "    os.remove(file_path)\n",
    "db = sqlite3.connect(file_path)\n",
    "cur = db.cursor()\n",
    "cur.execute('create virtual table imdb using fts5(text, tokenize=\"porter unicode61\");')  # UNINDEXED"
   ]
  },
  {
   "cell_type": "code",
   "execution_count": 6,
   "id": "b296fe71-f704-4790-b446-16d4509b76fd",
   "metadata": {
    "tags": []
   },
   "outputs": [
    {
     "name": "stdout",
     "output_type": "stream",
     "text": [
      "CPU times: user 58.2 s, sys: 1.28 s, total: 59.5 s\n",
      "Wall time: 59.5 s\n"
     ]
    }
   ],
   "source": [
    "%%time\n",
    "cur.executemany(\n",
    "    \"insert into imdb (text) values (?);\",\n",
    "    wiki_df[[\"text\"]].to_records(index=False),\n",
    ")\n",
    "db.commit()"
   ]
  },
  {
   "cell_type": "code",
   "execution_count": 95,
   "id": "c189f0f0-86a3-4339-bb19-afe484963ba4",
   "metadata": {
    "tags": []
   },
   "outputs": [
    {
     "name": "stdout",
     "output_type": "stream",
     "text": [
      "prompt      Which term best describes the structural organ...\n",
      "A           Lactose permease is the rarely used term that ...\n",
      "B           Lactose permease is the study of the relations...\n",
      "C           Lactose permease is the study of the effects o...\n",
      "D           Lactose permease is a branch of morphology tha...\n",
      "E           Lactose permease is the analysis of the patter...\n",
      "answer                                                      B\n",
      "context     Lactose permease > Lactose permease is a membr...\n",
      "sim_max                                              0.226259\n",
      "sim_min                                              0.159622\n",
      "sim_mean                                              0.20019\n",
      "sim_std                                              0.015267\n",
      "sim_num                                                    19\n",
      "Name: 668, dtype: object\n",
      "['term', 'best', 'describes', 'structural', 'organization', 'lactose', 'permease', 'Lactose', 'permease', 'rarely', 'used', 'term', 'refers', 'superstructure', 'polymers', 'fiber', 'formation', 'larger', 'composite', 'assemblies', 'Lactose', 'permease', 'study', 'relationship', 'structure', 'function', 'morphological', 'features', 'Lactose', 'permease', 'study', 'effects', 'external', 'factors', 'morphology', 'organisms', 'experimental', 'conditions', 'effect', 'genetic', 'mutation', 'Lactose', 'permease', 'branch', 'morphology', 'deals', 'structure', 'organisms', 'Lactose', 'permease', 'analysis', 'patterns', 'locus', 'structures', 'body', 'plan', 'organism', 'forms', 'basis', 'taxonomical', 'categorization']\n"
     ]
    }
   ],
   "source": [
    "index = 668\n",
    "text = (\n",
    "    df.iloc[index].prompt\n",
    "    + \" \"\n",
    "    + df.iloc[index].A\n",
    "    + \" \"\n",
    "    + df.iloc[index].B\n",
    "    + \" \"\n",
    "    + df.iloc[index].C\n",
    "    + \" \"\n",
    "    + df.iloc[index].D\n",
    "    + \" \"\n",
    "    + df.iloc[index].E\n",
    ")\n",
    "text = re.sub(r\"[^a-zA-Z0-9]\", \" \", text)\n",
    "filtered_words = [word for word in text.split() if word.lower() not in stop_words]\n",
    "print(df.iloc[index])\n",
    "print(filtered_words)"
   ]
  },
  {
   "cell_type": "code",
   "execution_count": 13,
   "id": "fe1e6739-3e4e-4a15-94a4-351cc8ef573a",
   "metadata": {
    "tags": []
   },
   "outputs": [
    {
     "name": "stdout",
     "output_type": "stream",
     "text": [
      "\n",
      "approximate OR distance OR NGC OR 7129 OR Earth OR 33 OR light OR years OR 3 OR 300 OR miles OR 3 OR 300 OR kilometers OR 3 OR 3 OR light OR years OR 330 OR light OR years\n",
      "CPU times: user 522 ms, sys: 12 ms, total: 534 ms\n",
      "Wall time: 532 ms\n"
     ]
    },
    {
     "data": {
      "text/plain": [
       "[(\"NGC 7129 is a reflection nebula located 3,300 light years away in the constellation Cepheus. A young open cluster is responsible for illuminating the surrounding nebula. A recent survey indicates the cluster contains more than 130 stars less than 1 million years old.[citation needed] NGC 7129 is located just half a degree from nearby cluster NGC 7142. The nebula is rosebud-shaped; the young stars have blown a large, oddly shaped bubble in the molecular cloud that once surrounded them at their birth. The rosy pink color comes from glowing dust grains on the surface of the bubble being heated by the intense light from the young stars within. The ultra-violet and visible light produced by the young stars is absorbed by the surrounding dust grains. They are heated by this process and release the energy at longer infrared wavelengths as photographed by the Spitzer Space Telescope. The reddish colors in the false-colour infrared image suggest the distribution of hydrocarbon rich molecular material.[citation needed] The much cooler molecular cloud outside the bubble is mostly invisible to Spitzer. However, three very young stars near the center of the nebula are sending jets of supersonic gas into the cloud. The collision of these jets heats carbon monoxide molecules in the nebula. This produces the complex nebulosity that appears like a stem of a rosebud.[citation needed] NGC 7129 as imaged through a 24-inch telescope on Mt. Lemmon Astro image of NGC7129 imaged with a 12.5 inch CDK from Talent, OR distance × sin( diameter_angle / 2 ) = 3 ly. radius APOD: 2007 September 13 - NGC 7129 and NGC 7142. Wikimedia Commons has media related to NGC 7129. http://www.noao.edu/outreach/aop/observers/n7129.html Archived 2012-03-15 at the Wayback Machine Valentine's Day 2004 Spitzer Space Telescope press release: the Cosmic Rose image from the Spitzer Space Telescope printable lithograph from the Spitzer Space Telescope Archived 2007-02-04 at the Wayback Machine v t e\",),\n",
       " (\"NGC 262 (also known as Markarian 348) is a spiral galaxy in the cluster LGG 14. It is a Seyfert 2 spiral galaxy located 287 million light years away in the constellation Andromeda. It was discovered on September 17, 1885 by Lewis A. Swift. This galaxy has an apparent diameter of 1.1' of the Earth's sky. It holds approximately 15 trillion stars.[citation needed] [NGC 262] was tidally disturbed by the gravitational forces of smaller galaxies, which resulted in its large size. NGC 262 is very unusual, since it is 10 times larger than a regular spiral galaxy of its type. According to Morris and Wannier, NGC 262 is surrounded by a huge cloud of neutral hydrogen that is probably caused by the tidal stripping of smaller galaxies. The cloud has an apparent mass of approximately 50 billion solar masses at a distance of 88 kiloparsecs (287,000 light-years) from the nucleus of NGC 262 and extending up to 300 kiloparsecs (1 million light-years) away. The cloud is spiral shaped with at least one arm, and possibly another one extending throughout the galaxy. SIMBAD query result. Basic data for NGC 262. Huchra, J. (May 15, 1980). The optical properties of the unusual galaxy Markarian 348. The Astrophysical Journal. 238: 11–12. Bibcode:1980ApJ...238L..11H. doi:10.1086/183246. The New York Times. Distant galaxy found to be largest known. 1987-03-13. Media related to NGC 262 at Wikimedia Commons v t e\",)]"
      ]
     },
     "execution_count": 13,
     "metadata": {},
     "output_type": "execute_result"
    }
   ],
   "source": [
    "%%time\n",
    "\n",
    "q = \" OR \".join(filtered_words)\n",
    "\n",
    "res = cur.execute(\n",
    "    f\"\"\"select text\n",
    "                      from imdb\n",
    "                      where text MATCH \"{q}\"\n",
    "                      ORDER BY rank\n",
    "                      limit 2\"\"\",\n",
    ").fetchall()\n",
    "\n",
    "print()\n",
    "print(q)\n",
    "\n",
    "res"
   ]
  },
  {
   "cell_type": "code",
   "execution_count": 81,
   "id": "37a0bf52-04cb-46a7-92b4-18955feff932",
   "metadata": {
    "tags": []
   },
   "outputs": [],
   "source": []
  },
  {
   "cell_type": "code",
   "execution_count": 12,
   "id": "57bf6cb1-1962-48ad-9680-6cd605d5377e",
   "metadata": {
    "tags": []
   },
   "outputs": [
    {
     "data": {
      "text/plain": [
       "Int64Index([  32,   39,   65,   68,   96,  120,  124,  135,  147,  178,\n",
       "            ...\n",
       "            1148, 1157, 1159, 1165, 1180, 1182, 1183, 1185, 1188, 1194],\n",
       "           dtype='int64', length=202)"
      ]
     },
     "execution_count": 12,
     "metadata": {},
     "output_type": "execute_result"
    }
   ],
   "source": [
    "df = pd.read_csv(\"../preprocessed/331_retrieve_b/b_bge_10_4_3/data2.csv\")\n",
    "preds = np.load(\"../output/350_1st_infer/b_bge_10_4_3/data2_pred.npy\")\n",
    "\n",
    "\n",
    "option_to_index = {option: idx for idx, option in enumerate(\"ABCDE\")}\n",
    "index_to_option = {v: k for k, v in option_to_index.items()}\n",
    "\n",
    "\n",
    "def predictions_to_map_output_top(predictions):\n",
    "    sorted_answer_indices = np.argsort(-predictions)  # Sortting indices in descending order\n",
    "    top_answer_indices = sorted_answer_indices[:, :]  # Taking the first three indices for each row\n",
    "    top_answers = np.vectorize(index_to_option.get)(\n",
    "        top_answer_indices\n",
    "    )  # Transforming indices to options - i.e., 0 --> A\n",
    "    return np.apply_along_axis(lambda row: \" \".join(row[0]), 1, top_answers)\n",
    "\n",
    "\n",
    "valid_preds = predictions_to_map_output_top(preds[: len(df), :])\n",
    "df[\"preds\"] = valid_preds\n",
    "\n",
    "df[df[\"preds\"] != df[\"answer\"]].index"
   ]
  },
  {
   "cell_type": "code",
   "execution_count": null,
   "id": "7dc38b27-11dc-4ef2-b812-90cb0d871a08",
   "metadata": {},
   "outputs": [],
   "source": []
  },
  {
   "cell_type": "code",
   "execution_count": 2,
   "id": "11aeaa2b-aec0-4145-9769-beaaac386ca8",
   "metadata": {
    "tags": []
   },
   "outputs": [
    {
     "data": {
      "application/vnd.jupyter.widget-view+json": {
       "model_id": "e28a779a348a46e5afb19438258cb33d",
       "version_major": 2,
       "version_minor": 0
      },
      "text/plain": [
       "Map (num_proc=2):   0%|          | 0/2101279 [00:00<?, ? examples/s]"
      ]
     },
     "metadata": {},
     "output_type": "display_data"
    }
   ],
   "source": [
    "paraphs_parsed_dataset = load_from_disk(\"../input/all-paraphs-parsed-expanded\")\n",
    "modified_texts = paraphs_parsed_dataset.map(\n",
    "    lambda example: {\n",
    "        \"temp_text\": f\"{example['title']} {example['section']} {example['text']}\".replace(\"\\n\", \" \").replace(\"'\", \"\")\n",
    "    },\n",
    "    num_proc=2,\n",
    ")[\"temp_text\"]\n",
    "\n",
    "wiki_df = pd.DataFrame({\"text\": modified_texts})"
   ]
  },
  {
   "cell_type": "code",
   "execution_count": 4,
   "id": "dbe6c777-c25e-42c8-8812-b4acbfdbe880",
   "metadata": {
    "tags": []
   },
   "outputs": [
    {
     "data": {
      "text/plain": [
       "'Russell Epstein Russell Epstein Russell Epstein is a professor of psychology at the University of Pennsylvania, who studies neural mechanisms underlying visual scene perception, event perception, object recognition, and spatial navigation in humans. His lab studies the role of the Parahippocampal and retrosplenial cortices in determining how people orient themselves relative to their surroundings.'"
      ]
     },
     "execution_count": 4,
     "metadata": {},
     "output_type": "execute_result"
    }
   ],
   "source": [
    "modified_texts[0]"
   ]
  },
  {
   "cell_type": "code",
   "execution_count": 15,
   "id": "da669b5b-94ee-43b2-9d77-79b45c1bcf58",
   "metadata": {
    "tags": []
   },
   "outputs": [
    {
     "name": "stdout",
     "output_type": "stream",
     "text": [
      "CPU times: user 2.3 ms, sys: 254 µs, total: 2.55 ms\n",
      "Wall time: 1.23 ms\n"
     ]
    },
    {
     "data": {
      "text/plain": [
       "<sqlite3.Cursor at 0x7f5714878240>"
      ]
     },
     "execution_count": 15,
     "metadata": {},
     "output_type": "execute_result"
    }
   ],
   "source": [
    "%%time\n",
    "file_path = \":memory:\"\n",
    "\n",
    "if os.path.exists(file_path):\n",
    "    # ファイルを削除\n",
    "    os.remove(file_path)\n",
    "db = sqlite3.connect(file_path)\n",
    "cur = db.cursor()\n",
    "cur.execute('create virtual table imdb using fts5(text, tokenize=\"porter unicode61\");')  # UNINDEXED"
   ]
  },
  {
   "cell_type": "code",
   "execution_count": 18,
   "id": "7b6227e2-a937-4a19-867b-f2edaef7e65c",
   "metadata": {
    "tags": []
   },
   "outputs": [
    {
     "name": "stdout",
     "output_type": "stream",
     "text": [
      "CPU times: user 1min 57s, sys: 1.32 s, total: 1min 58s\n",
      "Wall time: 1min 58s\n"
     ]
    }
   ],
   "source": [
    "%%time\n",
    "cur.executemany(\n",
    "    \"insert into imdb (text) values (?);\",\n",
    "    wiki_df[[\"text\"]].to_records(index=False),\n",
    ")\n",
    "db.commit()"
   ]
  },
  {
   "cell_type": "code",
   "execution_count": 19,
   "id": "98df4be7-fbcd-4a4f-9145-7cc9357e903b",
   "metadata": {
    "tags": []
   },
   "outputs": [],
   "source": [
    "index = 0\n",
    "text = (\n",
    "    df.iloc[index].prompt\n",
    "    + \" \"\n",
    "    + df.iloc[index].A\n",
    "    + \" \"\n",
    "    + df.iloc[index].B\n",
    "    + \" \"\n",
    "    + df.iloc[index].C\n",
    "    + \" \"\n",
    "    + df.iloc[index].D\n",
    "    + \" \"\n",
    "    + df.iloc[index].E\n",
    ")\n",
    "text = re.sub(r\"[^a-zA-Z0-9]\", \" \", text)\n",
    "filtered_words = [word for word in text.split() if word.lower() not in stop_words]"
   ]
  },
  {
   "cell_type": "code",
   "execution_count": 21,
   "id": "c0ef7cbc-0011-45d1-9513-7050799fa22f",
   "metadata": {
    "tags": []
   },
   "outputs": [
    {
     "name": "stdout",
     "output_type": "stream",
     "text": [
      "Which of the following statements accurately describes the impact of Modified Newtonian Dynamics  MOND  on the observed  missing baryonic mass  discrepancy in galaxy clusters  MOND is a theory that reduces the observed missing baryonic mass in galaxy clusters by postulating the existence of a new form of matter called  fuzzy dark matter   MOND is a theory that increases the discrepancy between the observed missing baryonic mass in galaxy clusters and the measured velocity dispersions from a factor of around 10 to a factor of about 20  MOND is a theory that explains the missing baryonic mass in galaxy clusters that was previously considered dark matter by demonstrating that the mass is in the form of neutrinos and axions  MOND is a theory that reduces the discrepancy between the observed missing baryonic mass in galaxy clusters and the measured velocity dispersions from a factor of around 10 to a factor of about 2  MOND is a theory that eliminates the observed missing baryonic mass in galaxy clusters by imposing a new mathematical formulation of gravity that does not require the existence of dark matter \n",
      "\n",
      "following OR statements OR accurately OR describes OR impact OR Modified OR Newtonian OR Dynamics OR MOND OR observed OR missing OR baryonic OR mass OR discrepancy OR galaxy OR clusters OR MOND OR theory OR reduces OR observed OR missing OR baryonic OR mass OR galaxy OR clusters OR postulating OR existence OR new OR form OR matter OR called OR fuzzy OR dark OR matter OR MOND OR theory OR increases OR discrepancy OR observed OR missing OR baryonic OR mass OR galaxy OR clusters OR measured OR velocity OR dispersions OR factor OR around OR 10 OR factor OR 20 OR MOND OR theory OR explains OR missing OR baryonic OR mass OR galaxy OR clusters OR previously OR considered OR dark OR matter OR demonstrating OR mass OR form OR neutrinos OR axions OR MOND OR theory OR reduces OR discrepancy OR observed OR missing OR baryonic OR mass OR galaxy OR clusters OR measured OR velocity OR dispersions OR factor OR around OR 10 OR factor OR 2 OR MOND OR theory OR eliminates OR observed OR missing OR baryonic OR mass OR galaxy OR clusters OR imposing OR new OR mathematical OR formulation OR gravity OR require OR existence OR dark OR matter\n",
      "CPU times: user 8.78 s, sys: 276 ms, total: 9.05 s\n",
      "Wall time: 9.06 s\n"
     ]
    },
    {
     "data": {
      "text/plain": [
       "[('Modified Newtonian dynamics Modified Newtonian dynamics MOND is an example of a class of theories known as modified gravity, and is an alternative to the hypothesis that the dynamics of galaxies are determined by massive, invisible dark matter halos. Since Milgroms original proposal, proponents of MOND have claimed to successfully predict a variety of galactic phenomena that they state are difficult to understand as consequences of dark matter.Though MOND explains the anomalously great rotational velocities of galaxies at their perimeters, it does not fully explain the velocity dispersions of individual galaxies within galaxy clusters. MOND reduces the discrepancy between the velocity dispersions and clusters observed missing baryonic mass from a factor of around 10 to a factor of about 2. However, the residual discrepancy cannot be accounted for by MOND, requiring that other explanations close the gap such as the presence of as-yet undetected missing baryonic matter.The accurate measurement of the speed of gravitational waves compared to the speed of light in 2017 ruled out a certain class of modified gravity theories but concluded that other MOND theories that dispense with the need for dark matter remained viable. Two years later, theories put forth by Constantinos Skordis and Tom Zlosnik were consistent with gravitational waves that always travel at the speed of light. Later still in 2021, Skordis and Zlosnik developed a subclass of their theory called \"RMOND\", for \"relativistic MOND\", which had \"been shown to reproduce in great detail the main observations in cosmology, including the cosmic-microwave-background power spectrum, and the matter structure power spectrum.\" ',\n",
       "  -456.0857636471279)]"
      ]
     },
     "execution_count": 21,
     "metadata": {},
     "output_type": "execute_result"
    }
   ],
   "source": [
    "%%time\n",
    "\n",
    "q = \" OR \".join(filtered_words)\n",
    "\n",
    "res = cur.execute(\n",
    "    f\"\"\"select text, rank\n",
    "                      from imdb\n",
    "                      where text MATCH \"{q}\"\n",
    "                      ORDER BY rank\n",
    "                      limit 1\"\"\",\n",
    ").fetchall()\n",
    "\n",
    "print(text)\n",
    "print()\n",
    "print(q)\n",
    "\n",
    "res"
   ]
  },
  {
   "cell_type": "code",
   "execution_count": null,
   "id": "db09abcd-6bf5-42fb-8618-ea3cb149d110",
   "metadata": {},
   "outputs": [],
   "source": []
  },
  {
   "cell_type": "code",
   "execution_count": null,
   "id": "19ffd47f-9ffc-404e-9523-b9531c236242",
   "metadata": {},
   "outputs": [],
   "source": []
  },
  {
   "cell_type": "code",
   "execution_count": null,
   "id": "57d5274c-4bfb-49d8-beb0-4d4c18df63fe",
   "metadata": {},
   "outputs": [],
   "source": []
  },
  {
   "cell_type": "code",
   "execution_count": null,
   "id": "b18a6424-358e-4ee2-bacf-2acef5758ee6",
   "metadata": {},
   "outputs": [],
   "source": []
  },
  {
   "cell_type": "code",
   "execution_count": null,
   "id": "125d1135-4e94-4dec-93d4-5b9ae4012b76",
   "metadata": {},
   "outputs": [],
   "source": []
  },
  {
   "cell_type": "code",
   "execution_count": 2,
   "id": "3dc3e4be-6e0b-4dd3-bb0c-a97b296d9aca",
   "metadata": {
    "tags": []
   },
   "outputs": [],
   "source": []
  },
  {
   "cell_type": "code",
   "execution_count": 3,
   "id": "ee618965-6dd8-44ce-9208-ab9f068ce361",
   "metadata": {
    "tags": []
   },
   "outputs": [],
   "source": []
  },
  {
   "cell_type": "code",
   "execution_count": 4,
   "id": "3d41744e-3df3-4eb1-bcb1-fa1fc3f0d882",
   "metadata": {
    "tags": []
   },
   "outputs": [
    {
     "data": {
      "text/plain": [
       "Int64Index([  32,   39,   65,   68,   96,  120,  124,  135,  147,  178,\n",
       "            ...\n",
       "            1148, 1157, 1159, 1165, 1180, 1182, 1183, 1185, 1188, 1194],\n",
       "           dtype='int64', length=202)"
      ]
     },
     "execution_count": 4,
     "metadata": {},
     "output_type": "execute_result"
    }
   ],
   "source": []
  },
  {
   "cell_type": "code",
   "execution_count": 50,
   "id": "bedf86e8-96cb-4a87-871c-49c56229af2f",
   "metadata": {
    "tags": []
   },
   "outputs": [
    {
     "data": {
      "text/html": [
       "<div>\n",
       "<style scoped>\n",
       "    .dataframe tbody tr th:only-of-type {\n",
       "        vertical-align: middle;\n",
       "    }\n",
       "\n",
       "    .dataframe tbody tr th {\n",
       "        vertical-align: top;\n",
       "    }\n",
       "\n",
       "    .dataframe thead th {\n",
       "        text-align: right;\n",
       "    }\n",
       "</style>\n",
       "<table border=\"1\" class=\"dataframe\">\n",
       "  <thead>\n",
       "    <tr style=\"text-align: right;\">\n",
       "      <th></th>\n",
       "      <th>id</th>\n",
       "      <th>title</th>\n",
       "      <th>text</th>\n",
       "    </tr>\n",
       "  </thead>\n",
       "  <tbody>\n",
       "    <tr>\n",
       "      <th>0</th>\n",
       "      <td>59737009</td>\n",
       "      <td>Biodiversity Monitoring Switzerland</td>\n",
       "      <td>The Biodiversity Monitoring Switzerland (BDM) ...</td>\n",
       "    </tr>\n",
       "    <tr>\n",
       "      <th>1</th>\n",
       "      <td>59737081</td>\n",
       "      <td>Bigoudène</td>\n",
       "      <td>In Breton tradition, a coiffe bigoudène is a w...</td>\n",
       "    </tr>\n",
       "    <tr>\n",
       "      <th>2</th>\n",
       "      <td>59737128</td>\n",
       "      <td>Barnabas Bala</td>\n",
       "      <td>Barnabas Yusuf Bala (20 December 1956 – 11 Jul...</td>\n",
       "    </tr>\n",
       "    <tr>\n",
       "      <th>3</th>\n",
       "      <td>59739888</td>\n",
       "      <td>Bagdah</td>\n",
       "      <td>Bagdah or Bagdaha may refer to: Bagdah (commun...</td>\n",
       "    </tr>\n",
       "    <tr>\n",
       "      <th>4</th>\n",
       "      <td>59739916</td>\n",
       "      <td>Big John Hamilton</td>\n",
       "      <td>Big John Hamilton may refer to: Big John Hamil...</td>\n",
       "    </tr>\n",
       "    <tr>\n",
       "      <th>...</th>\n",
       "      <td>...</td>\n",
       "      <td>...</td>\n",
       "      <td>...</td>\n",
       "    </tr>\n",
       "    <tr>\n",
       "      <th>351878</th>\n",
       "      <td>30045543</td>\n",
       "      <td>Bill Reeder</td>\n",
       "      <td>William Edgar Reeder (February 20, 1922 – Marc...</td>\n",
       "    </tr>\n",
       "    <tr>\n",
       "      <th>351879</th>\n",
       "      <td>3004563</td>\n",
       "      <td>Black River Public School (Holland, Michigan)</td>\n",
       "      <td>Black River Public School is a public college ...</td>\n",
       "    </tr>\n",
       "    <tr>\n",
       "      <th>351880</th>\n",
       "      <td>30045661</td>\n",
       "      <td>Breg pri Konjicah</td>\n",
       "      <td>Breg pri Konjicah (pronounced [ˈbɾeːk pɾi kɔˈn...</td>\n",
       "    </tr>\n",
       "    <tr>\n",
       "      <th>351881</th>\n",
       "      <td>30045729</td>\n",
       "      <td>Brezje pri Ločah</td>\n",
       "      <td>Brezje pri Ločah (pronounced [ˈbreːzjɛ pɾi ˈlo...</td>\n",
       "    </tr>\n",
       "    <tr>\n",
       "      <th>351882</th>\n",
       "      <td>30045865</td>\n",
       "      <td>Board of Intermediate and Secondary Education,...</td>\n",
       "      <td>Board of Intermediate and Secondary Education,...</td>\n",
       "    </tr>\n",
       "  </tbody>\n",
       "</table>\n",
       "<p>351883 rows × 3 columns</p>\n",
       "</div>"
      ],
      "text/plain": [
       "              id                                              title  \\\n",
       "0       59737009                Biodiversity Monitoring Switzerland   \n",
       "1       59737081                                          Bigoudène   \n",
       "2       59737128                                      Barnabas Bala   \n",
       "3       59739888                                             Bagdah   \n",
       "4       59739916                                  Big John Hamilton   \n",
       "...          ...                                                ...   \n",
       "351878  30045543                                        Bill Reeder   \n",
       "351879   3004563      Black River Public School (Holland, Michigan)   \n",
       "351880  30045661                                  Breg pri Konjicah   \n",
       "351881  30045729                                   Brezje pri Ločah   \n",
       "351882  30045865  Board of Intermediate and Secondary Education,...   \n",
       "\n",
       "                                                     text  \n",
       "0       The Biodiversity Monitoring Switzerland (BDM) ...  \n",
       "1       In Breton tradition, a coiffe bigoudène is a w...  \n",
       "2       Barnabas Yusuf Bala (20 December 1956 – 11 Jul...  \n",
       "3       Bagdah or Bagdaha may refer to: Bagdah (commun...  \n",
       "4       Big John Hamilton may refer to: Big John Hamil...  \n",
       "...                                                   ...  \n",
       "351878  William Edgar Reeder (February 20, 1922 – Marc...  \n",
       "351879  Black River Public School is a public college ...  \n",
       "351880  Breg pri Konjicah (pronounced [ˈbɾeːk pɾi kɔˈn...  \n",
       "351881  Brezje pri Ločah (pronounced [ˈbreːzjɛ pɾi ˈlo...  \n",
       "351882  Board of Intermediate and Secondary Education,...  \n",
       "\n",
       "[351883 rows x 3 columns]"
      ]
     },
     "execution_count": 50,
     "metadata": {},
     "output_type": "execute_result"
    }
   ],
   "source": [
    "df = pd.read_parquet(\"../input/llm-science-wikipedia-data-b/b.parquet\")\n",
    "df"
   ]
  },
  {
   "cell_type": "code",
   "execution_count": 162,
   "id": "597fd890-5787-4a9b-932f-d9c27ddd59be",
   "metadata": {
    "tags": []
   },
   "outputs": [
    {
     "name": "stdout",
     "output_type": "stream",
     "text": [
      "CPU times: user 3min 34s, sys: 1min 29s, total: 5min 3s\n",
      "Wall time: 6min 21s\n"
     ]
    }
   ],
   "source": [
    "%%time\n",
    "import os\n",
    "\n",
    "file_path = \"../dataset/llm-science-fts/fts.db\"\n",
    "db = sqlite3.connect(file_path)\n",
    "cur = db.cursor()\n",
    "res = cur.execute(\n",
    "    f\"\"\"INSERT INTO imdb(imdb) VALUES('optimize');\"\"\",\n",
    ")\n",
    "db.commit()"
   ]
  },
  {
   "cell_type": "code",
   "execution_count": 53,
   "id": "d0ccfca3-e670-4191-b726-a946d9fa2205",
   "metadata": {
    "tags": []
   },
   "outputs": [
    {
     "name": "stdout",
     "output_type": "stream",
     "text": [
      "CPU times: user 3min 57s, sys: 25.3 s, total: 4min 23s\n",
      "Wall time: 4min 26s\n"
     ]
    }
   ],
   "source": [
    "%%time\n",
    "cur.executemany(\n",
    "    \"insert into imdb (text) values (?,?);\",\n",
    "    df[[\"text\", \"title\"]].to_records(index=False),\n",
    ")\n",
    "db.commit()"
   ]
  },
  {
   "cell_type": "code",
   "execution_count": 70,
   "id": "f8d17d9c-5ef2-4c11-a9ec-8a609a8e26b1",
   "metadata": {
    "tags": []
   },
   "outputs": [],
   "source": []
  },
  {
   "cell_type": "code",
   "execution_count": 11,
   "id": "128b1875-9f14-4823-8a39-11348a20ffef",
   "metadata": {
    "tags": []
   },
   "outputs": [
    {
     "name": "stderr",
     "output_type": "stream",
     "text": [
      "/opt/conda/lib/python3.10/site-packages/scipy/__init__.py:146: UserWarning: A NumPy version >=1.16.5 and <1.23.0 is required for this version of SciPy (detected version 1.23.5\n",
      "  warnings.warn(f\"A NumPy version >={np_minversion} and <{np_maxversion}\"\n"
     ]
    }
   ],
   "source": [
    "import re\n",
    "\n",
    "from nltk.corpus import stopwords\n",
    "\n",
    "stop_words = set(stopwords.words(\"english\"))  # 使用言語に応じて変更"
   ]
  },
  {
   "cell_type": "code",
   "execution_count": null,
   "id": "1a32294b-4900-4d55-be33-f1e5a2ca2977",
   "metadata": {},
   "outputs": [],
   "source": [
    "file_path = \"tutorial.db\"\n",
    "db = sqlite3.connect(file_path)\n",
    "cur = db.cursor()"
   ]
  },
  {
   "cell_type": "code",
   "execution_count": 35,
   "id": "0060f965-4da2-4a5c-aa31-00767f502b34",
   "metadata": {
    "tags": []
   },
   "outputs": [],
   "source": [
    "res = cur.execute(\n",
    "    f\"\"\"CREATE VIRTUAL TABLE ft1_r USING fts5vocab('imdb', 'row');\"\"\",\n",
    ")\n",
    "db.commit()"
   ]
  },
  {
   "cell_type": "code",
   "execution_count": 57,
   "id": "a45abfd1-9a98-4cdd-9905-ddfe386f657e",
   "metadata": {
    "tags": []
   },
   "outputs": [
    {
     "name": "stdout",
     "output_type": "stream",
     "text": [
      "CPU times: user 181 ms, sys: 0 ns, total: 181 ms\n",
      "Wall time: 179 ms\n"
     ]
    },
    {
     "data": {
      "text/plain": [
       "[('called', 'text', 1, 1),\n",
       " ('considered', 'text', 1, 1),\n",
       " ('mathematical', 'text', 4, 6),\n",
       " ('around', 'title', 285, 285)]"
      ]
     },
     "execution_count": 57,
     "metadata": {},
     "output_type": "execute_result"
    }
   ],
   "source": [
    "%%time\n",
    "\n",
    "\n",
    "index = 0\n",
    "text = (\n",
    "    df.iloc[index].prompt\n",
    "    + \" \"\n",
    "    + df.iloc[index].A\n",
    "    + \" \"\n",
    "    + df.iloc[index].B\n",
    "    + \" \"\n",
    "    + df.iloc[index].C\n",
    "    + \" \"\n",
    "    + df.iloc[index].D\n",
    "    + \" \"\n",
    "    + df.iloc[index].E\n",
    ")\n",
    "text = re.sub(r\"[^a-zA-Z0-9]\", \" \", text)\n",
    "filtered_words = [word for word in text.split() if word.lower() not in stop_words]\n",
    "\n",
    "\n",
    "res = cur.execute(\n",
    "    f\"\"\"SELECT * FROM ft1_v WHERE term IN ({','.join(['?']*len(filtered_words))}) AND cnt < 1000 ORDER BY cnt\"\"\",\n",
    "    filtered_words,\n",
    ").fetchall()\n",
    "\n",
    "res"
   ]
  },
  {
   "cell_type": "code",
   "execution_count": 58,
   "id": "481575d8-2b43-4be1-b732-6bc2e4bdbe10",
   "metadata": {
    "tags": []
   },
   "outputs": [
    {
     "name": "stdout",
     "output_type": "stream",
     "text": [
      "Which of the following statements accurately describes the impact of Modified Newtonian Dynamics  MOND  on the observed  missing baryonic mass  discrepancy in galaxy clusters  MOND is a theory that reduces the observed missing baryonic mass in galaxy clusters by postulating the existence of a new form of matter called  fuzzy dark matter   MOND is a theory that increases the discrepancy between the observed missing baryonic mass in galaxy clusters and the measured velocity dispersions from a factor of around 10 to a factor of about 20  MOND is a theory that explains the missing baryonic mass in galaxy clusters that was previously considered dark matter by demonstrating that the mass is in the form of neutrinos and axions  MOND is a theory that reduces the discrepancy between the observed missing baryonic mass in galaxy clusters and the measured velocity dispersions from a factor of around 10 to a factor of about 2  MOND is a theory that eliminates the observed missing baryonic mass in galaxy clusters by imposing a new mathematical formulation of gravity that does not require the existence of dark matter \n",
      "\n",
      "called OR considered OR mathematical OR around\n",
      "CPU times: user 1.05 s, sys: 83.9 ms, total: 1.13 s\n",
      "Wall time: 1.13 s\n"
     ]
    },
    {
     "data": {
      "text/plain": [
       "[(\"European Girls' Mathematical Olympiad > The European Girls' Mathematical Olympiad (EGMO) is a mathematical olympiad for girls which started in 2012, and is held in April each year. It was inspired by the China Girls Mathematical Olympiad (CGMO). Although the competition is held in Europe, it is open to female participants from all over the world, and is considered the most prestigious mathematics competition for girls. In recent years, participants from around 55 countries have been invited to the competition.\",\n",
       "  -17.294626741001327),\n",
       " ('Bhāskara II > Bhāskara and his works represent a significant contribution to mathematical and astronomical knowledge in the 12th century. He has been called the greatest mathematician of medieval India. His main work Siddhānta-Śiromaṇi, (Sanskrit for Crown of Treatises) is divided into four parts called Līlāvatī, Bījagaṇita, Grahagaṇita and Golādhyāya, which are also sometimes considered four independent works. These four sections deal with arithmetic, algebra, mathematics of the planets, and spheres respectively.',\n",
       "  -16.327708148602554),\n",
       " ('Brane > Mathematically, branes can be represented within categories, and are studied in pure mathematics for insight into homological mirror symmetry and noncommutative geometry. A point particle can be viewed as a brane of dimension zero, while a string can be viewed as a brane of dimension one. In addition to point particles and strings, it is possible to consider higher-dimensional branes. A p-dimensional brane is generally called p-brane.',\n",
       "  -15.146604024107951),\n",
       " ('Beryl May Dent > In Aubin, David; Goldstein, Catherine (eds.). The War of Guns and Mathematics: Mathematical Practices and Communities in France and Its Western Allies around World War I. History of Mathematics. Providence: American Mathematical Society. ISBN 978-1-4704-1469-6.',\n",
       "  -14.90186578800226),\n",
       " (\"Euclidean space > Euclidean space is the fundamental space of geometry, intended to represent physical space. Originally, that is, in Euclid's Elements, it was the three-dimensional space of Euclidean geometry, but in modern mathematics there are Euclidean spaces of any positive integer dimension n, which are called Euclidean n-spaces when one wants to specify their dimension. For n equal to one or two, they are commonly called respectively Euclidean lines and Euclidean planes. The qualifier Euclidean is used to distinguish Euclidean spaces from other spaces that were later considered in physics and modern mathematics.\",\n",
       "  -14.633279523516919)]"
      ]
     },
     "execution_count": 58,
     "metadata": {},
     "output_type": "execute_result"
    }
   ],
   "source": [
    "%%time\n",
    "\n",
    "q = \" OR \".join([row[0] for row in res])\n",
    "\n",
    "res = cur.execute(\n",
    "    f\"\"\"select text, rank\n",
    "                      from imdb\n",
    "                      where text MATCH \"{q }\"\n",
    "                      ORDER BY rank\n",
    "                      limit 5\"\"\",\n",
    ").fetchall()\n",
    "\n",
    "print(text)\n",
    "print()\n",
    "print(q)\n",
    "\n",
    "res"
   ]
  },
  {
   "cell_type": "code",
   "execution_count": 82,
   "id": "a80968c2-cdd8-4130-a2eb-d4b7efa932ee",
   "metadata": {
    "tags": []
   },
   "outputs": [
    {
     "data": {
      "text/plain": [
       "'Which of the following statements accurately describes the dimension of an object in a CW complex?The dimension of an object in a CW complex is the largest n for which the n-skeleton is nontrivial, where the empty set is considered to have dimension -1 and the boundary of a discrete set of points is the empty set.'"
      ]
     },
     "execution_count": 82,
     "metadata": {},
     "output_type": "execute_result"
    }
   ],
   "source": [
    "index = 6\n",
    "df.iloc[index].prompt + df.iloc[index].A"
   ]
  },
  {
   "cell_type": "code",
   "execution_count": 84,
   "id": "2e8b98f4-45a7-4127-bf3e-d9a9b9c53007",
   "metadata": {
    "tags": []
   },
   "outputs": [
    {
     "data": {
      "text/plain": [
       "id                                                          6\n",
       "prompt      Which of the following statements accurately d...\n",
       "A           The dimension of an object in a CW complex is ...\n",
       "B           The dimension of an object in a CW complex is ...\n",
       "C           The dimension of an object in a CW complex is ...\n",
       "D           The dimension of an object in a CW complex is ...\n",
       "E           The dimension of an object in a CW complex dep...\n",
       "answer                                                      A\n",
       "context     Dimension > Moreover, the boundary of a discre...\n",
       "sim_max                                              0.227938\n",
       "sim_min                                               0.12335\n",
       "sim_mean                                             0.203713\n",
       "sim_std                                              0.027361\n",
       "sim_num                                                    11\n",
       "preds                                                       A\n",
       "Name: 6, dtype: object"
      ]
     },
     "execution_count": 84,
     "metadata": {},
     "output_type": "execute_result"
    }
   ],
   "source": [
    "df.iloc[index]"
   ]
  },
  {
   "cell_type": "code",
   "execution_count": null,
   "id": "65f9d248-589e-444a-9cc3-d631d4d5178d",
   "metadata": {},
   "outputs": [],
   "source": []
  }
 ],
 "metadata": {
  "kernelspec": {
   "display_name": "Python 3 (ipykernel)",
   "language": "python",
   "name": "python3"
  },
  "language_info": {
   "codemirror_mode": {
    "name": "ipython",
    "version": 3
   },
   "file_extension": ".py",
   "mimetype": "text/x-python",
   "name": "python",
   "nbconvert_exporter": "python",
   "pygments_lexer": "ipython3",
   "version": "3.10.12"
  }
 },
 "nbformat": 4,
 "nbformat_minor": 5
}
