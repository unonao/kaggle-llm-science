{
 "cells": [
  {
   "cell_type": "code",
   "execution_count": 163,
   "id": "c3fb65c5-ae7f-468e-bdfe-ff45ad055f52",
   "metadata": {
    "tags": []
   },
   "outputs": [
    {
     "name": "stdout",
     "output_type": "stream",
     "text": [
      "179\n",
      "378\n"
     ]
    }
   ],
   "source": [
    "import os\n",
    "import re\n",
    "import sqlite3\n",
    "\n",
    "import numpy as np\n",
    "import pandas as pd\n",
    "from datasets import load_dataset, load_from_disk\n",
    "from nltk.corpus import stopwords\n",
    "from sklearn.feature_extraction import text\n",
    "from sklearn.feature_extraction.text import CountVectorizer, TfidfVectorizer\n",
    "\n",
    "stop_words = list(stopwords.words(\"english\"))\n",
    "print(len(stop_words))\n",
    "stop_words2 = text.ENGLISH_STOP_WORDS\n",
    "stop_words = list(stop_words2.union(stop_words))\n",
    "\n",
    "print(len(stop_words))"
   ]
  },
  {
   "cell_type": "code",
   "execution_count": 164,
   "id": "d562f0b3-240f-4eb0-9663-47d8a6b3eab7",
   "metadata": {
    "tags": []
   },
   "outputs": [],
   "source": [
    "# 読み込み\n",
    "df = pd.read_csv(\"../preprocessed/334_tfidf_gpu/000/data2.csv\")\n",
    "file_path = \"../dataset/llm-science-fts/fts.db\"\n",
    "db = sqlite3.connect(file_path)\n",
    "cur = db.cursor()"
   ]
  },
  {
   "cell_type": "code",
   "execution_count": 174,
   "id": "75cc7bb0-a3b7-4965-9bac-f31c4595e4e8",
   "metadata": {
    "tags": []
   },
   "outputs": [],
   "source": [
    "cur.execute(\"PRAGMA synchronous = OFF\")\n",
    "cur.execute(\"PRAGMA journal_mode = OFF\")\n",
    "cur.execute(\"PRAGMA locking_mode = EXCLUSIVE\")\n",
    "cur.execute(\"PRAGMA count_changes = OFF\")\n",
    "\"\"\"\n",
    "PRAGMA temp_store = MEMORY;\n",
    "PRAGMA PAGE_SIZE = 4096;\n",
    "PRAGMA default_cache_size=700000; \n",
    "PRAGMA cache_size=700000;\n",
    "\"\"\"\n",
    "db.commit()"
   ]
  },
  {
   "cell_type": "code",
   "execution_count": 175,
   "id": "c6eef8c3-21cc-47d2-90f4-b0d446e39f99",
   "metadata": {
    "tags": []
   },
   "outputs": [
    {
     "name": "stdout",
     "output_type": "stream",
     "text": [
      "【Prompt】  What is the cause of abnormal calcification/bone formation in the condition known as Diffuse idiopathic skeletal hyperostosis (DISH)?\n",
      "【Answer B】  The natural aging process, causing degeneration of the ligaments and subsequent bone formation.\n",
      "(abnormal) OR (bone) OR (formation) OR (joints) OR (known) OR (leading) OR (ligaments) OR (longitudinal) OR (mechanism) OR (natural) OR (nerves) OR (presence) OR (protective) OR (response) OR (skeletal) OR (soft) OR (spinal) OR (spine) OR (surrounding) OR (tissues)\n",
      "CPU times: user 17.5 s, sys: 898 ms, total: 18.4 s\n",
      "Wall time: 18.4 s\n"
     ]
    },
    {
     "data": {
      "text/plain": [
       "[('Diffuse idiopathic skeletal hyperostosis > Diffuse idiopathic skeletal hyperostosis (DISH) is a condition characterized by abnormal calcification/bone formation (hyperostosis) of the soft tissues surrounding the joints of the spine, and also of the peripheral or appendicular skeleton. In the spine, there is bone formation along the anterior longitudinal ligament and sometimes the posterior longitudinal ligament, which may lead to partial or complete fusion of adjacent vertebrae. The facet and sacroiliac joints tend to be uninvolved. The thoracic spine is the most common level involved. In the peripheral skeleton, DISH manifests as a calcific enthesopathy, with pathologic bone formation at sites where ligaments and tendons attach to bone. The majority of people with DISH are not symptomatic, and the findings are an incidental imaging abnormality. In some, the x-ray findings may correspond to symptoms of back stiffness with flexion/extension or with mild back pain. Back pain or stiffness may be worse in the morning.',\n",
       "  -90.4198312132409),\n",
       " ('Ligament > These are all found in the skeletal system of the human body. Ligaments cannot usually be regenerated naturally; however, there are periodontal ligament stem cells located near the periodontal ligament which are involved in the adult regeneration of periodontist ligament. The study of ligaments is known as desmology. Ligament most commonly refers to a band of dense regular connective tissue bundles made of collagenous fibers, with bundles protected by dense irregular connective tissue sheaths. Ligaments connect bones to other bones to form joints, while tendons connect bone to muscle. Some ligaments limit the mobility of articulations or prevent certain movements altogether. Capsular ligaments are part of the articular capsule that surrounds synovial joints. They act as mechanical reinforcements.',\n",
       "  -68.10373133133747),\n",
       " ('Spinal stenosis > Any of the factors below may cause the spaces in the spine to narrow. Spinal ligaments can thicken (ligamenta flava) Bone spurs develop on the bone and into the spinal canal or foraminal openings Intervertebral discs may bulge or herniate into the canal or foraminal openings Degenerative disc disease causes narrowing of the spaces. Facet joints break down Facet joints may hypertrophy Compression fractures of the spine, which are common in osteoporosis Synovial cysts form on the facet joints causing compression of the spinal sac of nerves (thecal sac) Osteoarthritis Rheumatoid arthritis—much less common cause of spinal problems A vertebra slips forward on another (spondylolisthesis) Accidents and injuries may dislocate the spine and the spinal canal or cause burst fractures that yield fragments of bone that go through the canal. Patients with cervical myelopathy caused by narrowing of the spinal canal are at higher risk of acute spinal cord injury if involved in accidents. Irregular growths of soft tissue will cause inflammation. Growth of tissue into the canal pressing on nerves, the sac of nerves, or the spinal cord. The diagnosis of spinal stenosis involves a complete evaluation of the spine. The process usually begins with a medical history and physical examination.',\n",
       "  -66.60473948814166),\n",
       " ('Retrolisthesis > Retrolisthesis may lead to symptoms of greatly varying intensity and distribution. This is because of the variable nature of the impact on nerve tissue and of the mechanical impact on the spinal joints themselves.[citation needed]  Structural instability may be experienced as a local uneasiness through to a more far reaching structural compensatory distortion involving the whole spine. If the joints are stuck in a retrolisthesis configuration there may also be changes to range of motion.[citation needed]  Pain may be experienced as a result of irritation to the sensory nerve roots by bone depending on the degree of displacement and the presence of any rotatory positioning of the individual spinal motion segments. The soft tissue of the disc is often caused to bulge in retrolistheses. These cannot be determined by plain films, as the x-ray passes through the soft tissue. A study by Giles et al., stated that sixteen of the thirty patients (53%) had retrolisthesis of L5 on S1 ranging from 2–9 mm; these patients had either intervertebral disc bulging or protrusion on CT examination ranging from 3–7 mm into the spinal canal.',\n",
       "  -63.907148068618675),\n",
       " (\"Spinal adjustment > Some of the most notable techniques include: Activator Methods – uses the Activator Adjusting Instrument instead of by-hand adjustments to give consistent mechanical low-force, high-speed impulses to the body. Utilizes a leg-length analysis to determine segmental aberration. Active Release Techniques – soft tissue system/movement based technique that treats problems with muscles, tendons, ligaments, fascia and nerves. Bio-Geometric Integration – a framework for understanding the body's response to force dynamics. Can be utilized with many techniques. Focuses on the body's full integration of forces and on assessment for choosing the most appropriate adjustive force application, ranging from light pressure to traditional joint cavitation, for each particular case presentation. Blair Upper Cervical Technique – an objective upper cervical technique focusing primarily on misalignments in the first bone of the spine (Atlas) as it comes into contact with the head (Occiput). Chiropractic Biophysics (CBP) – a technique which aims to correct improper curvatures of the spine with traditional chiropractic manipulation (SMT), focused rehabilitation exercises, and a unique form of spinal traction which utilizes mechanically assisted and focused stretching to stretch and remodel the ligaments and related tissues of the spine.\",\n",
       "  -62.447966316865845),\n",
       " ('Middle back pain > The exact symptoms associated with middle back pain will depend upon the underlying cause. Most middle back pain is not serious in nature. However, it does tend to have more serious pathology associated with it than pain in the neck or low back. Symptoms can include pain, either locally near the spine or referred along area the corresponding nerve dermatome. Symptoms can also include numbness or pins and needles when nerve irritation or compression is involved. Weakness in the legs or loss of bowel or bladder control in the presence of thoracic spine pain can indicate spinal cord compression and should be investigated. The most common causes of upper back pain are unknown but theorized to originate from muscular irritation, intervertebral discs, spinal facet joints, ribs or soft tissue (e.g. ligament/fascia) problems. Commonly intra-scapular pain is referred from the lower cervical spine.',\n",
       "  -59.77934984096521),\n",
       " ('Back pain > The straight leg test is a maneuver used to determine the presence of lumbosacral radiculopathy, which occurs when there is irritation in the nerve root that causes neurologic symptoms such as numbness and tingling. Non-radicular back pain is most commonly caused by injury to the spinal muscles or ligaments, degenerative spinal disease or a herniated disc. Disc herniation and foraminal stenosis are the most common causes of radiculopathy. Imaging of the spine and laboratory tests is not recommended during the acute phase. This assumes that there is no reason to expect that the patient has an underlying problem. In most cases, the pain subsides naturally after several weeks. People who seek diagnosis through imaging are typically less likely to receive a better outcome than are those who wait for the condition to resolve. Magnetic resonance imaging (MRI) is the preferred modality for the evaluation of back pain and visualization of bone, soft tissue, nerves and ligaments.',\n",
       "  -57.47841481008125),\n",
       " (\"Neurogenic claudication > Neurogenic claudication is the fundamental clinical feature of LSS, which may be congenital or acquired. As a result of LSS, the spinal canal in the lumbar spine narrows, causing damage and arthritic changes in the spine. These changes, such as bulging disks, thickening of ligaments and overgrowth of bone spurs, lead to pressure and potentially damage to the spinal nerve roots. The compression of the spinal nerve roots that control movements and sensations in the lower body subsequently causes the symptoms of NC. The causes of LSS are most commonly acquired and include degenerative changes such as degenerative disc disease and spinal osteoarthritis. LSS may also be acquired from changes due to spinal surgery such as excess scar tissue or bone formation. Other secondary causes include space-occupying lesions, ankylosing spondylitis, rheumatoid arthritis, and Paget's disease. Less commonly, the cause of spinal stenosis may be present at birth as seen in achondroplasia, spina bifida, and certain mucopolysaccharidoses.\",\n",
       "  -57.14535690816643),\n",
       " (\"Ankylosing spondylitis > This places the spine in a vulnerable state because it becomes one bone, which causes it to lose its range of motion as well as putting it at risk for spinal fractures. This not only limits mobility but reduces the affected person's quality of life. Complete fusion of the spine can lead to a reduced range of motion and increased pain, as well as total joint destruction which could lead to a joint replacement. Osteoporosis is common in ankylosing spondylitis, both from chronic systemic inflammation and decreased mobility resulting from AS. Over a long-term period, osteopenia or osteoporosis of the AP spine may occur, causing eventual compression fractures and a back hump. Hyperkyphosis from ankylosing spondylitis can also lead to impairment in mobility and balance, as well as impaired peripheral vision, which increases the risk of falls which can cause fracture of already-fragile vertebrae. Typical signs of progressed AS are the visible formation of syndesmophytes on X-rays and abnormal bone outgrowths similar to osteophytes affecting the spine. In compression fractures of the vertebrae, paresthesia is a complication due to the inflammation of the tissue surrounding nerves.\",\n",
       "  -57.13871263264686),\n",
       " (\"Paget's disease of bone > Paget's disease is a frequent component of multisystem proteinopathy. Advanced Paget's disease may lead to other medical conditions, including: Osteoarthritis may result from changes in bone shape that alter normal skeletal mechanics. For example, bowing of a femur affected by Paget's may distort overall leg alignment, subjecting the knee to abnormal mechanical forces and accelerating degenerative wear. Heart failure is a rare, reported consequence of severe Paget's disease (i.e. more than 40% skeletal involvement). The abnormal bone formation is associated with recruitment of abnormal blood vessels, forcing the cardiovascular system to work harder (pump more blood) to ensure adequate circulation. Kidney stones are somewhat more common in patients with Paget's disease. Nervous system problems may occur in Paget's disease, resulting from increased pressure on the brain, spinal cord, or nerves, and reduced blood flow to the brain and spinal cord. When Paget's disease affects the facial bones, the teeth may become loose.\",\n",
       "  -56.82331302016032)]"
      ]
     },
     "execution_count": 175,
     "metadata": {},
     "output_type": "execute_result"
    }
   ],
   "source": [
    "%%time\n",
    "\n",
    "index = 806\n",
    "text = (\n",
    "    df.iloc[index].prompt\n",
    "    + \" \"\n",
    "    + df.iloc[index].A\n",
    "    + \" \"\n",
    "    + df.iloc[index].B\n",
    "    + \" \"\n",
    "    + df.iloc[index].C\n",
    "    + \" \"\n",
    "    + df.iloc[index].D\n",
    "    + \" \"\n",
    "    + df.iloc[index].E\n",
    ")\n",
    "\n",
    "print(\"【Prompt】 \", df.iloc[index][\"prompt\"])\n",
    "answer = df.iloc[index][\"answer\"]\n",
    "print(f\"【Answer {answer}】 \", df.iloc[index][df.iloc[index][\"answer\"]])\n",
    "two_vectorizer = CountVectorizer(analyzer=\"word\", ngram_range=(2, 2), stop_words=stop_words, max_features=20)\n",
    "tfidf_matrix = vectorizer.fit_transform([text])\n",
    "features = list(vectorizer.get_feature_names_out())\n",
    "q = \" OR \".join([\"(\" + \" AND \".join(text.split()) + \")\" for text in features])\n",
    "print(q)\n",
    "\n",
    "\n",
    "res = cur.execute(\n",
    "    f\"\"\"select text, rank\n",
    "      from imdb\n",
    "      where text MATCH \"{q}\"\n",
    "      ORDER BY rank\n",
    "      limit 10\"\"\",\n",
    ").fetchall()\n",
    "\n",
    "\n",
    "res"
   ]
  },
  {
   "cell_type": "code",
   "execution_count": 102,
   "id": "1c8e8724-cba5-4d6f-9f29-e86cfd9ae1df",
   "metadata": {
    "tags": []
   },
   "outputs": [
    {
     "name": "stdout",
     "output_type": "stream",
     "text": [
      "prompt     What is the approximate distance of NGC 7129 f...\n",
      "A                                             33 light years\n",
      "B                                                3,300 miles\n",
      "C                                           3,300 kilometers\n",
      "D                                            3.3 light years\n",
      "E                                            330 light years\n",
      "answer                                                     D\n",
      "context    NGC 2623 > Environment > NGC 2623 is located i...\n",
      "Name: 509, dtype: object\n",
      "['300' '33' '330' '7129' 'approximate' 'distance' 'earth' 'kilometers'\n",
      " 'light' 'miles' 'ngc' 'years']\n",
      "300 OR 33 OR 330 OR 7129 OR approximate OR distance OR earth OR kilometers OR light OR miles OR ngc OR years\n",
      "CPU times: user 16.9 s, sys: 868 ms, total: 17.8 s\n",
      "Wall time: 17.8 s\n"
     ]
    },
    {
     "data": {
      "text/plain": [
       "[('Interstellar travel > As of January 20, 2023, Voyager 1, the farthest human-made object from Earth, is 159 AU away. The closest known star, Proxima Centauri, is approximately 268,332 AU away, or over 9,000 times farther away than Neptune. Because of this, distances between stars are usually expressed in light-years (defined as the distance that light travels in vacuum in one Julian year) or in parsecs (one parsec is 3.26 ly, the distance at which stellar parallax is exactly one arcsecond, hence the name). Light in a vacuum travels around 300,000 kilometres (186,000 mi) per second, so 1 light-year is about 9.461×1012 kilometers (5.879 trillion miles) or 63,241 AU. Hence, Proxima Centauri is approximately 4.243 light-years from Earth. Another way of understanding the vastness of interstellar distances is by scaling: One of the closest stars to the Sun, Alpha Centauri A (a Sun-like star that is one of two companions of Proxima Centauri), can be pictured by scaling down the Earth–Sun distance to one meter (3.28 ft). On this scale, the distance to Alpha Centauri A would be 276 kilometers (171 miles). The fastest outward-bound spacecraft yet sent, Voyager 1, has covered 1/600 of a light-year in 30 years and is currently moving at 1/18,000 the speed of light.',\n",
       "  -44.10257049808197),\n",
       " ('NGC 5395 > Dust lanes can be seen throughout the galaxy. NGC 5394 is the smaller barred spiral galaxy interacting with larger spiral galaxy, NGC 5395. NGC 5394 has an oval disk, with a diameter of around 90 thousand light years across. It is also located at a distance of 160 million light-years across but receding away from the Earth at a distance of 3448 kilometers (2142.4 miles) per second. Most of the gas is concentrated at the center of the galaxy, however, two out of the three spiral arms show no sign of ongoing star formation. NGC 5395 is a Seyfert 2 galaxy. One supernova has been detected in NGC 5395, Type Ic supernova SN 2000cr. It was discovered on June 25.90 and 25.94 (UTC) at magnitude 17.0 lying northeast of the nucleus.',\n",
       "  -42.97534429096873),\n",
       " (\"NGC 301 > NGC 301 is a spiral galaxy located approximately 204 million light-years from the Solar System in the constellation Cetus. It was discovered in 1886 by Frank Muller. List of NGC objects (1–1000) NASA/IPAC Extragalactic Database. Results for NGC 0301. Retrieved September 2, 2016. An object's distance from Earth can be determined using Hubble's law: v=Ho is Hubble's constant (70±5 (km/s)/Mpc). The relative uncertainty Δd/d divided by the distance is equal to the sum of the relative uncertainties of the velocity and v=Ho New General Catalog Objects: NGC 300 - 349. Cseligman.\",\n",
       "  -42.71265006881408),\n",
       " ('NGC 7129 > NGC 7129 is a reflection nebula located 3,300 light years away in the constellation Cepheus. A young open cluster is responsible for illuminating the surrounding nebula. A recent survey indicates the cluster contains more than 130 stars less than 1 million years old.[citation needed]  NGC 7129 is located just half a degree from nearby cluster NGC 7142. The nebula is rosebud-shaped; the young stars have blown a large, oddly shaped bubble in the molecular cloud that once surrounded them at their birth. The rosy pink color comes from glowing dust grains on the surface of the bubble being heated by the intense light from the young stars within. The ultra-violet and visible light produced by the young stars is absorbed by the surrounding dust grains. They are heated by this process and release the energy at longer infrared wavelengths as photographed by the Spitzer Space Telescope.',\n",
       "  -42.62235605889908),\n",
       " (\"NGC 513 > One supernova has been observed in NGC 513: SN 2023jpp (type Ia, mag. 17.6). The galaxy has an apparent size of 0.9 × 0.6 arcmins and a recessional velocity of approximately 5807 kilometers per second. The redshift of 0.01956 allows an estimate of the galaxy's distance using Hubble's law, which puts the object at roughly 260 million light-years from the Sun. List of NGC objects (1–1000) NGC 513. Retrieved 2017-12-09. Revised NGC Data for NGC 513. spider.seds.org. Retrieved 2017-10-05. Your NED Search Results. ned.ipac.caltech.edu. Retrieved 2017-10-05. An object's distance from Earth can be determined using Hubble's law: v=Ho is Hubble's constant (70±5 (km/s)/Mpc).\",\n",
       "  -41.80166583686227),\n",
       " ('NGC 3007 > NGC 3007 is an edge-on, magnitude 13.4, lenticular galaxy in the constellation of Sextans, discovered by Édouard Stephan on March 16, 1855. It is about 115 thousand light years across, and with a recessional velocity of 6,520 kilometers per second, is at a distance of over 300 million light-years from the Sun. Results for object NGC 3007 (NGC 3007). NASA/IPAC Extragalactic Database. California Institute of Technology. Retrieved 2021-02-14. Search specification: NGC 3007. HyperLeda. Université Claude Bernard Lyon 1.',\n",
       "  -41.79849438731068),\n",
       " ('NGC 2336 > NGC 2336 is a barred spiral galaxy located in the constellation Camelopardalis. It is located at a distance of circa 100 million light years from Earth, which, given its apparent dimensions, means that NGC 2336 is about 200,000 light years across. It was discovered by Wilhelm Tempel in 1876. NGC 2336 is a barred spiral galaxy, featuring a small optical bar. At least 8 spiral arms, with numerous HII regions, emanate from the ring-like structure around the bar. This ring has a radius of approximately 34 arcseconds, which corresponds to 5.3 kpc at the distance of NGC 2336. In the large arms of the galaxy have been observed 28 HII regions that may host young massive star clusters, and for two of them the nebular emission comprises most of the flux. Three of these HII areas have ages calculated to be 100 to 300 million years and have sizes between 300 and 600 parsecs.',\n",
       "  -41.76875227384634),\n",
       " (\"NGC 512 > It has a recessional velocity of approximately 4810 kilometers per second. The distance of NGC 512 from the Solar System can be estimated using Hubble's law, which puts the object at roughly 220 million light-years from the Sun. List of NGC objects (1–1000) NGC 512. Retrieved 2017-12-09. Revised NGC Data for NGC 512. spider.seds.org. Retrieved 2017-10-05. Your NED Search Results. ned.ipac.caltech.edu. Retrieved 2017-10-05. An object's distance from Earth can be determined using Hubble's law: v=Ho is Hubble's constant (70±5 (km/s)/Mpc). The relative uncertainty Δd/d divided by the distance is equal to the sum of the relative uncertainties of the velocity and v=Ho New General Catalog Objects: NGC 500 - 549. cseligman.com. Retrieved 2017-10-16. astronomy-mall.com/Adventures.In.Deep.Space/NGC%201-7840%20complete.htm.\",\n",
       "  -41.50298979542305),\n",
       " ('NGC 5395 > NGC 5395 is an interacting spiral galaxy located at a distance of 160 million light years, but receding away from the Earth at 3511 kilometers (2181.6 miles) per second, in the constellation Canes Venatici. It was discovered by William Herschel on May 16, 1787. NGC 5395 and NGC 5394 are included in the Atlas of Peculiar Galaxies as Arp 84 in the category Spiral galaxies with large high surface brightness companions. NGC 5395 is the larger spiral galaxy interacting with smaller barred spiral galaxy, NGC 5394. NGC 5395 is nearly face-on, with a diameter of around 140,000 light-years across. NGC 5395 has a bright central region and is distorted due to the interaction with NGC 5394. The larger of the two rings around the galaxy forms a ring off the center of the galaxy. Dust lanes can be seen throughout the galaxy.',\n",
       "  -41.1397083388314),\n",
       " ('NGC 1058 > NGC 1058 is a Seyfert Type 2 galaxy in the NGC 1023 Group, located in the Perseus constellation. It is approximately 27.4 million light years from Earth and has an apparent magnitude of 11.82. It is receding from Earth at 518 kilometers per second (322 mi/s), and at 629 kilometers per second (391 mi/s) relative to the Milky Way. Three supernovae have been observed in NGC 1058: SN 1961V (Type IIP, mag. 12.2), SN 1969L (type II, mag. 12.8), and SN 2007gr (type Ib/c, mag. 13.8). SIMBAD query result: NGC 1058 -- Seyfert 2 Galaxy. Centre de Données astronomiques de Strasbourg. Retrieved 2008-05-01. NGC 1058 -- Seyfert 2 Galaxy.',\n",
       "  -40.39024347187869)]"
      ]
     },
     "execution_count": 102,
     "metadata": {},
     "output_type": "execute_result"
    }
   ],
   "source": [
    "%%time\n",
    "\n",
    "index = 509\n",
    "text = (\n",
    "    df.iloc[index].prompt\n",
    "    + \" \"\n",
    "    + df.iloc[index].A\n",
    "    + \" \"\n",
    "    + df.iloc[index].B\n",
    "    + \" \"\n",
    "    + df.iloc[index].C\n",
    "    + \" \"\n",
    "    + df.iloc[index].D\n",
    "    + \" \"\n",
    "    + df.iloc[index].E\n",
    ")\n",
    "print(df.iloc[index])\n",
    "vectorizer = TfidfVectorizer(stop_words=stop_words, max_features=20)\n",
    "tfidf_matrix = vectorizer.fit_transform([text])\n",
    "features = vectorizer.get_feature_names_out()\n",
    "print(features)\n",
    "\n",
    "q = \" OR \".join(features)\n",
    "\n",
    "res = cur.execute(\n",
    "    f\"\"\"select text, rank\n",
    "      from imdb\n",
    "      where text MATCH \"{q}\"\n",
    "      ORDER BY rank\n",
    "      limit 10\"\"\",\n",
    ").fetchall()\n",
    "\n",
    "print(q)\n",
    "\n",
    "res"
   ]
  },
  {
   "cell_type": "code",
   "execution_count": null,
   "id": "d0692dd8-477f-4e45-856d-96ac4b778b95",
   "metadata": {},
   "outputs": [],
   "source": []
  },
  {
   "cell_type": "code",
   "execution_count": null,
   "id": "52f23964-f81c-41c6-a75e-ae175b93dae4",
   "metadata": {},
   "outputs": [],
   "source": []
  },
  {
   "cell_type": "code",
   "execution_count": null,
   "id": "85122bc4-a456-4467-b8aa-e3c2d3a95b89",
   "metadata": {},
   "outputs": [],
   "source": []
  },
  {
   "cell_type": "code",
   "execution_count": null,
   "id": "d610c1ee-e17d-4714-9035-66029d6f028e",
   "metadata": {},
   "outputs": [],
   "source": []
  },
  {
   "cell_type": "code",
   "execution_count": 3,
   "id": "71f939e7-290a-4d4e-88a0-bfff7a646458",
   "metadata": {
    "tags": []
   },
   "outputs": [],
   "source": [
    "wiki_df = pd.read_parquet(\"../input/llm-science-wikipedia-data-b/n.parquet\")"
   ]
  },
  {
   "cell_type": "code",
   "execution_count": 4,
   "id": "d2f3d106-856a-4b68-bd1e-4697bf5b0250",
   "metadata": {
    "tags": []
   },
   "outputs": [
    {
     "data": {
      "text/html": [
       "<div>\n",
       "<style scoped>\n",
       "    .dataframe tbody tr th:only-of-type {\n",
       "        vertical-align: middle;\n",
       "    }\n",
       "\n",
       "    .dataframe tbody tr th {\n",
       "        vertical-align: top;\n",
       "    }\n",
       "\n",
       "    .dataframe thead th {\n",
       "        text-align: right;\n",
       "    }\n",
       "</style>\n",
       "<table border=\"1\" class=\"dataframe\">\n",
       "  <thead>\n",
       "    <tr style=\"text-align: right;\">\n",
       "      <th></th>\n",
       "      <th>id</th>\n",
       "      <th>title</th>\n",
       "      <th>text</th>\n",
       "    </tr>\n",
       "  </thead>\n",
       "  <tbody>\n",
       "    <tr>\n",
       "      <th>0</th>\n",
       "      <td>59737058</td>\n",
       "      <td>Novi Radio Bihać</td>\n",
       "      <td>Novi Radio Bihać or Novi Radio is a Bosnian lo...</td>\n",
       "    </tr>\n",
       "    <tr>\n",
       "      <th>1</th>\n",
       "      <td>59739362</td>\n",
       "      <td>Nathan Bastian</td>\n",
       "      <td>Nathan Bastian (born December 6, 1997) is a Ca...</td>\n",
       "    </tr>\n",
       "    <tr>\n",
       "      <th>2</th>\n",
       "      <td>5973939</td>\n",
       "      <td>NATO (disambiguation)</td>\n",
       "      <td>Look up NATO, Nato, nato, or nǟtõ in Wiktionar...</td>\n",
       "    </tr>\n",
       "    <tr>\n",
       "      <th>3</th>\n",
       "      <td>59739520</td>\n",
       "      <td>Nykøbing Falster Idrætspark</td>\n",
       "      <td>Nykøbing Falster Idrætspark is a football stad...</td>\n",
       "    </tr>\n",
       "    <tr>\n",
       "      <th>4</th>\n",
       "      <td>59739655</td>\n",
       "      <td>Nikolai Dimitrievich Dabić</td>\n",
       "      <td>Nikolai Dimitrievich Dabić (also spelled Dabit...</td>\n",
       "    </tr>\n",
       "  </tbody>\n",
       "</table>\n",
       "</div>"
      ],
      "text/plain": [
       "         id                        title  \\\n",
       "0  59737058             Novi Radio Bihać   \n",
       "1  59739362               Nathan Bastian   \n",
       "2   5973939        NATO (disambiguation)   \n",
       "3  59739520  Nykøbing Falster Idrætspark   \n",
       "4  59739655   Nikolai Dimitrievich Dabić   \n",
       "\n",
       "                                                text  \n",
       "0  Novi Radio Bihać or Novi Radio is a Bosnian lo...  \n",
       "1  Nathan Bastian (born December 6, 1997) is a Ca...  \n",
       "2  Look up NATO, Nato, nato, or nǟtõ in Wiktionar...  \n",
       "3  Nykøbing Falster Idrætspark is a football stad...  \n",
       "4  Nikolai Dimitrievich Dabić (also spelled Dabit...  "
      ]
     },
     "execution_count": 4,
     "metadata": {},
     "output_type": "execute_result"
    }
   ],
   "source": [
    "wiki_df.head()"
   ]
  },
  {
   "cell_type": "code",
   "execution_count": 5,
   "id": "6bfa0dfe-fa02-4464-b7c0-790d8af3234c",
   "metadata": {
    "tags": []
   },
   "outputs": [
    {
     "name": "stdout",
     "output_type": "stream",
     "text": [
      "CPU times: user 2.21 ms, sys: 702 µs, total: 2.91 ms\n",
      "Wall time: 1.41 ms\n"
     ]
    },
    {
     "data": {
      "text/plain": [
       "<sqlite3.Cursor at 0x7f9a793987c0>"
      ]
     },
     "execution_count": 5,
     "metadata": {},
     "output_type": "execute_result"
    }
   ],
   "source": [
    "%%time\n",
    "file_path = \":memory:\"\n",
    "\n",
    "if os.path.exists(file_path):\n",
    "    # ファイルを削除\n",
    "    os.remove(file_path)\n",
    "db = sqlite3.connect(file_path)\n",
    "cur = db.cursor()\n",
    "cur.execute('create virtual table imdb using fts5(text, tokenize=\"porter unicode61\");')  # UNINDEXED"
   ]
  },
  {
   "cell_type": "code",
   "execution_count": 6,
   "id": "b296fe71-f704-4790-b446-16d4509b76fd",
   "metadata": {
    "tags": []
   },
   "outputs": [
    {
     "name": "stdout",
     "output_type": "stream",
     "text": [
      "CPU times: user 58.2 s, sys: 1.28 s, total: 59.5 s\n",
      "Wall time: 59.5 s\n"
     ]
    }
   ],
   "source": [
    "%%time\n",
    "cur.executemany(\n",
    "    \"insert into imdb (text) values (?);\",\n",
    "    wiki_df[[\"text\"]].to_records(index=False),\n",
    ")\n",
    "db.commit()"
   ]
  },
  {
   "cell_type": "code",
   "execution_count": 95,
   "id": "c189f0f0-86a3-4339-bb19-afe484963ba4",
   "metadata": {
    "tags": []
   },
   "outputs": [
    {
     "name": "stdout",
     "output_type": "stream",
     "text": [
      "prompt      Which term best describes the structural organ...\n",
      "A           Lactose permease is the rarely used term that ...\n",
      "B           Lactose permease is the study of the relations...\n",
      "C           Lactose permease is the study of the effects o...\n",
      "D           Lactose permease is a branch of morphology tha...\n",
      "E           Lactose permease is the analysis of the patter...\n",
      "answer                                                      B\n",
      "context     Lactose permease > Lactose permease is a membr...\n",
      "sim_max                                              0.226259\n",
      "sim_min                                              0.159622\n",
      "sim_mean                                              0.20019\n",
      "sim_std                                              0.015267\n",
      "sim_num                                                    19\n",
      "Name: 668, dtype: object\n",
      "['term', 'best', 'describes', 'structural', 'organization', 'lactose', 'permease', 'Lactose', 'permease', 'rarely', 'used', 'term', 'refers', 'superstructure', 'polymers', 'fiber', 'formation', 'larger', 'composite', 'assemblies', 'Lactose', 'permease', 'study', 'relationship', 'structure', 'function', 'morphological', 'features', 'Lactose', 'permease', 'study', 'effects', 'external', 'factors', 'morphology', 'organisms', 'experimental', 'conditions', 'effect', 'genetic', 'mutation', 'Lactose', 'permease', 'branch', 'morphology', 'deals', 'structure', 'organisms', 'Lactose', 'permease', 'analysis', 'patterns', 'locus', 'structures', 'body', 'plan', 'organism', 'forms', 'basis', 'taxonomical', 'categorization']\n"
     ]
    }
   ],
   "source": [
    "index = 668\n",
    "text = (\n",
    "    df.iloc[index].prompt\n",
    "    + \" \"\n",
    "    + df.iloc[index].A\n",
    "    + \" \"\n",
    "    + df.iloc[index].B\n",
    "    + \" \"\n",
    "    + df.iloc[index].C\n",
    "    + \" \"\n",
    "    + df.iloc[index].D\n",
    "    + \" \"\n",
    "    + df.iloc[index].E\n",
    ")\n",
    "text = re.sub(r\"[^a-zA-Z0-9]\", \" \", text)\n",
    "filtered_words = [word for word in text.split() if word.lower() not in stop_words]\n",
    "print(df.iloc[index])\n",
    "print(filtered_words)"
   ]
  },
  {
   "cell_type": "code",
   "execution_count": 13,
   "id": "fe1e6739-3e4e-4a15-94a4-351cc8ef573a",
   "metadata": {
    "tags": []
   },
   "outputs": [
    {
     "name": "stdout",
     "output_type": "stream",
     "text": [
      "\n",
      "approximate OR distance OR NGC OR 7129 OR Earth OR 33 OR light OR years OR 3 OR 300 OR miles OR 3 OR 300 OR kilometers OR 3 OR 3 OR light OR years OR 330 OR light OR years\n",
      "CPU times: user 522 ms, sys: 12 ms, total: 534 ms\n",
      "Wall time: 532 ms\n"
     ]
    },
    {
     "data": {
      "text/plain": [
       "[(\"NGC 7129 is a reflection nebula located 3,300 light years away in the constellation Cepheus. A young open cluster is responsible for illuminating the surrounding nebula. A recent survey indicates the cluster contains more than 130 stars less than 1 million years old.[citation needed] NGC 7129 is located just half a degree from nearby cluster NGC 7142. The nebula is rosebud-shaped; the young stars have blown a large, oddly shaped bubble in the molecular cloud that once surrounded them at their birth. The rosy pink color comes from glowing dust grains on the surface of the bubble being heated by the intense light from the young stars within. The ultra-violet and visible light produced by the young stars is absorbed by the surrounding dust grains. They are heated by this process and release the energy at longer infrared wavelengths as photographed by the Spitzer Space Telescope. The reddish colors in the false-colour infrared image suggest the distribution of hydrocarbon rich molecular material.[citation needed] The much cooler molecular cloud outside the bubble is mostly invisible to Spitzer. However, three very young stars near the center of the nebula are sending jets of supersonic gas into the cloud. The collision of these jets heats carbon monoxide molecules in the nebula. This produces the complex nebulosity that appears like a stem of a rosebud.[citation needed] NGC 7129 as imaged through a 24-inch telescope on Mt. Lemmon Astro image of NGC7129 imaged with a 12.5 inch CDK from Talent, OR distance × sin( diameter_angle / 2 ) = 3 ly. radius APOD: 2007 September 13 - NGC 7129 and NGC 7142. Wikimedia Commons has media related to NGC 7129. http://www.noao.edu/outreach/aop/observers/n7129.html Archived 2012-03-15 at the Wayback Machine Valentine's Day 2004 Spitzer Space Telescope press release: the Cosmic Rose image from the Spitzer Space Telescope printable lithograph from the Spitzer Space Telescope Archived 2007-02-04 at the Wayback Machine v t e\",),\n",
       " (\"NGC 262 (also known as Markarian 348) is a spiral galaxy in the cluster LGG 14. It is a Seyfert 2 spiral galaxy located 287 million light years away in the constellation Andromeda. It was discovered on September 17, 1885 by Lewis A. Swift. This galaxy has an apparent diameter of 1.1' of the Earth's sky. It holds approximately 15 trillion stars.[citation needed] [NGC 262] was tidally disturbed by the gravitational forces of smaller galaxies, which resulted in its large size. NGC 262 is very unusual, since it is 10 times larger than a regular spiral galaxy of its type. According to Morris and Wannier, NGC 262 is surrounded by a huge cloud of neutral hydrogen that is probably caused by the tidal stripping of smaller galaxies. The cloud has an apparent mass of approximately 50 billion solar masses at a distance of 88 kiloparsecs (287,000 light-years) from the nucleus of NGC 262 and extending up to 300 kiloparsecs (1 million light-years) away. The cloud is spiral shaped with at least one arm, and possibly another one extending throughout the galaxy. SIMBAD query result. Basic data for NGC 262. Huchra, J. (May 15, 1980). The optical properties of the unusual galaxy Markarian 348. The Astrophysical Journal. 238: 11–12. Bibcode:1980ApJ...238L..11H. doi:10.1086/183246. The New York Times. Distant galaxy found to be largest known. 1987-03-13. Media related to NGC 262 at Wikimedia Commons v t e\",)]"
      ]
     },
     "execution_count": 13,
     "metadata": {},
     "output_type": "execute_result"
    }
   ],
   "source": [
    "%%time\n",
    "\n",
    "q = \" OR \".join(filtered_words)\n",
    "\n",
    "res = cur.execute(\n",
    "    f\"\"\"select text\n",
    "                      from imdb\n",
    "                      where text MATCH \"{q}\"\n",
    "                      ORDER BY rank\n",
    "                      limit 2\"\"\",\n",
    ").fetchall()\n",
    "\n",
    "print()\n",
    "print(q)\n",
    "\n",
    "res"
   ]
  },
  {
   "cell_type": "code",
   "execution_count": 81,
   "id": "37a0bf52-04cb-46a7-92b4-18955feff932",
   "metadata": {
    "tags": []
   },
   "outputs": [],
   "source": []
  },
  {
   "cell_type": "code",
   "execution_count": 12,
   "id": "57bf6cb1-1962-48ad-9680-6cd605d5377e",
   "metadata": {
    "tags": []
   },
   "outputs": [
    {
     "data": {
      "text/plain": [
       "Int64Index([  32,   39,   65,   68,   96,  120,  124,  135,  147,  178,\n",
       "            ...\n",
       "            1148, 1157, 1159, 1165, 1180, 1182, 1183, 1185, 1188, 1194],\n",
       "           dtype='int64', length=202)"
      ]
     },
     "execution_count": 12,
     "metadata": {},
     "output_type": "execute_result"
    }
   ],
   "source": [
    "df = pd.read_csv(\"../preprocessed/331_retrieve_b/b_bge_10_4_3/data2.csv\")\n",
    "preds = np.load(\"../output/350_1st_infer/b_bge_10_4_3/data2_pred.npy\")\n",
    "\n",
    "\n",
    "option_to_index = {option: idx for idx, option in enumerate(\"ABCDE\")}\n",
    "index_to_option = {v: k for k, v in option_to_index.items()}\n",
    "\n",
    "\n",
    "def predictions_to_map_output_top(predictions):\n",
    "    sorted_answer_indices = np.argsort(-predictions)  # Sortting indices in descending order\n",
    "    top_answer_indices = sorted_answer_indices[:, :]  # Taking the first three indices for each row\n",
    "    top_answers = np.vectorize(index_to_option.get)(\n",
    "        top_answer_indices\n",
    "    )  # Transforming indices to options - i.e., 0 --> A\n",
    "    return np.apply_along_axis(lambda row: \" \".join(row[0]), 1, top_answers)\n",
    "\n",
    "\n",
    "valid_preds = predictions_to_map_output_top(preds[: len(df), :])\n",
    "df[\"preds\"] = valid_preds\n",
    "\n",
    "df[df[\"preds\"] != df[\"answer\"]].index"
   ]
  },
  {
   "cell_type": "code",
   "execution_count": null,
   "id": "7dc38b27-11dc-4ef2-b812-90cb0d871a08",
   "metadata": {},
   "outputs": [],
   "source": []
  },
  {
   "cell_type": "code",
   "execution_count": 2,
   "id": "11aeaa2b-aec0-4145-9769-beaaac386ca8",
   "metadata": {
    "tags": []
   },
   "outputs": [
    {
     "data": {
      "application/vnd.jupyter.widget-view+json": {
       "model_id": "e28a779a348a46e5afb19438258cb33d",
       "version_major": 2,
       "version_minor": 0
      },
      "text/plain": [
       "Map (num_proc=2):   0%|          | 0/2101279 [00:00<?, ? examples/s]"
      ]
     },
     "metadata": {},
     "output_type": "display_data"
    }
   ],
   "source": [
    "paraphs_parsed_dataset = load_from_disk(\"../input/all-paraphs-parsed-expanded\")\n",
    "modified_texts = paraphs_parsed_dataset.map(\n",
    "    lambda example: {\n",
    "        \"temp_text\": f\"{example['title']} {example['section']} {example['text']}\".replace(\"\\n\", \" \").replace(\"'\", \"\")\n",
    "    },\n",
    "    num_proc=2,\n",
    ")[\"temp_text\"]\n",
    "\n",
    "wiki_df = pd.DataFrame({\"text\": modified_texts})"
   ]
  },
  {
   "cell_type": "code",
   "execution_count": 4,
   "id": "dbe6c777-c25e-42c8-8812-b4acbfdbe880",
   "metadata": {
    "tags": []
   },
   "outputs": [
    {
     "data": {
      "text/plain": [
       "'Russell Epstein Russell Epstein Russell Epstein is a professor of psychology at the University of Pennsylvania, who studies neural mechanisms underlying visual scene perception, event perception, object recognition, and spatial navigation in humans. His lab studies the role of the Parahippocampal and retrosplenial cortices in determining how people orient themselves relative to their surroundings.'"
      ]
     },
     "execution_count": 4,
     "metadata": {},
     "output_type": "execute_result"
    }
   ],
   "source": [
    "modified_texts[0]"
   ]
  },
  {
   "cell_type": "code",
   "execution_count": 15,
   "id": "da669b5b-94ee-43b2-9d77-79b45c1bcf58",
   "metadata": {
    "tags": []
   },
   "outputs": [
    {
     "name": "stdout",
     "output_type": "stream",
     "text": [
      "CPU times: user 2.3 ms, sys: 254 µs, total: 2.55 ms\n",
      "Wall time: 1.23 ms\n"
     ]
    },
    {
     "data": {
      "text/plain": [
       "<sqlite3.Cursor at 0x7f5714878240>"
      ]
     },
     "execution_count": 15,
     "metadata": {},
     "output_type": "execute_result"
    }
   ],
   "source": [
    "%%time\n",
    "file_path = \":memory:\"\n",
    "\n",
    "if os.path.exists(file_path):\n",
    "    # ファイルを削除\n",
    "    os.remove(file_path)\n",
    "db = sqlite3.connect(file_path)\n",
    "cur = db.cursor()\n",
    "cur.execute('create virtual table imdb using fts5(text, tokenize=\"porter unicode61\");')  # UNINDEXED"
   ]
  },
  {
   "cell_type": "code",
   "execution_count": 18,
   "id": "7b6227e2-a937-4a19-867b-f2edaef7e65c",
   "metadata": {
    "tags": []
   },
   "outputs": [
    {
     "name": "stdout",
     "output_type": "stream",
     "text": [
      "CPU times: user 1min 57s, sys: 1.32 s, total: 1min 58s\n",
      "Wall time: 1min 58s\n"
     ]
    }
   ],
   "source": [
    "%%time\n",
    "cur.executemany(\n",
    "    \"insert into imdb (text) values (?);\",\n",
    "    wiki_df[[\"text\"]].to_records(index=False),\n",
    ")\n",
    "db.commit()"
   ]
  },
  {
   "cell_type": "code",
   "execution_count": 19,
   "id": "98df4be7-fbcd-4a4f-9145-7cc9357e903b",
   "metadata": {
    "tags": []
   },
   "outputs": [],
   "source": [
    "index = 0\n",
    "text = (\n",
    "    df.iloc[index].prompt\n",
    "    + \" \"\n",
    "    + df.iloc[index].A\n",
    "    + \" \"\n",
    "    + df.iloc[index].B\n",
    "    + \" \"\n",
    "    + df.iloc[index].C\n",
    "    + \" \"\n",
    "    + df.iloc[index].D\n",
    "    + \" \"\n",
    "    + df.iloc[index].E\n",
    ")\n",
    "text = re.sub(r\"[^a-zA-Z0-9]\", \" \", text)\n",
    "filtered_words = [word for word in text.split() if word.lower() not in stop_words]"
   ]
  },
  {
   "cell_type": "code",
   "execution_count": 21,
   "id": "c0ef7cbc-0011-45d1-9513-7050799fa22f",
   "metadata": {
    "tags": []
   },
   "outputs": [
    {
     "name": "stdout",
     "output_type": "stream",
     "text": [
      "Which of the following statements accurately describes the impact of Modified Newtonian Dynamics  MOND  on the observed  missing baryonic mass  discrepancy in galaxy clusters  MOND is a theory that reduces the observed missing baryonic mass in galaxy clusters by postulating the existence of a new form of matter called  fuzzy dark matter   MOND is a theory that increases the discrepancy between the observed missing baryonic mass in galaxy clusters and the measured velocity dispersions from a factor of around 10 to a factor of about 20  MOND is a theory that explains the missing baryonic mass in galaxy clusters that was previously considered dark matter by demonstrating that the mass is in the form of neutrinos and axions  MOND is a theory that reduces the discrepancy between the observed missing baryonic mass in galaxy clusters and the measured velocity dispersions from a factor of around 10 to a factor of about 2  MOND is a theory that eliminates the observed missing baryonic mass in galaxy clusters by imposing a new mathematical formulation of gravity that does not require the existence of dark matter \n",
      "\n",
      "following OR statements OR accurately OR describes OR impact OR Modified OR Newtonian OR Dynamics OR MOND OR observed OR missing OR baryonic OR mass OR discrepancy OR galaxy OR clusters OR MOND OR theory OR reduces OR observed OR missing OR baryonic OR mass OR galaxy OR clusters OR postulating OR existence OR new OR form OR matter OR called OR fuzzy OR dark OR matter OR MOND OR theory OR increases OR discrepancy OR observed OR missing OR baryonic OR mass OR galaxy OR clusters OR measured OR velocity OR dispersions OR factor OR around OR 10 OR factor OR 20 OR MOND OR theory OR explains OR missing OR baryonic OR mass OR galaxy OR clusters OR previously OR considered OR dark OR matter OR demonstrating OR mass OR form OR neutrinos OR axions OR MOND OR theory OR reduces OR discrepancy OR observed OR missing OR baryonic OR mass OR galaxy OR clusters OR measured OR velocity OR dispersions OR factor OR around OR 10 OR factor OR 2 OR MOND OR theory OR eliminates OR observed OR missing OR baryonic OR mass OR galaxy OR clusters OR imposing OR new OR mathematical OR formulation OR gravity OR require OR existence OR dark OR matter\n",
      "CPU times: user 8.78 s, sys: 276 ms, total: 9.05 s\n",
      "Wall time: 9.06 s\n"
     ]
    },
    {
     "data": {
      "text/plain": [
       "[('Modified Newtonian dynamics Modified Newtonian dynamics MOND is an example of a class of theories known as modified gravity, and is an alternative to the hypothesis that the dynamics of galaxies are determined by massive, invisible dark matter halos. Since Milgroms original proposal, proponents of MOND have claimed to successfully predict a variety of galactic phenomena that they state are difficult to understand as consequences of dark matter.Though MOND explains the anomalously great rotational velocities of galaxies at their perimeters, it does not fully explain the velocity dispersions of individual galaxies within galaxy clusters. MOND reduces the discrepancy between the velocity dispersions and clusters observed missing baryonic mass from a factor of around 10 to a factor of about 2. However, the residual discrepancy cannot be accounted for by MOND, requiring that other explanations close the gap such as the presence of as-yet undetected missing baryonic matter.The accurate measurement of the speed of gravitational waves compared to the speed of light in 2017 ruled out a certain class of modified gravity theories but concluded that other MOND theories that dispense with the need for dark matter remained viable. Two years later, theories put forth by Constantinos Skordis and Tom Zlosnik were consistent with gravitational waves that always travel at the speed of light. Later still in 2021, Skordis and Zlosnik developed a subclass of their theory called \"RMOND\", for \"relativistic MOND\", which had \"been shown to reproduce in great detail the main observations in cosmology, including the cosmic-microwave-background power spectrum, and the matter structure power spectrum.\" ',\n",
       "  -456.0857636471279)]"
      ]
     },
     "execution_count": 21,
     "metadata": {},
     "output_type": "execute_result"
    }
   ],
   "source": [
    "%%time\n",
    "\n",
    "q = \" OR \".join(filtered_words)\n",
    "\n",
    "res = cur.execute(\n",
    "    f\"\"\"select text, rank\n",
    "                      from imdb\n",
    "                      where text MATCH \"{q}\"\n",
    "                      ORDER BY rank\n",
    "                      limit 1\"\"\",\n",
    ").fetchall()\n",
    "\n",
    "print(text)\n",
    "print()\n",
    "print(q)\n",
    "\n",
    "res"
   ]
  },
  {
   "cell_type": "code",
   "execution_count": null,
   "id": "db09abcd-6bf5-42fb-8618-ea3cb149d110",
   "metadata": {},
   "outputs": [],
   "source": []
  },
  {
   "cell_type": "code",
   "execution_count": null,
   "id": "19ffd47f-9ffc-404e-9523-b9531c236242",
   "metadata": {},
   "outputs": [],
   "source": []
  },
  {
   "cell_type": "code",
   "execution_count": null,
   "id": "57d5274c-4bfb-49d8-beb0-4d4c18df63fe",
   "metadata": {},
   "outputs": [],
   "source": []
  },
  {
   "cell_type": "code",
   "execution_count": null,
   "id": "b18a6424-358e-4ee2-bacf-2acef5758ee6",
   "metadata": {},
   "outputs": [],
   "source": []
  },
  {
   "cell_type": "code",
   "execution_count": null,
   "id": "125d1135-4e94-4dec-93d4-5b9ae4012b76",
   "metadata": {},
   "outputs": [],
   "source": []
  },
  {
   "cell_type": "code",
   "execution_count": 2,
   "id": "3dc3e4be-6e0b-4dd3-bb0c-a97b296d9aca",
   "metadata": {
    "tags": []
   },
   "outputs": [],
   "source": []
  },
  {
   "cell_type": "code",
   "execution_count": 3,
   "id": "ee618965-6dd8-44ce-9208-ab9f068ce361",
   "metadata": {
    "tags": []
   },
   "outputs": [],
   "source": []
  },
  {
   "cell_type": "code",
   "execution_count": 4,
   "id": "3d41744e-3df3-4eb1-bcb1-fa1fc3f0d882",
   "metadata": {
    "tags": []
   },
   "outputs": [
    {
     "data": {
      "text/plain": [
       "Int64Index([  32,   39,   65,   68,   96,  120,  124,  135,  147,  178,\n",
       "            ...\n",
       "            1148, 1157, 1159, 1165, 1180, 1182, 1183, 1185, 1188, 1194],\n",
       "           dtype='int64', length=202)"
      ]
     },
     "execution_count": 4,
     "metadata": {},
     "output_type": "execute_result"
    }
   ],
   "source": []
  },
  {
   "cell_type": "code",
   "execution_count": 50,
   "id": "bedf86e8-96cb-4a87-871c-49c56229af2f",
   "metadata": {
    "tags": []
   },
   "outputs": [
    {
     "data": {
      "text/html": [
       "<div>\n",
       "<style scoped>\n",
       "    .dataframe tbody tr th:only-of-type {\n",
       "        vertical-align: middle;\n",
       "    }\n",
       "\n",
       "    .dataframe tbody tr th {\n",
       "        vertical-align: top;\n",
       "    }\n",
       "\n",
       "    .dataframe thead th {\n",
       "        text-align: right;\n",
       "    }\n",
       "</style>\n",
       "<table border=\"1\" class=\"dataframe\">\n",
       "  <thead>\n",
       "    <tr style=\"text-align: right;\">\n",
       "      <th></th>\n",
       "      <th>id</th>\n",
       "      <th>title</th>\n",
       "      <th>text</th>\n",
       "    </tr>\n",
       "  </thead>\n",
       "  <tbody>\n",
       "    <tr>\n",
       "      <th>0</th>\n",
       "      <td>59737009</td>\n",
       "      <td>Biodiversity Monitoring Switzerland</td>\n",
       "      <td>The Biodiversity Monitoring Switzerland (BDM) ...</td>\n",
       "    </tr>\n",
       "    <tr>\n",
       "      <th>1</th>\n",
       "      <td>59737081</td>\n",
       "      <td>Bigoudène</td>\n",
       "      <td>In Breton tradition, a coiffe bigoudène is a w...</td>\n",
       "    </tr>\n",
       "    <tr>\n",
       "      <th>2</th>\n",
       "      <td>59737128</td>\n",
       "      <td>Barnabas Bala</td>\n",
       "      <td>Barnabas Yusuf Bala (20 December 1956 – 11 Jul...</td>\n",
       "    </tr>\n",
       "    <tr>\n",
       "      <th>3</th>\n",
       "      <td>59739888</td>\n",
       "      <td>Bagdah</td>\n",
       "      <td>Bagdah or Bagdaha may refer to: Bagdah (commun...</td>\n",
       "    </tr>\n",
       "    <tr>\n",
       "      <th>4</th>\n",
       "      <td>59739916</td>\n",
       "      <td>Big John Hamilton</td>\n",
       "      <td>Big John Hamilton may refer to: Big John Hamil...</td>\n",
       "    </tr>\n",
       "    <tr>\n",
       "      <th>...</th>\n",
       "      <td>...</td>\n",
       "      <td>...</td>\n",
       "      <td>...</td>\n",
       "    </tr>\n",
       "    <tr>\n",
       "      <th>351878</th>\n",
       "      <td>30045543</td>\n",
       "      <td>Bill Reeder</td>\n",
       "      <td>William Edgar Reeder (February 20, 1922 – Marc...</td>\n",
       "    </tr>\n",
       "    <tr>\n",
       "      <th>351879</th>\n",
       "      <td>3004563</td>\n",
       "      <td>Black River Public School (Holland, Michigan)</td>\n",
       "      <td>Black River Public School is a public college ...</td>\n",
       "    </tr>\n",
       "    <tr>\n",
       "      <th>351880</th>\n",
       "      <td>30045661</td>\n",
       "      <td>Breg pri Konjicah</td>\n",
       "      <td>Breg pri Konjicah (pronounced [ˈbɾeːk pɾi kɔˈn...</td>\n",
       "    </tr>\n",
       "    <tr>\n",
       "      <th>351881</th>\n",
       "      <td>30045729</td>\n",
       "      <td>Brezje pri Ločah</td>\n",
       "      <td>Brezje pri Ločah (pronounced [ˈbreːzjɛ pɾi ˈlo...</td>\n",
       "    </tr>\n",
       "    <tr>\n",
       "      <th>351882</th>\n",
       "      <td>30045865</td>\n",
       "      <td>Board of Intermediate and Secondary Education,...</td>\n",
       "      <td>Board of Intermediate and Secondary Education,...</td>\n",
       "    </tr>\n",
       "  </tbody>\n",
       "</table>\n",
       "<p>351883 rows × 3 columns</p>\n",
       "</div>"
      ],
      "text/plain": [
       "              id                                              title  \\\n",
       "0       59737009                Biodiversity Monitoring Switzerland   \n",
       "1       59737081                                          Bigoudène   \n",
       "2       59737128                                      Barnabas Bala   \n",
       "3       59739888                                             Bagdah   \n",
       "4       59739916                                  Big John Hamilton   \n",
       "...          ...                                                ...   \n",
       "351878  30045543                                        Bill Reeder   \n",
       "351879   3004563      Black River Public School (Holland, Michigan)   \n",
       "351880  30045661                                  Breg pri Konjicah   \n",
       "351881  30045729                                   Brezje pri Ločah   \n",
       "351882  30045865  Board of Intermediate and Secondary Education,...   \n",
       "\n",
       "                                                     text  \n",
       "0       The Biodiversity Monitoring Switzerland (BDM) ...  \n",
       "1       In Breton tradition, a coiffe bigoudène is a w...  \n",
       "2       Barnabas Yusuf Bala (20 December 1956 – 11 Jul...  \n",
       "3       Bagdah or Bagdaha may refer to: Bagdah (commun...  \n",
       "4       Big John Hamilton may refer to: Big John Hamil...  \n",
       "...                                                   ...  \n",
       "351878  William Edgar Reeder (February 20, 1922 – Marc...  \n",
       "351879  Black River Public School is a public college ...  \n",
       "351880  Breg pri Konjicah (pronounced [ˈbɾeːk pɾi kɔˈn...  \n",
       "351881  Brezje pri Ločah (pronounced [ˈbreːzjɛ pɾi ˈlo...  \n",
       "351882  Board of Intermediate and Secondary Education,...  \n",
       "\n",
       "[351883 rows x 3 columns]"
      ]
     },
     "execution_count": 50,
     "metadata": {},
     "output_type": "execute_result"
    }
   ],
   "source": [
    "df = pd.read_parquet(\"../input/llm-science-wikipedia-data-b/b.parquet\")\n",
    "df"
   ]
  },
  {
   "cell_type": "code",
   "execution_count": 162,
   "id": "597fd890-5787-4a9b-932f-d9c27ddd59be",
   "metadata": {
    "tags": []
   },
   "outputs": [
    {
     "name": "stdout",
     "output_type": "stream",
     "text": [
      "CPU times: user 3min 34s, sys: 1min 29s, total: 5min 3s\n",
      "Wall time: 6min 21s\n"
     ]
    }
   ],
   "source": [
    "%%time\n",
    "import os\n",
    "\n",
    "file_path = \"../dataset/llm-science-fts/fts.db\"\n",
    "db = sqlite3.connect(file_path)\n",
    "cur = db.cursor()\n",
    "res = cur.execute(\n",
    "    f\"\"\"INSERT INTO imdb(imdb) VALUES('optimize');\"\"\",\n",
    ")\n",
    "db.commit()"
   ]
  },
  {
   "cell_type": "code",
   "execution_count": 53,
   "id": "d0ccfca3-e670-4191-b726-a946d9fa2205",
   "metadata": {
    "tags": []
   },
   "outputs": [
    {
     "name": "stdout",
     "output_type": "stream",
     "text": [
      "CPU times: user 3min 57s, sys: 25.3 s, total: 4min 23s\n",
      "Wall time: 4min 26s\n"
     ]
    }
   ],
   "source": [
    "%%time\n",
    "cur.executemany(\n",
    "    \"insert into imdb (text) values (?,?);\",\n",
    "    df[[\"text\", \"title\"]].to_records(index=False),\n",
    ")\n",
    "db.commit()"
   ]
  },
  {
   "cell_type": "code",
   "execution_count": 70,
   "id": "f8d17d9c-5ef2-4c11-a9ec-8a609a8e26b1",
   "metadata": {
    "tags": []
   },
   "outputs": [],
   "source": []
  },
  {
   "cell_type": "code",
   "execution_count": 11,
   "id": "128b1875-9f14-4823-8a39-11348a20ffef",
   "metadata": {
    "tags": []
   },
   "outputs": [
    {
     "name": "stderr",
     "output_type": "stream",
     "text": [
      "/opt/conda/lib/python3.10/site-packages/scipy/__init__.py:146: UserWarning: A NumPy version >=1.16.5 and <1.23.0 is required for this version of SciPy (detected version 1.23.5\n",
      "  warnings.warn(f\"A NumPy version >={np_minversion} and <{np_maxversion}\"\n"
     ]
    }
   ],
   "source": [
    "import re\n",
    "\n",
    "from nltk.corpus import stopwords\n",
    "\n",
    "stop_words = set(stopwords.words(\"english\"))  # 使用言語に応じて変更"
   ]
  },
  {
   "cell_type": "code",
   "execution_count": null,
   "id": "1a32294b-4900-4d55-be33-f1e5a2ca2977",
   "metadata": {},
   "outputs": [],
   "source": [
    "file_path = \"tutorial.db\"\n",
    "db = sqlite3.connect(file_path)\n",
    "cur = db.cursor()"
   ]
  },
  {
   "cell_type": "code",
   "execution_count": 35,
   "id": "0060f965-4da2-4a5c-aa31-00767f502b34",
   "metadata": {
    "tags": []
   },
   "outputs": [],
   "source": [
    "res = cur.execute(\n",
    "    f\"\"\"CREATE VIRTUAL TABLE ft1_r USING fts5vocab('imdb', 'row');\"\"\",\n",
    ")\n",
    "db.commit()"
   ]
  },
  {
   "cell_type": "code",
   "execution_count": 57,
   "id": "a45abfd1-9a98-4cdd-9905-ddfe386f657e",
   "metadata": {
    "tags": []
   },
   "outputs": [
    {
     "name": "stdout",
     "output_type": "stream",
     "text": [
      "CPU times: user 181 ms, sys: 0 ns, total: 181 ms\n",
      "Wall time: 179 ms\n"
     ]
    },
    {
     "data": {
      "text/plain": [
       "[('called', 'text', 1, 1),\n",
       " ('considered', 'text', 1, 1),\n",
       " ('mathematical', 'text', 4, 6),\n",
       " ('around', 'title', 285, 285)]"
      ]
     },
     "execution_count": 57,
     "metadata": {},
     "output_type": "execute_result"
    }
   ],
   "source": [
    "%%time\n",
    "\n",
    "\n",
    "index = 0\n",
    "text = (\n",
    "    df.iloc[index].prompt\n",
    "    + \" \"\n",
    "    + df.iloc[index].A\n",
    "    + \" \"\n",
    "    + df.iloc[index].B\n",
    "    + \" \"\n",
    "    + df.iloc[index].C\n",
    "    + \" \"\n",
    "    + df.iloc[index].D\n",
    "    + \" \"\n",
    "    + df.iloc[index].E\n",
    ")\n",
    "text = re.sub(r\"[^a-zA-Z0-9]\", \" \", text)\n",
    "filtered_words = [word for word in text.split() if word.lower() not in stop_words]\n",
    "\n",
    "\n",
    "res = cur.execute(\n",
    "    f\"\"\"SELECT * FROM ft1_v WHERE term IN ({','.join(['?']*len(filtered_words))}) AND cnt < 1000 ORDER BY cnt\"\"\",\n",
    "    filtered_words,\n",
    ").fetchall()\n",
    "\n",
    "res"
   ]
  },
  {
   "cell_type": "code",
   "execution_count": 58,
   "id": "481575d8-2b43-4be1-b732-6bc2e4bdbe10",
   "metadata": {
    "tags": []
   },
   "outputs": [
    {
     "name": "stdout",
     "output_type": "stream",
     "text": [
      "Which of the following statements accurately describes the impact of Modified Newtonian Dynamics  MOND  on the observed  missing baryonic mass  discrepancy in galaxy clusters  MOND is a theory that reduces the observed missing baryonic mass in galaxy clusters by postulating the existence of a new form of matter called  fuzzy dark matter   MOND is a theory that increases the discrepancy between the observed missing baryonic mass in galaxy clusters and the measured velocity dispersions from a factor of around 10 to a factor of about 20  MOND is a theory that explains the missing baryonic mass in galaxy clusters that was previously considered dark matter by demonstrating that the mass is in the form of neutrinos and axions  MOND is a theory that reduces the discrepancy between the observed missing baryonic mass in galaxy clusters and the measured velocity dispersions from a factor of around 10 to a factor of about 2  MOND is a theory that eliminates the observed missing baryonic mass in galaxy clusters by imposing a new mathematical formulation of gravity that does not require the existence of dark matter \n",
      "\n",
      "called OR considered OR mathematical OR around\n",
      "CPU times: user 1.05 s, sys: 83.9 ms, total: 1.13 s\n",
      "Wall time: 1.13 s\n"
     ]
    },
    {
     "data": {
      "text/plain": [
       "[(\"European Girls' Mathematical Olympiad > The European Girls' Mathematical Olympiad (EGMO) is a mathematical olympiad for girls which started in 2012, and is held in April each year. It was inspired by the China Girls Mathematical Olympiad (CGMO). Although the competition is held in Europe, it is open to female participants from all over the world, and is considered the most prestigious mathematics competition for girls. In recent years, participants from around 55 countries have been invited to the competition.\",\n",
       "  -17.294626741001327),\n",
       " ('Bhāskara II > Bhāskara and his works represent a significant contribution to mathematical and astronomical knowledge in the 12th century. He has been called the greatest mathematician of medieval India. His main work Siddhānta-Śiromaṇi, (Sanskrit for Crown of Treatises) is divided into four parts called Līlāvatī, Bījagaṇita, Grahagaṇita and Golādhyāya, which are also sometimes considered four independent works. These four sections deal with arithmetic, algebra, mathematics of the planets, and spheres respectively.',\n",
       "  -16.327708148602554),\n",
       " ('Brane > Mathematically, branes can be represented within categories, and are studied in pure mathematics for insight into homological mirror symmetry and noncommutative geometry. A point particle can be viewed as a brane of dimension zero, while a string can be viewed as a brane of dimension one. In addition to point particles and strings, it is possible to consider higher-dimensional branes. A p-dimensional brane is generally called p-brane.',\n",
       "  -15.146604024107951),\n",
       " ('Beryl May Dent > In Aubin, David; Goldstein, Catherine (eds.). The War of Guns and Mathematics: Mathematical Practices and Communities in France and Its Western Allies around World War I. History of Mathematics. Providence: American Mathematical Society. ISBN 978-1-4704-1469-6.',\n",
       "  -14.90186578800226),\n",
       " (\"Euclidean space > Euclidean space is the fundamental space of geometry, intended to represent physical space. Originally, that is, in Euclid's Elements, it was the three-dimensional space of Euclidean geometry, but in modern mathematics there are Euclidean spaces of any positive integer dimension n, which are called Euclidean n-spaces when one wants to specify their dimension. For n equal to one or two, they are commonly called respectively Euclidean lines and Euclidean planes. The qualifier Euclidean is used to distinguish Euclidean spaces from other spaces that were later considered in physics and modern mathematics.\",\n",
       "  -14.633279523516919)]"
      ]
     },
     "execution_count": 58,
     "metadata": {},
     "output_type": "execute_result"
    }
   ],
   "source": [
    "%%time\n",
    "\n",
    "q = \" OR \".join([row[0] for row in res])\n",
    "\n",
    "res = cur.execute(\n",
    "    f\"\"\"select text, rank\n",
    "                      from imdb\n",
    "                      where text MATCH \"{q }\"\n",
    "                      ORDER BY rank\n",
    "                      limit 5\"\"\",\n",
    ").fetchall()\n",
    "\n",
    "print(text)\n",
    "print()\n",
    "print(q)\n",
    "\n",
    "res"
   ]
  },
  {
   "cell_type": "code",
   "execution_count": 82,
   "id": "a80968c2-cdd8-4130-a2eb-d4b7efa932ee",
   "metadata": {
    "tags": []
   },
   "outputs": [
    {
     "data": {
      "text/plain": [
       "'Which of the following statements accurately describes the dimension of an object in a CW complex?The dimension of an object in a CW complex is the largest n for which the n-skeleton is nontrivial, where the empty set is considered to have dimension -1 and the boundary of a discrete set of points is the empty set.'"
      ]
     },
     "execution_count": 82,
     "metadata": {},
     "output_type": "execute_result"
    }
   ],
   "source": [
    "index = 6\n",
    "df.iloc[index].prompt + df.iloc[index].A"
   ]
  },
  {
   "cell_type": "code",
   "execution_count": 84,
   "id": "2e8b98f4-45a7-4127-bf3e-d9a9b9c53007",
   "metadata": {
    "tags": []
   },
   "outputs": [
    {
     "data": {
      "text/plain": [
       "id                                                          6\n",
       "prompt      Which of the following statements accurately d...\n",
       "A           The dimension of an object in a CW complex is ...\n",
       "B           The dimension of an object in a CW complex is ...\n",
       "C           The dimension of an object in a CW complex is ...\n",
       "D           The dimension of an object in a CW complex is ...\n",
       "E           The dimension of an object in a CW complex dep...\n",
       "answer                                                      A\n",
       "context     Dimension > Moreover, the boundary of a discre...\n",
       "sim_max                                              0.227938\n",
       "sim_min                                               0.12335\n",
       "sim_mean                                             0.203713\n",
       "sim_std                                              0.027361\n",
       "sim_num                                                    11\n",
       "preds                                                       A\n",
       "Name: 6, dtype: object"
      ]
     },
     "execution_count": 84,
     "metadata": {},
     "output_type": "execute_result"
    }
   ],
   "source": [
    "df.iloc[index]"
   ]
  },
  {
   "cell_type": "code",
   "execution_count": null,
   "id": "65f9d248-589e-444a-9cc3-d631d4d5178d",
   "metadata": {},
   "outputs": [],
   "source": []
  }
 ],
 "metadata": {
  "kernelspec": {
   "display_name": "Python 3 (ipykernel)",
   "language": "python",
   "name": "python3"
  },
  "language_info": {
   "codemirror_mode": {
    "name": "ipython",
    "version": 3
   },
   "file_extension": ".py",
   "mimetype": "text/x-python",
   "name": "python",
   "nbconvert_exporter": "python",
   "pygments_lexer": "ipython3",
   "version": "3.10.12"
  }
 },
 "nbformat": 4,
 "nbformat_minor": 5
}
