{
 "cells": [
  {
   "cell_type": "code",
   "execution_count": 1,
   "id": "7a1be0d0-c283-4cf8-9ff8-0f6aa9f4fdb9",
   "metadata": {
    "tags": []
   },
   "outputs": [
    {
     "name": "stderr",
     "output_type": "stream",
     "text": [
      "/opt/conda/lib/python3.10/site-packages/scipy/__init__.py:146: UserWarning: A NumPy version >=1.16.5 and <1.23.0 is required for this version of SciPy (detected version 1.23.5\n",
      "  warnings.warn(f\"A NumPy version >={np_minversion} and <{np_maxversion}\"\n"
     ]
    }
   ],
   "source": [
    "from __future__ import annotations\n",
    "\n",
    "import ctypes\n",
    "import gc\n",
    "import glob\n",
    "import os\n",
    "import re\n",
    "import sys\n",
    "from pathlib import Path\n",
    "\n",
    "import blingfire as bf\n",
    "import hydra\n",
    "import numpy as np\n",
    "import pandas as pd\n",
    "from faiss import read_index, write_index\n",
    "from hydra.core.hydra_config import HydraConfig\n",
    "from omegaconf import DictConfig, OmegaConf\n",
    "from sentence_transformers import SentenceTransformer\n",
    "from tqdm.auto import tqdm\n",
    "\n",
    "libc = ctypes.CDLL(\"libc.so.6\")\n",
    "sys.path.append(os.pardir)\n",
    "\n",
    "import utils"
   ]
  },
  {
   "cell_type": "code",
   "execution_count": 2,
   "id": "eb5206cb-f05b-491f-a2c3-ee01f8c28b8e",
   "metadata": {
    "tags": []
   },
   "outputs": [],
   "source": [
    "df = pd.read_parquet(\"../input/wikipedia-20230701/b.parquet\")"
   ]
  },
  {
   "cell_type": "code",
   "execution_count": 21,
   "id": "3ce555ba-61c4-45f8-99b6-b74c11a6ef2a",
   "metadata": {
    "tags": []
   },
   "outputs": [],
   "source": [
    "def extract_sections(title: str, text: str) -> list[tuple[str, str]]:\n",
    "    pattern = re.compile(r\"={2,}\\s?(.*?)\\s?={2,}\")\n",
    "    sections = []\n",
    "\n",
    "    matches = list(pattern.finditer(text))\n",
    "    start_idx = 0\n",
    "\n",
    "    for i, match in enumerate(matches):\n",
    "        if i == 0:\n",
    "            end_idx = match.start()\n",
    "            sections.append((title, text[start_idx:end_idx].strip()))\n",
    "\n",
    "        start_idx = match.end()\n",
    "        end_idx = matches[i + 1].start() if i + 1 < len(matches) else len(text)\n",
    "        section = (match.group(1).strip(), text[start_idx:end_idx].strip())\n",
    "        if section[0] not in [\"See also\", \"References\", \"Further reading\", \"External links\"]:\n",
    "            sections.append(section)\n",
    "\n",
    "        start_idx = end_idx\n",
    "\n",
    "    # 空のtextの場合は飛ばす\n",
    "    sections = [section for section in sections if len(section[1].split(\" \")) >= 3]\n",
    "    return sections\n",
    "\n",
    "\n",
    "def compress_and_split_sections(\n",
    "    sections: list[tuple[str, str]], max_sentence_length: int, max_sentence_num: int, filter_len=3\n",
    ") -> list[str]:\n",
    "    # セクション同士を結合する\n",
    "    \n",
    "    # \n",
    "    document_sentences = []\n",
    "    for title, content in sections:\n",
    "        document = f\"{title or 'No Title'}: {content}\" + \"\\n\"\n",
    "        section_sentences = []\n",
    "        try:\n",
    "            _, sentence_offsets = bf.text_to_sentences_and_offsets(document)\n",
    "            for o in sentence_offsets:\n",
    "                if o[1] - o[0] > filter_len:\n",
    "                    sentence = document[o[0] : o[1]]\n",
    "                    section_sentences.append(sentence)\n",
    "        except:\n",
    "            section_sentences = [document]\n",
    "\n",
    "        buffer = \"\"\n",
    "\n",
    "        for text in section_sentences:\n",
    "            if len((buffer + text).split(\" \")) <= max_sentence_length:\n",
    "                buffer += text + \"\\n\"\n",
    "            else:\n",
    "                document_sentences.append(buffer.strip())\n",
    "                buffer = text + \"\\n\"\n",
    "\n",
    "        if buffer:\n",
    "            document_sentences.append(buffer.strip())\n",
    "\n",
    "    # 空のセクションをフィルタリング\n",
    "    sections = [section for section in document_sentences if len(section) > 0]\n",
    "    return sections[:max_sentence_num]"
   ]
  },
  {
   "cell_type": "code",
   "execution_count": 35,
   "id": "828ea0b7-6d0e-4a8c-8c21-28a4c8bf331c",
   "metadata": {
    "tags": []
   },
   "outputs": [
    {
     "name": "stdout",
     "output_type": "stream",
     "text": [
      "B 32 Muthal 44 Vare: B 32 Muthal 44 Vare is 2023 Indian Malayalam-language film written and directed by Shruthi Sharanyam featuring Remya Nambeesan and Anarkali Marikar.\n",
      "\n",
      "Cast: * Remya Nambeesan * Anarkali Marikar * Zarin Shihab * Aswathy Babu * Raina Radhakrishnan * Krisha Kurup * Harish Uthaman * Sajitha Madathil * Sajin Cherukayil\n",
      "\n",
      "Production: ‘Aanandam’ song from the film was released on 29 March 2023.\n",
      "Later teaser and the trailer was released on 5 April 2023.\n",
      "Film got \"U/A\" censored and scheduled to release on 6 April 2023.\n",
      "Film selected for funding by the Kerala State Film Development Corporation (KSFDC) as part of a project launched in 2019-20 to promote women filmmakers.\n",
      "\n",
      "Reception: Anjana George critic of Times of india gave 4 stars out of 5 and stated that \"The film is a pathbreaking celebration for women and a thought provoker for society.\".\n",
      "S.R.Praveen, critic of The Hindu, stated that \"A sensitive, nuanced take on body politics\".\n",
      "Cris critic of The News Minute gave 3.5 stars out 5 and appriciated the film.\n",
      "Vignesh Madhu critc of The New Indian Express stated that \" The title B 32 Muthal 44 Vare, which refers to the bust sizes of women’s innerwear, is apt for this film as it deals with how a woman’s breasts have a telling impact on the course of her life. \"and gave 3 out of 5 rating.\n",
      "Critcs from Mathrubhumi and Indian Express Malayalam gave mixture of review.\n",
      "\n",
      "Awards: * 2022: Padmarajan Award for Best Screenwriter – Shruthi Sharanyam\"എം.മുകുന്ദനും വി.ജെ ജെയിംസിനും പത്മരാജൻ സാഹിത്യ പുരസ്‌കാരം; ചലച്ചിത്ര പുരസ്‌കാരം ലിജോ ജോസ് പെല്ലിശ്ശേരിക്കും ശ്രുതി ശരണ്യത്തിനും\" .\n",
      "DC Books (in Malayalam). 22 May 2023.\n",
      "Retrieved 28 May 2023. * 2022: Kerala Film Critics Association Award for Best Film\n",
      "\n"
     ]
    }
   ],
   "source": [
    "max_sentence_length = 250\n",
    "max_sentence_num = 300\n",
    "\n",
    "row = df.iloc[17]\n",
    "section = extract_sections(row[\"title\"], row[\"text\"])\n",
    "secs = compress_and_split_sections(section, max_sentence_length, max_sentence_num)\n",
    "\n",
    "for sec in secs:\n",
    "    print(sec)\n",
    "    print()"
   ]
  },
  {
   "cell_type": "code",
   "execution_count": 28,
   "id": "ae2c89da-d9c4-42fe-8341-ff2f00f5bab1",
   "metadata": {},
   "outputs": [
    {
     "data": {
      "text/plain": [
       "[('B (Los Angeles Railway)',\n",
       "  'The B was a streetcar line in Los Angeles, California. It was operated by the Los Angeles Railway from 1920 to 1948, originally running from Ramona Boulevard and Miller Street in East Los Angeles to Ascot Avenue and 51st Street.'),\n",
       " ('Brooklyn and Ascot Lines (1895–1911)',\n",
       "  'The first Brooklyn line was built in 1895 by the Los Angeles Consolidated Railway as a horsecar road. It terminated at the intersection of Brooklyn Avenue and Evergreen Avenue. The line was electrified the following year and rerouted downtown. In 1902 the route was bought by the Pacific Electric Railway to be standard gauged, but never was. In 1908, the Brooklyn Avenue Line ran from Arcade Depot to Evergreen Cemetery via 5th Street, Main Street, Macy, Pleasant Avenue, Bridge, and Brooklyn Avenue. Following the Great Merger of 1911, control of the route returned to the Los Angeles Railway. They extended the route north and east along Evergreen and Wabash Avenues to the city limits in 1915.'),\n",
       " ('Expansion and later removal (1911–1949)',\n",
       "  'The line was rerouted on May 9, 1920 and given the letter designation B the following year. Tracks on 9th Street were taken over by the N Line and the remaining service was merged with the Ascot Line, a previously unconnected route which ran by way of Main Street, 12th Street, Hooper Avenue, a private right-of-way alongside the Santa Monica Air Line, and Ascot Avenue. (A section of this, between Adams Boulevard and 41st Street, has since been filled in.) In 1924, rush hour trips were extended northeast along the newly built Harrison Street (later Ramona Boulevard, and later still City Terrace Drive) to Alma Street in East Los Angeles. Completion of the Macy Street Bridge in April 1926 allowed through- routing to Brooklyn Heights. The line began serving Union Station upon its opening in 1939. The final extension of the line was north to City Terrace and Miller Street on March 13, 1931. Streetcars were replaced with trolleybuses on December 5, 1948.')]"
      ]
     },
     "execution_count": 28,
     "metadata": {},
     "output_type": "execute_result"
    }
   ],
   "source": [
    "section"
   ]
  },
  {
   "cell_type": "code",
   "execution_count": null,
   "id": "a5798ff8-0541-45c3-ae94-0dfbbe2e6f19",
   "metadata": {},
   "outputs": [],
   "source": []
  }
 ],
 "metadata": {
  "kernelspec": {
   "display_name": "Python 3 (ipykernel)",
   "language": "python",
   "name": "python3"
  },
  "language_info": {
   "codemirror_mode": {
    "name": "ipython",
    "version": 3
   },
   "file_extension": ".py",
   "mimetype": "text/x-python",
   "name": "python",
   "nbconvert_exporter": "python",
   "pygments_lexer": "ipython3",
   "version": "3.10.12"
  }
 },
 "nbformat": 4,
 "nbformat_minor": 5
}
