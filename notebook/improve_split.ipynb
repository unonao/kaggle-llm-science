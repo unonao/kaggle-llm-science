{
 "cells": [
  {
   "cell_type": "code",
   "execution_count": 1,
   "id": "7a1be0d0-c283-4cf8-9ff8-0f6aa9f4fdb9",
   "metadata": {
    "tags": []
   },
   "outputs": [
    {
     "name": "stderr",
     "output_type": "stream",
     "text": [
      "/opt/conda/lib/python3.10/site-packages/scipy/__init__.py:146: UserWarning: A NumPy version >=1.16.5 and <1.23.0 is required for this version of SciPy (detected version 1.23.5\n",
      "  warnings.warn(f\"A NumPy version >={np_minversion} and <{np_maxversion}\"\n"
     ]
    }
   ],
   "source": [
    "from __future__ import annotations\n",
    "\n",
    "import ctypes\n",
    "import gc\n",
    "import glob\n",
    "import os\n",
    "import re\n",
    "import sys\n",
    "from pathlib import Path\n",
    "\n",
    "import blingfire as bf\n",
    "import hydra\n",
    "import numpy as np\n",
    "import pandas as pd\n",
    "from faiss import read_index, write_index\n",
    "from hydra.core.hydra_config import HydraConfig\n",
    "from omegaconf import DictConfig, OmegaConf\n",
    "from sentence_transformers import SentenceTransformer\n",
    "from tqdm.auto import tqdm\n",
    "\n",
    "libc = ctypes.CDLL(\"libc.so.6\")\n",
    "sys.path.append(os.pardir)\n",
    "\n",
    "import utils"
   ]
  },
  {
   "cell_type": "code",
   "execution_count": 4,
   "id": "eb5206cb-f05b-491f-a2c3-ee01f8c28b8e",
   "metadata": {
    "tags": []
   },
   "outputs": [],
   "source": [
    "df = pd.read_parquet(\"../input/wikipedia-20230701/a.parquet\")"
   ]
  },
  {
   "cell_type": "code",
   "execution_count": 10,
   "id": "3ce555ba-61c4-45f8-99b6-b74c11a6ef2a",
   "metadata": {
    "tags": []
   },
   "outputs": [],
   "source": [
    "def extract_sections(title: str, text: str) -> list[tuple[str, str]]:\n",
    "    pattern = re.compile(r\"={2,}\\s?(.*?)\\s?={2,}\")\n",
    "    sections = []\n",
    "\n",
    "    matches = list(pattern.finditer(text))\n",
    "    start_idx = 0\n",
    "\n",
    "    for i, match in enumerate(matches):\n",
    "        if i == 0:\n",
    "            end_idx = match.start()\n",
    "            sections.append((title, text[start_idx:end_idx].strip()))\n",
    "\n",
    "        start_idx = match.end()\n",
    "        end_idx = matches[i + 1].start() if i + 1 < len(matches) else len(text)\n",
    "        section = (match.group(1).strip(), text[start_idx:end_idx].strip())\n",
    "        if section[0] not in [\"See also\", \"References\", \"Further reading\", \"External links\"]:\n",
    "            sections.append(section)\n",
    "\n",
    "        start_idx = end_idx\n",
    "\n",
    "    return sections\n",
    "\n",
    "\n",
    "def compress_and_split_sections(\n",
    "    sections: list[tuple[str, str]], max_sentence_length: int, max_sentence_num: int, filter_len=3\n",
    ") -> list[str]:\n",
    "    combined_sections = []\n",
    "    document = \"\"\n",
    "    for title, content in sections:\n",
    "        document += f\"{title or 'No Title'}: {content}\" + \"\\n\"\n",
    "    offset = (0, len(document))\n",
    "\n",
    "    document_sentences = []\n",
    "    try:\n",
    "        _, sentence_offsets = bf.text_to_sentences_and_offsets(document)\n",
    "        for o in sentence_offsets:\n",
    "            if o[1] - o[0] > filter_len:\n",
    "                sentence = document[o[0] : o[1]]\n",
    "                abs_offsets = (o[0] + offset[0], o[1] + offset[0])\n",
    "                document_sentences.append(sentence)\n",
    "    except:\n",
    "        document_sentences = [document]\n",
    "\n",
    "    buffer = \"\"\n",
    "\n",
    "    for text in document_sentences:\n",
    "        if len((buffer + text).split(\" \")) <= max_sentence_length:\n",
    "            buffer += text + \"\\n\"\n",
    "        else:\n",
    "            combined_sections.append(buffer.strip())\n",
    "            buffer = text + \"\\n\"\n",
    "\n",
    "    if buffer:\n",
    "        combined_sections.append(buffer.strip())\n",
    "\n",
    "    # 空のセクションをフィルタリング\n",
    "    sections = [section for section in combined_sections if len(section) > 0]\n",
    "    return sections[:max_sentence_num]"
   ]
  },
  {
   "cell_type": "code",
   "execution_count": 13,
   "id": "828ea0b7-6d0e-4a8c-8c21-28a4c8bf331c",
   "metadata": {
    "tags": []
   },
   "outputs": [
    {
     "name": "stdout",
     "output_type": "stream",
     "text": [
      "A & C Black: A & C Black is a British book publishing company, owned since 2002 by Bloomsbury Publishing.\n",
      "The company is noted for publishing Who's Who since 1849 and the Encyclopedia Britannica between 1827 and 1903.\n",
      "It offers a wide variety of books in fiction and nonfiction, and has published popular travel guides, novels, and science books.\n",
      "History: The firm was founded in 1807 by Charles and Adam Black in Edinburgh.\n",
      "In 1851, the company purchased the copyrights to Sir Walter Scott's Waverly novels for £27,000.\n",
      "The company moved to the Soho district of London in 1889.\n",
      "During the years 1827–1903 the firm published the seventh, eighth and ninth editions of the Encyclopædia Britannica.\n",
      "This was purchased from Archibald Constable after his company's failure to publish the seventh edition of the encyclopedia.\n",
      "Adam Black retired in 1870 due to his disapproval of his sons' extravagant plans for its ninth edition.\n",
      "This edition, however, would sell half a million sets and was released in 24 volumes from 1875 to 1889.\n",
      "Beginning in 1839, the firm published a series of travel guides known as Black's Guides.\n",
      "The company was the publisher of the annual Who's Who (since 1849) and also, since 2002, the Whitaker's Almanack.\n",
      "Other notable works include Black's Medical Dictionary and the Know The Game series of sports rules and laws reference books.Know The Game, archive.org. Retrieved 16 April 2017.\n",
      "The firm also published the A. & C. Black Colour Books: Twenty Shilling Series (1901–21),A. & C. Black Colour Books: Twenty Shilling Series, publishinghistory.com. Retrieved on 16 April 2017. a \"range of high-quality colour collectable picture books\"The History of A&C; Black Publishers, archive.org. Retrieved on 16 April 2017. which are still collected by bibliophiles.Cliff Tomaszewski, \"A. & C. Black's 20/- Colour Books\", Stella and Rose's Books.\n",
      "Retrieved 16 April 2017.\n",
      "\n",
      "In 1902 they published P. G. Wodehouse's first book, The Pothunters, and went on to produce many of his early works.\n",
      "In 1989 A & C Black purchased both Christopher Helm Publishers and later the Pica Press, publishers of the Helm Identification Guides, from Christopher Helm.FOB: Firms Out of Business, utexas.edu.\n",
      "Retrieved 16 April 2017.\n",
      "In 2000 A & C Black was purchased by Bloomsbury Publishing Plc, which continued producing the former's range of reference works.\n",
      "In June 2002, T.\n",
      "& A.\n",
      "Poyser and their back-list of around 70 ornithology titles were acquired from Elsevier Science.\n",
      "A & C Black purchased Methuen Drama from Methuen Publishing in 2006, and acquired Arden Shakespeare from Cengage Learning in 2008.\n",
      "In 2016, A & C Black Music list moved to Collins Learning, a division of HarperCollins Publishers Ltd.\n",
      "Notable books: thumb|World maps from A & C Black's 1854 General Atlas Of The World *Black's Medical Dictionary *Whitaker's Almanack *Who's Who *Wisden Cricketers' Almanack *Writers' & Artists' Yearbook\n",
      "Book series: * Artist's Sketch Book Series * Ballet Pocket Series (Newman Wolsey; then: A. & C. Black)Ballet Pocket Series (Newman Wolsey Ltd; then: A. & C. Black) - Book Series List, publishinghistory.com. Retrieved 31 January 2020.\n",
      "* Black's Guides * Black's Junior Reference Books * Black's Novel Librarybibliogroup:Black's Novel Library, Google Books.\n",
      "Retrieved 31 January 2020.\n",
      "* Black's Popular Series of Colour Books * Black's School History * Black's \"Water-colour\" series * Colour Books: The 7s. 6d.\n",
      "Net Series * Colour Books: The 6s.\n",
      "Net Series * Colour Books: The 10s.\n",
      "Net Series * Colour Books: The 20s.\n",
      "Net Series * Dancers of To-day * Ecclesiastical History of England (General Editor: J. C. Dickinson) * The Fascination of LondonSir Walter Besant and G. E. Mitton, The Fascination of London: Holburn and Bloomsbury, London: Adam & Charles Black, 1903 (The Fascination of London series), archive.org. Retrieved 31 January 2020.\n",
      "\n",
      "* Guild Text-books * How-and-Why Series * Know the Game * The Making of the NationsThe Making of the Nations (A. & C. Black) - Book Series List, publishinghistory.com. Retrieved 31 January 2020.\n",
      "* Peeps at Ancient Civilisations * Peeps at Great Cities * Peeps at Great Explorers * Peeps at Great Men * Peeps at Great Railways * Peeps at History * Peeps at Industries * Peeps at Many Lands * Peeps at Nature * Peeps at Nature for Little Children * Peeps for Little People * The Peeps Series (sometimes called: Miscellaneous Peeps series) * Social Life in England\n",
      "Imprints: * Adlard Coles Nautical * Arden Shakespeare * Andrew Brodie Publications * Featherstone * Methuen Drama * T.\n",
      "& A.\n",
      "Poyser * Reeds Almanac * John Wisden & Co\n",
      "\n"
     ]
    }
   ],
   "source": [
    "max_sentence_length = 300\n",
    "max_sentence_num = 10000\n",
    "\n",
    "row = df.iloc[1]\n",
    "section = extract_sections(row[\"title\"], row[\"text\"])\n",
    "secs = compress_and_split_sections(section, max_sentence_length, max_sentence_num)\n",
    "\n",
    "for sec in secs:\n",
    "    print(sec)\n",
    "    print()"
   ]
  },
  {
   "cell_type": "code",
   "execution_count": null,
   "id": "ae2c89da-d9c4-42fe-8341-ff2f00f5bab1",
   "metadata": {},
   "outputs": [],
   "source": []
  }
 ],
 "metadata": {
  "kernelspec": {
   "display_name": "Python 3 (ipykernel)",
   "language": "python",
   "name": "python3"
  },
  "language_info": {
   "codemirror_mode": {
    "name": "ipython",
    "version": 3
   },
   "file_extension": ".py",
   "mimetype": "text/x-python",
   "name": "python",
   "nbconvert_exporter": "python",
   "pygments_lexer": "ipython3",
   "version": "3.10.12"
  }
 },
 "nbformat": 4,
 "nbformat_minor": 5
}
