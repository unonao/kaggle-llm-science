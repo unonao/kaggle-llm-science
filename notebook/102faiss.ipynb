{
 "cells": [
  {
   "cell_type": "code",
   "execution_count": 1,
   "id": "ecba75eb-0b11-4648-963f-52c4f2afa4c8",
   "metadata": {
    "tags": []
   },
   "outputs": [],
   "source": [
    "import gc\n",
    "import glob\n",
    "\n",
    "import faiss\n",
    "import numpy as np\n",
    "import pandas as pd"
   ]
  },
  {
   "cell_type": "code",
   "execution_count": null,
   "id": "fb22a740-ef87-49f6-8ac0-97169963c72b",
   "metadata": {},
   "outputs": [],
   "source": []
  },
  {
   "cell_type": "code",
   "execution_count": 2,
   "id": "71800941-d3fc-4681-a194-2bb0f94e12a2",
   "metadata": {
    "tags": []
   },
   "outputs": [
    {
     "name": "stdout",
     "output_type": "stream",
     "text": [
      "CPU times: user 18.3 s, sys: 25.8 s, total: 44.2 s\n",
      "Wall time: 1min 31s\n"
     ]
    },
    {
     "data": {
      "text/plain": [
       "'\\nembeddings = np.load(all_path)\\n'"
      ]
     },
     "execution_count": 2,
     "metadata": {},
     "output_type": "execute_result"
    }
   ],
   "source": [
    "%%time\n",
    "\n",
    "name = \"101_details\"\n",
    "\n",
    "npy_paths = [path for path in glob.glob(f\"../preprocessed/{name}/000/*.npy\") if \"all\" not in path]\n",
    "npy_paths.sort()\n",
    "embeddings = np.concatenate(\n",
    "    [np.load(path) for path in npy_paths],\n",
    "    axis=0,\n",
    ")\n",
    "gc.collect()\n",
    "embeddings = embeddings.astype(np.float32, copy=False)\n",
    "gc.collect()\n",
    "\n",
    "all_path = f\"../preprocessed/{name}/000/all.npy\"\n",
    "np.save(all_path, embeddings)\n",
    "\n",
    "\"\"\"\n",
    "embeddings = np.load(all_path)\n",
    "\"\"\""
   ]
  },
  {
   "cell_type": "code",
   "execution_count": 3,
   "id": "9e3d8ce1-0fd6-4821-be8f-a2e0a402e768",
   "metadata": {
    "tags": []
   },
   "outputs": [
    {
     "name": "stdout",
     "output_type": "stream",
     "text": [
      "(14402689, 384)\n",
      "20.603211879730225\n"
     ]
    }
   ],
   "source": [
    "gc.collect()\n",
    "print(embeddings.shape)\n",
    "\n",
    "embeddings = embeddings.astype(np.float32, copy=False)\n",
    "print(embeddings.nbytes / (1024**3))"
   ]
  },
  {
   "cell_type": "code",
   "execution_count": 4,
   "id": "84cab9dd-bc91-46db-b5e8-14b33079e054",
   "metadata": {
    "tags": []
   },
   "outputs": [],
   "source": [
    "parquet_paths = [path for path in glob.glob(f\"../preprocessed/{name}/000/*.parquet\") if \"all\" not in path]\n",
    "\n",
    "parquet_paths.sort()\n",
    "\n",
    "dfs = []\n",
    "\n",
    "for path in parquet_paths:\n",
    "    df = pd.read_parquet(path, columns=[\"id\"])\n",
    "    df[\"file\"] = path.split(\"/\")[-1]\n",
    "    dfs.append(df)\n",
    "parquet_df = pd.concat(dfs).reset_index(drop=True)\n",
    "\n",
    "parquet_df.to_parquet(f\"../preprocessed/{name}/000/all.parquet\")"
   ]
  },
  {
   "cell_type": "code",
   "execution_count": 5,
   "id": "0241fd40-e5bb-44f0-af78-3b0908d54356",
   "metadata": {
    "tags": []
   },
   "outputs": [
    {
     "data": {
      "text/plain": [
       "(14402689, 2)"
      ]
     },
     "execution_count": 5,
     "metadata": {},
     "output_type": "execute_result"
    }
   ],
   "source": [
    "parquet_df.shape"
   ]
  },
  {
   "cell_type": "code",
   "execution_count": 6,
   "id": "d849192a-50f8-4dce-a126-0d5901abc0e7",
   "metadata": {
    "tags": []
   },
   "outputs": [],
   "source": [
    "a_df = pd.read_parquet(f\"../preprocessed/{name}/000/a.parquet\")"
   ]
  },
  {
   "cell_type": "markdown",
   "id": "954409e4-0330-4466-b72e-a20b4c102c83",
   "metadata": {},
   "source": [
    "## IVFPQ"
   ]
  },
  {
   "cell_type": "code",
   "execution_count": 7,
   "id": "98f724e9-ea99-40fc-b138-c0d3a182c31b",
   "metadata": {
    "tags": []
   },
   "outputs": [
    {
     "name": "stdout",
     "output_type": "stream",
     "text": [
      "CPU times: user 112 ms, sys: 442 µs, total: 112 ms\n",
      "Wall time: 109 ms\n"
     ]
    }
   ],
   "source": [
    "%%time\n",
    "\n",
    "gc.collect()\n",
    "dim = embeddings.shape[1]\n",
    "nlist = 100\n",
    "n_subquantizer = 64\n",
    "n_bits = 8\n",
    "quantizer = faiss.IndexFlatL2(dim)  # the other index\n",
    "index = faiss.IndexIVFPQ(quantizer, dim, nlist, n_subquantizer, n_bits)"
   ]
  },
  {
   "cell_type": "code",
   "execution_count": 8,
   "id": "01fcf2ed-2e50-427e-84ef-1e497cb58770",
   "metadata": {
    "tags": []
   },
   "outputs": [
    {
     "name": "stdout",
     "output_type": "stream",
     "text": [
      "CPU times: user 345 ms, sys: 2.41 s, total: 2.75 s\n",
      "Wall time: 2.72 s\n"
     ]
    }
   ],
   "source": [
    "%%time\n",
    "res = faiss.StandardGpuResources()  # use a single GPU\n",
    "co = faiss.GpuClonerOptions()\n",
    "co.useFloat16 = True\n",
    "index = faiss.index_cpu_to_gpu(res, 0, index, co)"
   ]
  },
  {
   "cell_type": "code",
   "execution_count": 9,
   "id": "f3e1c08c-720f-4489-a204-c165339effc5",
   "metadata": {
    "tags": []
   },
   "outputs": [
    {
     "name": "stdout",
     "output_type": "stream",
     "text": [
      "CPU times: user 1min 55s, sys: 803 ms, total: 1min 56s\n",
      "Wall time: 15.9 s\n"
     ]
    }
   ],
   "source": [
    "%%time\n",
    "assert not index.is_trained\n",
    "index.train(\n",
    "    embeddings,\n",
    ")\n",
    "assert index.is_trained"
   ]
  },
  {
   "cell_type": "code",
   "execution_count": 10,
   "id": "da8d4c64-7d21-40eb-8859-05672fafffff",
   "metadata": {
    "tags": []
   },
   "outputs": [
    {
     "name": "stdout",
     "output_type": "stream",
     "text": [
      "CPU times: user 15.7 s, sys: 11.7 s, total: 27.4 s\n",
      "Wall time: 27.2 s\n"
     ]
    }
   ],
   "source": [
    "%%time\n",
    "index.add(embeddings)  # add may be a bit slower as well"
   ]
  },
  {
   "cell_type": "markdown",
   "id": "e67cbb1d-7cc5-4cc1-88b9-879fdd497fd7",
   "metadata": {},
   "source": [
    "### 実行時間と性能の簡単な確認"
   ]
  },
  {
   "cell_type": "code",
   "execution_count": 11,
   "id": "6fa97cb4-7f7b-4b81-9487-dfd335e1c1fa",
   "metadata": {
    "tags": []
   },
   "outputs": [
    {
     "name": "stdout",
     "output_type": "stream",
     "text": [
      "[[       0  7136160  2360485 12061259 12061253 11784258 12301836 12061400\n",
      "  10109887  9862356]\n",
      " [       1        2  3462671  1378108  4980957  1367727  4980966  5141363\n",
      "   4980958  1365167]\n",
      " [       2        1  1367727  8026582   776582  1368243  3076910  3098498\n",
      "   5923100 14189452]\n",
      " [       3  6036590 12466612  9307671  9131174 12519668  3131718  2035262\n",
      "   7426598  4161378]\n",
      " [       4  8104083 11874226  2938327  2730488 11047280  3410072  3848985\n",
      "   5072513   111712]\n",
      " [       5 11744447  3118848 14110188  5080844  8464028 13531655  5817207\n",
      "   2901626  7600922]]\n",
      "CPU times: user 4 ms, sys: 11.9 ms, total: 15.9 ms\n",
      "Wall time: 14.3 ms\n"
     ]
    }
   ],
   "source": [
    "%%time\n",
    "k = 10\n",
    "index.nprobe = 1\n",
    "D, I = index.search(embeddings[:6], k)  # actual search\n",
    "print(I[:6])"
   ]
  },
  {
   "cell_type": "code",
   "execution_count": 12,
   "id": "ab4c633d-35e9-496a-ac11-a6ca564d1623",
   "metadata": {
    "tags": []
   },
   "outputs": [
    {
     "name": "stdout",
     "output_type": "stream",
     "text": [
      "[[       0  2399446  1616515  8223953  4873450   836167  7136160 10110068\n",
      "   9860840  2360485]\n",
      " [       1        2  3462671  1378108   134094  4980957  1367727  4980966\n",
      "   5141363  4980958]\n",
      " [       2        1  1367727  8026582   776582  1368243  3076910  3098498\n",
      "   5923100 14189452]\n",
      " [       3  6036590  7279883  7279880 12466612  9307671  9057406  9131174\n",
      "  12519668  3131718]\n",
      " [       4  8104083 11874226  2938327  2637086  2730488  1447962 11047280\n",
      "   3410072  3848985]\n",
      " [       5        6   921020        7 14066914  1621016  2893662 11744447\n",
      "   3118848  8018113]\n",
      " [       6        5    86339   921020 12762945        7  1575131 13957573\n",
      "  12324362  8492551]\n",
      " [       7 10938950  8690291  8492376  8492332  8492321  8492452  8690505\n",
      "  11974965  8688874]\n",
      " [       8  8492519  6995812  1565262  7034554  8689165   788913  8689182\n",
      "  10651259  8492332]\n",
      " [       9 12324265       10  9909667 12325172  7359755  7227377 12957606\n",
      "   7227378  8492525]]\n",
      "CPU times: user 1.53 ms, sys: 8.5 ms, total: 10 ms\n",
      "Wall time: 7.83 ms\n"
     ]
    }
   ],
   "source": [
    "%%time\n",
    "index.nprobe = 10\n",
    "D, I = index.search(embeddings[:10], k)  # actual search\n",
    "print(I[:10])"
   ]
  },
  {
   "cell_type": "code",
   "execution_count": 13,
   "id": "ba05e48f-5b4b-4d67-9bc8-d27d0b7e44f9",
   "metadata": {
    "tags": []
   },
   "outputs": [
    {
     "data": {
      "text/html": [
       "<div>\n",
       "<style scoped>\n",
       "    .dataframe tbody tr th:only-of-type {\n",
       "        vertical-align: middle;\n",
       "    }\n",
       "\n",
       "    .dataframe tbody tr th {\n",
       "        vertical-align: top;\n",
       "    }\n",
       "\n",
       "    .dataframe thead th {\n",
       "        text-align: right;\n",
       "    }\n",
       "</style>\n",
       "<table border=\"1\" class=\"dataframe\">\n",
       "  <thead>\n",
       "    <tr style=\"text-align: right;\">\n",
       "      <th></th>\n",
       "      <th>id</th>\n",
       "      <th>file</th>\n",
       "    </tr>\n",
       "  </thead>\n",
       "  <tbody>\n",
       "    <tr>\n",
       "      <th>0</th>\n",
       "      <td>49495844</td>\n",
       "      <td>a.parquet</td>\n",
       "    </tr>\n",
       "    <tr>\n",
       "      <th>1</th>\n",
       "      <td>3579086</td>\n",
       "      <td>a.parquet</td>\n",
       "    </tr>\n",
       "    <tr>\n",
       "      <th>2</th>\n",
       "      <td>3579086</td>\n",
       "      <td>a.parquet</td>\n",
       "    </tr>\n",
       "    <tr>\n",
       "      <th>3</th>\n",
       "      <td>3579086</td>\n",
       "      <td>a.parquet</td>\n",
       "    </tr>\n",
       "    <tr>\n",
       "      <th>4</th>\n",
       "      <td>62397582</td>\n",
       "      <td>a.parquet</td>\n",
       "    </tr>\n",
       "    <tr>\n",
       "      <th>5</th>\n",
       "      <td>15547032</td>\n",
       "      <td>a.parquet</td>\n",
       "    </tr>\n",
       "    <tr>\n",
       "      <th>6</th>\n",
       "      <td>15547032</td>\n",
       "      <td>a.parquet</td>\n",
       "    </tr>\n",
       "    <tr>\n",
       "      <th>7</th>\n",
       "      <td>15547032</td>\n",
       "      <td>a.parquet</td>\n",
       "    </tr>\n",
       "    <tr>\n",
       "      <th>8</th>\n",
       "      <td>15547032</td>\n",
       "      <td>a.parquet</td>\n",
       "    </tr>\n",
       "    <tr>\n",
       "      <th>9</th>\n",
       "      <td>15547032</td>\n",
       "      <td>a.parquet</td>\n",
       "    </tr>\n",
       "    <tr>\n",
       "      <th>10</th>\n",
       "      <td>15547032</td>\n",
       "      <td>a.parquet</td>\n",
       "    </tr>\n",
       "    <tr>\n",
       "      <th>11</th>\n",
       "      <td>8021609</td>\n",
       "      <td>a.parquet</td>\n",
       "    </tr>\n",
       "    <tr>\n",
       "      <th>12</th>\n",
       "      <td>8021609</td>\n",
       "      <td>a.parquet</td>\n",
       "    </tr>\n",
       "    <tr>\n",
       "      <th>13</th>\n",
       "      <td>28380942</td>\n",
       "      <td>a.parquet</td>\n",
       "    </tr>\n",
       "    <tr>\n",
       "      <th>14</th>\n",
       "      <td>38966582</td>\n",
       "      <td>a.parquet</td>\n",
       "    </tr>\n",
       "  </tbody>\n",
       "</table>\n",
       "</div>"
      ],
      "text/plain": [
       "          id       file\n",
       "0   49495844  a.parquet\n",
       "1    3579086  a.parquet\n",
       "2    3579086  a.parquet\n",
       "3    3579086  a.parquet\n",
       "4   62397582  a.parquet\n",
       "5   15547032  a.parquet\n",
       "6   15547032  a.parquet\n",
       "7   15547032  a.parquet\n",
       "8   15547032  a.parquet\n",
       "9   15547032  a.parquet\n",
       "10  15547032  a.parquet\n",
       "11   8021609  a.parquet\n",
       "12   8021609  a.parquet\n",
       "13  28380942  a.parquet\n",
       "14  38966582  a.parquet"
      ]
     },
     "execution_count": 13,
     "metadata": {},
     "output_type": "execute_result"
    }
   ],
   "source": [
    "parquet_df.head(15)"
   ]
  },
  {
   "cell_type": "code",
   "execution_count": 14,
   "id": "16000a0d-66b9-4ea5-b2aa-efab7721fc4d",
   "metadata": {
    "tags": []
   },
   "outputs": [
    {
     "name": "stdout",
     "output_type": "stream",
     "text": [
      "[[       0  2399446  1616515 ... 10110068  9860840  2360485]\n",
      " [       1        2  3462671 ...  4980966  5141363  4980958]\n",
      " [       2        1  1367727 ...  3098498  5923100 14189452]\n",
      " ...\n",
      " [    9997  2756256 10080710 ...     9998   960129  2756292]\n",
      " [    9998  2756256   720358 ...  2756302   720357   720361]\n",
      " [    9999  2756256  2756258 ...  2288245  2756302 10080712]]\n",
      "CPU times: user 1.41 s, sys: 5.65 s, total: 7.06 s\n",
      "Wall time: 7.06 s\n"
     ]
    }
   ],
   "source": [
    "%%time\n",
    "# 大量に検索する時間\n",
    "index.nprobe = 10  # default nprobe is 1, try a few more\n",
    "D, I = index.search(embeddings[:10000], k)  # actual search\n",
    "print(I)"
   ]
  },
  {
   "cell_type": "code",
   "execution_count": 15,
   "id": "bd9866f2-faf4-4e50-8b1c-5eb1f711c28d",
   "metadata": {
    "tags": []
   },
   "outputs": [
    {
     "name": "stdout",
     "output_type": "stream",
     "text": [
      "CPU times: user 527 ms, sys: 257 ms, total: 784 ms\n",
      "Wall time: 781 ms\n"
     ]
    }
   ],
   "source": [
    "%%time\n",
    "cpu_index = faiss.index_gpu_to_cpu(index)"
   ]
  },
  {
   "cell_type": "code",
   "execution_count": 16,
   "id": "ec48120a-eadf-4866-861f-be065a4456b4",
   "metadata": {
    "tags": []
   },
   "outputs": [
    {
     "name": "stdout",
     "output_type": "stream",
     "text": [
      "[[       0  7136160  2360485 ... 12061400 10109887  9862356]\n",
      " [       1        2  3462671 ...  5141363  4980958  1365167]\n",
      " [       2        1  1367727 ...  3098498  5923100 14189452]\n",
      " ...\n",
      " [     997      991  3398729 ...      996  3398735  3398697]\n",
      " [     998  4442885  5083123 ...  6868668 13231187 13237271]\n",
      " [     999  7893775  7989197 ...  7723576  7899020  7989198]]\n",
      "CPU times: user 19.2 s, sys: 1.94 ms, total: 19.2 s\n",
      "Wall time: 1.28 s\n"
     ]
    }
   ],
   "source": [
    "%%time\n",
    "cpu_index.nprobe = 1  # default nprobe is 1, try a few more\n",
    "D, I = cpu_index.search(embeddings[: 10000 // 10], k)  # actual search\n",
    "print(I)"
   ]
  },
  {
   "cell_type": "code",
   "execution_count": 17,
   "id": "1f261eb3-da89-419c-aac8-caf5c50e63d3",
   "metadata": {
    "tags": []
   },
   "outputs": [],
   "source": [
    "cpu_index = faiss.index_gpu_to_cpu(index)\n",
    "faiss.write_index(cpu_index, f\"../preprocessed/{name}/000/ivfpq_100_64_8.index\")"
   ]
  },
  {
   "cell_type": "code",
   "execution_count": 18,
   "id": "25bce829-2fa4-45c2-b864-f854be5296f3",
   "metadata": {
    "tags": []
   },
   "outputs": [
    {
     "data": {
      "text/plain": [
       "0"
      ]
     },
     "execution_count": 18,
     "metadata": {},
     "output_type": "execute_result"
    }
   ],
   "source": [
    "# メモリ解放\n",
    "del index\n",
    "del cpu_index\n",
    "res.noTempMemory()\n",
    "gc.collect()"
   ]
  },
  {
   "cell_type": "code",
   "execution_count": null,
   "id": "1c467e22-d2e5-49a2-9c9d-a6bf53ff95c0",
   "metadata": {
    "tags": []
   },
   "outputs": [],
   "source": []
  },
  {
   "cell_type": "code",
   "execution_count": null,
   "id": "a72676cb-5d63-418a-a2a8-d6bdc31959f5",
   "metadata": {},
   "outputs": [],
   "source": []
  },
  {
   "cell_type": "code",
   "execution_count": null,
   "id": "29da7390-26e2-4633-93c0-d83b863b63cc",
   "metadata": {},
   "outputs": [],
   "source": []
  },
  {
   "cell_type": "code",
   "execution_count": null,
   "id": "9528b886-2b74-4ee4-b039-e92440fb7572",
   "metadata": {},
   "outputs": [],
   "source": []
  }
 ],
 "metadata": {
  "kernelspec": {
   "display_name": "Python 3 (ipykernel)",
   "language": "python",
   "name": "python3"
  },
  "language_info": {
   "codemirror_mode": {
    "name": "ipython",
    "version": 3
   },
   "file_extension": ".py",
   "mimetype": "text/x-python",
   "name": "python",
   "nbconvert_exporter": "python",
   "pygments_lexer": "ipython3",
   "version": "3.10.12"
  }
 },
 "nbformat": 4,
 "nbformat_minor": 5
}
