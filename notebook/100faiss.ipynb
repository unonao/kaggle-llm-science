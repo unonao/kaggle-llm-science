{
 "cells": [
  {
   "cell_type": "code",
   "execution_count": 1,
   "id": "ecba75eb-0b11-4648-963f-52c4f2afa4c8",
   "metadata": {
    "tags": []
   },
   "outputs": [],
   "source": [
    "import gc\n",
    "import glob\n",
    "\n",
    "import faiss\n",
    "import numpy as np\n",
    "import pandas as pd"
   ]
  },
  {
   "cell_type": "code",
   "execution_count": 2,
   "id": "71800941-d3fc-4681-a194-2bb0f94e12a2",
   "metadata": {
    "tags": []
   },
   "outputs": [
    {
     "name": "stdout",
     "output_type": "stream",
     "text": [
      "CPU times: user 27.2 s, sys: 26.1 s, total: 53.4 s\n",
      "Wall time: 2min 8s\n"
     ]
    },
    {
     "data": {
      "text/plain": [
       "'\\nembeddings = np.load(all_path)\\n'"
      ]
     },
     "execution_count": 2,
     "metadata": {},
     "output_type": "execute_result"
    }
   ],
   "source": [
    "%%time\n",
    "npy_paths = [path for path in glob.glob(\"../preprocessed/100_embedding/000/*.npy\") if \"all\" not in path]\n",
    "npy_paths.sort()\n",
    "embeddings = np.concatenate(\n",
    "    [np.load(path) for path in npy_paths],\n",
    "    axis=0,\n",
    ")\n",
    "gc.collect()\n",
    "embeddings = embeddings.astype(np.float32, copy=False)\n",
    "gc.collect()\n",
    "\n",
    "all_path = \"../preprocessed/100_embedding/000/all.npy\"\n",
    "np.save(all_path, embeddings)\n",
    "\n",
    "\"\"\"\n",
    "embeddings = np.load(all_path)\n",
    "\"\"\""
   ]
  },
  {
   "cell_type": "code",
   "execution_count": 3,
   "id": "9e3d8ce1-0fd6-4821-be8f-a2e0a402e768",
   "metadata": {
    "tags": []
   },
   "outputs": [
    {
     "name": "stdout",
     "output_type": "stream",
     "text": [
      "22.87635898590088\n",
      "(15991734, 384)\n",
      "22.87635898590088\n"
     ]
    }
   ],
   "source": [
    "gc.collect()\n",
    "print(embeddings.nbytes / (1024**3))\n",
    "\n",
    "print(embeddings.shape)\n",
    "\n",
    "embeddings = embeddings.astype(np.float32, copy=False)\n",
    "print(embeddings.nbytes / (1024**3))"
   ]
  },
  {
   "cell_type": "code",
   "execution_count": 4,
   "id": "84cab9dd-bc91-46db-b5e8-14b33079e054",
   "metadata": {
    "tags": []
   },
   "outputs": [],
   "source": [
    "parquet_paths = [path for path in glob.glob(\"../preprocessed/100_embedding/000/*.parquet\") if \"all\" not in path]\n",
    "\n",
    "parquet_paths.sort()\n",
    "\n",
    "dfs = []\n",
    "\n",
    "for path in parquet_paths:\n",
    "    df = pd.read_parquet(path, columns=[\"id\"])\n",
    "    df[\"file\"] = path.split(\"/\")[-1]\n",
    "    dfs.append(df)\n",
    "parquet_df = pd.concat(dfs).reset_index(drop=True)\n",
    "\n",
    "parquet_df.to_parquet(\"../preprocessed/100_embedding/000/all.parquet\")"
   ]
  },
  {
   "cell_type": "code",
   "execution_count": 5,
   "id": "0241fd40-e5bb-44f0-af78-3b0908d54356",
   "metadata": {
    "tags": []
   },
   "outputs": [
    {
     "data": {
      "text/plain": [
       "(15991734, 2)"
      ]
     },
     "execution_count": 5,
     "metadata": {},
     "output_type": "execute_result"
    }
   ],
   "source": [
    "parquet_df.shape"
   ]
  },
  {
   "cell_type": "code",
   "execution_count": 6,
   "id": "d849192a-50f8-4dce-a126-0d5901abc0e7",
   "metadata": {
    "tags": []
   },
   "outputs": [],
   "source": [
    "a_df = pd.read_parquet(\"../preprocessed/100_embedding/000/a.parquet\")"
   ]
  },
  {
   "cell_type": "markdown",
   "id": "954409e4-0330-4466-b72e-a20b4c102c83",
   "metadata": {},
   "source": [
    "## IVFPQ"
   ]
  },
  {
   "cell_type": "code",
   "execution_count": 7,
   "id": "98f724e9-ea99-40fc-b138-c0d3a182c31b",
   "metadata": {
    "tags": []
   },
   "outputs": [
    {
     "name": "stdout",
     "output_type": "stream",
     "text": [
      "CPU times: user 103 ms, sys: 0 ns, total: 103 ms\n",
      "Wall time: 102 ms\n"
     ]
    }
   ],
   "source": [
    "%%time\n",
    "\n",
    "gc.collect()\n",
    "dim = embeddings.shape[1]\n",
    "nlist = 100\n",
    "n_subquantizer = 64\n",
    "n_bits = 8\n",
    "quantizer = faiss.IndexFlatL2(dim)  # the other index\n",
    "index = faiss.IndexIVFPQ(quantizer, dim, nlist, n_subquantizer, n_bits)"
   ]
  },
  {
   "cell_type": "code",
   "execution_count": 8,
   "id": "01fcf2ed-2e50-427e-84ef-1e497cb58770",
   "metadata": {
    "tags": []
   },
   "outputs": [
    {
     "name": "stdout",
     "output_type": "stream",
     "text": [
      "CPU times: user 127 ms, sys: 2.55 s, total: 2.67 s\n",
      "Wall time: 2.65 s\n"
     ]
    }
   ],
   "source": [
    "%%time\n",
    "res = faiss.StandardGpuResources()  # use a single GPU\n",
    "co = faiss.GpuClonerOptions()\n",
    "co.useFloat16 = True\n",
    "index = faiss.index_cpu_to_gpu(res, 0, index, co)"
   ]
  },
  {
   "cell_type": "code",
   "execution_count": 9,
   "id": "f3e1c08c-720f-4489-a204-c165339effc5",
   "metadata": {
    "tags": []
   },
   "outputs": [
    {
     "name": "stdout",
     "output_type": "stream",
     "text": [
      "CPU times: user 52.5 s, sys: 0 ns, total: 52.5 s\n",
      "Wall time: 15.2 s\n"
     ]
    }
   ],
   "source": [
    "%%time\n",
    "assert not index.is_trained\n",
    "index.train(\n",
    "    embeddings,\n",
    ")\n",
    "assert index.is_trained"
   ]
  },
  {
   "cell_type": "code",
   "execution_count": 10,
   "id": "da8d4c64-7d21-40eb-8859-05672fafffff",
   "metadata": {
    "tags": []
   },
   "outputs": [
    {
     "name": "stdout",
     "output_type": "stream",
     "text": [
      "CPU times: user 17.5 s, sys: 11.7 s, total: 29.2 s\n",
      "Wall time: 29.1 s\n"
     ]
    }
   ],
   "source": [
    "%%time\n",
    "index.add(embeddings)  # add may be a bit slower as well"
   ]
  },
  {
   "cell_type": "markdown",
   "id": "e67cbb1d-7cc5-4cc1-88b9-879fdd497fd7",
   "metadata": {},
   "source": [
    "### 実行時間と性能の簡単な確認"
   ]
  },
  {
   "cell_type": "code",
   "execution_count": 11,
   "id": "6fa97cb4-7f7b-4b81-9487-dfd335e1c1fa",
   "metadata": {
    "tags": []
   },
   "outputs": [
    {
     "name": "stdout",
     "output_type": "stream",
     "text": [
      "[[       0  2664772  1794577  1794580  1794584  9080806  1794582  9265231\n",
      "  11239431  3239991]\n",
      " [       1  5512648   212285        2 14232048  5497787 14231392  1514687\n",
      "  14231170 14231163]\n",
      " [       2  1528834 12505410  1531294  1524962  5512648        1  3931942\n",
      "   1517411 15622389]\n",
      " [       3 14648592   718660  5389434   868484  6615637  2258850 14399810\n",
      "   2936709 12619090]\n",
      " [       4  5218866  6603728  4705914  4665079 15701430   449083  3694397\n",
      "   6165892 12756823]\n",
      " [       5  5366892  1553758  2673413  9374517  6492238  4463322  8053988\n",
      "   8971065  6217212]]\n",
      "CPU times: user 1.78 ms, sys: 4.81 ms, total: 6.58 ms\n",
      "Wall time: 3.9 ms\n"
     ]
    }
   ],
   "source": [
    "%%time\n",
    "k = 10\n",
    "index.nprobe = 1\n",
    "D, I = index.search(embeddings[:6], k)  # actual search\n",
    "print(I[:6])"
   ]
  },
  {
   "cell_type": "code",
   "execution_count": 12,
   "id": "ab4c633d-35e9-496a-ac11-a6ca564d1623",
   "metadata": {
    "tags": []
   },
   "outputs": [
    {
     "name": "stdout",
     "output_type": "stream",
     "text": [
      "[[       0  2664772  1794577  1794580  1794584  9080806  1794582  9265231\n",
      "  11239431  3239991]\n",
      " [       1  5512648   212285        2 14232048  5497787 14231392  1514687\n",
      "  14383889 14231398]\n",
      " [       2  1528834 12505410   149575  1531294  1524962  5512648        1\n",
      "   3931942 14231398]\n",
      " [       3  3939877 14648592   718660 12619088  5389434   868484  6615637\n",
      "   2258850  6724068]\n",
      " [       4 15412221  5218866  6603728  4705914  4665079 15701430   449083\n",
      "   3694397  6165892]\n",
      " [       5  5366892  1553758  2673413  9374517  6492238  4463322  8053988\n",
      "   8971065  6217212]\n",
      " [       6 15651448  1606433  1374536  1643661  8945823  1935421   609982\n",
      "  14537710  3578084]\n",
      " [       7        8        9       10  1053456  4544113  4537453 13810074\n",
      "   4950121  3933272]\n",
      " [       8  3468295  5617516 11228705 15620037 13782158 15620038 13466617\n",
      "  15503259  8131415]\n",
      " [       9 14901787 13701537 13308628  9917590  4457404  2224673  4920265\n",
      "  15746954 13064564]]\n",
      "CPU times: user 2.85 ms, sys: 8.11 ms, total: 11 ms\n",
      "Wall time: 9.06 ms\n"
     ]
    }
   ],
   "source": [
    "%%time\n",
    "index.nprobe = 10\n",
    "D, I = index.search(embeddings[:10], k)  # actual search\n",
    "print(I[:10])"
   ]
  },
  {
   "cell_type": "code",
   "execution_count": 13,
   "id": "ba05e48f-5b4b-4d67-9bc8-d27d0b7e44f9",
   "metadata": {
    "tags": []
   },
   "outputs": [
    {
     "data": {
      "text/html": [
       "<div>\n",
       "<style scoped>\n",
       "    .dataframe tbody tr th:only-of-type {\n",
       "        vertical-align: middle;\n",
       "    }\n",
       "\n",
       "    .dataframe tbody tr th {\n",
       "        vertical-align: top;\n",
       "    }\n",
       "\n",
       "    .dataframe thead th {\n",
       "        text-align: right;\n",
       "    }\n",
       "</style>\n",
       "<table border=\"1\" class=\"dataframe\">\n",
       "  <thead>\n",
       "    <tr style=\"text-align: right;\">\n",
       "      <th></th>\n",
       "      <th>id</th>\n",
       "      <th>file</th>\n",
       "    </tr>\n",
       "  </thead>\n",
       "  <tbody>\n",
       "    <tr>\n",
       "      <th>0</th>\n",
       "      <td>49495844</td>\n",
       "      <td>a.parquet</td>\n",
       "    </tr>\n",
       "    <tr>\n",
       "      <th>1</th>\n",
       "      <td>3579086</td>\n",
       "      <td>a.parquet</td>\n",
       "    </tr>\n",
       "    <tr>\n",
       "      <th>2</th>\n",
       "      <td>3579086</td>\n",
       "      <td>a.parquet</td>\n",
       "    </tr>\n",
       "    <tr>\n",
       "      <th>3</th>\n",
       "      <td>3579086</td>\n",
       "      <td>a.parquet</td>\n",
       "    </tr>\n",
       "    <tr>\n",
       "      <th>4</th>\n",
       "      <td>3579086</td>\n",
       "      <td>a.parquet</td>\n",
       "    </tr>\n",
       "    <tr>\n",
       "      <th>5</th>\n",
       "      <td>3579086</td>\n",
       "      <td>a.parquet</td>\n",
       "    </tr>\n",
       "    <tr>\n",
       "      <th>6</th>\n",
       "      <td>62397582</td>\n",
       "      <td>a.parquet</td>\n",
       "    </tr>\n",
       "    <tr>\n",
       "      <th>7</th>\n",
       "      <td>15547032</td>\n",
       "      <td>a.parquet</td>\n",
       "    </tr>\n",
       "    <tr>\n",
       "      <th>8</th>\n",
       "      <td>15547032</td>\n",
       "      <td>a.parquet</td>\n",
       "    </tr>\n",
       "    <tr>\n",
       "      <th>9</th>\n",
       "      <td>15547032</td>\n",
       "      <td>a.parquet</td>\n",
       "    </tr>\n",
       "    <tr>\n",
       "      <th>10</th>\n",
       "      <td>15547032</td>\n",
       "      <td>a.parquet</td>\n",
       "    </tr>\n",
       "    <tr>\n",
       "      <th>11</th>\n",
       "      <td>15547032</td>\n",
       "      <td>a.parquet</td>\n",
       "    </tr>\n",
       "    <tr>\n",
       "      <th>12</th>\n",
       "      <td>15547032</td>\n",
       "      <td>a.parquet</td>\n",
       "    </tr>\n",
       "    <tr>\n",
       "      <th>13</th>\n",
       "      <td>8021609</td>\n",
       "      <td>a.parquet</td>\n",
       "    </tr>\n",
       "    <tr>\n",
       "      <th>14</th>\n",
       "      <td>8021609</td>\n",
       "      <td>a.parquet</td>\n",
       "    </tr>\n",
       "  </tbody>\n",
       "</table>\n",
       "</div>"
      ],
      "text/plain": [
       "          id       file\n",
       "0   49495844  a.parquet\n",
       "1    3579086  a.parquet\n",
       "2    3579086  a.parquet\n",
       "3    3579086  a.parquet\n",
       "4    3579086  a.parquet\n",
       "5    3579086  a.parquet\n",
       "6   62397582  a.parquet\n",
       "7   15547032  a.parquet\n",
       "8   15547032  a.parquet\n",
       "9   15547032  a.parquet\n",
       "10  15547032  a.parquet\n",
       "11  15547032  a.parquet\n",
       "12  15547032  a.parquet\n",
       "13   8021609  a.parquet\n",
       "14   8021609  a.parquet"
      ]
     },
     "execution_count": 13,
     "metadata": {},
     "output_type": "execute_result"
    }
   ],
   "source": [
    "parquet_df.head(15)"
   ]
  },
  {
   "cell_type": "code",
   "execution_count": 14,
   "id": "16000a0d-66b9-4ea5-b2aa-efab7721fc4d",
   "metadata": {
    "tags": []
   },
   "outputs": [
    {
     "name": "stdout",
     "output_type": "stream",
     "text": [
      "[[       0  2664772  1794577 ...  9265231 11239431  3239991]\n",
      " [       1  5512648   212285 ...  1514687 14383889 14231398]\n",
      " [       2  1528834 12505410 ...        1  3931942 14231398]\n",
      " ...\n",
      " [    9997 14284738  8200788 ... 13596032  2814030  5560265]\n",
      " [    9998 14262067     9999 ...  1611181 14361650 14272446]\n",
      " [    9999  5589678     9996 ... 14419966 14317346 14048873]]\n",
      "CPU times: user 1.08 s, sys: 5.44 s, total: 6.52 s\n",
      "Wall time: 6.52 s\n"
     ]
    }
   ],
   "source": [
    "%%time\n",
    "# 大量に検索する時間\n",
    "index.nprobe = 10  # default nprobe is 1, try a few more\n",
    "D, I = index.search(embeddings[:10000], k)  # actual search\n",
    "print(I)"
   ]
  },
  {
   "cell_type": "code",
   "execution_count": 15,
   "id": "bd9866f2-faf4-4e50-8b1c-5eb1f711c28d",
   "metadata": {
    "tags": []
   },
   "outputs": [
    {
     "name": "stdout",
     "output_type": "stream",
     "text": [
      "CPU times: user 613 ms, sys: 315 ms, total: 928 ms\n",
      "Wall time: 925 ms\n"
     ]
    }
   ],
   "source": [
    "%%time\n",
    "cpu_index = faiss.index_gpu_to_cpu(index)"
   ]
  },
  {
   "cell_type": "code",
   "execution_count": 16,
   "id": "ec48120a-eadf-4866-861f-be065a4456b4",
   "metadata": {
    "tags": []
   },
   "outputs": [
    {
     "name": "stdout",
     "output_type": "stream",
     "text": [
      "[[       0  2664772  1794577 ...  9265231 11239431  3239991]\n",
      " [       1  5512648   212285 ...  1514687 14231170 14231163]\n",
      " [       2  1528834 12505410 ...  3931942  1517411 15622389]\n",
      " ...\n",
      " [     997 15563287 14386251 ... 11765040 14396443 14386253]\n",
      " [     998 13594819  8134431 ...  5955552  3125639  3362304]\n",
      " [     999  7294470 12081759 ...  5197967 13594449 14352346]]\n",
      "CPU times: user 15.3 s, sys: 0 ns, total: 15.3 s\n",
      "Wall time: 2.09 s\n"
     ]
    }
   ],
   "source": [
    "%%time\n",
    "cpu_index.nprobe = 1  # default nprobe is 1, try a few more\n",
    "D, I = cpu_index.search(embeddings[: 10000 // 10], k)  # actual search\n",
    "print(I)"
   ]
  },
  {
   "cell_type": "code",
   "execution_count": 17,
   "id": "1f261eb3-da89-419c-aac8-caf5c50e63d3",
   "metadata": {
    "tags": []
   },
   "outputs": [],
   "source": [
    "cpu_index = faiss.index_gpu_to_cpu(index)\n",
    "faiss.write_index(cpu_index, \"../preprocessed/100_embedding/000/ivfpq_100_64_8.index\")"
   ]
  },
  {
   "cell_type": "code",
   "execution_count": 18,
   "id": "25bce829-2fa4-45c2-b864-f854be5296f3",
   "metadata": {
    "tags": []
   },
   "outputs": [
    {
     "data": {
      "text/plain": [
       "0"
      ]
     },
     "execution_count": 18,
     "metadata": {},
     "output_type": "execute_result"
    }
   ],
   "source": [
    "# メモリ解放\n",
    "del index\n",
    "del cpu_index\n",
    "res.noTempMemory()\n",
    "gc.collect()"
   ]
  },
  {
   "cell_type": "code",
   "execution_count": null,
   "id": "1c467e22-d2e5-49a2-9c9d-a6bf53ff95c0",
   "metadata": {
    "tags": []
   },
   "outputs": [],
   "source": []
  },
  {
   "cell_type": "code",
   "execution_count": null,
   "id": "a72676cb-5d63-418a-a2a8-d6bdc31959f5",
   "metadata": {},
   "outputs": [],
   "source": []
  },
  {
   "cell_type": "code",
   "execution_count": null,
   "id": "29da7390-26e2-4633-93c0-d83b863b63cc",
   "metadata": {},
   "outputs": [],
   "source": []
  },
  {
   "cell_type": "code",
   "execution_count": null,
   "id": "9528b886-2b74-4ee4-b039-e92440fb7572",
   "metadata": {},
   "outputs": [],
   "source": []
  }
 ],
 "metadata": {
  "kernelspec": {
   "display_name": "Python 3 (ipykernel)",
   "language": "python",
   "name": "python3"
  },
  "language_info": {
   "codemirror_mode": {
    "name": "ipython",
    "version": 3
   },
   "file_extension": ".py",
   "mimetype": "text/x-python",
   "name": "python",
   "nbconvert_exporter": "python",
   "pygments_lexer": "ipython3",
   "version": "3.10.12"
  }
 },
 "nbformat": 4,
 "nbformat_minor": 5
}
