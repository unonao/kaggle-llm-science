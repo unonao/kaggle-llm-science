{
 "cells": [
  {
   "cell_type": "code",
   "execution_count": 7,
   "id": "3d784ea5-d975-4a10-8acd-079c575661de",
   "metadata": {
    "tags": []
   },
   "outputs": [
    {
     "name": "stdout",
     "output_type": "stream",
     "text": [
      "/tmp/working\n"
     ]
    },
    {
     "data": {
      "text/plain": [
       "'/tmp/working'"
      ]
     },
     "execution_count": 7,
     "metadata": {},
     "output_type": "execute_result"
    }
   ],
   "source": [
    "%cd ..\n",
    "%pwd"
   ]
  },
  {
   "cell_type": "code",
   "execution_count": 8,
   "id": "f42ce70a-8c96-464c-a943-4e470ce5e989",
   "metadata": {
    "tags": []
   },
   "outputs": [
    {
     "name": "stderr",
     "output_type": "stream",
     "text": [
      "/opt/conda/lib/python3.10/site-packages/scipy/__init__.py:146: UserWarning: A NumPy version >=1.16.5 and <1.23.0 is required for this version of SciPy (detected version 1.23.5\n",
      "  warnings.warn(f\"A NumPy version >={np_minversion} and <{np_maxversion}\"\n"
     ]
    }
   ],
   "source": [
    "import os\n",
    "import sys\n",
    "from dataclasses import dataclass\n",
    "from pathlib import Path\n",
    "from typing import Optional, Union\n",
    "\n",
    "import numpy as np\n",
    "import pandas as pd\n",
    "import torch\n",
    "from datasets import Dataset\n",
    "from hydra import compose, initialize\n",
    "from omegaconf import OmegaConf\n",
    "from transformers import (\n",
    "    AutoModel,\n",
    "    AutoModelForMultipleChoice,\n",
    "    AutoTokenizer,\n",
    "    EarlyStoppingCallback,\n",
    "    Trainer,\n",
    "    TrainingArguments,\n",
    ")\n",
    "from transformers.tokenization_utils_base import PaddingStrategy, PreTrainedTokenizerBase\n",
    "\n",
    "import wandb\n",
    "\n",
    "sys.path.append(os.pardir)\n",
    "\n",
    "import utils"
   ]
  },
  {
   "cell_type": "code",
   "execution_count": 9,
   "id": "325340e9-e569-4616-b4ed-48d62f684589",
   "metadata": {
    "tags": []
   },
   "outputs": [
    {
     "name": "stdout",
     "output_type": "stream",
     "text": [
      "debug: ${debug}\n",
      "seed: 7\n",
      "early_stopping_patience: 3\n",
      "training_args:\n",
      "  fp16: true\n",
      "  warmup_ratio: 0.8\n",
      "  learning_rate: 5.0e-06\n",
      "  weight_decay: 0.01\n",
      "  dataloader_num_workers: 8\n",
      "  per_device_train_batch_size: 1\n",
      "  per_device_eval_batch_size: 1\n",
      "  num_train_epochs: 30\n",
      "  logging_strategy: epoch\n",
      "  evaluation_strategy: epoch\n",
      "  save_strategy: epoch\n",
      "  metric_for_best_model: map@3\n",
      "  save_total_limit: 1\n",
      "  load_best_model_at_end: true\n",
      "  report_to: wandb\n",
      "  output_dir: output/ipykernel_launcher/000\n",
      "  seed: ${..seed}\n",
      "  gradient_accumulation_steps: 4\n",
      "max_length: 100\n",
      "model_name: microsoft/deberta-v3-large\n",
      "sep_token:\n",
      "- SEP\n",
      "additional_data_paths:\n",
      "- preprocessed/001/000/6000_train_examples.csv\n",
      "- preprocessed/001/000/extra_train_set.csv\n",
      "- preprocessed/001/000/15k_gpt3.5-turbo.csv\n",
      "- preprocessed/001/000/5900_examples.csv\n",
      "- preprocessed/001/000/test.csv\n",
      "- preprocessed/001/000/stem_1k_v1.csv\n",
      "valid_data_paths:\n",
      "  preprocessed/001/000/train.csv: 200\n",
      "  preprocessed/001/000/6000_all_categories_questions.csv: 200\n",
      "  preprocessed/001/000/6000_wiki_en_sci_questions.csv: 400\n",
      "\n"
     ]
    }
   ],
   "source": [
    "with initialize(version_base=None, config_path=\"../yamls\"):\n",
    "    c = compose(config_name=\"config\", overrides=[\"exp=006/001\"], return_hydra_config=True)\n",
    "    cfg = c.exp\n",
    "    runtime_choices = c.hydra.runtime.choices\n",
    "    exp_name = f\"{Path(sys.argv[0]).stem}/{runtime_choices.check}\"\n",
    "    output_path = Path(f\"./output/{exp_name}\")  #\n",
    "    cfg.training_args.output_dir = str(output_path)\n",
    "    print(OmegaConf.to_yaml(cfg))\n",
    "\n",
    "\n",
    "utils.seed_everything(cfg.seed)\n",
    "\n",
    "wandb.init(\n",
    "    project=\"kaggle-llm-science-holdout\",\n",
    "    name=exp_name,\n",
    "    mode=\"disabled\",  # \"online\" if cfg.debug is False else \"disabled\",\n",
    "    config=OmegaConf.to_container(cfg),\n",
    ")\n",
    "\n",
    "os.makedirs(output_path, exist_ok=True)"
   ]
  },
  {
   "cell_type": "code",
   "execution_count": 10,
   "id": "f8ff7e3b-c8a9-484c-80c0-7cc80efa8678",
   "metadata": {
    "tags": []
   },
   "outputs": [],
   "source": [
    "valid_data_paths = {\n",
    "    \"preprocessed/001/000/train.csv\": 200,\n",
    "    # \"preprocessed/001/000/6000_all_categories_questions.csv\": 200,\n",
    "    \"preprocessed/001/000/6000_wiki_en_sci_questions.csv\": 2000,\n",
    "}"
   ]
  },
  {
   "cell_type": "code",
   "execution_count": 11,
   "id": "6bb10c9c-4e4d-49d2-ab50-da478ab44ab0",
   "metadata": {
    "tags": []
   },
   "outputs": [
    {
     "data": {
      "text/plain": [
       "(2200, 8)"
      ]
     },
     "execution_count": 11,
     "metadata": {},
     "output_type": "execute_result"
    }
   ],
   "source": [
    "df_valid = pd.concat([pd.read_csv(path).head(num) for path, num in valid_data_paths.items()])\n",
    "df_valid = df_valid.drop(columns=\"id\")\n",
    "df_valid.shape"
   ]
  },
  {
   "cell_type": "code",
   "execution_count": 12,
   "id": "258d194c-f11e-496a-99b3-3ead54127fdd",
   "metadata": {
    "tags": []
   },
   "outputs": [],
   "source": [
    "df_valid[\"prompt_with_context\"] = (\n",
    "    df_valid[\"context\"].apply(lambda x: \" \".join(x.split()[: cfg.max_length]))\n",
    "    + f\"... {cfg.sep_token} \"\n",
    "    + df_valid[\"prompt\"]\n",
    ")"
   ]
  },
  {
   "cell_type": "code",
   "execution_count": 13,
   "id": "cef6c337-b9f0-4968-9d41-73078a9d01ca",
   "metadata": {
    "tags": []
   },
   "outputs": [],
   "source": [
    "@dataclass\n",
    "class DataCollatorForMultipleChoice:\n",
    "    tokenizer: PreTrainedTokenizerBase\n",
    "    padding: Union[bool, str, PaddingStrategy] = True\n",
    "    max_length: Optional[int] = None\n",
    "    pad_to_multiple_of: Optional[int] = None\n",
    "\n",
    "    def __call__(self, features):\n",
    "        label_name = \"label\" if \"label\" in features[0].keys() else \"labels\"\n",
    "        labels = [feature.pop(label_name) for feature in features]\n",
    "        batch_size = len(features)\n",
    "        num_choices = len(features[0][\"input_ids\"])\n",
    "        flattened_features = [\n",
    "            [{k: v[i] for k, v in feature.items()} for i in range(num_choices)] for feature in features\n",
    "        ]\n",
    "        flattened_features = sum(flattened_features, [])\n",
    "\n",
    "        batch = self.tokenizer.pad(\n",
    "            flattened_features,\n",
    "            padding=self.padding,\n",
    "            max_length=self.max_length,\n",
    "            pad_to_multiple_of=self.pad_to_multiple_of,\n",
    "            return_tensors=\"pt\",\n",
    "        )\n",
    "        batch = {k: v.view(batch_size, num_choices, -1) for k, v in batch.items()}\n",
    "        batch[\"labels\"] = torch.tensor(labels, dtype=torch.int64)\n",
    "        return batch"
   ]
  },
  {
   "cell_type": "code",
   "execution_count": 14,
   "id": "dda859b0-8a79-4a5f-ab55-b681f7031aec",
   "metadata": {
    "tags": []
   },
   "outputs": [
    {
     "name": "stderr",
     "output_type": "stream",
     "text": [
      "Special tokens have been added in the vocabulary, make sure the associated word embeddings are fine-tuned or trained.\n",
      "/opt/conda/lib/python3.10/site-packages/transformers/convert_slow_tokenizer.py:454: UserWarning: The sentencepiece tokenizer that you are converting to a fast tokenizer uses the byte fallback option which is not implemented in the fast tokenizers. In practice this means that the fast version of the tokenizer can produce unknown tokens whereas the sentencepiece version would have converted these unknown tokens into a sequence of byte tokens matching the original piece of text.\n",
      "  warnings.warn(\n",
      "Special tokens have been added in the vocabulary, make sure the associated word embeddings are fine-tuned or trained.\n"
     ]
    }
   ],
   "source": [
    "tokenizer = AutoTokenizer.from_pretrained(cfg.model_name)\n",
    "\n",
    "dataset_valid = Dataset.from_pandas(df_valid)"
   ]
  },
  {
   "cell_type": "code",
   "execution_count": 15,
   "id": "ec22c20e-c643-4d88-87ce-f3dbbe34e1f0",
   "metadata": {
    "tags": []
   },
   "outputs": [],
   "source": [
    "option_to_index = {option: idx for idx, option in enumerate(\"ABCDE\")}\n",
    "index_to_option = {v: k for k, v in option_to_index.items()}\n",
    "\n",
    "\n",
    "def preprocess(example):\n",
    "    first_sentence = [example[\"prompt_with_context\"]] * 5\n",
    "    second_sentences = [example[option] for option in \"ABCDE\"]\n",
    "    tokenized_example = tokenizer(first_sentence, second_sentences, truncation=False)\n",
    "    tokenized_example[\"label\"] = option_to_index[example[\"answer\"]]\n",
    "\n",
    "    return tokenized_example"
   ]
  },
  {
   "cell_type": "code",
   "execution_count": 16,
   "id": "18e9810f-ce98-4152-ab6f-427d2474e286",
   "metadata": {
    "tags": []
   },
   "outputs": [
    {
     "data": {
      "application/vnd.jupyter.widget-view+json": {
       "model_id": "c2c420827ce243528076c953a8402c69",
       "version_major": 2,
       "version_minor": 0
      },
      "text/plain": [
       "Map:   0%|          | 0/2200 [00:00<?, ? examples/s]"
      ]
     },
     "metadata": {},
     "output_type": "display_data"
    }
   ],
   "source": [
    "# https://www.kaggle.com/code/philippsinger/h2ogpt-perplexity-ranking\n",
    "def precision_at_k(r, k):\n",
    "    \"\"\"Precision at k\"\"\"\n",
    "    assert k <= len(r)\n",
    "    assert k != 0\n",
    "    return sum(int(x) for x in r[:k]) / k\n",
    "\n",
    "\n",
    "def map_k(true_items, predictions, K=3):\n",
    "    \"\"\"Score is mean average precision at 3\"\"\"\n",
    "    U = len(predictions)\n",
    "    map_at_k = 0.0\n",
    "    for u in range(U):\n",
    "        user_preds = predictions[u]\n",
    "        user_true = true_items[u]\n",
    "        user_results = [1 if item == user_true else 0 for item in user_preds]\n",
    "        for k in range(min(len(user_preds), K)):\n",
    "            map_at_k += precision_at_k(user_results, k + 1) * user_results[k]\n",
    "    return map_at_k / U\n",
    "\n",
    "\n",
    "import numpy as np\n",
    "\n",
    "\n",
    "def predictions_to_map_output(predictions):\n",
    "    sorted_answer_indices = np.argsort(-predictions)  # Sortting indices in descending order\n",
    "    top_answer_indices = sorted_answer_indices[:, :]  # Taking the first three indices for each row\n",
    "    top_answers = np.vectorize(index_to_option.get)(\n",
    "        top_answer_indices\n",
    "    )  # Transforming indices to options - i.e., 0 --> A\n",
    "    return np.apply_along_axis(lambda row: \" \".join(row), 1, top_answers)\n",
    "\n",
    "\n",
    "tokenized_test_ds = dataset_valid.map(\n",
    "    preprocess, batched=False, remove_columns=[\"prompt_with_context\", \"prompt\", \"A\", \"B\", \"C\", \"D\", \"E\", \"answer\"]\n",
    ")"
   ]
  },
  {
   "cell_type": "code",
   "execution_count": 17,
   "id": "0d759149-6f26-40b8-95fc-fb2e1d63d0c4",
   "metadata": {
    "tags": []
   },
   "outputs": [],
   "source": [
    "model_name = \"output/006_add_valid/001/checkpoint-87040\"\n",
    "\n",
    "model = AutoModelForMultipleChoice.from_pretrained(model_name)\n",
    "\n",
    "args = TrainingArguments(output_dir=\".\", per_device_eval_batch_size=1)\n",
    "\n",
    "trainer = Trainer(\n",
    "    model=model,\n",
    "    tokenizer=tokenizer,\n",
    "    data_collator=DataCollatorForMultipleChoice(tokenizer=tokenizer),\n",
    "    args=args,\n",
    ")"
   ]
  },
  {
   "cell_type": "code",
   "execution_count": null,
   "id": "07bdb650-81fd-47da-ac43-98c942588f9b",
   "metadata": {
    "tags": []
   },
   "outputs": [
    {
     "name": "stderr",
     "output_type": "stream",
     "text": [
      "You're using a DebertaV2TokenizerFast tokenizer. Please note that with a fast tokenizer, using the `__call__` method is faster than using a method to encode the text followed by a call to the `pad` method to get a padded encoding.\n"
     ]
    },
    {
     "data": {
      "text/html": [
       "\n",
       "    <div>\n",
       "      \n",
       "      <progress value='1888' max='2200' style='width:300px; height:20px; vertical-align: middle;'></progress>\n",
       "      [1888/2200 02:31 < 00:24, 12.48 it/s]\n",
       "    </div>\n",
       "    "
      ],
      "text/plain": [
       "<IPython.core.display.HTML object>"
      ]
     },
     "metadata": {},
     "output_type": "display_data"
    }
   ],
   "source": [
    "test_predictions = trainer.predict(tokenized_test_ds).predictions"
   ]
  },
  {
   "cell_type": "code",
   "execution_count": null,
   "id": "025f1855-275e-4465-a0c6-51a41dfacf24",
   "metadata": {
    "tags": []
   },
   "outputs": [],
   "source": [
    "result_dict = {\n",
    "    \"old_map@3\": map_k(df_valid[\"answer\"].head(200).to_numpy(), predictions_to_map_output(test_predictions[:200, :])),\n",
    "    \"new_map@3\": map_k(df_valid[\"answer\"].to_numpy(), predictions_to_map_output(test_predictions)),\n",
    "}\n",
    "\n",
    "print(result_dict)"
   ]
  },
  {
   "cell_type": "code",
   "execution_count": null,
   "id": "a80dd413-1877-4c4a-9704-7ae1efe2c1bd",
   "metadata": {},
   "outputs": [],
   "source": []
  },
  {
   "cell_type": "code",
   "execution_count": null,
   "id": "56de8d29-3212-4613-9c21-41650a6ca552",
   "metadata": {},
   "outputs": [],
   "source": []
  }
 ],
 "metadata": {
  "kernelspec": {
   "display_name": "Python 3 (ipykernel)",
   "language": "python",
   "name": "python3"
  },
  "language_info": {
   "codemirror_mode": {
    "name": "ipython",
    "version": 3
   },
   "file_extension": ".py",
   "mimetype": "text/x-python",
   "name": "python",
   "nbconvert_exporter": "python",
   "pygments_lexer": "ipython3",
   "version": "3.10.12"
  }
 },
 "nbformat": 4,
 "nbformat_minor": 5
}
